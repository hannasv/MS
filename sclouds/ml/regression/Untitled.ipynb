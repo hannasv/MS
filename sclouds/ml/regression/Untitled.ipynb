{
 "cells": [
  {
   "cell_type": "code",
   "execution_count": 1,
   "metadata": {},
   "outputs": [],
   "source": [
    "import glob\n",
    "import numpy as np\n",
    "import xarray as xr"
   ]
  },
  {
   "cell_type": "code",
   "execution_count": 2,
   "metadata": {},
   "outputs": [],
   "source": [
    "from sklearn.preprocessing import StandardScaler"
   ]
  },
  {
   "cell_type": "code",
   "execution_count": 3,
   "metadata": {},
   "outputs": [
    {
     "name": "stderr",
     "output_type": "stream",
     "text": [
      "/home/hanna/anaconda3/envs/final/lib/python3.7/site-packages/ipykernel_launcher.py:2: FutureWarning: In xarray version 0.15 the default behaviour of `open_mfdataset`\n",
      "will change. To retain the existing behavior, pass\n",
      "combine='nested'. To use future default behavior, pass\n",
      "combine='by_coords'. See\n",
      "http://xarray.pydata.org/en/stable/combining.html#combining-multi\n",
      "\n",
      "  \n",
      "/home/hanna/anaconda3/envs/final/lib/python3.7/site-packages/xarray/backends/api.py:941: FutureWarning: The datasets supplied have global dimension coordinates. You may want\n",
      "to use the new `combine_by_coords` function (or the\n",
      "`combine='by_coords'` option to `open_mfdataset`) to order the datasets\n",
      "before concatenation. Alternatively, to continue concatenating based\n",
      "on the order the datasets are supplied in future, please use the new\n",
      "`combine_nested` function (or the `combine='nested'` option to\n",
      "open_mfdataset).The datasets supplied require both concatenation and merging. From\n",
      "xarray version 0.15 this will operation will require either using the\n",
      "new `combine_nested` function (or the `combine='nested'` option to\n",
      "open_mfdataset), with a nested list structure such that you can combine\n",
      "along the dimensions None. Alternatively if your datasets have global\n",
      "dimension coordinates then you can use the new `combine_by_coords`\n",
      "function.\n",
      "  from_openmfds=True,\n"
     ]
    }
   ],
   "source": [
    "test_files = glob.glob('/home/hanna/lagrings/ERA5_monthly/*2012*01*.nc')\n",
    "data = xr.open_mfdataset(test_files, compat='no_conflicts')"
   ]
  },
  {
   "cell_type": "code",
   "execution_count": 4,
   "metadata": {},
   "outputs": [],
   "source": [
    "subset = data.sel(latitude = 32, longitude = 0.0)"
   ]
  },
  {
   "cell_type": "code",
   "execution_count": 5,
   "metadata": {},
   "outputs": [
    {
     "name": "stdout",
     "output_type": "stream",
     "text": [
      "Warning.. Using pgf backend, no GUI available. use plt.savefig() for inpection\n"
     ]
    }
   ],
   "source": [
    "from timeit import default_timer as timer\n",
    "\n",
    "from sclouds.ml.regression.utils import (mean_squared_error, r2_score, fit_pixel,\n",
    "                                         predict_pixel,\n",
    "                                         accumulated_squared_error,\n",
    "                                         sigmoid, inverse_sigmoid)\n",
    "\n",
    "from sclouds.ml.regression.utils import (dataset_to_numpy, dataset_to_numpy_order,\n",
    "                                         dataset_to_numpy_order_traditional_ar,\n",
    "                                         dataset_to_numpy_grid_order,\n",
    "                                         dataset_to_numpy_grid,\n",
    "                                         get_xarray_dataset_for_period,\n",
    "                                         get_list_of_files_excluding_period,\n",
    "                                         get_list_of_files,\n",
    "                                         get_list_of_files_excluding_period_traditional_model,\n",
    "                                         get_list_of_files_traditional_model)\n",
    "\n",
    "#sys.path.insert(0,'/uio/hume/student-u89/hannasv/MS/sclouds/')\n",
    "from sclouds.helpers import (merge, get_list_of_variables_in_ds,\n",
    "                             get_pixel_from_ds, path_input, path_ar_results)"
   ]
  },
  {
   "cell_type": "code",
   "execution_count": 27,
   "metadata": {},
   "outputs": [],
   "source": [
    "bias = False \n",
    "order = 4\n",
    "type = 'ar'\n",
    "\n",
    "def get_X_and_y(dataset):\n",
    "    \"\"\"Returns X and y based on a dataset. \"\"\"\n",
    "    if type == 'ar':\n",
    "        if order > 0:\n",
    "            X, y = dataset_to_numpy_order(dataset, order, bias = bias)\n",
    "        else:\n",
    "            X, y  = dataset_to_numpy(dataset, bias = bias)\n",
    "    else:\n",
    "        X, y = dataset_to_numpy_order_traditional_ar(\n",
    "                                dataset, order = order, bias = bias)\n",
    "    return X, y"
   ]
  },
  {
   "cell_type": "code",
   "execution_count": 28,
   "metadata": {},
   "outputs": [],
   "source": [
    "X, y = get_X_and_y(subset)"
   ]
  },
  {
   "cell_type": "code",
   "execution_count": 29,
   "metadata": {},
   "outputs": [
    {
     "data": {
      "text/plain": [
       "((740, 8), (740, 1))"
      ]
     },
     "execution_count": 29,
     "metadata": {},
     "output_type": "execute_result"
    }
   ],
   "source": [
    "X.shape, y.shape"
   ]
  },
  {
   "cell_type": "markdown",
   "metadata": {},
   "source": [
    "# Models"
   ]
  },
  {
   "cell_type": "code",
   "execution_count": 30,
   "metadata": {},
   "outputs": [
    {
     "data": {
      "text/plain": [
       "array([[-1.06385409e+00],\n",
       "       [ 5.63842080e-03],\n",
       "       [ 1.71302057e-03],\n",
       "       [-1.78400538e-05],\n",
       "       [ 7.78543894e-01],\n",
       "       [ 2.12529080e-02],\n",
       "       [ 4.33246411e-02],\n",
       "       [ 5.14919505e-02]])"
      ]
     },
     "execution_count": 30,
     "metadata": {},
     "output_type": "execute_result"
    }
   ],
   "source": [
    "coeff = fit_pixel(X, y)\n",
    "coeff"
   ]
  },
  {
   "cell_type": "markdown",
   "metadata": {},
   "source": [
    "# bias plus env variables"
   ]
  },
  {
   "cell_type": "code",
   "execution_count": 31,
   "metadata": {},
   "outputs": [
    {
     "data": {
      "text/plain": [
       "array([[-2.61769794e+00],\n",
       "       [ 5.88383638e-03],\n",
       "       [ 1.81425707e-03],\n",
       "       [-1.85719874e-05],\n",
       "       [ 7.82849196e-01],\n",
       "       [ 2.24803970e-02],\n",
       "       [ 8.42678577e-02]])"
      ]
     },
     "execution_count": 31,
     "metadata": {},
     "output_type": "execute_result"
    }
   ],
   "source": [
    "coeff = fit_pixel(X[:, :-1], y)\n",
    "coeff"
   ]
  },
  {
   "cell_type": "markdown",
   "metadata": {},
   "source": [
    "## Only enviornmental variables. "
   ]
  },
  {
   "cell_type": "code",
   "execution_count": 32,
   "metadata": {},
   "outputs": [
    {
     "data": {
      "text/plain": [
       "array([[ 5.55005623e-03],\n",
       "       [ 1.68034962e-03],\n",
       "       [-1.75866669e-05],\n",
       "       [ 7.83026789e-01],\n",
       "       [ 2.24940122e-02],\n",
       "       [ 8.47918468e-02]])"
      ]
     },
     "execution_count": 32,
     "metadata": {},
     "output_type": "execute_result"
    }
   ],
   "source": [
    "coeff = fit_pixel(X[:, 1:-1], y)\n",
    "coeff"
   ]
  },
  {
   "cell_type": "markdown",
   "metadata": {},
   "source": [
    "# Traditional AR-model "
   ]
  },
  {
   "cell_type": "code",
   "execution_count": 33,
   "metadata": {},
   "outputs": [
    {
     "data": {
      "text/plain": [
       "array([[0.79297021]])"
      ]
     },
     "execution_count": 33,
     "metadata": {},
     "output_type": "execute_result"
    }
   ],
   "source": [
    "coeff = fit_pixel(X[:, -1, np.newaxis], y)\n",
    "coeff"
   ]
  },
  {
   "cell_type": "markdown",
   "metadata": {},
   "source": [
    "# Problem with this is that is doesnt include different amounts of samples for different numbers of order.\n",
    "## Need to remove rows with nans after removing sumbset."
   ]
  },
  {
   "cell_type": "code",
   "execution_count": null,
   "metadata": {},
   "outputs": [],
   "source": []
  },
  {
   "cell_type": "code",
   "execution_count": null,
   "metadata": {},
   "outputs": [],
   "source": []
  }
 ],
 "metadata": {
  "kernelspec": {
   "display_name": "Python 3",
   "language": "python",
   "name": "python3"
  },
  "language_info": {
   "codemirror_mode": {
    "name": "ipython",
    "version": 3
   },
   "file_extension": ".py",
   "mimetype": "text/x-python",
   "name": "python",
   "nbconvert_exporter": "python",
   "pygments_lexer": "ipython3",
   "version": "3.7.6"
  }
 },
 "nbformat": 4,
 "nbformat_minor": 4
}
