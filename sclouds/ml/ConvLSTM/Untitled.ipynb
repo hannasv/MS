{
 "cells": [
  {
   "cell_type": "code",
   "execution_count": 2,
   "metadata": {},
   "outputs": [],
   "source": [
    "import glob\n",
    "import os\n",
    "\n",
    "import xarray as xr\n",
    "import numpy as np"
   ]
  },
  {
   "cell_type": "code",
   "execution_count": 6,
   "metadata": {},
   "outputs": [],
   "source": [
    "var = 'tcc'\n",
    "year = 2004\n",
    "month = 3 \n",
    "#month = '%2.2d'%month\n",
    "\n",
    "search_str = '{}_*_{}.nc'.format(year, var)\n",
    "\n",
    "base = '/home/hanna/lagrings'\n",
    "read_folder = 'ERA5_monthly'\n",
    "\n",
    "folder = os.path.join(base, read_folder)\n",
    "files  = glob.glob(os.path.join(folder, search_str))"
   ]
  },
  {
   "cell_type": "code",
   "execution_count": 7,
   "metadata": {},
   "outputs": [
    {
     "data": {
      "text/plain": [
       "['/home/hanna/lagrings/ERA5_monthly/2004_04_tcc.nc',\n",
       " '/home/hanna/lagrings/ERA5_monthly/2004_05_tcc.nc',\n",
       " '/home/hanna/lagrings/ERA5_monthly/2004_06_tcc.nc',\n",
       " '/home/hanna/lagrings/ERA5_monthly/2004_07_tcc.nc',\n",
       " '/home/hanna/lagrings/ERA5_monthly/2004_08_tcc.nc',\n",
       " '/home/hanna/lagrings/ERA5_monthly/2004_09_tcc.nc',\n",
       " '/home/hanna/lagrings/ERA5_monthly/2004_10_tcc.nc',\n",
       " '/home/hanna/lagrings/ERA5_monthly/2004_11_tcc.nc',\n",
       " '/home/hanna/lagrings/ERA5_monthly/2004_12_tcc.nc']"
      ]
     },
     "execution_count": 7,
     "metadata": {},
     "output_type": "execute_result"
    }
   ],
   "source": [
    "files"
   ]
  },
  {
   "cell_type": "code",
   "execution_count": 9,
   "metadata": {},
   "outputs": [],
   "source": [
    "data = [xr.open_dataset(fil) for fil in files]"
   ]
  },
  {
   "cell_type": "code",
   "execution_count": null,
   "metadata": {},
   "outputs": [],
   "source": [
    "merg = xr.merge(data, 'equals')"
   ]
  },
  {
   "cell_type": "code",
   "execution_count": null,
   "metadata": {},
   "outputs": [],
   "source": [
    "merg"
   ]
  },
  {
   "cell_type": "code",
   "execution_count": null,
   "metadata": {},
   "outputs": [],
   "source": []
  },
  {
   "cell_type": "code",
   "execution_count": null,
   "metadata": {},
   "outputs": [],
   "source": []
  },
  {
   "cell_type": "code",
   "execution_count": null,
   "metadata": {},
   "outputs": [],
   "source": []
  },
  {
   "cell_type": "code",
   "execution_count": null,
   "metadata": {},
   "outputs": [],
   "source": []
  },
  {
   "cell_type": "code",
   "execution_count": null,
   "metadata": {},
   "outputs": [],
   "source": []
  },
  {
   "cell_type": "code",
   "execution_count": null,
   "metadata": {},
   "outputs": [],
   "source": []
  },
  {
   "cell_type": "code",
   "execution_count": null,
   "metadata": {},
   "outputs": [],
   "source": []
  },
  {
   "cell_type": "code",
   "execution_count": null,
   "metadata": {},
   "outputs": [],
   "source": []
  }
 ],
 "metadata": {
  "kernelspec": {
   "display_name": "Python 3",
   "language": "python",
   "name": "python3"
  },
  "language_info": {
   "codemirror_mode": {
    "name": "ipython",
    "version": 3
   },
   "file_extension": ".py",
   "mimetype": "text/x-python",
   "name": "python",
   "nbconvert_exporter": "python",
   "pygments_lexer": "ipython3",
   "version": "3.7.3"
  }
 },
 "nbformat": 4,
 "nbformat_minor": 4
}
