{
 "cells": [
  {
   "cell_type": "markdown",
   "metadata": {},
   "source": [
    "# Hyperparam tuning "
   ]
  },
  {
   "cell_type": "code",
   "execution_count": 5,
   "metadata": {},
   "outputs": [],
   "source": [
    "import tensorflow as tf\n",
    "import tensorflow.keras as keras\n",
    "from kerastuner.tuners import RandomSearch"
   ]
  },
  {
   "cell_type": "code",
   "execution_count": 15,
   "metadata": {},
   "outputs": [],
   "source": [
    "import numpy as np"
   ]
  },
  {
   "cell_type": "code",
   "execution_count": 6,
   "metadata": {},
   "outputs": [],
   "source": [
    "# Import som hyperparam tuning from some file "
   ]
  },
  {
   "cell_type": "markdown",
   "metadata": {},
   "source": [
    "## EXAMPLE : \n",
    "here hp is some hyperparam setting."
   ]
  },
  {
   "cell_type": "code",
   "execution_count": 7,
   "metadata": {},
   "outputs": [],
   "source": [
    "def build_model(hp):\n",
    "    model = keras.Sequential()\n",
    "    model.add(layers.Dense(units=hp.Int('units',\n",
    "                                        min_value=32,\n",
    "                                        max_value=512,\n",
    "                                        step=32),\n",
    "                           activation='relu'))\n",
    "    model.add(layers.Dense(10, activation='softmax'))\n",
    "    model.compile(\n",
    "        optimizer=keras.optimizers.Adam(\n",
    "            hp.Choice('learning_rate',\n",
    "                      values=[1e-2, 1e-3, 1e-4])),\n",
    "        loss='sparse_categorical_crossentropy',\n",
    "        metrics=['accuracy'])\n",
    "    return model"
   ]
  },
  {
   "cell_type": "code",
   "execution_count": 9,
   "metadata": {},
   "outputs": [],
   "source": [
    "tuner = RandomSearch(build_model,\n",
    "                    objective='val_accuracy',\n",
    "                    max_trials=5,\n",
    "                    executions_per_trial=3,\n",
    "                    directory='my_dir',\n",
    "                    project_name='helloworld')"
   ]
  },
  {
   "cell_type": "code",
   "execution_count": 12,
   "metadata": {},
   "outputs": [
    {
     "data": {
      "text/html": [
       "<span style=\"color:#4527A0\"><h1 style=\"font-size:18px\">Search space summary</h1></span>"
      ],
      "text/plain": [
       "<IPython.core.display.HTML object>"
      ]
     },
     "metadata": {},
     "output_type": "display_data"
    },
    {
     "data": {
      "text/html": [
       "<span style=\"color:cyan\"> |-Default search space size: 2</span>"
      ],
      "text/plain": [
       "<IPython.core.display.HTML object>"
      ]
     },
     "metadata": {},
     "output_type": "display_data"
    },
    {
     "data": {
      "text/html": [
       "<span style=\"color:#7E57C2\"><h2 style=\"font-size:16px\">units (Int)</h2></span>"
      ],
      "text/plain": [
       "<IPython.core.display.HTML object>"
      ]
     },
     "metadata": {},
     "output_type": "display_data"
    },
    {
     "data": {
      "text/html": [
       "<span style=\"color:cyan\"> |-default: None</span>"
      ],
      "text/plain": [
       "<IPython.core.display.HTML object>"
      ]
     },
     "metadata": {},
     "output_type": "display_data"
    },
    {
     "data": {
      "text/html": [
       "<span style=\"color:blue\"> |-max_value: 512</span>"
      ],
      "text/plain": [
       "<IPython.core.display.HTML object>"
      ]
     },
     "metadata": {},
     "output_type": "display_data"
    },
    {
     "data": {
      "text/html": [
       "<span style=\"color:cyan\"> |-min_value: 32</span>"
      ],
      "text/plain": [
       "<IPython.core.display.HTML object>"
      ]
     },
     "metadata": {},
     "output_type": "display_data"
    },
    {
     "data": {
      "text/html": [
       "<span style=\"color:blue\"> |-sampling: None</span>"
      ],
      "text/plain": [
       "<IPython.core.display.HTML object>"
      ]
     },
     "metadata": {},
     "output_type": "display_data"
    },
    {
     "data": {
      "text/html": [
       "<span style=\"color:cyan\"> |-step: 32</span>"
      ],
      "text/plain": [
       "<IPython.core.display.HTML object>"
      ]
     },
     "metadata": {},
     "output_type": "display_data"
    },
    {
     "data": {
      "text/html": [
       "<span style=\"color:#7E57C2\"><h2 style=\"font-size:16px\">learning_rate (Choice)</h2></span>"
      ],
      "text/plain": [
       "<IPython.core.display.HTML object>"
      ]
     },
     "metadata": {},
     "output_type": "display_data"
    },
    {
     "data": {
      "text/html": [
       "<span style=\"color:cyan\"> |-default: 0.01</span>"
      ],
      "text/plain": [
       "<IPython.core.display.HTML object>"
      ]
     },
     "metadata": {},
     "output_type": "display_data"
    },
    {
     "data": {
      "text/html": [
       "<span style=\"color:blue\"> |-ordered: True</span>"
      ],
      "text/plain": [
       "<IPython.core.display.HTML object>"
      ]
     },
     "metadata": {},
     "output_type": "display_data"
    },
    {
     "data": {
      "text/html": [
       "<span style=\"color:cyan\"> |-values: [0.01, 0.001, 0.0001]</span>"
      ],
      "text/plain": [
       "<IPython.core.display.HTML object>"
      ]
     },
     "metadata": {},
     "output_type": "display_data"
    }
   ],
   "source": [
    "tuner.search_space_summary()"
   ]
  },
  {
   "cell_type": "code",
   "execution_count": 18,
   "metadata": {},
   "outputs": [],
   "source": [
    "x = np.random.randint(low = 0, high = 10, size = 100)\n",
    "y = np.random.randint(low = 0, high = 10, size = 100)\n",
    "\n",
    "val_x = np.random.randint(low = 0, high = 10, size = 50)\n",
    "val_y = np.random.randint(low = 0, high = 10, size = 50)"
   ]
  },
  {
   "cell_type": "code",
   "execution_count": null,
   "metadata": {},
   "outputs": [],
   "source": []
  },
  {
   "cell_type": "code",
   "execution_count": 19,
   "metadata": {},
   "outputs": [
    {
     "name": "stdout",
     "output_type": "stream",
     "text": [
      "Train on 100 samples, validate on 50 samples\n",
      "Epoch 1/5\n",
      "100/100 [==============================] - ETA: 0s - loss: 2.5835 - accuracy: 0.15 - 0s 4ms/sample - loss: 2.5422 - accuracy: 0.1100 - val_loss: 2.5893 - val_accuracy: 0.0400\n",
      "Epoch 2/5\n",
      "100/100 [==============================] - ETA: 0s - loss: 2.5086 - accuracy: 0.06 - 0s 268us/sample - loss: 2.4812 - accuracy: 0.0900 - val_loss: 2.5474 - val_accuracy: 0.0400\n",
      "Epoch 3/5\n",
      "100/100 [==============================] - ETA: 0s - loss: 2.3846 - accuracy: 0.09 - 0s 320us/sample - loss: 2.4312 - accuracy: 0.0900 - val_loss: 2.5137 - val_accuracy: 0.0400\n",
      "Epoch 4/5\n",
      "100/100 [==============================] - ETA: 0s - loss: 2.4030 - accuracy: 0.03 - 0s 275us/sample - loss: 2.3960 - accuracy: 0.0900 - val_loss: 2.4845 - val_accuracy: 0.0400\n",
      "Epoch 5/5\n",
      "100/100 [==============================] - ETA: 0s - loss: 2.4095 - accuracy: 0.09 - 0s 307us/sample - loss: 2.3654 - accuracy: 0.0900 - val_loss: 2.4627 - val_accuracy: 0.0400\n",
      "Train on 100 samples, validate on 50 samples\n",
      "Epoch 1/5\n",
      "100/100 [==============================] - ETA: 0s - loss: 2.5080 - accuracy: 0.06 - 0s 4ms/sample - loss: 2.3987 - accuracy: 0.0900 - val_loss: 2.6169 - val_accuracy: 0.0600\n",
      "Epoch 2/5\n",
      "100/100 [==============================] - ETA: 0s - loss: 2.2663 - accuracy: 0.12 - 0s 237us/sample - loss: 2.3672 - accuracy: 0.0900 - val_loss: 2.6065 - val_accuracy: 0.0600\n",
      "Epoch 3/5\n",
      "100/100 [==============================] - ETA: 0s - loss: 2.3045 - accuracy: 0.06 - 0s 403us/sample - loss: 2.3516 - accuracy: 0.1100 - val_loss: 2.5778 - val_accuracy: 0.1200\n",
      "Epoch 4/5\n",
      "100/100 [==============================] - ETA: 0s - loss: 2.3647 - accuracy: 0.21 - 0s 307us/sample - loss: 2.3391 - accuracy: 0.1500 - val_loss: 2.5586 - val_accuracy: 0.0600\n",
      "Epoch 5/5\n",
      "100/100 [==============================] - ETA: 0s - loss: 2.3162 - accuracy: 0.06 - 0s 338us/sample - loss: 2.3249 - accuracy: 0.1700 - val_loss: 2.5434 - val_accuracy: 0.0600\n",
      "Train on 100 samples, validate on 50 samples\n",
      "Epoch 1/5\n",
      "100/100 [==============================] - ETA: 0s - loss: 2.5988 - accuracy: 0.09 - 0s 4ms/sample - loss: 2.4012 - accuracy: 0.1600 - val_loss: 2.6224 - val_accuracy: 0.0600\n",
      "Epoch 2/5\n",
      "100/100 [==============================] - ETA: 0s - loss: 2.2756 - accuracy: 0.15 - 0s 217us/sample - loss: 2.3558 - accuracy: 0.1800 - val_loss: 2.5855 - val_accuracy: 0.0600\n",
      "Epoch 3/5\n",
      "100/100 [==============================] - ETA: 0s - loss: 2.3998 - accuracy: 0.18 - 0s 353us/sample - loss: 2.3357 - accuracy: 0.1800 - val_loss: 2.5469 - val_accuracy: 0.0600\n",
      "Epoch 4/5\n",
      "100/100 [==============================] - ETA: 0s - loss: 2.3963 - accuracy: 0.12 - 0s 262us/sample - loss: 2.3192 - accuracy: 0.1800 - val_loss: 2.5147 - val_accuracy: 0.0600\n",
      "Epoch 5/5\n",
      "100/100 [==============================] - ETA: 0s - loss: 2.3597 - accuracy: 0.15 - 0s 281us/sample - loss: 2.3034 - accuracy: 0.1800 - val_loss: 2.4870 - val_accuracy: 0.0600\n"
     ]
    },
    {
     "data": {
      "text/html": [
       "<span style=\"color:#4527A0\"><h1 style=\"font-size:18px\">Trial complete</h1></span>"
      ],
      "text/plain": [
       "<IPython.core.display.HTML object>"
      ]
     },
     "metadata": {},
     "output_type": "display_data"
    },
    {
     "data": {
      "text/html": [
       "<span style=\"color:#4527A0\"><h1 style=\"font-size:18px\">Trial summary</h1></span>"
      ],
      "text/plain": [
       "<IPython.core.display.HTML object>"
      ]
     },
     "metadata": {},
     "output_type": "display_data"
    },
    {
     "data": {
      "text/html": [
       "<span style=\"color:#7E57C2\"><h2 style=\"font-size:16px\">Hp values:</h2></span>"
      ],
      "text/plain": [
       "<IPython.core.display.HTML object>"
      ]
     },
     "metadata": {},
     "output_type": "display_data"
    },
    {
     "data": {
      "text/html": [
       "<span style=\"color:cyan\"> |-learning_rate: 0.001</span>"
      ],
      "text/plain": [
       "<IPython.core.display.HTML object>"
      ]
     },
     "metadata": {},
     "output_type": "display_data"
    },
    {
     "data": {
      "text/html": [
       "<span style=\"color:blue\"> |-units: 64</span>"
      ],
      "text/plain": [
       "<IPython.core.display.HTML object>"
      ]
     },
     "metadata": {},
     "output_type": "display_data"
    },
    {
     "data": {
      "text/html": [
       "<span style=\"color:cyan\"> |-Score: 0.07333333045244217</span>"
      ],
      "text/plain": [
       "<IPython.core.display.HTML object>"
      ]
     },
     "metadata": {},
     "output_type": "display_data"
    },
    {
     "data": {
      "text/html": [
       "<span style=\"color:cyan\"> |-Best step: 0</span>"
      ],
      "text/plain": [
       "<IPython.core.display.HTML object>"
      ]
     },
     "metadata": {},
     "output_type": "display_data"
    },
    {
     "name": "stdout",
     "output_type": "stream",
     "text": [
      "Train on 100 samples, validate on 50 samples\n",
      "Epoch 1/5\n",
      "100/100 [==============================] - ETA: 0s - loss: 2.3448 - accuracy: 0.12 - 0s 3ms/sample - loss: 2.3598 - accuracy: 0.1200 - val_loss: 2.6969 - val_accuracy: 0.0600\n",
      "Epoch 2/5\n",
      "100/100 [==============================] - ETA: 0s - loss: 2.2414 - accuracy: 0.12 - 0s 244us/sample - loss: 2.4531 - accuracy: 0.1500 - val_loss: 2.8366 - val_accuracy: 0.0600\n",
      "Epoch 3/5\n",
      "100/100 [==============================] - ETA: 0s - loss: 2.4835 - accuracy: 0.06 - 0s 315us/sample - loss: 2.4018 - accuracy: 0.1500 - val_loss: 2.5590 - val_accuracy: 0.0600\n",
      "Epoch 4/5\n",
      "100/100 [==============================] - ETA: 0s - loss: 2.1999 - accuracy: 0.21 - 0s 360us/sample - loss: 2.2768 - accuracy: 0.1500 - val_loss: 2.4787 - val_accuracy: 0.1200\n",
      "Epoch 5/5\n",
      "100/100 [==============================] - ETA: 0s - loss: 2.3078 - accuracy: 0.15 - 0s 339us/sample - loss: 2.3112 - accuracy: 0.1400 - val_loss: 2.4923 - val_accuracy: 0.0800\n",
      "Train on 100 samples, validate on 50 samples\n",
      "Epoch 1/5\n",
      "100/100 [==============================] - ETA: 0s - loss: 2.3400 - accuracy: 0.12 - 0s 4ms/sample - loss: 2.4543 - accuracy: 0.1200 - val_loss: 2.5705 - val_accuracy: 0.0600\n",
      "Epoch 2/5\n",
      "100/100 [==============================] - ETA: 0s - loss: 2.2598 - accuracy: 0.12 - 0s 294us/sample - loss: 2.3536 - accuracy: 0.1100 - val_loss: 2.6096 - val_accuracy: 0.0800\n",
      "Epoch 3/5\n",
      "100/100 [==============================] - ETA: 0s - loss: 2.1982 - accuracy: 0.09 - 0s 309us/sample - loss: 2.3387 - accuracy: 0.1100 - val_loss: 2.5870 - val_accuracy: 0.0800\n",
      "Epoch 4/5\n",
      "100/100 [==============================] - ETA: 0s - loss: 2.3503 - accuracy: 0.09 - 0s 225us/sample - loss: 2.3292 - accuracy: 0.1400 - val_loss: 2.4941 - val_accuracy: 0.1200\n",
      "Epoch 5/5\n",
      "100/100 [==============================] - ETA: 0s - loss: 2.3145 - accuracy: 0.09 - 0s 312us/sample - loss: 2.3176 - accuracy: 0.1200 - val_loss: 2.4101 - val_accuracy: 0.1200\n",
      "Train on 100 samples, validate on 50 samples\n",
      "Epoch 1/5\n",
      "100/100 [==============================] - ETA: 0s - loss: 2.5770 - accuracy: 0.15 - 0s 3ms/sample - loss: 2.5277 - accuracy: 0.1500 - val_loss: 2.7053 - val_accuracy: 0.1200\n",
      "Epoch 2/5\n",
      "100/100 [==============================] - ETA: 0s - loss: 2.2971 - accuracy: 0.12 - 0s 247us/sample - loss: 2.3531 - accuracy: 0.1000 - val_loss: 2.6778 - val_accuracy: 0.1000\n",
      "Epoch 3/5\n",
      "100/100 [==============================] - ETA: 0s - loss: 2.3528 - accuracy: 0.12 - 0s 259us/sample - loss: 2.3660 - accuracy: 0.0900 - val_loss: 2.6271 - val_accuracy: 0.0600\n",
      "Epoch 4/5\n",
      "100/100 [==============================] - ETA: 0s - loss: 2.3560 - accuracy: 0.18 - 0s 284us/sample - loss: 2.3457 - accuracy: 0.1500 - val_loss: 2.5595 - val_accuracy: 0.0600\n",
      "Epoch 5/5\n",
      "100/100 [==============================] - ETA: 0s - loss: 2.3161 - accuracy: 0.18 - 0s 311us/sample - loss: 2.3078 - accuracy: 0.1900 - val_loss: 2.4820 - val_accuracy: 0.0400\n"
     ]
    },
    {
     "data": {
      "text/html": [
       "<span style=\"color:#4527A0\"><h1 style=\"font-size:18px\">Trial complete</h1></span>"
      ],
      "text/plain": [
       "<IPython.core.display.HTML object>"
      ]
     },
     "metadata": {},
     "output_type": "display_data"
    },
    {
     "data": {
      "text/html": [
       "<span style=\"color:#4527A0\"><h1 style=\"font-size:18px\">Trial summary</h1></span>"
      ],
      "text/plain": [
       "<IPython.core.display.HTML object>"
      ]
     },
     "metadata": {},
     "output_type": "display_data"
    },
    {
     "data": {
      "text/html": [
       "<span style=\"color:#7E57C2\"><h2 style=\"font-size:16px\">Hp values:</h2></span>"
      ],
      "text/plain": [
       "<IPython.core.display.HTML object>"
      ]
     },
     "metadata": {},
     "output_type": "display_data"
    },
    {
     "data": {
      "text/html": [
       "<span style=\"color:cyan\"> |-learning_rate: 0.01</span>"
      ],
      "text/plain": [
       "<IPython.core.display.HTML object>"
      ]
     },
     "metadata": {},
     "output_type": "display_data"
    },
    {
     "data": {
      "text/html": [
       "<span style=\"color:blue\"> |-units: 256</span>"
      ],
      "text/plain": [
       "<IPython.core.display.HTML object>"
      ]
     },
     "metadata": {},
     "output_type": "display_data"
    },
    {
     "data": {
      "text/html": [
       "<span style=\"color:cyan\"> |-Score: 0.11999999731779099</span>"
      ],
      "text/plain": [
       "<IPython.core.display.HTML object>"
      ]
     },
     "metadata": {},
     "output_type": "display_data"
    },
    {
     "data": {
      "text/html": [
       "<span style=\"color:cyan\"> |-Best step: 0</span>"
      ],
      "text/plain": [
       "<IPython.core.display.HTML object>"
      ]
     },
     "metadata": {},
     "output_type": "display_data"
    },
    {
     "name": "stdout",
     "output_type": "stream",
     "text": [
      "Train on 100 samples, validate on 50 samples\n",
      "Epoch 1/5\n",
      "100/100 [==============================] - ETA: 0s - loss: 2.4124 - accuracy: 0.15 - 0s 3ms/sample - loss: 2.3686 - accuracy: 0.1200 - val_loss: 2.5773 - val_accuracy: 0.0600\n",
      "Epoch 2/5\n",
      "100/100 [==============================] - ETA: 0s - loss: 2.4134 - accuracy: 0.09 - 0s 287us/sample - loss: 2.3597 - accuracy: 0.1200 - val_loss: 2.5640 - val_accuracy: 0.0600\n",
      "Epoch 3/5\n",
      "100/100 [==============================] - ETA: 0s - loss: 2.2811 - accuracy: 0.25 - 0s 290us/sample - loss: 2.3522 - accuracy: 0.1200 - val_loss: 2.5519 - val_accuracy: 0.0600\n",
      "Epoch 4/5\n",
      "100/100 [==============================] - ETA: 0s - loss: 2.3191 - accuracy: 0.18 - 0s 223us/sample - loss: 2.3460 - accuracy: 0.1200 - val_loss: 2.5438 - val_accuracy: 0.0600\n",
      "Epoch 5/5\n",
      "100/100 [==============================] - ETA: 0s - loss: 2.4080 - accuracy: 0.12 - 0s 256us/sample - loss: 2.3412 - accuracy: 0.1200 - val_loss: 2.5363 - val_accuracy: 0.0600\n",
      "Train on 100 samples, validate on 50 samples\n",
      "Epoch 1/5\n",
      "100/100 [==============================] - ETA: 0s - loss: 2.3748 - accuracy: 0.15 - 0s 3ms/sample - loss: 2.3727 - accuracy: 0.1200 - val_loss: 2.4436 - val_accuracy: 0.0600\n",
      "Epoch 2/5\n",
      "100/100 [==============================] - ETA: 0s - loss: 2.4137 - accuracy: 0.06 - 0s 228us/sample - loss: 2.3638 - accuracy: 0.1200 - val_loss: 2.4370 - val_accuracy: 0.0600\n",
      "Epoch 3/5\n",
      "100/100 [==============================] - ETA: 0s - loss: 2.3285 - accuracy: 0.09 - 0s 332us/sample - loss: 2.3563 - accuracy: 0.1200 - val_loss: 2.4304 - val_accuracy: 0.0800\n",
      "Epoch 4/5\n",
      "100/100 [==============================] - ETA: 0s - loss: 2.3971 - accuracy: 0.12 - 0s 229us/sample - loss: 2.3496 - accuracy: 0.0900 - val_loss: 2.4256 - val_accuracy: 0.0600\n",
      "Epoch 5/5\n",
      "100/100 [==============================] - ETA: 0s - loss: 2.4191 - accuracy: 0.06 - 0s 217us/sample - loss: 2.3439 - accuracy: 0.0900 - val_loss: 2.4209 - val_accuracy: 0.0600\n",
      "Train on 100 samples, validate on 50 samples\n",
      "Epoch 1/5\n",
      "100/100 [==============================] - ETA: 0s - loss: 2.5531 - accuracy: 0.12 - 0s 3ms/sample - loss: 2.4527 - accuracy: 0.1000 - val_loss: 2.4160 - val_accuracy: 0.0400\n",
      "Epoch 2/5\n",
      "100/100 [==============================] - ETA: 0s - loss: 2.3932 - accuracy: 0.12 - 0s 238us/sample - loss: 2.4379 - accuracy: 0.0900 - val_loss: 2.4108 - val_accuracy: 0.0400\n",
      "Epoch 3/5\n",
      "100/100 [==============================] - ETA: 0s - loss: 2.4526 - accuracy: 0.03 - 0s 261us/sample - loss: 2.4246 - accuracy: 0.0900 - val_loss: 2.4043 - val_accuracy: 0.0400\n",
      "Epoch 4/5\n",
      "100/100 [==============================] - ETA: 0s - loss: 2.4105 - accuracy: 0.06 - 0s 234us/sample - loss: 2.4128 - accuracy: 0.0900 - val_loss: 2.3979 - val_accuracy: 0.0400\n",
      "Epoch 5/5\n",
      "100/100 [==============================] - ETA: 0s - loss: 2.5054 - accuracy: 0.03 - 0s 320us/sample - loss: 2.4028 - accuracy: 0.0900 - val_loss: 2.3915 - val_accuracy: 0.0400\n"
     ]
    },
    {
     "data": {
      "text/html": [
       "<span style=\"color:#4527A0\"><h1 style=\"font-size:18px\">Trial complete</h1></span>"
      ],
      "text/plain": [
       "<IPython.core.display.HTML object>"
      ]
     },
     "metadata": {},
     "output_type": "display_data"
    },
    {
     "data": {
      "text/html": [
       "<span style=\"color:#4527A0\"><h1 style=\"font-size:18px\">Trial summary</h1></span>"
      ],
      "text/plain": [
       "<IPython.core.display.HTML object>"
      ]
     },
     "metadata": {},
     "output_type": "display_data"
    },
    {
     "data": {
      "text/html": [
       "<span style=\"color:#7E57C2\"><h2 style=\"font-size:16px\">Hp values:</h2></span>"
      ],
      "text/plain": [
       "<IPython.core.display.HTML object>"
      ]
     },
     "metadata": {},
     "output_type": "display_data"
    },
    {
     "data": {
      "text/html": [
       "<span style=\"color:cyan\"> |-learning_rate: 0.0001</span>"
      ],
      "text/plain": [
       "<IPython.core.display.HTML object>"
      ]
     },
     "metadata": {},
     "output_type": "display_data"
    },
    {
     "data": {
      "text/html": [
       "<span style=\"color:blue\"> |-units: 416</span>"
      ],
      "text/plain": [
       "<IPython.core.display.HTML object>"
      ]
     },
     "metadata": {},
     "output_type": "display_data"
    },
    {
     "data": {
      "text/html": [
       "<span style=\"color:cyan\"> |-Score: 0.06000000238418579</span>"
      ],
      "text/plain": [
       "<IPython.core.display.HTML object>"
      ]
     },
     "metadata": {},
     "output_type": "display_data"
    },
    {
     "data": {
      "text/html": [
       "<span style=\"color:cyan\"> |-Best step: 0</span>"
      ],
      "text/plain": [
       "<IPython.core.display.HTML object>"
      ]
     },
     "metadata": {},
     "output_type": "display_data"
    },
    {
     "name": "stdout",
     "output_type": "stream",
     "text": [
      "Train on 100 samples, validate on 50 samples\n",
      "Epoch 1/5\n",
      "100/100 [==============================] - ETA: 0s - loss: 2.4573 - accuracy: 0.06 - 0s 3ms/sample - loss: 2.3727 - accuracy: 0.0900 - val_loss: 2.4876 - val_accuracy: 0.0600\n",
      "Epoch 2/5\n",
      "100/100 [==============================] - ETA: 0s - loss: 2.2550 - accuracy: 0.21 - 0s 325us/sample - loss: 2.3325 - accuracy: 0.1500 - val_loss: 2.6281 - val_accuracy: 0.1200\n",
      "Epoch 3/5\n",
      "100/100 [==============================] - ETA: 0s - loss: 2.3341 - accuracy: 0.15 - 0s 231us/sample - loss: 2.3388 - accuracy: 0.1100 - val_loss: 2.5243 - val_accuracy: 0.0800\n",
      "Epoch 4/5\n",
      "100/100 [==============================] - ETA: 0s - loss: 2.4205 - accuracy: 0.09 - 0s 197us/sample - loss: 2.3021 - accuracy: 0.1500 - val_loss: 2.4277 - val_accuracy: 0.0600\n",
      "Epoch 5/5\n",
      "100/100 [==============================] - ETA: 0s - loss: 2.2923 - accuracy: 0.12 - 0s 260us/sample - loss: 2.2982 - accuracy: 0.1000 - val_loss: 2.4366 - val_accuracy: 0.1000\n",
      "Train on 100 samples, validate on 50 samples\n",
      "Epoch 1/5\n",
      "100/100 [==============================] - ETA: 0s - loss: 2.6045 - accuracy: 0.09 - 0s 3ms/sample - loss: 2.5374 - accuracy: 0.1100 - val_loss: 2.4837 - val_accuracy: 0.0600\n",
      "Epoch 2/5\n",
      "100/100 [==============================] - ETA: 0s - loss: 2.2661 - accuracy: 0.18 - 0s 240us/sample - loss: 2.3231 - accuracy: 0.1700 - val_loss: 2.4342 - val_accuracy: 0.1200\n",
      "Epoch 3/5\n",
      "100/100 [==============================] - ETA: 0s - loss: 2.2776 - accuracy: 0.15 - 0s 313us/sample - loss: 2.3191 - accuracy: 0.1200 - val_loss: 2.4852 - val_accuracy: 0.1000\n",
      "Epoch 4/5\n",
      "100/100 [==============================] - ETA: 0s - loss: 2.3986 - accuracy: 0.09 - 0s 208us/sample - loss: 2.3190 - accuracy: 0.1200 - val_loss: 2.5171 - val_accuracy: 0.1000\n",
      "Epoch 5/5\n",
      "100/100 [==============================] - ETA: 0s - loss: 2.2559 - accuracy: 0.15 - 0s 217us/sample - loss: 2.2978 - accuracy: 0.1200 - val_loss: 2.5170 - val_accuracy: 0.0800\n",
      "Train on 100 samples, validate on 50 samples\n",
      "Epoch 1/5\n",
      "100/100 [==============================] - ETA: 0s - loss: 2.3525 - accuracy: 0.18 - 0s 3ms/sample - loss: 2.4251 - accuracy: 0.1200 - val_loss: 2.4833 - val_accuracy: 0.0800\n",
      "Epoch 2/5\n",
      "100/100 [==============================] - ETA: 0s - loss: 2.3370 - accuracy: 0.18 - 0s 265us/sample - loss: 2.3793 - accuracy: 0.1400 - val_loss: 2.6458 - val_accuracy: 0.0600\n",
      "Epoch 3/5\n",
      "100/100 [==============================] - ETA: 0s - loss: 2.3819 - accuracy: 0.12 - 0s 242us/sample - loss: 2.3801 - accuracy: 0.1200 - val_loss: 2.5034 - val_accuracy: 0.1000\n",
      "Epoch 4/5\n",
      "100/100 [==============================] - ETA: 0s - loss: 2.3324 - accuracy: 0.12 - 0s 196us/sample - loss: 2.3216 - accuracy: 0.1300 - val_loss: 2.4688 - val_accuracy: 0.0800\n",
      "Epoch 5/5\n",
      "100/100 [==============================] - ETA: 0s - loss: 2.3223 - accuracy: 0.18 - 0s 282us/sample - loss: 2.3102 - accuracy: 0.1600 - val_loss: 2.4554 - val_accuracy: 0.1200\n"
     ]
    },
    {
     "data": {
      "text/html": [
       "<span style=\"color:#4527A0\"><h1 style=\"font-size:18px\">Trial complete</h1></span>"
      ],
      "text/plain": [
       "<IPython.core.display.HTML object>"
      ]
     },
     "metadata": {},
     "output_type": "display_data"
    },
    {
     "data": {
      "text/html": [
       "<span style=\"color:#4527A0\"><h1 style=\"font-size:18px\">Trial summary</h1></span>"
      ],
      "text/plain": [
       "<IPython.core.display.HTML object>"
      ]
     },
     "metadata": {},
     "output_type": "display_data"
    },
    {
     "data": {
      "text/html": [
       "<span style=\"color:#7E57C2\"><h2 style=\"font-size:16px\">Hp values:</h2></span>"
      ],
      "text/plain": [
       "<IPython.core.display.HTML object>"
      ]
     },
     "metadata": {},
     "output_type": "display_data"
    },
    {
     "data": {
      "text/html": [
       "<span style=\"color:cyan\"> |-learning_rate: 0.01</span>"
      ],
      "text/plain": [
       "<IPython.core.display.HTML object>"
      ]
     },
     "metadata": {},
     "output_type": "display_data"
    },
    {
     "data": {
      "text/html": [
       "<span style=\"color:blue\"> |-units: 96</span>"
      ],
      "text/plain": [
       "<IPython.core.display.HTML object>"
      ]
     },
     "metadata": {},
     "output_type": "display_data"
    },
    {
     "data": {
      "text/html": [
       "<span style=\"color:cyan\"> |-Score: 0.11999999731779099</span>"
      ],
      "text/plain": [
       "<IPython.core.display.HTML object>"
      ]
     },
     "metadata": {},
     "output_type": "display_data"
    },
    {
     "data": {
      "text/html": [
       "<span style=\"color:cyan\"> |-Best step: 0</span>"
      ],
      "text/plain": [
       "<IPython.core.display.HTML object>"
      ]
     },
     "metadata": {},
     "output_type": "display_data"
    },
    {
     "name": "stdout",
     "output_type": "stream",
     "text": [
      "Train on 100 samples, validate on 50 samples\n",
      "Epoch 1/5\n",
      "100/100 [==============================] - ETA: 0s - loss: 2.2526 - accuracy: 0.18 - 0s 4ms/sample - loss: 2.5236 - accuracy: 0.1100 - val_loss: 2.7130 - val_accuracy: 0.1400\n",
      "Epoch 2/5\n",
      "100/100 [==============================] - ETA: 0s - loss: 2.1851 - accuracy: 0.21 - 0s 341us/sample - loss: 2.5450 - accuracy: 0.1100 - val_loss: 2.6408 - val_accuracy: 0.1200\n",
      "Epoch 3/5\n",
      "100/100 [==============================] - ETA: 0s - loss: 2.4979 - accuracy: 0.09 - 0s 293us/sample - loss: 2.4435 - accuracy: 0.1200 - val_loss: 2.3769 - val_accuracy: 0.1400\n",
      "Epoch 4/5\n",
      "100/100 [==============================] - ETA: 0s - loss: 2.3868 - accuracy: 0.12 - 0s 266us/sample - loss: 2.3331 - accuracy: 0.1100 - val_loss: 2.4163 - val_accuracy: 0.0800\n",
      "Epoch 5/5\n",
      "100/100 [==============================] - ETA: 0s - loss: 2.3100 - accuracy: 0.12 - 0s 230us/sample - loss: 2.3292 - accuracy: 0.1300 - val_loss: 2.5337 - val_accuracy: 0.1200\n",
      "Train on 100 samples, validate on 50 samples\n",
      "Epoch 1/5\n",
      "100/100 [==============================] - ETA: 0s - loss: 2.3961 - accuracy: 0.15 - 0s 4ms/sample - loss: 2.5078 - accuracy: 0.1600 - val_loss: 2.5006 - val_accuracy: 0.1200\n",
      "Epoch 2/5\n",
      "100/100 [==============================] - ETA: 0s - loss: 2.3118 - accuracy: 0.12 - 0s 319us/sample - loss: 2.3284 - accuracy: 0.1200 - val_loss: 2.4876 - val_accuracy: 0.0800\n",
      "Epoch 3/5\n",
      "100/100 [==============================] - ETA: 0s - loss: 2.3258 - accuracy: 0.09 - 0s 287us/sample - loss: 2.3724 - accuracy: 0.0700 - val_loss: 2.5069 - val_accuracy: 0.1200\n",
      "Epoch 4/5\n",
      "100/100 [==============================] - ETA: 0s - loss: 2.3368 - accuracy: 0.28 - 0s 259us/sample - loss: 2.3312 - accuracy: 0.1900 - val_loss: 2.5256 - val_accuracy: 0.0600\n",
      "Epoch 5/5\n",
      "100/100 [==============================] - ETA: 0s - loss: 2.2621 - accuracy: 0.09 - 0s 244us/sample - loss: 2.3228 - accuracy: 0.1100 - val_loss: 2.5659 - val_accuracy: 0.0800\n",
      "Train on 100 samples, validate on 50 samples\n",
      "Epoch 1/5\n",
      "100/100 [==============================] - ETA: 0s - loss: 2.3729 - accuracy: 0.09 - 0s 3ms/sample - loss: 2.4925 - accuracy: 0.0700 - val_loss: 2.5174 - val_accuracy: 0.0600\n",
      "Epoch 2/5\n",
      "100/100 [==============================] - ETA: 0s - loss: 2.3192 - accuracy: 0.06 - 0s 253us/sample - loss: 2.3143 - accuracy: 0.1000 - val_loss: 2.6906 - val_accuracy: 0.0400\n",
      "Epoch 3/5\n",
      "100/100 [==============================] - ETA: 0s - loss: 2.4816 - accuracy: 0.09 - 0s 320us/sample - loss: 2.3878 - accuracy: 0.1300 - val_loss: 2.5971 - val_accuracy: 0.1000\n",
      "Epoch 4/5\n",
      "100/100 [==============================] - ETA: 0s - loss: 2.2954 - accuracy: 0.06 - 0s 222us/sample - loss: 2.3448 - accuracy: 0.1100 - val_loss: 2.4228 - val_accuracy: 0.1400\n",
      "Epoch 5/5\n",
      "100/100 [==============================] - ETA: 0s - loss: 2.2832 - accuracy: 0.09 - 0s 249us/sample - loss: 2.3178 - accuracy: 0.1000 - val_loss: 2.3791 - val_accuracy: 0.1000\n"
     ]
    },
    {
     "data": {
      "text/html": [
       "<span style=\"color:#4527A0\"><h1 style=\"font-size:18px\">Trial complete</h1></span>"
      ],
      "text/plain": [
       "<IPython.core.display.HTML object>"
      ]
     },
     "metadata": {},
     "output_type": "display_data"
    },
    {
     "data": {
      "text/html": [
       "<span style=\"color:#4527A0\"><h1 style=\"font-size:18px\">Trial summary</h1></span>"
      ],
      "text/plain": [
       "<IPython.core.display.HTML object>"
      ]
     },
     "metadata": {},
     "output_type": "display_data"
    },
    {
     "data": {
      "text/html": [
       "<span style=\"color:#7E57C2\"><h2 style=\"font-size:16px\">Hp values:</h2></span>"
      ],
      "text/plain": [
       "<IPython.core.display.HTML object>"
      ]
     },
     "metadata": {},
     "output_type": "display_data"
    },
    {
     "data": {
      "text/html": [
       "<span style=\"color:cyan\"> |-learning_rate: 0.01</span>"
      ],
      "text/plain": [
       "<IPython.core.display.HTML object>"
      ]
     },
     "metadata": {},
     "output_type": "display_data"
    },
    {
     "data": {
      "text/html": [
       "<span style=\"color:blue\"> |-units: 384</span>"
      ],
      "text/plain": [
       "<IPython.core.display.HTML object>"
      ]
     },
     "metadata": {},
     "output_type": "display_data"
    },
    {
     "data": {
      "text/html": [
       "<span style=\"color:cyan\"> |-Score: 0.13333332538604736</span>"
      ],
      "text/plain": [
       "<IPython.core.display.HTML object>"
      ]
     },
     "metadata": {},
     "output_type": "display_data"
    },
    {
     "data": {
      "text/html": [
       "<span style=\"color:cyan\"> |-Best step: 0</span>"
      ],
      "text/plain": [
       "<IPython.core.display.HTML object>"
      ]
     },
     "metadata": {},
     "output_type": "display_data"
    },
    {
     "name": "stdout",
     "output_type": "stream",
     "text": [
      "INFO:tensorflow:Oracle triggered exit\n"
     ]
    }
   ],
   "source": [
    "tuner.search(x, y,\n",
    "             epochs=5,\n",
    "             validation_data=(val_x, val_y))"
   ]
  },
  {
   "cell_type": "code",
   "execution_count": 20,
   "metadata": {},
   "outputs": [
    {
     "data": {
      "text/plain": [
       "[<kerastuner.engine.hyperparameters.HyperParameters at 0x7fd3b4644438>]"
      ]
     },
     "execution_count": 20,
     "metadata": {},
     "output_type": "execute_result"
    }
   ],
   "source": [
    "tuner.get_best_hyperparameters()"
   ]
  },
  {
   "cell_type": "code",
   "execution_count": 21,
   "metadata": {},
   "outputs": [],
   "source": [
    "models = tuner.get_best_models(num_models=2)"
   ]
  },
  {
   "cell_type": "code",
   "execution_count": 22,
   "metadata": {},
   "outputs": [
    {
     "data": {
      "text/plain": [
       "[<tensorflow.python.keras.engine.sequential.Sequential at 0x7fd3d41ab7b8>,\n",
       " <tensorflow.python.keras.engine.sequential.Sequential at 0x7fd3d41ab438>]"
      ]
     },
     "execution_count": 22,
     "metadata": {},
     "output_type": "execute_result"
    }
   ],
   "source": [
    "models"
   ]
  },
  {
   "cell_type": "code",
   "execution_count": 23,
   "metadata": {},
   "outputs": [
    {
     "data": {
      "text/html": [
       "<span style=\"color:#4527A0\"><h1 style=\"font-size:18px\">Results summary</h1></span>"
      ],
      "text/plain": [
       "<IPython.core.display.HTML object>"
      ]
     },
     "metadata": {},
     "output_type": "display_data"
    },
    {
     "data": {
      "text/html": [
       "<span style=\"color:cyan\"> |-Results in my_dir/helloworld</span>"
      ],
      "text/plain": [
       "<IPython.core.display.HTML object>"
      ]
     },
     "metadata": {},
     "output_type": "display_data"
    },
    {
     "data": {
      "text/html": [
       "<span style=\"color:cyan\"> |-Showing 10 best trials</span>"
      ],
      "text/plain": [
       "<IPython.core.display.HTML object>"
      ]
     },
     "metadata": {},
     "output_type": "display_data"
    },
    {
     "data": {
      "text/html": [
       "<span style=\"color:cyan\"> |-Objective: Objective(name='val_accuracy', direction='max') Score: 0.13333332538604736</span>"
      ],
      "text/plain": [
       "<IPython.core.display.HTML object>"
      ]
     },
     "metadata": {},
     "output_type": "display_data"
    },
    {
     "data": {
      "text/html": [
       "<span style=\"color:cyan\"> |-Objective: Objective(name='val_accuracy', direction='max') Score: 0.11999999731779099</span>"
      ],
      "text/plain": [
       "<IPython.core.display.HTML object>"
      ]
     },
     "metadata": {},
     "output_type": "display_data"
    },
    {
     "data": {
      "text/html": [
       "<span style=\"color:cyan\"> |-Objective: Objective(name='val_accuracy', direction='max') Score: 0.11999999731779099</span>"
      ],
      "text/plain": [
       "<IPython.core.display.HTML object>"
      ]
     },
     "metadata": {},
     "output_type": "display_data"
    },
    {
     "data": {
      "text/html": [
       "<span style=\"color:cyan\"> |-Objective: Objective(name='val_accuracy', direction='max') Score: 0.07333333045244217</span>"
      ],
      "text/plain": [
       "<IPython.core.display.HTML object>"
      ]
     },
     "metadata": {},
     "output_type": "display_data"
    },
    {
     "data": {
      "text/html": [
       "<span style=\"color:cyan\"> |-Objective: Objective(name='val_accuracy', direction='max') Score: 0.06000000238418579</span>"
      ],
      "text/plain": [
       "<IPython.core.display.HTML object>"
      ]
     },
     "metadata": {},
     "output_type": "display_data"
    }
   ],
   "source": [
    "tuner.results_summary()"
   ]
  },
  {
   "cell_type": "code",
   "execution_count": null,
   "metadata": {},
   "outputs": [],
   "source": []
  },
  {
   "cell_type": "markdown",
   "metadata": {},
   "source": [
    "# HOW TO SAVE THE MODELS ?"
   ]
  },
  {
   "cell_type": "code",
   "execution_count": 40,
   "metadata": {},
   "outputs": [
    {
     "name": "stdout",
     "output_type": "stream",
     "text": [
      "[[  6.    148.     72.    ...   0.627  50.      1.   ]\n",
      " [  1.     85.     66.    ...   0.351  31.      0.   ]\n",
      " [  8.    183.     64.    ...   0.672  32.      1.   ]\n",
      " ...\n",
      " [  5.    121.     72.    ...   0.245  30.      0.   ]\n",
      " [  1.    126.     60.    ...   0.349  47.      1.   ]\n",
      " [  1.     93.     70.    ...   0.315  23.      0.   ]]\n",
      "accuracy: 75.26%\n",
      "Saved model to disk\n",
      "Loaded model from disk\n",
      "accuracy: 75.26%\n"
     ]
    }
   ],
   "source": [
    "from tensorflow.keras.models import Sequential\n",
    "from tensorflow.keras.layers import Dense\n",
    "from tensorflow.keras.models import model_from_json\n",
    "import numpy\n",
    "import pandas as pd\n",
    "import os\n",
    "# fix random seed for reproducibility\n",
    "numpy.random.seed(7)\n",
    "# load pima indians dataset\n",
    "dataset = pd.read_csv(\"/home/hanna/Downloads/diabetes.csv\", delimiter=\",\").values\n",
    "\n",
    "# split into input (X) and output (Y) variables\n",
    "X = dataset[:,0:8]\n",
    "Y = dataset[:,8]\n",
    "# create model\n",
    "model = Sequential()\n",
    "model.add(Dense(12, input_dim=8, activation='relu'))\n",
    "model.add(Dense(8, activation='relu'))\n",
    "model.add(Dense(1, activation='sigmoid'))\n",
    "# Compile model\n",
    "model.compile(loss='binary_crossentropy', optimizer='adam', metrics=['accuracy'])\n",
    "# Fit the model\n",
    "model.fit(X, Y, epochs=150, batch_size=10, verbose=0)\n",
    "# evaluate the model\n",
    "scores = model.evaluate(X, Y, verbose=0)\n",
    "print(\"%s: %.2f%%\" % (model.metrics_names[1], scores[1]*100))\n",
    " \n",
    "# serialize model to JSON\n",
    "model_json = model.to_json()\n",
    "with open(\"model.json\", \"w\") as json_file:\n",
    "    json_file.write(model_json)\n",
    "# serialize weights to HDF5\n",
    "model.save_weights(\"model.h5\")\n",
    "print(\"Saved model to disk\")\n",
    " \n",
    "# later...\n",
    " \n",
    "# load json and create model\n",
    "json_file = open('model.json', 'r')\n",
    "loaded_model_json = json_file.read()\n",
    "json_file.close()\n",
    "loaded_model = model_from_json(loaded_model_json)\n",
    "# load weights into new model\n",
    "loaded_model.load_weights(\"model.h5\")\n",
    "print(\"Loaded model from disk\")\n",
    " \n",
    "# evaluate loaded model on test data\n",
    "loaded_model.compile(loss='binary_crossentropy', optimizer='rmsprop', metrics=['accuracy'])\n",
    "score = loaded_model.evaluate(X, Y, verbose=0)\n",
    "print(\"%s: %.2f%%\" % (loaded_model.metrics_names[1], score[1]*100))"
   ]
  },
  {
   "cell_type": "code",
   "execution_count": 30,
   "metadata": {},
   "outputs": [],
   "source": [
    "import glob\n"
   ]
  },
  {
   "cell_type": "code",
   "execution_count": 33,
   "metadata": {},
   "outputs": [
    {
     "data": {
      "text/plain": [
       "['/home/hanna/Downloads/altaelva.csv',\n",
       " '/home/hanna/Downloads/station_A.csv',\n",
       " '/home/hanna/Downloads/Elveseter.csv',\n",
       " '/home/hanna/Downloads/altaelva (1).csv',\n",
       " '/home/hanna/Downloads/myklemyr.csv',\n",
       " '/home/hanna/Downloads/diabetes.csv']"
      ]
     },
     "execution_count": 33,
     "metadata": {},
     "output_type": "execute_result"
    }
   ],
   "source": [
    "glob.glob(\"/home/hanna/Downloads/*.csv\")"
   ]
  },
  {
   "cell_type": "code",
   "execution_count": null,
   "metadata": {},
   "outputs": [],
   "source": []
  },
  {
   "cell_type": "code",
   "execution_count": null,
   "metadata": {},
   "outputs": [],
   "source": []
  },
  {
   "cell_type": "code",
   "execution_count": null,
   "metadata": {},
   "outputs": [],
   "source": []
  }
 ],
 "metadata": {
  "kernelspec": {
   "display_name": "Python 3",
   "language": "python",
   "name": "python3"
  },
  "language_info": {
   "codemirror_mode": {
    "name": "ipython",
    "version": 3
   },
   "file_extension": ".py",
   "mimetype": "text/x-python",
   "name": "python",
   "nbconvert_exporter": "python",
   "pygments_lexer": "ipython3",
   "version": "3.7.3"
  }
 },
 "nbformat": 4,
 "nbformat_minor": 4
}
