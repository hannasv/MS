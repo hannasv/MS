{
 "cells": [
  {
   "cell_type": "markdown",
   "metadata": {},
   "source": [
    "# Plot contourplot from one xarray dataset \n",
    "### Use this to plot example artefact"
   ]
  },
  {
   "cell_type": "code",
   "execution_count": 1,
   "metadata": {},
   "outputs": [],
   "source": [
    "test = '/home/hanna/lagrings/ERA5_monthly/2012_01_sp.nc'"
   ]
  },
  {
   "cell_type": "code",
   "execution_count": 2,
   "metadata": {},
   "outputs": [],
   "source": [
    "import xarray as xr "
   ]
  },
  {
   "cell_type": "code",
   "execution_count": 3,
   "metadata": {},
   "outputs": [],
   "source": [
    "data = xr.open_dataset(test)"
   ]
  },
  {
   "cell_type": "code",
   "execution_count": 4,
   "metadata": {},
   "outputs": [],
   "source": [
    "subset = data.isel(time = 0)\n",
    "var = 'sp'"
   ]
  },
  {
   "cell_type": "code",
   "execution_count": 5,
   "metadata": {},
   "outputs": [],
   "source": [
    "\n",
    "#file = '/home/hanna/miphclac/2004_07/2004_07.nc'\n",
    "#data = xr.open_dataset(file)\n",
    "\n",
    "#ll = data.sel(time = '2004-07-02T12')\n",
    "#ll['tcc'].plot()\n",
    "#plt.show()\n"
   ]
  },
  {
   "cell_type": "code",
   "execution_count": 6,
   "metadata": {
    "scrolled": true
   },
   "outputs": [
    {
     "name": "stdout",
     "output_type": "stream",
     "text": [
      "Warning.. Using pgf backend, no GUI available. use plt.savefig() for inpection\n"
     ]
    }
   ],
   "source": [
    "\"\"\" Plotting routine used to plot subplots of spatially averages monthly means\n",
    "and filtered by land sea and both.\n",
    "\"\"\"\n",
    "import numpy as np\n",
    "import xarray as xr\n",
    "import seaborn as sns\n",
    "import glob\n",
    "import os\n",
    "\n",
    "from sclouds.helpers import (path_input, path_stats_results, VARIABLES,\n",
    "                                UNITS, LONGNAME)\n",
    "from sclouds.io.utils import get_xarray_dataset_for_period\n",
    "from sclouds.plot.helpers import (TEXT_WIDTH_IN, TEXT_HEIGHT_IN,\n",
    "                                    path_python_figures, import_matplotlib,\n",
    "                                    cmap_contour_plot, levels_contourplot)\n",
    "mat = import_matplotlib()# for mye\n",
    "import matplotlib.pyplot as plt\n",
    "\n",
    "n_rows = 1\n",
    "n_cols = 1\n",
    "\n",
    "fig, ax =  plt.subplots(nrows = n_rows, ncols = n_cols, sharex=True, sharey=False)\n",
    "fig.set_size_inches(w = TEXT_WIDTH_IN, h = 0.5*TEXT_WIDTH_IN)\n",
    "\n",
    "vals    = np.flipud(subset[var].values)\n",
    "cntours = ax.contourf(vals, levels=levels_contourplot, cmap='rocket')\n",
    "\n",
    "# Removes white lines\n",
    "for c in cntours.collections:\n",
    "    c.set_edgecolor(\"face\")\n",
    "\n",
    "fig.colorbar(cntours, ax=ax, label = '{} [{}]'.format(var, UNITS[var]))\n",
    "#a = sns.heatmap(vals, ax = ax, cbar = True, cmap = 'viridis', linewidths=0)\n",
    "ax.set_title(LONGNAME[var], fontsize = 14)\n",
    "ax.set_ylabel('Latitude')\n",
    "\n",
    "ax.set_yticklabels(labels = np.linspace(30, 50, 5))\n",
    "ax.set_xticklabels(labels = np.linspace(-15, 25, 9), rotation = 45)\n",
    "#a.legend()\n",
    "plt.xlabel('Longitude')\n",
    "plt.savefig(path_python_figures + 'example_artefact.pdf')"
   ]
  },
  {
   "cell_type": "code",
   "execution_count": 9,
   "metadata": {},
   "outputs": [],
   "source": [
    "fig.savefig(path_python_figures + 'example_artefact.pdf')"
   ]
  },
  {
   "cell_type": "code",
   "execution_count": 8,
   "metadata": {},
   "outputs": [
    {
     "data": {
      "text/plain": [
       "'/home/hanna/MS-thesis/python_figs/'"
      ]
     },
     "execution_count": 8,
     "metadata": {},
     "output_type": "execute_result"
    }
   ],
   "source": [
    "path_python_figures"
   ]
  },
  {
   "cell_type": "code",
   "execution_count": null,
   "metadata": {},
   "outputs": [],
   "source": []
  },
  {
   "cell_type": "code",
   "execution_count": null,
   "metadata": {},
   "outputs": [],
   "source": []
  },
  {
   "cell_type": "code",
   "execution_count": null,
   "metadata": {},
   "outputs": [],
   "source": []
  },
  {
   "cell_type": "code",
   "execution_count": null,
   "metadata": {},
   "outputs": [],
   "source": []
  }
 ],
 "metadata": {
  "kernelspec": {
   "display_name": "Python 3",
   "language": "python",
   "name": "python3"
  },
  "language_info": {
   "codemirror_mode": {
    "name": "ipython",
    "version": 3
   },
   "file_extension": ".py",
   "mimetype": "text/x-python",
   "name": "python",
   "nbconvert_exporter": "python",
   "pygments_lexer": "ipython3",
   "version": "3.7.6"
  }
 },
 "nbformat": 4,
 "nbformat_minor": 4
}
