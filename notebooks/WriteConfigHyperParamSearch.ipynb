{
 "cells": [
  {
   "cell_type": "code",
   "execution_count": 1,
   "metadata": {},
   "outputs": [],
   "source": [
    "import json\n",
    "import torch\n",
    "import numpy as np"
   ]
  },
  {
   "cell_type": "markdown",
   "metadata": {},
   "source": [
    "## List of hyperparameters\n",
    "* Learning rate\n",
    "    * Momentum decay\n",
    "    * or step learningrate\n",
    "* Batch size - 32\n",
    "    * Explained: The batch size is a hyperparameter that defines the number of samples to work through before updating the internal model parameters.\n",
    "    \n",
    "* Number of Epochs (include early stopping) - 100 step learning rate on [30, 50]\n",
    "* Paths for:\n",
    "    * training data \n",
    "    * test data \n",
    "    * Storing and restoring models \n",
    "    \n",
    "* Optimizer\n",
    "    * Adam\n",
    "    * RMSprop\n",
    "    * AdaGrad\n",
    "    \n",
    "* Model:\n",
    "    * Config hidden layers \n",
    "        * hidden_channels = [256, 128, 64, 1]\n",
    "\n",
    "    * Padding : 'same'  \n",
    "\n",
    "    * kernal size \n",
    "        * constant or list[hiddenLayers]\n",
    "\n",
    "    * dilation rate \n",
    "        * layer dependant?\n",
    "\n",
    "    * initializa weights \n",
    "    * initialize bias"
   ]
  },
  {
   "cell_type": "code",
   "execution_count": null,
   "metadata": {},
   "outputs": [],
   "source": [
    "scheduler = StepLR(optimizer, step_size=30, gamma=0.1)"
   ]
  },
  {
   "cell_type": "code",
   "execution_count": 20,
   "metadata": {},
   "outputs": [],
   "source": [
    "hp = {}\n",
    "hp['learning_rate'] = np.logspace(-8, 1, num = 9, endpoint = True ).tolist()\n",
    "hp['batch_size']    = [32] #[128, 64, 32]\n",
    "hp['epochs']        = [40] #[1000, 500, 100, 10]\n",
    "\n",
    "hp['optimizer']     = {}\n",
    "hp['optimizer']['Adagrad'] = 'torch.optim.Adagrad'\n",
    "hp['optimizer']['RMSprop'] = 'torch.optim.RMSprop'\n",
    "hp['optimizer']['Adam']    = 'torch.optim.Adam'\n",
    "\n",
    "hp['path_training_data'] = '/uio/lagringshotell/geofag/students/metos/hannasv/era_interim_data/'\n",
    "hp['path_stored_model'] = '/uio/lagringshotell/geofag/students/metos/hannasv/era_interim_data/storedModel/'\n",
    "\n",
    "# hp['path_test_data'] = \n",
    "# use padding == same on everything\n",
    "# hp['model']['kernal_size'] =\n",
    "\n",
    "hp['model'] = {}\n",
    "hp['model']['kernal_size']   = [3, 5, 7, 9]\n",
    "hp['model']['dilation_size'] = [2, 3, 4]\n",
    "hp['model']['weight_init'] = 'glorot_initialization'\n",
    "hp['model']['bias_init'] = 'zeros'"
   ]
  },
  {
   "cell_type": "code",
   "execution_count": 21,
   "metadata": {},
   "outputs": [
    {
     "data": {
      "text/plain": [
       "{'batch_size': [32],\n",
       " 'epochs': [40],\n",
       " 'learning_rate': [1e-08,\n",
       "  1.333521432163324e-07,\n",
       "  1.778279410038923e-06,\n",
       "  2.3713737056616554e-05,\n",
       "  0.00031622776601683794,\n",
       "  0.004216965034285823,\n",
       "  0.05623413251903491,\n",
       "  0.7498942093324559,\n",
       "  10.0],\n",
       " 'model': {'bias_init': 'zeros',\n",
       "  'dilation_size': [2, 3, 4],\n",
       "  'kernal_size': [3, 5, 7, 9],\n",
       "  'weight_init': 'glorot_initialization'},\n",
       " 'optimizer': {'Adagrad': 'torch.optim.Adagrad',\n",
       "  'Adam': 'torch.optim.Adam',\n",
       "  'RMSprop': 'torch.optim.RMSprop'},\n",
       " 'path_stored_model': '/uio/lagringshotell/geofag/students/metos/hannasv/era_interim_data/storedModel/',\n",
       " 'path_training_data': '/uio/lagringshotell/geofag/students/metos/hannasv/era_interim_data/'}"
      ]
     },
     "execution_count": 21,
     "metadata": {},
     "output_type": "execute_result"
    }
   ],
   "source": [
    "hp"
   ]
  },
  {
   "cell_type": "code",
   "execution_count": 22,
   "metadata": {},
   "outputs": [],
   "source": [
    "path = '/uio/lagringshotell/geofag/students/metos/hannasv/era_interim_data/storedModel/'"
   ]
  },
  {
   "cell_type": "code",
   "execution_count": 23,
   "metadata": {},
   "outputs": [],
   "source": [
    "with open(path + 'config.json', 'w') as config_file:\n",
    "    json.dump(hp, config_file)"
   ]
  },
  {
   "cell_type": "code",
   "execution_count": null,
   "metadata": {},
   "outputs": [],
   "source": []
  },
  {
   "cell_type": "code",
   "execution_count": null,
   "metadata": {},
   "outputs": [],
   "source": []
  }
 ],
 "metadata": {
  "kernelspec": {
   "display_name": "Python 2",
   "language": "python",
   "name": "python2"
  },
  "language_info": {
   "codemirror_mode": {
    "name": "ipython",
    "version": 2
   },
   "file_extension": ".py",
   "mimetype": "text/x-python",
   "name": "python",
   "nbconvert_exporter": "python",
   "pygments_lexer": "ipython2",
   "version": "2.7.15"
  }
 },
 "nbformat": 4,
 "nbformat_minor": 2
}
