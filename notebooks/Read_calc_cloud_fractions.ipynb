{
 "cells": [
  {
   "cell_type": "code",
   "execution_count": 2,
   "metadata": {},
   "outputs": [],
   "source": [
    "import os\n",
    "import glob\n",
    "\n",
    "import xarray as xr\n",
    "import numpy as np\n",
    "import pandas as pd"
   ]
  },
  {
   "cell_type": "code",
   "execution_count": 3,
   "metadata": {},
   "outputs": [],
   "source": [
    "path = '/uio/lagringshotell/geofag/projects/miphclac/hannasv/fractions_repo/'"
   ]
  },
  {
   "cell_type": "code",
   "execution_count": 12,
   "metadata": {},
   "outputs": [],
   "source": [
    "files = glob.glob(path+'*.nc')"
   ]
  },
  {
   "cell_type": "code",
   "execution_count": 13,
   "metadata": {},
   "outputs": [
    {
     "data": {
      "text/plain": [
       "['/uio/lagringshotell/geofag/projects/miphclac/hannasv/fractions_repo/2004_04.nc',\n",
       " '/uio/lagringshotell/geofag/projects/miphclac/hannasv/fractions_repo/2005_05.nc',\n",
       " '/uio/lagringshotell/geofag/projects/miphclac/hannasv/fractions_repo/2005_06.nc']"
      ]
     },
     "execution_count": 13,
     "metadata": {},
     "output_type": "execute_result"
    }
   ],
   "source": [
    "files"
   ]
  },
  {
   "cell_type": "code",
   "execution_count": 14,
   "metadata": {},
   "outputs": [
    {
     "name": "stdout",
     "output_type": "stream",
     "text": [
      "/uio/lagringshotell/geofag/projects/miphclac/hannasv/fractions_repo/2004_04.nc\n",
      "690\n",
      "/uio/lagringshotell/geofag/projects/miphclac/hannasv/fractions_repo/2005_05.nc\n",
      "739\n",
      "/uio/lagringshotell/geofag/projects/miphclac/hannasv/fractions_repo/2005_06.nc\n",
      "715\n"
     ]
    }
   ],
   "source": [
    "for fil in files:\n",
    "    oo = xr.open_dataset(fil)\n",
    "    print(fil)\n",
    "    print(len(oo.time))"
   ]
  },
  {
   "cell_type": "code",
   "execution_count": null,
   "metadata": {},
   "outputs": [],
   "source": []
  },
  {
   "cell_type": "code",
   "execution_count": null,
   "metadata": {},
   "outputs": [],
   "source": []
  },
  {
   "cell_type": "code",
   "execution_count": null,
   "metadata": {},
   "outputs": [],
   "source": []
  }
 ],
 "metadata": {
  "kernelspec": {
   "display_name": "Python 2",
   "language": "python",
   "name": "python2"
  },
  "language_info": {
   "codemirror_mode": {
    "name": "ipython",
    "version": 2
   },
   "file_extension": ".py",
   "mimetype": "text/x-python",
   "name": "python",
   "nbconvert_exporter": "python",
   "pygments_lexer": "ipython2",
   "version": "2.7.15"
  }
 },
 "nbformat": 4,
 "nbformat_minor": 2
}
