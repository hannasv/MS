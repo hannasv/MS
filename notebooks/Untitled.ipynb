{
 "cells": [
  {
   "cell_type": "markdown",
   "metadata": {},
   "source": [
    "# Compute the patteren"
   ]
  },
  {
   "cell_type": "code",
   "execution_count": null,
   "metadata": {},
   "outputs": [],
   "source": []
  },
  {
   "cell_type": "code",
   "execution_count": 1,
   "metadata": {},
   "outputs": [],
   "source": [
    "import json\n",
    "import numpy as np\n",
    "import seaborn as sns\n",
    "import glob\n",
    "import xarray as xr\n",
    "import matplotlib.pyplot as plt"
   ]
  },
  {
   "cell_type": "code",
   "execution_count": 2,
   "metadata": {},
   "outputs": [],
   "source": [
    "save_dir = '/home/hanna/MS-suppl/files/'\n",
    "files = glob.glob(save_dir + '*.json')"
   ]
  },
  {
   "cell_type": "code",
   "execution_count": 3,
   "metadata": {},
   "outputs": [
    {
     "data": {
      "text/plain": [
       "['/home/hanna/MS-suppl/files/ERA5_grid_resample_includes_changes_to_indexes_from_50.0_55.0.json',\n",
       " '/home/hanna/MS-suppl/files/ERA5_grid_resample_includes_changes_to_indexes_from_35.0_40.0.json',\n",
       " '/home/hanna/MS-suppl/files/ERA5_grid_resample_includes_changes_to_indexes_from_40.0_45.0.json',\n",
       " '/home/hanna/MS-suppl/files/ERA5_grid_resample_includes_changes_to_indexes_from_30.0_35.0.json',\n",
       " '/home/hanna/MS-suppl/files/ERA5_grid_resample_includes_changes_to_indexes_from_45.0_50.0.json']"
      ]
     },
     "execution_count": 3,
     "metadata": {},
     "output_type": "execute_result"
    }
   ],
   "source": [
    "files"
   ]
  },
  {
   "cell_type": "code",
   "execution_count": 4,
   "metadata": {},
   "outputs": [],
   "source": [
    "def get_dict_with_all_keys():\n",
    "    ex_fil = glob.glob(save_dir + '*ERA5*.json')\n",
    "    ex_fil = np.sort(ex_fil)[:-1]\n",
    "    merged_dict = {}\n",
    "    for fil in ex_fil:\n",
    "        with open(fil, 'r') as f:\n",
    "            data_grid = json.load(f)\n",
    "        merged_dict.update(data_grid)   \n",
    "    return merged_dict"
   ]
  },
  {
   "cell_type": "code",
   "execution_count": 5,
   "metadata": {},
   "outputs": [],
   "source": [
    "all_data = get_dict_with_all_keys()"
   ]
  },
  {
   "cell_type": "code",
   "execution_count": 7,
   "metadata": {},
   "outputs": [
    {
     "name": "stdout",
     "output_type": "stream",
     "text": [
      "['/home/hanna/MS-suppl/files/ERA5_grid_resample_includes_changes_to_indexes_from_50.0_55.0.json', '/home/hanna/MS-suppl/files/ERA5_grid_resample_includes_changes_to_indexes_from_35.0_40.0.json', '/home/hanna/MS-suppl/files/ERA5_grid_resample_includes_changes_to_indexes_from_40.0_45.0.json', '/home/hanna/MS-suppl/files/ERA5_grid_resample_includes_changes_to_indexes_from_30.0_35.0.json', '/home/hanna/MS-suppl/files/ERA5_grid_resample_includes_changes_to_indexes_from_45.0_50.0.json']\n"
     ]
    }
   ],
   "source": [
    "import glob\n",
    "import os, sys\n",
    "import json\n",
    "\n",
    "import numpy as np\n",
    "import xarray as xr\n",
    "import pandas as pd\n",
    "import seaborn as sns\n",
    "## Read statistics\n",
    "from sclouds.plot.helper_bar_plot import (autolabel,\n",
    "                    read_global_statistics_to_dataframe)\n",
    "from sclouds.helpers import (VARIABLES, FILTERS, LONGNAME, path_stats_results,\n",
    "                                UNITS, path_store_plots)\n",
    "\n",
    "from sclouds.plot.helpers import (import_matplotlib, TEXT_WIDTH_IN,\n",
    "                                    TEXT_HEIGHT_IN, cmap_contour_plot, add_ticks)\n",
    "#mat = import_matplotlib()\n",
    "import matplotlib.pyplot as plt\n",
    "\n",
    "save_dir = '/home/hanna/MS-suppl/files/'\n",
    "files = glob.glob(save_dir + '*ERA5*.json')\n",
    "print(files)\n",
    "data = get_dict_with_all_keys()\n",
    "areas = np.zeros((len(data.keys()), len(list(data['30.0'].keys()))))\n",
    "for i, lat in enumerate(list(data.keys())):\n",
    "    for j, lon in enumerate(list(data[lat].keys())):\n",
    "        #print(data[lat][lon].keys())\n",
    "        centre = np.sum(data[lat][lon]['centre']['area'])\n",
    "        left = np.sum(data[lat][lon]['left']['area'])\n",
    "        up = np.sum(data[lat][lon]['up']['area'])\n",
    "        right = np.sum(data[lat][lon]['right']['area'])\n",
    "        down = np.sum(data[lat][lon]['down']['area'])\n",
    "\n",
    "        areas[i][j] = centre+left+up+down+left\n",
    "\n"
   ]
  },
  {
   "cell_type": "code",
   "execution_count": 24,
   "metadata": {},
   "outputs": [],
   "source": [
    "\n",
    "fig, ax = plt.subplots(1, 1, figsize = (TEXT_WIDTH_IN, 0.5*TEXT_WIDTH_IN) )\n",
    "ax = sns.heatmap(areas[:, :161], ax = ax, cmap = 'plasma', cbar_kws = {'label':'accumulated area in km2'})\n",
    "ax.invert_yaxis()\n",
    "#ax.plot(dataset['filtered'].values, bins=100, orientation='horizontal')\n",
    "plt.ylabel('Latitude')\n",
    "plt.xlabel('Longitude')\n",
    "plt.title('Area contrubution to a fraction in km2?')\n",
    "# impossible to distinguish this signal from whan all area is coverage by all clouds\n",
    "x_num_tikz = 20\n",
    "y_num_tikz = 15\n",
    "\n",
    "lat_min = 30.0\n",
    "lat_max = 50.0\n",
    "\n",
    "lon_min = -15\n",
    "lon_max = 25.0\n",
    "\n",
    "num_x = 161\n",
    "num_y = 81\n",
    "\n",
    "xticks        = np.linspace(0.5, num_x-0.5, x_num_tikz, endpoint = True)\n",
    "xticks_labels = np.linspace(lon_min, lon_max, x_num_tikz, endpoint = True)\n",
    "\n",
    "yticks        = np.linspace(0.5, num_y-0.5, y_num_tikz, endpoint = True)\n",
    "yticks_labels = np.linspace(lat_min, lat_max, y_num_tikz, endpoint = True)\n",
    "\n",
    "plt.yticks(yticks, labels = yticks_labels.astype(int), rotation='horizontal');\n",
    "plt.xticks(xticks, labels = xticks_labels.astype(int),  rotation='horizontal');\n",
    "        \n",
    "plt.subplots_adjust(bottom = 0.2, right = 0.97)\n",
    "plt.savefig(os.path.join(path_store_plots, 'signal_area_pixel.pdf'))"
   ]
  },
  {
   "cell_type": "code",
   "execution_count": null,
   "metadata": {},
   "outputs": [],
   "source": []
  },
  {
   "cell_type": "code",
   "execution_count": null,
   "metadata": {},
   "outputs": [],
   "source": []
  },
  {
   "cell_type": "code",
   "execution_count": null,
   "metadata": {},
   "outputs": [],
   "source": []
  },
  {
   "cell_type": "code",
   "execution_count": null,
   "metadata": {},
   "outputs": [],
   "source": []
  }
 ],
 "metadata": {
  "kernelspec": {
   "display_name": "Python 3",
   "language": "python",
   "name": "python3"
  },
  "language_info": {
   "codemirror_mode": {
    "name": "ipython",
    "version": 3
   },
   "file_extension": ".py",
   "mimetype": "text/x-python",
   "name": "python",
   "nbconvert_exporter": "python",
   "pygments_lexer": "ipython3",
   "version": "3.7.6"
  }
 },
 "nbformat": 4,
 "nbformat_minor": 4
}
