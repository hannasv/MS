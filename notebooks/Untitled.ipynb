{
 "cells": [
  {
   "cell_type": "code",
   "execution_count": 2,
   "metadata": {},
   "outputs": [],
   "source": [
    "import numpy as np"
   ]
  },
  {
   "cell_type": "code",
   "execution_count": 10,
   "metadata": {},
   "outputs": [],
   "source": [
    "epsi = np.logspace(-64, -1)"
   ]
  },
  {
   "cell_type": "code",
   "execution_count": 11,
   "metadata": {},
   "outputs": [
    {
     "data": {
      "text/plain": [
       "array([1.00000000e-64, 1.93069773e-63, 3.72759372e-62, 7.19685673e-61,\n",
       "       1.38949549e-59, 2.68269580e-58, 5.17947468e-57, 1.00000000e-55,\n",
       "       1.93069773e-54, 3.72759372e-53, 7.19685673e-52, 1.38949549e-50,\n",
       "       2.68269580e-49, 5.17947468e-48, 1.00000000e-46, 1.93069773e-45,\n",
       "       3.72759372e-44, 7.19685673e-43, 1.38949549e-41, 2.68269580e-40,\n",
       "       5.17947468e-39, 1.00000000e-37, 1.93069773e-36, 3.72759372e-35,\n",
       "       7.19685673e-34, 1.38949549e-32, 2.68269580e-31, 5.17947468e-30,\n",
       "       1.00000000e-28, 1.93069773e-27, 3.72759372e-26, 7.19685673e-25,\n",
       "       1.38949549e-23, 2.68269580e-22, 5.17947468e-21, 1.00000000e-19,\n",
       "       1.93069773e-18, 3.72759372e-17, 7.19685673e-16, 1.38949549e-14,\n",
       "       2.68269580e-13, 5.17947468e-12, 1.00000000e-10, 1.93069773e-09,\n",
       "       3.72759372e-08, 7.19685673e-07, 1.38949549e-05, 2.68269580e-04,\n",
       "       5.17947468e-03, 1.00000000e-01])"
      ]
     },
     "execution_count": 11,
     "metadata": {},
     "output_type": "execute_result"
    }
   ],
   "source": [
    "epsi"
   ]
  },
  {
   "cell_type": "code",
   "execution_count": null,
   "metadata": {},
   "outputs": [],
   "source": []
  },
  {
   "cell_type": "code",
   "execution_count": 12,
   "metadata": {},
   "outputs": [
    {
     "data": {
      "text/plain": [
       "array([147.36544595, 144.4049794 , 141.44451286, 138.48404631,\n",
       "       135.52357976, 132.56311321, 129.60264666, 126.64218011,\n",
       "       123.68171357, 120.72124702, 117.76078047, 114.80031392,\n",
       "       111.83984737, 108.87938083, 105.91891428, 102.95844773,\n",
       "        99.99798118,  97.03751463,  94.07704809,  91.11658154,\n",
       "        88.15611499,  85.19564844,  82.23518189,  79.27471534,\n",
       "        76.3142488 ,  73.35378225,  70.3933157 ,  67.43284915,\n",
       "        64.4723826 ,  61.51191606,  58.55144951,  55.59098296,\n",
       "        52.63051641,  49.67004986,  46.70958332,  43.74911677,\n",
       "        40.78865022,  37.82818367,  34.86771712,  31.90725057,\n",
       "        28.94678403,  25.98631748,  23.02585093,  20.06538438,\n",
       "        17.10491783,  14.14445129,  11.18398474,   8.22351819,\n",
       "         5.26305164,   2.30258509])"
      ]
     },
     "execution_count": 12,
     "metadata": {},
     "output_type": "execute_result"
    }
   ],
   "source": [
    "np.log(1/(1-1+epsi))"
   ]
  },
  {
   "cell_type": "code",
   "execution_count": null,
   "metadata": {},
   "outputs": [],
   "source": []
  },
  {
   "cell_type": "code",
   "execution_count": null,
   "metadata": {},
   "outputs": [],
   "source": []
  }
 ],
 "metadata": {
  "kernelspec": {
   "display_name": "Python 3",
   "language": "python",
   "name": "python3"
  },
  "language_info": {
   "codemirror_mode": {
    "name": "ipython",
    "version": 3
   },
   "file_extension": ".py",
   "mimetype": "text/x-python",
   "name": "python",
   "nbconvert_exporter": "python",
   "pygments_lexer": "ipython3",
   "version": "3.7.6"
  }
 },
 "nbformat": 4,
 "nbformat_minor": 4
}
