{
 "cells": [
  {
   "cell_type": "code",
   "execution_count": 2,
   "metadata": {},
   "outputs": [
    {
     "name": "stdout",
     "output_type": "stream",
     "text": [
      "Warning.. Using pgf backend, no GUI available. use plt.savefig() for inpection\n",
      "Warning.. Using pgf backend, no GUI available. use plt.savefig() for inpection\n"
     ]
    }
   ],
   "source": [
    "import glob\n",
    "import xarray as xr\n",
    "import numpy as np\n",
    "import xarray as xr\n",
    "import seaborn as sns\n",
    "import glob\n",
    "import os\n",
    "\n",
    "from matplotlib.ticker import (MultipleLocator, FormatStrFormatter,\n",
    "                               AutoMinorLocator)\n",
    "\n",
    "from sclouds.helpers import (path_input, path_stats_results, VARIABLES,\n",
    "                                UNITS, LONGNAME, STATISTICS, LONGNAME_STATISTICS)\n",
    "from sclouds.io.utils import get_xarray_dataset_for_period\n",
    "from sclouds.plot.helpers import (PP_WIDTH_IN, PP_HEIGHT_IN,\n",
    "                                    path_python_figures, import_matplotlib_pp,\n",
    "                                    cmap_contour_plot, levels_contourplot,\n",
    "                                    color_maps, add_ticks)\n",
    "mat = import_matplotlib_pp()\n",
    "import matplotlib.pyplot as plt\n",
    "path_presentation = '/home/hanna/MS-presentation/figures/'\n",
    "HMM = ['q' 't2m' 'r' 'sp' 'bias' 'O1'] # KAN MAN TA SEL DENNE ???\n",
    "# extending units for bae\n",
    "UNITS['O1']   = 1\n",
    "UNITS['O2']   = 1\n",
    "UNITS['O3']   = 1\n",
    "UNITS['O4']   = 1\n",
    "UNITS['O5']   = 1\n",
    "UNITS['bias'] = 1\n",
    "\n",
    "LONGNAME['bias'] = 'Bias'\n",
    "LONGNAME['O1']   = 'Cloud Fractional Cover Lag 1'\n",
    "LONGNAME['O2']   = 'Cloud Fractional Cover Lag 2'\n",
    "LONGNAME['O3']   = 'Cloud Fractional Cover Lag 3'\n",
    "LONGNAME['O4']   = 'Cloud Fractional Cover Lag 4'\n",
    "LONGNAME['O5']   = 'Cloud Fractional Cover Lag 5'\n",
    "\n",
    "HMM = ['q', 't2m', 'r', 'sp', 'bias', 'O1', 'O2', 'O3', 'O4', 'O5']\n",
    "#boundary = []\n",
    "n_rows = len(HMM)\n",
    "n_cols = 1\n",
    "#print(n_rows)\n",
    "#print(n_cols)\n",
    "levels_contourplot = 100\n"
   ]
  },
  {
   "cell_type": "code",
   "execution_count": 5,
   "metadata": {},
   "outputs": [],
   "source": [
    "fig, ax =  plt.subplots(nrows = 1, ncols = 1, sharex=True, sharey=True)\n",
    "#print(axes.flatten())\n",
    "fig.set_size_inches(w = PP_WIDTH_IN, h = PP_HEIGHT_IN)\n",
    "\n",
    "ax = add_ticks(ax, x_num_tikz = 7, y_num_tikz = 5)   \n",
    "\n",
    "ax.set_title('test')\n",
    "ax.set_ylabel('Longitude')\n",
    "ax.set_xlabel('Latitude')\n",
    "\n",
    "plt.subplots_adjust(wspace = 0.37, hspace = 0.2, top=0.9, bottom=0.15, \n",
    "                    left = 0.1, right = 0.92)\n",
    "plt.savefig(path_presentation + 'weightsL1_AR-B-L5_best_ar_model.png')\n"
   ]
  },
  {
   "cell_type": "code",
   "execution_count": null,
   "metadata": {},
   "outputs": [],
   "source": []
  }
 ],
 "metadata": {
  "kernelspec": {
   "display_name": "Python 3",
   "language": "python",
   "name": "python3"
  },
  "language_info": {
   "codemirror_mode": {
    "name": "ipython",
    "version": 3
   },
   "file_extension": ".py",
   "mimetype": "text/x-python",
   "name": "python",
   "nbconvert_exporter": "python",
   "pygments_lexer": "ipython3",
   "version": "3.7.6"
  }
 },
 "nbformat": 4,
 "nbformat_minor": 4
}
