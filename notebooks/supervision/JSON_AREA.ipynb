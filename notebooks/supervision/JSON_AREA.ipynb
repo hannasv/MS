{
 "cells": [
  {
   "cell_type": "markdown",
   "metadata": {},
   "source": [
    "# Double checking"
   ]
  },
  {
   "cell_type": "code",
   "execution_count": 1,
   "metadata": {},
   "outputs": [],
   "source": [
    "import glob\n",
    "import os, sys\n",
    "import json\n",
    "\n",
    "import numpy as np\n",
    "import xarray as xr\n",
    "import pandas as pd\n",
    "import seaborn as sns"
   ]
  },
  {
   "cell_type": "code",
   "execution_count": null,
   "metadata": {},
   "outputs": [],
   "source": [
    "## Read statistics\n",
    "#from sclouds.plot.helper_bar_plot import (autolabel,\n",
    "#                    read_global_statistics_to_dataframe)\n",
    "#from sclouds.helpers import (VARIABLES, FILTERS, LONGNAME, path_stats_results,\n",
    "#                                UNITS, path_store_plots)\n",
    "#from sclouds.plot.helpers import (import_matplotlib, TEXT_WIDTH_IN,\n",
    "#                                    TEXT_HEIGHT_IN, cmap_contour_plot, add_ticks)\n",
    "#mat = import_matplotlib()\n",
    "#import matplotlib.pyplot as plt"
   ]
  },
  {
   "cell_type": "code",
   "execution_count": 2,
   "metadata": {},
   "outputs": [],
   "source": [
    "save_dir = '/home/hanna/MS-suppl/files/'\n",
    "files = glob.glob(save_dir + '*ERA5*.json')\n",
    "\n",
    "x_num_tikz = 20\n",
    "y_num_tikz = 15\n",
    "\n",
    "lat_min = 30.0\n",
    "lat_max = 50.0\n",
    "\n",
    "lon_min = -15\n",
    "lon_max = 25.0\n",
    "\n",
    "num_x = 161\n",
    "num_y = 81\n",
    "\n",
    "xticks        = np.linspace(0.5, num_x-0.5, x_num_tikz, endpoint = True)\n",
    "xticks_labels = np.linspace(lon_min, lon_max, x_num_tikz, endpoint = True)\n",
    "\n",
    "yticks        = np.linspace(0.5, num_y-0.5, y_num_tikz, endpoint = True)\n",
    "yticks_labels = np.linspace(lat_min, lat_max, y_num_tikz, endpoint = True)\n",
    "\n",
    "def get_dict_with_all_keys():\n",
    "    ex_fil = glob.glob(save_dir + '*ERA5*.json')\n",
    "    ex_fil = np.sort(ex_fil)[:-1]\n",
    "    merged_dict = {}\n",
    "    for fil in ex_fil:\n",
    "        with open(fil, 'r') as f:\n",
    "            data_grid = json.load(f)\n",
    "        merged_dict.update(data_grid)\n",
    "    return merged_dict\n",
    "data = get_dict_with_all_keys()\n",
    "\n",
    "areas = np.zeros((len(data.keys()), len(list(data['30.0'].keys()))))\n",
    "for i, lat in enumerate(list(data.keys())):\n",
    "    for j, lon in enumerate(list(data[lat].keys())):\n",
    "        #print(data[lat][lon].keys())\n",
    "        centre = np.sum(data[lat][lon]['centre']['area'])\n",
    "        left = np.sum(data[lat][lon]['left']['area'])\n",
    "        up = np.sum(data[lat][lon]['up']['area'])\n",
    "        right = np.sum(data[lat][lon]['right']['area'])\n",
    "        down = np.sum(data[lat][lon]['down']['area'])\n",
    "\n",
    "        areas[i][j] = centre+left+up+down+left\n"
   ]
  },
  {
   "cell_type": "code",
   "execution_count": 3,
   "metadata": {},
   "outputs": [
    {
     "data": {
      "text/plain": [
       "array([[104.05904732, 104.15325779, 102.34120944, ..., 104.63457816,\n",
       "        105.51116622, 107.91707269],\n",
       "       [100.18265973, 102.89898997, 104.66160305, ..., 107.36349268,\n",
       "        107.05385496, 103.80604304],\n",
       "       [105.78294254, 103.24629227, 103.16368864, ..., 107.11864469,\n",
       "        101.90509109, 100.38267205],\n",
       "       ...,\n",
       "       [ 74.87232535,  76.54459526,  79.3130488 , ...,  79.06202572,\n",
       "         83.0205406 ,  79.52326677],\n",
       "       [ 74.12436036,  71.96158789,  80.80841579, ...,  77.35441856,\n",
       "         79.04620576,  74.43137403],\n",
       "       [ 78.23061972,  75.00885764,  75.03903185, ...,  78.2393638 ,\n",
       "         76.76972706,  78.05368314]])"
      ]
     },
     "execution_count": 3,
     "metadata": {},
     "output_type": "execute_result"
    }
   ],
   "source": [
    "areas"
   ]
  },
  {
   "cell_type": "code",
   "execution_count": null,
   "metadata": {},
   "outputs": [],
   "source": []
  },
  {
   "cell_type": "code",
   "execution_count": null,
   "metadata": {},
   "outputs": [],
   "source": [
    "\n",
    "fig, ax = plt.subplots(1, 1, figsize = (TEXT_WIDTH_IN, 0.5*TEXT_WIDTH_IN) )\n",
    "ax = sns.heatmap(areas[:, :161], ax = ax, cmap = 'viridis', cbar_kws = {'label':'accumulated area in km2'})\n",
    "ax.invert_yaxis()\n",
    "#ax.plot(dataset['filtered'].values, bins=100, orientation='horizontal')\n",
    "plt.title('Area contrubution to a fraction in km2?')\n",
    "\n",
    "plt.ylabel('Latitude')\n",
    "plt.xlabel('Longitude')"
   ]
  }
 ],
 "metadata": {
  "kernelspec": {
   "display_name": "Python 3",
   "language": "python",
   "name": "python3"
  },
  "language_info": {
   "codemirror_mode": {
    "name": "ipython",
    "version": 3
   },
   "file_extension": ".py",
   "mimetype": "text/x-python",
   "name": "python",
   "nbconvert_exporter": "python",
   "pygments_lexer": "ipython3",
   "version": "3.7.6"
  }
 },
 "nbformat": 4,
 "nbformat_minor": 4
}
