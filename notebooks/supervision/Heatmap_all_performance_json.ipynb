{
 "cells": [
  {
   "cell_type": "code",
   "execution_count": 1,
   "metadata": {},
   "outputs": [],
   "source": [
    "import glob\n",
    "import json\n",
    "\n",
    "import xarray as xr\n",
    "import numpy as np\n",
    "\n",
    "import pandas as pd\n",
    "import seaborn as sns"
   ]
  },
  {
   "cell_type": "markdown",
   "metadata": {},
   "source": [
    "# Best model plot -- HEATMAP"
   ]
  },
  {
   "cell_type": "code",
   "execution_count": 2,
   "metadata": {},
   "outputs": [],
   "source": [
    "srch_str = '/home/hanna/EX3_AR_SUMMARY/*.json'"
   ]
  },
  {
   "cell_type": "code",
   "execution_count": 3,
   "metadata": {},
   "outputs": [
    {
     "data": {
      "text/plain": [
       "['/home/hanna/EX3_AR_SUMMARY/Xar_mae_performance.json',\n",
       " '/home/hanna/EX3_AR_SUMMARY/Xar_mse_performance.json',\n",
       " '/home/hanna/EX3_AR_SUMMARY/ar_mse_performance.json',\n",
       " '/home/hanna/EX3_AR_SUMMARY/Yar_mae_performance.json',\n",
       " '/home/hanna/EX3_AR_SUMMARY/ar_mae_performance.json']"
      ]
     },
     "execution_count": 3,
     "metadata": {},
     "output_type": "execute_result"
    }
   ],
   "source": [
    "glob.glob(srch_str)"
   ]
  },
  {
   "cell_type": "code",
   "execution_count": 4,
   "metadata": {},
   "outputs": [],
   "source": [
    "# For when actually reading the json file.\n",
    "with open('/home/hanna/EX3_AR_SUMMARY/ar_mae_performance.json') as f:\n",
    "    data = json.load(f)"
   ]
  },
  {
   "cell_type": "code",
   "execution_count": 5,
   "metadata": {},
   "outputs": [
    {
     "data": {
      "text/plain": [
       "{'AR-B-5-L5': {'mae_train': [nan,\n",
       "   671.3465085862642,\n",
       "   663.168293601844,\n",
       "   659.7584775029061,\n",
       "   658.3037892026349,\n",
       "   657.5310568623834],\n",
       "  'mae_test': [nan,\n",
       "   650.5521953120024,\n",
       "   643.6644140773706,\n",
       "   640.6431257749405,\n",
       "   639.2869404499774,\n",
       "   638.5771301517702],\n",
       "  'num_trained_models': [13041, 13041, 13041, 13041, 13041, 13041]},\n",
       " 'TR-B-5-L5': {'mae_train': [nan,\n",
       "   1959.9831871359675,\n",
       "   1931.7075512039257,\n",
       "   1919.1626480225382,\n",
       "   1913.2349780199302,\n",
       "   1909.8078351281385],\n",
       "  'mae_test': [nan,\n",
       "   1927.8631768704374,\n",
       "   1900.9120094325754,\n",
       "   1889.1204821526762,\n",
       "   1883.5870120414293,\n",
       "   1880.4800433776545],\n",
       "  'num_trained_models': [0, 13041, 13041, 13041, 13041, 13041]},\n",
       " 'AR-T-5-L5': {'mae_train': [nan,\n",
       "   5482.146935013481,\n",
       "   nan,\n",
       "   5408.834698734015,\n",
       "   5372.999894682853,\n",
       "   5338.918759492995],\n",
       "  'mae_test': [nan,\n",
       "   5780.75499021119,\n",
       "   nan,\n",
       "   5723.062510722784,\n",
       "   5694.592531966111,\n",
       "   5667.046378989056],\n",
       "  'num_trained_models': [13041, 13041, 13041, 13041, 13040, 13040]},\n",
       " 'TR-T-5-L5': {'mae_train': [nan,\n",
       "   7237.10965912469,\n",
       "   7196.273804414343,\n",
       "   7156.34854913884,\n",
       "   7118.479446227317,\n",
       "   7084.163338551019],\n",
       "  'mae_test': [nan,\n",
       "   7383.201724831454,\n",
       "   7345.783088126037,\n",
       "   7309.530899036785,\n",
       "   7275.469940927508,\n",
       "   7244.630546102634],\n",
       "  'num_trained_models': [0, 13041, 13041, 13041, 13040, 13040]},\n",
       " 'AR-S-5-L5': {'mae_train': [nan,\n",
       "   556.7622472798296,\n",
       "   549.6607018608044,\n",
       "   546.6659539025945,\n",
       "   545.3686834384089,\n",
       "   544.6196384511707],\n",
       "  'mae_test': [nan,\n",
       "   539.2984977496845,\n",
       "   533.3375826575414,\n",
       "   530.6971953455991,\n",
       "   529.4967061592761,\n",
       "   528.8116791245442],\n",
       "  'num_trained_models': [13041, 13041, 13041, 13041, 13041, 13040]},\n",
       " 'TR-S-5-L5': {'mae_train': [nan,\n",
       "   1574.1236439763045,\n",
       "   1570.499736501391,\n",
       "   1574.2517519538246,\n",
       "   1579.4245482568972,\n",
       "   1584.2910028883505],\n",
       "  'mae_test': [nan,\n",
       "   1558.1370023510692,\n",
       "   1553.4838482922603,\n",
       "   1556.4713063636857,\n",
       "   1561.0448658234614,\n",
       "   1565.5426291689096],\n",
       "  'num_trained_models': [0, 13041, 13041, 13041, 13041, 13040]},\n",
       " 'AR-B-S-5-L5': {'mae_train': [nan,\n",
       "   554.8318252779043,\n",
       "   548.0729699188793,\n",
       "   545.2549400850462,\n",
       "   544.0060873718264,\n",
       "   543.367522223059],\n",
       "  'mae_test': [nan,\n",
       "   537.6464424066213,\n",
       "   531.9540612209616,\n",
       "   529.4571287396225,\n",
       "   528.2871190379533,\n",
       "   527.7005992577199],\n",
       "  'num_trained_models': [13041, 13041, 13041, 13041, 13040, 13040]},\n",
       " 'TR-B-S-5-L5': {'mae_train': [nan,\n",
       "   nan,\n",
       "   1756.0977738217423,\n",
       "   1744.6933163841286,\n",
       "   1739.1591600497368,\n",
       "   1736.0438767468108],\n",
       "  'mae_test': [nan,\n",
       "   nan,\n",
       "   1728.101826756878,\n",
       "   1717.382256502436,\n",
       "   1712.2007344533545,\n",
       "   1709.3764638767989],\n",
       "  'num_trained_models': [0, 13041, 13041, 13041, 13040, 13040]},\n",
       " 'AR-T-S-5-L5': {'mae_train': [nan,\n",
       "   4530.699946292132,\n",
       "   4499.698778068336,\n",
       "   4470.111321267781,\n",
       "   4440.813329443834,\n",
       "   nan],\n",
       "  'mae_test': [nan,\n",
       "   4777.4834629844545,\n",
       "   4753.2062788334115,\n",
       "   4729.80372787007,\n",
       "   4706.611543381248,\n",
       "   nan],\n",
       "  'num_trained_models': [13041, 13041, 13041, 13041, 13041, 13041]},\n",
       " 'TR-T-S-5-L5': {'mae_train': [nan,\n",
       "   6579.190599204263,\n",
       "   6542.067094922129,\n",
       "   6505.7714083080355,\n",
       "   6471.820554035821,\n",
       "   6440.621011132292],\n",
       "  'mae_test': [nan,\n",
       "   6712.001568028596,\n",
       "   6677.9846255691255,\n",
       "   6645.02809003344,\n",
       "   6614.542971717883,\n",
       "   6586.504345818614],\n",
       "  'num_trained_models': [0, 13041, 13041, 13041, 13041, 13041]},\n",
       " 'AR-5-L5': {'mae_train': [1947.4894137813267,\n",
       "   673.6823192085939,\n",
       "   665.0894492515732,\n",
       "   661.4658042221395,\n",
       "   659.8961069604748,\n",
       "   659.0486844321945],\n",
       "  'mae_test': [1920.1493975150174,\n",
       "   652.551182277117,\n",
       "   645.3384750156258,\n",
       "   642.1436063681756,\n",
       "   640.6910144527233,\n",
       "   639.9186085676238],\n",
       "  'num_trained_models': [13041, 13041, 13041, 13041, 13041, 13041]},\n",
       " 'TR-5-L5': {'mae_train': [nan,\n",
       "   nan,\n",
       "   1727.549710151542,\n",
       "   1731.6769271492224,\n",
       "   1737.3670030825883,\n",
       "   1742.8781048295596],\n",
       "  'mae_test': [nan,\n",
       "   nan,\n",
       "   1708.832233121499,\n",
       "   1712.1184370000701,\n",
       "   1717.1493524058092,\n",
       "   1722.2531325013183],\n",
       "  'num_trained_models': [0, 13041, 13041, 13041, 13041, 13041]}}"
      ]
     },
     "execution_count": 5,
     "metadata": {},
     "output_type": "execute_result"
    }
   ],
   "source": [
    "data"
   ]
  },
  {
   "cell_type": "code",
   "execution_count": 8,
   "metadata": {},
   "outputs": [
    {
     "data": {
      "text/plain": [
       "dict_keys(['AR-B-5-L5', 'TR-B-5-L5', 'AR-T-5-L5', 'TR-T-5-L5', 'AR-S-5-L5', 'TR-S-5-L5', 'AR-B-S-5-L5', 'TR-B-S-5-L5', 'AR-T-S-5-L5', 'TR-T-S-5-L5', 'AR-5-L5', 'TR-5-L5'])"
      ]
     },
     "execution_count": 8,
     "metadata": {},
     "output_type": "execute_result"
    }
   ],
   "source": [
    "data.keys()"
   ]
  },
  {
   "cell_type": "code",
   "execution_count": 12,
   "metadata": {},
   "outputs": [],
   "source": [
    "mae = 'mae_test'"
   ]
  },
  {
   "cell_type": "code",
   "execution_count": 28,
   "metadata": {},
   "outputs": [],
   "source": [
    "subset = {}"
   ]
  },
  {
   "cell_type": "code",
   "execution_count": 9,
   "metadata": {},
   "outputs": [],
   "source": [
    "mae = 'mae_test'\n",
    "subset = {}\n",
    "for key, item in data.items():\n",
    "    key = key.split('-5-')[0]\n",
    "    subset[key] = item[mae]"
   ]
  },
  {
   "cell_type": "code",
   "execution_count": 10,
   "metadata": {},
   "outputs": [
    {
     "data": {
      "text/plain": [
       "{'AR-B': [nan,\n",
       "  395.5855620342664,\n",
       "  392.02873690390953,\n",
       "  390.5588770539713,\n",
       "  390.0462830124256,\n",
       "  390.2190448101485],\n",
       " 'TR-B': [nan,\n",
       "  1169.1104051375185,\n",
       "  1156.272720971215,\n",
       "  1151.2183560609717,\n",
       "  1149.7148839223755,\n",
       "  1149.705742921129],\n",
       " 'AR-T': [nan,\n",
       "  2679.0511742006256,\n",
       "  nan,\n",
       "  2644.252024652008,\n",
       "  2630.1528113364693,\n",
       "  2618.1711758104852],\n",
       " 'TR-T': [nan,\n",
       "  3686.994519430901,\n",
       "  3666.0837197981045,\n",
       "  3646.8216113458893,\n",
       "  3631.432102666765,\n",
       "  3617.9131745637433],\n",
       " 'AR-S': [nan,\n",
       "  313.98832509408686,\n",
       "  311.02709842174914,\n",
       "  309.79755014794165,\n",
       "  309.408631794893,\n",
       "  309.33779942136704],\n",
       " 'TR-S': [nan,\n",
       "  895.2099042733385,\n",
       "  897.3956671655492,\n",
       "  901.5888099213091,\n",
       "  906.2545945915755,\n",
       "  910.5602905838775],\n",
       " 'AR-B-S': [nan,\n",
       "  311.99892690934644,\n",
       "  309.2064654201156,\n",
       "  308.0638118697857,\n",
       "  307.7269027771114,\n",
       "  307.78192567998246],\n",
       " 'TR-B-S': [nan,\n",
       "  nan,\n",
       "  1000.5565332792975,\n",
       "  996.0964082596453,\n",
       "  994.6767029542682,\n",
       "  994.6187159031736],\n",
       " 'AR-T-S': [nan,\n",
       "  2070.293763408762,\n",
       "  2057.83711390357,\n",
       "  2046.1025566933595,\n",
       "  2034.8573966531121,\n",
       "  nan],\n",
       " 'TR-T-S': [nan,\n",
       "  3138.7382133595006,\n",
       "  3121.3286419764495,\n",
       "  3103.7067806361433,\n",
       "  3088.3264524564484,\n",
       "  3074.9032372207507],\n",
       " 'AR': [753.1295102236656,\n",
       "  257.40224900001783,\n",
       "  255.00429263940399,\n",
       "  254.07156175239498,\n",
       "  253.7447575261336,\n",
       "  253.75738578107791],\n",
       " 'TR': [nan,\n",
       "  nan,\n",
       "  657.7636540132937,\n",
       "  661.342576549026,\n",
       "  664.8084199718895,\n",
       "  668.0628342154857]}"
      ]
     },
     "execution_count": 10,
     "metadata": {},
     "output_type": "execute_result"
    }
   ],
   "source": [
    "subset"
   ]
  },
  {
   "cell_type": "code",
   "execution_count": 6,
   "metadata": {},
   "outputs": [],
   "source": [
    "import pandas as pd\n",
    "import seaborn as sns"
   ]
  },
  {
   "cell_type": "code",
   "execution_count": 11,
   "metadata": {},
   "outputs": [],
   "source": [
    "mae = 'mae_test'\n",
    "subset = {}\n",
    "for key, item in data.items():\n",
    "    key = key.split('-5-')[0]\n",
    "    subset[key] = item[mae]\n",
    "df = pd.DataFrame.from_dict(subset).transpose()"
   ]
  },
  {
   "cell_type": "code",
   "execution_count": 13,
   "metadata": {},
   "outputs": [
    {
     "data": {
      "text/plain": [
       "<matplotlib.axes._subplots.AxesSubplot at 0x7f903873dd50>"
      ]
     },
     "execution_count": 13,
     "metadata": {},
     "output_type": "execute_result"
    },
    {
     "data": {
      "image/png": "[encoded data removed]",
      "text/plain": [
       "<Figure size 432x288 with 2 Axes>"
      ]
     },
     "metadata": {
      "needs_background": "light"
     },
     "output_type": "display_data"
    }
   ],
   "source": [
    "sns.heatmap(df)"
   ]
  },
  {
   "cell_type": "code",
   "execution_count": null,
   "metadata": {},
   "outputs": [],
   "source": []
  },
  {
   "cell_type": "code",
   "execution_count": null,
   "metadata": {},
   "outputs": [],
   "source": [
    "TEXT_WIDTH_IN  = 6.1023622\n",
    "TEXT_HEIGHT_IN = 9.72440945\n",
    "\n",
    "import matplotlib.pyplot as plt\n",
    "\n",
    "mae = 'num_trained_models'\n",
    "mae = 'mae_test'\n",
    "\n",
    "for mae in ['num_trained_models', 'mae_test']:\n",
    "    subset = {}\n",
    "    for key, item in data.items():\n",
    "        key = key.split('-5-')[0]\n",
    "        subset[key] = item[mae]*43824\n",
    "    df = pd.DataFrame.from_dict(subset).transpose()\n",
    "\n",
    "    fig, ax = plt.subplots(1, 1, figsize = (TEXT_WIDTH_IN, 0.5*TEXT_WIDTH_IN) )\n",
    "\n",
    "    ax = sns.heatmap(df, linewidths=0.1, annot=True, # fmt=\"d\",\n",
    "                cbar_kws={'label':'{}'.format(mae)}, ax = ax, cmap = 'viridis', fmt = '5.2f')\n",
    "\n",
    "    ax.set_ylabel('Model')\n",
    "    ax.set_xlabel('Lag')\n",
    "\n",
    "    plt.subplots_adjust(hspace = 0.2, top=0.97, bottom=0.20, left = 0.15, right = 1.0)\n",
    "    fig.savefig(path_python_figures + 'heat_ar_model_{}_score.png'.format(mae))\n",
    "    print('Finished {}'.format(mae))\n"
   ]
  },
  {
   "cell_type": "code",
   "execution_count": null,
   "metadata": {},
   "outputs": [],
   "source": []
  },
  {
   "cell_type": "code",
   "execution_count": null,
   "metadata": {},
   "outputs": [],
   "source": []
  },
  {
   "cell_type": "code",
   "execution_count": null,
   "metadata": {},
   "outputs": [],
   "source": []
  },
  {
   "cell_type": "code",
   "execution_count": null,
   "metadata": {},
   "outputs": [],
   "source": []
  }
 ],
 "metadata": {
  "kernelspec": {
   "display_name": "Python 3",
   "language": "python",
   "name": "python3"
  },
  "language_info": {
   "codemirror_mode": {
    "name": "ipython",
    "version": 3
   },
   "file_extension": ".py",
   "mimetype": "text/x-python",
   "name": "python",
   "nbconvert_exporter": "python",
   "pygments_lexer": "ipython3",
   "version": "3.7.6"
  }
 },
 "nbformat": 4,
 "nbformat_minor": 4
}
