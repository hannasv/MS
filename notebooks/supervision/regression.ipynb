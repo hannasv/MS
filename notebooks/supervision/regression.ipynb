{
 "cells": [
  {
   "cell_type": "code",
   "execution_count": 1,
   "metadata": {},
   "outputs": [],
   "source": [
    "import os\n",
    "\n",
    "import glob\n",
    "import numpy as np \n",
    "import seaborn as sns"
   ]
  },
  {
   "cell_type": "markdown",
   "metadata": {},
   "source": [
    "# På lagringshotellet"
   ]
  },
  {
   "cell_type": "code",
   "execution_count": 2,
   "metadata": {},
   "outputs": [],
   "source": [
    "# If num files regression < num files ar data rerun regression for that version "
   ]
  },
  {
   "cell_type": "markdown",
   "metadata": {},
   "source": [
    "# model results"
   ]
  },
  {
   "cell_type": "code",
   "execution_count": 3,
   "metadata": {},
   "outputs": [],
   "source": [
    "path = '/home/hanna/lagrings/results/ar/'"
   ]
  },
  {
   "cell_type": "code",
   "execution_count": 4,
   "metadata": {},
   "outputs": [],
   "source": [
    "def generate_model_name(model_type, bias, transform, sigmoid, order):\n",
    "    name = model_type\n",
    "    if bias:\n",
    "        name += '-B'\n",
    "    if transform:\n",
    "        name += '-T'\n",
    "    if sigmoid:\n",
    "        name += '-S'\n",
    "    name += '-{}'.format(order)\n",
    "    return name"
   ]
  },
  {
   "cell_type": "code",
   "execution_count": 5,
   "metadata": {},
   "outputs": [
    {
     "data": {
      "text/plain": [
       "'AR-5'"
      ]
     },
     "execution_count": 5,
     "metadata": {},
     "output_type": "execute_result"
    }
   ],
   "source": [
    "generate_model_name(model_type='AR', bias=False, transform=False, sigmoid=False, order=5)"
   ]
  },
  {
   "cell_type": "code",
   "execution_count": 6,
   "metadata": {},
   "outputs": [],
   "source": [
    "files = glob.glob(path+f'*performance*AR-5*o3*')"
   ]
  },
  {
   "cell_type": "markdown",
   "metadata": {},
   "source": [
    "# List of configured models"
   ]
  },
  {
   "cell_type": "code",
   "execution_count": 7,
   "metadata": {},
   "outputs": [],
   "source": [
    "m0 = generate_model_name(model_type='*', bias=True, transform=False, sigmoid=False, order=5)\n",
    "m1 = generate_model_name(model_type='*', bias=False, transform=False, sigmoid=False, order=5)\n",
    "m2 = generate_model_name(model_type='*', bias=True, transform=False, sigmoid=True, order=5)\n",
    "m3 = generate_model_name(model_type='*', bias=False, transform=True, sigmoid=True, order=5)\n",
    "m4 = generate_model_name(model_type='*', bias=False, transform=True, sigmoid=False, order=5)\n",
    "m5 = generate_model_name(model_type='*', bias=False, transform=False, sigmoid=True, order=5)"
   ]
  },
  {
   "cell_type": "code",
   "execution_count": 8,
   "metadata": {},
   "outputs": [],
   "source": [
    "model_names = [m0, m1, m2, m3, m4, m5]"
   ]
  },
  {
   "cell_type": "code",
   "execution_count": 9,
   "metadata": {},
   "outputs": [
    {
     "name": "stdout",
     "output_type": "stream",
     "text": [
      "For model *-B-5 o0, 1564 is trained.\n",
      "For model *-B-5 o1, 3128 is trained.\n",
      "For model *-B-5 o2, 3128 is trained.\n",
      "For model *-B-5 o3, 3128 is trained.\n",
      "For model *-B-5 o4, 3128 is trained.\n",
      "For model *-B-5 o5, 3128 is trained.\n",
      "For model *-5 o0, 9410 is trained.\n",
      "For model *-5 o1, 18818 is trained.\n",
      "For model *-5 o2, 18818 is trained.\n",
      "For model *-5 o3, 18818 is trained.\n",
      "For model *-5 o4, 18818 is trained.\n",
      "For model *-5 o5, 18818 is trained.\n",
      "For model *-B-S-5 o0, 1615 is trained.\n",
      "For model *-B-S-5 o1, 3230 is trained.\n",
      "For model *-B-S-5 o2, 3230 is trained.\n",
      "For model *-B-S-5 o3, 3230 is trained.\n",
      "For model *-B-S-5 o4, 3230 is trained.\n",
      "For model *-B-S-5 o5, 3230 is trained.\n",
      "For model *-T-S-5 o0, 2436 is trained.\n",
      "For model *-T-S-5 o1, 4872 is trained.\n",
      "For model *-T-S-5 o2, 4872 is trained.\n",
      "For model *-T-S-5 o3, 4872 is trained.\n",
      "For model *-T-S-5 o4, 4872 is trained.\n",
      "For model *-T-S-5 o5, 4872 is trained.\n",
      "For model *-T-5 o0, 316 is trained.\n",
      "For model *-T-5 o1, 632 is trained.\n",
      "For model *-T-5 o2, 632 is trained.\n",
      "For model *-T-5 o3, 632 is trained.\n",
      "For model *-T-5 o4, 632 is trained.\n",
      "For model *-T-5 o5, 632 is trained.\n",
      "For model *-S-5 o0, 6770 is trained.\n",
      "For model *-S-5 o1, 13538 is trained.\n",
      "For model *-S-5 o2, 13538 is trained.\n",
      "For model *-S-5 o3, 13538 is trained.\n",
      "For model *-S-5 o4, 13538 is trained.\n",
      "For model *-S-5 o5, 13538 is trained.\n"
     ]
    }
   ],
   "source": [
    "for name in model_names:\n",
    "    for i in range(6):\n",
    "        files = glob.glob(path+f'*performance*{name}*o{i}*')\n",
    "        print(f'For model {name} o{i}, {len(files)} is trained.')"
   ]
  },
  {
   "cell_type": "code",
   "execution_count": null,
   "metadata": {},
   "outputs": [],
   "source": []
  },
  {
   "cell_type": "markdown",
   "metadata": {},
   "source": [
    "# Get status of configured models"
   ]
  },
  {
   "cell_type": "code",
   "execution_count": 10,
   "metadata": {},
   "outputs": [],
   "source": [
    "# glob.glob(path+'*AR-B-S-5*')  # sjekk status opp fra 0 til 5"
   ]
  },
  {
   "cell_type": "code",
   "execution_count": null,
   "metadata": {},
   "outputs": [],
   "source": []
  },
  {
   "cell_type": "code",
   "execution_count": null,
   "metadata": {},
   "outputs": [],
   "source": []
  },
  {
   "cell_type": "code",
   "execution_count": null,
   "metadata": {},
   "outputs": [],
   "source": []
  },
  {
   "cell_type": "code",
   "execution_count": null,
   "metadata": {},
   "outputs": [],
   "source": []
  },
  {
   "cell_type": "code",
   "execution_count": null,
   "metadata": {},
   "outputs": [],
   "source": []
  },
  {
   "cell_type": "code",
   "execution_count": null,
   "metadata": {},
   "outputs": [],
   "source": []
  },
  {
   "cell_type": "code",
   "execution_count": null,
   "metadata": {},
   "outputs": [],
   "source": []
  },
  {
   "cell_type": "code",
   "execution_count": null,
   "metadata": {},
   "outputs": [],
   "source": []
  },
  {
   "cell_type": "code",
   "execution_count": null,
   "metadata": {},
   "outputs": [],
   "source": []
  }
 ],
 "metadata": {
  "kernelspec": {
   "display_name": "Python 3",
   "language": "python",
   "name": "python3"
  },
  "language_info": {
   "codemirror_mode": {
    "name": "ipython",
    "version": 3
   },
   "file_extension": ".py",
   "mimetype": "text/x-python",
   "name": "python",
   "nbconvert_exporter": "python",
   "pygments_lexer": "ipython3",
   "version": "3.7.6"
  }
 },
 "nbformat": 4,
 "nbformat_minor": 4
}
