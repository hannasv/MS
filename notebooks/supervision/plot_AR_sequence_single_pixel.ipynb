{
 "cells": [
  {
   "cell_type": "markdown",
   "metadata": {},
   "source": [
    "# AR status"
   ]
  },
  {
   "cell_type": "code",
   "execution_count": 45,
   "metadata": {},
   "outputs": [],
   "source": [
    "import glob\n",
    "import numpy as np\n",
    "import xarray as xr\n",
    "import os"
   ]
  },
  {
   "cell_type": "markdown",
   "metadata": {},
   "source": [
    "# READ input data"
   ]
  },
  {
   "cell_type": "code",
   "execution_count": 2,
   "metadata": {},
   "outputs": [],
   "source": [
    "lh_files = glob.glob('/home/hanna/lagrings/ERA5_monthly/*2014*01*.nc')"
   ]
  },
  {
   "cell_type": "code",
   "execution_count": 3,
   "metadata": {},
   "outputs": [
    {
     "data": {
      "text/plain": [
       "['/home/hanna/lagrings/ERA5_monthly/2014_01_q.nc',\n",
       " '/home/hanna/lagrings/ERA5_monthly/2014_01_r.nc',\n",
       " '/home/hanna/lagrings/ERA5_monthly/2014_01_t2m.nc',\n",
       " '/home/hanna/lagrings/ERA5_monthly/2014_01_sp.nc',\n",
       " '/home/hanna/lagrings/ERA5_monthly/2014_01_tcc.nc']"
      ]
     },
     "execution_count": 3,
     "metadata": {},
     "output_type": "execute_result"
    }
   ],
   "source": [
    "lh_files"
   ]
  },
  {
   "cell_type": "code",
   "execution_count": 4,
   "metadata": {},
   "outputs": [],
   "source": [
    "\n"
   ]
  },
  {
   "cell_type": "code",
   "execution_count": 40,
   "metadata": {},
   "outputs": [],
   "source": [
    "longitude  = np.arange(-15.0, 25.0+0.25, step = 0.25)\n",
    "latitude   =  np.arange(30.0, 50.0+0.25, step = 0.25)"
   ]
  },
  {
   "cell_type": "code",
   "execution_count": 17,
   "metadata": {},
   "outputs": [],
   "source": [
    "#input_data"
   ]
  },
  {
   "cell_type": "code",
   "execution_count": 6,
   "metadata": {},
   "outputs": [],
   "source": [
    "lat = 30.0\n",
    "lon = 0.0"
   ]
  },
  {
   "cell_type": "code",
   "execution_count": 17,
   "metadata": {},
   "outputs": [],
   "source": [
    "inp = input_data.sel(latitude=lat, longitude=lon)"
   ]
  },
  {
   "cell_type": "code",
   "execution_count": 20,
   "metadata": {},
   "outputs": [],
   "source": [
    "sub = inp.isel(time=0)"
   ]
  },
  {
   "cell_type": "markdown",
   "metadata": {},
   "source": [
    "# Load weights"
   ]
  },
  {
   "cell_type": "code",
   "execution_count": 2,
   "metadata": {},
   "outputs": [
    {
     "data": {
      "text/plain": [
       "['/home/hanna/EX3_Results_AR_STR/AR-B-5',\n",
       " '/home/hanna/EX3_Results_AR_STR/AR-0']"
      ]
     },
     "execution_count": 2,
     "metadata": {},
     "output_type": "execute_result"
    }
   ],
   "source": [
    "glob.glob('/home/hanna/EX3_Results_AR_STR/*')"
   ]
  },
  {
   "cell_type": "code",
   "execution_count": 12,
   "metadata": {},
   "outputs": [],
   "source": [
    "files = glob.glob('/home/hanna/EX3_Results_AR_STR/AR-B-5/*weights*L1*_{}_*{}.nc*'.format(lon, lat))"
   ]
  },
  {
   "cell_type": "code",
   "execution_count": 20,
   "metadata": {},
   "outputs": [
    {
     "data": {
      "text/plain": [
       "'/home/hanna/EX3_Results_AR_STR/AR-B-5/weights_AR-B-5-L1_5.25_45.75.nc'"
      ]
     },
     "execution_count": 20,
     "metadata": {},
     "output_type": "execute_result"
    }
   ],
   "source": [
    "files[0]"
   ]
  },
  {
   "cell_type": "code",
   "execution_count": 14,
   "metadata": {},
   "outputs": [],
   "source": [
    "data = xr.open_dataset(files[0])"
   ]
  },
  {
   "cell_type": "code",
   "execution_count": 23,
   "metadata": {},
   "outputs": [],
   "source": [
    "variables = ['q', 't2m', 'r', 'sp']"
   ]
  },
  {
   "cell_type": "code",
   "execution_count": 35,
   "metadata": {},
   "outputs": [
    {
     "data": {
      "text/plain": [
       "array([ 6.39408076e+00, -1.31813609e-03, -3.08693608e-04, -1.68213026e-05,\n",
       "        2.02346748e+00,  8.31700013e-01])"
      ]
     },
     "execution_count": 35,
     "metadata": {},
     "output_type": "execute_result"
    }
   ],
   "source": [
    "data.coeffs.values"
   ]
  },
  {
   "cell_type": "code",
   "execution_count": 27,
   "metadata": {},
   "outputs": [
    {
     "data": {
      "text/plain": [
       "0.005230146460235119"
      ]
     },
     "execution_count": 27,
     "metadata": {},
     "output_type": "execute_result"
    }
   ],
   "source": [
    "float(sub.q.values)"
   ]
  },
  {
   "cell_type": "code",
   "execution_count": 28,
   "metadata": {},
   "outputs": [
    {
     "data": {
      "text/plain": [
       "89.20773315429688"
      ]
     },
     "execution_count": 28,
     "metadata": {},
     "output_type": "execute_result"
    }
   ],
   "source": [
    "float(sub.r.values)"
   ]
  },
  {
   "cell_type": "code",
   "execution_count": 33,
   "metadata": {},
   "outputs": [],
   "source": [
    "prev_tcc = float(sub.tcc.values)\n",
    "arr = np.array([float(sub.q.values), float(sub.t2m.values), float(sub.r.values), float(sub.sp.values), 1, prev_tcc])"
   ]
  },
  {
   "cell_type": "code",
   "execution_count": 36,
   "metadata": {},
   "outputs": [
    {
     "data": {
      "text/plain": [
       "0.032068967034164064"
      ]
     },
     "execution_count": 36,
     "metadata": {},
     "output_type": "execute_result"
    }
   ],
   "source": [
    "prev_tcc = arr.T@data.coeffs.values"
   ]
  },
  {
   "cell_type": "code",
   "execution_count": null,
   "metadata": {},
   "outputs": [],
   "source": [
    "#data = xr.open_mfdataset(files, combine='by_coords')\n",
    "data['latitude'] = data.latitude.values.astype(float)\n",
    "data['longitude'] = data.longitude.values.astype(float)\n",
    "#data = data.sortby('longitude')"
   ]
  },
  {
   "cell_type": "code",
   "execution_count": null,
   "metadata": {},
   "outputs": [],
   "source": [
    "data"
   ]
  },
  {
   "cell_type": "markdown",
   "metadata": {},
   "source": [
    "# Need to loop over to make the prediction since the prediction becomes the input in the next step"
   ]
  },
  {
   "cell_type": "code",
   "execution_count": 46,
   "metadata": {},
   "outputs": [
    {
     "name": "stdout",
     "output_type": "stream",
     "text": [
      "<xarray.Dataset>\n",
      "Dimensions:          (latitude: 81, longitude: 161, sequence_length: 24)\n",
      "Coordinates:\n",
      "  * longitude        (longitude) float64 -15.0 -14.75 -14.5 ... 24.5 24.75 25.0\n",
      "  * latitude         (latitude) float64 30.0 30.25 30.5 ... 49.5 49.75 50.0\n",
      "  * sequence_length  (sequence_length) int64 0 1 2 3 4 5 6 ... 18 19 20 21 22 23\n",
      "Data variables:\n",
      "    tcc              (sequence_length, latitude, longitude) float64 0.1632 ... nan\n",
      "    date_seq         <U10 '2014-01-01'\n",
      "<xarray.Dataset>\n",
      "Dimensions:          (latitude: 81, longitude: 161, sequence_length: 24)\n",
      "Coordinates:\n",
      "  * longitude        (longitude) float64 -15.0 -14.75 -14.5 ... 24.5 24.75 25.0\n",
      "  * latitude         (latitude) float64 30.0 30.25 30.5 ... 49.5 49.75 50.0\n",
      "  * sequence_length  (sequence_length) int64 0 1 2 3 4 5 6 ... 18 19 20 21 22 23\n",
      "Data variables:\n",
      "    tcc              (sequence_length, latitude, longitude) float64 0.1632 ... nan\n",
      "    date_seq         <U10 '2014-01-01'\n",
      "<xarray.Dataset>\n",
      "Dimensions:          (latitude: 81, longitude: 161, sequence_length: 24)\n",
      "Coordinates:\n",
      "  * longitude        (longitude) float64 -15.0 -14.75 -14.5 ... 24.5 24.75 25.0\n",
      "  * latitude         (latitude) float64 30.0 30.25 30.5 ... 49.5 49.75 50.0\n",
      "  * sequence_length  (sequence_length) int64 0 1 2 3 4 5 6 ... 18 19 20 21 22 23\n",
      "Data variables:\n",
      "    tcc              (sequence_length, latitude, longitude) float64 0.1632 ... nan\n",
      "    date_seq         <U10 '2014-01-01'\n",
      "<xarray.Dataset>\n",
      "Dimensions:          (latitude: 81, longitude: 161, sequence_length: 24)\n",
      "Coordinates:\n",
      "  * longitude        (longitude) float64 -15.0 -14.75 -14.5 ... 24.5 24.75 25.0\n",
      "  * latitude         (latitude) float64 30.0 30.25 30.5 ... 49.5 49.75 50.0\n",
      "  * sequence_length  (sequence_length) int64 0 1 2 3 4 5 6 ... 18 19 20 21 22 23\n",
      "Data variables:\n",
      "    tcc              (sequence_length, latitude, longitude) float64 0.1632 ... nan\n",
      "    date_seq         <U10 '2014-01-01'\n",
      "<xarray.Dataset>\n",
      "Dimensions:          (latitude: 81, longitude: 161, sequence_length: 24)\n",
      "Coordinates:\n",
      "  * longitude        (longitude) float64 -15.0 -14.75 -14.5 ... 24.5 24.75 25.0\n",
      "  * latitude         (latitude) float64 30.0 30.25 30.5 ... 49.5 49.75 50.0\n",
      "  * sequence_length  (sequence_length) int64 0 1 2 3 4 5 6 ... 18 19 20 21 22 23\n",
      "Data variables:\n",
      "    tcc              (sequence_length, latitude, longitude) float64 0.1632 ... nan\n",
      "    date_seq         <U10 '2014-01-01'\n",
      "<xarray.Dataset>\n",
      "Dimensions:          (latitude: 81, longitude: 161, sequence_length: 24)\n",
      "Coordinates:\n",
      "  * longitude        (longitude) float64 -15.0 -14.75 -14.5 ... 24.5 24.75 25.0\n",
      "  * latitude         (latitude) float64 30.0 30.25 30.5 ... 49.5 49.75 50.0\n",
      "  * sequence_length  (sequence_length) int64 0 1 2 3 4 5 6 ... 18 19 20 21 22 23\n",
      "Data variables:\n",
      "    tcc              (sequence_length, latitude, longitude) float64 0.1632 ... nan\n",
      "    date_seq         <U10 '2014-01-01'\n",
      "<xarray.Dataset>\n",
      "Dimensions:          (latitude: 81, longitude: 161, sequence_length: 24)\n",
      "Coordinates:\n",
      "  * longitude        (longitude) float64 -15.0 -14.75 -14.5 ... 24.5 24.75 25.0\n",
      "  * latitude         (latitude) float64 30.0 30.25 30.5 ... 49.5 49.75 50.0\n",
      "  * sequence_length  (sequence_length) int64 0 1 2 3 4 5 6 ... 18 19 20 21 22 23\n",
      "Data variables:\n",
      "    tcc              (sequence_length, latitude, longitude) float64 0.1632 ... nan\n",
      "    date_seq         <U10 '2014-01-01'\n",
      "<xarray.Dataset>\n",
      "Dimensions:          (latitude: 81, longitude: 161, sequence_length: 24)\n",
      "Coordinates:\n",
      "  * longitude        (longitude) float64 -15.0 -14.75 -14.5 ... 24.5 24.75 25.0\n",
      "  * latitude         (latitude) float64 30.0 30.25 30.5 ... 49.5 49.75 50.0\n",
      "  * sequence_length  (sequence_length) int64 0 1 2 3 4 5 6 ... 18 19 20 21 22 23\n",
      "Data variables:\n",
      "    tcc              (sequence_length, latitude, longitude) float64 0.1632 ... nan\n",
      "    date_seq         <U10 '2014-01-01'\n",
      "<xarray.Dataset>\n",
      "Dimensions:          (latitude: 81, longitude: 161, sequence_length: 24)\n",
      "Coordinates:\n",
      "  * longitude        (longitude) float64 -15.0 -14.75 -14.5 ... 24.5 24.75 25.0\n",
      "  * latitude         (latitude) float64 30.0 30.25 30.5 ... 49.5 49.75 50.0\n",
      "  * sequence_length  (sequence_length) int64 0 1 2 3 4 5 6 ... 18 19 20 21 22 23\n",
      "Data variables:\n",
      "    tcc              (sequence_length, latitude, longitude) float64 0.1632 ... nan\n",
      "    date_seq         <U10 '2014-01-01'\n",
      "<xarray.Dataset>\n",
      "Dimensions:          (latitude: 81, longitude: 161, sequence_length: 24)\n",
      "Coordinates:\n",
      "  * longitude        (longitude) float64 -15.0 -14.75 -14.5 ... 24.5 24.75 25.0\n",
      "  * latitude         (latitude) float64 30.0 30.25 30.5 ... 49.5 49.75 50.0\n",
      "  * sequence_length  (sequence_length) int64 0 1 2 3 4 5 6 ... 18 19 20 21 22 23\n",
      "Data variables:\n",
      "    tcc              (sequence_length, latitude, longitude) float64 0.1632 ... nan\n",
      "    date_seq         <U10 '2014-01-01'\n"
     ]
    },
    {
     "ename": "IndexError",
     "evalue": "list index out of range",
     "output_type": "error",
     "traceback": [
      "\u001b[0;31m---------------------------------------------------------------------------\u001b[0m",
      "\u001b[0;31mIndexError\u001b[0m                                Traceback (most recent call last)",
      "\u001b[0;32m<ipython-input-46-d8d579f0f4b5>\u001b[0m in \u001b[0;36m<module>\u001b[0;34m\u001b[0m\n\u001b[1;32m      8\u001b[0m \u001b[0;34m\u001b[0m\u001b[0m\n\u001b[1;32m      9\u001b[0m         \u001b[0mfiles\u001b[0m \u001b[0;34m=\u001b[0m \u001b[0mglob\u001b[0m\u001b[0;34m.\u001b[0m\u001b[0mglob\u001b[0m\u001b[0;34m(\u001b[0m\u001b[0;34m'/home/hanna/EX3_Results_AR_STR/AR-B-5/*weights*L1*_{}_*{}.nc*'\u001b[0m\u001b[0;34m.\u001b[0m\u001b[0mformat\u001b[0m\u001b[0;34m(\u001b[0m\u001b[0mlon\u001b[0m\u001b[0;34m,\u001b[0m \u001b[0mlat\u001b[0m\u001b[0;34m)\u001b[0m\u001b[0;34m)\u001b[0m\u001b[0;34m\u001b[0m\u001b[0;34m\u001b[0m\u001b[0m\n\u001b[0;32m---> 10\u001b[0;31m         \u001b[0mdata\u001b[0m \u001b[0;34m=\u001b[0m \u001b[0mxr\u001b[0m\u001b[0;34m.\u001b[0m\u001b[0mopen_dataset\u001b[0m\u001b[0;34m(\u001b[0m\u001b[0mfiles\u001b[0m\u001b[0;34m[\u001b[0m\u001b[0;36m0\u001b[0m\u001b[0;34m]\u001b[0m\u001b[0;34m)\u001b[0m\u001b[0;34m\u001b[0m\u001b[0;34m\u001b[0m\u001b[0m\n\u001b[0m\u001b[1;32m     11\u001b[0m         \u001b[0mcoefs\u001b[0m \u001b[0;34m=\u001b[0m \u001b[0mdata\u001b[0m\u001b[0;34m.\u001b[0m\u001b[0mcoeffs\u001b[0m\u001b[0;34m.\u001b[0m\u001b[0mvalues\u001b[0m\u001b[0;34m\u001b[0m\u001b[0;34m\u001b[0m\u001b[0m\n\u001b[1;32m     12\u001b[0m         \u001b[0minp\u001b[0m \u001b[0;34m=\u001b[0m \u001b[0minput_data\u001b[0m\u001b[0;34m.\u001b[0m\u001b[0msel\u001b[0m\u001b[0;34m(\u001b[0m\u001b[0mlatitude\u001b[0m\u001b[0;34m=\u001b[0m\u001b[0mlat\u001b[0m\u001b[0;34m,\u001b[0m \u001b[0mlongitude\u001b[0m\u001b[0;34m=\u001b[0m\u001b[0mlon\u001b[0m\u001b[0;34m)\u001b[0m\u001b[0;34m\u001b[0m\u001b[0;34m\u001b[0m\u001b[0m\n",
      "\u001b[0;31mIndexError\u001b[0m: list index out of range"
     ]
    }
   ],
   "source": [
    "prediction = np.nan*np.ones((24, 81, 161)) #  # (sequence, latitude, longitude)\n",
    "input_data = xr.open_mfdataset(lh_files, combine='by_coords').sel(time='2014-01-01')\n",
    "longitude  = np.arange(-15.0, 25.0+0.25, step = 0.25)\n",
    "latitude   =  np.arange(30.0, 50.0+0.25, step = 0.25)\n",
    "\n",
    "for j, lat in enumerate(latitude):\n",
    "    for k, lon in enumerate(longitude):\n",
    "        \n",
    "        files = glob.glob('/home/hanna/EX3_Results_AR_STR/AR-B-5/*weights*L1*_{}_*{}.nc*'.format(lon, lat))\n",
    "        data = xr.open_dataset(files[0])\n",
    "        coefs = data.coeffs.values\n",
    "        inp = input_data.sel(latitude=lat, longitude=lon)\n",
    "        \n",
    "        for i in range(24):\n",
    "            \n",
    "            sub = inp.isel(time=i)\n",
    "            if i==0:\n",
    "                # bruk første til å lage prediksjonen. Burde jeg brukt nyyåtsaften til å sette i gang prediksjonen..?\n",
    "                prev_tcc = float(sub.tcc.values)\n",
    "\n",
    "            arr = np.array([float(sub.q.values), float(sub.t2m.values), float(sub.r.values), float(sub.sp.values), 1, prev_tcc])  \n",
    "            prev_tcc = arr.T@coefs     \n",
    "            prediction[i, j, k] = prev_tcc\n",
    "\n",
    "    data_dict = {'tcc': (['sequence_length', 'latitude', 'longitude'], prediction)}\n",
    "\n",
    "    ds = xr.Dataset(data_dict,\n",
    "             coords={'longitude': (['longitude'], longitude),\n",
    "                     'latitude': (['latitude'], latitude),\n",
    "                     'sequence_length': (['sequence_length'], np.arange(24))\n",
    "                    })\n",
    "    ds['date_seq']  = '2014-01-01'\n",
    "    print(ds)\n",
    "    ds.to_netcdf(os.path.join('/home/hanna/MS-thesis/python_figs/','prediction.nc'))\n"
   ]
  },
  {
   "cell_type": "markdown",
   "metadata": {},
   "source": [
    "# How to save a file "
   ]
  },
  {
   "cell_type": "code",
   "execution_count": 42,
   "metadata": {},
   "outputs": [],
   "source": [
    "import os"
   ]
  },
  {
   "cell_type": "code",
   "execution_count": 44,
   "metadata": {},
   "outputs": [],
   "source": [
    "ds.to_netcdf(os.path.join('/home/hanna/MS-thesis/python_figs/','prediction.nc'))"
   ]
  },
  {
   "cell_type": "code",
   "execution_count": null,
   "metadata": {},
   "outputs": [],
   "source": [
    "data_dict = {'tcc': (['sequence_length', 'latitude', 'longitude'], prediction)}\n",
    "\n",
    "longitude  = np.arange(-15.0, 25.0+0.25, step = 0.25)\n",
    "latitude   =  np.arange(30.0, 50.0+0.25, step = 0.25)\n",
    "#seq_length = sequence_prediction\n",
    "#time = np.arange(seq_length)\n",
    "#print(sequence_prediction[:, :, :, :, 0].shape)\n",
    "ds = xr.Dataset(data_dict,\n",
    "             coords={'longitude': (['longitude'], longitude),\n",
    "                     'latitude': (['latitude'], latitude),\n",
    "                     'sequence_length': (['sequence_length'], np.arange(24))\n",
    "                    })\n",
    "ds['date_seq']  = '2014-01-01'\n",
    "print(ds)\n",
    "ds.to_netcdf(os.path.join('/home/hanna/MS-thesis/python_figs/','prediction.nc'), engine = 'h5netcdf')\n"
   ]
  },
  {
   "cell_type": "code",
   "execution_count": null,
   "metadata": {},
   "outputs": [],
   "source": []
  },
  {
   "cell_type": "markdown",
   "metadata": {},
   "source": [
    "# BEST AR MODEL \n",
    "* Regenerating this file."
   ]
  },
  {
   "cell_type": "code",
   "execution_count": null,
   "metadata": {},
   "outputs": [],
   "source": []
  },
  {
   "cell_type": "code",
   "execution_count": null,
   "metadata": {},
   "outputs": [],
   "source": []
  },
  {
   "cell_type": "code",
   "execution_count": 12,
   "metadata": {},
   "outputs": [],
   "source": [
    "filesw = glob.glob('/home/hanna/EX3_Results_AR_STR/AR-B-5/*weight*L1*')"
   ]
  },
  {
   "cell_type": "code",
   "execution_count": 13,
   "metadata": {},
   "outputs": [
    {
     "data": {
      "text/plain": [
       "13041"
      ]
     },
     "execution_count": 13,
     "metadata": {},
     "output_type": "execute_result"
    }
   ],
   "source": [
    "len(filesw)"
   ]
  },
  {
   "cell_type": "code",
   "execution_count": 15,
   "metadata": {},
   "outputs": [],
   "source": [
    "dataw = xr.open_dataset(filesw[0])"
   ]
  },
  {
   "cell_type": "code",
   "execution_count": 20,
   "metadata": {},
   "outputs": [
    {
     "data": {
      "text/plain": [
       "array(['q', 't2m', 'r', 'sp'], dtype=object)"
      ]
     },
     "execution_count": 20,
     "metadata": {},
     "output_type": "execute_result"
    }
   ],
   "source": [
    "dataw.weights.values"
   ]
  },
  {
   "cell_type": "code",
   "execution_count": 21,
   "metadata": {},
   "outputs": [
    {
     "data": {
      "text/plain": [
       "array([1., 1., 1., 1.])"
      ]
     },
     "execution_count": 21,
     "metadata": {},
     "output_type": "execute_result"
    }
   ],
   "source": [
    "dataw.coeffs.values"
   ]
  },
  {
   "cell_type": "code",
   "execution_count": 22,
   "metadata": {},
   "outputs": [],
   "source": [
    "# forferdelig rar modell....."
   ]
  },
  {
   "cell_type": "code",
   "execution_count": 14,
   "metadata": {},
   "outputs": [
    {
     "ename": "ValueError",
     "evalue": "Coordinate variable weights is neither monotonically increasing nor monotonically decreasing on all datasets",
     "output_type": "error",
     "traceback": [
      "\u001b[0;31m---------------------------------------------------------------------------\u001b[0m",
      "\u001b[0;31mValueError\u001b[0m                                Traceback (most recent call last)",
      "\u001b[0;32m<ipython-input-14-758dcc338ed6>\u001b[0m in \u001b[0;36m<module>\u001b[0;34m\u001b[0m\n\u001b[0;32m----> 1\u001b[0;31m \u001b[0mdataw\u001b[0m \u001b[0;34m=\u001b[0m \u001b[0mxr\u001b[0m\u001b[0;34m.\u001b[0m\u001b[0mopen_mfdataset\u001b[0m\u001b[0;34m(\u001b[0m\u001b[0mfilesw\u001b[0m\u001b[0;34m,\u001b[0m \u001b[0mcombine\u001b[0m\u001b[0;34m=\u001b[0m\u001b[0;34m'by_coords'\u001b[0m\u001b[0;34m)\u001b[0m\u001b[0;34m\u001b[0m\u001b[0;34m\u001b[0m\u001b[0m\n\u001b[0m",
      "\u001b[0;32m~/anaconda3/envs/final/lib/python3.7/site-packages/xarray/backends/api.py\u001b[0m in \u001b[0;36mopen_mfdataset\u001b[0;34m(paths, chunks, concat_dim, compat, preprocess, engine, lock, data_vars, coords, combine, autoclose, parallel, join, attrs_file, **kwargs)\u001b[0m\n\u001b[1;32m    957\u001b[0m             \u001b[0;31m# previously\u001b[0m\u001b[0;34m\u001b[0m\u001b[0;34m\u001b[0m\u001b[0;34m\u001b[0m\u001b[0m\n\u001b[1;32m    958\u001b[0m             combined = combine_by_coords(\n\u001b[0;32m--> 959\u001b[0;31m                 \u001b[0mdatasets\u001b[0m\u001b[0;34m,\u001b[0m \u001b[0mcompat\u001b[0m\u001b[0;34m=\u001b[0m\u001b[0mcompat\u001b[0m\u001b[0;34m,\u001b[0m \u001b[0mdata_vars\u001b[0m\u001b[0;34m=\u001b[0m\u001b[0mdata_vars\u001b[0m\u001b[0;34m,\u001b[0m \u001b[0mcoords\u001b[0m\u001b[0;34m=\u001b[0m\u001b[0mcoords\u001b[0m\u001b[0;34m,\u001b[0m \u001b[0mjoin\u001b[0m\u001b[0;34m=\u001b[0m\u001b[0mjoin\u001b[0m\u001b[0;34m\u001b[0m\u001b[0;34m\u001b[0m\u001b[0m\n\u001b[0m\u001b[1;32m    960\u001b[0m             )\n\u001b[1;32m    961\u001b[0m         \u001b[0;32melse\u001b[0m\u001b[0;34m:\u001b[0m\u001b[0;34m\u001b[0m\u001b[0;34m\u001b[0m\u001b[0m\n",
      "\u001b[0;32m~/anaconda3/envs/final/lib/python3.7/site-packages/xarray/core/combine.py\u001b[0m in \u001b[0;36mcombine_by_coords\u001b[0;34m(datasets, compat, data_vars, coords, fill_value, join)\u001b[0m\n\u001b[1;32m    681\u001b[0m     \u001b[0;32mfor\u001b[0m \u001b[0mvars\u001b[0m\u001b[0;34m,\u001b[0m \u001b[0mdatasets_with_same_vars\u001b[0m \u001b[0;32min\u001b[0m \u001b[0mgrouped_by_vars\u001b[0m\u001b[0;34m:\u001b[0m\u001b[0;34m\u001b[0m\u001b[0;34m\u001b[0m\u001b[0m\n\u001b[1;32m    682\u001b[0m         combined_ids, concat_dims = _infer_concat_order_from_coords(\n\u001b[0;32m--> 683\u001b[0;31m             \u001b[0mlist\u001b[0m\u001b[0;34m(\u001b[0m\u001b[0mdatasets_with_same_vars\u001b[0m\u001b[0;34m)\u001b[0m\u001b[0;34m\u001b[0m\u001b[0;34m\u001b[0m\u001b[0m\n\u001b[0m\u001b[1;32m    684\u001b[0m         )\n\u001b[1;32m    685\u001b[0m \u001b[0;34m\u001b[0m\u001b[0m\n",
      "\u001b[0;32m~/anaconda3/envs/final/lib/python3.7/site-packages/xarray/core/combine.py\u001b[0m in \u001b[0;36m_infer_concat_order_from_coords\u001b[0;34m(datasets)\u001b[0m\n\u001b[1;32m     82\u001b[0m                         \u001b[0;34m\"Coordinate variable {} is neither \"\u001b[0m\u001b[0;34m\u001b[0m\u001b[0;34m\u001b[0m\u001b[0m\n\u001b[1;32m     83\u001b[0m                         \u001b[0;34m\"monotonically increasing nor \"\u001b[0m\u001b[0;34m\u001b[0m\u001b[0;34m\u001b[0m\u001b[0m\n\u001b[0;32m---> 84\u001b[0;31m                         \u001b[0;34m\"monotonically decreasing on all datasets\"\u001b[0m\u001b[0;34m.\u001b[0m\u001b[0mformat\u001b[0m\u001b[0;34m(\u001b[0m\u001b[0mdim\u001b[0m\u001b[0;34m)\u001b[0m\u001b[0;34m\u001b[0m\u001b[0;34m\u001b[0m\u001b[0m\n\u001b[0m\u001b[1;32m     85\u001b[0m                     )\n\u001b[1;32m     86\u001b[0m \u001b[0;34m\u001b[0m\u001b[0m\n",
      "\u001b[0;31mValueError\u001b[0m: Coordinate variable weights is neither monotonically increasing nor monotonically decreasing on all datasets"
     ]
    }
   ],
   "source": [
    "dataw = xr.open_mfdataset(filesw, combine='by_coords')"
   ]
  },
  {
   "cell_type": "code",
   "execution_count": null,
   "metadata": {},
   "outputs": [],
   "source": [
    "dataw"
   ]
  },
  {
   "cell_type": "code",
   "execution_count": null,
   "metadata": {},
   "outputs": [],
   "source": []
  }
 ],
 "metadata": {
  "kernelspec": {
   "display_name": "Python 3",
   "language": "python",
   "name": "python3"
  },
  "language_info": {
   "codemirror_mode": {
    "name": "ipython",
    "version": 3
   },
   "file_extension": ".py",
   "mimetype": "text/x-python",
   "name": "python",
   "nbconvert_exporter": "python",
   "pygments_lexer": "ipython3",
   "version": "3.7.6"
  }
 },
 "nbformat": 4,
 "nbformat_minor": 4
}
