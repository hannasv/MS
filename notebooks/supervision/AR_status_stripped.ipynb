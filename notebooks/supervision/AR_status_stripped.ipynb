{
 "cells": [
  {
   "cell_type": "markdown",
   "metadata": {},
   "source": [
    "# AR status"
   ]
  },
  {
   "cell_type": "code",
   "execution_count": 1,
   "metadata": {},
   "outputs": [],
   "source": [
    "import glob\n",
    "import xarray as xr"
   ]
  },
  {
   "cell_type": "code",
   "execution_count": 2,
   "metadata": {},
   "outputs": [
    {
     "data": {
      "text/plain": [
       "['/home/hanna/EX3_Results_AR_STR/AR-B-5',\n",
       " '/home/hanna/EX3_Results_AR_STR/AR-0']"
      ]
     },
     "execution_count": 2,
     "metadata": {},
     "output_type": "execute_result"
    }
   ],
   "source": [
    "glob.glob('/home/hanna/EX3_Results_AR_STR/*')"
   ]
  },
  {
   "cell_type": "code",
   "execution_count": 3,
   "metadata": {},
   "outputs": [],
   "source": [
    "files = glob.glob('/home/hanna/EX3_Results_AR_STR/AR-B-5/*performance*L1*')"
   ]
  },
  {
   "cell_type": "code",
   "execution_count": 4,
   "metadata": {},
   "outputs": [
    {
     "data": {
      "text/plain": [
       "['/home/hanna/EX3_Results_AR_STR/AR-B-5/performance_AR-B-5-o0_-15.0_35.0.nc',\n",
       " '/home/hanna/EX3_Results_AR_STR/AR-B-5/performance_TR-B-5-o1_-15.0_35.0.nc',\n",
       " '/home/hanna/EX3_Results_AR_STR/AR-B-5/performance_AR-B-5-o1_-15.0_35.0.nc',\n",
       " '/home/hanna/EX3_Results_AR_STR/AR-B-5/performance_TR-B-5-o2_-15.0_35.0.nc',\n",
       " '/home/hanna/EX3_Results_AR_STR/AR-B-5/performance_AR-B-5-o2_-15.0_35.0.nc',\n",
       " '/home/hanna/EX3_Results_AR_STR/AR-B-5/performance_TR-B-5-o3_-15.0_35.0.nc',\n",
       " '/home/hanna/EX3_Results_AR_STR/AR-B-5/performance_AR-B-5-o3_-15.0_35.0.nc',\n",
       " '/home/hanna/EX3_Results_AR_STR/AR-B-5/performance_TR-B-5-o4_-15.0_35.0.nc',\n",
       " '/home/hanna/EX3_Results_AR_STR/AR-B-5/performance_AR-B-5-o4_-15.0_35.0.nc',\n",
       " '/home/hanna/EX3_Results_AR_STR/AR-B-5/performance_TR-B-5-o5_-15.0_35.0.nc',\n",
       " '/home/hanna/EX3_Results_AR_STR/AR-B-5/performance_AR-B-5-o5_-15.0_35.0.nc',\n",
       " '/home/hanna/EX3_Results_AR_STR/AR-B-5/performance_AR-B-5-L1_-15.0_35.0.nc']"
      ]
     },
     "execution_count": 4,
     "metadata": {},
     "output_type": "execute_result"
    }
   ],
   "source": [
    "glob.glob('/home/hanna/EX3_Results_AR_STR/AR-B-5/*performance*-15.0_35.0*')"
   ]
  },
  {
   "cell_type": "code",
   "execution_count": 5,
   "metadata": {},
   "outputs": [
    {
     "data": {
      "text/plain": [
       "13041"
      ]
     },
     "execution_count": 5,
     "metadata": {},
     "output_type": "execute_result"
    }
   ],
   "source": [
    "len(files)"
   ]
  },
  {
   "cell_type": "code",
   "execution_count": 18,
   "metadata": {},
   "outputs": [
    {
     "data": {
      "text/plain": [
       "'/home/hanna/EX3_Results_AR_STR/AR-B-5/performance_AR-B-5-L1_5.25_45.75.nc'"
      ]
     },
     "execution_count": 18,
     "metadata": {},
     "output_type": "execute_result"
    }
   ],
   "source": [
    "files[0]"
   ]
  },
  {
   "cell_type": "code",
   "execution_count": 6,
   "metadata": {},
   "outputs": [],
   "source": [
    "files = glob.glob('/home/hanna/EX3_Results_AR_STR/AR-B-5/*performance*L1*')\n",
    "data = xr.open_mfdataset(files, combine='by_coords')\n",
    "data['latitude'] = data.latitude.values.astype(float)\n",
    "data['longitude'] = data.longitude.values.astype(float)\n",
    "data = data.sortby('longitude')\n",
    "python_path = '/home/hanna/MS-thesis/python_figs/'\n",
    "vals = data['mae_test'].values.transpose()\n",
    "TEXT_WIDTH_IN  = 6.1023622\n",
    "TEXT_HEIGHT_IN = 9.72440945\n",
    "var = 'MAE'\n",
    "\n",
    "fig, ax =  plt.subplots(nrows = 1, ncols = 1, sharex=True, sharey=False)\n",
    "fig.set_size_inches(w = TEXT_WIDTH_IN, h = 0.5*TEXT_WIDTH_IN)\n",
    "        \n",
    "cntours = ax.contourf(vals, levels=100, cmap='hot_r')\n",
    "\n",
    "# Removes white lines\n",
    "for c in cntours.collections:\n",
    "    c.set_edgecolor(\"face\")\n",
    "\n",
    "fig.colorbar(cntours, ax=ax, label = '{}'.format(var))\n",
    "ax.set_title('AR-B-L1', fontsize = 14)\n",
    "#plt.xlabel('Longitude')\n",
    "\n",
    "ax.set_xlabel('Longitude')\n",
    "ax.set_ylabel('Latitude')\n",
    "\n",
    "plt.subplots_adjust(left=0.1, bottom=0.25, right=0.97, top=0.9, wspace=0.1, hspace=0.1)\n",
    "plt.savefig(python_path+'TEST_{}.png'.format('tcc'))\n",
    "plt.close()"
   ]
  },
  {
   "cell_type": "code",
   "execution_count": 26,
   "metadata": {},
   "outputs": [],
   "source": [
    "import numpy as np"
   ]
  },
  {
   "cell_type": "code",
   "execution_count": 28,
   "metadata": {},
   "outputs": [
    {
     "data": {
      "text/plain": [
       "array(['30.0', '30.25', '30.5', '30.75', '31.0', '31.25', '31.5', '31.75',\n",
       "       '32.0', '32.25', '32.5', '32.75', '33.0', '33.25', '33.5', '33.75',\n",
       "       '34.0', '34.25', '34.5', '34.75', '35.0', '35.25', '35.5', '35.75',\n",
       "       '36.0', '36.25', '36.5', '36.75', '37.0', '37.25', '37.5', '37.75',\n",
       "       '38.0', '38.25', '38.5', '38.75', '39.0', '39.25', '39.5', '39.75',\n",
       "       '40.0', '40.25', '40.5', '40.75', '41.0', '41.25', '41.5', '41.75',\n",
       "       '42.0', '42.25', '42.5', '42.75', '43.0', '43.25', '43.5', '43.75',\n",
       "       '44.0', '44.25', '44.5', '44.75', '45.0', '45.25', '45.5', '45.75',\n",
       "       '46.0', '46.25', '46.5', '46.75', '47.0', '47.25', '47.5', '47.75',\n",
       "       '48.0', '48.25', '48.5', '48.75', '49.0', '49.25', '49.5', '49.75',\n",
       "       '50.0'], dtype=object)"
      ]
     },
     "execution_count": 28,
     "metadata": {},
     "output_type": "execute_result"
    }
   ],
   "source": [
    "np.sort(data['mae_test'].latitude.values)"
   ]
  },
  {
   "cell_type": "code",
   "execution_count": 27,
   "metadata": {},
   "outputs": [
    {
     "data": {
      "text/plain": [
       "array(['-0.25', '-0.5', '-0.75', '-1.0', '-1.25', '-1.5', '-1.75',\n",
       "       '-10.0', '-10.25', '-10.5', '-10.75', '-11.0', '-11.25', '-11.5',\n",
       "       '-11.75', '-12.0', '-12.25', '-12.5', '-12.75', '-13.0', '-13.25',\n",
       "       '-13.5', '-13.75', '-14.0', '-14.25', '-14.5', '-14.75', '-15.0',\n",
       "       '-2.0', '-2.25', '-2.5', '-2.75', '-3.0', '-3.25', '-3.5', '-3.75',\n",
       "       '-4.0', '-4.25', '-4.5', '-4.75', '-5.0', '-5.25', '-5.5', '-5.75',\n",
       "       '-6.0', '-6.25', '-6.5', '-6.75', '-7.0', '-7.25', '-7.5', '-7.75',\n",
       "       '-8.0', '-8.25', '-8.5', '-8.75', '-9.0', '-9.25', '-9.5', '-9.75',\n",
       "       '0.0', '0.25', '0.5', '0.75', '1.0', '1.25', '1.5', '1.75', '10.0',\n",
       "       '10.25', '10.5', '10.75', '11.0', '11.25', '11.5', '11.75', '12.0',\n",
       "       '12.25', '12.5', '12.75', '13.0', '13.25', '13.5', '13.75', '14.0',\n",
       "       '14.25', '14.5', '14.75', '15.0', '15.25', '15.5', '15.75', '16.0',\n",
       "       '16.25', '16.5', '16.75', '17.0', '17.25', '17.5', '17.75', '18.0',\n",
       "       '18.25', '18.5', '18.75', '19.0', '19.25', '19.5', '19.75', '2.0',\n",
       "       '2.25', '2.5', '2.75', '20.0', '20.25', '20.5', '20.75', '21.0',\n",
       "       '21.25', '21.5', '21.75', '22.0', '22.25', '22.5', '22.75', '23.0',\n",
       "       '23.25', '23.5', '23.75', '24.0', '24.25', '24.5', '24.75', '25.0',\n",
       "       '3.0', '3.25', '3.5', '3.75', '4.0', '4.25', '4.5', '4.75', '5.0',\n",
       "       '5.25', '5.5', '5.75', '6.0', '6.25', '6.5', '6.75', '7.0', '7.25',\n",
       "       '7.5', '7.75', '8.0', '8.25', '8.5', '8.75', '9.0', '9.25', '9.5',\n",
       "       '9.75'], dtype=object)"
      ]
     },
     "execution_count": 27,
     "metadata": {},
     "output_type": "execute_result"
    }
   ],
   "source": [
    "np.sort(data['mae_test'].longitude.values)"
   ]
  },
  {
   "cell_type": "code",
   "execution_count": 7,
   "metadata": {},
   "outputs": [],
   "source": [
    "import matplotlib.pyplot as plt"
   ]
  },
  {
   "cell_type": "code",
   "execution_count": 14,
   "metadata": {},
   "outputs": [],
   "source": [
    "data = data.sortby('longitude')"
   ]
  },
  {
   "cell_type": "code",
   "execution_count": 16,
   "metadata": {},
   "outputs": [
    {
     "data": {
      "text/plain": [
       "<matplotlib.collections.QuadMesh at 0x7fab5447a810>"
      ]
     },
     "execution_count": 16,
     "metadata": {},
     "output_type": "execute_result"
    },
    {
     "data": {
      "image/png": "[encoded data removed]",
      "text/plain": [
       "<Figure size 432x288 with 2 Axes>"
      ]
     },
     "metadata": {
      "needs_background": "light"
     },
     "output_type": "display_data"
    }
   ],
   "source": [
    "data['mae_test'].plot()"
   ]
  },
  {
   "cell_type": "code",
   "execution_count": 20,
   "metadata": {},
   "outputs": [],
   "source": [
    "python_path = '/home/hanna/MS-thesis/python_figs/'\n",
    "vals = data['mae_test'].values.transpose()\n",
    "TEXT_WIDTH_IN  = 6.1023622\n",
    "TEXT_HEIGHT_IN = 9.72440945\n",
    "var = 'MAE'\n",
    "fig, ax =  plt.subplots(nrows = 1, ncols = 1, sharex=True, sharey=False)\n",
    "fig.set_size_inches(w = TEXT_WIDTH_IN, h = 0.5*TEXT_WIDTH_IN)\n",
    "        \n",
    "cntours = ax.contourf(vals, levels=100, cmap='hot_r')\n",
    "\n",
    "# Removes white lines\n",
    "for c in cntours.collections:\n",
    "    c.set_edgecolor(\"face\")\n",
    "\n",
    "fig.colorbar(cntours, ax=ax, label = '{}'.format(var))\n",
    "ax.set_title('AR-B-L1', fontsize = 14)\n",
    "#plt.xlabel('Longitude')\n",
    "\n",
    "ax.set_xlabel('Longitude')\n",
    "ax.set_ylabel('Latitude')\n",
    "\n",
    "plt.subplots_adjust(left=0.1, bottom=0.25, right=0.97, top=0.9, wspace=0.1, hspace=0.1)\n",
    "plt.savefig(python_path+'TEST_{}.png'.format('tcc'))\n",
    "plt.close()"
   ]
  },
  {
   "cell_type": "code",
   "execution_count": null,
   "metadata": {},
   "outputs": [],
   "source": []
  },
  {
   "cell_type": "markdown",
   "metadata": {},
   "source": [
    "# BEST AR MODEL \n",
    "* Regenerating this file."
   ]
  },
  {
   "cell_type": "code",
   "execution_count": null,
   "metadata": {},
   "outputs": [],
   "source": []
  },
  {
   "cell_type": "code",
   "execution_count": null,
   "metadata": {},
   "outputs": [],
   "source": []
  },
  {
   "cell_type": "code",
   "execution_count": 12,
   "metadata": {},
   "outputs": [],
   "source": [
    "filesw = glob.glob('/home/hanna/EX3_Results_AR_STR/AR-B-5/*weight*L1*')"
   ]
  },
  {
   "cell_type": "code",
   "execution_count": 13,
   "metadata": {},
   "outputs": [
    {
     "data": {
      "text/plain": [
       "13041"
      ]
     },
     "execution_count": 13,
     "metadata": {},
     "output_type": "execute_result"
    }
   ],
   "source": [
    "len(filesw)"
   ]
  },
  {
   "cell_type": "code",
   "execution_count": 15,
   "metadata": {},
   "outputs": [],
   "source": [
    "dataw = xr.open_dataset(filesw[0])"
   ]
  },
  {
   "cell_type": "code",
   "execution_count": 20,
   "metadata": {},
   "outputs": [
    {
     "data": {
      "text/plain": [
       "array(['q', 't2m', 'r', 'sp'], dtype=object)"
      ]
     },
     "execution_count": 20,
     "metadata": {},
     "output_type": "execute_result"
    }
   ],
   "source": [
    "dataw.weights.values"
   ]
  },
  {
   "cell_type": "code",
   "execution_count": 21,
   "metadata": {},
   "outputs": [
    {
     "data": {
      "text/plain": [
       "array([1., 1., 1., 1.])"
      ]
     },
     "execution_count": 21,
     "metadata": {},
     "output_type": "execute_result"
    }
   ],
   "source": [
    "dataw.coeffs.values"
   ]
  },
  {
   "cell_type": "code",
   "execution_count": 22,
   "metadata": {},
   "outputs": [],
   "source": [
    "# forferdelig rar modell....."
   ]
  },
  {
   "cell_type": "code",
   "execution_count": 14,
   "metadata": {},
   "outputs": [
    {
     "ename": "ValueError",
     "evalue": "Coordinate variable weights is neither monotonically increasing nor monotonically decreasing on all datasets",
     "output_type": "error",
     "traceback": [
      "\u001b[0;31m---------------------------------------------------------------------------\u001b[0m",
      "\u001b[0;31mValueError\u001b[0m                                Traceback (most recent call last)",
      "\u001b[0;32m<ipython-input-14-758dcc338ed6>\u001b[0m in \u001b[0;36m<module>\u001b[0;34m\u001b[0m\n\u001b[0;32m----> 1\u001b[0;31m \u001b[0mdataw\u001b[0m \u001b[0;34m=\u001b[0m \u001b[0mxr\u001b[0m\u001b[0;34m.\u001b[0m\u001b[0mopen_mfdataset\u001b[0m\u001b[0;34m(\u001b[0m\u001b[0mfilesw\u001b[0m\u001b[0;34m,\u001b[0m \u001b[0mcombine\u001b[0m\u001b[0;34m=\u001b[0m\u001b[0;34m'by_coords'\u001b[0m\u001b[0;34m)\u001b[0m\u001b[0;34m\u001b[0m\u001b[0;34m\u001b[0m\u001b[0m\n\u001b[0m",
      "\u001b[0;32m~/anaconda3/envs/final/lib/python3.7/site-packages/xarray/backends/api.py\u001b[0m in \u001b[0;36mopen_mfdataset\u001b[0;34m(paths, chunks, concat_dim, compat, preprocess, engine, lock, data_vars, coords, combine, autoclose, parallel, join, attrs_file, **kwargs)\u001b[0m\n\u001b[1;32m    957\u001b[0m             \u001b[0;31m# previously\u001b[0m\u001b[0;34m\u001b[0m\u001b[0;34m\u001b[0m\u001b[0;34m\u001b[0m\u001b[0m\n\u001b[1;32m    958\u001b[0m             combined = combine_by_coords(\n\u001b[0;32m--> 959\u001b[0;31m                 \u001b[0mdatasets\u001b[0m\u001b[0;34m,\u001b[0m \u001b[0mcompat\u001b[0m\u001b[0;34m=\u001b[0m\u001b[0mcompat\u001b[0m\u001b[0;34m,\u001b[0m \u001b[0mdata_vars\u001b[0m\u001b[0;34m=\u001b[0m\u001b[0mdata_vars\u001b[0m\u001b[0;34m,\u001b[0m \u001b[0mcoords\u001b[0m\u001b[0;34m=\u001b[0m\u001b[0mcoords\u001b[0m\u001b[0;34m,\u001b[0m \u001b[0mjoin\u001b[0m\u001b[0;34m=\u001b[0m\u001b[0mjoin\u001b[0m\u001b[0;34m\u001b[0m\u001b[0;34m\u001b[0m\u001b[0m\n\u001b[0m\u001b[1;32m    960\u001b[0m             )\n\u001b[1;32m    961\u001b[0m         \u001b[0;32melse\u001b[0m\u001b[0;34m:\u001b[0m\u001b[0;34m\u001b[0m\u001b[0;34m\u001b[0m\u001b[0m\n",
      "\u001b[0;32m~/anaconda3/envs/final/lib/python3.7/site-packages/xarray/core/combine.py\u001b[0m in \u001b[0;36mcombine_by_coords\u001b[0;34m(datasets, compat, data_vars, coords, fill_value, join)\u001b[0m\n\u001b[1;32m    681\u001b[0m     \u001b[0;32mfor\u001b[0m \u001b[0mvars\u001b[0m\u001b[0;34m,\u001b[0m \u001b[0mdatasets_with_same_vars\u001b[0m \u001b[0;32min\u001b[0m \u001b[0mgrouped_by_vars\u001b[0m\u001b[0;34m:\u001b[0m\u001b[0;34m\u001b[0m\u001b[0;34m\u001b[0m\u001b[0m\n\u001b[1;32m    682\u001b[0m         combined_ids, concat_dims = _infer_concat_order_from_coords(\n\u001b[0;32m--> 683\u001b[0;31m             \u001b[0mlist\u001b[0m\u001b[0;34m(\u001b[0m\u001b[0mdatasets_with_same_vars\u001b[0m\u001b[0;34m)\u001b[0m\u001b[0;34m\u001b[0m\u001b[0;34m\u001b[0m\u001b[0m\n\u001b[0m\u001b[1;32m    684\u001b[0m         )\n\u001b[1;32m    685\u001b[0m \u001b[0;34m\u001b[0m\u001b[0m\n",
      "\u001b[0;32m~/anaconda3/envs/final/lib/python3.7/site-packages/xarray/core/combine.py\u001b[0m in \u001b[0;36m_infer_concat_order_from_coords\u001b[0;34m(datasets)\u001b[0m\n\u001b[1;32m     82\u001b[0m                         \u001b[0;34m\"Coordinate variable {} is neither \"\u001b[0m\u001b[0;34m\u001b[0m\u001b[0;34m\u001b[0m\u001b[0m\n\u001b[1;32m     83\u001b[0m                         \u001b[0;34m\"monotonically increasing nor \"\u001b[0m\u001b[0;34m\u001b[0m\u001b[0;34m\u001b[0m\u001b[0m\n\u001b[0;32m---> 84\u001b[0;31m                         \u001b[0;34m\"monotonically decreasing on all datasets\"\u001b[0m\u001b[0;34m.\u001b[0m\u001b[0mformat\u001b[0m\u001b[0;34m(\u001b[0m\u001b[0mdim\u001b[0m\u001b[0;34m)\u001b[0m\u001b[0;34m\u001b[0m\u001b[0;34m\u001b[0m\u001b[0m\n\u001b[0m\u001b[1;32m     85\u001b[0m                     )\n\u001b[1;32m     86\u001b[0m \u001b[0;34m\u001b[0m\u001b[0m\n",
      "\u001b[0;31mValueError\u001b[0m: Coordinate variable weights is neither monotonically increasing nor monotonically decreasing on all datasets"
     ]
    }
   ],
   "source": [
    "dataw = xr.open_mfdataset(filesw, combine='by_coords')"
   ]
  },
  {
   "cell_type": "code",
   "execution_count": null,
   "metadata": {},
   "outputs": [],
   "source": [
    "dataw"
   ]
  },
  {
   "cell_type": "code",
   "execution_count": null,
   "metadata": {},
   "outputs": [],
   "source": []
  }
 ],
 "metadata": {
  "kernelspec": {
   "display_name": "Python 3",
   "language": "python",
   "name": "python3"
  },
  "language_info": {
   "codemirror_mode": {
    "name": "ipython",
    "version": 3
   },
   "file_extension": ".py",
   "mimetype": "text/x-python",
   "name": "python",
   "nbconvert_exporter": "python",
   "pygments_lexer": "ipython3",
   "version": "3.7.6"
  }
 },
 "nbformat": 4,
 "nbformat_minor": 4
}
