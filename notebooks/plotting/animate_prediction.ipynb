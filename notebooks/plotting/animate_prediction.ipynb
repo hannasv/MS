{
 "cells": [
  {
   "cell_type": "markdown",
   "metadata": {},
   "source": [
    "# Develop animation predictions"
   ]
  },
  {
   "cell_type": "code",
   "execution_count": null,
   "metadata": {},
   "outputs": [],
   "source": [
    "import os \n",
    "\n",
    "import numpy as np\n",
    "import pandas as pd\n",
    "import seaborn as sns\n",
    "import xarray as xr\n",
    "\n",
    "import matplotlib\n",
    "import matplotlib.pyplot as plt\n",
    "import matplotlib.animation as animation\n",
    "\n",
    "from sclouds.ml.regression.AR_model_loader import AR_model_loader\n",
    "\n",
    "%matplotlib notebook"
   ]
  },
  {
   "cell_type": "code",
   "execution_count": null,
   "metadata": {},
   "outputs": [],
   "source": [
    "fil = '/home/hanna/lagrings/ERA5_monthly/2010_05_tcc.nc'\n",
    "data = xr.open_dataset(fil)\n",
    "data_numpy = data.tcc.values"
   ]
  },
  {
   "cell_type": "markdown",
   "metadata": {},
   "source": [
    "# Load model and make prediction"
   ]
  },
  {
   "cell_type": "code",
   "execution_count": null,
   "metadata": {},
   "outputs": [],
   "source": [
    "model_loader = AR_model_loader()\n",
    "test = '/home/hanna/lagrings/results/ar/AR_2020-05-18T08:30:30.nc'\n",
    "ar_model = model_loader.load_model_from_file(test)"
   ]
  },
  {
   "cell_type": "code",
   "execution_count": null,
   "metadata": {},
   "outputs": [],
   "source": []
  },
  {
   "cell_type": "code",
   "execution_count": null,
   "metadata": {},
   "outputs": [],
   "source": []
  },
  {
   "cell_type": "code",
   "execution_count": null,
   "metadata": {},
   "outputs": [],
   "source": []
  },
  {
   "cell_type": "code",
   "execution_count": null,
   "metadata": {},
   "outputs": [],
   "source": []
  },
  {
   "cell_type": "code",
   "execution_count": null,
   "metadata": {},
   "outputs": [],
   "source": []
  },
  {
   "cell_type": "markdown",
   "metadata": {},
   "source": [
    "# Animate 3-Dimensional numpy array by axis = 0"
   ]
  },
  {
   "cell_type": "code",
   "execution_count": 97,
   "metadata": {},
   "outputs": [],
   "source": [
    "Writer = animation.writers['ffmpeg']\n",
    "writer = Writer(fps=20, metadata=dict(artist='Me'), bitrate=1800)\n",
    "\n",
    "filename = 'test'\n",
    "\n",
    "# create figure form matplotlib.pyplot\n",
    "fig = plt.figure()\n",
    "\n",
    "# make global min/max for the whole array,\n",
    "# so colour scale will be consistent between the frames\n",
    "data_min = 0.0\n",
    "data_max = 1.0\n",
    "\n",
    "# create iterator\n",
    "#data_frames_iterator = np.nditer(data_numpy)\n",
    "\n",
    "def update_frame(i):\n",
    "    plt.clf()\n",
    "    heatmap_data = data_numpy[i, :, :]\n",
    "    # make it latitude-sorted (top > bottom == north > south)\n",
    "    #heatmap_data.sort_index(inplace=True, ascending=False)\n",
    "    # use seaborn for a little better looking heatmap (matplotlib-based)\n",
    "    ax = sns.heatmap(\n",
    "        heatmap_data,\n",
    "        annot=False,\n",
    "        vmin=data_min,\n",
    "        vmax=data_max,\n",
    "        cmap='Blues_r',\n",
    "        #linewidths=.5,\n",
    "        xticklabels=False,\n",
    "        yticklabels=False,\n",
    "    )\n",
    "    \n",
    "# write animation frames\n",
    "anim = matplotlib.animation.FuncAnimation(fig, update_frame, frames=len(data_numpy)-1, interval=500)\n",
    "\n",
    "Writer = animation.writers['ffmpeg']\n",
    "writer = Writer(fps=20, metadata=dict(artist='Me'), bitrate=1800)\n",
    "\n",
    "anim.save(python_figs + '{}.mp4'.format(filename), writer=writer)  #'imagemagick')"
   ]
  },
  {
   "cell_type": "code",
   "execution_count": 27,
   "metadata": {},
   "outputs": [],
   "source": []
  },
  {
   "cell_type": "code",
   "execution_count": null,
   "metadata": {},
   "outputs": [],
   "source": []
  },
  {
   "cell_type": "code",
   "execution_count": null,
   "metadata": {},
   "outputs": [],
   "source": []
  }
 ],
 "metadata": {
  "kernelspec": {
   "display_name": "Python 3",
   "language": "python",
   "name": "python3"
  },
  "language_info": {
   "codemirror_mode": {
    "name": "ipython",
    "version": 3
   },
   "file_extension": ".py",
   "mimetype": "text/x-python",
   "name": "python",
   "nbconvert_exporter": "python",
   "pygments_lexer": "ipython3",
   "version": "3.7.6"
  }
 },
 "nbformat": 4,
 "nbformat_minor": 4
}
