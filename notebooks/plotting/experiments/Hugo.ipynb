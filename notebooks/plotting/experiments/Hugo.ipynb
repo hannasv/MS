{
 "cells": [
  {
   "cell_type": "code",
   "execution_count": 1,
   "metadata": {},
   "outputs": [],
   "source": [
    "import os\n",
    "import glob\n",
    "import json\n",
    "\n",
    "import matplotlib.pyplot as plt \n",
    "import xarray as xr \n",
    "import numpy as np\n",
    "\n",
    "def get_array(data, key = 'loss'):\n",
    "    return [data[key][k] for k in data[key].keys()]"
   ]
  },
  {
   "cell_type": "markdown",
   "metadata": {},
   "source": [
    "# Convolutional LSTM \n",
    "sshfs -C -o ssh_command='ssh -p 60441' hannasv@dnat.simula.no:results_new RESULTS"
   ]
  },
  {
   "cell_type": "code",
   "execution_count": 2,
   "metadata": {},
   "outputs": [],
   "source": [
    "# Mounted from ex3 \n",
    "path = '/home/hanna/RESULTS/'"
   ]
  },
  {
   "cell_type": "markdown",
   "metadata": {},
   "source": [
    "# Empty folder is models not compiled. \n",
    "* Try to quantify the number of parameteres - that compile."
   ]
  },
  {
   "cell_type": "code",
   "execution_count": 3,
   "metadata": {},
   "outputs": [],
   "source": [
    "folders = glob.glob(path+'*')"
   ]
  },
  {
   "cell_type": "code",
   "execution_count": 4,
   "metadata": {},
   "outputs": [],
   "source": [
    "converged_models = []\n",
    "for folder in folders:\n",
    "    if len(glob.glob(folder+'/*')) == 0:\n",
    "        print(folder)\n",
    "    else:\n",
    "        converged_models.append(folder)"
   ]
  },
  {
   "cell_type": "markdown",
   "metadata": {},
   "source": [
    "### NOT CONVERING ARCHITECTURES \n",
    "* ConvLSTM-256-256-3-3\n",
    "* ConvLSTM-64-64-3-3\n",
    "* ConvLSTM-32-32-32-3-3-3\n",
    "* ConvLSTM-64-32-5-5"
   ]
  },
  {
   "cell_type": "markdown",
   "metadata": {},
   "source": [
    "# Name of succesfully trained models"
   ]
  },
  {
   "cell_type": "code",
   "execution_count": 5,
   "metadata": {},
   "outputs": [
    {
     "data": {
      "text/plain": [
       "[]"
      ]
     },
     "execution_count": 5,
     "metadata": {},
     "output_type": "execute_result"
    }
   ],
   "source": [
    "converged_models"
   ]
  },
  {
   "cell_type": "code",
   "execution_count": 6,
   "metadata": {},
   "outputs": [
    {
     "data": {
      "text/plain": [
       "['/home/hanna/RESULTS/ConvLSTM-B10-SL24-8-3x3-8-3x3-8-3x3',\n",
       " '/home/hanna/RESULTS/ConvLSTM-B5-SL6-256-3x3']"
      ]
     },
     "execution_count": 6,
     "metadata": {},
     "output_type": "execute_result"
    }
   ],
   "source": [
    "study = converged_models[4:]\n",
    "study"
   ]
  },
  {
   "cell_type": "code",
   "execution_count": 7,
   "metadata": {},
   "outputs": [
    {
     "data": {
      "text/plain": [
       "[]"
      ]
     },
     "execution_count": 7,
     "metadata": {},
     "output_type": "execute_result"
    }
   ],
   "source": [
    "glob.glob('/home/hanna/RESULTS/ConvLSTM-128-3'+'/*')"
   ]
  },
  {
   "cell_type": "markdown",
   "metadata": {},
   "source": [
    "# Summary -- ConvLSTM-128-3"
   ]
  },
  {
   "cell_type": "code",
   "execution_count": 8,
   "metadata": {},
   "outputs": [
    {
     "ename": "FileNotFoundError",
     "evalue": "[Errno 2] No such file or directory: '/home/hanna/RESULTS/ConvLSTM-128-3/summary_ConvLSTM-128-3.txt'",
     "output_type": "error",
     "traceback": [
      "\u001b[0;31m---------------------------------------------------------------------------\u001b[0m",
      "\u001b[0;31mFileNotFoundError\u001b[0m                         Traceback (most recent call last)",
      "\u001b[0;32m<ipython-input-8-085bfff98567>\u001b[0m in \u001b[0;36m<module>\u001b[0;34m\u001b[0m\n\u001b[0;32m----> 1\u001b[0;31m \u001b[0;32mwith\u001b[0m \u001b[0mopen\u001b[0m\u001b[0;34m(\u001b[0m\u001b[0;34m'/home/hanna/RESULTS/ConvLSTM-128-3/summary_ConvLSTM-128-3.txt'\u001b[0m\u001b[0;34m)\u001b[0m \u001b[0;32mas\u001b[0m \u001b[0msummary_file\u001b[0m\u001b[0;34m:\u001b[0m\u001b[0;34m\u001b[0m\u001b[0;34m\u001b[0m\u001b[0m\n\u001b[0m\u001b[1;32m      2\u001b[0m     \u001b[0mcontent\u001b[0m \u001b[0;34m=\u001b[0m \u001b[0msummary_file\u001b[0m\u001b[0;34m.\u001b[0m\u001b[0mreadlines\u001b[0m\u001b[0;34m(\u001b[0m\u001b[0;34m)\u001b[0m\u001b[0;34m\u001b[0m\u001b[0;34m\u001b[0m\u001b[0m\n\u001b[1;32m      3\u001b[0m \u001b[0;34m\u001b[0m\u001b[0m\n\u001b[1;32m      4\u001b[0m \u001b[0mcontent\u001b[0m\u001b[0;34m\u001b[0m\u001b[0;34m\u001b[0m\u001b[0m\n",
      "\u001b[0;31mFileNotFoundError\u001b[0m: [Errno 2] No such file or directory: '/home/hanna/RESULTS/ConvLSTM-128-3/summary_ConvLSTM-128-3.txt'"
     ]
    }
   ],
   "source": [
    "with open('/home/hanna/RESULTS/ConvLSTM-128-3/summary_ConvLSTM-128-3.txt') as summary_file:\n",
    "    content = summary_file.readlines()\n",
    "\n",
    "content"
   ]
  },
  {
   "cell_type": "markdown",
   "metadata": {},
   "source": [
    "# Plotting loss"
   ]
  },
  {
   "cell_type": "code",
   "execution_count": 9,
   "metadata": {},
   "outputs": [
    {
     "ename": "FileNotFoundError",
     "evalue": "[Errno 2] No such file or directory: '/home/hanna/RESULTS/ConvLSTM-128-3/history.json'",
     "output_type": "error",
     "traceback": [
      "\u001b[0;31m---------------------------------------------------------------------------\u001b[0m",
      "\u001b[0;31mFileNotFoundError\u001b[0m                         Traceback (most recent call last)",
      "\u001b[0;32m<ipython-input-9-0cfc31b6269b>\u001b[0m in \u001b[0;36m<module>\u001b[0;34m\u001b[0m\n\u001b[0;32m----> 1\u001b[0;31m \u001b[0;32mwith\u001b[0m \u001b[0mopen\u001b[0m\u001b[0;34m(\u001b[0m\u001b[0;34m'/home/hanna/RESULTS/ConvLSTM-128-3/history.json'\u001b[0m\u001b[0;34m)\u001b[0m \u001b[0;32mas\u001b[0m \u001b[0mjson_file\u001b[0m\u001b[0;34m:\u001b[0m\u001b[0;34m\u001b[0m\u001b[0;34m\u001b[0m\u001b[0m\n\u001b[0m\u001b[1;32m      2\u001b[0m     \u001b[0mdata\u001b[0m \u001b[0;34m=\u001b[0m \u001b[0mjson\u001b[0m\u001b[0;34m.\u001b[0m\u001b[0mload\u001b[0m\u001b[0;34m(\u001b[0m\u001b[0mjson_file\u001b[0m\u001b[0;34m)\u001b[0m\u001b[0;34m\u001b[0m\u001b[0;34m\u001b[0m\u001b[0m\n",
      "\u001b[0;31mFileNotFoundError\u001b[0m: [Errno 2] No such file or directory: '/home/hanna/RESULTS/ConvLSTM-128-3/history.json'"
     ]
    }
   ],
   "source": [
    "with open('/home/hanna/RESULTS/ConvLSTM-128-3/history.json') as json_file:\n",
    "    data = json.load(json_file)"
   ]
  },
  {
   "cell_type": "code",
   "execution_count": null,
   "metadata": {},
   "outputs": [],
   "source": [
    "def get_array(data, key = 'loss'):\n",
    "    return [data[key][k] for k in data[key].keys()]"
   ]
  },
  {
   "cell_type": "code",
   "execution_count": 10,
   "metadata": {},
   "outputs": [
    {
     "ename": "FileNotFoundError",
     "evalue": "[Errno 2] No such file or directory: '/home/hanna/RESULTS/ConvLSTM-128-3/history.json'",
     "output_type": "error",
     "traceback": [
      "\u001b[0;31m---------------------------------------------------------------------------\u001b[0m",
      "\u001b[0;31mFileNotFoundError\u001b[0m                         Traceback (most recent call last)",
      "\u001b[0;32m<ipython-input-10-27d3867291a4>\u001b[0m in \u001b[0;36m<module>\u001b[0;34m\u001b[0m\n\u001b[0;32m----> 1\u001b[0;31m \u001b[0;32mwith\u001b[0m \u001b[0mopen\u001b[0m\u001b[0;34m(\u001b[0m\u001b[0;34m'/home/hanna/RESULTS/ConvLSTM-128-3/history.json'\u001b[0m\u001b[0;34m)\u001b[0m \u001b[0;32mas\u001b[0m \u001b[0mjson_file\u001b[0m\u001b[0;34m:\u001b[0m\u001b[0;34m\u001b[0m\u001b[0;34m\u001b[0m\u001b[0m\n\u001b[0m\u001b[1;32m      2\u001b[0m     \u001b[0mdata\u001b[0m \u001b[0;34m=\u001b[0m \u001b[0mjson\u001b[0m\u001b[0;34m.\u001b[0m\u001b[0mload\u001b[0m\u001b[0;34m(\u001b[0m\u001b[0mjson_file\u001b[0m\u001b[0;34m)\u001b[0m\u001b[0;34m\u001b[0m\u001b[0;34m\u001b[0m\u001b[0m\n\u001b[1;32m      3\u001b[0m \u001b[0;34m\u001b[0m\u001b[0m\n\u001b[1;32m      4\u001b[0m \u001b[0;31m# summarize history for accuracy\u001b[0m\u001b[0;34m\u001b[0m\u001b[0;34m\u001b[0m\u001b[0;34m\u001b[0m\u001b[0m\n\u001b[1;32m      5\u001b[0m \u001b[0mplt\u001b[0m\u001b[0;34m.\u001b[0m\u001b[0mplot\u001b[0m\u001b[0;34m(\u001b[0m\u001b[0mget_array\u001b[0m\u001b[0;34m(\u001b[0m\u001b[0mdata\u001b[0m\u001b[0;34m,\u001b[0m \u001b[0mkey\u001b[0m \u001b[0;34m=\u001b[0m \u001b[0;34m'loss'\u001b[0m\u001b[0;34m)\u001b[0m\u001b[0;34m)\u001b[0m\u001b[0;34m\u001b[0m\u001b[0;34m\u001b[0m\u001b[0m\n",
      "\u001b[0;31mFileNotFoundError\u001b[0m: [Errno 2] No such file or directory: '/home/hanna/RESULTS/ConvLSTM-128-3/history.json'"
     ]
    }
   ],
   "source": [
    "with open('/home/hanna/RESULTS/ConvLSTM-128-3/history.json') as json_file:\n",
    "    data = json.load(json_file)\n",
    "    \n",
    "# summarize history for accuracy\n",
    "plt.plot(get_array(data, key = 'loss'))\n",
    "plt.plot(get_array(data, key = 'val_loss'))\n",
    "plt.title('model loss')\n",
    "plt.ylabel('loss')\n",
    "plt.xlabel('epoch')\n",
    "plt.legend(['train', 'test'], loc='upper left')\n",
    "plt.show()"
   ]
  },
  {
   "cell_type": "markdown",
   "metadata": {},
   "source": [
    "# ConvLSTM-128-32-3-3"
   ]
  },
  {
   "cell_type": "code",
   "execution_count": 24,
   "metadata": {},
   "outputs": [
    {
     "data": {
      "text/plain": [
       "['Model: \"sequential\"\\n',\n",
       " '_________________________________________________________________\\n',\n",
       " 'Layer (type)                 Output Shape              Param #   \\n',\n",
       " '=================================================================\\n',\n",
       " 'batch_normalization (BatchNo multiple                  16        \\n',\n",
       " '_________________________________________________________________\\n',\n",
       " 'conv_lst_m2d (ConvLSTM2D)    multiple                  608768    \\n',\n",
       " '_________________________________________________________________\\n',\n",
       " 'batch_normalization_1 (Batch multiple                  512       \\n',\n",
       " '_________________________________________________________________\\n',\n",
       " 'conv_lst_m2d_1 (ConvLSTM2D)  multiple                  184448    \\n',\n",
       " '_________________________________________________________________\\n',\n",
       " 'batch_normalization_2 (Batch multiple                  128       \\n',\n",
       " '_________________________________________________________________\\n',\n",
       " 'conv_lst_m2d_2 (ConvLSTM2D)  multiple                  136       \\n',\n",
       " '=================================================================\\n',\n",
       " 'Total params: 794,008\\n',\n",
       " 'Trainable params: 793,680\\n',\n",
       " 'Non-trainable params: 328\\n',\n",
       " '_________________________________________________________________\\n']"
      ]
     },
     "execution_count": 24,
     "metadata": {},
     "output_type": "execute_result"
    }
   ],
   "source": [
    "with open('/home/hanna/RESULTS/ConvLSTM-128-32-3-3/summary_ConvLSTM-128-32-3-3.txt') as summary_file:\n",
    "    content = summary_file.readlines()\n",
    "\n",
    "content"
   ]
  },
  {
   "cell_type": "code",
   "execution_count": 25,
   "metadata": {},
   "outputs": [
    {
     "data": {
      "image/png": "[encoded data removed]",
      "text/plain": [
       "<Figure size 432x288 with 1 Axes>"
      ]
     },
     "metadata": {
      "needs_background": "light"
     },
     "output_type": "display_data"
    }
   ],
   "source": [
    "with open('/home/hanna/RESULTS/ConvLSTM-128-32-3-3/history.json') as json_file:\n",
    "    data = json.load(json_file)\n",
    "    \n",
    "# summarize history for accuracy\n",
    "plt.plot(get_array(data, key = 'loss'))\n",
    "plt.plot(get_array(data, key = 'val_loss'))\n",
    "plt.title('model loss')\n",
    "plt.ylabel('loss')\n",
    "plt.xlabel('epoch')\n",
    "plt.legend(['train', 'test'], loc='upper left')\n",
    "plt.show()"
   ]
  },
  {
   "cell_type": "markdown",
   "metadata": {},
   "source": [
    "# ConvLSTM-16-16-3-3"
   ]
  },
  {
   "cell_type": "code",
   "execution_count": 28,
   "metadata": {},
   "outputs": [
    {
     "data": {
      "text/plain": [
       "['Model: \"sequential\"\\n',\n",
       " '_________________________________________________________________\\n',\n",
       " 'Layer (type)                 Output Shape              Param #   \\n',\n",
       " '=================================================================\\n',\n",
       " 'batch_normalization (BatchNo multiple                  16        \\n',\n",
       " '_________________________________________________________________\\n',\n",
       " 'conv_lst_m2d (ConvLSTM2D)    multiple                  11584     \\n',\n",
       " '_________________________________________________________________\\n',\n",
       " 'batch_normalization_1 (Batch multiple                  64        \\n',\n",
       " '_________________________________________________________________\\n',\n",
       " 'conv_lst_m2d_1 (ConvLSTM2D)  multiple                  18496     \\n',\n",
       " '_________________________________________________________________\\n',\n",
       " 'batch_normalization_2 (Batch multiple                  64        \\n',\n",
       " '_________________________________________________________________\\n',\n",
       " 'conv_lst_m2d_2 (ConvLSTM2D)  multiple                  72        \\n',\n",
       " '=================================================================\\n',\n",
       " 'Total params: 30,296\\n',\n",
       " 'Trainable params: 30,224\\n',\n",
       " 'Non-trainable params: 72\\n',\n",
       " '_________________________________________________________________\\n']"
      ]
     },
     "execution_count": 28,
     "metadata": {},
     "output_type": "execute_result"
    }
   ],
   "source": [
    "with open('/home/hanna/RESULTS/ConvLSTM-16-16-3-3/summary_ConvLSTM-16-16-3-3.txt') as summary_file:\n",
    "    content = summary_file.readlines()\n",
    "\n",
    "content"
   ]
  },
  {
   "cell_type": "code",
   "execution_count": 26,
   "metadata": {},
   "outputs": [
    {
     "data": {
      "image/png": "[encoded data removed]",
      "text/plain": [
       "<Figure size 432x288 with 1 Axes>"
      ]
     },
     "metadata": {
      "needs_background": "light"
     },
     "output_type": "display_data"
    }
   ],
   "source": [
    "with open('/home/hanna/RESULTS/ConvLSTM-16-16-3-3/history.json') as json_file:\n",
    "    data = json.load(json_file)\n",
    "    \n",
    "# summarize history for accuracy\n",
    "plt.plot(get_array(data, key = 'loss'))\n",
    "plt.plot(get_array(data, key = 'val_loss'))\n",
    "plt.title('model loss')\n",
    "plt.ylabel('loss')\n",
    "plt.xlabel('epoch')\n",
    "plt.legend(['train', 'test'], loc='upper left')\n",
    "plt.show()"
   ]
  },
  {
   "cell_type": "markdown",
   "metadata": {},
   "source": [
    "# ConvLSTM-8-8-8-3-3-3"
   ]
  },
  {
   "cell_type": "code",
   "execution_count": 29,
   "metadata": {},
   "outputs": [
    {
     "data": {
      "text/plain": [
       "['Model: \"sequential\"\\n',\n",
       " '_________________________________________________________________\\n',\n",
       " 'Layer (type)                 Output Shape              Param #   \\n',\n",
       " '=================================================================\\n',\n",
       " 'batch_normalization (BatchNo multiple                  16        \\n',\n",
       " '_________________________________________________________________\\n',\n",
       " 'conv_lst_m2d (ConvLSTM2D)    multiple                  3488      \\n',\n",
       " '_________________________________________________________________\\n',\n",
       " 'batch_normalization_1 (Batch multiple                  32        \\n',\n",
       " '_________________________________________________________________\\n',\n",
       " 'conv_lst_m2d_1 (ConvLSTM2D)  multiple                  4640      \\n',\n",
       " '_________________________________________________________________\\n',\n",
       " 'batch_normalization_2 (Batch multiple                  32        \\n',\n",
       " '_________________________________________________________________\\n',\n",
       " 'conv_lst_m2d_2 (ConvLSTM2D)  multiple                  4640      \\n',\n",
       " '_________________________________________________________________\\n',\n",
       " 'batch_normalization_3 (Batch multiple                  32        \\n',\n",
       " '_________________________________________________________________\\n',\n",
       " 'conv_lst_m2d_3 (ConvLSTM2D)  multiple                  40        \\n',\n",
       " '=================================================================\\n',\n",
       " 'Total params: 12,920\\n',\n",
       " 'Trainable params: 12,864\\n',\n",
       " 'Non-trainable params: 56\\n',\n",
       " '_________________________________________________________________\\n']"
      ]
     },
     "execution_count": 29,
     "metadata": {},
     "output_type": "execute_result"
    }
   ],
   "source": [
    "with open('/home/hanna/RESULTS/ConvLSTM-8-8-8-3-3-3/summary_ConvLSTM-8-8-8-3-3-3.txt') as summary_file:\n",
    "    content = summary_file.readlines()\n",
    "\n",
    "content"
   ]
  },
  {
   "cell_type": "code",
   "execution_count": 27,
   "metadata": {},
   "outputs": [
    {
     "data": {
      "image/png": "[encoded data removed]",
      "text/plain": [
       "<Figure size 432x288 with 1 Axes>"
      ]
     },
     "metadata": {
      "needs_background": "light"
     },
     "output_type": "display_data"
    }
   ],
   "source": [
    "with open(path + '/history.json') as json_file:\n",
    "    data = json.load(json_file)\n",
    "\n",
    "model = path.split('/')[-1]\n",
    "    \n",
    "# summarize history for accuracy\n",
    "plt.plot(get_array(data, key = 'loss'), label = 'loss {}'.format(model))\n",
    "plt.plot(get_array(data, key = 'val_loss'),  label = 'val loss {}'.format(model))\n",
    "\n",
    "plt.title('model loss')\n",
    "plt.ylabel('loss')\n",
    "plt.xlabel('epoch')\n",
    "#plt.legend(['train', 'test'], loc='upper left')\n",
    "plt.show()"
   ]
  },
  {
   "cell_type": "markdown",
   "metadata": {},
   "source": [
    "# Notater \n",
    "1. Test score lavere pga det er ferre tall?\n",
    "2. Legger seg på samme nivå som ConvLSTM"
   ]
  },
  {
   "cell_type": "code",
   "execution_count": null,
   "metadata": {},
   "outputs": [],
   "source": []
  },
  {
   "cell_type": "code",
   "execution_count": null,
   "metadata": {},
   "outputs": [],
   "source": []
  },
  {
   "cell_type": "markdown",
   "metadata": {},
   "source": [
    "# Plot loss for all models in same plot -- makes it obious which one does not converge. "
   ]
  },
  {
   "cell_type": "code",
   "execution_count": 3,
   "metadata": {},
   "outputs": [],
   "source": [
    "import json \n",
    "test_models = ['/home/hanna/RESULTS/ConvLSTM-128-3',\n",
    "               '/home/hanna/RESULTS/ConvLSTM-128-32-3-3',\n",
    "               '/home/hanna/RESULTS/ConvLSTM-16-16-3-3',\n",
    "               '/home/hanna/RESULTS/ConvLSTM-8-8-8-3-3-3',\n",
    "               '/home/hanna/RESULTS/ConvLSTM-256-256-3-3',\n",
    "               '/home/hanna/RESULTS/ConvLSTM-64-64-3-3',\n",
    "               '/home/hanna/RESULTS/ConvLSTM-32-32-32-3-3-3', \n",
    "               '/home/hanna/RESULTS/ConvLSTM-64-32-5-5']"
   ]
  },
  {
   "cell_type": "code",
   "execution_count": 3,
   "metadata": {},
   "outputs": [],
   "source": []
  },
  {
   "cell_type": "code",
   "execution_count": 38,
   "metadata": {},
   "outputs": [
    {
     "name": "stdout",
     "output_type": "stream",
     "text": [
      "file not found for model /home/hanna/RESULTS/ConvLSTM-B5-SL6-256-3x3-256-3x3\n",
      "file not found for model /home/hanna/RESULTS/ConvLSTM-B10-SL24-128-3x3\n",
      "file not found for model /home/hanna/RESULTS/ConvLSTM-B10-SL24-128-3x3-32-3x3\n"
     ]
    },
    {
     "data": {
      "image/png": "[encoded data removed]",
      "text/plain": [
       "<Figure size 439.37x329.528 with 2 Axes>"
      ]
     },
     "metadata": {
      "needs_background": "light"
     },
     "output_type": "display_data"
    }
   ],
   "source": [
    "test_models = glob.glob('/home/hanna/RESULTS/*')\n",
    "\n",
    "fig, axes = plt.subplots(2, 1, figsize = (6.1023622, 6.1023622*0.75), sharex=True)\n",
    "num_converged_models = 0\n",
    "for path in test_models:\n",
    "    try:\n",
    "        with open(path + '/history.json') as json_file:\n",
    "            data = json.load(json_file)\n",
    "\n",
    "        model = path.split('/')[-1]\n",
    "        num_converged_models +=1\n",
    "        # summarize history for accuracy\n",
    "        axes[0].plot(get_array(data, key = 'loss'), label = model)\n",
    "        axes[1].plot(get_array(data, key = 'val_loss'), label = model)\n",
    "    except FileNotFoundError:\n",
    "        print('file not found for model {}'.format(path))\n",
    "\n",
    "axes[0].set_ylabel('Mean Squared Error Loss')\n",
    "axes[1].set_ylabel('Mean Squared Error Loss')\n",
    "axes[1].set_xlabel('Epoch')\n",
    "#axes[0].set_xlabel('Epoch')\n",
    "plt.legend(ncol = 2, frameon = False, bbox_to_anchor=(1.3, 2.7))\n",
    "#axes[0].grid(True)\n",
    "#axes[1].grid(True)\n",
    "#plt.legend(['train', 'test'], loc='upper left')\n",
    "#plt.subplots_adjust(wspace = 0.2, hspace = 0.3, top=0.9, bottom=0.1, left = 0.14, right = .95)\n",
    "plt.subplots_adjust(wspace = 0.3, hspace = 0.2, top= 0.8, bottom= 0.1, left= 0.1, right= 0.8)\n",
    "plt.savefig(os.path.join('/home/hanna/MS-thesis/python_figs/', 'test_epoch_loss.pdf'))"
   ]
  },
  {
   "cell_type": "code",
   "execution_count": 5,
   "metadata": {},
   "outputs": [
    {
     "data": {
      "text/plain": [
       "<Figure size 432x288 with 0 Axes>"
      ]
     },
     "metadata": {},
     "output_type": "display_data"
    }
   ],
   "source": [
    "#plt.subplots_adjust(wspace = 0.2, hspace = 0.3, top=0.9, bottom=0.1, left = 0.14, right = .95)\n",
    "plt.subplots_adjust(wspace = 0.3, hspace = 0.2, top= 0.95, bottom= 0.1, left= 0.15, right= 0.97)\n",
    "plt.savefig(os.path.join('/home/hanna/MS-thesis/python_figs/', 'test_epoch_loss.pdf'))"
   ]
  },
  {
   "cell_type": "markdown",
   "metadata": {},
   "source": [
    "# TEST MODELS"
   ]
  },
  {
   "cell_type": "code",
   "execution_count": 11,
   "metadata": {},
   "outputs": [
    {
     "data": {
      "text/plain": [
       "['/home/hanna/RESULTS/Model2/history.json',\n",
       " '/home/hanna/RESULTS/Model2/history.csv',\n",
       " '/home/hanna/RESULTS/Model2/summary_Model2.txt',\n",
       " '/home/hanna/RESULTS/Model2/Model2.h5',\n",
       " '/home/hanna/RESULTS/Model2/summary_ConvLSTM-128-3.txt',\n",
       " '/home/hanna/RESULTS/Model2/ConvLSTM-128-3_config.h5']"
      ]
     },
     "execution_count": 11,
     "metadata": {},
     "output_type": "execute_result"
    }
   ],
   "source": [
    "glob.glob('/home/hanna/RESULTS/Model2/*')"
   ]
  },
  {
   "cell_type": "code",
   "execution_count": 16,
   "metadata": {},
   "outputs": [],
   "source": [
    "import os, sys\n",
    "import glob\n",
    "import numpy as np\n",
    "\n",
    "from sclouds.helpers import get_lon_array, get_lat_array, path_convlstm_results\n",
    "from sclouds.ml.ConvLSTM.utils import r2_keras\n",
    "\n",
    "import tensorflow as tf\n",
    "from tensorflow import keras\n",
    "from tensorflow.keras.callbacks import EarlyStopping, TensorBoard\n",
    "\n",
    "my_callbacks = [\n",
    "    tf.keras.callbacks.EarlyStopping(patience=3),\n",
    "    tf.keras.callbacks.TensorBoard(log_dir='./logs'),\n",
    "    tf.keras.callbacks.TerminateOnNaN()\n",
    "]\n",
    "\n",
    "def gen_name(filters, kernal):\n",
    "        name = 'ConvLSTM'\n",
    "        for f in filters:\n",
    "            name += '-{}'.format(f)\n",
    "        for k in kernal:\n",
    "            name += '-{}'.format(k)\n",
    "        print('generated name {}'.format(name))\n",
    "        return name\n",
    "\n",
    "def gen_longname(filters, kernal, batch_size, seq_length):\n",
    "        name = 'ConvLSTM'\n",
    "        name += '-B{}'.format(batch_size)\n",
    "        name += '-SL{}'.format(seq_length)\n",
    "        for i in range(len(filters)):\n",
    "            f = filters[i]\n",
    "            k = kernal[i]\n",
    "            name += '-{}'.format(f)\n",
    "            name += '-{}x{}'.format(k, k)\n",
    "        print('generated name {}'.format(name))\n",
    "        return name\n",
    "\n",
    "class ConvLSTM:\n",
    "    \"\"\" A convoliutional lstm neural network.\n",
    "\n",
    "    What about :\n",
    "        recurrent_activation='hard_sigmoid'\n",
    "        activation='tanh'\n",
    "\n",
    "    Notes\n",
    "    ----------------------------------------------------------------------------\n",
    "    filters, kernel_size, strides=(1, 1), padding='valid', data_format=None,\n",
    "    dilation_rate=(1, 1), activation='tanh', recurrent_activation='hard_sigmoid',\n",
    "    use_bias=True, kernel_initializer='glorot_uniform',\n",
    "    recurrent_initializer='orthogonal', bias_initializer='zeros',\n",
    "    unit_forget_bias=True, kernel_regularizer=None, recurrent_regularizer=None,\n",
    "    bias_regularizer=None, activity_regularizer=None, kernel_constraint=None,\n",
    "    recurrent_constraint=None, bias_constraint=None, return_sequences=False,\n",
    "    go_backwards=False, stateful=False, dropout=0.0, recurrent_dropout=0.0\n",
    "\n",
    "    (x=x, y=y, batch_size=None, epochs=1, verbose=1, callbacks=None,\n",
    "    validation_split=0.2, validation_data=None, shuffle=True, class_weight=None,\n",
    "    sample_weight=None, initial_epoch=0, steps_per_epoch=None,\n",
    "    validation_steps=None, validation_batch_size=None, validation_freq=1,\n",
    "    max_queue_size=10,\n",
    "\n",
    "\n",
    "    \"\"\"\n",
    "\n",
    "    DATA_FORMAT        = 'channels_last'\n",
    "    PADDING            = 'same'\n",
    "    RETURN_SEQUENCE    = True\n",
    "    NUM_INPUT_VARS     = 4\n",
    "    OUTPUT_KERNEL_SIZE = 1\n",
    "    OUTPUT_FILTER      = 1\n",
    "    KERNAL_INIT        = 'lecun_uniform'\n",
    "\n",
    "    n_lat   = 81\n",
    "    n_lon   = 161\n",
    "    #WORKERS = 16 # identical to the number of cores requested in\n",
    "\n",
    "    #USE_MULTIPROCESSING = True\n",
    "    #early_stopping_monitor = EarlyStopping(patience=3)\n",
    "    #CALLBACKS = [early_stopping_monitor, TensorBoard(log_dir='./logs')]\n",
    "\n",
    "    def __init__(self, ms_batch_train_ds, ms_batch_train_ds_val, filters, kernels, seq_length = 24,\n",
    "                 epochs=40, batch_size = 10, validation_split=None, name = None, result_path = None):\n",
    "\n",
    "        self.filters = filters\n",
    "        self.kernels = kernels\n",
    "        self.seq_length = seq_length\n",
    "\n",
    "        #if validation_split > 0.0 and batch_size > 1:\n",
    "        #    raise ValueError('Validation split is incompatible with batchsize > 1')\n",
    "        print(ms_batch_train_ds)\n",
    "        self.ms_batch_train_ds = ms_batch_train_ds\n",
    "        self.ms_batch_train_ds_val = ms_batch_train_ds_val\n",
    "        self.epochs = epochs\n",
    "        self.batch_size = batch_size\n",
    "\n",
    "        self.validation_split = validation_split\n",
    "        print('Starts to build model ...')\n",
    "        self.model = self.build_model(filters, kernels, seq_length)\n",
    "        #self.model.build(ms_batch_train_ds[0].shape)\n",
    "        #self.store_summary()\n",
    "        print('Statrs compilation of model ...')\n",
    "        self.name = name\n",
    "        self.name = gen_longname(filters, kernels, batch_size, seq_length)\n",
    "\n",
    "        if result_path is not None:\n",
    "            self.result_path = result_path\n",
    "            if not os.path.exists(result_path):\n",
    "                os.makedirs(result_path)\n",
    "            self.result_path = os.path.join(result_path, self.name)\n",
    "            if not os.path.exists(os.path.join(result_path, self.name)):\n",
    "                os.makedirs(os.path.join(result_path, self.name))\n",
    "        else:\n",
    "            self.result_path = '/home/hannasv/results/'\n",
    "       \n",
    "        # self.result_path = '/home/hanna/lagrings/results/'\n",
    "        self.model.compile(optimizer=keras.optimizers.Adam(\n",
    "                            learning_rate=0.001,\n",
    "                            beta_1=0.9,\n",
    "                            beta_2=0.999,\n",
    "                            epsilon=1e-07,\n",
    "                            amsgrad=False,\n",
    "                            name=\"Adam\",),\n",
    "                            loss='mean_squared_error',\n",
    "                            metrics=['mean_squared_error', r2_keras, tf.keras.metrics.MeanAbsoluteError()])\n",
    "        print('starts training')\n",
    "        #self.model.save(os.path.join(self.result_path,'{}_config.h5'.format(self.name)))\n",
    "\n",
    "        #self.store_summary()\n",
    "        self.history = self.model.fit(ms_batch_train_ds, #batch_size=batch_size,\n",
    "                   epochs=self.epochs, verbose=1,\n",
    "                   callbacks=my_callbacks,\n",
    "                   #validation_split=0.2,\n",
    "                   validation_data=ms_batch_train_ds_val,\n",
    "                   shuffle=False,\n",
    "                   #class_weight=None,\n",
    "                   #sample_weight=None, initial_epoch=0,\n",
    "                   #steps_per_epoch=100,\n",
    "                   #validation_steps=None,\n",
    "                   #validation_freq=1, max_queue_size=10,\n",
    "                   #workers=self.WORKERS,\n",
    "                   use_multiprocessing=False)\n",
    "\n",
    "\n",
    "        self.store_history()\n",
    "        #self.store_summary()\n",
    "        #self.model.save_weights(self.results_path+'model_weights.h5')\n",
    "        self.save_model_weights_config()\n",
    "\n",
    "    def save_model_weights_config(self):\n",
    "        self.model.save(os.path.join(self.result_path,'{}_config'.format(self.name)))\n",
    "        self.model.save_weights(os.path.join(self.result_path,'{}_weights'.format(self.name)))\n",
    "\n",
    "        print('finished model -- ')\n",
    "\n",
    "\n",
    "    def build_model(self, filters, kernels, seq_length = 24):\n",
    "        \"\"\" Building a ConvLSTM model for predicting cloud cover.\n",
    "        All filters are squared. Adding the architecture.\n",
    "\n",
    "        Parameteres\n",
    "        ------------------------\n",
    "        filters : array like\n",
    "            use length of this to infer the depth of the network.\n",
    "\n",
    "        Returns\n",
    "        ------------------------\n",
    "        model : tensorflow.keras.Sequential\n",
    "            Builded model\n",
    "        \"\"\"\n",
    "\n",
    "        model =  keras.Sequential()\n",
    "        #input  = keras.layers.Input(batch_input_shape=(self.batch_size, seq_length, self.n_lat, self.n_lon,\n",
    "        #                        self.NUM_INPUT_VARS), name='input')#batch_size = self.batch_size)\n",
    "        model.add(tf.keras.layers.BatchNormalization(\n",
    "                   axis=-1, momentum=0.99, epsilon=0.001, center=True, scale=True,\n",
    "               beta_initializer='zeros', gamma_initializer='ones',\n",
    "               moving_mean_initializer='zeros', moving_variance_initializer='ones',\n",
    "               beta_regularizer=None, gamma_regularizer=None, beta_constraint=None,\n",
    "               gamma_constraint=None, renorm=False, renorm_clipping=None, renorm_momentum=0.99,\n",
    "               fused=None, trainable=True, virtual_batch_size=None, adjustment=None, name=None))\n",
    "\n",
    "        # Adding the first layer\n",
    "        model.add(keras.layers.ConvLSTM2D(filters = filters[0],\n",
    "                           kernel_size = (kernels[0], kernels[0]), #, self.NUM_INPUT_VARS\n",
    "                           #input_shape = (seq_length,\n",
    "                           #                 self.n_lat, self.n_lon, self.NUM_INPUT_VARS),\n",
    "                           kernel_initializer=self.KERNAL_INIT,\n",
    "                           padding = self.PADDING,\n",
    "                           return_sequences=self.RETURN_SEQUENCE,\n",
    "                           data_format=self.DATA_FORMAT,\n",
    "                           batch_size = self.batch_size, dtype = tf.float64))\n",
    "\n",
    "        model.add(tf.keras.layers.BatchNormalization(\n",
    "             axis=-1, momentum=0.99, epsilon=0.001, center=True, scale=True,\n",
    "            beta_initializer='zeros', gamma_initializer='ones',\n",
    "                moving_mean_initializer='zeros', moving_variance_initializer='ones',\n",
    "             beta_regularizer=None, gamma_regularizer=None, beta_constraint=None,\n",
    "             gamma_constraint=None, renorm=False, renorm_clipping=None, renorm_momentum=0.99,\n",
    "              fused=None, trainable=True, virtual_batch_size=None, adjustment=None, name=None))\n",
    "\n",
    "\n",
    "        prev_filter = filters[0]\n",
    "        if len(filters) > 1 and len(kernels) > 1:\n",
    "            print('Detected more than one layer ... ')\n",
    "            for i, tuple in enumerate(zip(filters[1:], kernels[1:])):\n",
    "                filter, kernal = tuple\n",
    "                # Begin with 3D convolutional LSTM layer\n",
    "                model.add(keras.layers.ConvLSTM2D(filters=filter,\n",
    "                                                kernel_size=(kernal, kernal), # prev_filter\n",
    "                                                #input_shape = (seq_length, self.n_lat,\n",
    "                                                #                self.n_lon, prev_filter),\n",
    "                                                kernel_initializer=self.KERNAL_INIT,\n",
    "                                                padding = self.PADDING,\n",
    "                                                return_sequences=self.RETURN_SEQUENCE,\n",
    "                                                data_format=self.DATA_FORMAT,\n",
    "                                                batch_size = self.batch_size, dtype = tf.float64))\n",
    "                prev_filter = filter\n",
    "                model.add(tf.keras.layers.BatchNormalization(\n",
    "                              axis=-1, momentum=0.99, epsilon=0.001, center=True, scale=True,\n",
    "                                beta_initializer='zeros', gamma_initializer='ones',\n",
    "                               moving_mean_initializer='zeros', moving_variance_initializer='ones',\n",
    "                             beta_regularizer=None, gamma_regularizer=None, beta_constraint=None,\n",
    "                                  gamma_constraint=None, renorm=False, renorm_clipping=None, renorm_momentum=0.99,\n",
    "                                 fused=None, trainable=True, virtual_batch_size=None, adjustment=None, name=None))\n",
    "\n",
    "\n",
    "\n",
    "        # Adding the last layer\n",
    "        model.add(keras.layers.ConvLSTM2D(filters=self.OUTPUT_FILTER,\n",
    "                                        kernel_size=(self.OUTPUT_KERNEL_SIZE, self.OUTPUT_KERNEL_SIZE), #prev_filter\n",
    "                                        #input_shape = (seq_length, self.n_lat,\n",
    "                                        #                self.n_lon, prev_filter),\n",
    "                                        kernel_initializer=self.KERNAL_INIT,\n",
    "                                        padding = self.PADDING,\n",
    "                                        return_sequences=self.RETURN_SEQUENCE,\n",
    "                                        data_format=self.DATA_FORMAT,\n",
    "                                        batch_size = self.batch_size, dtype = tf.float64))\n",
    "\n",
    "        return model\n",
    "\n",
    "    def compile(self, lmd=0.001):\n",
    "        \"\"\" Compile model.\n",
    "\n",
    "        Parameters\n",
    "        -------------\n",
    "        model : tensorflow.keras.Sequential\n",
    "            Build model.\n",
    "\n",
    "        Returnes\n",
    "        -------------\n",
    "        model : tensorflow.keras.Sequential\n",
    "            Compiled model.\n",
    "        \"\"\"\n",
    "        self.model.compile(optimizer=keras.optimizers.Adam(\n",
    "                            learning_rate=lmd,\n",
    "                            beta_1=0.9,\n",
    "                            beta_2=0.999,\n",
    "                            epsilon=1e-07,\n",
    "                            amsgrad=False,\n",
    "                            name=\"Adam\",),\n",
    "                            loss='mean_squared_error',\n",
    "                            metrics=['mean_squared_error', r2_keras, tf.keras.metrics.MeanAbsoluteError()])\n",
    "        return self.model\n",
    "\n",
    "\n",
    "\n",
    "    def store_history(self):\n",
    "        \"\"\" Fit builded model.\n",
    "        Parameters\n",
    "        -------------\n",
    "        model : tensorflow.keras.Sequential\n",
    "            Builded model\n",
    "        \"\"\"\n",
    "        import pandas as pd\n",
    "        history = self.history\n",
    "\n",
    "        # convert the history.history dict to a pandas DataFrame:\n",
    "        hist_df = pd.DataFrame(history.history)\n",
    "\n",
    "        # save to json:\n",
    "        hist_json_file = os.path.join(self.result_path, 'history.json')\n",
    "        with open(hist_json_file, mode='w') as f:\n",
    "            hist_df.to_json(f)\n",
    "\n",
    "        # or save to csv:\n",
    "        hist_csv_file = os.path.join(self.result_path, 'history.csv')\n",
    "        with open(hist_csv_file, mode='w') as f:\n",
    "            hist_df.to_csv(f)\n",
    "\n",
    "        return\n",
    "\n",
    "    def store_summary(self):\n",
    "        \"\"\" Store summary of tranings process.\n",
    "        \"\"\"\n",
    "        ORIG_OUTPUT = sys.stdout\n",
    "        with open(os.path.join(self.result_path, \"summary_{}.txt\".format(self.name)), \"w\") as text_file:\n",
    "            sys.stdout = text_file\n",
    "            self.model.summary()\n",
    "        sys.stdout = ORIG_OUTPUT\n",
    "        #self.model.save(os.path.join(self.result_path,'{}_config.h5'.format(self.name)))\n",
    "        #self.model.save_weights(os.path.join(self.result_path,'{}_weights.h5'.format(self.name)))\n",
    "        return\n"
   ]
  },
  {
   "cell_type": "code",
   "execution_count": 19,
   "metadata": {},
   "outputs": [
    {
     "ename": "ValueError",
     "evalue": "You cannot build your model by calling `build` if your layers do not support float type inputs. Instead, in order to instantiate and build your model, `call` your model on real tensor data (of the correct dtype).",
     "output_type": "error",
     "traceback": [
      "\u001b[0;31m---------------------------------------------------------------------------\u001b[0m",
      "\u001b[0;31mValueError\u001b[0m                                Traceback (most recent call last)",
      "\u001b[0;32m~/anaconda3/envs/final/lib/python3.7/site-packages/tensorflow_core/python/framework/op_def_library.py\u001b[0m in \u001b[0;36m_apply_op_helper\u001b[0;34m(op_type_name, name, **keywords)\u001b[0m\n\u001b[1;32m    467\u001b[0m               \u001b[0mas_ref\u001b[0m\u001b[0;34m=\u001b[0m\u001b[0minput_arg\u001b[0m\u001b[0;34m.\u001b[0m\u001b[0mis_ref\u001b[0m\u001b[0;34m,\u001b[0m\u001b[0;34m\u001b[0m\u001b[0;34m\u001b[0m\u001b[0m\n\u001b[0;32m--> 468\u001b[0;31m               preferred_dtype=default_dtype)\n\u001b[0m\u001b[1;32m    469\u001b[0m         \u001b[0;32mexcept\u001b[0m \u001b[0mTypeError\u001b[0m \u001b[0;32mas\u001b[0m \u001b[0merr\u001b[0m\u001b[0;34m:\u001b[0m\u001b[0;34m\u001b[0m\u001b[0;34m\u001b[0m\u001b[0m\n",
      "\u001b[0;32m~/anaconda3/envs/final/lib/python3.7/site-packages/tensorflow_core/python/framework/ops.py\u001b[0m in \u001b[0;36mconvert_to_tensor\u001b[0;34m(value, dtype, name, as_ref, preferred_dtype, dtype_hint, ctx, accepted_result_types)\u001b[0m\n\u001b[1;32m   1289\u001b[0m           \u001b[0;34m\"Tensor conversion requested dtype %s for Tensor with dtype %s: %r\"\u001b[0m \u001b[0;34m%\u001b[0m\u001b[0;34m\u001b[0m\u001b[0;34m\u001b[0m\u001b[0m\n\u001b[0;32m-> 1290\u001b[0;31m           (dtype.name, value.dtype.name, value))\n\u001b[0m\u001b[1;32m   1291\u001b[0m     \u001b[0;32mreturn\u001b[0m \u001b[0mvalue\u001b[0m\u001b[0;34m\u001b[0m\u001b[0;34m\u001b[0m\u001b[0m\n",
      "\u001b[0;31mValueError\u001b[0m: Tensor conversion requested dtype float64 for Tensor with dtype float32: <tf.Tensor 'conv_lst_m2d/zeros:0' shape=(3, 3, 4, 128) dtype=float32>",
      "\nDuring handling of the above exception, another exception occurred:\n",
      "\u001b[0;31mTypeError\u001b[0m                                 Traceback (most recent call last)",
      "\u001b[0;32m~/anaconda3/envs/final/lib/python3.7/site-packages/tensorflow_core/python/keras/engine/network.py\u001b[0m in \u001b[0;36mbuild\u001b[0;34m(self, input_shape)\u001b[0m\n\u001b[1;32m    681\u001b[0m         \u001b[0;32mtry\u001b[0m\u001b[0;34m:\u001b[0m\u001b[0;34m\u001b[0m\u001b[0;34m\u001b[0m\u001b[0m\n\u001b[0;32m--> 682\u001b[0;31m           \u001b[0mself\u001b[0m\u001b[0;34m.\u001b[0m\u001b[0mcall\u001b[0m\u001b[0;34m(\u001b[0m\u001b[0mx\u001b[0m\u001b[0;34m,\u001b[0m \u001b[0;34m**\u001b[0m\u001b[0mkwargs\u001b[0m\u001b[0;34m)\u001b[0m\u001b[0;34m\u001b[0m\u001b[0;34m\u001b[0m\u001b[0m\n\u001b[0m\u001b[1;32m    683\u001b[0m         \u001b[0;32mexcept\u001b[0m \u001b[0;34m(\u001b[0m\u001b[0merrors\u001b[0m\u001b[0;34m.\u001b[0m\u001b[0mInvalidArgumentError\u001b[0m\u001b[0;34m,\u001b[0m \u001b[0mTypeError\u001b[0m\u001b[0;34m)\u001b[0m\u001b[0;34m:\u001b[0m\u001b[0;34m\u001b[0m\u001b[0;34m\u001b[0m\u001b[0m\n",
      "\u001b[0;32m~/anaconda3/envs/final/lib/python3.7/site-packages/tensorflow_core/python/keras/engine/sequential.py\u001b[0m in \u001b[0;36mcall\u001b[0;34m(self, inputs, training, mask)\u001b[0m\n\u001b[1;32m    280\u001b[0m \u001b[0;34m\u001b[0m\u001b[0m\n\u001b[0;32m--> 281\u001b[0;31m       \u001b[0moutputs\u001b[0m \u001b[0;34m=\u001b[0m \u001b[0mlayer\u001b[0m\u001b[0;34m(\u001b[0m\u001b[0minputs\u001b[0m\u001b[0;34m,\u001b[0m \u001b[0;34m**\u001b[0m\u001b[0mkwargs\u001b[0m\u001b[0;34m)\u001b[0m\u001b[0;34m\u001b[0m\u001b[0;34m\u001b[0m\u001b[0m\n\u001b[0m\u001b[1;32m    282\u001b[0m \u001b[0;34m\u001b[0m\u001b[0m\n",
      "\u001b[0;32m~/anaconda3/envs/final/lib/python3.7/site-packages/tensorflow_core/python/keras/layers/convolutional_recurrent.py\u001b[0m in \u001b[0;36m__call__\u001b[0;34m(self, inputs, initial_state, constants, **kwargs)\u001b[0m\n\u001b[1;32m    298\u001b[0m     \u001b[0;32mif\u001b[0m \u001b[0minitial_state\u001b[0m \u001b[0;32mis\u001b[0m \u001b[0;32mNone\u001b[0m \u001b[0;32mand\u001b[0m \u001b[0mconstants\u001b[0m \u001b[0;32mis\u001b[0m \u001b[0;32mNone\u001b[0m\u001b[0;34m:\u001b[0m\u001b[0;34m\u001b[0m\u001b[0;34m\u001b[0m\u001b[0m\n\u001b[0;32m--> 299\u001b[0;31m       \u001b[0;32mreturn\u001b[0m \u001b[0msuper\u001b[0m\u001b[0;34m(\u001b[0m\u001b[0mConvRNN2D\u001b[0m\u001b[0;34m,\u001b[0m \u001b[0mself\u001b[0m\u001b[0;34m)\u001b[0m\u001b[0;34m.\u001b[0m\u001b[0m__call__\u001b[0m\u001b[0;34m(\u001b[0m\u001b[0minputs\u001b[0m\u001b[0;34m,\u001b[0m \u001b[0;34m**\u001b[0m\u001b[0mkwargs\u001b[0m\u001b[0;34m)\u001b[0m\u001b[0;34m\u001b[0m\u001b[0;34m\u001b[0m\u001b[0m\n\u001b[0m\u001b[1;32m    300\u001b[0m \u001b[0;34m\u001b[0m\u001b[0m\n",
      "\u001b[0;32m~/anaconda3/envs/final/lib/python3.7/site-packages/tensorflow_core/python/keras/layers/recurrent.py\u001b[0m in \u001b[0;36m__call__\u001b[0;34m(self, inputs, initial_state, constants, **kwargs)\u001b[0m\n\u001b[1;32m    643\u001b[0m     \u001b[0;32mif\u001b[0m \u001b[0minitial_state\u001b[0m \u001b[0;32mis\u001b[0m \u001b[0;32mNone\u001b[0m \u001b[0;32mand\u001b[0m \u001b[0mconstants\u001b[0m \u001b[0;32mis\u001b[0m \u001b[0;32mNone\u001b[0m\u001b[0;34m:\u001b[0m\u001b[0;34m\u001b[0m\u001b[0;34m\u001b[0m\u001b[0m\n\u001b[0;32m--> 644\u001b[0;31m       \u001b[0;32mreturn\u001b[0m \u001b[0msuper\u001b[0m\u001b[0;34m(\u001b[0m\u001b[0mRNN\u001b[0m\u001b[0;34m,\u001b[0m \u001b[0mself\u001b[0m\u001b[0;34m)\u001b[0m\u001b[0;34m.\u001b[0m\u001b[0m__call__\u001b[0m\u001b[0;34m(\u001b[0m\u001b[0minputs\u001b[0m\u001b[0;34m,\u001b[0m \u001b[0;34m**\u001b[0m\u001b[0mkwargs\u001b[0m\u001b[0;34m)\u001b[0m\u001b[0;34m\u001b[0m\u001b[0;34m\u001b[0m\u001b[0m\n\u001b[0m\u001b[1;32m    645\u001b[0m \u001b[0;34m\u001b[0m\u001b[0m\n",
      "\u001b[0;32m~/anaconda3/envs/final/lib/python3.7/site-packages/tensorflow_core/python/keras/engine/base_layer.py\u001b[0m in \u001b[0;36m__call__\u001b[0;34m(self, inputs, *args, **kwargs)\u001b[0m\n\u001b[1;32m    777\u001b[0m                 \u001b[0;32melse\u001b[0m\u001b[0;34m:\u001b[0m\u001b[0;34m\u001b[0m\u001b[0;34m\u001b[0m\u001b[0m\n\u001b[0;32m--> 778\u001b[0;31m                   \u001b[0moutputs\u001b[0m \u001b[0;34m=\u001b[0m \u001b[0mcall_fn\u001b[0m\u001b[0;34m(\u001b[0m\u001b[0mcast_inputs\u001b[0m\u001b[0;34m,\u001b[0m \u001b[0;34m*\u001b[0m\u001b[0margs\u001b[0m\u001b[0;34m,\u001b[0m \u001b[0;34m**\u001b[0m\u001b[0mkwargs\u001b[0m\u001b[0;34m)\u001b[0m\u001b[0;34m\u001b[0m\u001b[0;34m\u001b[0m\u001b[0m\n\u001b[0m\u001b[1;32m    779\u001b[0m \u001b[0;34m\u001b[0m\u001b[0m\n",
      "\u001b[0;32m~/anaconda3/envs/final/lib/python3.7/site-packages/tensorflow_core/python/keras/layers/convolutional_recurrent.py\u001b[0m in \u001b[0;36mcall\u001b[0;34m(self, inputs, mask, training, initial_state)\u001b[0m\n\u001b[1;32m    937\u001b[0m                                         \u001b[0mtraining\u001b[0m\u001b[0;34m=\u001b[0m\u001b[0mtraining\u001b[0m\u001b[0;34m,\u001b[0m\u001b[0;34m\u001b[0m\u001b[0;34m\u001b[0m\u001b[0m\n\u001b[0;32m--> 938\u001b[0;31m                                         initial_state=initial_state)\n\u001b[0m\u001b[1;32m    939\u001b[0m \u001b[0;34m\u001b[0m\u001b[0m\n",
      "\u001b[0;32m~/anaconda3/envs/final/lib/python3.7/site-packages/tensorflow_core/python/keras/layers/convolutional_recurrent.py\u001b[0m in \u001b[0;36mcall\u001b[0;34m(self, inputs, mask, training, initial_state, constants)\u001b[0m\n\u001b[1;32m    357\u001b[0m     \u001b[0;32melse\u001b[0m\u001b[0;34m:\u001b[0m\u001b[0;34m\u001b[0m\u001b[0;34m\u001b[0m\u001b[0m\n\u001b[0;32m--> 358\u001b[0;31m       \u001b[0minitial_state\u001b[0m \u001b[0;34m=\u001b[0m \u001b[0mself\u001b[0m\u001b[0;34m.\u001b[0m\u001b[0mget_initial_state\u001b[0m\u001b[0;34m(\u001b[0m\u001b[0minputs\u001b[0m\u001b[0;34m)\u001b[0m\u001b[0;34m\u001b[0m\u001b[0;34m\u001b[0m\u001b[0m\n\u001b[0m\u001b[1;32m    359\u001b[0m \u001b[0;34m\u001b[0m\u001b[0m\n",
      "\u001b[0;32m~/anaconda3/envs/final/lib/python3.7/site-packages/tensorflow_core/python/keras/layers/convolutional_recurrent.py\u001b[0m in \u001b[0;36mget_initial_state\u001b[0;34m(self, inputs)\u001b[0m\n\u001b[1;32m    286\u001b[0m                                          \u001b[0marray_ops\u001b[0m\u001b[0;34m.\u001b[0m\u001b[0mzeros\u001b[0m\u001b[0;34m(\u001b[0m\u001b[0mtuple\u001b[0m\u001b[0;34m(\u001b[0m\u001b[0mshape\u001b[0m\u001b[0;34m)\u001b[0m\u001b[0;34m)\u001b[0m\u001b[0;34m,\u001b[0m\u001b[0;34m\u001b[0m\u001b[0;34m\u001b[0m\u001b[0m\n\u001b[0;32m--> 287\u001b[0;31m                                          padding=self.cell.padding)\n\u001b[0m\u001b[1;32m    288\u001b[0m \u001b[0;34m\u001b[0m\u001b[0m\n",
      "\u001b[0;32m~/anaconda3/envs/final/lib/python3.7/site-packages/tensorflow_core/python/keras/layers/convolutional_recurrent.py\u001b[0m in \u001b[0;36minput_conv\u001b[0;34m(self, x, w, b, padding)\u001b[0m\n\u001b[1;32m    711\u001b[0m                         \u001b[0mdata_format\u001b[0m\u001b[0;34m=\u001b[0m\u001b[0mself\u001b[0m\u001b[0;34m.\u001b[0m\u001b[0mdata_format\u001b[0m\u001b[0;34m,\u001b[0m\u001b[0;34m\u001b[0m\u001b[0;34m\u001b[0m\u001b[0m\n\u001b[0;32m--> 712\u001b[0;31m                         dilation_rate=self.dilation_rate)\n\u001b[0m\u001b[1;32m    713\u001b[0m     \u001b[0;32mif\u001b[0m \u001b[0mb\u001b[0m \u001b[0;32mis\u001b[0m \u001b[0;32mnot\u001b[0m \u001b[0;32mNone\u001b[0m\u001b[0;34m:\u001b[0m\u001b[0;34m\u001b[0m\u001b[0;34m\u001b[0m\u001b[0m\n",
      "\u001b[0;32m~/anaconda3/envs/final/lib/python3.7/site-packages/tensorflow_core/python/keras/backend.py\u001b[0m in \u001b[0;36mconv2d\u001b[0;34m(x, kernel, strides, padding, data_format, dilation_rate)\u001b[0m\n\u001b[1;32m   4888\u001b[0m       \u001b[0mpadding\u001b[0m\u001b[0;34m=\u001b[0m\u001b[0mpadding\u001b[0m\u001b[0;34m,\u001b[0m\u001b[0;34m\u001b[0m\u001b[0;34m\u001b[0m\u001b[0m\n\u001b[0;32m-> 4889\u001b[0;31m       data_format=tf_data_format)\n\u001b[0m\u001b[1;32m   4890\u001b[0m   \u001b[0;32mif\u001b[0m \u001b[0mdata_format\u001b[0m \u001b[0;34m==\u001b[0m \u001b[0;34m'channels_first'\u001b[0m \u001b[0;32mand\u001b[0m \u001b[0mtf_data_format\u001b[0m \u001b[0;34m==\u001b[0m \u001b[0;34m'NHWC'\u001b[0m\u001b[0;34m:\u001b[0m\u001b[0;34m\u001b[0m\u001b[0;34m\u001b[0m\u001b[0m\n",
      "\u001b[0;32m~/anaconda3/envs/final/lib/python3.7/site-packages/tensorflow_core/python/ops/nn_ops.py\u001b[0m in \u001b[0;36mconvolution\u001b[0;34m(input, filter, padding, strides, dilation_rate, name, data_format, filters, dilations)\u001b[0m\n\u001b[1;32m    898\u001b[0m       \u001b[0mdilations\u001b[0m\u001b[0;34m=\u001b[0m\u001b[0mdilation_rate\u001b[0m\u001b[0;34m,\u001b[0m\u001b[0;34m\u001b[0m\u001b[0;34m\u001b[0m\u001b[0m\n\u001b[0;32m--> 899\u001b[0;31m       name=name)\n\u001b[0m\u001b[1;32m    900\u001b[0m \u001b[0;34m\u001b[0m\u001b[0m\n",
      "\u001b[0;32m~/anaconda3/envs/final/lib/python3.7/site-packages/tensorflow_core/python/ops/nn_ops.py\u001b[0m in \u001b[0;36mconvolution_internal\u001b[0;34m(input, filters, strides, padding, data_format, dilations, name, call_from_convolution)\u001b[0m\n\u001b[1;32m   1009\u001b[0m           \u001b[0mdilations\u001b[0m\u001b[0;34m=\u001b[0m\u001b[0mdilations\u001b[0m\u001b[0;34m,\u001b[0m\u001b[0;34m\u001b[0m\u001b[0;34m\u001b[0m\u001b[0m\n\u001b[0;32m-> 1010\u001b[0;31m           name=name)\n\u001b[0m\u001b[1;32m   1011\u001b[0m     \u001b[0;32melse\u001b[0m\u001b[0;34m:\u001b[0m\u001b[0;34m\u001b[0m\u001b[0;34m\u001b[0m\u001b[0m\n",
      "\u001b[0;32m~/anaconda3/envs/final/lib/python3.7/site-packages/tensorflow_core/python/ops/gen_nn_ops.py\u001b[0m in \u001b[0;36mconv2d\u001b[0;34m(input, filter, strides, padding, use_cudnn_on_gpu, explicit_paddings, data_format, dilations, name)\u001b[0m\n\u001b[1;32m    968\u001b[0m                   \u001b[0mexplicit_paddings\u001b[0m\u001b[0;34m=\u001b[0m\u001b[0mexplicit_paddings\u001b[0m\u001b[0;34m,\u001b[0m\u001b[0;34m\u001b[0m\u001b[0;34m\u001b[0m\u001b[0m\n\u001b[0;32m--> 969\u001b[0;31m                   data_format=data_format, dilations=dilations, name=name)\n\u001b[0m\u001b[1;32m    970\u001b[0m   \u001b[0m_result\u001b[0m \u001b[0;34m=\u001b[0m \u001b[0m_outputs\u001b[0m\u001b[0;34m[\u001b[0m\u001b[0;34m:\u001b[0m\u001b[0;34m]\u001b[0m\u001b[0;34m\u001b[0m\u001b[0;34m\u001b[0m\u001b[0m\n",
      "\u001b[0;32m~/anaconda3/envs/final/lib/python3.7/site-packages/tensorflow_core/python/framework/op_def_library.py\u001b[0m in \u001b[0;36m_apply_op_helper\u001b[0;34m(op_type_name, name, **keywords)\u001b[0m\n\u001b[1;32m    503\u001b[0m                 (prefix, dtypes.as_dtype(attrs[input_arg.type_attr]).name,\n\u001b[0;32m--> 504\u001b[0;31m                  inferred_from[input_arg.type_attr]))\n\u001b[0m\u001b[1;32m    505\u001b[0m \u001b[0;34m\u001b[0m\u001b[0m\n",
      "\u001b[0;31mTypeError\u001b[0m: Input 'filter' of 'Conv2D' Op has type float32 that does not match type float64 of argument 'input'.",
      "\nDuring handling of the above exception, another exception occurred:\n",
      "\u001b[0;31mValueError\u001b[0m                                Traceback (most recent call last)",
      "\u001b[0;32m<ipython-input-19-16b6d770233d>\u001b[0m in \u001b[0;36m<module>\u001b[0;34m\u001b[0m\n\u001b[1;32m      1\u001b[0m \u001b[0;31m#from tensorflow import keras\u001b[0m\u001b[0;34m\u001b[0m\u001b[0;34m\u001b[0m\u001b[0;34m\u001b[0m\u001b[0m\n\u001b[0;32m----> 2\u001b[0;31m \u001b[0mmodel\u001b[0m \u001b[0;34m=\u001b[0m \u001b[0mkeras\u001b[0m\u001b[0;34m.\u001b[0m\u001b[0mmodels\u001b[0m\u001b[0;34m.\u001b[0m\u001b[0mload_model\u001b[0m\u001b[0;34m(\u001b[0m\u001b[0;34m'/home/hanna/RESULTS/Model2/Model2.h5'\u001b[0m\u001b[0;34m)\u001b[0m\u001b[0;34m\u001b[0m\u001b[0;34m\u001b[0m\u001b[0m\n\u001b[0m",
      "\u001b[0;32m~/anaconda3/envs/final/lib/python3.7/site-packages/tensorflow_core/python/keras/saving/save.py\u001b[0m in \u001b[0;36mload_model\u001b[0;34m(filepath, custom_objects, compile)\u001b[0m\n\u001b[1;32m    144\u001b[0m   if (h5py is not None and (\n\u001b[1;32m    145\u001b[0m       isinstance(filepath, h5py.File) or h5py.is_hdf5(filepath))):\n\u001b[0;32m--> 146\u001b[0;31m     \u001b[0;32mreturn\u001b[0m \u001b[0mhdf5_format\u001b[0m\u001b[0;34m.\u001b[0m\u001b[0mload_model_from_hdf5\u001b[0m\u001b[0;34m(\u001b[0m\u001b[0mfilepath\u001b[0m\u001b[0;34m,\u001b[0m \u001b[0mcustom_objects\u001b[0m\u001b[0;34m,\u001b[0m \u001b[0mcompile\u001b[0m\u001b[0;34m)\u001b[0m\u001b[0;34m\u001b[0m\u001b[0;34m\u001b[0m\u001b[0m\n\u001b[0m\u001b[1;32m    147\u001b[0m \u001b[0;34m\u001b[0m\u001b[0m\n\u001b[1;32m    148\u001b[0m   \u001b[0;32mif\u001b[0m \u001b[0misinstance\u001b[0m\u001b[0;34m(\u001b[0m\u001b[0mfilepath\u001b[0m\u001b[0;34m,\u001b[0m \u001b[0msix\u001b[0m\u001b[0;34m.\u001b[0m\u001b[0mstring_types\u001b[0m\u001b[0;34m)\u001b[0m\u001b[0;34m:\u001b[0m\u001b[0;34m\u001b[0m\u001b[0;34m\u001b[0m\u001b[0m\n",
      "\u001b[0;32m~/anaconda3/envs/final/lib/python3.7/site-packages/tensorflow_core/python/keras/saving/hdf5_format.py\u001b[0m in \u001b[0;36mload_model_from_hdf5\u001b[0;34m(filepath, custom_objects, compile)\u001b[0m\n\u001b[1;32m    166\u001b[0m     \u001b[0mmodel_config\u001b[0m \u001b[0;34m=\u001b[0m \u001b[0mjson\u001b[0m\u001b[0;34m.\u001b[0m\u001b[0mloads\u001b[0m\u001b[0;34m(\u001b[0m\u001b[0mmodel_config\u001b[0m\u001b[0;34m.\u001b[0m\u001b[0mdecode\u001b[0m\u001b[0;34m(\u001b[0m\u001b[0;34m'utf-8'\u001b[0m\u001b[0;34m)\u001b[0m\u001b[0;34m)\u001b[0m\u001b[0;34m\u001b[0m\u001b[0;34m\u001b[0m\u001b[0m\n\u001b[1;32m    167\u001b[0m     model = model_config_lib.model_from_config(model_config,\n\u001b[0;32m--> 168\u001b[0;31m                                                custom_objects=custom_objects)\n\u001b[0m\u001b[1;32m    169\u001b[0m \u001b[0;34m\u001b[0m\u001b[0m\n\u001b[1;32m    170\u001b[0m     \u001b[0;31m# set weights\u001b[0m\u001b[0;34m\u001b[0m\u001b[0;34m\u001b[0m\u001b[0;34m\u001b[0m\u001b[0m\n",
      "\u001b[0;32m~/anaconda3/envs/final/lib/python3.7/site-packages/tensorflow_core/python/keras/saving/model_config.py\u001b[0m in \u001b[0;36mmodel_from_config\u001b[0;34m(config, custom_objects)\u001b[0m\n\u001b[1;32m     53\u001b[0m                     '`Sequential.from_config(config)`?')\n\u001b[1;32m     54\u001b[0m   \u001b[0;32mfrom\u001b[0m \u001b[0mtensorflow\u001b[0m\u001b[0;34m.\u001b[0m\u001b[0mpython\u001b[0m\u001b[0;34m.\u001b[0m\u001b[0mkeras\u001b[0m\u001b[0;34m.\u001b[0m\u001b[0mlayers\u001b[0m \u001b[0;32mimport\u001b[0m \u001b[0mdeserialize\u001b[0m  \u001b[0;31m# pylint: disable=g-import-not-at-top\u001b[0m\u001b[0;34m\u001b[0m\u001b[0;34m\u001b[0m\u001b[0m\n\u001b[0;32m---> 55\u001b[0;31m   \u001b[0;32mreturn\u001b[0m \u001b[0mdeserialize\u001b[0m\u001b[0;34m(\u001b[0m\u001b[0mconfig\u001b[0m\u001b[0;34m,\u001b[0m \u001b[0mcustom_objects\u001b[0m\u001b[0;34m=\u001b[0m\u001b[0mcustom_objects\u001b[0m\u001b[0;34m)\u001b[0m\u001b[0;34m\u001b[0m\u001b[0;34m\u001b[0m\u001b[0m\n\u001b[0m\u001b[1;32m     56\u001b[0m \u001b[0;34m\u001b[0m\u001b[0m\n\u001b[1;32m     57\u001b[0m \u001b[0;34m\u001b[0m\u001b[0m\n",
      "\u001b[0;32m~/anaconda3/envs/final/lib/python3.7/site-packages/tensorflow_core/python/keras/layers/serialization.py\u001b[0m in \u001b[0;36mdeserialize\u001b[0;34m(config, custom_objects)\u001b[0m\n\u001b[1;32m    104\u001b[0m       \u001b[0mmodule_objects\u001b[0m\u001b[0;34m=\u001b[0m\u001b[0mglobs\u001b[0m\u001b[0;34m,\u001b[0m\u001b[0;34m\u001b[0m\u001b[0;34m\u001b[0m\u001b[0m\n\u001b[1;32m    105\u001b[0m       \u001b[0mcustom_objects\u001b[0m\u001b[0;34m=\u001b[0m\u001b[0mcustom_objects\u001b[0m\u001b[0;34m,\u001b[0m\u001b[0;34m\u001b[0m\u001b[0;34m\u001b[0m\u001b[0m\n\u001b[0;32m--> 106\u001b[0;31m       printable_module_name='layer')\n\u001b[0m",
      "\u001b[0;32m~/anaconda3/envs/final/lib/python3.7/site-packages/tensorflow_core/python/keras/utils/generic_utils.py\u001b[0m in \u001b[0;36mdeserialize_keras_object\u001b[0;34m(identifier, module_objects, custom_objects, printable_module_name)\u001b[0m\n\u001b[1;32m    301\u001b[0m             custom_objects=dict(\n\u001b[1;32m    302\u001b[0m                 \u001b[0mlist\u001b[0m\u001b[0;34m(\u001b[0m\u001b[0m_GLOBAL_CUSTOM_OBJECTS\u001b[0m\u001b[0;34m.\u001b[0m\u001b[0mitems\u001b[0m\u001b[0;34m(\u001b[0m\u001b[0;34m)\u001b[0m\u001b[0;34m)\u001b[0m \u001b[0;34m+\u001b[0m\u001b[0;34m\u001b[0m\u001b[0;34m\u001b[0m\u001b[0m\n\u001b[0;32m--> 303\u001b[0;31m                 list(custom_objects.items())))\n\u001b[0m\u001b[1;32m    304\u001b[0m       \u001b[0;32mwith\u001b[0m \u001b[0mCustomObjectScope\u001b[0m\u001b[0;34m(\u001b[0m\u001b[0mcustom_objects\u001b[0m\u001b[0;34m)\u001b[0m\u001b[0;34m:\u001b[0m\u001b[0;34m\u001b[0m\u001b[0;34m\u001b[0m\u001b[0m\n\u001b[1;32m    305\u001b[0m         \u001b[0;32mreturn\u001b[0m \u001b[0mcls\u001b[0m\u001b[0;34m.\u001b[0m\u001b[0mfrom_config\u001b[0m\u001b[0;34m(\u001b[0m\u001b[0mcls_config\u001b[0m\u001b[0;34m)\u001b[0m\u001b[0;34m\u001b[0m\u001b[0;34m\u001b[0m\u001b[0m\n",
      "\u001b[0;32m~/anaconda3/envs/final/lib/python3.7/site-packages/tensorflow_core/python/keras/engine/sequential.py\u001b[0m in \u001b[0;36mfrom_config\u001b[0;34m(cls, config, custom_objects)\u001b[0m\n\u001b[1;32m    378\u001b[0m       \u001b[0mmodel\u001b[0m\u001b[0;34m.\u001b[0m\u001b[0madd\u001b[0m\u001b[0;34m(\u001b[0m\u001b[0mlayer\u001b[0m\u001b[0;34m)\u001b[0m\u001b[0;34m\u001b[0m\u001b[0;34m\u001b[0m\u001b[0m\n\u001b[1;32m    379\u001b[0m     \u001b[0;32mif\u001b[0m \u001b[0;32mnot\u001b[0m \u001b[0mmodel\u001b[0m\u001b[0;34m.\u001b[0m\u001b[0minputs\u001b[0m \u001b[0;32mand\u001b[0m \u001b[0mbuild_input_shape\u001b[0m\u001b[0;34m:\u001b[0m\u001b[0;34m\u001b[0m\u001b[0;34m\u001b[0m\u001b[0m\n\u001b[0;32m--> 380\u001b[0;31m       \u001b[0mmodel\u001b[0m\u001b[0;34m.\u001b[0m\u001b[0mbuild\u001b[0m\u001b[0;34m(\u001b[0m\u001b[0mbuild_input_shape\u001b[0m\u001b[0;34m)\u001b[0m\u001b[0;34m\u001b[0m\u001b[0;34m\u001b[0m\u001b[0m\n\u001b[0m\u001b[1;32m    381\u001b[0m     \u001b[0;32mreturn\u001b[0m \u001b[0mmodel\u001b[0m\u001b[0;34m\u001b[0m\u001b[0;34m\u001b[0m\u001b[0m\n\u001b[1;32m    382\u001b[0m \u001b[0;34m\u001b[0m\u001b[0m\n",
      "\u001b[0;32m~/anaconda3/envs/final/lib/python3.7/site-packages/tensorflow_core/python/keras/engine/sequential.py\u001b[0m in \u001b[0;36mbuild\u001b[0;34m(self, input_shape)\u001b[0m\n\u001b[1;32m    258\u001b[0m       \u001b[0minput_shape\u001b[0m \u001b[0;34m=\u001b[0m \u001b[0mtuple\u001b[0m\u001b[0;34m(\u001b[0m\u001b[0minput_shape\u001b[0m\u001b[0;34m)\u001b[0m\u001b[0;34m\u001b[0m\u001b[0;34m\u001b[0m\u001b[0m\n\u001b[1;32m    259\u001b[0m       \u001b[0mself\u001b[0m\u001b[0;34m.\u001b[0m\u001b[0m_build_input_shape\u001b[0m \u001b[0;34m=\u001b[0m \u001b[0minput_shape\u001b[0m\u001b[0;34m\u001b[0m\u001b[0;34m\u001b[0m\u001b[0m\n\u001b[0;32m--> 260\u001b[0;31m       \u001b[0msuper\u001b[0m\u001b[0;34m(\u001b[0m\u001b[0mSequential\u001b[0m\u001b[0;34m,\u001b[0m \u001b[0mself\u001b[0m\u001b[0;34m)\u001b[0m\u001b[0;34m.\u001b[0m\u001b[0mbuild\u001b[0m\u001b[0;34m(\u001b[0m\u001b[0minput_shape\u001b[0m\u001b[0;34m)\u001b[0m\u001b[0;34m\u001b[0m\u001b[0;34m\u001b[0m\u001b[0m\n\u001b[0m\u001b[1;32m    261\u001b[0m     \u001b[0mself\u001b[0m\u001b[0;34m.\u001b[0m\u001b[0mbuilt\u001b[0m \u001b[0;34m=\u001b[0m \u001b[0;32mTrue\u001b[0m\u001b[0;34m\u001b[0m\u001b[0;34m\u001b[0m\u001b[0m\n\u001b[1;32m    262\u001b[0m \u001b[0;34m\u001b[0m\u001b[0m\n",
      "\u001b[0;32m~/anaconda3/envs/final/lib/python3.7/site-packages/tensorflow_core/python/keras/engine/network.py\u001b[0m in \u001b[0;36mbuild\u001b[0;34m(self, input_shape)\u001b[0m\n\u001b[1;32m    682\u001b[0m           \u001b[0mself\u001b[0m\u001b[0;34m.\u001b[0m\u001b[0mcall\u001b[0m\u001b[0;34m(\u001b[0m\u001b[0mx\u001b[0m\u001b[0;34m,\u001b[0m \u001b[0;34m**\u001b[0m\u001b[0mkwargs\u001b[0m\u001b[0;34m)\u001b[0m\u001b[0;34m\u001b[0m\u001b[0;34m\u001b[0m\u001b[0m\n\u001b[1;32m    683\u001b[0m         \u001b[0;32mexcept\u001b[0m \u001b[0;34m(\u001b[0m\u001b[0merrors\u001b[0m\u001b[0;34m.\u001b[0m\u001b[0mInvalidArgumentError\u001b[0m\u001b[0;34m,\u001b[0m \u001b[0mTypeError\u001b[0m\u001b[0;34m)\u001b[0m\u001b[0;34m:\u001b[0m\u001b[0;34m\u001b[0m\u001b[0;34m\u001b[0m\u001b[0m\n\u001b[0;32m--> 684\u001b[0;31m           raise ValueError('You cannot build your model by calling `build` '\n\u001b[0m\u001b[1;32m    685\u001b[0m                            \u001b[0;34m'if your layers do not support float type inputs. '\u001b[0m\u001b[0;34m\u001b[0m\u001b[0;34m\u001b[0m\u001b[0m\n\u001b[1;32m    686\u001b[0m                            \u001b[0;34m'Instead, in order to instantiate and build your '\u001b[0m\u001b[0;34m\u001b[0m\u001b[0;34m\u001b[0m\u001b[0m\n",
      "\u001b[0;31mValueError\u001b[0m: You cannot build your model by calling `build` if your layers do not support float type inputs. Instead, in order to instantiate and build your model, `call` your model on real tensor data (of the correct dtype)."
     ]
    }
   ],
   "source": [
    "#from tensorflow import keras\n",
    "model = keras.models.load_model('/home/hanna/RESULTS/Model2/Model2.h5')"
   ]
  },
  {
   "cell_type": "code",
   "execution_count": 18,
   "metadata": {},
   "outputs": [
    {
     "ename": "AttributeError",
     "evalue": "type object 'ConvLSTM' has no attribute 'load_model'",
     "output_type": "error",
     "traceback": [
      "\u001b[0;31m---------------------------------------------------------------------------\u001b[0m",
      "\u001b[0;31mAttributeError\u001b[0m                            Traceback (most recent call last)",
      "\u001b[0;32m<ipython-input-18-66b3312aa8ce>\u001b[0m in \u001b[0;36m<module>\u001b[0;34m\u001b[0m\n\u001b[0;32m----> 1\u001b[0;31m \u001b[0mConvLSTM\u001b[0m\u001b[0;34m.\u001b[0m\u001b[0mload_model\u001b[0m\u001b[0;34m(\u001b[0m\u001b[0;34m'/home/hanna/RESULTS/Model2/Model2.h5'\u001b[0m\u001b[0;34m)\u001b[0m\u001b[0;34m\u001b[0m\u001b[0;34m\u001b[0m\u001b[0m\n\u001b[0m",
      "\u001b[0;31mAttributeError\u001b[0m: type object 'ConvLSTM' has no attribute 'load_model'"
     ]
    }
   ],
   "source": [
    "ConvLSTM.load_model('/home/hanna/RESULTS/Model2/Model2.h5')"
   ]
  },
  {
   "cell_type": "code",
   "execution_count": null,
   "metadata": {},
   "outputs": [],
   "source": [
    "json_config = model.to_json()\n",
    "new_model = keras.models.model_from_json(json_config)\n"
   ]
  },
  {
   "cell_type": "code",
   "execution_count": null,
   "metadata": {},
   "outputs": [],
   "source": [
    "config = model.get_config()\n",
    "new_model = keras.Sequential.from_config(config)\n"
   ]
  }
 ],
 "metadata": {
  "kernelspec": {
   "display_name": "Python 3",
   "language": "python",
   "name": "python3"
  },
  "language_info": {
   "codemirror_mode": {
    "name": "ipython",
    "version": 3
   },
   "file_extension": ".py",
   "mimetype": "text/x-python",
   "name": "python",
   "nbconvert_exporter": "python",
   "pygments_lexer": "ipython3",
   "version": "3.7.6"
  }
 },
 "nbformat": 4,
 "nbformat_minor": 4
}
