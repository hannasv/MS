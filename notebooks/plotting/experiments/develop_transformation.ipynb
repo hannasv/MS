{
 "cells": [
  {
   "cell_type": "code",
   "execution_count": 3,
   "metadata": {},
   "outputs": [],
   "source": [
    "import os\n",
    "import glob\n",
    "\n",
    "import xarray as xr\n",
    "import numpy as np"
   ]
  },
  {
   "cell_type": "code",
   "execution_count": 4,
   "metadata": {},
   "outputs": [],
   "source": [
    "base = '/home/hanna/lagrings/results/stats/test/'"
   ]
  },
  {
   "cell_type": "code",
   "execution_count": 5,
   "metadata": {},
   "outputs": [
    {
     "ename": "NameError",
     "evalue": "name 'll' is not defined",
     "output_type": "error",
     "traceback": [
      "\u001b[0;31m---------------------------------------------------------------------------\u001b[0m",
      "\u001b[0;31mNameError\u001b[0m                                 Traceback (most recent call last)",
      "\u001b[0;32m<ipython-input-5-ee9c089de5a4>\u001b[0m in \u001b[0;36m<module>\u001b[0;34m\u001b[0m\n\u001b[0;32m----> 1\u001b[0;31m \u001b[0mglob\u001b[0m\u001b[0;34m.\u001b[0m\u001b[0mglob\u001b[0m\u001b[0;34m(\u001b[0m\u001b[0mll\u001b[0m \u001b[0;34m+\u001b[0m \u001b[0;34m'*pixel*all*.nc'\u001b[0m\u001b[0;34m)\u001b[0m\u001b[0;34m\u001b[0m\u001b[0;34m\u001b[0m\u001b[0m\n\u001b[0m",
      "\u001b[0;31mNameError\u001b[0m: name 'll' is not defined"
     ]
    }
   ],
   "source": [
    "glob.glob(ll + '*pixel*all*.nc')"
   ]
  },
  {
   "cell_type": "code",
   "execution_count": 10,
   "metadata": {},
   "outputs": [],
   "source": [
    "lat = 30\n",
    "lon = 0"
   ]
  },
  {
   "cell_type": "code",
   "execution_count": 12,
   "metadata": {},
   "outputs": [
    {
     "data": {
      "text/plain": [
       "array(11.434159, dtype=float32)"
      ]
     },
     "execution_count": 12,
     "metadata": {},
     "output_type": "execute_result"
    }
   ],
   "source": [
    "xr.open_dataset(base + 'stats_pixel_{}_all.nc'.format('r'))['min'].sel(latitude = lat, longitude = lon).values"
   ]
  },
  {
   "cell_type": "code",
   "execution_count": 4,
   "metadata": {
    "jupyter": {
     "source_hidden": true
    }
   },
   "outputs": [],
   "source": [
    "def min_max_scaling():\n",
    "    \"\"\" Forces all values to be between 0 and 1. \n",
    "    \"\"\"\n",
    "    n_times, n_lat, n_lon, n_vars = dummy.shape\n",
    "    transformed = np.zeros(dummy.shape)\n",
    "    for j, var in enumerate(VARIABLES):\n",
    "\n",
    "        vmin = xr.open_dataset(base + 'stats_pixel_{}_all.nc'.format(var))['min'].values\n",
    "        vmax = xr.open_dataset(base + 'stats_pixel_{}_all.nc'.format(var))['max'].values\n",
    "        \n",
    "        if var == 'tcc':\n",
    "            # Something wierd with the rotation of cloud cover values\n",
    "            vmin = np.flipud(vmin)\n",
    "            vmax = np.flipud(vmax)\n",
    "\n",
    "        for i in range(n_times):\n",
    "            transformed[i, :, :, j] =  (dummy[i, :, :, j]  - vmin)/(vmax-vmin)\n",
    "    return transformed\n",
    "\n",
    "def normalization(order, dummy = np.random.random(( 744, 81, 161, 5))):\n",
    "    \"\"\" Normalizes the distribution. It is centered around the mean with std of 1.\n",
    "    \n",
    "    Subtract the mean divide by the standard deviation. \"\"\"\n",
    "    from sclouds.helpers import VARIABLES\n",
    "    n_times, n_lat, n_lon, n_vars = dummy.shape\n",
    "    VARIABLES = ['t2m', 'q', 'r', 'sp']\n",
    "    transformed = np.zeros((n_times, n_lat, n_lon, 4 + order ))\n",
    "    \n",
    "    for j, var in enumerate(VARIABLES):\n",
    "\n",
    "        m = xr.open_dataset(base + 'stats_pixel_{}_all.nc'.format(var))['mean'].values\n",
    "        s = xr.open_dataset(base + 'stats_pixel_{}_all.nc'.format(var))['std'].values\n",
    "\n",
    "        for i in range(n_times):\n",
    "            transformed[i, :, :, j] =  (raw_data[i, :, :, j]  - m)/s    \n",
    "    if order > 0:\n",
    "        var = 'tcc'    \n",
    "        for k in range(order):\n",
    "            m = xr.open_dataset(base + 'stats_pixel_{}_all.nc'.format(var))['mean'].values\n",
    "            s = xr.open_dataset(base + 'stats_pixel_{}_all.nc'.format(var))['std'].values\n",
    "            # Something wierd with the rotation of cloud cover values\n",
    "            m = np.flipud(m)\n",
    "            s = np.flipud(s)\n",
    "            for i in range(n_times):\n",
    "                transformed[i, :, :, k+j+1] =  (raw_data[i, :, :, k+j+1]  - m)/s  \n",
    "\n",
    "    return transformed"
   ]
  },
  {
   "cell_type": "markdown",
   "metadata": {},
   "source": [
    "## OBS OBS : the cloud cover might be upside down"
   ]
  },
  {
   "cell_type": "code",
   "execution_count": null,
   "metadata": {},
   "outputs": [],
   "source": [
    "def reverse_min_max_scaling():\n",
    "    \"\"\" Forces all values to be between 0 and 1. \n",
    "    \"\"\"\n",
    "    n_times, n_lat, n_lon, n_vars = dummy.shape\n",
    "    transformed = np.zeros(dummy.shape)\n",
    "    for j, var in enumerate(VARIABLES):\n",
    "\n",
    "        vmin = xr.open_dataset(base + 'stats_pixel_{}_all.nc'.format(var))['min'].values\n",
    "        vmax = xr.open_dataset(base + 'stats_pixel_{}_all.nc'.format(var))['max'].values\n",
    "        \n",
    "        if var == 'tcc':\n",
    "            # Something wierd with the rotation of cloud cover values\n",
    "            vmin = np.flipud(vmin)\n",
    "            vmax = np.flipud(vmax)\n",
    "\n",
    "        for i in range(n_times):\n",
    "            transformed[i, :, :, j] =  (dummy[i, :, :, j] + vmin)*(vmax-vmin)\n",
    "    return transformed\n",
    "\n",
    "def reverse_normalization(order, dummy = np.random.random(( 744, 81, 161, 5))):\n",
    "    \"\"\" Normalizes the distribution. It is centered around the mean with std of 1.\n",
    "    \n",
    "    Subtract the mean divide by the standard deviation. \"\"\"\n",
    "    from sclouds.helpers import VARIABLES\n",
    "    n_times, n_lat, n_lon, n_vars = dummy.shape\n",
    "    \n",
    "    transformed = np.zeros((n_times, n_lat, n_lon, 4 + order ))\n",
    "    \n",
    "    for j, var in enumerate(VARIABLES):\n",
    "\n",
    "        m = xr.open_dataset(base + 'stats_pixel_{}_all.nc'.format(var))['mean'].values\n",
    "        s = xr.open_dataset(base + 'stats_pixel_{}_all.nc'.format(var))['std'].values\n",
    "\n",
    "        for i in range(n_times):\n",
    "            transformed[i, :, :, j] =  (raw_data[i, :, :, j]  + m)*s    \n",
    "    if order > 0:\n",
    "        var = 'tcc'    \n",
    "        for k in range(order):\n",
    "            m = xr.open_dataset(base + 'stats_pixel_{}_all.nc'.format(var))['mean'].values\n",
    "            s = xr.open_dataset(base + 'stats_pixel_{}_all.nc'.format(var))['std'].values\n",
    "            # Something wierd with the rotation of cloud cover values\n",
    "            m = np.flipud(m)\n",
    "            s = np.flipud(s)\n",
    "            for i in range(n_times):\n",
    "                transformed[i, :, :, k+j+1] =  (raw_data[i, :, :, k+j+1]  + m)*s  \n",
    "\n",
    "    return transformed"
   ]
  },
  {
   "cell_type": "code",
   "execution_count": null,
   "metadata": {},
   "outputs": [],
   "source": []
  }
 ],
 "metadata": {
  "kernelspec": {
   "display_name": "Python 3",
   "language": "python",
   "name": "python3"
  },
  "language_info": {
   "codemirror_mode": {
    "name": "ipython",
    "version": 3
   },
   "file_extension": ".py",
   "mimetype": "text/x-python",
   "name": "python",
   "nbconvert_exporter": "python",
   "pygments_lexer": "ipython3",
   "version": "3.7.6"
  }
 },
 "nbformat": 4,
 "nbformat_minor": 4
}
