{
 "cells": [
  {
   "cell_type": "markdown",
   "metadata": {},
   "source": [
    "# Plot seasonal statistics"
   ]
  },
  {
   "cell_type": "code",
   "execution_count": null,
   "metadata": {},
   "outputs": [],
   "source": [
    "import os\n",
    "import glob\n",
    "\n",
    "import numpy as np\n",
    "import xarray as xr\n",
    "import seaborn as sns\n",
    "\n",
    "from sclouds.helpers import (path_input, path_stats_results, VARIABLES,\n",
    "                                UNITS, LONGNAME)\n",
    "\n",
    "from sclouds.plot.helpers import (TEXT_WIDTH_IN, TEXT_HEIGHT_IN,\n",
    "                                    path_python_figures, import_matplotlib,\n",
    "                                    cmap_contour_plot, levels_contourplot,\n",
    "                                    file_format)\n",
    "mat = import_matplotlib() # for mye\n",
    "import matplotlib.pyplot as plt\n",
    "#files = glob.glob('/home/hanna/lagrings/ERA5_monthly/*tcc.nc')\n",
    "#file = '/home/hanna/miphclac/2004_07/2004_07_tcc.nc'\n",
    "data = xr.open_dataset(files[0])"
   ]
  },
  {
   "cell_type": "code",
   "execution_count": null,
   "metadata": {},
   "outputs": [],
   "source": []
  },
  {
   "cell_type": "code",
   "execution_count": null,
   "metadata": {},
   "outputs": [],
   "source": [
    "n_rows = 6\n",
    "n_cols = 4\n",
    "var = 'tcc'\n",
    "fig, axes =  plt.subplots(nrows = n_rows, ncols = n_cols, sharex=True, sharey=False)\n",
    "fig.suptitle(LONGNAME[var], fontsize = 14)\n",
    "#plt.axis('off')\n",
    "fig.set_size_inches(w = TEXT_WIDTH_IN, h = TEXT_HEIGHT_IN)\n",
    "\n",
    "for i, ax in enumerate(axes.flatten()):\n",
    "    ax.tick_params(labelbottom=False, labeltop=False, labelleft=False, labelright=False , top=False, bottom=False, left=False, right=False)\n",
    "    test = data.isel(time = i)\n",
    "    # plot target\n",
    "    vals    = test[var].values\n",
    "    cntours = ax.contourf(vals, levels=levels_contourplot, cmap='Blues_r')\n",
    "\n",
    "    # Removes white lines\n",
    "    for c in cntours.collections:\n",
    "        c.set_edgecolor(\"face\")\n",
    "        \n",
    "plt.subplots_adjust(left=0.1, bottom=0.05, right=0.95, top=0.95,hspace=0.1, wspace=0.1)\n",
    "plt.savefig(path_python_figures + 'timelapse_cloud_cover_24hrs_from_{}.pdf'.format(str(test.time.values)[:10]))"
   ]
  },
  {
   "cell_type": "code",
   "execution_count": null,
   "metadata": {},
   "outputs": [],
   "source": []
  },
  {
   "cell_type": "code",
   "execution_count": null,
   "metadata": {},
   "outputs": [],
   "source": []
  },
  {
   "cell_type": "code",
   "execution_count": null,
   "metadata": {},
   "outputs": [],
   "source": []
  },
  {
   "cell_type": "code",
   "execution_count": null,
   "metadata": {},
   "outputs": [],
   "source": []
  }
 ],
 "metadata": {
  "kernelspec": {
   "display_name": "Python 3",
   "language": "python",
   "name": "python3"
  },
  "language_info": {
   "codemirror_mode": {
    "name": "ipython",
    "version": 3
   },
   "file_extension": ".py",
   "mimetype": "text/x-python",
   "name": "python",
   "nbconvert_exporter": "python",
   "pygments_lexer": "ipython3",
   "version": "3.7.6"
  }
 },
 "nbformat": 4,
 "nbformat_minor": 4
}
