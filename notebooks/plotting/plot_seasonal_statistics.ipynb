{
 "cells": [
  {
   "cell_type": "markdown",
   "metadata": {},
   "source": [
    "# Plot seasonal statistics"
   ]
  },
  {
   "cell_type": "code",
   "execution_count": 5,
   "metadata": {},
   "outputs": [
    {
     "name": "stdout",
     "output_type": "stream",
     "text": [
      "Warning.. Using pgf backend, no GUI available. use plt.savefig() for inpection\n",
      "Warning.. Using pgf backend, no GUI available. use plt.savefig() for inpection\n"
     ]
    }
   ],
   "source": [
    "import os\n",
    "import glob\n",
    "\n",
    "import numpy as np\n",
    "import xarray as xr\n",
    "import seaborn as sns\n",
    "\n",
    "from sclouds.helpers import (path_input, path_stats_results, VARIABLES,\n",
    "                                UNITS, LONGNAME, SEASONS)\n",
    "\n",
    "from sclouds.plot.helpers import (TEXT_WIDTH_IN, TEXT_HEIGHT_IN,\n",
    "                                    path_python_figures, import_matplotlib,\n",
    "                                    cmap_contour_plot, levels_contourplot,\n",
    "                                    file_format, color_maps)\n",
    "mat = import_matplotlib() # for mye\n",
    "import matplotlib.pyplot as plt"
   ]
  },
  {
   "cell_type": "code",
   "execution_count": 6,
   "metadata": {},
   "outputs": [],
   "source": [
    "path = '/home/hanna/lagrings/results/stats/test_season/'"
   ]
  },
  {
   "cell_type": "code",
   "execution_count": 7,
   "metadata": {},
   "outputs": [],
   "source": [
    "path = '/home/hanna/lagrings/results/stats/test_season/'\n",
    "files = glob.glob(path + '*pixel*DJF*.nc')"
   ]
  },
  {
   "cell_type": "code",
   "execution_count": 8,
   "metadata": {},
   "outputs": [
    {
     "data": {
      "text/plain": [
       "['/home/hanna/lagrings/results/stats/test_season/stats_pixel_DJF_r_all.nc',\n",
       " '/home/hanna/lagrings/results/stats/test_season/stats_pixel_DJF_q_all.nc',\n",
       " '/home/hanna/lagrings/results/stats/test_season/stats_pixel_DJF_t2m_all.nc',\n",
       " '/home/hanna/lagrings/results/stats/test_season/stats_pixel_DJF_sp_all.nc',\n",
       " '/home/hanna/lagrings/results/stats/test_season/stats_pixel_DJF_tcc_all.nc']"
      ]
     },
     "execution_count": 8,
     "metadata": {},
     "output_type": "execute_result"
    }
   ],
   "source": [
    "files"
   ]
  },
  {
   "cell_type": "code",
   "execution_count": 5,
   "metadata": {},
   "outputs": [],
   "source": [
    "#data = xr.open_mfdataset(files, combine = 'no_conflict')"
   ]
  },
  {
   "cell_type": "markdown",
   "metadata": {},
   "source": [
    "# Def read global stat to set min max"
   ]
  },
  {
   "cell_type": "code",
   "execution_count": 13,
   "metadata": {},
   "outputs": [],
   "source": []
  },
  {
   "cell_type": "code",
   "execution_count": 16,
   "metadata": {},
   "outputs": [
    {
     "data": {
      "text/plain": [
       "array(9.71387607e-08)"
      ]
     },
     "execution_count": 16,
     "metadata": {},
     "output_type": "execute_result"
    }
   ],
   "source": [
    "var = 'tcc'\n",
    "path = '/home/hanna/lagrings/results/stats/'\n",
    "files = glob.glob(path + '*global*{}*all.nc'.format(var))\n",
    "\n",
    "vmin = xr.open_dataset(files[0])['min'].values\n",
    "vmax = xr.open_dataset(files[0])['max'].values"
   ]
  },
  {
   "cell_type": "markdown",
   "metadata": {},
   "source": [
    "# Plot seasonal statistics"
   ]
  },
  {
   "cell_type": "code",
   "execution_count": 18,
   "metadata": {},
   "outputs": [],
   "source": [
    "n_rows = 5\n",
    "n_cols = 4\n",
    "\n",
    "\n",
    "fig, axes =  plt.subplots(nrows = n_rows, ncols = n_cols, sharex=True, sharey=True)\n",
    "#fig.suptitle(LONGNAME[var], fontsize = 14)\n",
    "#plt.axis('off')\n",
    "fig.set_size_inches(w = TEXT_WIDTH_IN, h = TEXT_HEIGHT_IN - 1 - 2)\n",
    "\n",
    "stat = 'mean'\n",
    "\n",
    "axs = axes.flatten()\n",
    "counter = 0\n",
    "for var in VARIABLES:\n",
    "    \n",
    "    path = '/home/hanna/lagrings/results/stats/'\n",
    "    files = glob.glob(path + '*global*{}*all.nc'.format(var))\n",
    "\n",
    "    vmin = xr.open_dataset(files[0])['min'].values\n",
    "    vmax = xr.open_dataset(files[0])['max'].values\n",
    "    \n",
    "    \n",
    "    for season in SEASONS:\n",
    "        axs[counter].tick_params(labelbottom=False, labeltop=False, labelleft=False, labelright=False , \n",
    "                                 top=False, bottom=False, left=False, right=False)\n",
    "        files = glob.glob('/home/hanna/lagrings/results/stats/test_season/stats_pixel*{}*{}*all.nc'.format(season, var))\n",
    "\n",
    "        try:\n",
    "            data = xr.open_dataset(files[0])\n",
    "            vals = data[stat].values\n",
    "            cntours = axs[counter].contourf(vals, vmin=vmin, vmax=vmax,levels=levels_contourplot, cmap=color_maps[var])\n",
    "\n",
    "            # Removes white lines\n",
    "            for c in cntours.collections:\n",
    "                c.set_edgecolor(\"face\")\n",
    "            \n",
    "        except IndexError:\n",
    "            print('problem {} {}'.format(season, var))\n",
    "\n",
    "          \n",
    "        if counter < 4:\n",
    "             axs[counter].set_title('{}'.format(season))\n",
    "        \n",
    "        if counter%4==0:\n",
    "            axs[counter].set_ylabel('{} [{}]'.format(var, UNITS[var]))\n",
    "              \n",
    "        counter += 1\n",
    "        \n",
    "        if counter%4==0:\n",
    "            fig.colorbar(cntours, ax=axs[counter-1], label = '{} [{}]'.format(var, UNITS[var]))\n",
    "        \n",
    "plt.subplots_adjust(left=0.1, bottom=0.05, right=0.9, top=0.95,hspace=0.1, wspace=0.1)\n",
    "plt.savefig(path_python_figures + 'seasonal_{}_all_variables.png'.format(stat))"
   ]
  },
  {
   "cell_type": "code",
   "execution_count": null,
   "metadata": {},
   "outputs": [],
   "source": []
  },
  {
   "cell_type": "code",
   "execution_count": null,
   "metadata": {},
   "outputs": [],
   "source": []
  },
  {
   "cell_type": "code",
   "execution_count": null,
   "metadata": {},
   "outputs": [],
   "source": []
  },
  {
   "cell_type": "code",
   "execution_count": null,
   "metadata": {},
   "outputs": [],
   "source": []
  },
  {
   "cell_type": "code",
   "execution_count": null,
   "metadata": {},
   "outputs": [],
   "source": []
  }
 ],
 "metadata": {
  "kernelspec": {
   "display_name": "Python 3",
   "language": "python",
   "name": "python3"
  },
  "language_info": {
   "codemirror_mode": {
    "name": "ipython",
    "version": 3
   },
   "file_extension": ".py",
   "mimetype": "text/x-python",
   "name": "python",
   "nbconvert_exporter": "python",
   "pygments_lexer": "ipython3",
   "version": "3.7.6"
  }
 },
 "nbformat": 4,
 "nbformat_minor": 4
}
