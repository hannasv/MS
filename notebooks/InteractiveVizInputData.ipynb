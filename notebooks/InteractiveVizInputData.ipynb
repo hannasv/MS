{
 "cells": [
  {
   "cell_type": "markdown",
   "metadata": {},
   "source": [
    "# Visualization Input Data \n",
    "### OBS :: Its not interactive since you can zoom. But its a static plots you can use widgets on. "
   ]
  },
  {
   "cell_type": "code",
   "execution_count": null,
   "metadata": {},
   "outputs": [],
   "source": [
    "import glob\n",
    "#from sclouds import helpers\n",
    "import xarray as xr"
   ]
  },
  {
   "cell_type": "code",
   "execution_count": null,
   "metadata": {},
   "outputs": [],
   "source": [
    "path = '/home/hanna/Desktop/master_thesis/era/'"
   ]
  },
  {
   "cell_type": "code",
   "execution_count": null,
   "metadata": {},
   "outputs": [],
   "source": [
    "files = glob.glob(path + \"*.nc\")"
   ]
  },
  {
   "cell_type": "code",
   "execution_count": null,
   "metadata": {},
   "outputs": [],
   "source": [
    "mapping =  {\"r\":'relative_humidity_Europe.nc',\n",
    "            \"q\":'specific_humidity_Europe.nc',\n",
    "            \"tcc\":'total_cloud_cover_Europa.nc',\n",
    "            \"sp\":'surface_pressure_Europa.nc',\n",
    "            \"t2m\":'temperature_2m_Europa.nc'}"
   ]
  },
  {
   "cell_type": "code",
   "execution_count": null,
   "metadata": {},
   "outputs": [],
   "source": [
    "xr.open_dataset(files[0])"
   ]
  },
  {
   "cell_type": "code",
   "execution_count": null,
   "metadata": {},
   "outputs": [],
   "source": [
    "def get_season(data, season):\n",
    "    \"\"\" OBS: only usefull after merge ts.\n",
    "    Returns the xarray dataset containing only one season.\n",
    "    \"\"\"\n",
    "    data = data.groupby('time.season')\n",
    "    for group in data:\n",
    "        key, dataset = group\n",
    "        if key == season:\n",
    "            return dataset"
   ]
  },
  {
   "cell_type": "markdown",
   "metadata": {},
   "source": [
    "# Timeslider skal være av forskjellig lengde for sesong"
   ]
  },
  {
   "cell_type": "code",
   "execution_count": null,
   "metadata": {},
   "outputs": [],
   "source": [
    "import ipywidgets as widgets\n",
    "import matplotlib.pyplot as plt\n",
    "import cartopy.crs as ccrs\n",
    "import xarray as xr\n",
    "\n",
    "# Timeslider \n",
    "timeslider = widgets.IntSlider(\n",
    "    value =7,\n",
    "    min = 0, \n",
    "    max = 10,\n",
    "    step = 1,\n",
    "    description = 'Timeslider:',\n",
    "    disabled = False,\n",
    "    continuous_update = False,\n",
    "    orientation = 'horizontal',\n",
    "    readout = True,\n",
    "    readout_format = 'd'\n",
    ")\n",
    "\n",
    "# Widget for variables\n",
    "select_variable = widgets.Dropdown(\n",
    "    options=['r', 'q', 'tcc', 'sp', 't2m'],\n",
    "    value='t2m', \n",
    "    description='Variable:',\n",
    "    disabled=False,\n",
    ")\n",
    "\n",
    "# Widget for season\n",
    "select_season = widgets.Dropdown(\n",
    "    options=['DJF', 'MAM', 'JJA', 'SON', 'all'],\n",
    "    value='all', \n",
    "    description='Season:',\n",
    "    disabled=False,\n",
    ")\n",
    "\n",
    "# Widget for season\n",
    "select_p_lev = widgets.Dropdown(\n",
    "    #  [300, 400, 500, 700, 850, 1000]\n",
    "    # [0,1,2,3,4,5]\n",
    "    options=['1000hPa', '850hPa', '700hPa', '500hPa', '400hPa','300hPa'],\n",
    "    value='1000hPa', # Think this is init\n",
    "    description='Pressure lev:',\n",
    "    disabled=False,\n",
    ")\n",
    "\n",
    "def generate_plot(var, ts, season, p_lev):\n",
    "    \"\"\" Creating a static plot. \"\"\"\n",
    "    pp = {'1000hPa':0, '850hPa':1, '700hPa':2, '500hPa':3, '400hPa':4,'300hPa':5}\n",
    "    \n",
    "    # The change is the new variable\n",
    "    filename = path + mapping[var]\n",
    "    fig = plt.figure(figsize=[15,10])\n",
    "    ax = fig.add_subplot(111, projection = ccrs.Orthographic(central_longitude=20, central_latitude=40))\n",
    "\n",
    "    # TODO the \n",
    "    dset = xr.open_dataset(filename)\n",
    "   \n",
    "    if season != \"all\":\n",
    "        dset = get_season(dset, season)\n",
    "        \n",
    "    if var == \"r\" or var == \"q\":\n",
    "        # Humidities are multilevel parameters.\n",
    "        dset[var][ts][pp[p_lev]][:][:].plot(ax=ax,cmap='jet', transform=ccrs.PlateCarree())\n",
    "    else:\n",
    "        # Surface variables is single level parameters.\n",
    "        dset[var][ts][:][:].plot(ax=ax,cmap='jet', transform=ccrs.PlateCarree())\n",
    "    ax.coastlines()\n",
    "    return fig"
   ]
  },
  {
   "cell_type": "code",
   "execution_count": null,
   "metadata": {},
   "outputs": [],
   "source": [
    "interact_plot = widgets.interact(generate_plot, \n",
    "                                 ts = timeslider, \n",
    "                                 season = select_season, \n",
    "                                 var = select_variable, \n",
    "                                 p_lev = select_p_lev);"
   ]
  },
  {
   "cell_type": "code",
   "execution_count": null,
   "metadata": {},
   "outputs": [],
   "source": []
  },
  {
   "cell_type": "code",
   "execution_count": null,
   "metadata": {},
   "outputs": [],
   "source": []
  },
  {
   "cell_type": "code",
   "execution_count": null,
   "metadata": {},
   "outputs": [],
   "source": []
  }
 ],
 "metadata": {
  "kernelspec": {
   "display_name": "Python 2",
   "language": "python",
   "name": "python2"
  },
  "language_info": {
   "codemirror_mode": {
    "name": "ipython",
    "version": 2
   },
   "file_extension": ".py",
   "mimetype": "text/x-python",
   "name": "python",
   "nbconvert_exporter": "python",
   "pygments_lexer": "ipython2",
   "version": "2.7.15"
  }
 },
 "nbformat": 4,
 "nbformat_minor": 2
}
