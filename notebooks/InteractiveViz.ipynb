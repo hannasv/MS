{
 "cells": [
  {
   "cell_type": "markdown",
   "metadata": {},
   "source": [
    "# Interactive Plotting "
   ]
  },
  {
   "cell_type": "markdown",
   "metadata": {},
   "source": [
    "###  Example from Anne:"
   ]
  },
  {
   "cell_type": "code",
   "execution_count": null,
   "metadata": {
    "collapsed": true
   },
   "outputs": [],
   "source": [
    "# Example downloading CMIP5 data.\n",
    "import cdsapi\n",
    "\n",
    "c = cdsapi.Client()\n",
    "\n",
    "c.retrieve(\n",
    "    'projections-cmip5-monthly-single-levels',\n",
    "    {\n",
    "        'variable':[\n",
    "            '2m_temperature','mean_precipitation_flux'\n",
    "        ],\n",
    "        'model':'noresm1_m',\n",
    "        'experiment':'historical',\n",
    "        'ensemble_member':'r1i1p1',\n",
    "        'period':'185001-200512',\n",
    "        'format':'tgz'\n",
    "    },\n",
    "    'cmip5_sfc_monthly_1850-200512.zip')\n",
    "\n",
    "# Uncompress\n",
    "import zipfile\n",
    "zip_ref = zipfile.ZipFile('cmip5_sfc_monthly_1850-200512.zip', 'r')\n",
    "# extract all the files in the directory /opt/uio/GyHoCd/data/\n",
    "zip_ref.extractall('/opt/uio/GyHoCd/data/cmip5/')\n",
    "zip_ref.close()"
   ]
  },
  {
   "cell_type": "code",
   "execution_count": null,
   "metadata": {
    "collapsed": true
   },
   "outputs": [],
   "source": [
    "path = \"\""
   ]
  },
  {
   "cell_type": "code",
   "execution_count": null,
   "metadata": {
    "collapsed": true
   },
   "outputs": [],
   "source": [
    "import xarray as xr\n",
    "\n",
    "# use open_mfdataset to open several netCDF files \n",
    "dset = xr.open_mfdataset(\"/opt/uio/GyHoCd/data/cmip5/*.nc\")\n",
    "print(dset)"
   ]
  },
  {
   "cell_type": "code",
   "execution_count": null,
   "metadata": {
    "collapsed": true
   },
   "outputs": [],
   "source": []
  },
  {
   "cell_type": "code",
   "execution_count": null,
   "metadata": {
    "collapsed": true
   },
   "outputs": [],
   "source": []
  },
  {
   "cell_type": "code",
   "execution_count": null,
   "metadata": {
    "collapsed": true
   },
   "outputs": [],
   "source": []
  },
  {
   "cell_type": "code",
   "execution_count": null,
   "metadata": {
    "collapsed": true
   },
   "outputs": [],
   "source": []
  },
  {
   "cell_type": "code",
   "execution_count": 1,
   "metadata": {
    "collapsed": true
   },
   "outputs": [],
   "source": [
    "path= '/home/hanna/Desktop/master_thesis/era/'"
   ]
  },
  {
   "cell_type": "code",
   "execution_count": 2,
   "metadata": {
    "collapsed": true
   },
   "outputs": [],
   "source": [
    "import glob"
   ]
  },
  {
   "cell_type": "code",
   "execution_count": 4,
   "metadata": {},
   "outputs": [],
   "source": [
    "files = glob.glob(path + \"*.nc\")"
   ]
  },
  {
   "cell_type": "code",
   "execution_count": 5,
   "metadata": {
    "collapsed": true
   },
   "outputs": [],
   "source": [
    "from sclouds import helpers"
   ]
  },
  {
   "cell_type": "code",
   "execution_count": 6,
   "metadata": {},
   "outputs": [
    {
     "data": {
      "text/plain": [
       "'/uio/lagringshotell/geofag/students/metos/hannasv/data_processed/'"
      ]
     },
     "execution_count": 6,
     "metadata": {},
     "output_type": "execute_result"
    }
   ],
   "source": [
    "helpers.DATA_REPO"
   ]
  },
  {
   "cell_type": "code",
   "execution_count": 7,
   "metadata": {
    "collapsed": true
   },
   "outputs": [],
   "source": [
    "mapping = {\"r\":'relative_humidity_Europe.nc',\n",
    "             \"q\":'specific_humidity_Europe.nc',\n",
    "             \"tcc\":'total_cloud_cover_Europa.nc',\n",
    "             \"sp\":'surface_pressure_Europa.nc',\n",
    "             \"t2m\":'temperature_2m_Europa.nc'}"
   ]
  },
  {
   "cell_type": "code",
   "execution_count": 8,
   "metadata": {
    "collapsed": true
   },
   "outputs": [],
   "source": [
    "def get_season(data, season):\n",
    "    \"\"\" OBS: only usefull after merge ts.\n",
    "    Returns the xarray dataset containing only one season.\n",
    "    \"\"\"\n",
    "    data = data.groupby('time.season')\n",
    "    for group in data:\n",
    "        key, dataset = group\n",
    "        if key == season:\n",
    "            return dataset"
   ]
  },
  {
   "cell_type": "code",
   "execution_count": 17,
   "metadata": {},
   "outputs": [
    {
     "data": {
      "application/vnd.jupyter.widget-view+json": {
       "model_id": "2b00fa02844c4219965f0aa41f233558",
       "version_major": 2,
       "version_minor": 0
      },
      "text/plain": [
       "interactive(children=(Dropdown(description='Variable:', index=4, options=('r', 'q', 'tcc', 'sp', 't2m'), value…"
      ]
     },
     "metadata": {},
     "output_type": "display_data"
    }
   ],
   "source": [
    "import ipywidgets as widgets\n",
    "import matplotlib.pyplot as plt\n",
    "import cartopy.crs as ccrs\n",
    "import xarray as xr\n",
    "# timeslider \n",
    "timeslider = widgets.IntSlider(\n",
    "    value=7,\n",
    "    min=0,\n",
    "    max=10,\n",
    "    step=1,\n",
    "    description='Timeslider:',\n",
    "    disabled=False,\n",
    "    continuous_update=False,\n",
    "    orientation='horizontal',\n",
    "    readout=True,\n",
    "    readout_format='d'\n",
    ")\n",
    "\n",
    "\n",
    "# widget for variables\n",
    "select_variable = widgets.Dropdown(\n",
    "    options=['r', 'q', 'tcc', 'sp', 't2m'],\n",
    "    value='t2m', # Think this is init\n",
    "    description='Variable:',\n",
    "    disabled=False,\n",
    ")\n",
    "\n",
    "# Widget for season\n",
    "select_season = widgets.Dropdown(\n",
    "    options=['DJF', 'MAM', 'JJA', 'SON', 'all'],\n",
    "    value='all', # Think this is init\n",
    "    description='Season:',\n",
    "    disabled=False,\n",
    ")\n",
    "\n",
    "\n",
    "def generate_plot(var, ts, season):\n",
    "    \"\"\"  \"\"\"\n",
    "    # the change is the new variable\n",
    "    filename = path + mapping[var]\n",
    "    fig = plt.figure(figsize=[15,10])\n",
    "    ax = fig.add_subplot(111, projection = ccrs.Orthographic(central_longitude=20, central_latitude=40))\n",
    "\n",
    "    # TODO the \n",
    "    dset = xr.open_dataset(filename)\n",
    "    if season != \"all\":\n",
    "        dset = get_season(dset, season)\n",
    "        \n",
    "    #print(dset)\n",
    "    if var == \"r\" or var == \"q\":\n",
    "        # Humidities are multilevel parameters.\n",
    "        dset[var][ts][0][:][:].plot(ax=ax,cmap='jet', transform=ccrs.PlateCarree())\n",
    "    else:\n",
    "        # Surface variables is single level parameters.\n",
    "        dset[var][ts][:][:].plot(ax=ax,cmap='jet', transform=ccrs.PlateCarree())\n",
    "    ax.coastlines()\n",
    "    return fig\n",
    "\n",
    "interact_plot = widgets.interact(generate_plot, \n",
    "                                 ts = timeslider, \n",
    "                                 season = select_season, \n",
    "                                 var = select_variable);"
   ]
  },
  {
   "cell_type": "code",
   "execution_count": null,
   "metadata": {
    "collapsed": true
   },
   "outputs": [],
   "source": []
  }
 ],
 "metadata": {
  "kernelspec": {
   "display_name": "Python 3",
   "language": "python",
   "name": "python3"
  },
  "language_info": {
   "codemirror_mode": {
    "name": "ipython",
    "version": 3
   },
   "file_extension": ".py",
   "mimetype": "text/x-python",
   "name": "python",
   "nbconvert_exporter": "python",
   "pygments_lexer": "ipython3",
   "version": "3.6.8"
  }
 },
 "nbformat": 4,
 "nbformat_minor": 2
}
