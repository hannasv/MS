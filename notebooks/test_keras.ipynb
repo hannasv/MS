{
 "cells": [
  {
   "cell_type": "code",
   "execution_count": 2,
   "metadata": {
    "collapsed": false
   },
   "outputs": [
    {
     "ename": "ImportError",
     "evalue": "No module named keras",
     "output_type": "error",
     "traceback": [
      "\u001b[0;31m---------------------------------------------------------------------------\u001b[0m",
      "\u001b[0;31mImportError\u001b[0m                               Traceback (most recent call last)",
      "\u001b[0;32m<ipython-input-2-c74e2bd4ca71>\u001b[0m in \u001b[0;36m<module>\u001b[0;34m()\u001b[0m\n\u001b[0;32m----> 1\u001b[0;31m \u001b[0;32mimport\u001b[0m \u001b[0mkeras\u001b[0m\u001b[0;34m\u001b[0m\u001b[0m\n\u001b[0m",
      "\u001b[0;31mImportError\u001b[0m: No module named keras"
     ]
    }
   ],
   "source": [
    "import keras"
   ]
  },
  {
   "cell_type": "code",
   "execution_count": null,
   "metadata": {
    "collapsed": true
   },
   "outputs": [],
   "source": [
    "model <- keras_model_sequential()\n",
    "\n",
    "model %>%\n",
    "  # Begin with 2D convolutional LSTM layer\n",
    "  layer_conv_lstm_2d(\n",
    "    input_shape = list(24,40,40,2),\n",
    "    filters = 256, kernel_size = c(3,3),\n",
    "    padding = \"same\",\n",
    "    return_sequences = TRUE,\n",
    "    data_format = \"channels_last\"\n",
    "  ) %>% \n",
    "  # Add 3x hidden 2D convolutions LSTM layers\n",
    "  layer_conv_lstm_2d(\n",
    "    filters = 128, kernel_size = c(3,3),\n",
    "    padding = \"same\", return_sequences = TRUE\n",
    "  ) %>%\n",
    "  layer_conv_lstm_2d(\n",
    "    filters = 128, kernel_size = c(3,3),\n",
    "    padding = \"same\", return_sequences = TRUE\n",
    "  ) %>%\n",
    "  layer_conv_lstm_2d(\n",
    "    filters = 1, kernel_size = c(3,3),\n",
    "    padding = \"same\", return_sequences = TRUE\n",
    "  )\n",
    "\n",
    "# Prepare model for training\n",
    "model %>% compile(\n",
    "  loss = \"mse\",\n",
    "  metrics = \"mae\",\n",
    "  optimizer = \"adam\"\n",
    ")\n",
    "\n",
    "history <- model %>% fit(\n",
    "  x_train,\n",
    "  y_train,\n",
    "  batch_size = 15,\n",
    "  epochs = 40,\n",
    "  validation_data = list(x_validation, y_validation)\n",
    ")\n",
    "\n",
    "plot(history)\n",
    "\n"
   ]
  },
  {
   "cell_type": "code",
   "execution_count": null,
   "metadata": {
    "collapsed": true
   },
   "outputs": [],
   "source": []
  },
  {
   "cell_type": "code",
   "execution_count": null,
   "metadata": {
    "collapsed": true
   },
   "outputs": [],
   "source": []
  }
 ],
 "metadata": {
  "anaconda-cloud": {},
  "kernelspec": {
   "display_name": "Python [default]",
   "language": "python",
   "name": "python2"
  },
  "language_info": {
   "codemirror_mode": {
    "name": "ipython",
    "version": 2
   },
   "file_extension": ".py",
   "mimetype": "text/x-python",
   "name": "python",
   "nbconvert_exporter": "python",
   "pygments_lexer": "ipython2",
   "version": "2.7.12"
  }
 },
 "nbformat": 4,
 "nbformat_minor": 2
}
