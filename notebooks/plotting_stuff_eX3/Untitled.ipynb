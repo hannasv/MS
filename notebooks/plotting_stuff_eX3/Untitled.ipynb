{
 "cells": [
  {
   "cell_type": "code",
   "execution_count": 2,
   "metadata": {},
   "outputs": [],
   "source": [
    "import json \n",
    "import numpy as np \n",
    "import matplotlib.pyplot as plt\n",
    "import os\n",
    "import glob"
   ]
  },
  {
   "cell_type": "code",
   "execution_count": 6,
   "metadata": {},
   "outputs": [
    {
     "data": {
      "text/plain": [
       "['/home/hanna/Montering/eX3/stats',\n",
       " '/home/hanna/Montering/eX3/convlstm',\n",
       " '/home/hanna/Montering/eX3/test_model',\n",
       " '/home/hanna/Montering/eX3/ar',\n",
       " '/home/hanna/Montering/eX3/Model1',\n",
       " '/home/hanna/Montering/eX3/Model2',\n",
       " '/home/hanna/Montering/eX3/ConvLSTM-128-3',\n",
       " '/home/hanna/Montering/eX3/ConvLSTM-128-32-3-3',\n",
       " '/home/hanna/Montering/eX3/ConvLSTM-256-256-3-3',\n",
       " '/home/hanna/Montering/eX3/ConvLSTM-64-64-3-3',\n",
       " '/home/hanna/Montering/eX3/ConvLSTM-32-32-32-3-3-3',\n",
       " '/home/hanna/Montering/eX3/ConvLSTM-16-16-3-3',\n",
       " '/home/hanna/Montering/eX3/ConvLSTM-8-8-8-3-3-3',\n",
       " '/home/hanna/Montering/eX3/ConvLSTM-64-32-5-5']"
      ]
     },
     "execution_count": 6,
     "metadata": {},
     "output_type": "execute_result"
    }
   ],
   "source": [
    "path = '/home/hanna/Montering/eX3/'\n",
    "files = glob.glob(path + '*')\n",
    "#for f in files:\n",
    "#    print( glob.glob(f + '/*') )\n",
    "files"
   ]
  },
  {
   "cell_type": "code",
   "execution_count": 39,
   "metadata": {},
   "outputs": [],
   "source": [
    "d = '/home/hanna/Montering/eX3/ConvLSTM-64-32-5-5/history.json'"
   ]
  },
  {
   "cell_type": "code",
   "execution_count": 40,
   "metadata": {},
   "outputs": [
    {
     "ename": "FileNotFoundError",
     "evalue": "[Errno 2] No such file or directory: '/home/hanna/Montering/eX3/ConvLSTM-64-32-5-5/history.json'",
     "output_type": "error",
     "traceback": [
      "\u001b[0;31m---------------------------------------------------------------------------\u001b[0m",
      "\u001b[0;31mFileNotFoundError\u001b[0m                         Traceback (most recent call last)",
      "\u001b[0;32m<ipython-input-40-093a5b36119c>\u001b[0m in \u001b[0;36m<module>\u001b[0;34m\u001b[0m\n\u001b[0;32m----> 1\u001b[0;31m \u001b[0;32mwith\u001b[0m \u001b[0mopen\u001b[0m\u001b[0;34m(\u001b[0m\u001b[0md\u001b[0m\u001b[0;34m)\u001b[0m \u001b[0;32mas\u001b[0m \u001b[0mjson_file\u001b[0m\u001b[0;34m:\u001b[0m\u001b[0;34m\u001b[0m\u001b[0;34m\u001b[0m\u001b[0m\n\u001b[0m\u001b[1;32m      2\u001b[0m     \u001b[0mdata\u001b[0m \u001b[0;34m=\u001b[0m \u001b[0mjson\u001b[0m\u001b[0;34m.\u001b[0m\u001b[0mload\u001b[0m\u001b[0;34m(\u001b[0m\u001b[0mjson_file\u001b[0m\u001b[0;34m)\u001b[0m\u001b[0;34m\u001b[0m\u001b[0;34m\u001b[0m\u001b[0m\n",
      "\u001b[0;31mFileNotFoundError\u001b[0m: [Errno 2] No such file or directory: '/home/hanna/Montering/eX3/ConvLSTM-64-32-5-5/history.json'"
     ]
    }
   ],
   "source": [
    "with open(d) as json_file:\n",
    "    data = json.load(json_file)"
   ]
  },
  {
   "cell_type": "code",
   "execution_count": null,
   "metadata": {},
   "outputs": [],
   "source": []
  },
  {
   "cell_type": "code",
   "execution_count": 41,
   "metadata": {},
   "outputs": [],
   "source": [
    "with open('/home/hanna/Montering/eX3/Model2/history.json') as json_file:\n",
    "    data = json.load(json_file)"
   ]
  },
  {
   "cell_type": "code",
   "execution_count": 42,
   "metadata": {},
   "outputs": [],
   "source": [
    "def get_array(data, key = 'loss'):\n",
    "    return [data[key][k] for k in data[key].keys()]"
   ]
  },
  {
   "cell_type": "code",
   "execution_count": 43,
   "metadata": {},
   "outputs": [
    {
     "data": {
      "text/plain": [
       "{'loss': {'0': 0.2273948938,\n",
       "  '1': 0.2025116384,\n",
       "  '2': 0.207013607,\n",
       "  '3': 0.2247790396,\n",
       "  '4': 0.2227876782,\n",
       "  '5': 0.217923224,\n",
       "  '6': 0.2161987573,\n",
       "  '7': 0.2202616185,\n",
       "  '8': 0.2137503773,\n",
       "  '9': 0.2104513943},\n",
       " 'mean_squared_error': {'0': 0.227395013,\n",
       "  '1': 0.2025117725,\n",
       "  '2': 0.2070136964,\n",
       "  '3': 0.2247790396,\n",
       "  '4': 0.2227876186,\n",
       "  '5': 0.2179232389,\n",
       "  '6': 0.2161989659,\n",
       "  '7': 0.220261693,\n",
       "  '8': 0.213750422,\n",
       "  '9': 0.21045129},\n",
       " 'r2_keras': {'0': -740433985536.0,\n",
       "  '1': -523617435648.0,\n",
       "  '2': -414641192960.0,\n",
       "  '3': -356183179264.0,\n",
       "  '4': -324564582400.0,\n",
       "  '5': -318319493120.0,\n",
       "  '6': -319436914688.0,\n",
       "  '7': -384574455808.0,\n",
       "  '8': -439575150592.0,\n",
       "  '9': -452542464000.0},\n",
       " 'val_loss': {'0': 0.1802685112,\n",
       "  '1': 0.1893447638,\n",
       "  '2': 0.217698127,\n",
       "  '3': 0.1785267889,\n",
       "  '4': 0.1964359283,\n",
       "  '5': 0.1995848417,\n",
       "  '6': 0.174777627,\n",
       "  '7': 0.2280923575,\n",
       "  '8': 0.174401477,\n",
       "  '9': 0.17792584},\n",
       " 'val_mean_squared_error': {'0': 0.1802685857,\n",
       "  '1': 0.1893446743,\n",
       "  '2': 0.2176980227,\n",
       "  '3': 0.1785268486,\n",
       "  '4': 0.196435973,\n",
       "  '5': 0.199584797,\n",
       "  '6': 0.1747775525,\n",
       "  '7': 0.2280924022,\n",
       "  '8': 0.1744015217,\n",
       "  '9': 0.17792584},\n",
       " 'val_r2_keras': {'0': -0.0074694264,\n",
       "  '1': -0.0560408868,\n",
       "  '2': -0.2202471644,\n",
       "  '3': 0.0050499248,\n",
       "  '4': -0.096654661,\n",
       "  '5': -0.1148704365,\n",
       "  '6': 0.0262935776,\n",
       "  '7': -0.2763945758,\n",
       "  '8': 0.0287591368,\n",
       "  '9': 0.008533095}}"
      ]
     },
     "execution_count": 43,
     "metadata": {},
     "output_type": "execute_result"
    }
   ],
   "source": [
    " data"
   ]
  },
  {
   "cell_type": "code",
   "execution_count": 44,
   "metadata": {},
   "outputs": [
    {
     "data": {
      "image/png": "[encoded data removed]",
      "text/plain": [
       "<Figure size 432x288 with 1 Axes>"
      ]
     },
     "metadata": {
      "needs_background": "light"
     },
     "output_type": "display_data"
    }
   ],
   "source": [
    "\n",
    "# summarize history for accuracy\n",
    "plt.plot(get_array(data, key = 'loss'))\n",
    "plt.plot(get_array(data, key = 'val_loss'))\n",
    "plt.title('model loss')\n",
    "plt.ylabel('loss')\n",
    "plt.xlabel('epoch')\n",
    "plt.legend(['train', 'test'], loc='upper left')\n",
    "plt.show()\n"
   ]
  },
  {
   "cell_type": "code",
   "execution_count": null,
   "metadata": {},
   "outputs": [],
   "source": []
  },
  {
   "cell_type": "code",
   "execution_count": null,
   "metadata": {},
   "outputs": [],
   "source": []
  },
  {
   "cell_type": "code",
   "execution_count": null,
   "metadata": {},
   "outputs": [],
   "source": []
  }
 ],
 "metadata": {
  "kernelspec": {
   "display_name": "Python 3",
   "language": "python",
   "name": "python3"
  },
  "language_info": {
   "codemirror_mode": {
    "name": "ipython",
    "version": 3
   },
   "file_extension": ".py",
   "mimetype": "text/x-python",
   "name": "python",
   "nbconvert_exporter": "python",
   "pygments_lexer": "ipython3",
   "version": "3.7.6"
  }
 },
 "nbformat": 4,
 "nbformat_minor": 4
}
