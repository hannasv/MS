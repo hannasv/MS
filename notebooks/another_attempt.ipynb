{
 "cells": [
  {
   "cell_type": "code",
   "execution_count": 12,
   "metadata": {},
   "outputs": [],
   "source": [
    "import glob\n",
    "import numpy as np\n",
    "import matplotlib.pyplot as plt\n",
    "import xarray as xr\n",
    "%matplotlib inline\n",
    "import datetime\n",
    "from netCDF4 import Dataset # used for the netcdf files which contain lat, lon.\n",
    "import seaborn as sns"
   ]
  },
  {
   "cell_type": "code",
   "execution_count": 13,
   "metadata": {},
   "outputs": [],
   "source": [
    "def timestamp(self, filename):\n",
    "    \"\"\"\n",
    "    Returns the numpy datetime 64 [ns] for the current date.\n",
    "    This is a bit hardcoded at the moment ....\n",
    "    \"\"\"\n",
    "    splits = filename.split('-')\n",
    "    ts = splits[5]\n",
    "    year = ts[:4]\n",
    "    month = ts[4:6]\n",
    "    day = ts[6:8]\n",
    "    hr = ts[8:10]\n",
    "    minuts = ts[10:12]\n",
    "    sek = ts[12:14]\n",
    "    # TODO make sure all filenames have seconds\n",
    "    return np.datetime64( year+\"-\"+month+\"-\"+day+\"T\"+hr+\":\"+minuts+\":\"+sek )"
   ]
  },
  {
   "cell_type": "code",
   "execution_count": 14,
   "metadata": {},
   "outputs": [],
   "source": [
    "def area_grid_cell(c_lat, d_lat, d_lon):\n",
    "    \"\"\"\n",
    "    c_lon, c_lat : float\n",
    "        Centre point longitude, latitude in degrees\n",
    "    d_lat, d_lon : float\n",
    "        delta lat lon in degrees\n",
    "\n",
    "    Returns : area in km^2\n",
    "\n",
    "    cdo : If the grid cell area have to be computed it is scaled with the earth radius to square meters.\n",
    "    \"\"\"\n",
    "    R = 6371000  # in M TO BE COMPARABLE WITH\n",
    "    # area er egentlig R**2\n",
    "    area = R*(np.cos((c_lat - d_lat)*np.pi/180) - np.cos((c_lat + d_lat)*np.pi/180) )*(2*d_lon*np.pi/180) # R**2\n",
    "    return area"
   ]
  },
  {
   "cell_type": "code",
   "execution_count": 16,
   "metadata": {},
   "outputs": [],
   "source": [
    "centre_era_lat = 30\n",
    "centre_era_lon = -15"
   ]
  },
  {
   "cell_type": "code",
   "execution_count": 19,
   "metadata": {},
   "outputs": [
    {
     "name": "stderr",
     "output_type": "stream",
     "text": [
      "/uio/hume/student-u89/hannasv/anaconda3/lib/python2.7/site-packages/ipykernel_launcher.py:26: RuntimeWarning: invalid value encountered in less\n",
      "/uio/hume/student-u89/hannasv/anaconda3/lib/python2.7/site-packages/ipykernel_launcher.py:27: RuntimeWarning: invalid value encountered in less\n"
     ]
    }
   ],
   "source": [
    "nc_path   = '//uio/lagringshotell/geofag/students/metos/hannasv/satelite_coordinates/'\n",
    "nc_file  = glob.glob(nc_path + '*.nc')[0]\n",
    "rootgrp = Dataset(nc_file, \"r\", format=\"NETCDF4\")\n",
    "cloud_mask = rootgrp.variables[\"cloudMask\"][:].data\n",
    "lat_array = rootgrp.variables[\"lat\"][:].data\n",
    "lon_array = rootgrp.variables[\"lon\"][:].data\n",
    "lat_array[lat_array < -99] = np.nan # updates of disk values to nan\n",
    "lon_array[lon_array < -99] = np.nan # updates of disk values to nan\n",
    "d_phi   = lon_array[:, 1:] - lon_array[:, :-1]\n",
    "d_theta = lat_array[1:] - lat_array[:-1]\n",
    "\n",
    "# Padding the axis -- we removed by taking the difference\n",
    "pad     = np.ones((3712, 1))*np.nan # adding numpy to the axis the values\n",
    "d_phi   = np.concatenate((pad, d_phi), axis = 1)/2\n",
    "d_theta = np.concatenate((pad.transpose(), d_theta), axis = 0)/2\n",
    "\n",
    "# reshapes everything to arrays\n",
    "d_phi = d_phi.reshape(-1)\n",
    "d_theta = d_theta.reshape(-1)\n",
    "longitude = lon_array.reshape(-1)\n",
    "latitude = lat_array.reshape(-1)\n",
    "\n",
    "# The indexes of the marked cell with centre inside the era cell\n",
    "# TODO REDO THIS. Remove the indecies which are in the intersection of inside and out.\n",
    "# These should be kept in the boundaries and removed from the inside..\n",
    "idx_centre_inside  = np.intersect1d( np.argwhere( np.abs(longitude - centre_era_lon) < 0.375 ),\n",
    "                     np.argwhere( np.abs(latitude - centre_era_lat) < 0.375 ) )\n",
    "\n",
    "era_up_boundary    = centre_era_lat + 0.375\n",
    "era_down_boundary  = centre_era_lat - 0.375\n",
    "era_left_boundary  = centre_era_lon + 0.375\n",
    "era_right_boundary =  centre_era_lon - 0.375\n",
    "\n",
    "# boundaries of the\n",
    "cmk_left_boundary  = longitude - d_phi\n",
    "cmk_right_boundary = longitude + d_phi\n",
    "cmk_up_boundary    = latitude + d_theta\n",
    "cmk_down_boundary  = latitude - d_theta"
   ]
  },
  {
   "cell_type": "code",
   "execution_count": 95,
   "metadata": {},
   "outputs": [
    {
     "name": "stderr",
     "output_type": "stream",
     "text": [
      "/uio/hume/student-u89/hannasv/anaconda3/lib/python2.7/site-packages/ipykernel_launcher.py:2: RuntimeWarning: invalid value encountered in greater\n",
      "  \n",
      "/uio/hume/student-u89/hannasv/anaconda3/lib/python2.7/site-packages/ipykernel_launcher.py:3: RuntimeWarning: invalid value encountered in greater\n",
      "  This is separate from the ipykernel package so we can avoid doing imports until\n",
      "/uio/hume/student-u89/hannasv/anaconda3/lib/python2.7/site-packages/ipykernel_launcher.py:5: RuntimeWarning: invalid value encountered in greater\n",
      "  \"\"\"\n",
      "/uio/hume/student-u89/hannasv/anaconda3/lib/python2.7/site-packages/ipykernel_launcher.py:6: RuntimeWarning: invalid value encountered in greater\n",
      "  \n"
     ]
    }
   ],
   "source": [
    "# Taking the dfferences of the oposite sides to make sure that they are\n",
    "# d_left_idx    = era_left_boundary - cmk_right_boundary > 0\n",
    "# d_right_idx   = cmk_left_boundary - era_right_boundary > 0\n",
    "#d_down_idx    = era_down_boundary - cmk_up_boundary > 0\n",
    "#d_up_idx      = cmk_down_boundary - era_up_boundary > 0 "
   ]
  },
  {
   "cell_type": "code",
   "execution_count": 100,
   "metadata": {},
   "outputs": [
    {
     "name": "stderr",
     "output_type": "stream",
     "text": [
      "/uio/hume/student-u89/hannasv/anaconda3/lib/python2.7/site-packages/ipykernel_launcher.py:5: RuntimeWarning: invalid value encountered in greater\n",
      "  \"\"\"\n",
      "/uio/hume/student-u89/hannasv/anaconda3/lib/python2.7/site-packages/ipykernel_launcher.py:5: RuntimeWarning: invalid value encountered in less\n",
      "  \"\"\"\n"
     ]
    }
   ],
   "source": [
    "# Taking the dfferences of the oposite sides to make sure that they are\n",
    "# d_left_idx    = era_left_boundary - cmk_right_boundary > 0\n",
    "# d_right_idx   = cmk_left_boundary - era_right_boundary > 0\n",
    "#d_up_idx      = cmk_down_boundary - era_up_boundary > 0 \n",
    "a = np.intersect1d(np.argwhere(era_down_boundary - cmk_up_boundary > 0), \n",
    "                   np.argwhere(cmk_down_boundary - era_up_boundary < 0 ))"
   ]
  },
  {
   "cell_type": "markdown",
   "metadata": {},
   "source": [
    "# If the product is -1 one of the boundaries are on the other side of era boundary"
   ]
  },
  {
   "cell_type": "code",
   "execution_count": 149,
   "metadata": {},
   "outputs": [
    {
     "name": "stderr",
     "output_type": "stream",
     "text": [
      "/uio/hume/student-u89/hannasv/anaconda3/lib/python2.7/site-packages/ipykernel_launcher.py:1: RuntimeWarning: invalid value encountered in less\n",
      "  \"\"\"Entry point for launching an IPython kernel.\n"
     ]
    }
   ],
   "source": [
    "a = np.where(np.sign(cmk_up_boundary - era_down_boundary)*np.sign(-era_up_boundary + cmk_down_boundary) < 0 )"
   ]
  },
  {
   "cell_type": "code",
   "execution_count": 148,
   "metadata": {},
   "outputs": [
    {
     "name": "stderr",
     "output_type": "stream",
     "text": [
      "/uio/hume/student-u89/hannasv/anaconda3/lib/python2.7/site-packages/ipykernel_launcher.py:1: RuntimeWarning: invalid value encountered in less\n",
      "  \"\"\"Entry point for launching an IPython kernel.\n"
     ]
    }
   ],
   "source": [
    "b = np.where(np.sign(era_left_boundary - cmk_right_boundary)*np.sign(-cmk_left_boundary + era_right_boundary) < 0)"
   ]
  },
  {
   "cell_type": "code",
   "execution_count": 146,
   "metadata": {
    "scrolled": true
   },
   "outputs": [
    {
     "name": "stderr",
     "output_type": "stream",
     "text": [
      "/uio/hume/student-u89/hannasv/anaconda3/lib/python2.7/site-packages/ipykernel_launcher.py:1: RuntimeWarning: invalid value encountered in less\n",
      "  \"\"\"Entry point for launching an IPython kernel.\n"
     ]
    },
    {
     "data": {
      "text/plain": [
       "(69012, 73466)"
      ]
     },
     "execution_count": 146,
     "metadata": {},
     "output_type": "execute_result"
    }
   ],
   "source": [
    "(a < 0).sum(), (b < 0).sum() "
   ]
  },
  {
   "cell_type": "code",
   "execution_count": 150,
   "metadata": {},
   "outputs": [
    {
     "data": {
      "text/plain": [
       "(array([10223132, 10226276, 10226845, ..., 10751844, 10751845, 10751846]),)"
      ]
     },
     "execution_count": 150,
     "metadata": {},
     "output_type": "execute_result"
    }
   ],
   "source": [
    "a"
   ]
  },
  {
   "cell_type": "code",
   "execution_count": 151,
   "metadata": {},
   "outputs": [
    {
     "data": {
      "text/plain": [
       "(array([  194797,   198501,   198502, ..., 13576549, 13576550, 13580269]),)"
      ]
     },
     "execution_count": 151,
     "metadata": {},
     "output_type": "execute_result"
    }
   ],
   "source": [
    "b"
   ]
  },
  {
   "cell_type": "code",
   "execution_count": 119,
   "metadata": {},
   "outputs": [
    {
     "name": "stderr",
     "output_type": "stream",
     "text": [
      "/uio/hume/student-u89/hannasv/anaconda3/lib/python2.7/site-packages/ipykernel_launcher.py:1: RuntimeWarning: invalid value encountered in greater\n",
      "  \"\"\"Entry point for launching an IPython kernel.\n",
      "/uio/hume/student-u89/hannasv/anaconda3/lib/python2.7/site-packages/ipykernel_launcher.py:2: RuntimeWarning: invalid value encountered in greater\n",
      "  \n"
     ]
    }
   ],
   "source": [
    "dy_idx = np.intersect1d(np.argwhere(cmk_up_boundary - era_down_boundary > 0), \n",
    "                        np.argwhere(era_up_boundary - cmk_down_boundary > 0))"
   ]
  },
  {
   "cell_type": "code",
   "execution_count": null,
   "metadata": {},
   "outputs": [],
   "source": [
    "dx_idx = np.intersect1d(np.argwhere(era_left_boundary - cmk_right_boundary > 0), \n",
    "                        np.argwhere(cmk_left_boundary - era_right_boundary > 0))"
   ]
  },
  {
   "cell_type": "code",
   "execution_count": 147,
   "metadata": {},
   "outputs": [
    {
     "data": {
      "text/plain": [
       "69012"
      ]
     },
     "execution_count": 147,
     "metadata": {},
     "output_type": "execute_result"
    }
   ],
   "source": [
    "len(dy_idx)"
   ]
  },
  {
   "cell_type": "code",
   "execution_count": 157,
   "metadata": {},
   "outputs": [],
   "source": [
    "d_th_A = (cmk_up_boundary[dy_idx] - era_down_boundary)/2\n",
    "d_th_B = (era_up_boundary - cmk_down_boundary[dy_idx])/2"
   ]
  },
  {
   "cell_type": "code",
   "execution_count": 159,
   "metadata": {},
   "outputs": [
    {
     "data": {
      "text/plain": [
       "array([0.03695679, 0.03695679, 0.00979519, ..., 0.39198542, 0.39202118,\n",
       "       0.39205647])"
      ]
     },
     "execution_count": 159,
     "metadata": {},
     "output_type": "execute_result"
    }
   ],
   "source": [
    "d_th_A"
   ]
  },
  {
   "cell_type": "code",
   "execution_count": 158,
   "metadata": {},
   "outputs": [
    {
     "data": {
      "text/plain": [
       "array([3.99805069e-01, 3.99805069e-01, 4.08860207e-01, ...,\n",
       "       8.05854797e-05, 4.57763672e-05, 1.04904175e-05])"
      ]
     },
     "execution_count": 158,
     "metadata": {},
     "output_type": "execute_result"
    }
   ],
   "source": [
    "d_th_B"
   ]
  },
  {
   "cell_type": "code",
   "execution_count": 124,
   "metadata": {},
   "outputs": [],
   "source": [
    "dist = cmk_up_boundary[dy_idx] - era_down_boundary"
   ]
  },
  {
   "cell_type": "code",
   "execution_count": 126,
   "metadata": {},
   "outputs": [
    {
     "data": {
      "text/plain": [
       "(0.8220005035400391, 3.814697265625e-06)"
      ]
     },
     "execution_count": 126,
     "metadata": {},
     "output_type": "execute_result"
    }
   ],
   "source": [
    "dist.max(), dist.min()"
   ]
  },
  {
   "cell_type": "code",
   "execution_count": 187,
   "metadata": {},
   "outputs": [
    {
     "data": {
      "text/plain": [
       "array([nan, nan, nan, ..., nan, nan, nan])"
      ]
     },
     "execution_count": 187,
     "metadata": {},
     "output_type": "execute_result"
    }
   ],
   "source": [
    "np.sign(cmk_right_boundary - era_left_boundary) * np.sign(era_right_boundary - cmk_left_boundary )"
   ]
  },
  {
   "cell_type": "code",
   "execution_count": 180,
   "metadata": {},
   "outputs": [
    {
     "name": "stderr",
     "output_type": "stream",
     "text": [
      "/uio/hume/student-u89/hannasv/anaconda3/lib/python2.7/site-packages/ipykernel_launcher.py:1: RuntimeWarning: invalid value encountered in greater\n",
      "  \"\"\"Entry point for launching an IPython kernel.\n",
      "/uio/hume/student-u89/hannasv/anaconda3/lib/python2.7/site-packages/ipykernel_launcher.py:2: RuntimeWarning: invalid value encountered in greater\n",
      "  \n"
     ]
    }
   ],
   "source": [
    "dx_idx = np.intersect1d(np.argwhere(cmk_right_boundary - era_left_boundary > 0), \n",
    "                        np.argwhere(era_right_boundary - cmk_left_boundary > 0))"
   ]
  },
  {
   "cell_type": "code",
   "execution_count": 181,
   "metadata": {},
   "outputs": [
    {
     "data": {
      "text/plain": [
       "array([], dtype=int64)"
      ]
     },
     "execution_count": 181,
     "metadata": {},
     "output_type": "execute_result"
    }
   ],
   "source": [
    "dx_idx"
   ]
  },
  {
   "cell_type": "code",
   "execution_count": 182,
   "metadata": {},
   "outputs": [],
   "source": [
    "d_th_A = (cmk_up_boundary[dy_idx] - era_down_boundary)/2\n",
    "d_th_B = (era_up_boundary - cmk_down_boundary[dy_idx])/2"
   ]
  },
  {
   "cell_type": "code",
   "execution_count": 183,
   "metadata": {},
   "outputs": [],
   "source": [
    "d_phi_A = (cmk_right_boundary[dx_idx] - era_left_boundary)/2\n",
    "d_phi_B = (era_right_boundary - cmk_left_boundary[dx_idx] )/2"
   ]
  },
  {
   "cell_type": "code",
   "execution_count": 184,
   "metadata": {},
   "outputs": [
    {
     "data": {
      "text/plain": [
       "array([], dtype=float64)"
      ]
     },
     "execution_count": 184,
     "metadata": {},
     "output_type": "execute_result"
    }
   ],
   "source": [
    "d_phi_A"
   ]
  },
  {
   "cell_type": "code",
   "execution_count": 177,
   "metadata": {},
   "outputs": [
    {
     "data": {
      "text/plain": [
       "array([], dtype=float64)"
      ]
     },
     "execution_count": 177,
     "metadata": {},
     "output_type": "execute_result"
    }
   ],
   "source": [
    "d_phi_B"
   ]
  },
  {
   "cell_type": "code",
   "execution_count": 178,
   "metadata": {},
   "outputs": [
    {
     "ename": "IndexError",
     "evalue": "index 10643685 is out of bounds for axis 1 with size 491",
     "output_type": "error",
     "traceback": [
      "\u001b[0;31m---------------------------------------------------------------------------\u001b[0m",
      "\u001b[0;31mIndexError\u001b[0m                                Traceback (most recent call last)",
      "\u001b[0;32m<ipython-input-178-e1c6f0bcbcba>\u001b[0m in \u001b[0;36m<module>\u001b[0;34m()\u001b[0m\n\u001b[1;32m      3\u001b[0m \u001b[0mlon_corner\u001b[0m \u001b[0;34m=\u001b[0m \u001b[0mlongitude\u001b[0m\u001b[0;34m[\u001b[0m\u001b[0mcorner_idx\u001b[0m\u001b[0;34m]\u001b[0m\u001b[0;34m\u001b[0m\u001b[0m\n\u001b[1;32m      4\u001b[0m \u001b[0mlat_corner\u001b[0m \u001b[0;34m=\u001b[0m \u001b[0mlatitude\u001b[0m\u001b[0;34m[\u001b[0m\u001b[0mcorner_idx\u001b[0m\u001b[0;34m]\u001b[0m\u001b[0;34m\u001b[0m\u001b[0m\n\u001b[0;32m----> 5\u001b[0;31m \u001b[0md_phi\u001b[0m      \u001b[0;34m=\u001b[0m \u001b[0md_phi\u001b[0m\u001b[0;34m[\u001b[0m\u001b[0mcorner_idx\u001b[0m\u001b[0;34m]\u001b[0m\u001b[0;34m\u001b[0m\u001b[0m\n\u001b[0m\u001b[1;32m      6\u001b[0m \u001b[0md_theta\u001b[0m    \u001b[0;34m=\u001b[0m \u001b[0md_theta\u001b[0m\u001b[0;34m[\u001b[0m\u001b[0mcorner_idx\u001b[0m\u001b[0;34m]\u001b[0m\u001b[0;34m\u001b[0m\u001b[0m\n",
      "\u001b[0;31mIndexError\u001b[0m: index 10643685 is out of bounds for axis 1 with size 491"
     ]
    }
   ],
   "source": [
    "corner_idx = np.intersect1d(a, b)\n",
    "\n",
    "lon_corner = longitude[corner_idx]\n",
    "lat_corner = latitude[corner_idx]\n",
    "d_phi      = d_phi[corner_idx]\n",
    "d_theta    = d_theta[corner_idx]"
   ]
  },
  {
   "cell_type": "code",
   "execution_count": 117,
   "metadata": {},
   "outputs": [],
   "source": [
    "#lon_corner"
   ]
  },
  {
   "cell_type": "code",
   "execution_count": null,
   "metadata": {},
   "outputs": [],
   "source": []
  },
  {
   "cell_type": "code",
   "execution_count": 114,
   "metadata": {},
   "outputs": [],
   "source": [
    "#len(np.intersect1d(a, b)) # Corner"
   ]
  },
  {
   "cell_type": "code",
   "execution_count": 112,
   "metadata": {},
   "outputs": [
    {
     "data": {
      "text/plain": [
       "69012"
      ]
     },
     "execution_count": 112,
     "metadata": {},
     "output_type": "execute_result"
    }
   ],
   "source": [
    "len(a) # "
   ]
  },
  {
   "cell_type": "code",
   "execution_count": null,
   "metadata": {},
   "outputs": [],
   "source": [
    "len(b)"
   ]
  },
  {
   "cell_type": "code",
   "execution_count": 96,
   "metadata": {},
   "outputs": [
    {
     "data": {
      "text/plain": [
       "(3568753, 6781923, 8540424, 1667762)"
      ]
     },
     "execution_count": 96,
     "metadata": {},
     "output_type": "execute_result"
    }
   ],
   "source": [
    "d_left_idx.sum(), d_right_idx.sum(), d_down_idx.sum(), d_up_idx.sum()"
   ]
  },
  {
   "cell_type": "markdown",
   "metadata": {},
   "source": [
    "### Detect boundary boxes -- recompute centre"
   ]
  },
  {
   "cell_type": "code",
   "execution_count": null,
   "metadata": {},
   "outputs": [],
   "source": []
  },
  {
   "cell_type": "code",
   "execution_count": 49,
   "metadata": {},
   "outputs": [
    {
     "data": {
      "text/plain": [
       "(-79.39637, -14.639385)"
      ]
     },
     "execution_count": 49,
     "metadata": {},
     "output_type": "execute_result"
    }
   ],
   "source": [
    "np.min(longitude[d_left]), np.max(longitude[d_left])"
   ]
  },
  {
   "cell_type": "code",
   "execution_count": 47,
   "metadata": {},
   "outputs": [
    {
     "data": {
      "text/plain": [
       "(-80.49831, 80.49831)"
      ]
     },
     "execution_count": 47,
     "metadata": {},
     "output_type": "execute_result"
    }
   ],
   "source": [
    "np.min(latitude[d_left]), np.max(latitude[d_left])"
   ]
  },
  {
   "cell_type": "code",
   "execution_count": 26,
   "metadata": {},
   "outputs": [
    {
     "name": "stderr",
     "output_type": "stream",
     "text": [
      "/uio/hume/student-u89/hannasv/anaconda3/lib/python2.7/site-packages/ipykernel_launcher.py:2: RuntimeWarning: invalid value encountered in less\n",
      "  \n",
      "/uio/hume/student-u89/hannasv/anaconda3/lib/python2.7/site-packages/ipykernel_launcher.py:3: RuntimeWarning: invalid value encountered in less\n",
      "  This is separate from the ipykernel package so we can avoid doing imports until\n",
      "/uio/hume/student-u89/hannasv/anaconda3/lib/python2.7/site-packages/ipykernel_launcher.py:4: RuntimeWarning: invalid value encountered in less\n",
      "  after removing the cwd from sys.path.\n",
      "/uio/hume/student-u89/hannasv/anaconda3/lib/python2.7/site-packages/ipykernel_launcher.py:5: RuntimeWarning: invalid value encountered in less\n",
      "  \"\"\"\n"
     ]
    }
   ],
   "source": [
    "# Indexes of the\n",
    "left_idx   = np.argwhere(d_left  < 0)\n",
    "right_idx  = np.argwhere(d_right < 0)\n",
    "up_idx     = np.argwhere(d_up    < 0)\n",
    "down_idx   = np.argwhere(d_down  < 0)\n",
    "\n",
    "# Corners are interesting because they should only be computed once\n",
    "lower_left_idx  = np.intersect1d(left_idx, down_idx)\n",
    "upper_left_idx  = np.intersect1d(left_idx, up_idx)\n",
    "lower_right_idx = np.intersect1d(right_idx, down_idx)\n",
    "upper_right_idx = np.intersect1d(right_idx, up_idx)"
   ]
  },
  {
   "cell_type": "code",
   "execution_count": 91,
   "metadata": {},
   "outputs": [
    {
     "data": {
      "text/plain": [
       "array([ True,  True])"
      ]
     },
     "execution_count": 91,
     "metadata": {},
     "output_type": "execute_result"
    }
   ],
   "source": [
    "np.array([False, True]) + np.array([True, False]) + np.array([True, False])"
   ]
  },
  {
   "cell_type": "code",
   "execution_count": 80,
   "metadata": {
    "scrolled": true
   },
   "outputs": [
    {
     "data": {
      "text/plain": [
       "13778944"
      ]
     },
     "execution_count": 80,
     "metadata": {},
     "output_type": "execute_result"
    }
   ],
   "source": [
    "len(longitude)"
   ]
  },
  {
   "cell_type": "code",
   "execution_count": null,
   "metadata": {},
   "outputs": [],
   "source": [
    "e_lon = -15\n",
    "e_lat = 30"
   ]
  },
  {
   "cell_type": "code",
   "execution_count": 87,
   "metadata": {},
   "outputs": [],
   "source": [
    "dx_left  = (longitude  + d_phi)  - (e_lon - 0.375) \n",
    "dx_right = (e_lon + 0.375) - (longitude  - d_phi) \n",
    "\n",
    "dy_up    = (30 + 0.375) - (latitude - d_theta)\n",
    "dy_down  = (latitude + d_theta) - (30 - 0.375)"
   ]
  },
  {
   "cell_type": "code",
   "execution_count": 88,
   "metadata": {},
   "outputs": [
    {
     "name": "stderr",
     "output_type": "stream",
     "text": [
      "/uio/hume/student-u89/hannasv/anaconda3/lib/python2.7/site-packages/ipykernel_launcher.py:1: RuntimeWarning: invalid value encountered in less\n",
      "  \"\"\"Entry point for launching an IPython kernel.\n"
     ]
    },
    {
     "data": {
      "text/plain": [
       "3607"
      ]
     },
     "execution_count": 88,
     "metadata": {},
     "output_type": "execute_result"
    }
   ],
   "source": [
    "( np.abs(dx_right) < d_phi).sum()"
   ]
  },
  {
   "cell_type": "code",
   "execution_count": 86,
   "metadata": {
    "scrolled": true
   },
   "outputs": [
    {
     "name": "stderr",
     "output_type": "stream",
     "text": [
      "/uio/hume/student-u89/hannasv/anaconda3/lib/python2.7/site-packages/ipykernel_launcher.py:1: RuntimeWarning: invalid value encountered in less\n",
      "  \"\"\"Entry point for launching an IPython kernel.\n"
     ]
    },
    {
     "data": {
      "text/plain": [
       "3609"
      ]
     },
     "execution_count": 86,
     "metadata": {},
     "output_type": "execute_result"
    }
   ],
   "source": [
    "( np.abs(dx_left) < d_phi).sum()"
   ]
  },
  {
   "cell_type": "code",
   "execution_count": null,
   "metadata": {},
   "outputs": [],
   "source": [
    "( np.abs(dx_left) < d_phi).sum()"
   ]
  },
  {
   "cell_type": "code",
   "execution_count": null,
   "metadata": {},
   "outputs": [],
   "source": [
    "( np.abs(dx_left) < d_phi).sum()"
   ]
  },
  {
   "cell_type": "code",
   "execution_count": 73,
   "metadata": {},
   "outputs": [
    {
     "name": "stderr",
     "output_type": "stream",
     "text": [
      "/uio/hume/student-u89/hannasv/anaconda3/lib/python2.7/site-packages/ipykernel_launcher.py:1: RuntimeWarning: invalid value encountered in less\n",
      "  \"\"\"Entry point for launching an IPython kernel.\n"
     ]
    },
    {
     "data": {
      "text/plain": [
       "66515"
      ]
     },
     "execution_count": 73,
     "metadata": {},
     "output_type": "execute_result"
    }
   ],
   "source": [
    "(np.abs( dy_down ) < 0.375).sum()"
   ]
  },
  {
   "cell_type": "code",
   "execution_count": 66,
   "metadata": {},
   "outputs": [
    {
     "name": "stderr",
     "output_type": "stream",
     "text": [
      "/uio/hume/student-u89/hannasv/anaconda3/lib/python2.7/site-packages/ipykernel_launcher.py:1: RuntimeWarning: invalid value encountered in less\n",
      "  \"\"\"Entry point for launching an IPython kernel.\n"
     ]
    },
    {
     "data": {
      "text/plain": [
       "76843"
      ]
     },
     "execution_count": 66,
     "metadata": {},
     "output_type": "execute_result"
    }
   ],
   "source": [
    "(np.abs( dx_left ) < 0.375).sum()"
   ]
  },
  {
   "cell_type": "code",
   "execution_count": 67,
   "metadata": {},
   "outputs": [
    {
     "name": "stderr",
     "output_type": "stream",
     "text": [
      "/uio/hume/student-u89/hannasv/anaconda3/lib/python2.7/site-packages/ipykernel_launcher.py:1: RuntimeWarning: invalid value encountered in less\n",
      "  \"\"\"Entry point for launching an IPython kernel.\n"
     ]
    },
    {
     "data": {
      "text/plain": [
       "77234"
      ]
     },
     "execution_count": 67,
     "metadata": {},
     "output_type": "execute_result"
    }
   ],
   "source": [
    "(np.abs( dx_right ) < 0.375).sum()"
   ]
  },
  {
   "cell_type": "code",
   "execution_count": 61,
   "metadata": {},
   "outputs": [
    {
     "data": {
      "text/plain": [
       "13778944"
      ]
     },
     "execution_count": 61,
     "metadata": {},
     "output_type": "execute_result"
    }
   ],
   "source": [
    "3712*3712"
   ]
  },
  {
   "cell_type": "code",
   "execution_count": 55,
   "metadata": {},
   "outputs": [
    {
     "data": {
      "text/plain": [
       "<matplotlib.axes._subplots.AxesSubplot at 0x7f34eb12f450>"
      ]
     },
     "execution_count": 55,
     "metadata": {},
     "output_type": "execute_result"
    },
    {
     "data": {
      "image/png": "[encoded data removed]",
      "text/plain": [
       "<Figure size 432x288 with 2 Axes>"
      ]
     },
     "metadata": {
      "needs_background": "light"
     },
     "output_type": "display_data"
    }
   ],
   "source": [
    "dx_left[dx_left < 0 ]  = 0\n",
    "dx_right[dx_right < 0] = 0\n",
    "\n",
    "dy_down[dy_down < 0 ]  = 0\n",
    "dy_up[dy_up < 0]       = 0\n",
    "\n",
    "new_d_phi      = ( -dx_left - dx_right + 2*bounds_phi )/2\n",
    "new_centre_lat = ( -dy_down - dy_up + bound_lats + bounds_theta )/2\n",
    "new_d_theta    = ( -dy_down - dy_up + 2*bounds_theta )/2"
   ]
  },
  {
   "cell_type": "code",
   "execution_count": null,
   "metadata": {},
   "outputs": [],
   "source": []
  },
  {
   "cell_type": "code",
   "execution_count": null,
   "metadata": {},
   "outputs": [],
   "source": []
  },
  {
   "cell_type": "code",
   "execution_count": 27,
   "metadata": {},
   "outputs": [
    {
     "data": {
      "text/plain": [
       "array([  202198,   202199,   202200, ..., 10643703, 10643704, 10643705])"
      ]
     },
     "execution_count": 27,
     "metadata": {},
     "output_type": "execute_result"
    }
   ],
   "source": [
    "lower_left_idx"
   ]
  },
  {
   "cell_type": "code",
   "execution_count": 28,
   "metadata": {},
   "outputs": [
    {
     "data": {
      "text/plain": [
       "array([  191147,   191148,   191149, ..., 10662903, 10662904, 10662905])"
      ]
     },
     "execution_count": 28,
     "metadata": {},
     "output_type": "execute_result"
    }
   ],
   "source": [
    "lower_right_idx"
   ]
  },
  {
   "cell_type": "code",
   "execution_count": 30,
   "metadata": {},
   "outputs": [
    {
     "data": {
      "text/plain": [
       "array([10315350, 10319061, 10322772, ..., 13587795, 13587796, 13587797])"
      ]
     },
     "execution_count": 30,
     "metadata": {},
     "output_type": "execute_result"
    }
   ],
   "source": [
    "upper_right_idx"
   ]
  },
  {
   "cell_type": "code",
   "execution_count": 31,
   "metadata": {},
   "outputs": [
    {
     "data": {
      "text/plain": [
       "array([10323373, 10323374, 10327086, ..., 13580267, 13580268, 13580269])"
      ]
     },
     "execution_count": 31,
     "metadata": {},
     "output_type": "execute_result"
    }
   ],
   "source": [
    "upper_left_idx"
   ]
  },
  {
   "cell_type": "code",
   "execution_count": 34,
   "metadata": {},
   "outputs": [
    {
     "data": {
      "text/plain": [
       "array([  194797,   198501,   198502, ..., 13576549, 13576550, 13580269])"
      ]
     },
     "execution_count": 34,
     "metadata": {},
     "output_type": "execute_result"
    }
   ],
   "source": [
    "np.intersect1d(right_idx, left_idx)"
   ]
  },
  {
   "cell_type": "code",
   "execution_count": 35,
   "metadata": {},
   "outputs": [
    {
     "data": {
      "text/plain": [
       "array([], dtype=int64)"
      ]
     },
     "execution_count": 35,
     "metadata": {},
     "output_type": "execute_result"
    }
   ],
   "source": [
    "np.intersect1d(up_idx, down_idx)"
   ]
  },
  {
   "cell_type": "code",
   "execution_count": null,
   "metadata": {},
   "outputs": [],
   "source": []
  },
  {
   "cell_type": "code",
   "execution_count": null,
   "metadata": {},
   "outputs": [],
   "source": []
  },
  {
   "cell_type": "code",
   "execution_count": null,
   "metadata": {},
   "outputs": [],
   "source": []
  }
 ],
 "metadata": {
  "kernelspec": {
   "display_name": "Python 2",
   "language": "python",
   "name": "python2"
  },
  "language_info": {
   "codemirror_mode": {
    "name": "ipython",
    "version": 2
   },
   "file_extension": ".py",
   "mimetype": "text/x-python",
   "name": "python",
   "nbconvert_exporter": "python",
   "pygments_lexer": "ipython2",
   "version": "2.7.15"
  }
 },
 "nbformat": 4,
 "nbformat_minor": 2
}
