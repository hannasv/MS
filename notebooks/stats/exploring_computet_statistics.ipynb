{
 "cells": [
  {
   "cell_type": "code",
   "execution_count": 2,
   "metadata": {},
   "outputs": [
    {
     "name": "stdout",
     "output_type": "stream",
     "text": [
      "Warning.. Using pgf backend, no GUI available. use plt.savefig() for inpection\n"
     ]
    }
   ],
   "source": [
    "from sclouds.helpers import path_stats_results"
   ]
  },
  {
   "cell_type": "code",
   "execution_count": 3,
   "metadata": {},
   "outputs": [
    {
     "name": "stdout",
     "output_type": "stream",
     "text": [
      "Warning.. Using pgf backend, no GUI available. use plt.savefig() for inpection\n"
     ]
    }
   ],
   "source": [
    "import os\n",
    "import glob\n",
    "\n",
    "import numpy as np\n",
    "import xarray as xr\n",
    "\n",
    "from matplotlib.ticker import (MultipleLocator, FormatStrFormatter,\n",
    "                               AutoMinorLocator)\n",
    "\n",
    "from sclouds.helpers import (path_input, path_stats_results, VARIABLES,\n",
    "                                UNITS, LONGNAME, STATISTICS)\n",
    "from sclouds.io.utils import get_xarray_dataset_for_period\n",
    "from sclouds.plot.helpers import (TEXT_WIDTH_IN, TEXT_HEIGHT_IN,\n",
    "                                    path_python_figures, import_matplotlib,\n",
    "                                    cmap_contour_plot, levels_contourplot,\n",
    "                                    color_maps)\n",
    "mat = import_matplotlib() #for mye\n",
    "import matplotlib.pyplot as plt"
   ]
  },
  {
   "cell_type": "code",
   "execution_count": null,
   "metadata": {},
   "outputs": [],
   "source": []
  },
  {
   "cell_type": "code",
   "execution_count": 14,
   "metadata": {},
   "outputs": [
    {
     "name": "stdout",
     "output_type": "stream",
     "text": [
      "Finished tcc\n"
     ]
    }
   ],
   "source": [
    "n_rows = len(STATISTICS)\n",
    "n_cols = 1\n",
    "\n",
    "\n",
    "VARIABLES=['tcc']\n",
    "\n",
    "for var in VARIABLES:\n",
    "    #print('Variable {}'.var)\n",
    "    files = glob.glob(os.path.join(path_stats_results, '*pixel*{}*all*.nc'.format(var)))\n",
    "\n",
    "    if len(files) > 1:\n",
    "        print(files)\n",
    "        raise ValuError('Too many files detected. Spesify the correct one.')\n",
    "\n",
    "    data = xr.open_dataset(files[0])\n",
    "    \n",
    "    \n",
    "    fig, axes =  plt.subplots(nrows = n_rows, ncols = n_cols, sharex=True, sharey=False)\n",
    "    fig.set_size_inches(w = TEXT_WIDTH_IN, h = TEXT_HEIGHT_IN - 1)\n",
    "\n",
    "    for stat, ax in zip(STATISTICS, axes):\n",
    "        #if var != 'tcc':\n",
    "        #print('Warning this duplicates the RH in plot for tcc')\n",
    "        if var == 'tcc':\n",
    "            # clouds should not be flipped \n",
    "            vals   = data[stat].values\n",
    "        else:\n",
    "            vals   = np.flipud(data[stat].values)\n",
    "        cntours = ax.contourf(vals, levels=levels_contourplot, cmap=color_maps[var])\n",
    "\n",
    "        # Removes white lines\n",
    "        for c in cntours.collections:\n",
    "            c.set_edgecolor(\"face\")\n",
    "        \n",
    "        if var == 'q':\n",
    "            formatter = \"%1.2e\"\n",
    "        else:\n",
    "            None\n",
    "            \n",
    "        fig.colorbar(cntours, format = formatter,  ax=ax, label = '{} [{}]'.format(var, UNITS[var]))\n",
    "        #a = sns.heatmap(vals, ax = ax, cbar = True, cmap = 'viridis', linewidths=0)\n",
    "        ax.set_title(stat, fontsize = 14)\n",
    "        ax.set_ylabel('Latitude')\n",
    "\n",
    "        ax.xaxis.set_major_locator(MultipleLocator(20))\n",
    "        ax.yaxis.set_major_locator(MultipleLocator(20))\n",
    "        ax.xaxis.set_major_formatter(FormatStrFormatter('%d'))\n",
    "\n",
    "        ax.set_yticklabels(labels = np.linspace(30, 50, 5))\n",
    "        ax.set_xticklabels(labels = np.linspace(-20, 25, 10), rotation = 45)\n",
    "        #a.legend()\n",
    "    plt.xlabel('Longitude')\n",
    "    plt.subplots_adjust(wspace = 0.2, hspace = 0.3, top=0.97, bottom=0.1, left = 0.14, right = .95)\n",
    "    plt.savefig(path_python_figures + 'all_stat_variable_{}.png'.format(var))\n",
    "    print('Finished {}'.format(var))"
   ]
  },
  {
   "cell_type": "code",
   "execution_count": null,
   "metadata": {},
   "outputs": [],
   "source": []
  }
 ],
 "metadata": {
  "kernelspec": {
   "display_name": "Python 3",
   "language": "python",
   "name": "python3"
  },
  "language_info": {
   "codemirror_mode": {
    "name": "ipython",
    "version": 3
   },
   "file_extension": ".py",
   "mimetype": "text/x-python",
   "name": "python",
   "nbconvert_exporter": "python",
   "pygments_lexer": "ipython3",
   "version": "3.7.6"
  }
 },
 "nbformat": 4,
 "nbformat_minor": 4
}
