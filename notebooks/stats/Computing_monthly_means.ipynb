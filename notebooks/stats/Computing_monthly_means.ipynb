{
 "cells": [
  {
   "cell_type": "markdown",
   "metadata": {},
   "source": [
    "# Compute monthly means and store to file\n",
    "## Force a 50\\% data basis to compute a mean value"
   ]
  },
  {
   "cell_type": "code",
   "execution_count": 1,
   "metadata": {},
   "outputs": [
    {
     "name": "stdout",
     "output_type": "stream",
     "text": [
      "Warning.. Using pgf backend, no GUI available. use plt.savefig() for inpection\n"
     ]
    }
   ],
   "source": [
    "import os\n",
    "import glob \n",
    "\n",
    "import numpy as np\n",
    "import xarray as xr\n",
    "\n",
    "from sclouds.helpers   import path_input, VARIABLES\n",
    "from sclouds.io.filter import Filter\n",
    "\n",
    "%matplotlib inline"
   ]
  },
  {
   "cell_type": "code",
   "execution_count": 2,
   "metadata": {},
   "outputs": [],
   "source": [
    "def get_all_filesnames_from_one_variable(var):\n",
    "    \"\"\"Get all filenames from one variable.\"\"\"\n",
    "    return glob.glob(os.path.join(path_input, '*{}*.nc'.format(var)))"
   ]
  },
  {
   "cell_type": "code",
   "execution_count": 3,
   "metadata": {},
   "outputs": [],
   "source": [
    "t2m_files = get_all_filesnames_from_one_variable('t2m')"
   ]
  },
  {
   "cell_type": "code",
   "execution_count": 4,
   "metadata": {},
   "outputs": [
    {
     "data": {
      "text/plain": [
       "['/home/hanna/lagrings/ERA5_monthly/2012_01_t2m.nc',\n",
       " '/home/hanna/lagrings/ERA5_monthly/2013_01_t2m.nc']"
      ]
     },
     "execution_count": 4,
     "metadata": {},
     "output_type": "execute_result"
    }
   ],
   "source": [
    "t2m_files[:2]"
   ]
  },
  {
   "cell_type": "code",
   "execution_count": 5,
   "metadata": {},
   "outputs": [],
   "source": [
    "def get_date_and_mean_from_one_filename(absolute_path = '/home/hanna/lagrings/ERA5_monthly/2012_01_t2m.nc'):\n",
    "    \"\"\" Computes the mean over the entire domain, only land and only sea\n",
    "    \n",
    "    Parameteres\n",
    "    ----------------\n",
    "    absolute_path : str\n",
    "        The absolute path of the file.\n",
    "        \n",
    "    Returns \n",
    "    ----------------\n",
    "    date : np.datetime64\n",
    "        Date of this monthly average\n",
    "    mean_all : float\n",
    "        Mean over entire domain\n",
    "    mean_land : float\n",
    "        Mean over land\n",
    "    mean_sea : float\n",
    "        mean over sea\n",
    "    \"\"\"\n",
    "    basename = os.path.basename(absolute_path)\n",
    "    date     = np.datetime64('{}-{}'.format( basename[:4], basename[5:7]))\n",
    "    var      = basename[8:].split('.')[0]\n",
    "    # Generating all the data and filters. \n",
    "    try:\n",
    "        data     = xr.open_dataset(absolute_path) # read the data\n",
    "        f_land   = Filter('land').set_data(data = data, variable = var)\n",
    "        f_sea    = Filter('sea').set_data(data = data, variable = var)\n",
    "\n",
    "        mean_all  = data.mean()[var].values\n",
    "        mean_land = f_land.get_mean()\n",
    "        mean_sea  = f_sea.get_mean()\n",
    "        return date, mean_all, mean_land, mean_sea\n",
    "    except OSError:\n",
    "        print(\"Didn't find file ... {}\".format(absolute_path))\n",
    "        return date, np.nan, np.nan, np.nan"
   ]
  },
  {
   "cell_type": "code",
   "execution_count": 6,
   "metadata": {},
   "outputs": [],
   "source": [
    "a,b,c,d = get_date_and_mean_from_one_filename(absolute_path = '/home/hanna/lagrings/ERA5_monthly/2012_01_t2m.nc')"
   ]
  },
  {
   "cell_type": "code",
   "execution_count": 7,
   "metadata": {},
   "outputs": [
    {
     "data": {
      "text/plain": [
       "(numpy.datetime64('2012-01'),\n",
       " array(281.70844, dtype=float32),\n",
       " 278.0635536854276,\n",
       " 285.9598052625023)"
      ]
     },
     "execution_count": 7,
     "metadata": {},
     "output_type": "execute_result"
    }
   ],
   "source": [
    "a,b,c,d"
   ]
  },
  {
   "cell_type": "code",
   "execution_count": 8,
   "metadata": {},
   "outputs": [],
   "source": [
    "storage = {}"
   ]
  },
  {
   "cell_type": "code",
   "execution_count": 9,
   "metadata": {},
   "outputs": [
    {
     "data": {
      "text/plain": [
       "['t2m', 'sp', 'q', 'r', 'tcc']"
      ]
     },
     "execution_count": 9,
     "metadata": {},
     "output_type": "execute_result"
    }
   ],
   "source": [
    "VARIABLES"
   ]
  },
  {
   "cell_type": "code",
   "execution_count": null,
   "metadata": {},
   "outputs": [
    {
     "name": "stdout",
     "output_type": "stream",
     "text": [
      "Number 0. Var t2m \n"
     ]
    }
   ],
   "source": [
    "for var in VARIABLES: # VARIABLES[:-1]\n",
    "    \n",
    "    alls  = []\n",
    "    dates = []\n",
    "    lands = []\n",
    "    seas  = []\n",
    "    \n",
    "    files = get_all_filesnames_from_one_variable(var)\n",
    "    for i, fil in enumerate(np.sort(files)):\n",
    "        d, region, land, sea = get_date_and_mean_from_one_filename(fil)\n",
    "        \n",
    "        dates.append(d)\n",
    "        alls.append(region)\n",
    "        lands.append(land)\n",
    "        seas.append(sea)\n",
    "        \n",
    "        if i%10 == 0:\n",
    "            print('Number {}. Var {} '.format(i, var))\n",
    "    \n",
    "    storage[var] = alls\n",
    "    storage['land_{}'.format(var)] = lands\n",
    "    storage['sea_{}'.format(var)] = seas\n",
    "    storage['date_{}'.format(var)] = dates # just to check that they are equal\n"
   ]
  },
  {
   "cell_type": "code",
   "execution_count": null,
   "metadata": {},
   "outputs": [],
   "source": [
    "data = xr.Dataset(storage)\n",
    "data.to_netcdf('/home/hanna/lagrings/results/stats/monthly_mean/monthly_means.nc')"
   ]
  },
  {
   "cell_type": "code",
   "execution_count": null,
   "metadata": {},
   "outputs": [],
   "source": [
    "data "
   ]
  },
  {
   "cell_type": "code",
   "execution_count": null,
   "metadata": {},
   "outputs": [],
   "source": []
  },
  {
   "cell_type": "code",
   "execution_count": null,
   "metadata": {},
   "outputs": [],
   "source": []
  },
  {
   "cell_type": "code",
   "execution_count": null,
   "metadata": {},
   "outputs": [],
   "source": []
  },
  {
   "cell_type": "code",
   "execution_count": null,
   "metadata": {},
   "outputs": [],
   "source": []
  }
 ],
 "metadata": {
  "kernelspec": {
   "display_name": "Python 3",
   "language": "python",
   "name": "python3"
  },
  "language_info": {
   "codemirror_mode": {
    "name": "ipython",
    "version": 3
   },
   "file_extension": ".py",
   "mimetype": "text/x-python",
   "name": "python",
   "nbconvert_exporter": "python",
   "pygments_lexer": "ipython3",
   "version": "3.7.6"
  }
 },
 "nbformat": 4,
 "nbformat_minor": 4
}
