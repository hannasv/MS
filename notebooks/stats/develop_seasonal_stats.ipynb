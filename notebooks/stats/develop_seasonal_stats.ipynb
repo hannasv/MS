{
 "cells": [
  {
   "cell_type": "code",
   "execution_count": 16,
   "metadata": {},
   "outputs": [
    {
     "name": "stderr",
     "output_type": "stream",
     "text": [
      "/home/hanna/anaconda3/envs/final/lib/python3.7/site-packages/ipykernel_launcher.py:9: FutureWarning: In xarray version 0.15 the default behaviour of `open_mfdataset`\n",
      "will change. To retain the existing behavior, pass\n",
      "combine='nested'. To use future default behavior, pass\n",
      "combine='by_coords'. See\n",
      "http://xarray.pydata.org/en/stable/combining.html#combining-multi\n",
      "\n",
      "  if __name__ == '__main__':\n",
      "/home/hanna/anaconda3/envs/final/lib/python3.7/site-packages/xarray/backends/api.py:941: FutureWarning: The datasets supplied have global dimension coordinates. You may want\n",
      "to use the new `combine_by_coords` function (or the\n",
      "`combine='by_coords'` option to `open_mfdataset`) to order the datasets\n",
      "before concatenation. Alternatively, to continue concatenating based\n",
      "on the order the datasets are supplied in future, please use the new\n",
      "`combine_nested` function (or the `combine='nested'` option to\n",
      "open_mfdataset).The datasets supplied require both concatenation and merging. From\n",
      "xarray version 0.15 this will operation will require either using the\n",
      "new `combine_nested` function (or the `combine='nested'` option to\n",
      "open_mfdataset), with a nested list structure such that you can combine\n",
      "along the dimensions None. Alternatively if your datasets have global\n",
      "dimension coordinates then you can use the new `combine_by_coords`\n",
      "function.\n",
      "  from_openmfds=True,\n"
     ]
    }
   ],
   "source": [
    "path_input = '/home/hanna/lagrings/ERA5_monthly/'\n",
    "import numpy as np\n",
    "import glob\n",
    "import xarray as xr\n",
    "import os\n",
    "\n",
    "files1 = glob.glob(os.path.join(path_input, '2012_02*.nc'))\n",
    "files = glob.glob(os.path.join(path_input, '2012_07*.nc'))\n",
    "data = xr.open_mfdataset(files1+files, compat='no_conflicts', join='outer')\n",
    "ds = data.groupby('time.season').mean('time')"
   ]
  },
  {
   "cell_type": "code",
   "execution_count": 19,
   "metadata": {},
   "outputs": [
    {
     "name": "stdout",
     "output_type": "stream",
     "text": [
      "<xarray.Dataset>\n",
      "Dimensions:        (latitude: 81, longitude: 161)\n",
      "Coordinates:\n",
      "    step           timedelta64[ns] 00:00:00\n",
      "    isobaricInhPa  int64 1000\n",
      "    surface        int64 0\n",
      "    number         int64 0\n",
      "  * longitude      (longitude) float64 -15.0 -14.75 -14.5 ... 24.5 24.75 25.0\n",
      "  * latitude       (latitude) float64 30.0 30.25 30.5 30.75 ... 49.5 49.75 50.0\n",
      "    season         <U3 'DJF'\n",
      "Data variables:\n",
      "    tcc            (latitude, longitude) float64 dask.array<chunksize=(81, 161), meta=np.ndarray>\n",
      "    nr_nans        (latitude, longitude) float64 dask.array<chunksize=(81, 161), meta=np.ndarray>\n",
      "    q              (latitude, longitude) float32 dask.array<chunksize=(81, 161), meta=np.ndarray>\n",
      "    r              (latitude, longitude) float32 dask.array<chunksize=(81, 161), meta=np.ndarray>\n",
      "    sp             (latitude, longitude) float32 dask.array<chunksize=(81, 161), meta=np.ndarray>\n",
      "    t2m            (latitude, longitude) float32 dask.array<chunksize=(81, 161), meta=np.ndarray>\n",
      "<xarray.Dataset>\n",
      "Dimensions:        (latitude: 81, longitude: 161)\n",
      "Coordinates:\n",
      "    step           timedelta64[ns] 00:00:00\n",
      "    isobaricInhPa  int64 1000\n",
      "    surface        int64 0\n",
      "    number         int64 0\n",
      "  * longitude      (longitude) float64 -15.0 -14.75 -14.5 ... 24.5 24.75 25.0\n",
      "  * latitude       (latitude) float64 30.0 30.25 30.5 30.75 ... 49.5 49.75 50.0\n",
      "    season         <U3 'JJA'\n",
      "Data variables:\n",
      "    tcc            (latitude, longitude) float64 dask.array<chunksize=(81, 161), meta=np.ndarray>\n",
      "    nr_nans        (latitude, longitude) float64 dask.array<chunksize=(81, 161), meta=np.ndarray>\n",
      "    q              (latitude, longitude) float32 dask.array<chunksize=(81, 161), meta=np.ndarray>\n",
      "    r              (latitude, longitude) float32 dask.array<chunksize=(81, 161), meta=np.ndarray>\n",
      "    sp             (latitude, longitude) float32 dask.array<chunksize=(81, 161), meta=np.ndarray>\n",
      "    t2m            (latitude, longitude) float32 dask.array<chunksize=(81, 161), meta=np.ndarray>\n"
     ]
    }
   ],
   "source": [
    "for i, season in enumerate(('DJF', 'JJA')): # 'MAM', , 'SON'\n",
    "    print(ds.sel(season = season))"
   ]
  },
  {
   "cell_type": "code",
   "execution_count": null,
   "metadata": {},
   "outputs": [],
   "source": []
  },
  {
   "cell_type": "code",
   "execution_count": null,
   "metadata": {},
   "outputs": [],
   "source": []
  },
  {
   "cell_type": "code",
   "execution_count": null,
   "metadata": {},
   "outputs": [],
   "source": []
  },
  {
   "cell_type": "code",
   "execution_count": null,
   "metadata": {},
   "outputs": [],
   "source": []
  },
  {
   "cell_type": "code",
   "execution_count": null,
   "metadata": {},
   "outputs": [],
   "source": []
  },
  {
   "cell_type": "code",
   "execution_count": null,
   "metadata": {},
   "outputs": [],
   "source": []
  },
  {
   "cell_type": "code",
   "execution_count": null,
   "metadata": {},
   "outputs": [],
   "source": []
  }
 ],
 "metadata": {
  "kernelspec": {
   "display_name": "Python 3",
   "language": "python",
   "name": "python3"
  },
  "language_info": {
   "codemirror_mode": {
    "name": "ipython",
    "version": 3
   },
   "file_extension": ".py",
   "mimetype": "text/x-python",
   "name": "python",
   "nbconvert_exporter": "python",
   "pygments_lexer": "ipython3",
   "version": "3.7.6"
  }
 },
 "nbformat": 4,
 "nbformat_minor": 4
}
