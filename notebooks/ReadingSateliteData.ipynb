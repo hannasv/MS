{
 "cells": [
  {
   "cell_type": "markdown",
   "metadata": {
    "extensions": {
     "jupyter_dashboards": {
      "version": 1,
      "views": {
       "grid_default": {
        "col": 0,
        "height": 4,
        "hidden": false,
        "row": 0,
        "width": 4
       },
       "report_default": {}
      }
     }
    }
   },
   "source": [
    "## Crop/select aera and calculate cloud fraction should be done in the same period."
   ]
  },
  {
   "cell_type": "code",
   "execution_count": 164,
   "metadata": {
    "extensions": {
     "jupyter_dashboards": {
      "version": 1,
      "views": {
       "grid_default": {
        "hidden": true
       },
       "report_default": {}
      }
     }
    }
   },
   "outputs": [],
   "source": [
    "import glob\n",
    "import numpy as np\n",
    "import matplotlib.pyplot as plt\n",
    "import xarray as xr\n",
    "%matplotlib inline\n",
    "import datetime\n",
    "from netCDF4 import Dataset # used for the netcdf files which contain lat, lon.\n",
    "import seaborn as sns"
   ]
  },
  {
   "cell_type": "code",
   "execution_count": 165,
   "metadata": {
    "extensions": {
     "jupyter_dashboards": {
      "version": 1,
      "views": {
       "grid_default": {
        "hidden": true
       },
       "report_default": {}
      }
     }
    }
   },
   "outputs": [],
   "source": [
    "path = '//uio/lagringshotell/geofag/students/metos/hannasv/satelite_data_raw/'\n",
    "path_era = '//uio/lagringshotell/geofag/students/metos/hannasv/era_interim_data/'"
   ]
  },
  {
   "cell_type": "code",
   "execution_count": 175,
   "metadata": {
    "extensions": {
     "jupyter_dashboards": {
      "version": 1,
      "views": {
       "grid_default": {
        "hidden": true
       },
       "report_default": {}
      }
     }
    }
   },
   "outputs": [],
   "source": [
    "#path = '/home/hanna/Desktop/master_thesis/meteosat0/'\n",
    "#era_path = '/home/hanna/Desktop/master_thesis/era/'\n",
    "grb_files = glob.glob(path+\"*.grb\")\n",
    "era = glob.glob(path_era+\"*q.nc\")"
   ]
  },
  {
   "cell_type": "code",
   "execution_count": 176,
   "metadata": {},
   "outputs": [
    {
     "data": {
      "text/plain": [
       "['//uio/lagringshotell/geofag/students/metos/hannasv/era_interim_data/gridarea_q.nc']"
      ]
     },
     "execution_count": 176,
     "metadata": {},
     "output_type": "execute_result"
    }
   ],
   "source": [
    "era"
   ]
  },
  {
   "cell_type": "code",
   "execution_count": 177,
   "metadata": {
    "extensions": {
     "jupyter_dashboards": {
      "version": 1,
      "views": {
       "grid_default": {
        "hidden": true
       },
       "report_default": {}
      }
     }
    }
   },
   "outputs": [
    {
     "data": {
      "text/plain": [
       "16474"
      ]
     },
     "execution_count": 177,
     "metadata": {},
     "output_type": "execute_result"
    }
   ],
   "source": [
    "len(grb_files)"
   ]
  },
  {
   "cell_type": "code",
   "execution_count": 178,
   "metadata": {},
   "outputs": [],
   "source": [
    "grb_file = grb_files[0]"
   ]
  },
  {
   "cell_type": "code",
   "execution_count": 179,
   "metadata": {},
   "outputs": [],
   "source": [
    "era_file = era[0]"
   ]
  },
  {
   "cell_type": "code",
   "execution_count": 180,
   "metadata": {},
   "outputs": [
    {
     "data": {
      "text/plain": [
       "'//uio/lagringshotell/geofag/students/metos/hannasv/era_interim_data/gridarea_q.nc'"
      ]
     },
     "execution_count": 180,
     "metadata": {},
     "output_type": "execute_result"
    }
   ],
   "source": [
    "era_file"
   ]
  },
  {
   "cell_type": "code",
   "execution_count": 181,
   "metadata": {
    "extensions": {
     "jupyter_dashboards": {
      "version": 1,
      "views": {
       "grid_default": {
        "hidden": true
       },
       "report_default": {}
      }
     }
    }
   },
   "outputs": [
    {
     "data": {
      "text/plain": [
       "'//uio/lagringshotell/geofag/students/metos/hannasv/satelite_data_raw/MSG3-SEVI-MSGCLMK-0100-0100-20131013120000X20131013121500.000000000Z-20131013122758-1340656.grb'"
      ]
     },
     "execution_count": 181,
     "metadata": {},
     "output_type": "execute_result"
    }
   ],
   "source": [
    "grb_file"
   ]
  },
  {
   "cell_type": "code",
   "execution_count": 7,
   "metadata": {
    "extensions": {
     "jupyter_dashboards": {
      "version": 1,
      "views": {
       "grid_default": {
        "hidden": true
       },
       "report_default": {}
      }
     }
    }
   },
   "outputs": [],
   "source": [
    "def timestamp(filename):\n",
    "    \"\"\"\n",
    "    Returns the np.datetime64 [ns] for the current date.\n",
    "    \"\"\"\n",
    "    splits = filename.split('-')\n",
    "    print(splits)\n",
    "    ts = splits[5]\n",
    "    year = ts[:4]\n",
    "    month = ts[4:6]\n",
    "    day = ts[6:8]\n",
    "    hr = ts[8:10]\n",
    "    minuts = ts[10:12]\n",
    "    sek = ts[12:14]\n",
    "    return np.datetime64( year+\"-\"+month+\"-\"+day+\"T\"+hr+\":\"+minuts+\":\"+sek )"
   ]
  },
  {
   "cell_type": "markdown",
   "metadata": {
    "collapsed": true,
    "extensions": {
     "jupyter_dashboards": {
      "version": 1,
      "views": {
       "grid_default": {
        "col": 0,
        "height": 4,
        "hidden": false,
        "row": 15,
        "width": 12
       },
       "report_default": {}
      }
     }
    }
   },
   "source": [
    "## Retrieving coordinates from nc file. \n",
    "### Notes a nc is 10 times as large as a grib file that is why we only have one of them"
   ]
  },
  {
   "cell_type": "code",
   "execution_count": 8,
   "metadata": {},
   "outputs": [],
   "source": [
    "import os"
   ]
  },
  {
   "cell_type": "code",
   "execution_count": 11,
   "metadata": {},
   "outputs": [
    {
     "data": {
      "text/plain": [
       "['/uio/lagringshotell/geofag/students/metos/hannasv/satelite_coordinates/W_XX-EUMETSAT-Darmstadt,SING+LEV+SAT,MSG4+CLM_C_EUMG_20190613053000.nc']"
      ]
     },
     "execution_count": 11,
     "metadata": {},
     "output_type": "execute_result"
    }
   ],
   "source": [
    "nc_files"
   ]
  },
  {
   "cell_type": "code",
   "execution_count": 12,
   "metadata": {
    "extensions": {
     "jupyter_dashboards": {
      "version": 1,
      "views": {
       "grid_default": {
        "col": 0,
        "height": 14,
        "hidden": false,
        "row": 19,
        "width": 4
       },
       "report_default": {}
      }
     }
    }
   },
   "outputs": [],
   "source": [
    "nc_file = nc_files[0]"
   ]
  },
  {
   "cell_type": "code",
   "execution_count": 13,
   "metadata": {
    "extensions": {
     "jupyter_dashboards": {
      "version": 1,
      "views": {
       "grid_default": {
        "hidden": true
       },
       "report_default": {}
      }
     }
    }
   },
   "outputs": [],
   "source": [
    "data = xr.open_dataset(grb_file, engine=\"pynio\")"
   ]
  },
  {
   "cell_type": "code",
   "execution_count": 182,
   "metadata": {},
   "outputs": [],
   "source": [
    "era = xr.open_dataset(era_file)"
   ]
  },
  {
   "cell_type": "code",
   "execution_count": 185,
   "metadata": {},
   "outputs": [
    {
     "data": {
      "text/plain": [
       "array([[1.80000805e+09, 1.80000805e+09, 1.80000805e+09, ...,\n",
       "        1.80000805e+09, 1.80000805e+09, 1.80000805e+09],\n",
       "       [1.88778663e+09, 1.88778663e+09, 1.88778663e+09, ...,\n",
       "        1.88778663e+09, 1.88778663e+09, 1.88778663e+09],\n",
       "       [1.97524183e+09, 1.97524183e+09, 1.97524183e+09, ...,\n",
       "        1.97524183e+09, 1.97524183e+09, 1.97524183e+09],\n",
       "       ...,\n",
       "       [5.93002167e+09, 5.93002167e+09, 5.93002167e+09, ...,\n",
       "        5.93002167e+09, 5.93002167e+09, 5.93002167e+09],\n",
       "       [5.97708317e+09, 5.97708317e+09, 5.97708317e+09, ...,\n",
       "        5.97708317e+09, 5.97708317e+09, 5.97708317e+09],\n",
       "       [6.02312052e+09, 6.02312052e+09, 6.02312052e+09, ...,\n",
       "        6.02312052e+09, 6.02312052e+09, 6.02312052e+09]])"
      ]
     },
     "execution_count": 185,
     "metadata": {},
     "output_type": "execute_result"
    }
   ],
   "source": [
    "era.cell_area.values"
   ]
  },
  {
   "cell_type": "code",
   "execution_count": 14,
   "metadata": {},
   "outputs": [
    {
     "name": "stdout",
     "output_type": "stream",
     "text": [
      "['//uio/lagringshotell/geofag/students/metos/hannasv/satelite_data_raw/MSG3', 'SEVI', 'MSGCLMK', '0100', '0100', '20131013120000X20131013121500.000000000Z', '20131013122758', '1340656.grb']\n"
     ]
    }
   ],
   "source": [
    "ts = timestamp(grb_file)\n",
    "data['time'] = ts"
   ]
  },
  {
   "cell_type": "code",
   "execution_count": 15,
   "metadata": {},
   "outputs": [],
   "source": [
    "# Add time as a coordinate and dimension. \n",
    "data = data.assign_coords(time = data.time)"
   ]
  },
  {
   "cell_type": "code",
   "execution_count": 16,
   "metadata": {
    "extensions": {
     "jupyter_dashboards": {
      "version": 1,
      "views": {
       "grid_default": {
        "col": 4,
        "height": 11,
        "hidden": false,
        "row": 19,
        "width": 4
       },
       "report_default": {}
      }
     }
    }
   },
   "outputs": [
    {
     "data": {
      "text/plain": [
       "array([[3., 3., 3., ..., 3., 3., 3.],\n",
       "       [3., 3., 3., ..., 3., 3., 3.],\n",
       "       [3., 3., 3., ..., 3., 3., 3.],\n",
       "       ...,\n",
       "       [3., 3., 3., ..., 3., 3., 3.],\n",
       "       [3., 3., 3., ..., 3., 3., 3.],\n",
       "       [3., 3., 3., ..., 3., 3., 3.]], dtype=float32)"
      ]
     },
     "execution_count": 16,
     "metadata": {},
     "output_type": "execute_result"
    }
   ],
   "source": [
    "data['CLOUDM_P30_GSV0_I207'].values"
   ]
  },
  {
   "cell_type": "code",
   "execution_count": 17,
   "metadata": {},
   "outputs": [
    {
     "data": {
      "text/plain": [
       "<matplotlib.axes._subplots.AxesSubplot at 0x7ff5e84b34d0>"
      ]
     },
     "execution_count": 17,
     "metadata": {},
     "output_type": "execute_result"
    },
    {
     "data": {
      "image/png": "[encoded data removed]",
      "text/plain": [
       "<Figure size 432x288 with 2 Axes>"
      ]
     },
     "metadata": {
      "needs_background": "light"
     },
     "output_type": "display_data"
    }
   ],
   "source": [
    "sns.heatmap(data['CLOUDM_P30_GSV0_I207'].values)"
   ]
  },
  {
   "cell_type": "code",
   "execution_count": 18,
   "metadata": {
    "extensions": {
     "jupyter_dashboards": {
      "version": 1,
      "views": {
       "grid_default": {
        "hidden": true
       },
       "report_default": {}
      }
     }
    }
   },
   "outputs": [],
   "source": [
    "# 3 -off earth disk\n",
    "# 2 - cloud\n",
    "# 1 - not cloud over ocean and 0 not cloud over land"
   ]
  },
  {
   "cell_type": "code",
   "execution_count": null,
   "metadata": {
    "extensions": {
     "jupyter_dashboards": {
      "version": 1,
      "views": {
       "grid_default": {
        "hidden": true
       },
       "report_default": {}
      }
     }
    }
   },
   "outputs": [],
   "source": []
  },
  {
   "cell_type": "code",
   "execution_count": 19,
   "metadata": {
    "extensions": {
     "jupyter_dashboards": {
      "version": 1,
      "views": {
       "grid_default": {
        "col": 8,
        "height": 4,
        "hidden": false,
        "row": 8,
        "width": 4
       },
       "report_default": {}
      }
     }
    }
   },
   "outputs": [],
   "source": [
    "def fix_one_sat_file(filename):\n",
    "    \"\"\"\n",
    "    filename : str\n",
    "        full absoulute path to file.\n",
    "    \n",
    "    This reads a raw satelite file.\n",
    "    Add time, longitude, latitude.\n",
    "    \"\"\"\n",
    "    data = xr.open_dataset(filename, engine=\"pynio\")\n",
    "\n",
    "    ts = timestamp(filename)\n",
    "    data['time'] = ts\n",
    "    \n",
    "    # Add time as a coordinate and dimension. \n",
    "    data = data.assign_coords(time = data.time)\n",
    "    data = data.expand_dims(dim = 'time')\n",
    "        \n",
    "    # Rename dimenstions and coordinates \n",
    "    data = data.rename(name_dict={'xgrid_0': 'longitude', \n",
    "                                  'ygrid_0':'latitude', \n",
    "                                  'CLOUDM_P30_GSV0_I207':'tcc'}, inplace=True)\n",
    "    # crop to correct region \n",
    "    # data = data.sel(latitude = slice(30,60))\n",
    "    # data = data.sel(longitude = slice(-15, 42))\n",
    "\n",
    "    tcc, counting = calc_all(data.tcc.values)\n",
    "    \n",
    "    data['tcc'].values = tcc\n",
    "    data['xgrid_0'] = np.arange(-15, 42+0.75, 0.75)\n",
    "    data['ygrid_0'] = np.arange(30, 60+0.75, 0.75)\n",
    "    \n",
    "    return data"
   ]
  },
  {
   "cell_type": "code",
   "execution_count": 20,
   "metadata": {},
   "outputs": [],
   "source": [
    "rootgrp = Dataset(nc_file, \"r\", format=\"NETCDF4\")\n",
    "cloud_mask_array = rootgrp.variables[\"cloudMask\"][:].data\n",
    "lat_array = rootgrp.variables[\"lat\"][:].data\n",
    "lon_array = rootgrp.variables[\"lon\"][:].data\n",
    "lat_array[lat_array < -99] = np.nan \n",
    "lon_array[lon_array < -99] = np.nan"
   ]
  },
  {
   "cell_type": "markdown",
   "metadata": {},
   "source": [
    "# Compute the d phi and theta"
   ]
  },
  {
   "cell_type": "code",
   "execution_count": 70,
   "metadata": {},
   "outputs": [],
   "source": [
    "d_theta = (lat_array[:, 1:].transpose() - lat_array[:, :-1].transpose() ).transpose() # pad with zeros\n",
    "d_phi = lon_array[1:] - lon_array[:-1]\n",
    "pad = np.ones((1, 3712))*np.nan\n",
    "d_phi = np.concatenate((pad, d_phi), axis = 0)/2\n",
    "d_theta = np.concatenate((pad.transpose(), d_theta), axis = 1)/2"
   ]
  },
  {
   "cell_type": "code",
   "execution_count": 108,
   "metadata": {},
   "outputs": [
    {
     "data": {
      "image/png": "[encoded data removed]",
      "text/plain": [
       "<Figure size 432x288 with 2 Axes>"
      ]
     },
     "metadata": {
      "needs_background": "light"
     },
     "output_type": "display_data"
    }
   ],
   "source": [
    "sns.heatmap(d_phi, vmin = 0.0, vmax = 0.5)\n",
    "plt.show()"
   ]
  },
  {
   "cell_type": "code",
   "execution_count": 111,
   "metadata": {},
   "outputs": [
    {
     "data": {
      "text/plain": [
       "(0.0, 2.6407432556152344)"
      ]
     },
     "execution_count": 111,
     "metadata": {},
     "output_type": "execute_result"
    }
   ],
   "source": [
    "np.nanmin(np.abs(d_phi)), np.nanmax(d_phi)"
   ]
  },
  {
   "cell_type": "code",
   "execution_count": 119,
   "metadata": {},
   "outputs": [],
   "source": [
    "def area_grid_cell(c_lon, c_lat, d_lat, d_lon):\n",
    "    \"\"\"\n",
    "    c_lon, c_lat : float\n",
    "        Centre point longitude, latitude in degrees\n",
    "    d_lat, d_lon : float\n",
    "        delta lat lon in degrees\n",
    "        \n",
    "    returns \n",
    "    \n",
    "    area in km^2\n",
    "    \"\"\"   \n",
    "    R = 6371  # in km\n",
    "    area = R**2*( np.sin( (c_lat + d_lat)*np.pi/180 ) - np.sin( (c_lat - d_lat)*np.pi/180 )*(d_lon*np.pi/180 ) )\n",
    "    return area"
   ]
  },
  {
   "cell_type": "code",
   "execution_count": 123,
   "metadata": {},
   "outputs": [],
   "source": [
    "area = area_grid_cell(lon_array, lat_array, d_theta, d_phi)"
   ]
  },
  {
   "cell_type": "code",
   "execution_count": 162,
   "metadata": {},
   "outputs": [],
   "source": [
    "ex = area_grid_cell(75, 42, 0.75, 0.75)"
   ]
  },
  {
   "cell_type": "code",
   "execution_count": 163,
   "metadata": {},
   "outputs": [
    {
     "data": {
      "text/plain": [
       "27201956.826938473"
      ]
     },
     "execution_count": 163,
     "metadata": {},
     "output_type": "execute_result"
    }
   ],
   "source": [
    "ex"
   ]
  },
  {
   "cell_type": "code",
   "execution_count": 131,
   "metadata": {
    "scrolled": true
   },
   "outputs": [
    {
     "data": {
      "image/png": "[encoded data removed]",
      "text/plain": [
       "<Figure size 432x288 with 2 Axes>"
      ]
     },
     "metadata": {
      "needs_background": "light"
     },
     "output_type": "display_data"
    }
   ],
   "source": [
    "for_plotting = np.abs(area[1500:1600, 500:600])\n",
    "ax = sns.heatmap(data = for_plotting)#\n",
    "plt.show()"
   ]
  },
  {
   "cell_type": "code",
   "execution_count": 139,
   "metadata": {},
   "outputs": [
    {
     "data": {
      "image/png": "[encoded data removed]",
      "text/plain": [
       "<Figure size 432x288 with 2 Axes>"
      ]
     },
     "metadata": {
      "needs_background": "light"
     },
     "output_type": "display_data"
    }
   ],
   "source": [
    "for_plotting = np.abs(d_theta)\n",
    "ax = sns.heatmap(data = for_plotting)#\n",
    "plt.show()"
   ]
  },
  {
   "cell_type": "code",
   "execution_count": 140,
   "metadata": {},
   "outputs": [
    {
     "data": {
      "image/png": "[encoded data removed]",
      "text/plain": [
       "<Figure size 432x288 with 2 Axes>"
      ]
     },
     "metadata": {
      "needs_background": "light"
     },
     "output_type": "display_data"
    }
   ],
   "source": [
    "for_plotting = np.abs(d_phi)\n",
    "ax = sns.heatmap(data = for_plotting)#\n",
    "plt.show()"
   ]
  },
  {
   "cell_type": "code",
   "execution_count": 134,
   "metadata": {},
   "outputs": [
    {
     "data": {
      "image/png": "[encoded data removed]",
      "text/plain": [
       "<Figure size 432x288 with 2 Axes>"
      ]
     },
     "metadata": {
      "needs_background": "light"
     },
     "output_type": "display_data"
    }
   ],
   "source": [
    "for_plotting = np.abs(lat_array)\n",
    "ax = sns.heatmap(data = for_plotting)#\n",
    "plt.show()"
   ]
  },
  {
   "cell_type": "code",
   "execution_count": 135,
   "metadata": {},
   "outputs": [
    {
     "data": {
      "image/png": "[encoded data removed]",
      "text/plain": [
       "<Figure size 432x288 with 2 Axes>"
      ]
     },
     "metadata": {
      "needs_background": "light"
     },
     "output_type": "display_data"
    }
   ],
   "source": [
    "for_plotting = np.abs(lon_array)\n",
    "ax = sns.heatmap(data = for_plotting)#\n",
    "plt.show()"
   ]
  },
  {
   "cell_type": "code",
   "execution_count": 136,
   "metadata": {},
   "outputs": [
    {
     "data": {
      "image/png": "[encoded data removed]",
      "text/plain": [
       "<Figure size 432x288 with 2 Axes>"
      ]
     },
     "metadata": {
      "needs_background": "light"
     },
     "output_type": "display_data"
    }
   ],
   "source": [
    "for_plotting = np.abs(lat_array.transpose())\n",
    "ax = sns.heatmap(data = for_plotting)#\n",
    "plt.show()"
   ]
  },
  {
   "cell_type": "markdown",
   "metadata": {},
   "source": [
    "# Comparing to ERA cdo gridarea calculated area "
   ]
  },
  {
   "cell_type": "code",
   "execution_count": 186,
   "metadata": {},
   "outputs": [],
   "source": [
    "true = era.cell_area.values"
   ]
  },
  {
   "cell_type": "code",
   "execution_count": 194,
   "metadata": {},
   "outputs": [
    {
     "data": {
      "image/png": "[encoded data removed]",
      "text/plain": [
       "<Figure size 432x288 with 2 Axes>"
      ]
     },
     "metadata": {
      "needs_background": "light"
     },
     "output_type": "display_data"
    }
   ],
   "source": [
    "ax = sns.heatmap(data = true)#\n",
    "plt.show()"
   ]
  },
  {
   "cell_type": "code",
   "execution_count": 212,
   "metadata": {},
   "outputs": [],
   "source": [
    "def area_grid_cell(c_lat, d_lat, d_lon):\n",
    "    \"\"\"\n",
    "    c_lon, c_lat : float\n",
    "        Centre point longitude, latitude in degrees\n",
    "    d_lat, d_lon : float\n",
    "        delta lat lon in degrees\n",
    "        \n",
    "    returns \n",
    "    \n",
    "    area in km^2\n",
    "    \"\"\"   \n",
    "    R = 6371000  # in km\n",
    "    # When comparing : cdo gridarea gridarea: 'Writes the grid cell area to the output stream. \n",
    "    # If the grid cell area have to be computed it is scaled with the earth radius to square meters.'\n",
    "    area = R**2*( np.sin( (c_lat + d_lat/2)*np.pi/180 ) - np.sin( (c_lat - d_lat/2)*np.pi/180 ) )*(d_lon*np.pi/180 ) \n",
    "    return area/R"
   ]
  },
  {
   "cell_type": "code",
   "execution_count": 210,
   "metadata": {},
   "outputs": [
    {
     "data": {
      "text/plain": [
       "array([75.  , 74.25, 73.5 , 72.75, 72.  , 71.25, 70.5 , 69.75, 69.  ,\n",
       "       68.25, 67.5 , 66.75, 66.  , 65.25, 64.5 , 63.75, 63.  , 62.25,\n",
       "       61.5 , 60.75, 60.  , 59.25, 58.5 , 57.75, 57.  , 56.25, 55.5 ,\n",
       "       54.75, 54.  , 53.25, 52.5 , 51.75, 51.  , 50.25, 49.5 , 48.75,\n",
       "       48.  , 47.25, 46.5 , 45.75, 45.  , 44.25, 43.5 , 42.75, 42.  ,\n",
       "       41.25, 40.5 , 39.75, 39.  , 38.25, 37.5 , 36.75, 36.  , 35.25,\n",
       "       34.5 , 33.75, 33.  , 32.25, 31.5 , 30.75, 30.  ], dtype=float32)"
      ]
     },
     "execution_count": 210,
     "metadata": {},
     "output_type": "execute_result"
    }
   ],
   "source": [
    "era.latitude.values"
   ]
  },
  {
   "cell_type": "code",
   "execution_count": 213,
   "metadata": {},
   "outputs": [],
   "source": [
    "calc = area_grid_cell(era.latitude.values, 0.75, 0.75)"
   ]
  },
  {
   "cell_type": "code",
   "execution_count": 214,
   "metadata": {},
   "outputs": [
    {
     "data": {
      "text/plain": [
       "array([282.54030483, 296.31439323, 310.04374443, 323.71841682,\n",
       "       337.3384104 , 350.89875437, 364.39944874, 377.8355227 ,\n",
       "       391.21194706, 404.5138094 , 417.75602214, 430.91870207,\n",
       "       444.01179079, 457.03031751, 469.96931141, 482.8188309 ,\n",
       "       495.59875919, 508.28921306, 520.88522173, 533.40169758,\n",
       "       545.81875742, 558.15628446, 570.38445388, 582.51320729,\n",
       "       594.55745709, 606.48240767, 618.31291305, 630.03903161,\n",
       "       641.65579256, 653.1582251 , 664.55130002, 675.83501733,\n",
       "       686.98949383, 698.04455431, 708.96540318, 719.77192364,\n",
       "       730.45417408, 741.01215451, 751.44089412, 761.73542211,\n",
       "       771.9106509 , 781.94669726, 791.85350281, 801.62112595,\n",
       "       811.24956667, 820.74379577, 830.09387166, 839.30476513,\n",
       "       848.36653458, 857.28912162, 866.05761384, 874.68692364,\n",
       "       883.15716782, 891.48822959, 899.65028414, 907.67315627,\n",
       "       915.53199198, 923.23176208, 930.78240816, 938.16404701,\n",
       "       945.39407645])"
      ]
     },
     "execution_count": 214,
     "metadata": {},
     "output_type": "execute_result"
    }
   ],
   "source": [
    "calc"
   ]
  },
  {
   "cell_type": "code",
   "execution_count": 208,
   "metadata": {},
   "outputs": [
    {
     "data": {
      "text/plain": [
       "array([282.53147794, 296.30931305, 310.03638885, 323.71035369,\n",
       "       337.32886501, 350.88958973, 364.39020464, 377.82839683,\n",
       "       391.20186405, 404.50831512, 417.74547032, 430.91106178,\n",
       "       444.00283389, 457.01854363, 469.95596102, 482.81286946,\n",
       "       495.58706611, 508.27636229, 520.87858384, 533.3915715 ,\n",
       "       545.81318128, 558.14128479, 570.37376968, 582.50853993,\n",
       "       594.54351626, 606.47663644, 618.30585568, 630.02914698,\n",
       "       641.64450144, 653.14992867, 664.54345704, 675.82313412,\n",
       "       686.98702694, 698.03322234, 708.95982732, 719.76496935,\n",
       "       730.44679667, 741.00347866, 751.43320611, 761.73419152,\n",
       "       771.90466947, 781.94289685, 791.84715323, 801.61574107,\n",
       "       811.24698611, 820.73923756, 830.09086848, 839.30027597,\n",
       "       848.36588151, 857.2861312 , 866.05949603, 874.68447216,\n",
       "       883.15958115, 891.48337024, 899.6544126 , 907.67130755,\n",
       "       915.53268082, 923.23718478, 930.78349869, 938.17032889,\n",
       "       945.39640907])"
      ]
     },
     "execution_count": 208,
     "metadata": {},
     "output_type": "execute_result"
    }
   ],
   "source": [
    "true[:,0]/6371000"
   ]
  },
  {
   "cell_type": "code",
   "execution_count": 209,
   "metadata": {},
   "outputs": [
    {
     "data": {
      "text/plain": [
       "array([-6.67572021e-06, -8.10623169e-06, -6.19888306e-06, -4.76837158e-07,\n",
       "        9.05990601e-06,  2.86102295e-06,  4.76837158e-07, -5.72204590e-06,\n",
       "       -1.09672546e-05,  4.76837158e-06,  1.19209290e-05, -7.15255737e-06,\n",
       "       -2.28881836e-05, -3.33786011e-06, -4.29153442e-06, -1.14440918e-05,\n",
       "       -4.76837158e-06, -4.29153442e-06,  0.00000000e+00,  2.76565552e-05,\n",
       "        4.76837158e-07, -9.53674316e-07, -1.04904175e-05, -1.71661377e-05,\n",
       "       -2.19345093e-05, -3.33786011e-06, -4.76837158e-07,  1.43051147e-06,\n",
       "        1.09672546e-05, -6.19888306e-06, -1.43051147e-06, -5.72204590e-06,\n",
       "       -2.86102295e-06, -9.53674316e-07,  2.09808350e-05,  1.33514404e-05,\n",
       "        1.71661377e-05,  2.47955322e-05, -1.23977661e-05, -1.14440918e-05,\n",
       "       -5.72204590e-06, -8.58306885e-06,  8.58306885e-06, -3.52859497e-05,\n",
       "       -2.86102295e-05, -2.86102295e-06, -9.53674316e-07, -4.76837158e-06,\n",
       "        2.95639038e-05,  1.52587891e-05,  1.90734863e-05,  1.43051147e-05,\n",
       "       -6.67572021e-06, -1.52587891e-05,  1.71661377e-05,  1.90734863e-06,\n",
       "       -1.62124634e-05, -9.53674316e-07,  1.14440918e-05,  1.04904175e-05,\n",
       "       -2.86102295e-06])"
      ]
     },
     "execution_count": 209,
     "metadata": {},
     "output_type": "execute_result"
    }
   ],
   "source": [
    "true[:,0]-true[:,1]"
   ]
  },
  {
   "cell_type": "code",
   "execution_count": 191,
   "metadata": {},
   "outputs": [
    {
     "ename": "IndexError",
     "evalue": "Inconsistent shape between the condition and the input (got (61, 1) and (61,))",
     "output_type": "error",
     "traceback": [
      "\u001b[0;31m---------------------------------------------------------------------------\u001b[0m",
      "\u001b[0;31mIndexError\u001b[0m                                Traceback (most recent call last)",
      "\u001b[0;32m<ipython-input-191-ec97085d5e7d>\u001b[0m in \u001b[0;36m<module>\u001b[0;34m()\u001b[0m\n\u001b[1;32m      1\u001b[0m \u001b[0;31m#for_plotting = np.abs(calc)\u001b[0m\u001b[0;34m\u001b[0m\u001b[0;34m\u001b[0m\u001b[0m\n\u001b[0;32m----> 2\u001b[0;31m \u001b[0max\u001b[0m \u001b[0;34m=\u001b[0m \u001b[0msns\u001b[0m\u001b[0;34m.\u001b[0m\u001b[0mheatmap\u001b[0m\u001b[0;34m(\u001b[0m\u001b[0mcalc\u001b[0m\u001b[0;34m)\u001b[0m\u001b[0;31m#\u001b[0m\u001b[0;34m\u001b[0m\u001b[0m\n\u001b[0m\u001b[1;32m      3\u001b[0m \u001b[0mplt\u001b[0m\u001b[0;34m.\u001b[0m\u001b[0mshow\u001b[0m\u001b[0;34m(\u001b[0m\u001b[0;34m)\u001b[0m\u001b[0;34m\u001b[0m\u001b[0m\n",
      "\u001b[0;32m/uio/hume/student-u89/hannasv/anaconda3/lib/python2.7/site-packages/seaborn/matrix.pyc\u001b[0m in \u001b[0;36mheatmap\u001b[0;34m(data, vmin, vmax, cmap, center, robust, annot, fmt, annot_kws, linewidths, linecolor, cbar, cbar_kws, cbar_ax, square, xticklabels, yticklabels, mask, ax, **kwargs)\u001b[0m\n\u001b[1;32m    515\u001b[0m     plotter = _HeatMapper(data, vmin, vmax, cmap, center, robust, annot, fmt,\n\u001b[1;32m    516\u001b[0m                           \u001b[0mannot_kws\u001b[0m\u001b[0;34m,\u001b[0m \u001b[0mcbar\u001b[0m\u001b[0;34m,\u001b[0m \u001b[0mcbar_kws\u001b[0m\u001b[0;34m,\u001b[0m \u001b[0mxticklabels\u001b[0m\u001b[0;34m,\u001b[0m\u001b[0;34m\u001b[0m\u001b[0m\n\u001b[0;32m--> 517\u001b[0;31m                           yticklabels, mask)\n\u001b[0m\u001b[1;32m    518\u001b[0m \u001b[0;34m\u001b[0m\u001b[0m\n\u001b[1;32m    519\u001b[0m     \u001b[0;31m# Add the pcolormesh kwargs here\u001b[0m\u001b[0;34m\u001b[0m\u001b[0;34m\u001b[0m\u001b[0m\n",
      "\u001b[0;32m/uio/hume/student-u89/hannasv/anaconda3/lib/python2.7/site-packages/seaborn/matrix.pyc\u001b[0m in \u001b[0;36m__init__\u001b[0;34m(self, data, vmin, vmax, cmap, center, robust, annot, fmt, annot_kws, cbar, cbar_kws, xticklabels, yticklabels, mask)\u001b[0m\n\u001b[1;32m    113\u001b[0m         \u001b[0mmask\u001b[0m \u001b[0;34m=\u001b[0m \u001b[0m_matrix_mask\u001b[0m\u001b[0;34m(\u001b[0m\u001b[0mdata\u001b[0m\u001b[0;34m,\u001b[0m \u001b[0mmask\u001b[0m\u001b[0;34m)\u001b[0m\u001b[0;34m\u001b[0m\u001b[0m\n\u001b[1;32m    114\u001b[0m \u001b[0;34m\u001b[0m\u001b[0m\n\u001b[0;32m--> 115\u001b[0;31m         \u001b[0mplot_data\u001b[0m \u001b[0;34m=\u001b[0m \u001b[0mnp\u001b[0m\u001b[0;34m.\u001b[0m\u001b[0mma\u001b[0m\u001b[0;34m.\u001b[0m\u001b[0mmasked_where\u001b[0m\u001b[0;34m(\u001b[0m\u001b[0mnp\u001b[0m\u001b[0;34m.\u001b[0m\u001b[0masarray\u001b[0m\u001b[0;34m(\u001b[0m\u001b[0mmask\u001b[0m\u001b[0;34m)\u001b[0m\u001b[0;34m,\u001b[0m \u001b[0mplot_data\u001b[0m\u001b[0;34m)\u001b[0m\u001b[0;34m\u001b[0m\u001b[0m\n\u001b[0m\u001b[1;32m    116\u001b[0m \u001b[0;34m\u001b[0m\u001b[0m\n\u001b[1;32m    117\u001b[0m         \u001b[0;31m# Get good names for the rows and columns\u001b[0m\u001b[0;34m\u001b[0m\u001b[0;34m\u001b[0m\u001b[0m\n",
      "\u001b[0;32m/uio/hume/student-u89/hannasv/anaconda3/lib/python2.7/site-packages/numpy/ma/core.pyc\u001b[0m in \u001b[0;36mmasked_where\u001b[0;34m(condition, a, copy)\u001b[0m\n\u001b[1;32m   1934\u001b[0m     \u001b[0;32mif\u001b[0m \u001b[0mcshape\u001b[0m \u001b[0;32mand\u001b[0m \u001b[0mcshape\u001b[0m \u001b[0;34m!=\u001b[0m \u001b[0mashape\u001b[0m\u001b[0;34m:\u001b[0m\u001b[0;34m\u001b[0m\u001b[0m\n\u001b[1;32m   1935\u001b[0m         raise IndexError(\"Inconsistent shape between the condition and the input\"\n\u001b[0;32m-> 1936\u001b[0;31m                          \" (got %s and %s)\" % (cshape, ashape))\n\u001b[0m\u001b[1;32m   1937\u001b[0m     \u001b[0;32mif\u001b[0m \u001b[0mhasattr\u001b[0m\u001b[0;34m(\u001b[0m\u001b[0ma\u001b[0m\u001b[0;34m,\u001b[0m \u001b[0;34m'_mask'\u001b[0m\u001b[0;34m)\u001b[0m\u001b[0;34m:\u001b[0m\u001b[0;34m\u001b[0m\u001b[0m\n\u001b[1;32m   1938\u001b[0m         \u001b[0mcond\u001b[0m \u001b[0;34m=\u001b[0m \u001b[0mmask_or\u001b[0m\u001b[0;34m(\u001b[0m\u001b[0mcond\u001b[0m\u001b[0;34m,\u001b[0m \u001b[0ma\u001b[0m\u001b[0;34m.\u001b[0m\u001b[0m_mask\u001b[0m\u001b[0;34m)\u001b[0m\u001b[0;34m\u001b[0m\u001b[0m\n",
      "\u001b[0;31mIndexError\u001b[0m: Inconsistent shape between the condition and the input (got (61, 1) and (61,))"
     ]
    }
   ],
   "source": [
    "#for_plotting = np.abs(calc)\n",
    "ax = sns.heatmap(calc)#\n",
    "plt.show()"
   ]
  },
  {
   "cell_type": "code",
   "execution_count": null,
   "metadata": {},
   "outputs": [],
   "source": []
  },
  {
   "cell_type": "code",
   "execution_count": null,
   "metadata": {},
   "outputs": [],
   "source": []
  },
  {
   "cell_type": "code",
   "execution_count": null,
   "metadata": {},
   "outputs": [],
   "source": []
  },
  {
   "cell_type": "markdown",
   "metadata": {},
   "source": [
    "###  DELETE BELOW "
   ]
  },
  {
   "cell_type": "code",
   "execution_count": null,
   "metadata": {},
   "outputs": [],
   "source": [
    "lat_nc = rootgrp.variables[\"lat\"][:].data\n",
    "lon_nc = rootgrp.variables[\"lon\"][:].data"
   ]
  },
  {
   "cell_type": "code",
   "execution_count": null,
   "metadata": {},
   "outputs": [],
   "source": [
    "lon = -15\n",
    "lat = 30\n",
    "\n",
    "dlon = 0.75/2\n",
    "dlat = 0.75/2\n",
    "\n",
    "minLat = lat - dlat\n",
    "maxLat = lat + dlat\n",
    "\n",
    "# OBS! Problem with sign when it comes to longitude \n",
    "a = lon - dlon\n",
    "b = lon + dlon\n",
    "minLon = np.min([a, b])\n",
    "maxLon = np.max([a, b])"
   ]
  },
  {
   "cell_type": "code",
   "execution_count": null,
   "metadata": {},
   "outputs": [],
   "source": [
    "x_idx, y_idx = np.where((lon_nc > minLon) & (lon_nc < maxLon) & (lat_nc > minLat) & (lat_nc < maxLat))\n",
    "X = np.unique(x_idx)\n",
    "Y = np.unique(y_idx)"
   ]
  },
  {
   "cell_type": "code",
   "execution_count": null,
   "metadata": {},
   "outputs": [],
   "source": [
    "np.mean(lon_nc[X, :][:, Y])"
   ]
  },
  {
   "cell_type": "code",
   "execution_count": null,
   "metadata": {},
   "outputs": [],
   "source": [
    "np.mean(lat_nc[X, :][:, Y])"
   ]
  },
  {
   "cell_type": "code",
   "execution_count": null,
   "metadata": {},
   "outputs": [],
   "source": [
    "plt.figure(figsize=(15,15))\n",
    "sns.heatmap(cloud_mask_array)"
   ]
  },
  {
   "cell_type": "code",
   "execution_count": null,
   "metadata": {},
   "outputs": [],
   "source": [
    "a = data['CLOUDM_P30_GSV0_I207'].values"
   ]
  },
  {
   "cell_type": "code",
   "execution_count": null,
   "metadata": {},
   "outputs": [],
   "source": [
    "a"
   ]
  },
  {
   "cell_type": "code",
   "execution_count": null,
   "metadata": {
    "scrolled": false
   },
   "outputs": [],
   "source": [
    "plt.figure(figsize = (15,15) )\n",
    "sns.heatmap(np.fliplr(a))"
   ]
  },
  {
   "cell_type": "code",
   "execution_count": null,
   "metadata": {
    "extensions": {
     "jupyter_dashboards": {
      "version": 1,
      "views": {
       "grid_default": {
        "hidden": true
       },
       "report_default": {}
      }
     }
    }
   },
   "outputs": [],
   "source": [
    "def calc_one_mean(lon, lat, lon_nc, lat_nc, clm_grb):\n",
    "    \"\"\"\n",
    "    lon : float \n",
    "        single value of the cell you want to calc mean to.\n",
    "        \n",
    "    lat : float\n",
    "        same as above\n",
    "    \n",
    "    lon_nc : 2D array\n",
    "        array containg all the lons fron the netcdf files.\n",
    "    \n",
    "    lat_nc : 2D array\n",
    "        array containg all the lat fron the netcdf files.\n",
    "    \n",
    "    clm_grb : 2Darray \n",
    "        data from the grib file.\n",
    "        \n",
    "    Notes\n",
    "    ------------------------------\n",
    "    The grib file needs too be flipped left and right in order to \n",
    "    \n",
    "    \n",
    "    \"\"\"\n",
    "    \n",
    "    dlon = 0.75/2\n",
    "    dlat = 0.75/2\n",
    "    \n",
    "    minLat = lat - dlat\n",
    "    maxLat = lat + dlat\n",
    "    \n",
    "    # OBS! Problem with sign when it comes to longitude \n",
    "    a = lon - dlon\n",
    "    b = lon + dlon\n",
    "    minLon = np.min([a, b])\n",
    "    maxLon = np.max([a, b])\n",
    "    \n",
    "    # Find the index of the cell which correspond to the \n",
    "    x_idx, y_idx = np.where((lon_nc > minLon) & (lon_nc < maxLon) & (lat_nc > minLat) & (lat_nc < maxLat))\n",
    "    X = np.unique(x_idx)\n",
    "    Y = np.unique(y_idx)\n",
    "    \n",
    "    #cloud_flipped = np.fliplr(clm_grb) \n",
    "    # need to flip the grib file so its on the same format as netcdf file where we get the coordinates.\n",
    "    \n",
    "    # TODO: maybee you need to look at the box around the satelitte image \n",
    "    meanLon = np.mean(  lon_nc[X, :][:, Y]    )\n",
    "    meanLat = np.mean(  lat_nc[X, :][:, Y]   )\n",
    "    \n",
    "    \n",
    "    #todo wich back \n",
    "    cloud_flipped = clm_grb\n",
    "    \n",
    "    # retrieve cloud mask\n",
    "    submat = cloud_flipped[X, :][:, Y]\n",
    "    submat[submat == 3.] = np.nan \n",
    "    count_nan = (np.isnan(submat)).sum()\n",
    "    if count_nan  > 0: # 3 denotes of earth disk. The cloud data can only originate from inside the earth disk\n",
    "        print(\"OBS the nr 3. lon: {} lat: {}   || meanlon {} mean lat {}\".format(lon, lat, meanLon, meanLat))\n",
    "    submat[submat == 1] = 0 # no cloud over ocean --> no cloud \n",
    "    submat[submat == 2] = 1 # skyer denoted 1 --> praktisk for å beregne cloud fraction\n",
    "    cloud_fraction = np.nanmean(submat)\n",
    "    _x, _y = submat.shape\n",
    "    count_cells = int(_x*_y)\n",
    "    \n",
    "    return cloud_fraction, count_cells, count_nan\n",
    "    \n",
    "    "
   ]
  },
  {
   "cell_type": "code",
   "execution_count": null,
   "metadata": {
    "extensions": {
     "jupyter_dashboards": {
      "version": 1,
      "views": {
       "grid_default": {
        "hidden": true
       },
       "report_default": {}
      }
     }
    },
    "scrolled": true
   },
   "outputs": [],
   "source": [
    "def calc_one_mean(lon, lat, lon_nc, lat_nc, clm_grb):\n",
    "    \"\"\"\n",
    "    lon : float \n",
    "        single value of the cell you want to calc mean to.\n",
    "        \n",
    "    lat : float\n",
    "        same as above\n",
    "    \n",
    "    lon_nc : 2D array\n",
    "        array containg all the lons fron the netcdf files.\n",
    "    \n",
    "    lat_nc : 2D array\n",
    "        array containg all the lat fron the netcdf files.\n",
    "    \n",
    "    clm_grb : 2Darray \n",
    "        data from the grib file.\n",
    "        \n",
    "    Notes\n",
    "    ------------------------------\n",
    "    The grib file needs too be flipped left and right in order to \n",
    "    \n",
    "    \n",
    "    \"\"\"\n",
    "    \n",
    "    dlon = 0.75/2\n",
    "    dlat = 0.75/2\n",
    "    \n",
    "    minLat = lat - dlat\n",
    "    maxLat = lat + dlat\n",
    "    \n",
    "    # OBS! Problem with sign when it comes to longitude \n",
    "    a = lon - dlon\n",
    "    b = lon + dlon\n",
    "    minLon = np.min([a, b])\n",
    "    maxLon = np.max([a, b])\n",
    "    \n",
    "    # Find the index of the cell which correspond to the \n",
    "    x_idx, y_idx = np.where((lon_nc > minLon) & (lon_nc < maxLon) & (lat_nc > minLat) & (lat_nc < maxLat))\n",
    "    X = np.unique(x_idx)\n",
    "    Y = np.unique(y_idx)\n",
    "    \n",
    "    #cloud_flipped = np.fliplr(clm_grb) \n",
    "    # need to flip the grib file so its on the same format as netcdf file where we get the coordinates.\n",
    "    \n",
    "    # TODO: maybee you need to look at the box around the satelitte image \n",
    "    meanLon = np.mean(  lon_nc[X, :][:, Y]    )\n",
    "    meanLat = np.mean(  lat_nc[X, :][:, Y]   )\n",
    "    \n",
    "    \n",
    "    #todo wich back \n",
    "    cloud_flipped = clm_grb\n",
    "    \n",
    "    # retrieve cloud mask\n",
    "    submat = cloud_flipped[X, :][:, Y]\n",
    "    submat[submat == 3.] = np.nan \n",
    "    count_nan = (np.isnan(submat)).sum()\n",
    "    if count_nan  > 0: # 3 denotes of earth disk. The cloud data can only originate from inside the earth disk\n",
    "        print(\"OBS the nr 3. lon: {} lat: {}   || meanlon {} mean lat {}\".format(lon, lat, meanLon, meanLat))\n",
    "    submat[submat == 1] = 0 # no cloud over ocean --> no cloud \n",
    "    submat[submat == 2] = 1 # skyer denoted 1 --> praktisk for å beregne cloud fraction\n",
    "    cloud_fraction = np.nanmean(submat)\n",
    "    _x, _y = submat.shape\n",
    "    count_cells = int(_x*_y)\n",
    "    \n",
    "    return cloud_fraction, count_cells, count_nan\n",
    "    \n",
    "    "
   ]
  },
  {
   "cell_type": "code",
   "execution_count": null,
   "metadata": {},
   "outputs": [],
   "source": []
  },
  {
   "cell_type": "code",
   "execution_count": null,
   "metadata": {
    "scrolled": false
   },
   "outputs": [],
   "source": [
    "clm, cnt_cells, cnt_nans = calc_all(filename = grb_file)"
   ]
  },
  {
   "cell_type": "code",
   "execution_count": null,
   "metadata": {},
   "outputs": [],
   "source": [
    "clm"
   ]
  },
  {
   "cell_type": "code",
   "execution_count": null,
   "metadata": {},
   "outputs": [],
   "source": [
    "sns.heatmap(cnt_nans)"
   ]
  },
  {
   "cell_type": "code",
   "execution_count": null,
   "metadata": {},
   "outputs": [],
   "source": [
    "sns.heatmap(cnt_cells)"
   ]
  },
  {
   "cell_type": "code",
   "execution_count": null,
   "metadata": {},
   "outputs": [],
   "source": [
    "sns.heatmap(clm)"
   ]
  },
  {
   "cell_type": "code",
   "execution_count": null,
   "metadata": {},
   "outputs": [],
   "source": [
    "sns.distplot(clm.flatten())"
   ]
  },
  {
   "cell_type": "code",
   "execution_count": null,
   "metadata": {},
   "outputs": [],
   "source": [
    "ax = sns.heatmap(data['CLOUDM_P30_GSV0_I207'].values)\n",
    "ax.invert_yaxis()\n",
    "ax.invert_xaxis()"
   ]
  },
  {
   "cell_type": "code",
   "execution_count": null,
   "metadata": {},
   "outputs": [],
   "source": [
    "ax = sns.heatmap(clm)\n",
    "#ax.invert_yaxis()"
   ]
  },
  {
   "cell_type": "code",
   "execution_count": null,
   "metadata": {},
   "outputs": [],
   "source": [
    "ax = sns.heatmap(cnt_cells)\n",
    "ax.invert_yaxis()\n",
    "ax.set_title(\"The number of grid cells involved in calculating the cloud fraction from cloud mask.\");"
   ]
  },
  {
   "cell_type": "code",
   "execution_count": null,
   "metadata": {},
   "outputs": [],
   "source": [
    "tcc = clm\n",
    "lon = np.arange(-15, 40+0.75, 0.75)\n",
    "lat = np.arange(30, 58+0.75, 0.75)"
   ]
  },
  {
   "cell_type": "code",
   "execution_count": null,
   "metadata": {},
   "outputs": [],
   "source": [
    "tcc.shape, lon.shape, lat.shape"
   ]
  },
  {
   "cell_type": "code",
   "execution_count": null,
   "metadata": {},
   "outputs": [],
   "source": [
    "nc_path = '/home/hanna/Desktop/sat_comparison/archive.eumetsat.int/umarf/onlinedownload/hannasv/1338648/'\n",
    "nc_files = glob.glob(nc_path+\"*EUMETSAT*.nc\")"
   ]
  },
  {
   "cell_type": "code",
   "execution_count": null,
   "metadata": {},
   "outputs": [],
   "source": []
  },
  {
   "cell_type": "code",
   "execution_count": null,
   "metadata": {
    "scrolled": false
   },
   "outputs": [],
   "source": [
    "counter = 0\n",
    "for filename in grb_files:# grb file of satellite image...\n",
    "    print(filename)\n",
    "    if counter == 0:\n",
    "        print(\"enters 0\")\n",
    "        clm, cnt_cells, cnt_nans = calc_all(filename, nc_file = nc_files[0])\n",
    "        ds = xr.Dataset({'tcc': (['latitude', 'longitude'],  tcc),\n",
    "                         'nr_nans':(['latitude', 'longitude'], cnt_nans), \n",
    "                        'nr_cells':(['latitude', 'longitude'], cnt_cells)},\n",
    "                         coords={'longitude': (['longitude'], lon),\n",
    "                                 'latitude': (['latitude'], lat), \n",
    "                                })\n",
    "\n",
    "        ts = timestamp(filename)\n",
    "        ds['time'] = ts\n",
    "\n",
    "        # Add time as a coordinate and dimension. \n",
    "        ds = ds.assign_coords(time = data.time)\n",
    "        ds = ds.expand_dims(dim = 'time')\n",
    "        counter += 1\n",
    "\n",
    "    else:\n",
    "        print(\"enters 1\")\n",
    "        clm, cnt_cells, cnt_nans = calc_all(filename, nc_file = nc_files[0])\n",
    "        new_ds = xr.Dataset({'tcc': (['latitude', 'longitude'],  tcc),\n",
    "                             'nr_nans':(['latitude', 'longitude'], cnt_nans), \n",
    "                             'nr_cells':(['latitude', 'longitude'], cnt_cells)},\n",
    "                              coords={'longitude': (['longitude'], lon),\n",
    "                                      'latitude': (['latitude'], lat), \n",
    "                                       })\n",
    "\n",
    "        ts = timestamp(filename)\n",
    "        new_ds['time'] = ts\n",
    "\n",
    "        # Add time as a coordinate and dimension. \n",
    "        new_ds = new_ds.assign_coords(time = data.time)\n",
    "        new_ds = new_ds.expand_dims(dim = 'time')\n",
    "\n",
    "        ds.merge(new_ds)\n",
    "\n",
    "        counter += 1\n",
    "\n",
    "print(ds)"
   ]
  },
  {
   "cell_type": "code",
   "execution_count": null,
   "metadata": {},
   "outputs": [],
   "source": [
    "new_ds"
   ]
  },
  {
   "cell_type": "code",
   "execution_count": null,
   "metadata": {},
   "outputs": [],
   "source": [
    "ds"
   ]
  },
  {
   "cell_type": "code",
   "execution_count": null,
   "metadata": {},
   "outputs": [],
   "source": [
    "new_ds = xr.Dataset({'tcc': (['latitude', 'longitude'],  tcc),\n",
    "                     'nr_nans':(['latitude', 'longitude'], cnt_nans), \n",
    "                     'nr_cells':(['latitude', 'longitude'], cnt_cells)},\n",
    "                    \n",
    "                      coords={'longitude': (['longitude'], lon),\n",
    "                              'latitude': (['latitude'], lat) })\n",
    "\n",
    "ts = timestamp(filename)\n",
    "new_ds['time'] = ts\n",
    "\n",
    "# Add time as a coordinate and dimension. \n",
    "new_ds = new_ds.assign_coords(time = data.time)\n",
    "new_ds = new_ds.expand_dims(dim = 'time')"
   ]
  },
  {
   "cell_type": "code",
   "execution_count": null,
   "metadata": {},
   "outputs": [],
   "source": [
    "new_ds"
   ]
  },
  {
   "cell_type": "code",
   "execution_count": null,
   "metadata": {},
   "outputs": [],
   "source": [
    "ds"
   ]
  },
  {
   "cell_type": "code",
   "execution_count": null,
   "metadata": {},
   "outputs": [],
   "source": [
    "new_ds"
   ]
  },
  {
   "cell_type": "code",
   "execution_count": null,
   "metadata": {},
   "outputs": [],
   "source": []
  },
  {
   "cell_type": "code",
   "execution_count": null,
   "metadata": {},
   "outputs": [],
   "source": []
  },
  {
   "cell_type": "code",
   "execution_count": null,
   "metadata": {},
   "outputs": [],
   "source": []
  },
  {
   "cell_type": "code",
   "execution_count": null,
   "metadata": {},
   "outputs": [],
   "source": [
    "def create_grb_file_by_filenames(filenames):\n",
    "    counter = 0\n",
    "    for filename in filenames:# grb file of satellite image...\n",
    "        print()\n",
    "        if counter == 0:\n",
    "            print(\"enters 0\")\n",
    "            clm, cnt_cells, cnt_nans = calc_all(filename, nc_file = nc_files[0])\n",
    "            ds = xr.Dataset({'tcc': (['latitude', 'logitude'],  tcc),\n",
    "                             'nr_nans':(['latitude', 'logitude'], cnt_nans), \n",
    "                            'nr_cells':(['latitude', 'logitude'], cnt_cells)},\n",
    "                             coords={'longitude': (['longitude'], lon),\n",
    "                                     'latitude': (['latitude'], lat), \n",
    "                                    })\n",
    "\n",
    "            ts = timestamp(filename)\n",
    "            ds['time'] = ts\n",
    "\n",
    "            # Add time as a coordinate and dimension. \n",
    "            ds = ds.assign_coords(time = data.time)\n",
    "            ds = ds.expand_dims(dim = 'time')\n",
    "            counter += 1\n",
    "            \n",
    "        else:\n",
    "            print(\"enters 1\")\n",
    "            clm, cnt_cells, cnt_nans = calc_all(filename, nc_file = nc_files[0])\n",
    "            new_ds = xr.Dataset({'tcc': (['latitude', 'logitude'],  tcc),\n",
    "                             'nr_nans':(['latitude', 'logitude'], cnt_nans), \n",
    "                            'nr_cells':(['latitude', 'logitude'], cnt_cells)},\n",
    "                             coords={'longitude': (['longitude'], lon),\n",
    "                                     'latitude': (['latitude'], lat), \n",
    "                                    })\n",
    "\n",
    "            ts = timestamp(filename)\n",
    "            new_ds['time'] = ts\n",
    "\n",
    "            # Add time as a coordinate and dimension. \n",
    "            new_ds = new_ds.assign_coords(time = data.time)\n",
    "            new_ds = new_ds.expand_dims(dim = 'time')\n",
    "            \n",
    "            ds.merge(new_ds)\n",
    "            \n",
    "            counter += 1\n",
    "            \n",
    "    print(ds)\n",
    "    return "
   ]
  },
  {
   "cell_type": "code",
   "execution_count": null,
   "metadata": {},
   "outputs": [],
   "source": []
  },
  {
   "cell_type": "code",
   "execution_count": null,
   "metadata": {},
   "outputs": [],
   "source": []
  },
  {
   "cell_type": "code",
   "execution_count": null,
   "metadata": {},
   "outputs": [],
   "source": [
    "import seaborn as sns"
   ]
  },
  {
   "cell_type": "code",
   "execution_count": null,
   "metadata": {},
   "outputs": [],
   "source": [
    "cloud_mask_array = np.flip(rootgrp.variables[\"cloudMask\"][:].data)"
   ]
  },
  {
   "cell_type": "code",
   "execution_count": null,
   "metadata": {},
   "outputs": [],
   "source": [
    "sns.heatmap(cloud_mask_array) # nc with correct coordinates"
   ]
  },
  {
   "cell_type": "code",
   "execution_count": null,
   "metadata": {},
   "outputs": [],
   "source": []
  },
  {
   "cell_type": "code",
   "execution_count": null,
   "metadata": {},
   "outputs": [],
   "source": []
  },
  {
   "cell_type": "code",
   "execution_count": null,
   "metadata": {},
   "outputs": [],
   "source": [
    "a = np.fliplr(data['CLOUDM_P30_GSV0_I207'].values)"
   ]
  },
  {
   "cell_type": "code",
   "execution_count": null,
   "metadata": {},
   "outputs": [],
   "source": [
    "sns.heatmap(a)"
   ]
  },
  {
   "cell_type": "code",
   "execution_count": null,
   "metadata": {},
   "outputs": [],
   "source": []
  },
  {
   "cell_type": "code",
   "execution_count": null,
   "metadata": {},
   "outputs": [],
   "source": [
    "a = np.fliplr(data['CLOUDM_P30_GSV0_I207'].values)"
   ]
  },
  {
   "cell_type": "code",
   "execution_count": null,
   "metadata": {},
   "outputs": [],
   "source": [
    "data['CLOUDM_P30_GSV0_I207'].plot()"
   ]
  },
  {
   "cell_type": "code",
   "execution_count": null,
   "metadata": {},
   "outputs": [],
   "source": [
    "sns.heatmap(a)"
   ]
  },
  {
   "cell_type": "code",
   "execution_count": null,
   "metadata": {
    "extensions": {
     "jupyter_dashboards": {
      "version": 1,
      "views": {
       "grid_default": {
        "col": 8,
        "height": 4,
        "hidden": false,
        "row": 39,
        "width": 4
       },
       "report_default": {}
      }
     }
    }
   },
   "outputs": [],
   "source": [
    "rows = cloud_mask_array[X, :]\n",
    "submat = rows[:, Y]\n",
    "submat.shape"
   ]
  },
  {
   "cell_type": "code",
   "execution_count": null,
   "metadata": {},
   "outputs": [],
   "source": [
    "# Todo plot netcdf of se hvordan det ser ut "
   ]
  },
  {
   "cell_type": "markdown",
   "metadata": {
    "extensions": {
     "jupyter_dashboards": {
      "version": 1,
      "views": {
       "grid_default": {
        "col": 0,
        "height": 4,
        "hidden": false,
        "row": 42,
        "width": 4
       },
       "report_default": {}
      }
     }
    }
   },
   "source": [
    "## OBS! sjekk om det ceteret i cellen som lat, lon. Hvordan korrigere for dette. "
   ]
  },
  {
   "cell_type": "code",
   "execution_count": null,
   "metadata": {
    "extensions": {
     "jupyter_dashboards": {
      "version": 1,
      "views": {
       "grid_default": {
        "hidden": true
       },
       "report_default": {}
      }
     }
    }
   },
   "outputs": [],
   "source": [
    "# 3 -off earth disk\n",
    "# 2 - cloud\n",
    "# 1 - not cloud over ocean and 0 not cloud over land"
   ]
  },
  {
   "cell_type": "code",
   "execution_count": null,
   "metadata": {
    "extensions": {
     "jupyter_dashboards": {
      "version": 1,
      "views": {
       "grid_default": {
        "hidden": true
       },
       "report_default": {}
      }
     }
    }
   },
   "outputs": [],
   "source": [
    "submat[submat == 1] = 0 # no cloud over ocean --> no cloud "
   ]
  },
  {
   "cell_type": "code",
   "execution_count": null,
   "metadata": {
    "extensions": {
     "jupyter_dashboards": {
      "version": 1,
      "views": {
       "grid_default": {
        "hidden": true
       },
       "report_default": {}
      }
     }
    }
   },
   "outputs": [],
   "source": [
    "submat[submat == 2] = 1 # skyer denoted 1 --> praktisk for å beregne cloud fraction"
   ]
  },
  {
   "cell_type": "code",
   "execution_count": null,
   "metadata": {
    "extensions": {
     "jupyter_dashboards": {
      "version": 1,
      "views": {
       "grid_default": {
        "col": 8,
        "height": 4,
        "hidden": false,
        "row": 43,
        "width": 4
       },
       "report_default": {}
      }
     }
    }
   },
   "outputs": [],
   "source": [
    "submat.mean()"
   ]
  },
  {
   "cell_type": "code",
   "execution_count": null,
   "metadata": {
    "extensions": {
     "jupyter_dashboards": {
      "version": 1,
      "views": {
       "grid_default": {
        "hidden": true
       },
       "report_default": {}
      }
     }
    }
   },
   "outputs": [],
   "source": []
  },
  {
   "cell_type": "code",
   "execution_count": null,
   "metadata": {
    "extensions": {
     "jupyter_dashboards": {
      "version": 1,
      "views": {
       "grid_default": {
        "col": 4,
        "height": 4,
        "hidden": false,
        "row": 45,
        "width": 4
       },
       "report_default": {}
      }
     }
    }
   },
   "outputs": [],
   "source": [
    "sum(submat == 3)"
   ]
  },
  {
   "cell_type": "markdown",
   "metadata": {
    "extensions": {
     "jupyter_dashboards": {
      "version": 1,
      "views": {
       "grid_default": {
        "hidden": true
       },
       "report_default": {}
      }
     }
    }
   },
   "source": [
    "# Check that the cloud cover only contain 0,1,2 replace all 2\n",
    "## replace so that its zero and 0 and 1. \n",
    "### Maybee you should replace "
   ]
  },
  {
   "cell_type": "code",
   "execution_count": null,
   "metadata": {
    "extensions": {
     "jupyter_dashboards": {
      "version": 1,
      "views": {
       "grid_default": {
        "col": 0,
        "height": 145,
        "hidden": false,
        "row": 46,
        "width": 4
       },
       "report_default": {}
      }
     }
    },
    "scrolled": true
   },
   "outputs": [],
   "source": [
    "row = lon_array[X,:]\n",
    "row[:,Y]"
   ]
  },
  {
   "cell_type": "code",
   "execution_count": null,
   "metadata": {
    "extensions": {
     "jupyter_dashboards": {
      "version": 1,
      "views": {
       "grid_default": {
        "hidden": true
       },
       "report_default": {}
      }
     }
    }
   },
   "outputs": [],
   "source": []
  },
  {
   "cell_type": "code",
   "execution_count": null,
   "metadata": {
    "extensions": {
     "jupyter_dashboards": {
      "version": 1,
      "views": {
       "grid_default": {
        "hidden": true
       },
       "report_default": {}
      }
     }
    }
   },
   "outputs": [],
   "source": []
  },
  {
   "cell_type": "code",
   "execution_count": null,
   "metadata": {
    "extensions": {
     "jupyter_dashboards": {
      "version": 1,
      "views": {
       "grid_default": {
        "hidden": true
       },
       "report_default": {}
      }
     }
    }
   },
   "outputs": [],
   "source": []
  },
  {
   "cell_type": "code",
   "execution_count": null,
   "metadata": {
    "extensions": {
     "jupyter_dashboards": {
      "version": 1,
      "views": {
       "grid_default": {
        "hidden": true
       },
       "report_default": {}
      }
     }
    }
   },
   "outputs": [],
   "source": []
  },
  {
   "cell_type": "code",
   "execution_count": null,
   "metadata": {
    "extensions": {
     "jupyter_dashboards": {
      "version": 1,
      "views": {
       "grid_default": {
        "hidden": true
       },
       "report_default": {}
      }
     }
    }
   },
   "outputs": [],
   "source": []
  },
  {
   "cell_type": "markdown",
   "metadata": {},
   "source": [
    "## Make a map "
   ]
  },
  {
   "cell_type": "code",
   "execution_count": null,
   "metadata": {
    "extensions": {
     "jupyter_dashboards": {
      "version": 1,
      "views": {
       "grid_default": {
        "hidden": true
       },
       "report_default": {}
      }
     }
    }
   },
   "outputs": [],
   "source": [
    "import cartopy.crs as ccrs"
   ]
  },
  {
   "cell_type": "code",
   "execution_count": null,
   "metadata": {
    "extensions": {
     "jupyter_dashboards": {
      "version": 1,
      "views": {
       "grid_default": {
        "hidden": true
       },
       "report_default": {}
      }
     }
    }
   },
   "outputs": [],
   "source": [
    "import cartopy as cp\n",
    "def plot_map(lat = (30,60), lon = (-30,35), path = \"maps/\",\n",
    "    title = \"MeteoSat vision Europa\", filename = \"MeteoSat_vision_Europa.png\"):\n",
    "    \"\"\"\n",
    "    Plot map defined by lat lon, default Europe.\n",
    "    Path should be to lagringshotell, don't save png's on git ...\n",
    "    \"\"\"\n",
    "    plt.figure(figsize = (15,15))\n",
    "    ax = plt.axes(projection = ccrs.PlateCarree())\n",
    "\n",
    "    ax.add_feature(cp.feature.OCEAN, zorder=0)\n",
    "    ax.add_feature(cp.feature.LAND, zorder=0, edgecolor='black')\n",
    "    ax.coastlines(resolution='50m')\n",
    "    ax.set_extent([lon[0], lon[1], lat[0], lat[1]], ccrs.PlateCarree())\n",
    "\n",
    "    props = dict(boxstyle='round', facecolor='wheat', alpha=1.)\n",
    "\n",
    "    ax.text(0.03, 0.07, \"MeteoSat vision Europa\", transform=ax.transAxes, fontsize=20,\n",
    "            verticalalignment='top', bbox=props)\n",
    "\n",
    "    #plt.savefig(path + filename, bbox_inces = \"thight\")\n",
    "    plt.show()"
   ]
  },
  {
   "cell_type": "code",
   "execution_count": null,
   "metadata": {
    "extensions": {
     "jupyter_dashboards": {
      "version": 1,
      "views": {
       "grid_default": {
        "col": 8,
        "height": 7,
        "hidden": false,
        "row": 72,
        "width": 4
       },
       "report_default": {}
      }
     }
    }
   },
   "outputs": [],
   "source": [
    "plot_map()"
   ]
  },
  {
   "cell_type": "code",
   "execution_count": null,
   "metadata": {
    "extensions": {
     "jupyter_dashboards": {
      "version": 1,
      "views": {
       "grid_default": {
        "hidden": true
       },
       "report_default": {}
      }
     }
    }
   },
   "outputs": [],
   "source": []
  },
  {
   "cell_type": "code",
   "execution_count": null,
   "metadata": {
    "extensions": {
     "jupyter_dashboards": {
      "version": 1,
      "views": {
       "grid_default": {
        "hidden": true
       },
       "report_default": {}
      }
     }
    }
   },
   "outputs": [],
   "source": []
  },
  {
   "cell_type": "code",
   "execution_count": null,
   "metadata": {
    "extensions": {
     "jupyter_dashboards": {
      "version": 1,
      "views": {
       "grid_default": {
        "hidden": true
       },
       "report_default": {}
      }
     }
    }
   },
   "outputs": [],
   "source": []
  }
 ],
 "metadata": {
  "extensions": {
   "jupyter_dashboards": {
    "activeView": "grid_default",
    "version": 1,
    "views": {
     "grid_default": {
      "cellMargin": 10,
      "defaultCellHeight": 20,
      "maxColumns": 12,
      "name": "grid",
      "type": "grid"
     },
     "report_default": {
      "name": "report",
      "type": "report"
     }
    }
   }
  },
  "kernelspec": {
   "display_name": "Python 2",
   "language": "python",
   "name": "python2"
  },
  "language_info": {
   "codemirror_mode": {
    "name": "ipython",
    "version": 2
   },
   "file_extension": ".py",
   "mimetype": "text/x-python",
   "name": "python",
   "nbconvert_exporter": "python",
   "pygments_lexer": "ipython2",
   "version": "2.7.15"
  }
 },
 "nbformat": 4,
 "nbformat_minor": 2
}
