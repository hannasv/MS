{
 "cells": [
  {
   "cell_type": "code",
   "execution_count": 5,
   "metadata": {
    "collapsed": true
   },
   "outputs": [],
   "source": [
    "import xarray as xr\n",
    "import torch as t\n",
    "import glob"
   ]
  },
  {
   "cell_type": "code",
   "execution_count": 6,
   "metadata": {
    "collapsed": true
   },
   "outputs": [],
   "source": [
    "path = '/home/hanna/Desktop/master_thesis/meteosat0/'\n",
    "era_path = '/home/hanna/Desktop/master_thesis/era/'\n",
    "grb_files = glob.glob(path+\"*.grb\")"
   ]
  },
  {
   "cell_type": "code",
   "execution_count": 9,
   "metadata": {},
   "outputs": [],
   "source": [
    "ds = xr.open_dataset(grb_files[0], engine = 'pynio')"
   ]
  },
  {
   "cell_type": "code",
   "execution_count": 10,
   "metadata": {},
   "outputs": [
    {
     "data": {
      "text/plain": [
       "<xarray.Dataset>\n",
       "Dimensions:               (xgrid_0: 3712, ygrid_0: 3712)\n",
       "Dimensions without coordinates: xgrid_0, ygrid_0\n",
       "Data variables:\n",
       "    CLOUDM_P30_GSV0_I207  (ygrid_0, xgrid_0) float32 ..."
      ]
     },
     "execution_count": 10,
     "metadata": {},
     "output_type": "execute_result"
    }
   ],
   "source": [
    "ds"
   ]
  },
  {
   "cell_type": "code",
   "execution_count": 11,
   "metadata": {
    "collapsed": true
   },
   "outputs": [],
   "source": [
    "data = ds['CLOUDM_P30_GSV0_I207'].values"
   ]
  },
  {
   "cell_type": "code",
   "execution_count": 12,
   "metadata": {},
   "outputs": [
    {
     "data": {
      "text/plain": [
       "tensor([[3., 3., 3.,  ..., 3., 3., 3.],\n",
       "        [3., 3., 3.,  ..., 3., 3., 3.],\n",
       "        [3., 3., 3.,  ..., 3., 3., 3.],\n",
       "        ...,\n",
       "        [3., 3., 3.,  ..., 3., 3., 3.],\n",
       "        [3., 3., 3.,  ..., 3., 3., 3.],\n",
       "        [3., 3., 3.,  ..., 3., 3., 3.]])"
      ]
     },
     "execution_count": 12,
     "metadata": {},
     "output_type": "execute_result"
    }
   ],
   "source": [
    "torch.tensor(data)"
   ]
  }
 ],
 "metadata": {
  "kernelspec": {
   "display_name": "Python 3",
   "language": "python",
   "name": "python3"
  },
  "language_info": {
   "codemirror_mode": {
    "name": "ipython",
    "version": 3
   },
   "file_extension": ".py",
   "mimetype": "text/x-python",
   "name": "python",
   "nbconvert_exporter": "python",
   "pygments_lexer": "ipython3",
   "version": "3.6.2"
  }
 },
 "nbformat": 4,
 "nbformat_minor": 2
}
