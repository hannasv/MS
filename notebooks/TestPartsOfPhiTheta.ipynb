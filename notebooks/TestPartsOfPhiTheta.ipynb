{
 "cells": [
  {
   "cell_type": "code",
   "execution_count": 7,
   "metadata": {},
   "outputs": [],
   "source": [
    "#!pip install netCDF4"
   ]
  },
  {
   "cell_type": "code",
   "execution_count": 2,
   "metadata": {},
   "outputs": [],
   "source": [
    "import pandas as pd\n",
    "import seaborn as sns\n",
    "import numpy as np\n",
    "import matplotlib.pyplot as plt\n",
    "import glob\n",
    "from netCDF4 import Dataset\n",
    "import json\n",
    "%matplotlib inline"
   ]
  },
  {
   "cell_type": "code",
   "execution_count": 2,
   "metadata": {},
   "outputs": [],
   "source": [
    "# era_AREA = area_grid_cell(lat, 0.375, 0.375)"
   ]
  },
  {
   "cell_type": "code",
   "execution_count": 3,
   "metadata": {},
   "outputs": [],
   "source": [
    "nc_path   = '//uio/lagringshotell/geofag/students/metos/hannasv/satelite_coordinates/'\n",
    "#nc_path  = '//home/hanna/Desktop/examples_master_thesis/'\n",
    "nc_file  = glob.glob(nc_path + '*.nc')[0]\n",
    "rootgrp = Dataset(nc_file, \"r\", format=\"NETCDF4\")\n",
    "cloud_mask = rootgrp.variables[\"cloudMask\"][:].data\n",
    "lat_array = rootgrp.variables[\"lat\"][:].data\n",
    "lon_array = rootgrp.variables[\"lon\"][:].data\n",
    "lat_array[lat_array < -99] = np.nan # updates of disk values to nan\n",
    "lon_array[lon_array < -99] = np.nan # updates of disk values to nan\n",
    "#d_phi   = lon_array[:, 1:] - lon_array[:, :-1]\n",
    "#d_theta = lat_array[1:, :] - lat_array[:-1, :]\n",
    "\n",
    "# Padding the axis -- we removed by taking the difference\n",
    "#pad     = np.ones((3712, 1))*np.nan # adding numpy to the axis the values\n",
    "#d_phi   = np.concatenate((pad, d_phi), axis = 1)/2\n",
    "#d_theta = np.concatenate((pad.transpose(), d_theta), axis = 0)/2"
   ]
  },
  {
   "cell_type": "code",
   "execution_count": 4,
   "metadata": {},
   "outputs": [
    {
     "data": {
      "text/plain": [
       "<type 'netCDF4._netCDF4.Dataset'>\n",
       "root group (NETCDF3_CLASSIC data model, file format NETCDF3):\n",
       "    creator_name: EUMETSAT\n",
       "    creator_url: http://archive.eumetsat.int\n",
       "    creator_email: archive@eumetsat.int\n",
       "    institution: EUMETSAT\n",
       "    license: CopyRight EUMETSAT 2008\n",
       "    Conventions: CF-1.0\n",
       "    Metadata_Conventions: Unidata Dataset Discovery v1.0\n",
       "    title: EUMETSAT-ARCHIVE-CLOUD-MASK-NetCDF\n",
       "    summary: NA\n",
       "    keywords: EUMETSAT, ARCHIVE, NetCDF, CLOUD MASK\n",
       "    history: EUMETSAT CopyRight 2008\n",
       "    comment: DRAFT VERSION\n",
       "    wmo_filename: W_XX-EUMETSAT-Darmstadt,SING+LEV+SAT,MSG4+CLM_C_EUMG_20190613053000.nc\n",
       "    latitude_of_projection_origin: 0.0\n",
       "    longitude_of_projection_origin: 0.0\n",
       "    GRIB_param_Nx: 3712\n",
       "    GRIB_param_Ny: 3712\n",
       "    GRIB_orgReferenceTime: 20190613053000\n",
       "    time_coverage_start: 20190613053000\n",
       "    time_coverage_end: 20190613053000\n",
       "    source: /data/products/1338648/MSG4-SEVI-MSGCLMK-0100-0100-20190613053000.000000000Z-20190613054348-1338648.nc.tmp\n",
       "    dimensions(sizes): lat(3712), lon(3712)\n",
       "    variables(dimensions): float32 \u001b[4mcloudMask\u001b[0m(lat,lon), float32 \u001b[4mlat\u001b[0m(lat,lon), float32 \u001b[4mlon\u001b[0m(lat,lon)\n",
       "    groups: "
      ]
     },
     "execution_count": 4,
     "metadata": {},
     "output_type": "execute_result"
    }
   ],
   "source": [
    "rootgrp"
   ]
  },
  {
   "cell_type": "code",
   "execution_count": 78,
   "metadata": {},
   "outputs": [],
   "source": [
    "def area_grid_cell(c_lat, d_lat, d_lon):\n",
    "        \"\"\"\n",
    "        c_lat : float\n",
    "            Centre point longitude, latitude in degrees\n",
    "\n",
    "        d_lat, d_lon : float\n",
    "            delta lat lon in degrees\n",
    "\n",
    "        Returns : area in km^2\n",
    "\n",
    "        cdo : If the grid cell area have to be computed it is scaled with the earth radius to square meters.\n",
    "        \"\"\"\n",
    "        R = 6371000  # in M\n",
    "        # area er egentlig R**2\n",
    "        area = R*(np.sin((c_lat + d_lat)*np.pi/180) - np.sin((c_lat - d_lat)*np.pi/180) )*(2*d_lon*np.pi/180) # R**2\n",
    "        return area\n"
   ]
  },
  {
   "cell_type": "code",
   "execution_count": 79,
   "metadata": {},
   "outputs": [],
   "source": [
    "def compute_dDegrees(lat, lon):\n",
    "    \"\"\"\n",
    "    lat, lon shape is (3712, 3712).\n",
    "    \"\"\"\n",
    "    \n",
    "    assert lat.shape == lon.shape == (3712, 3712), 'Wrong shape of lat and lon expected (3712, 3712), got lat.shape {} and lon.shape {}'.format(lat.shape, lon.shape)\n",
    "    \n",
    "    d_phi    = np.nan*np.zeros(np.shape(lat))\n",
    "    d_theta  = np.nan*np.zeros(np.shape(lat))\n",
    "    cell_areas = np.nan*np.zeros(np.shape(lat))\n",
    "    \n",
    "    for i in range(1, len(lat)-1):\n",
    "        for j in range(1, len(lat)-1):\n",
    "            left_half_dist     = (lon[i, j]   - lon[i, j+1])/2\n",
    "            right_half_dist    = (lon[i, j-1] - lon[i, j])/2                \n",
    "            #print(\"left_half_dist {}, right _half_dist {}\".format(left_half_dist, right_half_dist))\n",
    "            dlon               = (np.abs(left_half_dist) + np.abs(right_half_dist))/2\n",
    "            d_phi[i][j]        = dlon\n",
    "\n",
    "            upper_half_dist    = (lat[i+1, j] - lat[i, j])/2\n",
    "            lower_half_dist    = (lat[i, j] - lat[i-1, j])/2\n",
    "            #print(\"upper_half_dist {}, lower_half_dist {}\".format(upper_half_dist, lower_half_dist))\n",
    "            dlat               = (np.abs(upper_half_dist) + np.abs(lower_half_dist))/2\n",
    "            d_theta[i][j]      = dlat\n",
    "                \n",
    "            cell_areas[i][j] = area_grid_cell(lat[i, j], dlat, dlon)       \n",
    "            \n",
    "    return d_phi, d_theta, cell_areas"
   ]
  },
  {
   "cell_type": "code",
   "execution_count": 80,
   "metadata": {},
   "outputs": [],
   "source": [
    "d_phi, d_theta, cell_areas = compute_dDegrees(lat_array, lon_array)"
   ]
  },
  {
   "cell_type": "code",
   "execution_count": 81,
   "metadata": {},
   "outputs": [],
   "source": [
    "def add(a, b):\n",
    "    return np.abs(a) + np.abs(b)\n",
    "\n",
    "def subtract(a, b):\n",
    "    return np.abs(np.abs(a) - np.abs(b))"
   ]
  },
  {
   "cell_type": "code",
   "execution_count": null,
   "metadata": {},
   "outputs": [],
   "source": []
  },
  {
   "cell_type": "code",
   "execution_count": 82,
   "metadata": {
    "scrolled": false
   },
   "outputs": [
    {
     "name": "stderr",
     "output_type": "stream",
     "text": [
      "/uio/hume/student-u89/hannasv/anaconda3/lib/python2.7/site-packages/ipykernel_launcher.py:40: RuntimeWarning: invalid value encountered in greater\n",
      "/uio/hume/student-u89/hannasv/anaconda3/lib/python2.7/site-packages/ipykernel_launcher.py:40: RuntimeWarning: invalid value encountered in less\n",
      "/uio/hume/student-u89/hannasv/anaconda3/lib/python2.7/site-packages/ipykernel_launcher.py:41: RuntimeWarning: invalid value encountered in greater\n",
      "/uio/hume/student-u89/hannasv/anaconda3/lib/python2.7/site-packages/ipykernel_launcher.py:41: RuntimeWarning: invalid value encountered in less\n",
      "/uio/hume/student-u89/hannasv/anaconda3/lib/python2.7/site-packages/ipykernel_launcher.py:42: RuntimeWarning: invalid value encountered in greater\n",
      "/uio/hume/student-u89/hannasv/anaconda3/lib/python2.7/site-packages/ipykernel_launcher.py:42: RuntimeWarning: invalid value encountered in less\n",
      "/uio/hume/student-u89/hannasv/anaconda3/lib/python2.7/site-packages/ipykernel_launcher.py:43: RuntimeWarning: invalid value encountered in greater\n",
      "/uio/hume/student-u89/hannasv/anaconda3/lib/python2.7/site-packages/ipykernel_launcher.py:43: RuntimeWarning: invalid value encountered in less\n",
      "/uio/hume/student-u89/hannasv/anaconda3/lib/python2.7/site-packages/ipykernel_launcher.py:125: RuntimeWarning: invalid value encountered in less\n",
      "/uio/hume/student-u89/hannasv/anaconda3/lib/python2.7/site-packages/ipykernel_launcher.py:126: RuntimeWarning: invalid value encountered in greater\n",
      "/uio/hume/student-u89/hannasv/anaconda3/lib/python2.7/site-packages/ipykernel_launcher.py:132: RuntimeWarning: invalid value encountered in less\n",
      "/uio/hume/student-u89/hannasv/anaconda3/lib/python2.7/site-packages/ipykernel_launcher.py:133: RuntimeWarning: invalid value encountered in greater\n",
      "/uio/hume/student-u89/hannasv/anaconda3/lib/python2.7/site-packages/ipykernel_launcher.py:141: RuntimeWarning: invalid value encountered in greater\n",
      "/uio/hume/student-u89/hannasv/anaconda3/lib/python2.7/site-packages/ipykernel_launcher.py:142: RuntimeWarning: invalid value encountered in less\n",
      "/uio/hume/student-u89/hannasv/anaconda3/lib/python2.7/site-packages/ipykernel_launcher.py:147: RuntimeWarning: invalid value encountered in greater\n",
      "/uio/hume/student-u89/hannasv/anaconda3/lib/python2.7/site-packages/ipykernel_launcher.py:148: RuntimeWarning: invalid value encountered in less\n",
      "/uio/hume/student-u89/hannasv/anaconda3/lib/python2.7/site-packages/ipykernel_launcher.py:216: RuntimeWarning: invalid value encountered in greater\n",
      "/uio/hume/student-u89/hannasv/anaconda3/lib/python2.7/site-packages/ipykernel_launcher.py:217: RuntimeWarning: invalid value encountered in less\n",
      "/uio/hume/student-u89/hannasv/anaconda3/lib/python2.7/site-packages/ipykernel_launcher.py:219: RuntimeWarning: invalid value encountered in less\n",
      "/uio/hume/student-u89/hannasv/anaconda3/lib/python2.7/site-packages/ipykernel_launcher.py:220: RuntimeWarning: invalid value encountered in greater\n"
     ]
    }
   ],
   "source": [
    "areas = []\n",
    "lats = np.arange(30, 56, 5) \n",
    "lons = np.arange(-15, 30, 5)\n",
    "c_lat = lat_array.reshape(-1)\n",
    "c_lon = lon_array.reshape(-1)\n",
    "d_theta = d_theta.reshape(-1)\n",
    "d_phi = d_phi.reshape(-1)\n",
    "cloud_mask_array = cloud_mask.reshape(-1) \n",
    "\n",
    "assert c_lon.shape == c_lat.shape == d_theta.shape == d_phi.shape == cloud_mask_array.shape, \" c_lon.shape {},  c_lat.shape {},  d_theta.shape {}, d_phi.shape {} cloud_mask_array.shape {}\".format(c_lon.shape,  c_lat.shape,  d_theta.shape, d_phi.shape, cloud_mask_array.shape) \n",
    "\n",
    "data = {}\n",
    "for lat in lats:\n",
    "    data[str(lat)] = {}\n",
    "    for lon in lons:\n",
    "        data[str(lat)][str(lon)] = {}\n",
    "        era_AREA = area_grid_cell(lat, 0.375, 0.375)\n",
    "        #print(\"lat = {}, lon ={} era_AREA {}\".format(era_AREA, lat, lon))\n",
    "        \n",
    "        era_up    = lat + 0.375\n",
    "        era_down  = lat - 0.375\n",
    "        era_left  = lon - 0.375\n",
    "        era_right = lon + 0.375\n",
    "\n",
    "        # to ensure correct sign\n",
    "        cmk_left  = c_lon - np.abs(d_phi)   #- era_right\n",
    "        cmk_right = c_lon + np.abs(d_phi)   #- era_left\n",
    "\n",
    "        # TODO : Sjekk d theta og lignende.\n",
    "        cmk_up    = c_lat + np.abs(d_theta) #- era_down\n",
    "        cmk_down  = c_lat - np.abs(d_theta) #- era_up\n",
    "\n",
    "        data[str(lat)][str(lon)]['centre'] = {}\n",
    "        data[str(lat)][str(lon)]['down'] = {}\n",
    "        data[str(lat)][str(lon)]['up'] = {}\n",
    "        data[str(lat)][str(lon)]['right'] = {}\n",
    "        data[str(lat)][str(lon)]['left'] = {}\n",
    "        data[str(lat)][str(lon)]['corner'] = {}\n",
    "\n",
    "        idx_left_boundary  = np.intersect1d(np.argwhere(cmk_right > era_left),  np.argwhere(cmk_left < era_left) )\n",
    "        idx_right_boundary = np.intersect1d(np.argwhere(cmk_right > era_right), np.argwhere(cmk_left < era_right) )\n",
    "        idx_up_boundary    = np.intersect1d(np.argwhere(cmk_up > era_up),       np.argwhere(cmk_down < era_up) )\n",
    "        idx_down_boundary  = np.intersect1d(np.argwhere(cmk_up > era_down),     np.argwhere(cmk_down < era_down) )\n",
    "\n",
    "        data[str(lat)][str(lon)]['down']['index']  = idx_down_boundary.tolist()\n",
    "        data[str(lat)][str(lon)]['up']['index']    = idx_up_boundary.tolist()\n",
    "        data[str(lat)][str(lon)]['left']['index']  = idx_left_boundary.tolist()\n",
    "        data[str(lat)][str(lon)]['right']['index'] = idx_right_boundary.tolist()\n",
    "\n",
    "        idx_lower_right_corner = np.intersect1d(idx_down_boundary, idx_right_boundary)\n",
    "        idx_lower_left_corner  = np.intersect1d(idx_down_boundary, idx_left_boundary)\n",
    "        idx_upper_left_corner  = np.intersect1d(idx_up_boundary, idx_left_boundary)\n",
    "        idx_upper_right_corner = np.intersect1d(idx_up_boundary, idx_right_boundary)\n",
    "\n",
    "        corner_idx         = np.concatenate([idx_lower_right_corner, idx_lower_left_corner,\n",
    "                                             idx_upper_left_corner, idx_upper_right_corner]) # corner idx\n",
    "        data[str(lat)][str(lon)]['corner']['index'] = corner_idx.tolist()\n",
    "        #assert len(corner_idx) == 4, \"Not correct number of corners, nbr = {}.\".format(len(corner_idx))\n",
    "\n",
    "        if len(corner_idx) != 4:\n",
    "            print(\"left bound {}\".format(cmk_left[corner_idx]))\n",
    "            print(\"right bound {}\".format(cmk_right[corner_idx]))\n",
    "            print(\"up bound {}\".format(cmk_up[corner_idx]))\n",
    "            print(\"down bound {}\".format(cmk_down[corner_idx]))\n",
    "\n",
    "        # TODO add new centre corners. And calculate  \n",
    "        llc_dlat = subtract(cmk_up[idx_lower_left_corner], era_down)/2\n",
    "        llc_dlon = subtract(era_left, cmk_right[idx_lower_left_corner])/2\n",
    "        llc_lat  = era_down + llc_dlat\n",
    "\n",
    "        llc_area = area_grid_cell(llc_lat, llc_dlat, llc_dlon)\n",
    "        #print(\"area lower left area {}\".format(f/era_AREA))\n",
    "\n",
    "        lrc_dlat = subtract(cmk_up[idx_lower_right_corner], era_down)/2\n",
    "        lrc_dlon = subtract(cmk_left[idx_lower_right_corner], era_right)/2\n",
    "\n",
    "        lrc_lat  = era_down + lrc_dlat\n",
    "        lrc_area = area_grid_cell(lrc_lat, lrc_dlat, lrc_dlon)\n",
    "        #print(\"area lower right area {}\".format(h/era_AREA))\n",
    "\n",
    "        ulc_dlat = subtract(era_up, cmk_down[idx_upper_left_corner])/2\n",
    "        ulc_dlon = subtract(era_left, cmk_right[idx_upper_left_corner])/2\n",
    "        ulc_lat = era_up - ulc_dlat\n",
    "        ulc_area = area_grid_cell(ulc_lat, ulc_dlat, ulc_dlon)\n",
    "        #print(\"area upper left area {}\".format(i/era_AREA))\n",
    "\n",
    "        urc_dlat = subtract(era_up, cmk_down[idx_upper_right_corner])/2\n",
    "        urc_dlon = subtract(cmk_left[idx_upper_right_corner], era_right)/2\n",
    "        urc_lat  = era_up - ulc_dlat\n",
    "        urc_area = area_grid_cell(urc_lat, urc_dlat, urc_dlon)\n",
    "        #print(\"area upper right area {}\".format(j/era_AREA))\n",
    "        #print(\"SUM corners {}\".format((i+j+h+f)/era_AREA))\n",
    "\n",
    "        corner_areas = np.array([lrc_area, llc_area, ulc_area, urc_area])\n",
    "        data[str(lat)][str(lon)]['corner']['area'] = corner_areas.tolist()\n",
    "\n",
    "        if len(corner_idx) == 0:\n",
    "            raise ValueError('No corners found, something is wrong ... ')\n",
    "\n",
    "        #assert len(corner_idx) == 4, \"Expected four corners, got {}\".format(len(corner_idx))\n",
    "\n",
    "        #max_lon, min_lon = np.max(c_lon[corner_idx]), np.min(c_lon[corner_idx])\n",
    "        #max_lat, min_lat = np.max(c_lat[corner_idx]), np.min(c_lat[corner_idx])\n",
    "\n",
    "        # removes corners\n",
    "        for idx in corner_idx:\n",
    "            idx_down_boundary = idx_down_boundary[idx_down_boundary != idx]\n",
    "            idx_up_boundary = idx_up_boundary[idx_up_boundary != idx]\n",
    "            idx_left_boundary = idx_left_boundary[idx_left_boundary != idx]\n",
    "            idx_right_boundary = idx_right_boundary[idx_right_boundary != idx]\n",
    "\n",
    "        #idx_down_boundary = idx_down_boundary[idx_down_boundary != lower_right_corner]\n",
    "        #idx_down_boundary = idx_down_boundary[idx_down_boundary != lower_left_corner]\n",
    "\n",
    "        #idx_up_boundary = idx_up_boundary[idx_up_boundary != upper_right_corner]\n",
    "        #idx_up_boundary = idx_up_boundary[idx_up_boundary != upper_left_corner]\n",
    "\n",
    "        #idx_left_boundary = idx_left_boundary[idx_left_boundary != upper_left_corner]\n",
    "        #idx_left_boundary = idx_left_boundary[idx_left_boundary != lower_left_corner]\n",
    "\n",
    "        #idx_right_boundary = idx_right_boundary[idx_right_boundary != upper_right_corner]\n",
    "        #idx_right_boundary = idx_right_boundary[idx_right_boundary != lower_right_corner]\n",
    "\n",
    "        # subsection left boundary OLD\n",
    "        low_bound = np.argwhere(cmk_down[idx_left_boundary] < era_up)\n",
    "        up_bound  = np.argwhere(cmk_up[idx_left_boundary]   > era_down)\n",
    "        sub_section_left = np.intersect1d(low_bound, up_bound)\n",
    "\n",
    "        data[str(lat)][str(lon)]['left']['index_subset'] = sub_section_left.tolist()\n",
    "\n",
    "        # subsection right boundary\n",
    "        low_bound = np.argwhere( cmk_down[idx_right_boundary] < era_up )\n",
    "        up_bound  = np.argwhere( cmk_up[idx_right_boundary]   > era_down)\n",
    "        sub_section_right = np.intersect1d(low_bound, up_bound)\n",
    "        data[str(lat)][str(lon)]['right']['index_right'] = sub_section_right.tolist()\n",
    "\n",
    "        # Subsection Down Boundary\n",
    "        #one = np.argwhere(cmk_left[idx_down_boundary]  > era_left)\n",
    "        #two = np.argwhere(cmk_right[idx_down_boundary] < era_right)\n",
    "\n",
    "        one = np.argwhere(cmk_right[idx_down_boundary]  > era_left)\n",
    "        two = np.argwhere(cmk_left[idx_down_boundary]   < era_right)\n",
    "        sub_section_down = np.intersect1d(one, two)\n",
    "        data[str(lat)][str(lon)]['down']['index_subset'] = sub_section_down.tolist()\n",
    "\n",
    "        # subsection up boundary\n",
    "        one = np.argwhere( cmk_right[idx_up_boundary]  > era_left)\n",
    "        two = np.argwhere( cmk_left[idx_up_boundary] < era_right)\n",
    "        sub_section_up = np.intersect1d(one, two)\n",
    "        data[str(lat)][str(lon)]['up']['index_subset'] = sub_section_up.tolist()\n",
    "        #plt.scatter(cmk_left[corner_idx], cmk_up[corner_idx],        marker = 'v')\n",
    "        #plt.scatter(cmk_left[idx_left_boundary][sub_section_left],   cmk_up[idx_left_boundary][sub_section_left])\n",
    "        #plt.scatter(cmk_left[idx_right_boundary][sub_section_right], cmk_up[idx_right_boundary][sub_section_right])\n",
    "        #plt.scatter(cmk_left[idx_up_boundary][sub_section_up],       cmk_up[idx_up_boundary][sub_section_up])\n",
    "        #plt.scatter(cmk_left[idx_down_boundary][sub_section_down],   cmk_up[idx_down_boundary][sub_section_down])\n",
    "        #plt.show()\n",
    "\n",
    "        # test that these are empty\n",
    "        t1 = np.intersect1d(idx_down_boundary, idx_up_boundary)\n",
    "        t2 = np.intersect1d(idx_right_boundary, idx_left_boundary)\n",
    "        assert len(t1) == len(t2) == 0, \"intercept up down  {}, intersect left right {}.\".format(t1, t2)\n",
    "\n",
    "        # Calculate Boundaries\n",
    "\n",
    "        # AREA left boundary\n",
    "        dlon_lf = subtract(cmk_right[idx_left_boundary][sub_section_left], era_left)/2 \n",
    "        dlat_lf = d_theta[idx_left_boundary][sub_section_left]\n",
    "        lat_lf  = c_lat[idx_left_boundary][sub_section_left]\n",
    "        #lon_lf  = c_lon[idx_left_boundary][sub_section_left]\n",
    "        left_areas = area_grid_cell(lat_lf, dlat_lf, np.abs(dlon_lf))\n",
    "        data[str(lat)][str(lon)]['left']['area'] = left_areas.tolist()\n",
    "\n",
    "        a = np.sum(left_areas)\n",
    "\n",
    "        fraction_left = (cloud_mask_array[idx_left_boundary][sub_section_left]*area_grid_cell(lat_lf,\n",
    "                                                                                              dlat_lf,\n",
    "                                                                                              dlon_lf)/era_AREA).sum()\n",
    "        # AREA right boundary\n",
    "        dlon_rb = subtract(era_right, cmk_left[idx_right_boundary][sub_section_right])/2\n",
    "        dlat_rb = d_theta[idx_right_boundary][sub_section_right]\n",
    "        lat_rb  = c_lat[idx_right_boundary][sub_section_right]\n",
    "        #lon_rb = c_lon[idx_right_boundary][sub_section_right]\n",
    "        right_area = area_grid_cell(lat_rb, dlat_rb, np.abs(dlon_rb)) \n",
    "        data[str(lat)][str(lon)]['right']['area'] = right_area.tolist()\n",
    "        b = np.sum(right_area)\n",
    "\n",
    "        fraction_right = (cloud_mask_array[idx_right_boundary][sub_section_right]*area_grid_cell(lat_rb,\n",
    "                                                                                                 dlat_rb,\n",
    "                                                                                                 dlon_rb)/era_AREA).sum()\n",
    "\n",
    "        # AREA down boundary\n",
    "        dlat_down = subtract(era_down, cmk_up[idx_down_boundary][sub_section_down])/2\n",
    "        lat_down = era_down + dlat_down\n",
    "        dlon_down = d_phi[idx_down_boundary][sub_section_down]\n",
    "        #lon_down =  c_lon[idx_down_boundary][sub_section_down]\n",
    "        down_area = area_grid_cell(lat_down, dlat_down, dlon_down)\n",
    "        c = np.sum(down_area)\n",
    "        data[str(lat)][str(lon)]['down']['area'] = down_area.tolist()\n",
    "        fraction_down = (cloud_mask_array[idx_down_boundary][sub_section_down]*area_grid_cell(lat_down,\n",
    "                                                                                              dlat_down,\n",
    "                                                                                              dlon_down)/era_AREA).sum()\n",
    "        # AREA up\n",
    "        dlat_up = subtract(era_up, cmk_down[idx_up_boundary][sub_section_up])/2\n",
    "        lat_up = era_up - dlat_up\n",
    "        #lon_up = c_lon[idx_up_boundary][sub_section_up]\n",
    "        dlon_up = d_phi[idx_up_boundary][sub_section_up]\n",
    "        up_area = area_grid_cell(lat_up, dlat_up, np.abs(dlon_up))\n",
    "        data[str(lat)][str(lon)]['up']['area'] = up_area.tolist()\n",
    "        \n",
    "        d = np.sum(up_area)\n",
    "\n",
    "        fraction_up = (cloud_mask_array[idx_up_boundary][sub_section_up]*area_grid_cell(lat_up,\n",
    "                                                                                         dlat_up,\n",
    "                                                                                         dlon_up)/era_AREA).sum()\n",
    "        # Index centres. Can safly assume centre cells are correct.\n",
    "        idx_centre_one = np.intersect1d(np.argwhere(cmk_left  > era_left),\n",
    "                                        np.argwhere(cmk_right < era_right))\n",
    "        \n",
    "        idx_centre_two = np.intersect1d(np.argwhere(cmk_up   < era_up),\n",
    "                                        np.argwhere(cmk_down >  era_down))\n",
    "\n",
    "        idx_centre_cells = np.intersect1d( idx_centre_one, idx_centre_two )\n",
    "        data[str(lat)][str(lon)]['centre']['index'] = idx_centre_cells.tolist()\n",
    "\n",
    "        lat_centre_cells = c_lat[idx_centre_cells]\n",
    "        dlat_centre      = d_theta[idx_centre_cells]\n",
    "        dlon_centre      = d_phi[idx_centre_cells]\n",
    "        centre_area      = area_grid_cell(lat_centre_cells, dlat_centre, dlon_centre)\n",
    "\n",
    "        data[str(lat)][str(lon)]['centre']['area'] = centre_area.tolist()\n",
    "        \n",
    "        #plt.scatter(cmk_left[idx_centre_cells], cmk_up[idx_centre_cells])\n",
    "        #plt.scatter([lon+.375, lon-.375, lon+.375, lon-.375,], [lat+.375, lat+.375, lat-.375,lat-.375])\n",
    "        #plt.show()\n",
    "\n",
    "        fraction_centre  = (cloud_mask_array[idx_centre_cells]*centre_area/era_AREA).sum()\n",
    "        \n",
    "        #print(\"era_AREA {}\".format(era_AREA))\n",
    "        #print(\"Sum up {}\".format(area_grid_cell(lat_up, dlat_up, dlon_up).sum()/era_AREA))\n",
    "        #print(\"Sum down {}\".format(area_grid_cell(lat_down, dlat_down, dlon_down).sum()/era_AREA))\n",
    "        #print(\"Sum centre {}\".format(area_grid_cell(lat_centre_cells, dlat_centre, dlon_centre).sum() /era_AREA))\n",
    "        #print(\"Sum left {}\".format(area_grid_cell(lat_lf, dlat_lf, dlon_lf).sum()/era_AREA))\n",
    "        #print(\"Sum right {}\".format(area_grid_cell(lat_rb, dlat_rb, dlon_rb).sum()/era_AREA))\n",
    "\n",
    "        Test_weight = (area_grid_cell(lat_up, dlat_up, dlon_up).sum() +\n",
    "                       area_grid_cell(lat_centre_cells, dlat_centre, dlon_centre).sum() +\n",
    "                       area_grid_cell(lat_down, dlat_down, dlon_down).sum() +\n",
    "                       area_grid_cell(lat_rb, dlat_rb, dlon_rb).sum() +\n",
    "                       area_grid_cell(lat_lf, dlat_lf, dlon_lf).sum() )/era_AREA + (corner_areas.sum())/era_AREA\n",
    "        \n",
    "        areas.append(Test_weight)\n",
    "        #print(\"area fraction {}\".format(Test_weight))\n"
   ]
  },
  {
   "cell_type": "code",
   "execution_count": 83,
   "metadata": {
    "scrolled": false
   },
   "outputs": [
    {
     "data": {
      "text/plain": [
       "[1.0048154075085134,\n",
       " 1.0021257998845294,\n",
       " 1.0005303744765612,\n",
       " 1.0000019161554272,\n",
       " 1.0005303813436062,\n",
       " 1.0021258482116517,\n",
       " 1.0048152951186888,\n",
       " 1.0086282812399268,\n",
       " 1.0135785641642507,\n",
       " 1.006734837664537,\n",
       " 1.002911787055998,\n",
       " 1.0007261708702544,\n",
       " 1.0000022138759697,\n",
       " 1.0007262432982993,\n",
       " 1.0029118485658537,\n",
       " 1.0067346852027828,\n",
       " 1.0119866168357166,\n",
       " 1.0189174246403736,\n",
       " 1.0089654065206668,\n",
       " 1.0039316611473295,\n",
       " 1.0009682675500082,\n",
       " 1.0000030435383431,\n",
       " 1.0009682941520912,\n",
       " 1.0039318691630221,\n",
       " 1.0089651761155387,\n",
       " 1.0161177734425162,\n",
       " 1.0254728880984112,\n",
       " 1.0118791690181517,\n",
       " 1.005135289505117,\n",
       " 1.0012770435256988,\n",
       " 1.000003300068227,\n",
       " 1.0012773890027544,\n",
       " 1.005135660040027,\n",
       " 1.0118788399460692,\n",
       " 1.021261601296291,\n",
       " 1.0336025854123962,\n",
       " 1.0154217318744438,\n",
       " 1.006746173858547,\n",
       " 1.0016883953610987,\n",
       " 1.000005741128948,\n",
       " 1.001688793798102,\n",
       " 1.006746730837722,\n",
       " 1.0154208710194712,\n",
       " 1.0273677202473341,\n",
       " 1.0439077076355152,\n",
       " 1.0202699589872595,\n",
       " 1.008950369239287,\n",
       " 1.0022362082333443,\n",
       " 1.0000091301161922,\n",
       " 1.0022367869029287,\n",
       " 1.0089516689948177,\n",
       " 1.0202710389170733,\n",
       " 1.035989179415975,\n",
       " 1.0575849239265958]"
      ]
     },
     "execution_count": 83,
     "metadata": {},
     "output_type": "execute_result"
    }
   ],
   "source": [
    "areas"
   ]
  },
  {
   "cell_type": "code",
   "execution_count": 90,
   "metadata": {},
   "outputs": [
    {
     "data": {
      "image/png": "[encoded data removed]",
      "text/plain": [
       "<Figure size 432x288 with 2 Axes>"
      ]
     },
     "metadata": {
      "needs_background": "light"
     },
     "output_type": "display_data"
    }
   ],
   "source": [
    "#fig, ax = plt.subplots(111)\n",
    "#fig.set_size_inches(11,8)\n",
    "\n",
    "ax = sns.heatmap(np.array(areas).reshape(len(lats), len(lons)), annot = True, fmt='.3f', cmap = 'bwr', vmin = 1.000)\n",
    "\n",
    "ax.invert_yaxis()\n",
    "ax.set_xticklabels(lons);\n",
    "ax.set_yticklabels(lats);"
   ]
  },
  {
   "cell_type": "code",
   "execution_count": 38,
   "metadata": {},
   "outputs": [
    {
     "data": {
      "text/plain": [
       "1.0048204157112952"
      ]
     },
     "execution_count": 38,
     "metadata": {},
     "output_type": "execute_result"
    }
   ],
   "source": [
    "Test_weight"
   ]
  },
  {
   "cell_type": "code",
   "execution_count": 39,
   "metadata": {},
   "outputs": [
    {
     "data": {
      "text/plain": [
       "array([[0.86575007],\n",
       "       [0.5810131 ],\n",
       "       [1.18697162],\n",
       "       [0.27826687]])"
      ]
     },
     "execution_count": 39,
     "metadata": {},
     "output_type": "execute_result"
    }
   ],
   "source": [
    "corner_areas"
   ]
  },
  {
   "cell_type": "code",
   "execution_count": 36,
   "metadata": {
    "scrolled": true
   },
   "outputs": [],
   "source": [
    "#data"
   ]
  },
  {
   "cell_type": "code",
   "execution_count": 27,
   "metadata": {
    "scrolled": false
   },
   "outputs": [],
   "source": [
    "with open(nc_path + 'index_area.json', 'w') as f:\n",
    "    json.dump(data, f)"
   ]
  },
  {
   "cell_type": "code",
   "execution_count": 29,
   "metadata": {},
   "outputs": [],
   "source": [
    "from json import load\n",
    "with open(nc_path + 'index_area.json', 'r') as f:\n",
    "    data = load(f)"
   ]
  },
  {
   "cell_type": "code",
   "execution_count": 34,
   "metadata": {},
   "outputs": [],
   "source": [
    "#data['30']['-15']['centre'].keys()"
   ]
  },
  {
   "cell_type": "code",
   "execution_count": null,
   "metadata": {},
   "outputs": [],
   "source": []
  },
  {
   "cell_type": "code",
   "execution_count": 36,
   "metadata": {},
   "outputs": [
    {
     "data": {
      "image/png": "[encoded data removed]",
      "text/plain": [
       "<Figure size 432x288 with 2 Axes>"
      ]
     },
     "metadata": {
      "needs_background": "light"
     },
     "output_type": "display_data"
    }
   ],
   "source": [
    "ax = sns.heatmap((np.array(areas)).reshape(len(lats), len(lons)))\n",
    "ax.invert_yaxis()\n",
    "ax.set_xlabel(\"lon from {} to {}\".format(min(lons), max(lons)))\n",
    "ax.set_ylabel(\"lat from {} to {}\".format(min(lats), max(lats)))\n",
    "#ax.yticklabels(visible = False);\n",
    "#ax.set_xticklabels(lons);\n",
    "ax.set_title(\"% AREAS computed by self implemented formula\")\n",
    "#plt.savefig('test_areas.png')"
   ]
  },
  {
   "cell_type": "code",
   "execution_count": null,
   "metadata": {},
   "outputs": [],
   "source": []
  },
  {
   "cell_type": "code",
   "execution_count": null,
   "metadata": {},
   "outputs": [],
   "source": []
  },
  {
   "cell_type": "code",
   "execution_count": null,
   "metadata": {},
   "outputs": [],
   "source": []
  },
  {
   "cell_type": "code",
   "execution_count": null,
   "metadata": {},
   "outputs": [],
   "source": []
  },
  {
   "cell_type": "code",
   "execution_count": null,
   "metadata": {},
   "outputs": [],
   "source": []
  }
 ],
 "metadata": {
  "kernelspec": {
   "display_name": "Python 2",
   "language": "python",
   "name": "python2"
  },
  "language_info": {
   "codemirror_mode": {
    "name": "ipython",
    "version": 2
   },
   "file_extension": ".py",
   "mimetype": "text/x-python",
   "name": "python",
   "nbconvert_exporter": "python",
   "pygments_lexer": "ipython2",
   "version": "2.7.15"
  }
 },
 "nbformat": 4,
 "nbformat_minor": 2
}
