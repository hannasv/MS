{
 "cells": [
  {
   "cell_type": "code",
   "execution_count": 1,
   "metadata": {
    "collapsed": true
   },
   "outputs": [],
   "source": [
    "import glob\n",
    "import numpy as np\n",
    "import matplotlib.pyplot as plt\n",
    "import xarray as xr\n",
    "%matplotlib inline"
   ]
  },
  {
   "cell_type": "markdown",
   "metadata": {},
   "source": [
    "1. Read Era-Interim file.\n",
    "2. Crop from 2008-2018 and save some where local for now.\n",
    "3. Split into seasons. Split into test train and validate\n",
    "\n",
    "### Below is a copy from helpers should be imported from there."
   ]
  },
  {
   "cell_type": "code",
   "execution_count": 4,
   "metadata": {
    "collapsed": true
   },
   "outputs": [],
   "source": [
    "DATA_REPO = \"/uio/lagringshotell/geofag/students/metos/hannasv/data_processed/\"\n",
    "FIGURE_REPO = \"/uio/lagringshotell/geofag/students/metos/hannasv/figures/\"\n",
    "RAW_ERA_REPO = \"/uio/lagringshotell/geofag/students/metos/hannasv/era_interim_data/\"\n",
    "RESULTS_REPO =  \"/uio/lagringshotell/geofag/students/metos/hannasv/results/\"\n",
    "\n",
    "LAT = (30,67)\n",
    "LON = (-15,42)\n",
    "\n",
    "VARIABLES =  [\"t2m\", 'sp', 'q', 'r', 'tcc']\n",
    "PRESSURE_LEVELS = [300, 400, 500, 700, 850, 1000]"
   ]
  },
  {
   "cell_type": "code",
   "execution_count": 6,
   "metadata": {
    "collapsed": true
   },
   "outputs": [],
   "source": [
    "era_files = glob.glob(RAW_ERA_REPO+\"*.nc\")"
   ]
  },
  {
   "cell_type": "code",
   "execution_count": 7,
   "metadata": {},
   "outputs": [
    {
     "data": {
      "text/plain": [
       "['/uio/lagringshotell/geofag/students/metos/hannasv/era_interim_data/pressure_Europa_MS.nc',\n",
       " '/uio/lagringshotell/geofag/students/metos/hannasv/era_interim_data/temperature_Europa_MS.nc',\n",
       " '/uio/lagringshotell/geofag/students/metos/hannasv/era_interim_data/specific_humidity_Europe_MS.nc',\n",
       " '/uio/lagringshotell/geofag/students/metos/hannasv/era_interim_data/total_cloud_cover_Europa_MS.nc',\n",
       " '/uio/lagringshotell/geofag/students/metos/hannasv/era_interim_data/relative_humidity_Europe_MS.nc']"
      ]
     },
     "execution_count": 7,
     "metadata": {},
     "output_type": "execute_result"
    }
   ],
   "source": [
    "era_files"
   ]
  },
  {
   "cell_type": "code",
   "execution_count": 8,
   "metadata": {
    "collapsed": true
   },
   "outputs": [],
   "source": [
    "var = \"sp\"\n",
    "sp_file = era_files[0]"
   ]
  },
  {
   "cell_type": "code",
   "execution_count": 9,
   "metadata": {
    "collapsed": true
   },
   "outputs": [],
   "source": [
    "data = xr.open_dataset(sp_file)"
   ]
  },
  {
   "cell_type": "code",
   "execution_count": 10,
   "metadata": {},
   "outputs": [
    {
     "data": {
      "text/plain": [
       "<xarray.Dataset>\n",
       "Dimensions:    (latitude: 61, longitude: 77, time: 58440)\n",
       "Coordinates:\n",
       "  * longitude  (longitude) float32 -15.0 -14.25 -13.5 -12.75 ... 40.5 41.25 42.0\n",
       "  * latitude   (latitude) float32 75.0 74.25 73.5 72.75 ... 31.5 30.75 30.0\n",
       "  * time       (time) datetime64[ns] 1979-01-01 ... 2018-12-31T18:00:00\n",
       "Data variables:\n",
       "    sp         (time, latitude, longitude) float32 ...\n",
       "Attributes:\n",
       "    Conventions:  CF-1.6\n",
       "    history:      2019-03-26 16:41:18 GMT by grib_to_netcdf-2.12.0: grib_to_n..."
      ]
     },
     "execution_count": 10,
     "metadata": {},
     "output_type": "execute_result"
    }
   ],
   "source": [
    "data"
   ]
  },
  {
   "cell_type": "code",
   "execution_count": 26,
   "metadata": {},
   "outputs": [
    {
     "data": {
      "text/plain": [
       "numpy.datetime64('1979-01-01T00:00:00.000000000')"
      ]
     },
     "execution_count": 26,
     "metadata": {},
     "output_type": "execute_result"
    }
   ],
   "source": [
    "data.time[0].values"
   ]
  },
  {
   "cell_type": "code",
   "execution_count": 30,
   "metadata": {},
   "outputs": [
    {
     "data": {
      "text/plain": [
       "<xarray.Dataset>\n",
       "Dimensions:    (latitude: 61, longitude: 77, time: 58440)\n",
       "Coordinates:\n",
       "  * longitude  (longitude) float32 -15.0 -14.25 -13.5 -12.75 ... 40.5 41.25 42.0\n",
       "  * latitude   (latitude) float32 75.0 74.25 73.5 72.75 ... 31.5 30.75 30.0\n",
       "  * time       (time) datetime64[ns] 1979-01-01 ... 2018-12-31T18:00:00\n",
       "Data variables:\n",
       "    sp         (time, latitude, longitude) float32 ...\n",
       "Attributes:\n",
       "    Conventions:  CF-1.6\n",
       "    history:      2019-03-26 16:41:18 GMT by grib_to_netcdf-2.12.0: grib_to_n..."
      ]
     },
     "execution_count": 30,
     "metadata": {},
     "output_type": "execute_result"
    }
   ],
   "source": [
    "data"
   ]
  },
  {
   "cell_type": "code",
   "execution_count": 41,
   "metadata": {},
   "outputs": [
    {
     "data": {
      "text/plain": [
       "<xarray.Dataset>\n",
       "Dimensions:    (latitude: 61, longitude: 77, time: 16072)\n",
       "Coordinates:\n",
       "  * longitude  (longitude) float32 -15.0 -14.25 -13.5 -12.75 ... 40.5 41.25 42.0\n",
       "  * latitude   (latitude) float32 75.0 74.25 73.5 72.75 ... 31.5 30.75 30.0\n",
       "  * time       (time) datetime64[ns] 2008-01-01 ... 2018-12-31T18:00:00\n",
       "Data variables:\n",
       "    sp         (time, latitude, longitude) float32 ...\n",
       "Attributes:\n",
       "    Conventions:  CF-1.6\n",
       "    history:      2019-03-26 16:41:18 GMT by grib_to_netcdf-2.12.0: grib_to_n..."
      ]
     },
     "execution_count": 41,
     "metadata": {},
     "output_type": "execute_result"
    }
   ],
   "source": [
    "ssliced = data.sel(time=slice('2008-01-01','2018-12-31'))\n",
    "DATA_REPO = '/uio/hume/student-u89/hannasv/'\n",
    "ssliced.to_netcdf(path=DATA_REPO+filename)"
   ]
  },
  {
   "cell_type": "code",
   "execution_count": 42,
   "metadata": {
    "collapsed": true
   },
   "outputs": [],
   "source": [
    "seasons = ssliced.groupby('time.season')"
   ]
  },
  {
   "cell_type": "code",
   "execution_count": 47,
   "metadata": {},
   "outputs": [
    {
     "data": {
      "text/plain": [
       "u'/uio/hume/student-u89/hannasv/MS/notebooks'"
      ]
     },
     "execution_count": 47,
     "metadata": {},
     "output_type": "execute_result"
    }
   ],
   "source": [
    "pwd"
   ]
  },
  {
   "cell_type": "code",
   "execution_count": 48,
   "metadata": {
    "collapsed": true
   },
   "outputs": [],
   "source": [
    "for group in seasons:\n",
    "    key, dataset = group\n",
    "    filename = \"era_interim_2008_2018_\"+key+\"_\"+var+\".nc\"\n",
    "    DATA_REPO = '/uio/hume/student-u89/hannasv/'\n",
    "    dataset.to_netcdf(path=DATA_REPO+filename)"
   ]
  },
  {
   "cell_type": "code",
   "execution_count": null,
   "metadata": {
    "collapsed": true
   },
   "outputs": [],
   "source": [
    "ssliced"
   ]
  },
  {
   "cell_type": "code",
   "execution_count": null,
   "metadata": {
    "collapsed": true
   },
   "outputs": [],
   "source": []
  },
  {
   "cell_type": "code",
   "execution_count": 4,
   "metadata": {},
   "outputs": [
    {
     "ename": "SyntaxError",
     "evalue": "invalid syntax (<ipython-input-4-e43700fe0739>, line 1)",
     "output_type": "error",
     "traceback": [
      "\u001b[0;36m  File \u001b[0;32m\"<ipython-input-4-e43700fe0739>\"\u001b[0;36m, line \u001b[0;32m1\u001b[0m\n\u001b[0;31m    from sclouds.io.process_era-interim import ProcessEraData\u001b[0m\n\u001b[0m                               ^\u001b[0m\n\u001b[0;31mSyntaxError\u001b[0m\u001b[0;31m:\u001b[0m invalid syntax\n"
     ]
    }
   ],
   "source": [
    "from sclouds.io.process_era-interim import ProcessEraData"
   ]
  },
  {
   "cell_type": "code",
   "execution_count": null,
   "metadata": {
    "collapsed": true
   },
   "outputs": [],
   "source": []
  }
 ],
 "metadata": {
  "kernelspec": {
   "display_name": "Python 3",
   "language": "python",
   "name": "python3"
  },
  "language_info": {
   "codemirror_mode": {
    "name": "ipython",
    "version": 3
   },
   "file_extension": ".py",
   "mimetype": "text/x-python",
   "name": "python",
   "nbconvert_exporter": "python",
   "pygments_lexer": "ipython3",
   "version": "3.6.8"
  }
 },
 "nbformat": 4,
 "nbformat_minor": 2
}
