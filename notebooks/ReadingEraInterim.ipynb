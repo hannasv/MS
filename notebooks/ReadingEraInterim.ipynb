{
 "cells": [
  {
   "cell_type": "code",
   "execution_count": 1,
   "metadata": {},
   "outputs": [],
   "source": [
    "import glob\n",
    "import numpy as np\n",
    "import matplotlib.pyplot as plt\n",
    "import xarray as xr\n",
    "%matplotlib inline"
   ]
  },
  {
   "cell_type": "code",
   "execution_count": 2,
   "metadata": {},
   "outputs": [],
   "source": [
    "def split_seasons_and_write_files(xarray):\n",
    "    xarray = xarray.groupby('time.season')\n",
    "    for group in xarray:\n",
    "        key, dataset = group\n",
    "        # TODO write file, use key in filename and dataset.dump to netcdf\n",
    "        # To save the files.\n",
    "\n",
    "def split_into_train_vaild_test_data(train_split, valid_split, test_split, last):\n",
    "    \"\"\"\n",
    "    Do the train, validate, split on the data.\n",
    "\n",
    "    train_split: default 01.01.2008\n",
    "        The first date in training data.\n",
    "        trainingdata from 01.01.2008-31.12.2014 (In total 6yrs)\n",
    "\n",
    "    valid_split:\n",
    "        The first date in training data. Here 01.01.2015.\n",
    "        (01.01.2015-31.12.2016) (In total 2yrs)\n",
    "\n",
    "    test_split:\n",
    "        The test date in training data. Here ??.\n",
    "        (01.01.2017-31.12.2018) (In total 2yrs)\n",
    "\n",
    "    last: Default 31.12.2018.\n",
    "        Should be updated to 31.08.2019 when the dataset is available.\n",
    "\n",
    "    \"\"\"\n",
    "    pass\n"
   ]
  },
  {
   "cell_type": "markdown",
   "metadata": {},
   "source": [
    "1. Read Era-Interim file.\n",
    "2. Crop from 2008-2018 and save some where local for now.\n",
    "3. Split into seasons. Split into test train and validate\n",
    "\n",
    "### Below is a copy from helpers should be imported from there."
   ]
  },
  {
   "cell_type": "code",
   "execution_count": 4,
   "metadata": {},
   "outputs": [],
   "source": [
    "DATA_REPO = \"/uio/lagringshotell/geofag/students/metos/hannasv/data_processed/\"\n",
    "FIGURE_REPO = \"/uio/lagringshotell/geofag/students/metos/hannasv/figures/\"\n",
    "RAW_ERA_REPO = \"/uio/lagringshotell/geofag/students/metos/hannasv/era_interim_data/\"\n",
    "RESULTS_REPO =  \"/uio/lagringshotell/geofag/students/metos/hannasv/results/\"\n",
    "\n",
    "LAT = (30,67)\n",
    "LON = (-15,42)\n",
    "\n",
    "VARIABLES =  [\"t2m\", 'sp', 'q', 'r', 'tcc']\n",
    "PRESSURE_LEVELS = [300, 400, 500, 700, 850, 1000]"
   ]
  },
  {
   "cell_type": "code",
   "execution_count": 6,
   "metadata": {},
   "outputs": [],
   "source": [
    "era_files = glob.glob(RAW_ERA_REPO+\"*.nc\")"
   ]
  },
  {
   "cell_type": "code",
   "execution_count": 7,
   "metadata": {},
   "outputs": [
    {
     "data": {
      "text/plain": [
       "['/uio/lagringshotell/geofag/students/metos/hannasv/era_interim_data/pressure_Europa_MS.nc',\n",
       " '/uio/lagringshotell/geofag/students/metos/hannasv/era_interim_data/temperature_Europa_MS.nc',\n",
       " '/uio/lagringshotell/geofag/students/metos/hannasv/era_interim_data/specific_humidity_Europe_MS.nc',\n",
       " '/uio/lagringshotell/geofag/students/metos/hannasv/era_interim_data/total_cloud_cover_Europa_MS.nc',\n",
       " '/uio/lagringshotell/geofag/students/metos/hannasv/era_interim_data/relative_humidity_Europe_MS.nc']"
      ]
     },
     "execution_count": 7,
     "metadata": {},
     "output_type": "execute_result"
    }
   ],
   "source": [
    "era_files"
   ]
  },
  {
   "cell_type": "code",
   "execution_count": 8,
   "metadata": {},
   "outputs": [],
   "source": [
    "var = \"sp\"\n",
    "sp_file = era_files[0]"
   ]
  },
  {
   "cell_type": "code",
   "execution_count": 9,
   "metadata": {},
   "outputs": [],
   "source": [
    "data = xr.open_dataset(sp_file)"
   ]
  },
  {
   "cell_type": "code",
   "execution_count": 10,
   "metadata": {},
   "outputs": [
    {
     "data": {
      "text/plain": [
       "<xarray.Dataset>\n",
       "Dimensions:    (latitude: 61, longitude: 77, time: 58440)\n",
       "Coordinates:\n",
       "  * longitude  (longitude) float32 -15.0 -14.25 -13.5 -12.75 ... 40.5 41.25 42.0\n",
       "  * latitude   (latitude) float32 75.0 74.25 73.5 72.75 ... 31.5 30.75 30.0\n",
       "  * time       (time) datetime64[ns] 1979-01-01 ... 2018-12-31T18:00:00\n",
       "Data variables:\n",
       "    sp         (time, latitude, longitude) float32 ...\n",
       "Attributes:\n",
       "    Conventions:  CF-1.6\n",
       "    history:      2019-03-26 16:41:18 GMT by grib_to_netcdf-2.12.0: grib_to_n..."
      ]
     },
     "execution_count": 10,
     "metadata": {},
     "output_type": "execute_result"
    }
   ],
   "source": [
    "data"
   ]
  },
  {
   "cell_type": "code",
   "execution_count": 26,
   "metadata": {},
   "outputs": [
    {
     "data": {
      "text/plain": [
       "numpy.datetime64('1979-01-01T00:00:00.000000000')"
      ]
     },
     "execution_count": 26,
     "metadata": {},
     "output_type": "execute_result"
    }
   ],
   "source": [
    "data.time[0].values"
   ]
  },
  {
   "cell_type": "code",
   "execution_count": 30,
   "metadata": {},
   "outputs": [
    {
     "data": {
      "text/plain": [
       "<xarray.Dataset>\n",
       "Dimensions:    (latitude: 61, longitude: 77, time: 58440)\n",
       "Coordinates:\n",
       "  * longitude  (longitude) float32 -15.0 -14.25 -13.5 -12.75 ... 40.5 41.25 42.0\n",
       "  * latitude   (latitude) float32 75.0 74.25 73.5 72.75 ... 31.5 30.75 30.0\n",
       "  * time       (time) datetime64[ns] 1979-01-01 ... 2018-12-31T18:00:00\n",
       "Data variables:\n",
       "    sp         (time, latitude, longitude) float32 ...\n",
       "Attributes:\n",
       "    Conventions:  CF-1.6\n",
       "    history:      2019-03-26 16:41:18 GMT by grib_to_netcdf-2.12.0: grib_to_n..."
      ]
     },
     "execution_count": 30,
     "metadata": {},
     "output_type": "execute_result"
    }
   ],
   "source": [
    "data"
   ]
  },
  {
   "cell_type": "code",
   "execution_count": 41,
   "metadata": {},
   "outputs": [
    {
     "data": {
      "text/plain": [
       "<xarray.Dataset>\n",
       "Dimensions:    (latitude: 61, longitude: 77, time: 16072)\n",
       "Coordinates:\n",
       "  * longitude  (longitude) float32 -15.0 -14.25 -13.5 -12.75 ... 40.5 41.25 42.0\n",
       "  * latitude   (latitude) float32 75.0 74.25 73.5 72.75 ... 31.5 30.75 30.0\n",
       "  * time       (time) datetime64[ns] 2008-01-01 ... 2018-12-31T18:00:00\n",
       "Data variables:\n",
       "    sp         (time, latitude, longitude) float32 ...\n",
       "Attributes:\n",
       "    Conventions:  CF-1.6\n",
       "    history:      2019-03-26 16:41:18 GMT by grib_to_netcdf-2.12.0: grib_to_n..."
      ]
     },
     "execution_count": 41,
     "metadata": {},
     "output_type": "execute_result"
    }
   ],
   "source": [
    "ssliced = data.sel(time=slice('2008-01-01','2018-12-31'))\n",
    "ssliced"
   ]
  },
  {
   "cell_type": "code",
   "execution_count": 42,
   "metadata": {},
   "outputs": [],
   "source": [
    "seasons = ssliced.groupby('time.season')"
   ]
  },
  {
   "cell_type": "code",
   "execution_count": 47,
   "metadata": {},
   "outputs": [
    {
     "data": {
      "text/plain": [
       "u'/uio/hume/student-u89/hannasv/MS/notebooks'"
      ]
     },
     "execution_count": 47,
     "metadata": {},
     "output_type": "execute_result"
    }
   ],
   "source": [
    "pwd"
   ]
  },
  {
   "cell_type": "code",
   "execution_count": 48,
   "metadata": {},
   "outputs": [],
   "source": [
    "for group in seasons:\n",
    "    key, dataset = group\n",
    "    filename = \"era_interim_2008_2018_\"+key+\"_\"+var+\".nc\"\n",
    "    DATA_REPO = '/uio/hume/student-u89/hannasv/'\n",
    "    dataset.to_netcdf(path=DATA_REPO+filename)"
   ]
  },
  {
   "cell_type": "code",
   "execution_count": 39,
   "metadata": {},
   "outputs": [
    {
     "data": {
      "text/plain": [
       "<xarray.core.groupby.DatasetGroupBy at 0x7f2ccb2f9b90>"
      ]
     },
     "execution_count": 39,
     "metadata": {},
     "output_type": "execute_result"
    }
   ],
   "source": [
    "ssliced"
   ]
  }
 ],
 "metadata": {
  "kernelspec": {
   "display_name": "Python 2",
   "language": "python",
   "name": "python2"
  },
  "language_info": {
   "codemirror_mode": {
    "name": "ipython",
    "version": 2
   },
   "file_extension": ".py",
   "mimetype": "text/x-python",
   "name": "python",
   "nbconvert_exporter": "python",
   "pygments_lexer": "ipython2",
   "version": "2.7.15"
  }
 },
 "nbformat": 4,
 "nbformat_minor": 2
}
