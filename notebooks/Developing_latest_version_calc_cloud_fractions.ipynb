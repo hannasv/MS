{
 "cells": [
  {
   "cell_type": "code",
   "execution_count": 3,
   "metadata": {},
   "outputs": [],
   "source": [
    "import os \n",
    "import glob\n",
    "\n",
    "import numpy as np\n",
    "import xarray as xr\n",
    "import pandas as pd\n",
    "\n",
    "from datetime import datetime, timedelta"
   ]
  },
  {
   "cell_type": "code",
   "execution_count": 4,
   "metadata": {},
   "outputs": [],
   "source": [
    "path = '/uio/lagringshotell/geofag/projects/miphclac/hannasv/'\n",
    "save_dir = '/uio/lagringshotell/geofag/projects/miphclac/hannasv/fractions_repo/'\n",
    "\n",
    "years = np.arange(2004, 2019)\n",
    "months = np.arange(1, 13)"
   ]
  },
  {
   "cell_type": "code",
   "execution_count": 6,
   "metadata": {},
   "outputs": [],
   "source": [
    "def timestamp(filename):\n",
    "    \"\"\"\n",
    "    Returns the numpy datetime 64 [ns] for the current date.\n",
    "    This is a bit hardcoded at the moment ...\n",
    "    \"\"\"\n",
    "    splits = filename.split('-')\n",
    "    ts = splits[5]\n",
    "    year = ts[:4]\n",
    "    month = ts[4:6]\n",
    "    day = ts[6:8]\n",
    "    hr = ts[8:10]\n",
    "    minuts = ts[10:12]\n",
    "    sek = ts[12:14]\n",
    "    # TODO make sure all filenames have seconds\n",
    "    return np.datetime64( year+\"-\"+month+\"-\"+day+\"T\"+hr+\":00:00\"+\".000000\").astype(str)"
   ]
  },
  {
   "cell_type": "code",
   "execution_count": 7,
   "metadata": {},
   "outputs": [],
   "source": [
    "def make_folder_str(month, year):\n",
    "    \"\"\" Generates the folder search str\n",
    "    month : int\n",
    "    year : int\n",
    "    \n",
    "    Returns : str\n",
    "        year_month\n",
    "    \"\"\"\n",
    "    \n",
    "    month = \"%2.2d\" % month\n",
    "    return \"{}_{}\".format(year, month)"
   ]
  },
  {
   "cell_type": "code",
   "execution_count": 8,
   "metadata": {},
   "outputs": [],
   "source": [
    "folder = make_folder_str(month, year)"
   ]
  },
  {
   "cell_type": "code",
   "execution_count": 9,
   "metadata": {},
   "outputs": [],
   "source": [
    "def get_missing_vals(folder):\n",
    "    \"\"\"Returns missing timesteps in folder.\"\"\"\n",
    "    year, month = folder.split('_')\n",
    "    year  = int(year)\n",
    "    month = int(month)\n",
    "    \n",
    "    if month < 12:\n",
    "        next_m = month + 1\n",
    "    else:\n",
    "        next_m = 1\n",
    "        \n",
    "    t = np.arange(datetime(year,month,1), datetime(year,next_m,1), timedelta(hours=1)).astype(str)\n",
    "    folder = make_folder_str(month, year)\n",
    "    files_in_folder = glob.glob(os.path.join(path, folder, '*grb'))\n",
    "    times = [timestamp(fil) for fil in files_in_folder]\n",
    "    a = times \n",
    "    b = t\n",
    "    c = [x for x in a if x not in b]+[x for x in b if x not in a]\n",
    "    return c"
   ]
  },
  {
   "cell_type": "code",
   "execution_count": 10,
   "metadata": {},
   "outputs": [
    {
     "data": {
      "text/plain": [
       "['2004-08-26T02:00:00.000000', '2004-08-26T03:00:00.000000']"
      ]
     },
     "execution_count": 10,
     "metadata": {},
     "output_type": "execute_result"
    }
   ],
   "source": [
    "get_missing_vals(folder)"
   ]
  },
  {
   "cell_type": "code",
   "execution_count": 11,
   "metadata": {},
   "outputs": [],
   "source": [
    "files_in_folder = glob.glob(os.path.join(path, folder, '*grb'))\n",
    "times = [timestamp(fil) for fil in files_in_folder]"
   ]
  },
  {
   "cell_type": "code",
   "execution_count": 12,
   "metadata": {},
   "outputs": [],
   "source": [
    "def timestamp_to_file_search_str(timestamp):\n",
    "    splits = [split.split('T') for split in timestamp.split(':')[0].split('-')]\n",
    "    s = ''\n",
    "    for a in np.concatenate(splits):\n",
    "        s+=a\n",
    "    return s"
   ]
  },
  {
   "cell_type": "code",
   "execution_count": 13,
   "metadata": {},
   "outputs": [
    {
     "data": {
      "text/plain": [
       "'2004080115'"
      ]
     },
     "execution_count": 13,
     "metadata": {},
     "output_type": "execute_result"
    }
   ],
   "source": [
    "timestamp_to_file_search_str('2004-08-01T15')"
   ]
  },
  {
   "cell_type": "code",
   "execution_count": 14,
   "metadata": {},
   "outputs": [
    {
     "data": {
      "text/plain": [
       "'2004-08-26T02:00:00.000000'"
      ]
     },
     "execution_count": 14,
     "metadata": {},
     "output_type": "execute_result"
    }
   ],
   "source": [
    "'2004-08-26T02:00:00.000000'"
   ]
  },
  {
   "cell_type": "code",
   "execution_count": 15,
   "metadata": {},
   "outputs": [],
   "source": [
    "def removes_duplicates(year, month):\n",
    "    folder = make_folder_str(month, year)\n",
    "    files_in_folder = glob.glob(os.path.join(path, folder, '*grb'))\n",
    "\n",
    "    if np.unique(times) != len(times):\n",
    "        keeping = []\n",
    "        missing = []\n",
    "        for fil in files_in_folder:\n",
    "            # if timestep is already there don't append\n",
    "            search_for = timestamp_to_file_search_str(timestamp(fil))\n",
    "            files =  glob.glob(os.path.join(path, folder, '*-{}*grb'.format(search_for)))  \n",
    "            if len(files) > 0:\n",
    "                keeping.append(files[0]) # only keep the first one for multiple files of the same data"
   ]
  },
  {
   "cell_type": "code",
   "execution_count": 16,
   "metadata": {},
   "outputs": [],
   "source": [
    "def find_correct_fraction_file_and_add_regridded():\n",
    "    \"\"\"\n",
    "    \n",
    "    \n",
    "    \"\"\"\n",
    "    pass"
   ]
  },
  {
   "cell_type": "code",
   "execution_count": 21,
   "metadata": {},
   "outputs": [],
   "source": [
    "# len(get_missing_vals(make_folder_str(year=y, month=m)"
   ]
  },
  {
   "cell_type": "code",
   "execution_count": 23,
   "metadata": {},
   "outputs": [],
   "source": [
    "files = ['2004_04.nc', '2004_06.nc', '2004_08.nc', '2004_10.nc', '2004_12.nc', '2005_06.nc', \n",
    "'2005_08.nc', '2005_10.nc', '2005_12.nc',  '2006_02.nc',\n",
    "'2004_05.nc', '2004_07.nc', '2004_09.nc', '2004_11.nc', '2005_05.nc', '2005_07.nc', \n",
    "'2005_09.nc', '2005_11.nc', '2006_01.nc']\n"
   ]
  },
  {
   "cell_type": "code",
   "execution_count": 25,
   "metadata": {
    "scrolled": true
   },
   "outputs": [
    {
     "name": "stdout",
     "output_type": "stream",
     "text": [
      "<xarray.Dataset>\n",
      "Dimensions:    (latitude: 81, longitude: 161, time: 690)\n",
      "Coordinates:\n",
      "  * time       (time) datetime64[ns] 2004-04-02 ... 2004-04-30T23:00:00\n",
      "  * latitude   (latitude) float64 30.0 30.25 30.5 30.75 ... 49.5 49.75 50.0\n",
      "  * longitude  (longitude) float64 -15.0 -14.75 -14.5 -14.25 ... 24.5 24.75 25.0\n",
      "Data variables:\n",
      "    tcc        (time, latitude, longitude) float64 ...\n",
      "    nr_nans    (time, latitude, longitude) float64 ...\n",
      " \n",
      "<xarray.Dataset>\n",
      "Dimensions:    (latitude: 81, longitude: 161, time: 716)\n",
      "Coordinates:\n",
      "  * time       (time) datetime64[ns] 2004-06-01 ... 2004-06-30T23:00:00\n",
      "  * latitude   (latitude) float64 30.0 30.25 30.5 30.75 ... 49.5 49.75 50.0\n",
      "  * longitude  (longitude) float64 -15.0 -14.75 -14.5 -14.25 ... 24.5 24.75 25.0\n",
      "Data variables:\n",
      "    tcc        (time, latitude, longitude) float64 ...\n",
      "    nr_nans    (time, latitude, longitude) float64 ...\n",
      " \n",
      "<xarray.Dataset>\n",
      "Dimensions:    (latitude: 81, longitude: 161, time: 741)\n",
      "Coordinates:\n",
      "  * time       (time) datetime64[ns] 2004-08-01 ... 2004-08-31T23:00:00\n",
      "  * latitude   (latitude) float64 30.0 30.25 30.5 30.75 ... 49.5 49.75 50.0\n",
      "  * longitude  (longitude) float64 -15.0 -14.75 -14.5 -14.25 ... 24.5 24.75 25.0\n",
      "Data variables:\n",
      "    tcc        (time, latitude, longitude) float64 ...\n",
      "    nr_nans    (time, latitude, longitude) float64 ...\n",
      " \n",
      "<xarray.Dataset>\n",
      "Dimensions:    (latitude: 81, longitude: 161, time: 667)\n",
      "Coordinates:\n",
      "  * time       (time) datetime64[ns] 2004-10-01 ... 2004-10-31T23:00:00\n",
      "  * latitude   (latitude) float64 30.0 30.25 30.5 30.75 ... 49.5 49.75 50.0\n",
      "  * longitude  (longitude) float64 -15.0 -14.75 -14.5 -14.25 ... 24.5 24.75 25.0\n",
      "Data variables:\n",
      "    tcc        (time, latitude, longitude) float64 ...\n",
      "    nr_nans    (time, latitude, longitude) float64 ...\n",
      " \n",
      "<xarray.Dataset>\n",
      "Dimensions:    (latitude: 81, longitude: 161, time: 739)\n",
      "Coordinates:\n",
      "  * time       (time) datetime64[ns] 2004-12-01 ... 2004-12-31T23:00:00\n",
      "  * latitude   (latitude) float64 30.0 30.25 30.5 30.75 ... 49.5 49.75 50.0\n",
      "  * longitude  (longitude) float64 -15.0 -14.75 -14.5 -14.25 ... 24.5 24.75 25.0\n",
      "Data variables:\n",
      "    tcc        (time, latitude, longitude) float64 ...\n",
      "    nr_nans    (time, latitude, longitude) float64 ...\n",
      " \n",
      "<xarray.Dataset>\n",
      "Dimensions:    (latitude: 81, longitude: 161, time: 715)\n",
      "Coordinates:\n",
      "  * time       (time) datetime64[ns] 2005-06-01 ... 2005-06-30T23:00:00\n",
      "  * latitude   (latitude) float64 30.0 30.25 30.5 30.75 ... 49.5 49.75 50.0\n",
      "  * longitude  (longitude) float64 -15.0 -14.75 -14.5 -14.25 ... 24.5 24.75 25.0\n",
      "Data variables:\n",
      "    tcc        (time, latitude, longitude) float64 ...\n",
      "    nr_nans    (time, latitude, longitude) float64 ...\n",
      " \n",
      "<xarray.Dataset>\n",
      "Dimensions:    (latitude: 81, longitude: 161, time: 744)\n",
      "Coordinates:\n",
      "  * time       (time) datetime64[ns] 2005-08-01 ... 2005-08-31T23:00:00\n",
      "  * latitude   (latitude) float64 30.0 30.25 30.5 30.75 ... 49.5 49.75 50.0\n",
      "  * longitude  (longitude) float64 -15.0 -14.75 -14.5 -14.25 ... 24.5 24.75 25.0\n",
      "Data variables:\n",
      "    tcc        (time, latitude, longitude) float64 ...\n",
      "    nr_nans    (time, latitude, longitude) float64 ...\n",
      " \n",
      "<xarray.Dataset>\n",
      "Dimensions:    (latitude: 81, longitude: 161, time: 741)\n",
      "Coordinates:\n",
      "  * time       (time) datetime64[ns] 2005-10-01 ... 2005-10-31T23:00:00\n",
      "  * latitude   (latitude) float64 30.0 30.25 30.5 30.75 ... 49.5 49.75 50.0\n",
      "  * longitude  (longitude) float64 -15.0 -14.75 -14.5 -14.25 ... 24.5 24.75 25.0\n",
      "Data variables:\n",
      "    tcc        (time, latitude, longitude) float64 ...\n",
      "    nr_nans    (time, latitude, longitude) float64 ...\n",
      " \n",
      "<xarray.Dataset>\n",
      "Dimensions:    (latitude: 81, longitude: 161, time: 743)\n",
      "Coordinates:\n",
      "  * time       (time) datetime64[ns] 2005-12-01 ... 2005-12-31T23:00:00\n",
      "  * latitude   (latitude) float64 30.0 30.25 30.5 30.75 ... 49.5 49.75 50.0\n",
      "  * longitude  (longitude) float64 -15.0 -14.75 -14.5 -14.25 ... 24.5 24.75 25.0\n",
      "Data variables:\n",
      "    tcc        (time, latitude, longitude) float64 ...\n",
      "    nr_nans    (time, latitude, longitude) float64 ...\n",
      " \n",
      "<xarray.Dataset>\n",
      "Dimensions:    (latitude: 81, longitude: 161, time: 670)\n",
      "Coordinates:\n",
      "  * time       (time) datetime64[ns] 2006-02-01 ... 2006-02-28T23:00:00\n",
      "  * latitude   (latitude) float64 30.0 30.25 30.5 30.75 ... 49.5 49.75 50.0\n",
      "  * longitude  (longitude) float64 -15.0 -14.75 -14.5 -14.25 ... 24.5 24.75 25.0\n",
      "Data variables:\n",
      "    tcc        (time, latitude, longitude) float64 ...\n",
      "    nr_nans    (time, latitude, longitude) float64 ...\n",
      " \n",
      "<xarray.Dataset>\n",
      "Dimensions:    (latitude: 81, longitude: 161, time: 742)\n",
      "Coordinates:\n",
      "  * time       (time) datetime64[ns] 2004-05-01 ... 2004-05-31T23:00:00\n",
      "  * latitude   (latitude) float64 30.0 30.25 30.5 30.75 ... 49.5 49.75 50.0\n",
      "  * longitude  (longitude) float64 -15.0 -14.75 -14.5 -14.25 ... 24.5 24.75 25.0\n",
      "Data variables:\n",
      "    tcc        (time, latitude, longitude) float64 ...\n",
      "    nr_nans    (time, latitude, longitude) float64 ...\n",
      " \n",
      "<xarray.Dataset>\n",
      "Dimensions:    (latitude: 81, longitude: 161, time: 743)\n",
      "Coordinates:\n",
      "  * time       (time) datetime64[ns] 2004-07-01 ... 2004-07-31T23:00:00\n",
      "  * latitude   (latitude) float64 30.0 30.25 30.5 30.75 ... 49.5 49.75 50.0\n",
      "  * longitude  (longitude) float64 -15.0 -14.75 -14.5 -14.25 ... 24.5 24.75 25.0\n",
      "Data variables:\n",
      "    tcc        (time, latitude, longitude) float64 ...\n",
      "    nr_nans    (time, latitude, longitude) float64 ...\n",
      " \n",
      "<xarray.Dataset>\n",
      "Dimensions:    (latitude: 81, longitude: 161, time: 719)\n",
      "Coordinates:\n",
      "  * time       (time) datetime64[ns] 2004-09-01 ... 2004-09-30T23:00:00\n",
      "  * latitude   (latitude) float64 30.0 30.25 30.5 30.75 ... 49.5 49.75 50.0\n",
      "  * longitude  (longitude) float64 -15.0 -14.75 -14.5 -14.25 ... 24.5 24.75 25.0\n",
      "Data variables:\n",
      "    tcc        (time, latitude, longitude) float64 ...\n",
      "    nr_nans    (time, latitude, longitude) float64 ...\n",
      " \n",
      "<xarray.Dataset>\n",
      "Dimensions:    (latitude: 81, longitude: 161, time: 719)\n",
      "Coordinates:\n",
      "  * time       (time) datetime64[ns] 2004-11-01 ... 2004-11-30T23:00:00\n",
      "  * latitude   (latitude) float64 30.0 30.25 30.5 30.75 ... 49.5 49.75 50.0\n",
      "  * longitude  (longitude) float64 -15.0 -14.75 -14.5 -14.25 ... 24.5 24.75 25.0\n",
      "Data variables:\n",
      "    tcc        (time, latitude, longitude) float64 ...\n",
      "    nr_nans    (time, latitude, longitude) float64 ...\n",
      " \n",
      "<xarray.Dataset>\n",
      "Dimensions:    (latitude: 81, longitude: 161, time: 739)\n",
      "Coordinates:\n",
      "  * time       (time) datetime64[ns] 2005-05-01 ... 2005-05-31T23:00:00\n",
      "  * latitude   (latitude) float64 30.0 30.25 30.5 30.75 ... 49.5 49.75 50.0\n",
      "  * longitude  (longitude) float64 -15.0 -14.75 -14.5 -14.25 ... 24.5 24.75 25.0\n",
      "Data variables:\n",
      "    tcc        (time, latitude, longitude) float64 ...\n",
      "    nr_nans    (time, latitude, longitude) float64 ...\n",
      " \n",
      "<xarray.Dataset>\n",
      "Dimensions:    (latitude: 81, longitude: 161, time: 742)\n",
      "Coordinates:\n",
      "  * time       (time) datetime64[ns] 2005-07-01 ... 2005-07-31T23:00:00\n",
      "  * latitude   (latitude) float64 30.0 30.25 30.5 30.75 ... 49.5 49.75 50.0\n",
      "  * longitude  (longitude) float64 -15.0 -14.75 -14.5 -14.25 ... 24.5 24.75 25.0\n",
      "Data variables:\n",
      "    tcc        (time, latitude, longitude) float64 ...\n",
      "    nr_nans    (time, latitude, longitude) float64 ...\n",
      " \n",
      "<xarray.Dataset>\n",
      "Dimensions:    (latitude: 81, longitude: 161, time: 719)\n",
      "Coordinates:\n",
      "  * time       (time) datetime64[ns] 2005-09-01 ... 2005-09-30T23:00:00\n",
      "  * latitude   (latitude) float64 30.0 30.25 30.5 30.75 ... 49.5 49.75 50.0\n",
      "  * longitude  (longitude) float64 -15.0 -14.75 -14.5 -14.25 ... 24.5 24.75 25.0\n",
      "Data variables:\n",
      "    tcc        (time, latitude, longitude) float64 ...\n",
      "    nr_nans    (time, latitude, longitude) float64 ...\n",
      " \n",
      "<xarray.Dataset>\n",
      "Dimensions:    (latitude: 81, longitude: 161, time: 720)\n",
      "Coordinates:\n",
      "  * time       (time) datetime64[ns] 2005-11-01 ... 2005-11-30T23:00:00\n",
      "  * latitude   (latitude) float64 30.0 30.25 30.5 30.75 ... 49.5 49.75 50.0\n",
      "  * longitude  (longitude) float64 -15.0 -14.75 -14.5 -14.25 ... 24.5 24.75 25.0\n",
      "Data variables:\n",
      "    tcc        (time, latitude, longitude) float64 ...\n",
      "    nr_nans    (time, latitude, longitude) float64 ...\n",
      " \n",
      "<xarray.Dataset>\n",
      "Dimensions:    (latitude: 81, longitude: 161, time: 652)\n",
      "Coordinates:\n",
      "  * time       (time) datetime64[ns] 2006-01-01 ... 2006-01-31T23:00:00\n",
      "  * latitude   (latitude) float64 30.0 30.25 30.5 30.75 ... 49.5 49.75 50.0\n",
      "  * longitude  (longitude) float64 -15.0 -14.75 -14.5 -14.25 ... 24.5 24.75 25.0\n",
      "Data variables:\n",
      "    tcc        (time, latitude, longitude) float64 ...\n",
      "    nr_nans    (time, latitude, longitude) float64 ...\n",
      " \n"
     ]
    }
   ],
   "source": [
    "for fil in files:\n",
    "    data = xr.open_dataset(os.path.join(save_dir, fil))\n",
    "    print(data)\n",
    "    print(' ')"
   ]
  },
  {
   "cell_type": "code",
   "execution_count": null,
   "metadata": {},
   "outputs": [],
   "source": []
  },
  {
   "cell_type": "code",
   "execution_count": null,
   "metadata": {},
   "outputs": [],
   "source": []
  },
  {
   "cell_type": "markdown",
   "metadata": {},
   "source": [
    "# Testing : "
   ]
  },
  {
   "cell_type": "code",
   "execution_count": 18,
   "metadata": {},
   "outputs": [],
   "source": [
    "path = '/uio/lagringshotell/geofag/projects/miphclac/hannasv/'\n",
    "save_dir = '/uio/lagringshotell/geofag/projects/miphclac/hannasv/fractions_repo/'"
   ]
  },
  {
   "cell_type": "code",
   "execution_count": 19,
   "metadata": {},
   "outputs": [],
   "source": [
    "years = np.arange(2004, 2019)\n",
    "months = np.arange(1, 13)"
   ]
  },
  {
   "cell_type": "code",
   "execution_count": 26,
   "metadata": {},
   "outputs": [],
   "source": [
    "def add_file_to_existing(filename,\n",
    "                         lat = np.arange(30.0, 50.25, 0.25),\n",
    "                         lon = np.arange(-15.0, 25.25, 0.25)):\n",
    "    \n",
    "    # Find folder to add it to\n",
    "    target_fil = get_fraction_file(filename)\n",
    "    ds = xr.open_dataset(target_fil)\n",
    "\n",
    "    \"\"\" grib_files : list of files. One month. \"\"\"\n",
    "    data_grid = get_dict_with_all_keys()\n",
    "\n",
    "    counter = 0\n",
    "\n",
    "    cloud_fraction, nans = compute(filename, lat, lon)\n",
    "    new_ds = xr.Dataset({'tcc': (['latitude', 'longitude'],  cloud_fraction),\n",
    "                         'nr_nans':(['latitude', 'longitude'], nans),\n",
    "                        },\n",
    "                          coords={'longitude': (['longitude'], lon),\n",
    "                                  'latitude': (['latitude'], lat),\n",
    "                                   })\n",
    "\n",
    "    ts = timestamp(filename)\n",
    "    new_ds['time'] = ts\n",
    "\n",
    "    # Add time as a coordinate and dimension.\n",
    "    new_ds = new_ds.assign_coords(time = new_ds.time)\n",
    "    new_ds = new_ds.expand_dims(dim = 'time')\n",
    "\n",
    "    try:\n",
    "        ds = ds.merge(new_ds)\n",
    "    except xr.MergeError:\n",
    "        # Happens if MS1 and MS2 have taken a image at the same time\n",
    "        print(\"Filename not included {}\".format(filename))\n",
    "    logging.debug('Finished added {} to {}.'.format())\n",
    "        #print(\"completed {}/{} files\".format(counter, len(grb_files)))\n",
    "    return ds\n"
   ]
  },
  {
   "cell_type": "code",
   "execution_count": 27,
   "metadata": {},
   "outputs": [],
   "source": [
    "test_fil = 'MSG4-SEVI-MSGCLMK-0100-0100-20190203040000.000000000Z-20190203041358-1375012.grb'"
   ]
  },
  {
   "cell_type": "code",
   "execution_count": 33,
   "metadata": {},
   "outputs": [],
   "source": []
  },
  {
   "cell_type": "code",
   "execution_count": null,
   "metadata": {},
   "outputs": [],
   "source": []
  },
  {
   "cell_type": "code",
   "execution_count": 39,
   "metadata": {},
   "outputs": [],
   "source": [
    "def get_fraction_file(filename):\n",
    "    \"\"\" Raw filename.\n",
    "    \"\"\"\n",
    "    a = filename.split('-')[5].split('.')[0][:6]\n",
    "    target_fil = a[:4]+'_'+a[4:]+'.nc'\n",
    "    path = '/uio/lagringshotell/geofag/projects/miphclac/hannasv/fractions_repo/'\n",
    "    \n",
    "    return os.path.join(path, target_fil)\n"
   ]
  },
  {
   "cell_type": "code",
   "execution_count": 38,
   "metadata": {},
   "outputs": [
    {
     "data": {
      "text/plain": [
       "'/uio/lagringshotell/geofag/projects/miphclac/hannasv/fractions_repo/2019_02.nc'"
      ]
     },
     "execution_count": 38,
     "metadata": {},
     "output_type": "execute_result"
    }
   ],
   "source": [
    "get_fraction_file_based_on_location(test_fil)"
   ]
  },
  {
   "cell_type": "code",
   "execution_count": null,
   "metadata": {},
   "outputs": [],
   "source": []
  },
  {
   "cell_type": "code",
   "execution_count": null,
   "metadata": {},
   "outputs": [],
   "source": []
  },
  {
   "cell_type": "code",
   "execution_count": null,
   "metadata": {},
   "outputs": [],
   "source": []
  },
  {
   "cell_type": "code",
   "execution_count": null,
   "metadata": {},
   "outputs": [],
   "source": []
  },
  {
   "cell_type": "code",
   "execution_count": null,
   "metadata": {},
   "outputs": [],
   "source": []
  },
  {
   "cell_type": "code",
   "execution_count": null,
   "metadata": {},
   "outputs": [],
   "source": []
  },
  {
   "cell_type": "code",
   "execution_count": null,
   "metadata": {},
   "outputs": [],
   "source": []
  },
  {
   "cell_type": "code",
   "execution_count": null,
   "metadata": {},
   "outputs": [],
   "source": []
  }
 ],
 "metadata": {
  "kernelspec": {
   "display_name": "Python 2",
   "language": "python",
   "name": "python2"
  },
  "language_info": {
   "codemirror_mode": {
    "name": "ipython",
    "version": 2
   },
   "file_extension": ".py",
   "mimetype": "text/x-python",
   "name": "python",
   "nbconvert_exporter": "python",
   "pygments_lexer": "ipython2",
   "version": "2.7.15"
  }
 },
 "nbformat": 4,
 "nbformat_minor": 2
}
