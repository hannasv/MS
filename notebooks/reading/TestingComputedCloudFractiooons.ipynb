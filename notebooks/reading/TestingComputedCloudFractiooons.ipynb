{
 "cells": [
  {
   "cell_type": "code",
   "execution_count": 64,
   "metadata": {},
   "outputs": [],
   "source": [
    "import glob \n",
    "import xarray as xr\n",
    "import matplotlib.pyplot as plt\n"
   ]
  },
  {
   "cell_type": "code",
   "execution_count": 62,
   "metadata": {},
   "outputs": [],
   "source": [
    "path = \"/home/hanna/lagrings/satelite_data/\"\n",
    "save_dir = \"/home/hanna/images_simple_statsmodels/\""
   ]
  },
  {
   "cell_type": "code",
   "execution_count": 9,
   "metadata": {},
   "outputs": [],
   "source": [
    "files= glob.glob(path+\"*heilt*.nc\")"
   ]
  },
  {
   "cell_type": "code",
   "execution_count": 10,
   "metadata": {},
   "outputs": [
    {
     "data": {
      "text/plain": [
       "99"
      ]
     },
     "execution_count": 10,
     "metadata": {},
     "output_type": "execute_result"
    }
   ],
   "source": [
    "len(files)"
   ]
  },
  {
   "cell_type": "code",
   "execution_count": 11,
   "metadata": {},
   "outputs": [],
   "source": [
    "for i, fil in enumerate(files):\n",
    "    if i == 0:\n",
    "        ds = xr.open_dataset(fil)\n",
    "    else:\n",
    "        try:\n",
    "            ds = ds.merge( xr.open_dataset(fil) )\n",
    "        except xr.MergeError:\n",
    "            #ds = ds.merge( xr.open_dataset(fil))\n",
    "            print(fil)"
   ]
  },
  {
   "cell_type": "code",
   "execution_count": 12,
   "metadata": {},
   "outputs": [
    {
     "data": {
      "text/plain": [
       "<xarray.Dataset>\n",
       "Dimensions:    (latitude: 81, longitude: 161, time: 921)\n",
       "Coordinates:\n",
       "  * time       (time) datetime64[ns] 2004-04-03T08:00:00 ... 2004-08-12T03:00:00\n",
       "  * latitude   (latitude) float64 30.0 30.25 30.5 30.75 ... 49.5 49.75 50.0\n",
       "  * longitude  (longitude) float64 -15.0 -14.75 -14.5 -14.25 ... 24.5 24.75 25.0\n",
       "Data variables:\n",
       "    tcc        (time, latitude, longitude) float64 0.1812 0.2106 ... 1.0 1.0\n",
       "    nr_nans    (time, latitude, longitude) float64 0.0 0.0 0.0 ... 0.0 0.0 0.0"
      ]
     },
     "execution_count": 12,
     "metadata": {},
     "output_type": "execute_result"
    }
   ],
   "source": [
    "ds"
   ]
  },
  {
   "cell_type": "markdown",
   "metadata": {},
   "source": [
    "## Sammenligne med era5"
   ]
  },
  {
   "cell_type": "code",
   "execution_count": 13,
   "metadata": {},
   "outputs": [],
   "source": [
    "path = \"/home/hanna/lagrings/dataERA5_grib/\""
   ]
  },
  {
   "cell_type": "code",
   "execution_count": 14,
   "metadata": {},
   "outputs": [],
   "source": [
    "f1 = glob.glob(path+\"*total*cover*.grib\")"
   ]
  },
  {
   "cell_type": "code",
   "execution_count": 15,
   "metadata": {},
   "outputs": [
    {
     "data": {
      "text/plain": [
       "['/home/hanna/lagrings/dataERA5_grib/total_cloud_cover2012_2018_surface_level.grib',\n",
       " '/home/hanna/lagrings/dataERA5_grib/total_cloud_cover2004_2011_surface_level.grib']"
      ]
     },
     "execution_count": 15,
     "metadata": {},
     "output_type": "execute_result"
    }
   ],
   "source": [
    "f1"
   ]
  },
  {
   "cell_type": "code",
   "execution_count": 16,
   "metadata": {},
   "outputs": [],
   "source": [
    "dtcc = xr.open_dataset(f1[-1], engine = \"cfgrib\")"
   ]
  },
  {
   "cell_type": "code",
   "execution_count": 17,
   "metadata": {},
   "outputs": [
    {
     "data": {
      "text/plain": [
       "<xarray.Dataset>\n",
       "Dimensions:     (latitude: 103, longitude: 178, time: 70128)\n",
       "Coordinates:\n",
       "    number      int64 ...\n",
       "  * time        (time) datetime64[ns] 2004-01-01 ... 2011-12-31T23:00:00\n",
       "    step        timedelta64[ns] ...\n",
       "    surface     int64 ...\n",
       "  * latitude    (latitude) float64 55.5 55.25 55.0 54.75 ... 30.5 30.25 30.0\n",
       "  * longitude   (longitude) float64 -15.0 -14.75 -14.5 ... 28.75 29.0 29.25\n",
       "    valid_time  (time) datetime64[ns] ...\n",
       "Data variables:\n",
       "    tcc         (time, latitude, longitude) float32 ...\n",
       "Attributes:\n",
       "    GRIB_edition:            1\n",
       "    GRIB_centre:             ecmf\n",
       "    GRIB_centreDescription:  European Centre for Medium-Range Weather Forecasts\n",
       "    GRIB_subCentre:          0\n",
       "    Conventions:             CF-1.7\n",
       "    institution:             European Centre for Medium-Range Weather Forecasts\n",
       "    history:                 2019-11-24T08:25:10 GRIB to CDM+CF via cfgrib-0...."
      ]
     },
     "execution_count": 17,
     "metadata": {},
     "output_type": "execute_result"
    }
   ],
   "source": [
    "dtcc"
   ]
  },
  {
   "cell_type": "code",
   "execution_count": 9,
   "metadata": {},
   "outputs": [
    {
     "data": {
      "text/plain": [
       "'/home/hanna/lagrings/dataERA5_grib/total_cloud_cover2012_2018_surface_level.grib'"
      ]
     },
     "execution_count": 9,
     "metadata": {},
     "output_type": "execute_result"
    }
   ],
   "source": [
    "f1"
   ]
  },
  {
   "cell_type": "code",
   "execution_count": 18,
   "metadata": {},
   "outputs": [],
   "source": [
    "de = dtcc.sel(time = ds.time)"
   ]
  },
  {
   "cell_type": "code",
   "execution_count": 40,
   "metadata": {},
   "outputs": [
    {
     "data": {
      "text/plain": [
       "array([[0.9255676 , 0.929718  , 0.92974854, ..., 0.        , 0.        ,\n",
       "        0.        ],\n",
       "       [0.9656067 , 0.9356079 , 0.91156006, ..., 0.        , 0.        ,\n",
       "        0.        ],\n",
       "       [0.9700012 , 0.9273987 , 0.89349365, ..., 0.        , 0.        ,\n",
       "        0.        ],\n",
       "       ...,\n",
       "       [0.95184326, 0.95962524, 0.9605713 , ..., 0.5704346 , 0.67904663,\n",
       "        0.6309204 ],\n",
       "       [0.95877075, 0.8789673 , 0.8661499 , ..., 0.6826782 , 0.6854553 ,\n",
       "        0.75994873],\n",
       "       [0.9300232 , 0.8339844 , 0.7799988 , ..., 0.48251343, 0.523468  ,\n",
       "        0.5554199 ]], dtype=float32)"
      ]
     },
     "execution_count": 40,
     "metadata": {},
     "output_type": "execute_result"
    }
   ],
   "source": [
    "de.isel(time = 0).tcc.values"
   ]
  },
  {
   "cell_type": "code",
   "execution_count": 41,
   "metadata": {},
   "outputs": [],
   "source": [
    "de2 = de.sel(latitude = slice(50,30) , longitude = slice(-15, 25))"
   ]
  },
  {
   "cell_type": "code",
   "execution_count": 43,
   "metadata": {},
   "outputs": [],
   "source": [
    "#de2.tcc.values"
   ]
  },
  {
   "cell_type": "code",
   "execution_count": 31,
   "metadata": {},
   "outputs": [],
   "source": [
    "#ds['tcc']"
   ]
  },
  {
   "cell_type": "code",
   "execution_count": 44,
   "metadata": {},
   "outputs": [],
   "source": [
    "#de2['tcc'].isel(time = 0)"
   ]
  },
  {
   "cell_type": "code",
   "execution_count": 45,
   "metadata": {},
   "outputs": [],
   "source": [
    "#de2['tcc'].plot()''"
   ]
  },
  {
   "cell_type": "code",
   "execution_count": 52,
   "metadata": {},
   "outputs": [
    {
     "data": {
      "text/plain": [
       "<xarray.Dataset>\n",
       "Dimensions:     (latitude: 81, longitude: 161, time: 921)\n",
       "Coordinates:\n",
       "    number      int64 ...\n",
       "  * time        (time) datetime64[ns] 2004-04-03T08:00:00 ... 2004-08-12T03:00:00\n",
       "    step        timedelta64[ns] ...\n",
       "    surface     int64 ...\n",
       "  * latitude    (latitude) float64 50.0 49.75 49.5 49.25 ... 30.5 30.25 30.0\n",
       "  * longitude   (longitude) float64 -15.0 -14.75 -14.5 ... 24.5 24.75 25.0\n",
       "    valid_time  (time) datetime64[ns] ...\n",
       "Data variables:\n",
       "    era         (time, latitude, longitude) float32 0.60165405 ... 0.9625244\n",
       "Attributes:\n",
       "    GRIB_edition:            1\n",
       "    GRIB_centre:             ecmf\n",
       "    GRIB_centreDescription:  European Centre for Medium-Range Weather Forecasts\n",
       "    GRIB_subCentre:          0\n",
       "    Conventions:             CF-1.7\n",
       "    institution:             European Centre for Medium-Range Weather Forecasts\n",
       "    history:                 2019-11-24T08:25:10 GRIB to CDM+CF via cfgrib-0...."
      ]
     },
     "execution_count": 52,
     "metadata": {},
     "output_type": "execute_result"
    }
   ],
   "source": []
  },
  {
   "cell_type": "code",
   "execution_count": 53,
   "metadata": {},
   "outputs": [],
   "source": [
    "merged = xr.merge([de2.rename({'tcc':'era'}), ds['tcc']])"
   ]
  },
  {
   "cell_type": "code",
   "execution_count": 63,
   "metadata": {},
   "outputs": [],
   "source": [
    "merged.to_netcdf(save_dir + 'diff_era_calc_frac.nc')"
   ]
  },
  {
   "cell_type": "code",
   "execution_count": 55,
   "metadata": {},
   "outputs": [],
   "source": [
    "diff = merged['era']-merged['tcc']"
   ]
  },
  {
   "cell_type": "code",
   "execution_count": 56,
   "metadata": {},
   "outputs": [
    {
     "data": {
      "text/plain": [
       "<xarray.DataArray (time: 921, latitude: 81, longitude: 161)>\n",
       "array([[[ 0.74882252,  0.62337493,  0.77341353, ..., -0.86315863,\n",
       "         -0.71737435, -0.79760821],\n",
       "        [ 0.30702848,  0.11677554,  0.27912357, ..., -0.77530652,\n",
       "         -0.91781616, -0.51948089],\n",
       "        [ 0.60408447,  0.88719974,  0.50864167, ..., -0.74154663,\n",
       "         -0.68215942, -0.14219849],\n",
       "        ...,\n",
       "        [ 0.98086548,  0.98562622,  0.41821072, ..., -0.72092798,\n",
       "         -0.6254758 , -0.81248681],\n",
       "        [ 0.85931396,  0.91357422,  0.64008474, ..., -0.79045899,\n",
       "         -0.72248033, -0.61115065],\n",
       "        [ 0.60165405,  0.662323  ,  0.75457764, ..., -0.51680384,\n",
       "         -0.72523014, -0.59245532]],\n",
       "\n",
       "       [[ 0.91547833,  0.45018165, -0.20976703, ..., -0.03636397,\n",
       "         -0.036115  , -0.85228335],\n",
       "        [ 0.74094789,  0.39786788, -0.10689465, ..., -0.1007522 ,\n",
       "          0.14717203, -0.32799586],\n",
       "        [ 0.36206363,  0.62010673,  0.85550088, ..., -0.49641443,\n",
       "         -0.07506933,  0.10923201],\n",
       "        ...,\n",
       "        [ 0.89797974,  0.25785142,  0.41614821, ..., -0.51055521,\n",
       "         -0.83394322, -0.52212543],\n",
       "        [ 0.62614984, -0.05122066,  0.40285475, ..., -0.5115943 ,\n",
       "         -0.41482853, -0.85208648],\n",
       "        [ 0.43602819, -0.12296137,  0.52525851, ..., -0.87493875,\n",
       "         -0.84648676, -0.42261129]],\n",
       "\n",
       "       [[ 0.20564592, -0.0585022 , -0.02001541, ..., -0.41584526,\n",
       "         -0.29200318,  0.06682939],\n",
       "        [ 0.38041908, -0.09613037, -0.12637329, ...,  0.29690296,\n",
       "         -0.43269774, -0.23596344],\n",
       "        [ 0.79156858,  0.13835092,  0.28682201, ...,  0.69818115,\n",
       "          0.39957372, -0.10220432],\n",
       "        ...,\n",
       "        [-0.19577026, -0.08864214,  0.33283047, ..., -0.74595168,\n",
       "         -0.69245329, -0.78810453],\n",
       "        [-0.4601815 ,  0.53848968,  0.70296141, ..., -0.29943525,\n",
       "         -0.20559273, -0.68000101],\n",
       "        [-0.54217158,  0.44619404,  0.14448559, ..., -0.66046131,\n",
       "         -0.63482105, -0.37581233]],\n",
       "\n",
       "       ...,\n",
       "\n",
       "       [[ 0.19500732,  0.24902344,  0.31295776, ..., -0.90908813,\n",
       "         -0.90704346, -0.88247681],\n",
       "        [ 0.23788452,  0.28930664,  0.32192993, ..., -0.71356201,\n",
       "         -0.66763306, -0.65362549],\n",
       "        [ 0.22589111,  0.3821106 ,  0.33898926, ..., -0.41906738,\n",
       "         -0.30938721, -0.3062439 ],\n",
       "        ...,\n",
       "        [-0.21731886,  0.01870735,  0.099684  , ..., -0.96734619,\n",
       "         -0.96731567, -0.99636841],\n",
       "        [-0.67999268, -0.65594482, -0.5802002 , ..., -1.        ,\n",
       "         -1.        , -0.99472046],\n",
       "        [-0.68417358, -0.66317749, -0.59298706, ..., -1.        ,\n",
       "         -0.99597168, -0.98999023]],\n",
       "\n",
       "       [[ 0.14248657,  0.33355713,  0.36355591, ..., -0.74002075,\n",
       "         -0.60809326, -0.47000122],\n",
       "        [ 0.12854004,  0.27380371,  0.31561279, ..., -0.47439575,\n",
       "         -0.37158203, -0.30358887],\n",
       "        [ 0.18127441,  0.3765564 ,  0.42749023, ..., -0.34841919,\n",
       "         -0.15124512, -0.02593994],\n",
       "        ...,\n",
       "        [ 0.01480698,  0.1833421 , -0.07978211, ..., -0.98910522,\n",
       "         -0.98910522, -1.        ],\n",
       "        [-0.70108032, -0.60399905, -0.33246839, ..., -1.        ,\n",
       "         -1.        , -1.        ],\n",
       "        [-0.72833252, -0.65841675, -0.63235474, ..., -1.        ,\n",
       "         -1.        , -1.        ]],\n",
       "\n",
       "       [[ 0.29748535,  0.32400513,  0.2880249 , ..., -0.58363501,\n",
       "         -0.37606812, -0.03747559],\n",
       "        [ 0.28811646,  0.30651855,  0.27972412, ..., -0.53930664,\n",
       "         -0.33621216, -0.003479  ],\n",
       "        [ 0.46038818,  0.40567017,  0.32351685, ..., -0.62896729,\n",
       "         -0.36557007, -0.03256226],\n",
       "        ...,\n",
       "        [ 0.25912476, -0.0100362 , -0.35838444, ..., -0.9619751 ,\n",
       "         -0.98202515, -1.        ],\n",
       "        [-0.28684164,  0.04967251,  0.20948341, ..., -0.97781372,\n",
       "         -0.99777222, -1.        ],\n",
       "        [-0.21531368, -0.07890896, -0.39572374, ..., -1.        ,\n",
       "         -1.        , -1.        ]]])\n",
       "Coordinates:\n",
       "  * latitude    (latitude) float64 30.0 30.25 30.5 30.75 ... 49.5 49.75 50.0\n",
       "    number      int64 0\n",
       "  * time        (time) datetime64[ns] 2004-04-03T08:00:00 ... 2004-08-12T03:00:00\n",
       "    step        timedelta64[ns] 00:00:00\n",
       "    surface     int64 0\n",
       "  * longitude   (longitude) float64 -15.0 -14.75 -14.5 ... 24.5 24.75 25.0\n",
       "    valid_time  (time) datetime64[ns] 2004-04-03T08:00:00 ... 2004-08-12T03:00:00"
      ]
     },
     "execution_count": 56,
     "metadata": {},
     "output_type": "execute_result"
    }
   ],
   "source": [
    "diff"
   ]
  },
  {
   "cell_type": "code",
   "execution_count": null,
   "metadata": {},
   "outputs": [],
   "source": []
  },
  {
   "cell_type": "code",
   "execution_count": null,
   "metadata": {},
   "outputs": [],
   "source": []
  },
  {
   "cell_type": "code",
   "execution_count": null,
   "metadata": {},
   "outputs": [],
   "source": []
  },
  {
   "cell_type": "code",
   "execution_count": null,
   "metadata": {},
   "outputs": [],
   "source": []
  },
  {
   "cell_type": "code",
   "execution_count": null,
   "metadata": {},
   "outputs": [],
   "source": []
  }
 ],
 "metadata": {
  "kernelspec": {
   "display_name": "Python 3",
   "language": "python",
   "name": "python3"
  },
  "language_info": {
   "codemirror_mode": {
    "name": "ipython",
    "version": 3
   },
   "file_extension": ".py",
   "mimetype": "text/x-python",
   "name": "python",
   "nbconvert_exporter": "python",
   "pygments_lexer": "ipython3",
   "version": "3.6.2"
  }
 },
 "nbformat": 4,
 "nbformat_minor": 4
}
