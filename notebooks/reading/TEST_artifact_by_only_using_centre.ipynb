{
 "cells": [
  {
   "cell_type": "markdown",
   "metadata": {},
   "source": [
    "## Calculate Cloud Fractions"
   ]
  },
  {
   "cell_type": "code",
   "execution_count": 150,
   "metadata": {},
   "outputs": [],
   "source": [
    "import json\n",
    "import glob\n",
    "import numpy as np\n",
    "import matplotlib.pyplot as plt\n",
    "\n",
    "import pandas as pd    \n",
    "import xarray as xr\n",
    "\n",
    "import seaborn as sns"
   ]
  },
  {
   "cell_type": "code",
   "execution_count": 151,
   "metadata": {},
   "outputs": [],
   "source": [
    "#data_dir = '/home/hanna/MS-suppl/files/'\n",
    "data_dir = '/uio/hume/student-u89/hannasv/MS-suppl/'\n",
    "sat_dir = '/uio/lagringshotell/geofag/projects/miphclac/hannasv/'\n",
    "save_dir = '/uio/lagringshotell/geofag/students/metos/hannasv/satelite_data/'"
   ]
  },
  {
   "cell_type": "code",
   "execution_count": 152,
   "metadata": {},
   "outputs": [],
   "source": [
    "def read_dlon_dlat(data_dir):\n",
    "    \n",
    "    nc_files = glob.glob(data_dir+'*small*.json')    \n",
    "    #print(nc_files[-1])\n",
    "    with open(nc_files[-1]) as f:\n",
    "        d =  json.load(f)\n",
    "    \n",
    "    d_phi      = d['dphi'] \n",
    "    d_theta    = d['dtheta'] \n",
    "    cell_areas = d['cell_area']\n",
    "    lat_array  = d['lat'] \n",
    "    lon_array  = d['lon']\n",
    "    return d_phi, d_theta, cell_areas, lat_array, lon_array"
   ]
  },
  {
   "cell_type": "code",
   "execution_count": 153,
   "metadata": {},
   "outputs": [],
   "source": [
    "d_phi, d_theta, cell_areas, lat_array, lon_array = read_dlon_dlat(data_dir)"
   ]
  },
  {
   "cell_type": "code",
   "execution_count": 154,
   "metadata": {},
   "outputs": [],
   "source": [
    "def clean_file(satfil):\n",
    "    if satfil.split('.')[-1] == 'grb':\n",
    "        cloudMask = xr.open_dataset(satfil, engine = 'cfgrib')\n",
    "        o = cloudMask['p260537'].values.reshape( (3712, 3712) )\n",
    "        \n",
    "        o[o>=3.0]=np.nan\n",
    "        o[o==1.0]=0\n",
    "        o[o==2.0]=1.0\n",
    "    else:\n",
    "        cloudMask = xr.open_dataset(satfil)\n",
    "        o = cloudMask['cloudMask'].values.reshape( (3712, 3712) )\n",
    "    return o"
   ]
  },
  {
   "cell_type": "code",
   "execution_count": 155,
   "metadata": {},
   "outputs": [],
   "source": [
    "def area_grid_cell(c_lat, d_lat, d_lon):\n",
    "        R = 6371000  # in M\n",
    "        # area er egentlig R**2\n",
    "        area = R*(np.sin((c_lat + d_lat)*np.pi/180) - np.sin((c_lat - d_lat)*np.pi/180) )*(2*d_lon*np.pi/180) # R**2\n",
    "        return np.abs(area)"
   ]
  },
  {
   "cell_type": "code",
   "execution_count": 156,
   "metadata": {},
   "outputs": [],
   "source": [
    "def get_dict_with_all_keys():\n",
    "    ex_fil = glob.glob(data_dir + '*ERA5*.json')\n",
    "    #print(ex_fil)\n",
    "    merged_dict = {}\n",
    "    \n",
    "    for fil in ex_fil:\n",
    "        with open(fil, 'r') as f:\n",
    "            data_grid = json.load(f)\n",
    "        merged_dict.update(data_grid)\n",
    "    return merged_dict"
   ]
  },
  {
   "cell_type": "code",
   "execution_count": 157,
   "metadata": {},
   "outputs": [],
   "source": [
    "data_dict = get_dict_with_all_keys()"
   ]
  },
  {
   "cell_type": "code",
   "execution_count": 213,
   "metadata": {},
   "outputs": [],
   "source": [
    "def calc_fraction_one_cell(lat = '30.25', lon = '19.25', cmk = None, data = None):\n",
    "\n",
    "    if data:\n",
    "        ## Improvements : This should read the files. \n",
    "        if lon == '0.0':\n",
    "            ex = data[lat]['0.5']\n",
    "        else:\n",
    "            ex = data[lat][lon]\n",
    "        fraction = 0.0\n",
    "\n",
    "        ERA_area = area_grid_cell(float(lat), 0.25/2, 0.25/2)\n",
    "        SAT_area = 0.0\n",
    "\n",
    "        for key, item in ex.items():\n",
    "            index = item['index']\n",
    "            area  = item['area']\n",
    "\n",
    "            if len(index) == len(area):\n",
    "                # , \"len index, len are = {}, {}\".format(len(index), len(area))\n",
    "                SAT_area += np.nansum(area)\n",
    "                #print('nans area')\n",
    "                #print()\n",
    "                if np.isnan(np.array(area)).sum() > 0:\n",
    "                    print('Returns nan for lat {}, lon {}'.format(lat, lon))\n",
    "                #fraction += np.nansum(np.array(area)*np.array(cmk[index]) )\n",
    "                add = np.nansum(np.array(cmk[index]))\n",
    "                #print(add)\n",
    "                fraction += add\n",
    "            else:\n",
    "                print('Returns nan for lat {}, lon {}'.format(lat, lon))\n",
    "                return np.nan, (lat, lon)\n",
    "        return np.mean(fraction), SAT_area\n",
    "    else:\n",
    "        print('Please send data as a attribute.')\n",
    "        return"
   ]
  },
  {
   "cell_type": "code",
   "execution_count": 214,
   "metadata": {},
   "outputs": [],
   "source": [
    "def calc_fraction_one_cell_only(lat = '30.25', lon = '19.25', cmk = None, data = None):\n",
    "\n",
    "    if data:\n",
    "        ## Improvements : This should read the files. \n",
    "        if lon == '0.0':\n",
    "            ex = data[lat]['0.5']\n",
    "        else:\n",
    "            ex = data[lat][lon]\n",
    "        \n",
    "        fraction = 0.0\n",
    "\n",
    "        ERA_area = area_grid_cell(float(lat), 0.25/2, 0.25/2)\n",
    "        SAT_area = 0.0\n",
    "        #cmk = np.random.randint(low = 0, high=2, size = len(lat_array))\n",
    "        index = ex['centre']['index']\n",
    "        area  = ex['centre']['area']\n",
    "        \n",
    "        SAT_area = np.nansum(area)\n",
    "        fraction = np.nansum(np.array(area)*np.array(cmk[index]) )\n",
    "        \"\"\"\n",
    "        for key, item in ex.items():\n",
    "\n",
    "            if len(index) == len(area):\n",
    "                # , \"len index, len are = {}, {}\".format(len(index), len(area))\n",
    "                \n",
    "                #print('nans area')\n",
    "                #print()\n",
    "                if np.isnan(np.array(area)).sum() > 0:\n",
    "                    print('Returns nan for lat {}, lon {}'.format(lat, lon))\n",
    "                fraction += np.nansum(np.array(area)*np.array(cmk[index]) )\n",
    "            else:\n",
    "                print('Returns nan for lat {}, lon {}'.format(lat, lon))\n",
    "                return np.nan, (lat, lon)\n",
    "                \n",
    "            fraction\n",
    "        \"\"\" \n",
    "        return fraction, SAT_area#, np.isnan(np.array(cmk[index])).sum()\n",
    "    else:\n",
    "        print('Please send data as a attribute.')\n",
    "        return"
   ]
  },
  {
   "cell_type": "code",
   "execution_count": 215,
   "metadata": {},
   "outputs": [],
   "source": [
    "def compute(satfil, \n",
    "            lats = np.arange(30.0, 50.25, 0.25), \n",
    "            lons = np.arange(-15.0, 25.25, 0.25)):\n",
    "    \n",
    "    o = clean_file(satfil)\n",
    "    d_phi, d_theta, cell_areas, lat_array, lon_array = read_dlon_dlat(data_dir)\n",
    "    clouds = o.reshape(-1)\n",
    "\n",
    "    data_dict = get_dict_with_all_keys()\n",
    "\n",
    "    GRID = np.zeros((len(lats), len(lons)) )\n",
    "    GRID_NAN = np.zeros((len(lats), len(lons)) )\n",
    "    \n",
    "    for i,lat in enumerate(lats):\n",
    "        for j, lon in enumerate(lons):\n",
    "            fraction, nbr_nan = calc_fraction_one_cell(lat = str(lat), \n",
    "                                                       lon = str(lon), \n",
    "                                                       cmk = clouds, \n",
    "                                                       data = data_dict)\n",
    "            GRID[i][j] = fraction\n",
    "            GRID_NAN[i][j] = nbr_nan\n",
    "\n",
    "    return GRID, GRID_NAN"
   ]
  },
  {
   "cell_type": "code",
   "execution_count": 216,
   "metadata": {},
   "outputs": [],
   "source": [
    "#data_grid = get_dict_with_all_keys()\n",
    "#lats = np.arange(-15.0, 25.0, 0.25)\n",
    "#lons = np.arange(30.0, 50.0, 0.25)\n",
    "\n",
    "#sat_dir = '/home/hanna/lagrings/sat_images_2004_2011/'\n",
    "sat_files = glob.glob(sat_dir + \"*2004080213*.grb\")"
   ]
  },
  {
   "cell_type": "code",
   "execution_count": 217,
   "metadata": {},
   "outputs": [
    {
     "data": {
      "text/plain": [
       "['/uio/lagringshotell/geofag/projects/miphclac/hannasv/MSG1-SEVI-MSGCLMK-0100-0100-20040802130000.000000000Z-20040802131250-1359300.grb']"
      ]
     },
     "execution_count": 217,
     "metadata": {},
     "output_type": "execute_result"
    }
   ],
   "source": [
    "sat_files"
   ]
  },
  {
   "cell_type": "markdown",
   "metadata": {},
   "source": [
    "# Testing pynio engine opens same as cfgrib"
   ]
  },
  {
   "cell_type": "code",
   "execution_count": 218,
   "metadata": {},
   "outputs": [
    {
     "data": {
      "image/png": "[encoded data removed]",
      "text/plain": [
       "<Figure size 432x288 with 2 Axes>"
      ]
     },
     "metadata": {
      "needs_background": "light"
     },
     "output_type": "display_data"
    }
   ],
   "source": [
    "cloudMask = xr.open_dataset(sat_files[0], engine = 'pynio') # engine cfgrib lapt\n",
    "#rint(cloudMask)\n",
    "# = cloudMask['p260537'].values.reshape( (3712, 3712) )\n",
    "o = cloudMask['CLOUDM_P30_GSV0_I207'].values.reshape( (3712, 3712) )\n",
    "sns.heatmap(o)\n",
    "plt.show()"
   ]
  },
  {
   "cell_type": "code",
   "execution_count": 219,
   "metadata": {},
   "outputs": [],
   "source": [
    "import glob\n",
    "import xarray as xr\n",
    "import numpy as np\n",
    "\n",
    "def timestamp(filename):\n",
    "    \"\"\"\n",
    "    Returns the numpy datetime 64 [ns] for the current date.\n",
    "    This is a bit hardcoded at the moment ....\n",
    "    \"\"\"\n",
    "    splits = filename.split('-')\n",
    "    ts = splits[5]\n",
    "    year = ts[:4]\n",
    "    month = ts[4:6]\n",
    "    day = ts[6:8]\n",
    "    hr = ts[8:10]\n",
    "    minuts = ts[10:12]\n",
    "    sek = ts[12:14]\n",
    "    # TODO make sure all filenames have seconds\n",
    "    return np.datetime64( year+\"-\"+month+\"-\"+day+\"T\"+hr+\":\"+minuts+\":\"+sek )\n",
    "\n",
    "def merge_ts_to_one_dataset(grb_files, \n",
    "                            lat = np.arange(30.0, 50.25, 0.25), \n",
    "                            lon = np.arange(-15.0, 25.25, 0.25)):\n",
    "    \"\"\"\n",
    "    grib_files : list of files\n",
    "        typically one year?\n",
    "    \"\"\"\n",
    "    data_grid = get_dict_with_all_keys()\n",
    "    \n",
    "    counter = 0\n",
    "    for filename in grb_files:\n",
    "        if counter == 0:\n",
    "            #print(\"enters 0\")\n",
    "            #clou = calc_all(filename, nc_file = nc_files[0])\n",
    "            cloud_fraction, nans = compute(filename, lat, lon)\n",
    "            ds = xr.Dataset({'tcc': (['latitude', 'longitude'],   cloud_fraction),\n",
    "                             'nr_nans':(['latitude', 'longitude'], nans),\n",
    "                             #'nr_cells':(['latitude', 'longitude'], cnt_cells)\n",
    "                                 },\n",
    "                             coords={'longitude': (['longitude'], lon),\n",
    "                                     'latitude': (['latitude'], lat),\n",
    "                                    })\n",
    "\n",
    "            ts = timestamp(filename)\n",
    "            ds['time'] = ts\n",
    "\n",
    "            # Add time as a coordinate and dimension.\n",
    "            ds = ds.assign_coords(time = ds.time)\n",
    "            ds = ds.expand_dims(dim = 'time')\n",
    "            counter += 1\n",
    "\n",
    "        else:\n",
    "            #clm, cnt_cells, cnt_nans = calc_all(filename, nc_file = nc_files[0])\n",
    "            cloud_fraction, nans = compute(filename, lat, lon)\n",
    "            new_ds = xr.Dataset({'tcc': (['latitude', 'longitude'],  cloud_fraction),\n",
    "                                 'nr_nans':(['latitude', 'longitude'], nans),\n",
    "                                 #'nr_cells':(['latitude', 'longitude'], cnt_cells)\n",
    "                                },\n",
    "                                  coords={'longitude': (['longitude'], lon),\n",
    "                                          'latitude': (['latitude'], lat),\n",
    "                                           })\n",
    "\n",
    "            ts = timestamp(filename)\n",
    "            new_ds['time'] = ts\n",
    "\n",
    "            # Add time as a coordinate and dimension.\n",
    "            new_ds = new_ds.assign_coords(time = new_ds.time)\n",
    "            new_ds = new_ds.expand_dims(dim = 'time')\n",
    "            \n",
    "            try:          \n",
    "                ds = ds.merge(new_ds)\n",
    "            except xr.MergeError:\n",
    "                # Happens if MS1 and MS2 have taken a image at the same time\n",
    "                print(\"Filename not included {}\".format(filename))\n",
    "                \n",
    "            counter += 1\n",
    "        #print(\"completed {}/{} files\".format(counter, len(grb_files)))\n",
    "    return ds\n"
   ]
  },
  {
   "cell_type": "code",
   "execution_count": 220,
   "metadata": {},
   "outputs": [],
   "source": [
    "grid, nan_grib = compute(sat_files[0])"
   ]
  },
  {
   "cell_type": "code",
   "execution_count": 221,
   "metadata": {},
   "outputs": [
    {
     "data": {
      "text/plain": [
       "(81, 161)"
      ]
     },
     "execution_count": 221,
     "metadata": {},
     "output_type": "execute_result"
    }
   ],
   "source": [
    "grid.shape"
   ]
  },
  {
   "cell_type": "code",
   "execution_count": 222,
   "metadata": {},
   "outputs": [
    {
     "data": {
      "text/plain": [
       "<matplotlib.axes._subplots.AxesSubplot at 0x7fa03548e350>"
      ]
     },
     "execution_count": 222,
     "metadata": {},
     "output_type": "execute_result"
    },
    {
     "data": {
      "image/png": "[encoded data removed]",
      "text/plain": [
       "<Figure size 432x288 with 2 Axes>"
      ]
     },
     "metadata": {
      "needs_background": "light"
     },
     "output_type": "display_data"
    }
   ],
   "source": [
    "sns.heatmap(grid[:40, :100])"
   ]
  },
  {
   "cell_type": "code",
   "execution_count": 223,
   "metadata": {},
   "outputs": [
    {
     "data": {
      "text/plain": [
       "<matplotlib.axes._subplots.AxesSubplot at 0x7fa032a62e50>"
      ]
     },
     "execution_count": 223,
     "metadata": {},
     "output_type": "execute_result"
    },
    {
     "data": {
      "image/png": "[encoded data removed]",
      "text/plain": [
       "<Figure size 432x288 with 2 Axes>"
      ]
     },
     "metadata": {
      "needs_background": "light"
     },
     "output_type": "display_data"
    }
   ],
   "source": [
    "sns.heatmap(nan_grib)"
   ]
  },
  {
   "cell_type": "code",
   "execution_count": 224,
   "metadata": {},
   "outputs": [],
   "source": [
    "o = clean_file(sat_files[0])\n",
    "d_phi, d_theta, cell_areas, lat_array, lon_array = read_dlon_dlat(data_dir)\n",
    "clouds = o.reshape(-1)"
   ]
  },
  {
   "cell_type": "code",
   "execution_count": 225,
   "metadata": {},
   "outputs": [],
   "source": [
    "cmk = clouds.reshape((3712, 3712))"
   ]
  },
  {
   "cell_type": "code",
   "execution_count": 226,
   "metadata": {},
   "outputs": [
    {
     "data": {
      "text/plain": [
       "<matplotlib.axes._subplots.AxesSubplot at 0x7fa032ceee90>"
      ]
     },
     "execution_count": 226,
     "metadata": {},
     "output_type": "execute_result"
    },
    {
     "data": {
      "image/png": "[encoded data removed]",
      "text/plain": [
       "<Figure size 432x288 with 2 Axes>"
      ]
     },
     "metadata": {
      "needs_background": "light"
     },
     "output_type": "display_data"
    }
   ],
   "source": [
    "sns.heatmap(cmk)"
   ]
  },
  {
   "cell_type": "code",
   "execution_count": 228,
   "metadata": {},
   "outputs": [
    {
     "data": {
      "text/plain": [
       "array([[nan, nan, nan, ..., nan, nan, nan],\n",
       "       [nan, nan, nan, ..., nan, nan, nan],\n",
       "       [nan, nan, nan, ..., nan, nan, nan],\n",
       "       ...,\n",
       "       [nan, nan, nan, ..., nan, nan, nan],\n",
       "       [nan, nan, nan, ..., nan, nan, nan],\n",
       "       [nan, nan, nan, ..., nan, nan, nan]], dtype=float32)"
      ]
     },
     "execution_count": 228,
     "metadata": {},
     "output_type": "execute_result"
    }
   ],
   "source": [
    "cmk"
   ]
  },
  {
   "cell_type": "code",
   "execution_count": 227,
   "metadata": {},
   "outputs": [
    {
     "data": {
      "text/plain": [
       "<matplotlib.axes._subplots.AxesSubplot at 0x7fa033719a10>"
      ]
     },
     "execution_count": 227,
     "metadata": {},
     "output_type": "execute_result"
    },
    {
     "data": {
      "image/png": "[encoded data removed]",
      "text/plain": [
       "<Figure size 432x288 with 2 Axes>"
      ]
     },
     "metadata": {
      "needs_background": "light"
     },
     "output_type": "display_data"
    }
   ],
   "source": [
    "sns.heatmap(grid[:40, :100])"
   ]
  },
  {
   "cell_type": "code",
   "execution_count": 62,
   "metadata": {},
   "outputs": [
    {
     "data": {
      "text/plain": [
       "<matplotlib.axes._subplots.AxesSubplot at 0x7fa01ea92110>"
      ]
     },
     "execution_count": 62,
     "metadata": {},
     "output_type": "execute_result"
    },
    {
     "data": {
      "image/png": "[encoded data removed]",
      "text/plain": [
       "<Figure size 432x288 with 2 Axes>"
      ]
     },
     "metadata": {
      "needs_background": "light"
     },
     "output_type": "display_data"
    }
   ],
   "source": [
    "sns.heatmap(nan_grib[:40, :100])"
   ]
  },
  {
   "cell_type": "code",
   "execution_count": 75,
   "metadata": {},
   "outputs": [
    {
     "data": {
      "text/plain": [
       "803.2222606476989"
      ]
     },
     "execution_count": 75,
     "metadata": {},
     "output_type": "execute_result"
    }
   ],
   "source": [
    "lat_array.reshape()"
   ]
  },
  {
   "cell_type": "code",
   "execution_count": 71,
   "metadata": {},
   "outputs": [],
   "source": [
    "lat_mask = (lat_array < 50)\n",
    "idx_lat = lat_array[lat_mask]"
   ]
  },
  {
   "cell_type": "code",
   "execution_count": 72,
   "metadata": {},
   "outputs": [
    {
     "data": {
      "text/plain": [
       "30.001291275024414"
      ]
     },
     "execution_count": 72,
     "metadata": {},
     "output_type": "execute_result"
    }
   ],
   "source": [
    "idx_lat"
   ]
  },
  {
   "cell_type": "code",
   "execution_count": 73,
   "metadata": {},
   "outputs": [
    {
     "data": {
      "text/plain": [
       "False"
      ]
     },
     "execution_count": 73,
     "metadata": {},
     "output_type": "execute_result"
    }
   ],
   "source": [
    "30 < lat_array < 50"
   ]
  },
  {
   "cell_type": "code",
   "execution_count": 74,
   "metadata": {},
   "outputs": [
    {
     "data": {
      "text/plain": [
       "645166"
      ]
     },
     "execution_count": 74,
     "metadata": {},
     "output_type": "execute_result"
    }
   ],
   "source": [
    "len(lat_array)"
   ]
  },
  {
   "cell_type": "code",
   "execution_count": null,
   "metadata": {},
   "outputs": [],
   "source": []
  },
  {
   "cell_type": "code",
   "execution_count": 32,
   "metadata": {},
   "outputs": [
    {
     "data": {
      "text/plain": [
       "'/uio/lagringshotell/geofag/projects/miphclac/hannasv/MSG3-SEVI-MSGCLMK-0100-0100-20140802130000.000000000Z-20140802131305-1361402.grb'"
      ]
     },
     "execution_count": 32,
     "metadata": {},
     "output_type": "execute_result"
    }
   ],
   "source": [
    "sat_files[0]"
   ]
  },
  {
   "cell_type": "code",
   "execution_count": 125,
   "metadata": {},
   "outputs": [],
   "source": [
    "ds  = merge_ts_to_one_dataset(sat_files[:2])"
   ]
  },
  {
   "cell_type": "code",
   "execution_count": 124,
   "metadata": {},
   "outputs": [
    {
     "data": {
      "text/plain": [
       "<xarray.Dataset>\n",
       "Dimensions:    (latitude: 81, longitude: 161, time: 2)\n",
       "Coordinates:\n",
       "  * time       (time) datetime64[ns] 2004-07-23T19:00:00 2004-07-23T20:00:00\n",
       "  * latitude   (latitude) float64 30.0 30.25 30.5 30.75 ... 49.5 49.75 50.0\n",
       "  * longitude  (longitude) float64 -15.0 -14.75 -14.5 -14.25 ... 24.5 24.75 25.0\n",
       "Data variables:\n",
       "    tcc        (time, latitude, longitude) float64 0.0 0.0 0.0 ... 14.25 16.36\n",
       "    nr_nans    (time, latitude, longitude) float64 0.0 0.0 0.0 ... 0.0 0.0 0.0"
      ]
     },
     "execution_count": 124,
     "metadata": {},
     "output_type": "execute_result"
    }
   ],
   "source": [
    "ds"
   ]
  },
  {
   "cell_type": "code",
   "execution_count": 119,
   "metadata": {},
   "outputs": [],
   "source": [
    "import seaborn as sns"
   ]
  },
  {
   "cell_type": "code",
   "execution_count": 126,
   "metadata": {},
   "outputs": [
    {
     "data": {
      "text/plain": [
       "<matplotlib.axes._subplots.AxesSubplot at 0x7fb098943e50>"
      ]
     },
     "execution_count": 126,
     "metadata": {},
     "output_type": "execute_result"
    },
    {
     "data": {
      "image/png": "[encoded data removed]",
      "text/plain": [
       "<Figure size 432x288 with 2 Axes>"
      ]
     },
     "metadata": {
      "needs_background": "light"
     },
     "output_type": "display_data"
    }
   ],
   "source": [
    "sns.heatmap(ds['tcc'].values[0, :, :])"
   ]
  },
  {
   "cell_type": "code",
   "execution_count": null,
   "metadata": {},
   "outputs": [],
   "source": []
  },
  {
   "cell_type": "code",
   "execution_count": null,
   "metadata": {},
   "outputs": [],
   "source": []
  },
  {
   "cell_type": "code",
   "execution_count": 127,
   "metadata": {},
   "outputs": [],
   "source": [
    "import multiprocessing as mp"
   ]
  },
  {
   "cell_type": "code",
   "execution_count": 129,
   "metadata": {},
   "outputs": [],
   "source": [
    "from multiprocessing import Process\n",
    "\n",
    "def f(subset, i):\n",
    "    \n",
    "    ds = merge_ts_to_one_dataset(subset, \n",
    "                                 lat =  np.arange(30.0, 50.25, 0.25) , \n",
    "                                 lon = np.arange(-15.0, 25.25, 0.25) )\n",
    "\n",
    "    ds.to_netcdf(path = save_dir+'cloud_fractions_heilt_nytt{}.nc'.format(i), \n",
    "                 engine='netcdf4',  \n",
    "                 encoding ={'tcc': {'zlib': True, 'complevel': 9},\n",
    "                           'nr_nans': {'zlib': True, 'complevel': 9} })\n",
    "    return "
   ]
  },
  {
   "cell_type": "code",
   "execution_count": 130,
   "metadata": {},
   "outputs": [],
   "source": [
    "size = len(sat_files)"
   ]
  },
  {
   "cell_type": "code",
   "execution_count": 131,
   "metadata": {},
   "outputs": [
    {
     "data": {
      "text/plain": [
       "468"
      ]
     },
     "execution_count": 131,
     "metadata": {},
     "output_type": "execute_result"
    }
   ],
   "source": [
    "size/(200)"
   ]
  },
  {
   "cell_type": "code",
   "execution_count": null,
   "metadata": {
    "scrolled": false
   },
   "outputs": [
    {
     "name": "stdout",
     "output_type": "stream",
     "text": [
      "Starts thread 0\n",
      "Starts thread 1\n",
      "Starts thread 2\n",
      "Starts thread 3\n",
      "Starts thread 4\n",
      "Starts thread 5\n",
      "Starts thread 6\n",
      "Starts thread 7\n",
      "Starts thread 8\n",
      "Starts thread 9\n",
      "Starts thread 10\n",
      "Starts thread 11\n",
      "Starts thread 12\n",
      "Starts thread 13\n",
      "Starts thread 14\n",
      "Starts thread 15\n",
      "Starts thread 16\n",
      "Starts thread 17\n",
      "Starts thread 18\n",
      "Starts thread 19\n",
      "Starts thread 20\n",
      "Starts thread 21\n",
      "Starts thread 22\n",
      "Starts thread 23\n",
      "Starts thread 24\n",
      "Starts thread 25\n",
      "Starts thread 26\n",
      "Starts thread 27\n",
      "Starts thread 28\n",
      "Starts thread 29\n",
      "Starts thread 30\n",
      "Starts thread 31\n",
      "Starts thread 32\n",
      "Starts thread 33\n",
      "Starts thread 34\n",
      "Starts thread 35\n",
      "Starts thread 36\n",
      "Starts thread 37\n",
      "Starts thread 38\n",
      "Starts thread 39\n",
      "Starts thread 40\n",
      "Starts thread 41\n",
      "Starts thread 42\n",
      "Starts thread 43\n",
      "Starts thread 44\n",
      "Starts thread 45\n",
      "Starts thread 46\n",
      "Starts thread 47\n",
      "Starts thread 48\n",
      "Starts thread 49\n",
      "Finished 50/50\n",
      "Starts thread 0\n",
      "Starts thread 2\n",
      "Starts thread 4\n",
      "Starts thread 6\n",
      "Starts thread 8\n",
      "Starts thread 10\n",
      "Starts thread 12\n",
      "Starts thread 14\n",
      "Starts thread 16\n",
      "Starts thread 18\n",
      "Starts thread 20\n",
      "Starts thread 22\n",
      "Starts thread 24\n",
      "Starts thread 26\n",
      "Starts thread 28\n",
      "Starts thread 30\n",
      "Starts thread 32\n",
      "Starts thread 34\n",
      "Starts thread 36\n",
      "Starts thread 38\n",
      "Starts thread 40\n",
      "Starts thread 42\n",
      "Starts thread 44\n",
      "Starts thread 46\n",
      "Starts thread 48\n",
      "Starts thread 50\n",
      "Starts thread 52\n",
      "Starts thread 54\n",
      "Starts thread 56\n",
      "Starts thread 58\n",
      "Starts thread 60\n",
      "Starts thread 62\n",
      "Starts thread 64\n",
      "Starts thread 66\n",
      "Starts thread 68\n",
      "Starts thread 70\n",
      "Starts thread 72\n",
      "Starts thread 74\n",
      "Starts thread 76\n",
      "Starts thread 78\n",
      "Starts thread 80\n",
      "Starts thread 82\n",
      "Starts thread 84\n",
      "Starts thread 86\n",
      "Starts thread 88\n",
      "Starts thread 90\n",
      "Starts thread 92\n",
      "Starts thread 94\n",
      "Starts thread 96\n",
      "Starts thread 98\n"
     ]
    },
    {
     "name": "stderr",
     "output_type": "stream",
     "text": [
      "Process Process-61:\n",
      "Traceback (most recent call last):\n",
      "  File \"/uio/hume/student-u89/hannasv/anaconda3/lib/python2.7/multiprocessing/process.py\", line 267, in _bootstrap\n",
      "    self.run()\n",
      "  File \"/uio/hume/student-u89/hannasv/anaconda3/lib/python2.7/multiprocessing/process.py\", line 114, in run\n",
      "    self._target(*self._args, **self._kwargs)\n",
      "  File \"<ipython-input-129-4f17042f2354>\", line 7, in f\n",
      "    lon = np.arange(-15.0, 25.25, 0.25) )\n",
      "  File \"<ipython-input-121-7ee02fa4df01>\", line 35, in merge_ts_to_one_dataset\n",
      "    cloud_fraction, nans = compute(filename, lat, lon)\n",
      "  File \"<ipython-input-105-75fd93db6df6>\", line 5, in compute\n",
      "    o = clean_file(satfil)\n",
      "  File \"<ipython-input-88-e29f7fa05f61>\", line 4, in clean_file\n",
      "    o = cloudMask['p260537'].values.reshape( (3712, 3712) )\n",
      "  File \"/uio/hume/student-u89/hannasv/anaconda3/lib/python2.7/site-packages/xarray/core/dataarray.py\", line 407, in values\n",
      "    return self.variable.values\n",
      "  File \"/uio/hume/student-u89/hannasv/anaconda3/lib/python2.7/site-packages/xarray/core/variable.py\", line 387, in values\n",
      "    return _as_array_or_item(self._data)\n",
      "  File \"/uio/hume/student-u89/hannasv/anaconda3/lib/python2.7/site-packages/xarray/core/variable.py\", line 208, in _as_array_or_item\n",
      "    data = np.asarray(data)\n",
      "  File \"/uio/hume/student-u89/hannasv/anaconda3/lib/python2.7/site-packages/numpy/core/numeric.py\", line 492, in asarray\n",
      "    return array(a, dtype, copy=False, order=order)\n",
      "  File \"/uio/hume/student-u89/hannasv/anaconda3/lib/python2.7/site-packages/xarray/core/indexing.py\", line 632, in __array__\n",
      "    self._ensure_cached()\n",
      "  File \"/uio/hume/student-u89/hannasv/anaconda3/lib/python2.7/site-packages/xarray/core/indexing.py\", line 629, in _ensure_cached\n",
      "    self.array = NumpyIndexingAdapter(np.asarray(self.array))\n",
      "  File \"/uio/hume/student-u89/hannasv/anaconda3/lib/python2.7/site-packages/numpy/core/numeric.py\", line 492, in asarray\n",
      "    return array(a, dtype, copy=False, order=order)\n",
      "  File \"/uio/hume/student-u89/hannasv/anaconda3/lib/python2.7/site-packages/xarray/core/indexing.py\", line 610, in __array__\n",
      "    return np.asarray(self.array, dtype=dtype)\n",
      "  File \"/uio/hume/student-u89/hannasv/anaconda3/lib/python2.7/site-packages/numpy/core/numeric.py\", line 492, in asarray\n",
      "    return array(a, dtype, copy=False, order=order)\n",
      "  File \"/uio/hume/student-u89/hannasv/anaconda3/lib/python2.7/site-packages/xarray/core/indexing.py\", line 516, in __array__\n",
      "  File \"/uio/hume/student-u89/hannasv/anaconda3/lib/python2.7/site-packages/xarray/backends/cfgrib_.py\", line 26, in __getitem__\n",
      "    return np.asarray(array[self.key], dtype=None)\n",
      "    key, self.shape, indexing.IndexingSupport.OUTER, self._getitem)\n",
      "  File \"/uio/hume/student-u89/hannasv/anaconda3/lib/python2.7/site-packages/xarray/core/indexing.py\", line 784, in explicit_indexing_adapter\n",
      "  File \"/uio/hume/student-u89/hannasv/anaconda3/lib/python2.7/site-packages/xarray/backends/cfgrib_.py\", line 30, in _getitem\n",
      "    result = raw_indexing_method(raw_key.tuple)\n",
      "    return self.array[key]\n",
      "  File \"/uio/hume/student-u89/hannasv/anaconda3/lib/python2.7/site-packages/cfgrib/dataset.py\", line 260, in __getitem__\n",
      "    values = message.message_get('values', bindings.CODES_TYPE_DOUBLE)\n",
      "  File \"/uio/hume/student-u89/hannasv/anaconda3/lib/python2.7/site-packages/cfgrib/messages.py\", line 94, in message_get\n",
      "    values = bindings.codes_get_array(self.codes_id, key, key_type, size, length)\n",
      "  File \"/uio/hume/student-u89/hannasv/anaconda3/lib/python2.7/site-packages/cfgrib/bindings.py\", line 351, in codes_get_array\n",
      "    return codes_get_double_array(handle, key, size)\n",
      "  File \"/uio/hume/student-u89/hannasv/anaconda3/lib/python2.7/site-packages/cfgrib/bindings.py\", line 269, in codes_get_double_array\n",
      "    return list(values)\n",
      "MemoryError\n"
     ]
    },
    {
     "name": "stdout",
     "output_type": "stream",
     "text": [
      "Finished 99/50\n",
      "Starts thread 0\n",
      "Starts thread 3\n",
      "Starts thread 6\n",
      "Starts thread 9\n",
      "Starts thread 12\n",
      "Starts thread 15\n",
      "Starts thread 18\n",
      "Starts thread 21\n",
      "Starts thread 24\n",
      "Starts thread 27\n",
      "Starts thread 30\n",
      "Starts thread 33\n",
      "Starts thread 36\n",
      "Starts thread 39\n",
      "Starts thread 42\n",
      "Starts thread 45\n",
      "Starts thread 48\n",
      "Starts thread 51\n",
      "Starts thread 54\n",
      "Starts thread 57\n",
      "Starts thread 60\n",
      "Starts thread 63\n",
      "Starts thread 66\n",
      "Starts thread 69\n",
      "Starts thread 72\n",
      "Starts thread 75\n",
      "Starts thread 78\n",
      "Starts thread 81\n",
      "Starts thread 84\n",
      "Starts thread 87\n",
      "Starts thread 90\n",
      "Starts thread 93\n",
      "Starts thread 96\n",
      "Starts thread 99\n",
      "Starts thread 102\n",
      "Starts thread 105\n",
      "Starts thread 108\n",
      "Starts thread 111\n",
      "Starts thread 114\n",
      "Starts thread 117\n",
      "Starts thread 120\n",
      "Starts thread 123\n",
      "Starts thread 126\n",
      "Starts thread 129\n",
      "Starts thread 132\n",
      "Starts thread 135\n",
      "Starts thread 138\n",
      "Starts thread 141\n",
      "Starts thread 144\n",
      "Starts thread 147\n",
      "Finished 148/50\n",
      "Starts thread 0\n",
      "Starts thread 4\n",
      "Starts thread 8\n",
      "Starts thread 12\n",
      "Starts thread 16\n",
      "Starts thread 20\n",
      "Starts thread 24\n",
      "Starts thread 28\n",
      "Starts thread 32\n",
      "Starts thread 36\n",
      "Starts thread 40\n",
      "Starts thread 44\n",
      "Starts thread 48\n",
      "Starts thread 52\n",
      "Starts thread 56\n",
      "Starts thread 60\n",
      "Starts thread 64\n",
      "Starts thread 68\n",
      "Starts thread 72\n",
      "Starts thread 76\n",
      "Starts thread 80\n",
      "Starts thread 84\n",
      "Starts thread 88\n",
      "Starts thread 92\n",
      "Starts thread 96\n",
      "Starts thread 100\n",
      "Starts thread 104\n",
      "Starts thread 108\n",
      "Starts thread 112\n",
      "Starts thread 116\n",
      "Starts thread 120\n",
      "Starts thread 124\n",
      "Starts thread 128\n",
      "Starts thread 132\n",
      "Starts thread 136\n",
      "Starts thread 140\n",
      "Starts thread 144\n",
      "Starts thread 148\n",
      "Starts thread 152\n",
      "Starts thread 156\n",
      "Starts thread 160\n",
      "Starts thread 164\n",
      "Starts thread 168\n",
      "Starts thread 172\n",
      "Starts thread 176\n",
      "Starts thread 180\n",
      "Starts thread 184\n",
      "Starts thread 188\n",
      "Starts thread 192\n",
      "Starts thread 196\n",
      "Finished 197/50\n",
      "Starts thread 0\n",
      "Starts thread 5\n",
      "Starts thread 10\n",
      "Starts thread 15\n",
      "Starts thread 20\n",
      "Starts thread 25\n",
      "Starts thread 30\n",
      "Starts thread 35\n",
      "Starts thread 40\n",
      "Starts thread 45\n",
      "Starts thread 50\n",
      "Starts thread 55\n",
      "Starts thread 60\n",
      "Starts thread 65\n",
      "Starts thread 70\n",
      "Starts thread 75\n",
      "Starts thread 80\n",
      "Starts thread 85\n",
      "Starts thread 90\n",
      "Starts thread 95\n",
      "Starts thread 100\n",
      "Starts thread 105\n",
      "Starts thread 110\n",
      "Starts thread 115\n",
      "Starts thread 120\n",
      "Starts thread 125\n",
      "Starts thread 130\n",
      "Starts thread 135\n",
      "Starts thread 140\n",
      "Starts thread 145\n",
      "Starts thread 150\n",
      "Starts thread 155\n",
      "Starts thread 160\n",
      "Starts thread 165\n",
      "Starts thread 170\n",
      "Starts thread 175\n",
      "Starts thread 180\n",
      "Starts thread 185\n",
      "Starts thread 190\n",
      "Starts thread 195\n",
      "Starts thread 200\n",
      "Starts thread 205\n",
      "Starts thread 210\n",
      "Starts thread 215\n",
      "Starts thread 220\n",
      "Starts thread 225\n",
      "Starts thread 230\n",
      "Starts thread 235\n",
      "Starts thread 240\n",
      "Starts thread 245\n",
      "Finished 246/50\n",
      "Starts thread 0\n",
      "Starts thread 6\n",
      "Starts thread 12\n",
      "Starts thread 18\n",
      "Starts thread 24\n",
      "Starts thread 30\n",
      "Starts thread 36\n",
      "Starts thread 42\n",
      "Starts thread 48\n",
      "Starts thread 54\n",
      "Starts thread 60\n",
      "Starts thread 66\n",
      "Starts thread 72\n",
      "Starts thread 78\n",
      "Starts thread 84\n",
      "Starts thread 90\n",
      "Starts thread 96\n",
      "Starts thread 102\n",
      "Starts thread 108\n",
      "Starts thread 114\n",
      "Starts thread 120\n",
      "Starts thread 126\n",
      "Starts thread 132\n",
      "Starts thread 138\n",
      "Starts thread 144\n",
      "Starts thread 150\n",
      "Starts thread 156\n",
      "Starts thread 162\n",
      "Starts thread 168\n",
      "Starts thread 174\n",
      "Starts thread 180\n",
      "Starts thread 186\n",
      "Starts thread 192\n",
      "Starts thread 198\n",
      "Starts thread 204\n",
      "Starts thread 210\n",
      "Starts thread 216\n",
      "Starts thread 222\n",
      "Starts thread 228\n",
      "Starts thread 234\n",
      "Starts thread 240\n",
      "Starts thread 246\n",
      "Starts thread 252\n",
      "Starts thread 258\n",
      "Starts thread 264\n",
      "Starts thread 270\n",
      "Starts thread 276\n",
      "Starts thread 282\n",
      "Starts thread 288\n",
      "Starts thread 294\n",
      "Finished 295/50\n",
      "Starts thread 0\n",
      "Starts thread 7\n",
      "Starts thread 14\n",
      "Starts thread 21\n",
      "Starts thread 28\n",
      "Starts thread 35\n",
      "Starts thread 42\n",
      "Starts thread 49\n",
      "Starts thread 56\n",
      "Starts thread 63\n",
      "Starts thread 70\n",
      "Starts thread 77\n",
      "Starts thread 84\n",
      "Starts thread 91\n",
      "Starts thread 98\n",
      "Starts thread 105\n",
      "Starts thread 112\n",
      "Starts thread 119\n",
      "Starts thread 126\n",
      "Starts thread 133\n",
      "Starts thread 140\n",
      "Starts thread 147\n",
      "Starts thread 154\n",
      "Starts thread 161\n",
      "Starts thread 168\n",
      "Starts thread 175\n",
      "Starts thread 182\n",
      "Starts thread 189\n",
      "Starts thread 196\n",
      "Starts thread 203\n",
      "Starts thread 210\n",
      "Starts thread 217\n",
      "Starts thread 224\n",
      "Starts thread 231\n",
      "Starts thread 238\n",
      "Starts thread 245\n",
      "Starts thread 252\n",
      "Starts thread 259\n",
      "Starts thread 266\n",
      "Starts thread 273\n",
      "Starts thread 280\n",
      "Starts thread 287\n",
      "Starts thread 294\n",
      "Starts thread 301\n",
      "Starts thread 308\n",
      "Starts thread 315\n",
      "Starts thread 322\n",
      "Starts thread 329\n",
      "Starts thread 336\n",
      "Starts thread 343\n"
     ]
    }
   ],
   "source": [
    "for j, sub in enumerate(np.array_split(sat_files, 200)):\n",
    "    alls = np.array_split(sub, 50) #np.array_split(sat_files, 100)\n",
    "\n",
    "    processes = []\n",
    "    for i, subset in enumerate(alls):\n",
    "        print(\"Starts thread {}\".format(i+j*i))\n",
    "        p = Process(target=f, args=(subset, i+j*i))\n",
    "        p.start()\n",
    "        processes.append(p)\n",
    "\n",
    "    for p in processes:\n",
    "        p.join()\n",
    "        \n",
    "    print('Finished {}/{}'.format(i+j*i+1, len(alls)))"
   ]
  },
  {
   "cell_type": "code",
   "execution_count": null,
   "metadata": {},
   "outputs": [],
   "source": [
    "ds"
   ]
  },
  {
   "cell_type": "code",
   "execution_count": null,
   "metadata": {},
   "outputs": [],
   "source": [
    "new_ds"
   ]
  },
  {
   "cell_type": "code",
   "execution_count": null,
   "metadata": {},
   "outputs": [],
   "source": [
    "len(alls)"
   ]
  },
  {
   "cell_type": "code",
   "execution_count": null,
   "metadata": {},
   "outputs": [],
   "source": [
    "for t in ds.time.values:\n",
    "    ax = sns.heatmap(ds.sel(time = t)['tcc'].values)\n",
    "    ax.set_title(t)\n",
    "    plt.savefig('/home/hanna/{}.png'.format(t))\n",
    "    plt.show()"
   ]
  },
  {
   "cell_type": "code",
   "execution_count": null,
   "metadata": {},
   "outputs": [],
   "source": [
    "ds.sel(time = '2004-07-23T19:00:00')['tcc'].values"
   ]
  },
  {
   "cell_type": "code",
   "execution_count": null,
   "metadata": {},
   "outputs": [],
   "source": [
    "sns.heatmap(ds.sel(time = '2004-07-23T19:00:00')['tcc'].values)"
   ]
  },
  {
   "cell_type": "markdown",
   "metadata": {},
   "source": [
    "# Write file and generate filename."
   ]
  },
  {
   "cell_type": "code",
   "execution_count": null,
   "metadata": {},
   "outputs": [],
   "source": [
    "def output_filename(var, start, stop, add_text_begin = \"\"):\n",
    "    \"\"\"\n",
    "    Add test train or valid in front when this is appropriate.\n",
    "\n",
    "    OBS: Var should be in terms of variables in the era-interim datasets.\n",
    "    \"\"\"\n",
    "    return (save_dir + add_text_begin + var + \"_\" + start + \"_\" +\n",
    "                stop + \"_\" + season_str + \".nc\")\n"
   ]
  },
  {
   "cell_type": "code",
   "execution_count": null,
   "metadata": {},
   "outputs": [],
   "source": []
  },
  {
   "cell_type": "code",
   "execution_count": null,
   "metadata": {},
   "outputs": [],
   "source": []
  },
  {
   "cell_type": "code",
   "execution_count": null,
   "metadata": {},
   "outputs": [],
   "source": []
  },
  {
   "cell_type": "code",
   "execution_count": null,
   "metadata": {},
   "outputs": [],
   "source": []
  },
  {
   "cell_type": "code",
   "execution_count": null,
   "metadata": {},
   "outputs": [],
   "source": []
  },
  {
   "cell_type": "code",
   "execution_count": null,
   "metadata": {},
   "outputs": [],
   "source": []
  },
  {
   "cell_type": "code",
   "execution_count": null,
   "metadata": {},
   "outputs": [],
   "source": []
  },
  {
   "cell_type": "code",
   "execution_count": null,
   "metadata": {},
   "outputs": [],
   "source": []
  },
  {
   "cell_type": "code",
   "execution_count": null,
   "metadata": {},
   "outputs": [],
   "source": []
  },
  {
   "cell_type": "code",
   "execution_count": null,
   "metadata": {},
   "outputs": [],
   "source": []
  },
  {
   "cell_type": "code",
   "execution_count": null,
   "metadata": {},
   "outputs": [],
   "source": []
  },
  {
   "cell_type": "code",
   "execution_count": null,
   "metadata": {},
   "outputs": [],
   "source": []
  },
  {
   "cell_type": "code",
   "execution_count": null,
   "metadata": {},
   "outputs": [],
   "source": []
  }
 ],
 "metadata": {
  "kernelspec": {
   "display_name": "Python 2",
   "language": "python",
   "name": "python2"
  },
  "language_info": {
   "codemirror_mode": {
    "name": "ipython",
    "version": 2
   },
   "file_extension": ".py",
   "mimetype": "text/x-python",
   "name": "python",
   "nbconvert_exporter": "python",
   "pygments_lexer": "ipython2",
   "version": "2.7.15"
  }
 },
 "nbformat": 4,
 "nbformat_minor": 4
}
