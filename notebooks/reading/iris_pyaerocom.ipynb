{
 "cells": [
  {
   "cell_type": "code",
   "execution_count": 1,
   "metadata": {},
   "outputs": [
    {
     "name": "stderr",
     "output_type": "stream",
     "text": [
      "Initating pyaerocom configuration\n",
      "Checking database access...\n",
      "Access to lustre database: False\n",
      "Access to aerocom-users-database: False\n",
      "Access to pyaerocom-testdata: False\n",
      "Expired time: 0.003 s\n"
     ]
    }
   ],
   "source": [
    "import pyaerocom as pya"
   ]
  },
  {
   "cell_type": "code",
   "execution_count": 3,
   "metadata": {},
   "outputs": [],
   "source": [
    "sat_dir = '/home/hanna/lagrings/satelite_data_raw/'"
   ]
  },
  {
   "cell_type": "code",
   "execution_count": 4,
   "metadata": {},
   "outputs": [],
   "source": [
    "def clean_file(satfil):\n",
    "    cloudMask = xr.open_dataset(satfil, engine = 'cfgrib')\n",
    "    o = cloudMask['p260537'].values.reshape( (3712, 3712) )\n",
    "    o[o>=3.0]=np.nan\n",
    "    o[o==1.0]=0\n",
    "    o[o==2.0]=1.0\n",
    "    return o"
   ]
  },
  {
   "cell_type": "code",
   "execution_count": 5,
   "metadata": {},
   "outputs": [],
   "source": [
    "import glob"
   ]
  },
  {
   "cell_type": "code",
   "execution_count": 15,
   "metadata": {},
   "outputs": [],
   "source": [
    "nc_path   = '//home/hanna/lagrings/satelite_coordinates/msthesis/'\n",
    "nc_files  = glob.glob(nc_path + '*.nc')"
   ]
  },
  {
   "cell_type": "code",
   "execution_count": null,
   "metadata": {},
   "outputs": [],
   "source": []
  },
  {
   "cell_type": "code",
   "execution_count": 16,
   "metadata": {},
   "outputs": [
    {
     "data": {
      "text/plain": [
       "['//home/hanna/lagrings/satelite_coordinates/msthesis/target_grid_slice.nc',\n",
       " '//home/hanna/lagrings/satelite_coordinates/msthesis/input_grid_cloud_mask.nc',\n",
       " '//home/hanna/lagrings/satelite_coordinates/msthesis/cloud_mask_after_selname.nc',\n",
       " '//home/hanna/lagrings/satelite_coordinates/msthesis/cloud_mask.nc']"
      ]
     },
     "execution_count": 16,
     "metadata": {},
     "output_type": "execute_result"
    }
   ],
   "source": [
    "nc_files"
   ]
  },
  {
   "cell_type": "code",
   "execution_count": 17,
   "metadata": {},
   "outputs": [],
   "source": [
    "coords_fil = nc_files[-1]"
   ]
  },
  {
   "cell_type": "code",
   "execution_count": 18,
   "metadata": {},
   "outputs": [],
   "source": [
    "import iris "
   ]
  },
  {
   "cell_type": "code",
   "execution_count": 20,
   "metadata": {},
   "outputs": [],
   "source": [
    "coords_fil = '/home/hanna/lagrings/satelite_coordinates/msthesis/cloud_mask.nc'"
   ]
  },
  {
   "cell_type": "code",
   "execution_count": 21,
   "metadata": {},
   "outputs": [],
   "source": [
    "pp = iris.load_cube(coords_fil)"
   ]
  },
  {
   "cell_type": "code",
   "execution_count": 22,
   "metadata": {},
   "outputs": [
    {
     "data": {
      "text/html": [
       "\n",
       "<style>\n",
       "  a.iris {\n",
       "      text-decoration: none !important;\n",
       "  }\n",
       "  table.iris {\n",
       "      white-space: pre;\n",
       "      border: 1px solid;\n",
       "      border-color: #9c9c9c;\n",
       "      font-family: monaco, monospace;\n",
       "  }\n",
       "  th.iris {\n",
       "      background: #303f3f;\n",
       "      color: #e0e0e0;\n",
       "      border-left: 1px solid;\n",
       "      border-color: #9c9c9c;\n",
       "      font-size: 1.05em;\n",
       "      min-width: 50px;\n",
       "      max-width: 125px;\n",
       "  }\n",
       "  tr.iris :first-child {\n",
       "      border-right: 1px solid #9c9c9c !important;\n",
       "  }\n",
       "  td.iris-title {\n",
       "      background: #d5dcdf;\n",
       "      border-top: 1px solid #9c9c9c;\n",
       "      font-weight: bold;\n",
       "  }\n",
       "  .iris-word-cell {\n",
       "      text-align: left !important;\n",
       "      white-space: pre;\n",
       "  }\n",
       "  .iris-subheading-cell {\n",
       "      padding-left: 2em !important;\n",
       "  }\n",
       "  .iris-inclusion-cell {\n",
       "      padding-right: 1em !important;\n",
       "  }\n",
       "  .iris-panel-body {\n",
       "      padding-top: 0px;\n",
       "  }\n",
       "  .iris-panel-title {\n",
       "      padding-left: 3em;\n",
       "  }\n",
       "  .iris-panel-title {\n",
       "      margin-top: 7px;\n",
       "  }\n",
       "</style>\n",
       "<table class=\"iris\" id=\"140717721001208\">\n",
       "    <tr class=\"iris\">\n",
       "<th class=\"iris iris-word-cell\">Cloud Mask (1)</th>\n",
       "<th class=\"iris iris-word-cell\">--</th>\n",
       "<th class=\"iris iris-word-cell\">--</th>\n",
       "</tr>\n",
       "    <tr class=\"iris\">\n",
       "<td class=\"iris-word-cell iris-subheading-cell\">Shape</td>\n",
       "<td class=\"iris iris-inclusion-cell\">3712</td>\n",
       "<td class=\"iris iris-inclusion-cell\">3712</td>\n",
       "</td>\n",
       "    <tr class=\"iris\">\n",
       "    <td class=\"iris-title iris-word-cell\">Auxiliary coordinates</td>\n",
       "    <td class=\"iris-title\"></td>\n",
       "    <td class=\"iris-title\"></td>\n",
       "</tr>\n",
       "<tr class=\"iris\">\n",
       "    <td class=\"iris-word-cell iris-subheading-cell\">\tlatitude</td>\n",
       "    <td class=\"iris-inclusion-cell\">x</td>\n",
       "    <td class=\"iris-inclusion-cell\">x</td>\n",
       "</tr>\n",
       "<tr class=\"iris\">\n",
       "    <td class=\"iris-word-cell iris-subheading-cell\">\tlongitude</td>\n",
       "    <td class=\"iris-inclusion-cell\">x</td>\n",
       "    <td class=\"iris-inclusion-cell\">x</td>\n",
       "</tr>\n",
       "<tr class=\"iris\">\n",
       "    <td class=\"iris-title iris-word-cell\">Attributes</td>\n",
       "    <td class=\"iris-title\"></td>\n",
       "    <td class=\"iris-title\"></td>\n",
       "</tr>\n",
       "<tr class=\"iris\">\n",
       "    <td class=\"iris-word-cell iris-subheading-cell\">\tCDI</td>\n",
       "    <td class=\"iris-word-cell\" colspan=\"2\">Climate Data Interface version 1.8.0 (http://mpimet.mpg.de/cdi)</td>\n",
       "</tr>\n",
       "<tr class=\"iris\">\n",
       "    <td class=\"iris-word-cell iris-subheading-cell\">\tCDO</td>\n",
       "    <td class=\"iris-word-cell\" colspan=\"2\">Climate Data Operators version 1.8.0 (http://mpimet.mpg.de/cdo)</td>\n",
       "</tr>\n",
       "<tr class=\"iris\">\n",
       "    <td class=\"iris-word-cell iris-subheading-cell\">\tConventions</td>\n",
       "    <td class=\"iris-word-cell\" colspan=\"2\">CF-1.0</td>\n",
       "</tr>\n",
       "<tr class=\"iris\">\n",
       "    <td class=\"iris-word-cell iris-subheading-cell\">\tGRIB_orgReferenceTime</td>\n",
       "    <td class=\"iris-word-cell\" colspan=\"2\">20190613053000</td>\n",
       "</tr>\n",
       "<tr class=\"iris\">\n",
       "    <td class=\"iris-word-cell iris-subheading-cell\">\tGRIB_param_Nx</td>\n",
       "    <td class=\"iris-word-cell\" colspan=\"2\">3712</td>\n",
       "</tr>\n",
       "<tr class=\"iris\">\n",
       "    <td class=\"iris-word-cell iris-subheading-cell\">\tGRIB_param_Ny</td>\n",
       "    <td class=\"iris-word-cell\" colspan=\"2\">3712</td>\n",
       "</tr>\n",
       "<tr class=\"iris\">\n",
       "    <td class=\"iris-word-cell iris-subheading-cell\">\tMetadata_Conventions</td>\n",
       "    <td class=\"iris-word-cell\" colspan=\"2\">Unidata Dataset Discovery v1.0</td>\n",
       "</tr>\n",
       "<tr class=\"iris\">\n",
       "    <td class=\"iris-word-cell iris-subheading-cell\">\tNCO</td>\n",
       "    <td class=\"iris-word-cell\" colspan=\"2\">netCDF Operators version 4.7.9 (Homepage = http://nco.sf.net, Code = h...</td>\n",
       "</tr>\n",
       "<tr class=\"iris\">\n",
       "    <td class=\"iris-word-cell iris-subheading-cell\">\tcomment</td>\n",
       "    <td class=\"iris-word-cell\" colspan=\"2\">DRAFT VERSION</td>\n",
       "</tr>\n",
       "<tr class=\"iris\">\n",
       "    <td class=\"iris-word-cell iris-subheading-cell\">\tcreator_email</td>\n",
       "    <td class=\"iris-word-cell\" colspan=\"2\">archive@eumetsat.int</td>\n",
       "</tr>\n",
       "<tr class=\"iris\">\n",
       "    <td class=\"iris-word-cell iris-subheading-cell\">\tcreator_name</td>\n",
       "    <td class=\"iris-word-cell\" colspan=\"2\">EUMETSAT</td>\n",
       "</tr>\n",
       "<tr class=\"iris\">\n",
       "    <td class=\"iris-word-cell iris-subheading-cell\">\tcreator_url</td>\n",
       "    <td class=\"iris-word-cell\" colspan=\"2\">http://archive.eumetsat.int</td>\n",
       "</tr>\n",
       "<tr class=\"iris\">\n",
       "    <td class=\"iris-word-cell iris-subheading-cell\">\tflag_values</td>\n",
       "    <td class=\"iris-word-cell\" colspan=\"2\">0b, 1b, 2b, 3b</td>\n",
       "</tr>\n",
       "<tr class=\"iris\">\n",
       "    <td class=\"iris-word-cell iris-subheading-cell\">\tflag_values_names</td>\n",
       "    <td class=\"iris-word-cell\" colspan=\"2\">clear_sky_over_water, clear_sky_over_land, cloud, no_data (space)</td>\n",
       "</tr>\n",
       "<tr class=\"iris\">\n",
       "    <td class=\"iris-word-cell iris-subheading-cell\">\tfunction_to_read_data</td>\n",
       "    <td class=\"iris-word-cell\" colspan=\"2\">getCloudMask</td>\n",
       "</tr>\n",
       "<tr class=\"iris\">\n",
       "    <td class=\"iris-word-cell iris-subheading-cell\">\thistory</td>\n",
       "    <td class=\"iris-word-cell\" colspan=\"2\">Sat Sep 28 13:25:35 2019: ncatted -a coordinates,cloudMask,c,c,latitude...</td>\n",
       "</tr>\n",
       "<tr class=\"iris\">\n",
       "    <td class=\"iris-word-cell iris-subheading-cell\">\tinstitution</td>\n",
       "    <td class=\"iris-word-cell\" colspan=\"2\">EUMETSAT</td>\n",
       "</tr>\n",
       "<tr class=\"iris\">\n",
       "    <td class=\"iris-word-cell iris-subheading-cell\">\tkeywords</td>\n",
       "    <td class=\"iris-word-cell\" colspan=\"2\">EUMETSAT, ARCHIVE, NetCDF, CLOUD MASK</td>\n",
       "</tr>\n",
       "<tr class=\"iris\">\n",
       "    <td class=\"iris-word-cell iris-subheading-cell\">\tlatitude_of_projection_origin</td>\n",
       "    <td class=\"iris-word-cell\" colspan=\"2\">0.0</td>\n",
       "</tr>\n",
       "<tr class=\"iris\">\n",
       "    <td class=\"iris-word-cell iris-subheading-cell\">\tlicense</td>\n",
       "    <td class=\"iris-word-cell\" colspan=\"2\">CopyRight EUMETSAT 2008</td>\n",
       "</tr>\n",
       "<tr class=\"iris\">\n",
       "    <td class=\"iris-word-cell iris-subheading-cell\">\tlongitude_of_projection_origin</td>\n",
       "    <td class=\"iris-word-cell\" colspan=\"2\">0.0</td>\n",
       "</tr>\n",
       "<tr class=\"iris\">\n",
       "    <td class=\"iris-word-cell iris-subheading-cell\">\tsource</td>\n",
       "    <td class=\"iris-word-cell\" colspan=\"2\">/data/products/1338648/MSG4-SEVI-MSGCLMK-0100-0100-20190613053000.0000...</td>\n",
       "</tr>\n",
       "<tr class=\"iris\">\n",
       "    <td class=\"iris-word-cell iris-subheading-cell\">\tsummary</td>\n",
       "    <td class=\"iris-word-cell\" colspan=\"2\">NA</td>\n",
       "</tr>\n",
       "<tr class=\"iris\">\n",
       "    <td class=\"iris-word-cell iris-subheading-cell\">\ttime_coverage_end</td>\n",
       "    <td class=\"iris-word-cell\" colspan=\"2\">20190613053000</td>\n",
       "</tr>\n",
       "<tr class=\"iris\">\n",
       "    <td class=\"iris-word-cell iris-subheading-cell\">\ttime_coverage_start</td>\n",
       "    <td class=\"iris-word-cell\" colspan=\"2\">20190613053000</td>\n",
       "</tr>\n",
       "<tr class=\"iris\">\n",
       "    <td class=\"iris-word-cell iris-subheading-cell\">\ttitle</td>\n",
       "    <td class=\"iris-word-cell\" colspan=\"2\">EUMETSAT-ARCHIVE-CLOUD-MASK-NetCDF</td>\n",
       "</tr>\n",
       "<tr class=\"iris\">\n",
       "    <td class=\"iris-word-cell iris-subheading-cell\">\twmo_filename</td>\n",
       "    <td class=\"iris-word-cell\" colspan=\"2\">W_XX-EUMETSAT-Darmstadt,SING+LEV+SAT,MSG4+CLM_C_EUMG_20190613053000.nc</td>\n",
       "</tr>\n",
       "</table>\n",
       "        "
      ],
      "text/plain": [
       "<iris 'Cube' of cloud_mask / (1) (-- : 3712; -- : 3712)>"
      ]
     },
     "execution_count": 22,
     "metadata": {},
     "output_type": "execute_result"
    }
   ],
   "source": [
    "pp"
   ]
  },
  {
   "cell_type": "code",
   "execution_count": null,
   "metadata": {},
   "outputs": [],
   "source": [
    "from "
   ]
  },
  {
   "cell_type": "code",
   "execution_count": 27,
   "metadata": {},
   "outputs": [
    {
     "data": {
      "text/plain": [
       "\u001b[0;31mInit signature:\u001b[0m\n",
       "\u001b[0mpya\u001b[0m\u001b[0;34m.\u001b[0m\u001b[0mGriddedData\u001b[0m\u001b[0;34m(\u001b[0m\u001b[0;34m\u001b[0m\n",
       "\u001b[0;34m\u001b[0m    \u001b[0minput\u001b[0m\u001b[0;34m=\u001b[0m\u001b[0;32mNone\u001b[0m\u001b[0;34m,\u001b[0m\u001b[0;34m\u001b[0m\n",
       "\u001b[0;34m\u001b[0m    \u001b[0mvar_name\u001b[0m\u001b[0;34m=\u001b[0m\u001b[0;32mNone\u001b[0m\u001b[0;34m,\u001b[0m\u001b[0;34m\u001b[0m\n",
       "\u001b[0;34m\u001b[0m    \u001b[0mconvert_unit_on_init\u001b[0m\u001b[0;34m=\u001b[0m\u001b[0;32mTrue\u001b[0m\u001b[0;34m,\u001b[0m\u001b[0;34m\u001b[0m\n",
       "\u001b[0;34m\u001b[0m    \u001b[0;34m**\u001b[0m\u001b[0mmeta\u001b[0m\u001b[0;34m,\u001b[0m\u001b[0;34m\u001b[0m\n",
       "\u001b[0;34m\u001b[0m\u001b[0;34m)\u001b[0m\u001b[0;34m\u001b[0m\u001b[0;34m\u001b[0m\u001b[0m\n",
       "\u001b[0;31mDocstring:\u001b[0m     \n",
       "Base class representing model data\n",
       "\n",
       "This class is largely based on the :class:`iris.Cube` object. However, this\n",
       "object comes with an expanded functionality for convenience, for instance, \n",
       "netCDF files can directly be loaded in the :class:`GriddedData` object,\n",
       "whereas :class:`iris.cube.Cube` instances are typically created using\n",
       "helper methods such as\n",
       "\n",
       "1. :func:`iris.load` (returns \n",
       ":class:`iris.cube.CubeList`, i.e. a list-like iterable object that contains \n",
       "instances of :class:`Cube` objects, one for each variable) or \n",
       "\n",
       "2. :func:`iris.load_cube` which directly returns a :class:`iris.cube.Cube` \n",
       "instance and typically requires specification of a variable constraint.\n",
       "\n",
       "The :class:`GriddedData` object represents one variable in space and time, as\n",
       "well as corresponding meta information. Since it is based on the https://github.com/SciTools/iris/issues/1977\n",
       ":class:`iris.cube.Cube` it is optimised for netCDF files that follow the\n",
       "CF conventions and may not work for files that do not follow this standard.\n",
       "   \n",
       "Parameters\n",
       "----------\n",
       "input : :obj:`str:` or :obj:`Cube`\n",
       "    data input. Can be a single .nc file or a preloaded iris Cube.\n",
       "var_name : :obj:`str`, optional\n",
       "    variable name that is extracted if `input` is a file path. Irrelevant\n",
       "    if `input` is preloaded Cube\n",
       "\n",
       "Example\n",
       "-------\n",
       ">>> from pyaerocom.io.testfiles import get\n",
       ">>> files = get()\n",
       ">>> data = GriddedData(files['models']['aatsr_su_v4.3'], \n",
       "...  ot self.grid.var_name is None:\n",
       "            const.print_log.warning('Overwriting existing variable name {} '\n",
       "                                    'in with {}'.format(self.grid.var_name, \n",
       "                                             var_name))                  var_name=\"od550aer\")\n",
       ">>> print(data.var_name)\n",
       "od550aer\n",
       ">>> print(type(data.longitude))\n",
       "<class 'iris.coords.DimCoord'>\n",
       ">>> print(data.longitude.points.min(), data.longitude.points.max())\n",
       "-179.5 179.5\n",
       ">>> print(data.latitude.points.min(), data.latitude.points.max())\n",
       "-89.5 89.5\n",
       ">>> print(data.time.points.min(), data.time.points.max())\n",
       "0.0 365.0\n",
       ">>> tstamps = data.time_stamps()\n",
       ">>> print(tstamps[0], tstamps[-1])\n",
       "2008-01-01T00:00:00.000000 2008-12-31T00:00:00.000000\n",
       ">>> data_cropped = data.crop(lat_range=(-60, 60), lon_range=(160, 180),\n",
       "...                          time_range=(\"2008-02-01\", \"2008-02-15\"))\n",
       ">>> print(data_cropped.shape)\n",
       "(15, 120, 20)\n",
       "\n",
       "Attributes\n",
       "----------\n",
       "grid\n",
       "    underlying data type (hopefully :class:`iris.cube.Cube` in most cases)\n",
       "\u001b[0;31mFile:\u001b[0m           ~/pyaerocom/pyaerocom/griddeddata.py\n",
       "\u001b[0;31mType:\u001b[0m           type\n",
       "\u001b[0;31mSubclasses:\u001b[0m     \n"
      ]
     },
     "metadata": {},
     "output_type": "display_data"
    }
   ],
   "source": [
    "pya.GriddedData?"
   ]
  },
  {
   "cell_type": "markdown",
   "metadata": {},
   "source": [
    "# Cloud mask in pyaerocom"
   ]
  },
  {
   "cell_type": "code",
   "execution_count": 37,
   "metadata": {},
   "outputs": [],
   "source": [
    "cloud_mask_data = pya.GriddedData( pp )"
   ]
  },
  {
   "cell_type": "markdown",
   "metadata": {},
   "source": [
    "# ERA 5 in Pyaerocom "
   ]
  },
  {
   "cell_type": "code",
   "execution_count": 30,
   "metadata": {},
   "outputs": [],
   "source": [
    "target_grid = nc_files[0]"
   ]
  },
  {
   "cell_type": "code",
   "execution_count": 34,
   "metadata": {},
   "outputs": [],
   "source": [
    "ii = '/home/hanna/lagrings/satelite_coordinates/msthesis/target_grid_slice.nc'"
   ]
  },
  {
   "cell_type": "code",
   "execution_count": 38,
   "metadata": {},
   "outputs": [],
   "source": [
    "era_5 = pya.GriddedData(iris.load_cube(ii))"
   ]
  },
  {
   "cell_type": "code",
   "execution_count": 41,
   "metadata": {},
   "outputs": [
    {
     "data": {
      "text/plain": [
       "array([[54.375, 53.625],\n",
       "       [53.625, 52.875],\n",
       "       [52.875, 52.125],\n",
       "       [52.125, 51.375],\n",
       "       [51.375, 50.625],\n",
       "       [50.625, 49.875],\n",
       "       [49.875, 49.125],\n",
       "       [49.125, 48.375],\n",
       "       [48.375, 47.625],\n",
       "       [47.625, 46.875],\n",
       "       [46.875, 46.125],\n",
       "       [46.125, 45.375],\n",
       "       [45.375, 44.625],\n",
       "       [44.625, 43.875],\n",
       "       [43.875, 43.125],\n",
       "       [43.125, 42.375],\n",
       "       [42.375, 41.625],\n",
       "       [41.625, 40.875],\n",
       "       [40.875, 40.125],\n",
       "       [40.125, 39.375],\n",
       "       [39.375, 38.625],\n",
       "       [38.625, 37.875],\n",
       "       [37.875, 37.125],\n",
       "       [37.125, 36.375],\n",
       "       [36.375, 35.625],\n",
       "       [35.625, 34.875],\n",
       "       [34.875, 34.125],\n",
       "       [34.125, 33.375],\n",
       "       [33.375, 32.625],\n",
       "       [32.625, 31.875],\n",
       "       [31.875, 31.125],\n",
       "       [31.125, 30.375],\n",
       "       [30.375, 29.625]], dtype=float32)"
      ]
     },
     "execution_count": 41,
     "metadata": {},
     "output_type": "execute_result"
    }
   ],
   "source": [
    "era_5.latitude.bounds"
   ]
  },
  {
   "cell_type": "code",
   "execution_count": 40,
   "metadata": {},
   "outputs": [
    {
     "ename": "CoordinateMultiDimError",
     "evalue": "Multi-dimensional coordinate not supported: 'longitude'",
     "output_type": "error",
     "traceback": [
      "\u001b[0;31m---------------------------------------------------------------------------\u001b[0m",
      "\u001b[0;31mCoordinateMultiDimError\u001b[0m                   Traceback (most recent call last)",
      "\u001b[0;32m<ipython-input-40-0e37426e3af6>\u001b[0m in \u001b[0;36m<module>\u001b[0;34m\u001b[0m\n\u001b[0;32m----> 1\u001b[0;31m \u001b[0mcloud_mask_data\u001b[0m\u001b[0;34m.\u001b[0m\u001b[0mregrid\u001b[0m\u001b[0;34m(\u001b[0m\u001b[0mera_5\u001b[0m\u001b[0;34m)\u001b[0m\u001b[0;34m\u001b[0m\u001b[0;34m\u001b[0m\u001b[0m\n\u001b[0m",
      "\u001b[0;32m~/pyaerocom/pyaerocom/griddeddata.py\u001b[0m in \u001b[0;36mregrid\u001b[0;34m(self, other, scheme, **kwargs)\u001b[0m\n\u001b[1;32m   1553\u001b[0m             \u001b[0mscheme\u001b[0m \u001b[0;34m=\u001b[0m \u001b[0mstr_to_iris\u001b[0m\u001b[0;34m(\u001b[0m\u001b[0mscheme\u001b[0m\u001b[0;34m,\u001b[0m \u001b[0;34m**\u001b[0m\u001b[0mkwargs\u001b[0m\u001b[0;34m)\u001b[0m\u001b[0;34m\u001b[0m\u001b[0;34m\u001b[0m\u001b[0m\n\u001b[1;32m   1554\u001b[0m \u001b[0;34m\u001b[0m\u001b[0m\n\u001b[0;32m-> 1555\u001b[0;31m         \u001b[0mself\u001b[0m\u001b[0;34m.\u001b[0m\u001b[0m_check_lonlat_bounds\u001b[0m\u001b[0;34m(\u001b[0m\u001b[0;34m)\u001b[0m\u001b[0;34m\u001b[0m\u001b[0;34m\u001b[0m\u001b[0m\n\u001b[0m\u001b[1;32m   1556\u001b[0m         \u001b[0mother\u001b[0m\u001b[0;34m.\u001b[0m\u001b[0m_check_lonlat_bounds\u001b[0m\u001b[0;34m(\u001b[0m\u001b[0;34m)\u001b[0m\u001b[0;34m\u001b[0m\u001b[0;34m\u001b[0m\u001b[0m\n\u001b[1;32m   1557\u001b[0m         \u001b[0mdata_rg\u001b[0m \u001b[0;34m=\u001b[0m \u001b[0mself\u001b[0m\u001b[0;34m.\u001b[0m\u001b[0mgrid\u001b[0m\u001b[0;34m.\u001b[0m\u001b[0mregrid\u001b[0m\u001b[0;34m(\u001b[0m\u001b[0mother\u001b[0m\u001b[0;34m.\u001b[0m\u001b[0mgrid\u001b[0m\u001b[0;34m,\u001b[0m \u001b[0mscheme\u001b[0m\u001b[0;34m)\u001b[0m\u001b[0;34m\u001b[0m\u001b[0;34m\u001b[0m\u001b[0m\n",
      "\u001b[0;32m~/pyaerocom/pyaerocom/griddeddata.py\u001b[0m in \u001b[0;36m_check_lonlat_bounds\u001b[0;34m(self)\u001b[0m\n\u001b[1;32m   1773\u001b[0m         \u001b[0;34m\"\"\"Check if longitude and latitude bounds are set and if not, guess\"\"\"\u001b[0m\u001b[0;34m\u001b[0m\u001b[0;34m\u001b[0m\u001b[0m\n\u001b[1;32m   1774\u001b[0m         \u001b[0;32mif\u001b[0m \u001b[0mself\u001b[0m\u001b[0;34m.\u001b[0m\u001b[0mlongitude\u001b[0m\u001b[0;34m.\u001b[0m\u001b[0mbounds\u001b[0m \u001b[0;32mis\u001b[0m \u001b[0;32mNone\u001b[0m\u001b[0;34m:\u001b[0m\u001b[0;34m\u001b[0m\u001b[0;34m\u001b[0m\u001b[0m\n\u001b[0;32m-> 1775\u001b[0;31m             \u001b[0mself\u001b[0m\u001b[0;34m.\u001b[0m\u001b[0mlongitude\u001b[0m\u001b[0;34m.\u001b[0m\u001b[0mguess_bounds\u001b[0m\u001b[0;34m(\u001b[0m\u001b[0;34m)\u001b[0m\u001b[0;34m\u001b[0m\u001b[0;34m\u001b[0m\u001b[0m\n\u001b[0m\u001b[1;32m   1776\u001b[0m         \u001b[0;32mif\u001b[0m \u001b[0mself\u001b[0m\u001b[0;34m.\u001b[0m\u001b[0mlatitude\u001b[0m\u001b[0;34m.\u001b[0m\u001b[0mbounds\u001b[0m \u001b[0;32mis\u001b[0m \u001b[0;32mNone\u001b[0m\u001b[0;34m:\u001b[0m\u001b[0;34m\u001b[0m\u001b[0;34m\u001b[0m\u001b[0m\n\u001b[1;32m   1777\u001b[0m             \u001b[0mself\u001b[0m\u001b[0;34m.\u001b[0m\u001b[0mlatitude\u001b[0m\u001b[0;34m.\u001b[0m\u001b[0mguess_bounds\u001b[0m\u001b[0;34m(\u001b[0m\u001b[0;34m)\u001b[0m\u001b[0;34m\u001b[0m\u001b[0;34m\u001b[0m\u001b[0m\n",
      "\u001b[0;32m~/anaconda3/envs/pya/lib/python3.7/site-packages/iris/coords.py\u001b[0m in \u001b[0;36mguess_bounds\u001b[0;34m(self, bound_position)\u001b[0m\n\u001b[1;32m   1501\u001b[0m \u001b[0;34m\u001b[0m\u001b[0m\n\u001b[1;32m   1502\u001b[0m         \"\"\"\n\u001b[0;32m-> 1503\u001b[0;31m         \u001b[0mself\u001b[0m\u001b[0;34m.\u001b[0m\u001b[0mbounds\u001b[0m \u001b[0;34m=\u001b[0m \u001b[0mself\u001b[0m\u001b[0;34m.\u001b[0m\u001b[0m_guess_bounds\u001b[0m\u001b[0;34m(\u001b[0m\u001b[0mbound_position\u001b[0m\u001b[0;34m)\u001b[0m\u001b[0;34m\u001b[0m\u001b[0;34m\u001b[0m\u001b[0m\n\u001b[0m\u001b[1;32m   1504\u001b[0m \u001b[0;34m\u001b[0m\u001b[0m\n\u001b[1;32m   1505\u001b[0m     \u001b[0;32mdef\u001b[0m \u001b[0mintersect\u001b[0m\u001b[0;34m(\u001b[0m\u001b[0mself\u001b[0m\u001b[0;34m,\u001b[0m \u001b[0mother\u001b[0m\u001b[0;34m,\u001b[0m \u001b[0mreturn_indices\u001b[0m\u001b[0;34m=\u001b[0m\u001b[0;32mFalse\u001b[0m\u001b[0;34m)\u001b[0m\u001b[0;34m:\u001b[0m\u001b[0;34m\u001b[0m\u001b[0;34m\u001b[0m\u001b[0m\n",
      "\u001b[0;32m~/anaconda3/envs/pya/lib/python3.7/site-packages/iris/coords.py\u001b[0m in \u001b[0;36m_guess_bounds\u001b[0;34m(self, bound_position)\u001b[0m\n\u001b[1;32m   1407\u001b[0m         \u001b[0;31m# XXX Consider moving into DimCoord\u001b[0m\u001b[0;34m\u001b[0m\u001b[0;34m\u001b[0m\u001b[0;34m\u001b[0m\u001b[0m\n\u001b[1;32m   1408\u001b[0m         \u001b[0;31m# ensure we have monotonic points\u001b[0m\u001b[0;34m\u001b[0m\u001b[0;34m\u001b[0m\u001b[0;34m\u001b[0m\u001b[0m\n\u001b[0;32m-> 1409\u001b[0;31m         \u001b[0;32mif\u001b[0m \u001b[0;32mnot\u001b[0m \u001b[0mself\u001b[0m\u001b[0;34m.\u001b[0m\u001b[0mis_monotonic\u001b[0m\u001b[0;34m(\u001b[0m\u001b[0;34m)\u001b[0m\u001b[0;34m:\u001b[0m\u001b[0;34m\u001b[0m\u001b[0;34m\u001b[0m\u001b[0m\n\u001b[0m\u001b[1;32m   1410\u001b[0m             raise ValueError(\"Need monotonic points to generate bounds for %s\"\n\u001b[1;32m   1411\u001b[0m                              % self.name())\n",
      "\u001b[0;32m~/anaconda3/envs/pya/lib/python3.7/site-packages/iris/coords.py\u001b[0m in \u001b[0;36mis_monotonic\u001b[0;34m(self)\u001b[0m\n\u001b[1;32m   1157\u001b[0m \u001b[0;34m\u001b[0m\u001b[0m\n\u001b[1;32m   1158\u001b[0m         \u001b[0;32mif\u001b[0m \u001b[0mself\u001b[0m\u001b[0;34m.\u001b[0m\u001b[0mndim\u001b[0m \u001b[0;34m!=\u001b[0m \u001b[0;36m1\u001b[0m\u001b[0;34m:\u001b[0m\u001b[0;34m\u001b[0m\u001b[0;34m\u001b[0m\u001b[0m\n\u001b[0;32m-> 1159\u001b[0;31m             \u001b[0;32mraise\u001b[0m \u001b[0miris\u001b[0m\u001b[0;34m.\u001b[0m\u001b[0mexceptions\u001b[0m\u001b[0;34m.\u001b[0m\u001b[0mCoordinateMultiDimError\u001b[0m\u001b[0;34m(\u001b[0m\u001b[0mself\u001b[0m\u001b[0;34m)\u001b[0m\u001b[0;34m\u001b[0m\u001b[0;34m\u001b[0m\u001b[0m\n\u001b[0m\u001b[1;32m   1160\u001b[0m \u001b[0;34m\u001b[0m\u001b[0m\n\u001b[1;32m   1161\u001b[0m         \u001b[0;32mif\u001b[0m \u001b[0mself\u001b[0m\u001b[0;34m.\u001b[0m\u001b[0mshape\u001b[0m \u001b[0;34m==\u001b[0m \u001b[0;34m(\u001b[0m\u001b[0;36m1\u001b[0m\u001b[0;34m,\u001b[0m\u001b[0;34m)\u001b[0m\u001b[0;34m:\u001b[0m\u001b[0;34m\u001b[0m\u001b[0;34m\u001b[0m\u001b[0m\n",
      "\u001b[0;31mCoordinateMultiDimError\u001b[0m: Multi-dimensional coordinate not supported: 'longitude'"
     ]
    }
   ],
   "source": [
    "cloud_mask_data.regrid(era_5)"
   ]
  },
  {
   "cell_type": "code",
   "execution_count": null,
   "metadata": {},
   "outputs": [],
   "source": []
  },
  {
   "cell_type": "code",
   "execution_count": null,
   "metadata": {},
   "outputs": [],
   "source": []
  }
 ],
 "metadata": {
  "kernelspec": {
   "display_name": "Python 3",
   "language": "python",
   "name": "python3"
  },
  "language_info": {
   "codemirror_mode": {
    "name": "ipython",
    "version": 3
   },
   "file_extension": ".py",
   "mimetype": "text/x-python",
   "name": "python",
   "nbconvert_exporter": "python",
   "pygments_lexer": "ipython3",
   "version": "3.7.3"
  }
 },
 "nbformat": 4,
 "nbformat_minor": 4
}
