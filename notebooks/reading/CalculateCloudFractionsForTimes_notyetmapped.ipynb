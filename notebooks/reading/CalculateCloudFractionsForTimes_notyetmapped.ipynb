{
 "cells": [
  {
   "cell_type": "code",
   "execution_count": 9,
   "metadata": {},
   "outputs": [],
   "source": [
    "import glob\n",
    "import numpy as np \n",
    "import matplotlib.pyplot as plt\n",
    "import xarray as xr"
   ]
  },
  {
   "cell_type": "code",
   "execution_count": 22,
   "metadata": {},
   "outputs": [],
   "source": [
    "def get_list_remainig_files():\n",
    "    search_str_finished = '*heilt*.nc'\n",
    "    sat_dir = '/uio/lagringshotell/geofag/projects/miphclac/hannasv/'\n",
    "    save_dir = '/uio/lagringshotell/geofag/students/metos/hannasv/satelite_data/'\n",
    "    \n",
    "    files = glob.glob(save_dir + search_str_finished)\n",
    "\n",
    "    failed = []\n",
    "    for i, fil in enumerate(files):\n",
    "        if i == 0:\n",
    "            ds = xr.open_dataset(fil)\n",
    "        else:\n",
    "            try:\n",
    "                ds = ds.merge(xr.open_dataset(fil))\n",
    "            except xr.MergeError:\n",
    "                failed.append(fil)\n",
    "            #print(i)\n",
    "    sat_files = glob.glob(sat_dir + \"*.grb\")\n",
    "    \n",
    "    remaining_files = []\n",
    "    for fil in sat_files:\n",
    "        if not timestamp(fil) in ds.time.values:\n",
    "            remaining_files.append(fil)\n",
    "            \n",
    "    return remaining_files"
   ]
  },
  {
   "cell_type": "code",
   "execution_count": 23,
   "metadata": {},
   "outputs": [
    {
     "data": {
      "text/plain": [
       "92736"
      ]
     },
     "execution_count": 23,
     "metadata": {},
     "output_type": "execute_result"
    }
   ],
   "source": [
    "len(get_list_remainig_files())"
   ]
  },
  {
   "cell_type": "code",
   "execution_count": null,
   "metadata": {},
   "outputs": [],
   "source": []
  },
  {
   "cell_type": "code",
   "execution_count": null,
   "metadata": {},
   "outputs": [],
   "source": []
  },
  {
   "cell_type": "code",
   "execution_count": null,
   "metadata": {},
   "outputs": [],
   "source": []
  },
  {
   "cell_type": "code",
   "execution_count": 11,
   "metadata": {},
   "outputs": [],
   "source": [
    "#data_dir = '/home/hanna/MS-suppl/files/'\n",
    "data_dir = '/uio/hume/student-u89/hannasv/MS-suppl/'\n",
    "sat_dir = '/uio/lagringshotell/geofag/projects/miphclac/hannasv/'\n",
    "save_dir = '/uio/lagringshotell/geofag/students/metos/hannasv/satelite_data/'"
   ]
  },
  {
   "cell_type": "code",
   "execution_count": 12,
   "metadata": {},
   "outputs": [],
   "source": [
    "files = glob.glob(save_dir + search_str_finished)\n",
    "\n",
    "failed = []\n",
    "for i, fil in enumerate(files):\n",
    "    if i == 0:\n",
    "        ds = xr.open_dataset(fil)\n",
    "    else:\n",
    "        try:\n",
    "            ds = ds.merge(xr.open_dataset(fil))\n",
    "        except xr.MergeError:\n",
    "            failed.append(fil)\n",
    "        #print(i)\n"
   ]
  },
  {
   "cell_type": "code",
   "execution_count": 15,
   "metadata": {},
   "outputs": [],
   "source": [
    "# ds.time.values"
   ]
  },
  {
   "cell_type": "code",
   "execution_count": 19,
   "metadata": {},
   "outputs": [],
   "source": [
    "remaining_files = []\n",
    "for fil in sat_files:\n",
    "    if not timestamp(fil) in ds.time.values:\n",
    "        remaining_files.append(fil)"
   ]
  },
  {
   "cell_type": "code",
   "execution_count": 20,
   "metadata": {},
   "outputs": [
    {
     "data": {
      "text/plain": [
       "(93657, 92736)"
      ]
     },
     "execution_count": 20,
     "metadata": {},
     "output_type": "execute_result"
    }
   ],
   "source": [
    "len(sat_files), len(remaining_files)"
   ]
  },
  {
   "cell_type": "markdown",
   "metadata": {},
   "source": [
    "## idea\n",
    "\n",
    "1) Loop over all files. \n",
    "\n",
    "if file in merged files heilt. \n",
    "# do nothing\n",
    "\n",
    "else: \n",
    "    put in a seperate list.\n"
   ]
  },
  {
   "cell_type": "code",
   "execution_count": 4,
   "metadata": {},
   "outputs": [],
   "source": [
    "sat_files = glob.glob(sat_dir + \"*.grb\")"
   ]
  },
  {
   "cell_type": "code",
   "execution_count": 5,
   "metadata": {},
   "outputs": [],
   "source": [
    "def timestamp(filename):\n",
    "    \"\"\"\n",
    "    Returns the numpy datetime 64 [ns] for the current date.\n",
    "    This is a bit hardcoded at the moment ....\n",
    "    \"\"\"\n",
    "    splits = filename.split('-')\n",
    "    ts = splits[5]\n",
    "    year = ts[:4]\n",
    "    month = ts[4:6]\n",
    "    day = ts[6:8]\n",
    "    hr = ts[8:10]\n",
    "    minuts = ts[10:12]\n",
    "    sek = ts[12:14]\n",
    "    # TODO make sure all filenames have seconds\n",
    "    return np.datetime64( year+\"-\"+month+\"-\"+day+\"T\"+hr ) # +\":\"+minuts+\":\"+sek"
   ]
  },
  {
   "cell_type": "code",
   "execution_count": null,
   "metadata": {},
   "outputs": [],
   "source": []
  },
  {
   "cell_type": "code",
   "execution_count": null,
   "metadata": {},
   "outputs": [],
   "source": []
  }
 ],
 "metadata": {
  "kernelspec": {
   "display_name": "Python 2",
   "language": "python",
   "name": "python2"
  },
  "language_info": {
   "codemirror_mode": {
    "name": "ipython",
    "version": 2
   },
   "file_extension": ".py",
   "mimetype": "text/x-python",
   "name": "python",
   "nbconvert_exporter": "python",
   "pygments_lexer": "ipython2",
   "version": "2.7.15"
  }
 },
 "nbformat": 4,
 "nbformat_minor": 2
}
