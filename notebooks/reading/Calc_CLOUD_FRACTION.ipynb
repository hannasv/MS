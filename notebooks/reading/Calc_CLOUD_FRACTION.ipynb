{
 "cells": [
  {
   "cell_type": "markdown",
   "metadata": {},
   "source": [
    "## LL"
   ]
  },
  {
   "cell_type": "code",
   "execution_count": 1,
   "metadata": {},
   "outputs": [],
   "source": [
    "import json\n",
    "import glob\n",
    "import numpy as np\n",
    "import matplotlib.pyplot as plt\n",
    "import xarray as xr"
   ]
  },
  {
   "cell_type": "code",
   "execution_count": 2,
   "metadata": {},
   "outputs": [],
   "source": [
    "save_dir = '/home/hanna/MS-suppl/files/'\n",
    "sat_dir = '/home/hanna/lagrings/satelite_coordinates/msthesis/'\n",
    "\n",
    "ex_fil = glob.glob(save_dir + '*ERA5*.json')[0]\n",
    "with open(ex_fil, 'r') as f:\n",
    "    data_grid = json.load(f)"
   ]
  },
  {
   "cell_type": "code",
   "execution_count": 3,
   "metadata": {},
   "outputs": [],
   "source": [
    "satfil = glob.glob(sat_dir + '*nc')[-1]"
   ]
  },
  {
   "cell_type": "code",
   "execution_count": 4,
   "metadata": {},
   "outputs": [
    {
     "data": {
      "text/plain": [
       "'/home/hanna/lagrings/satelite_coordinates/msthesis/cloud_mask.nc'"
      ]
     },
     "execution_count": 4,
     "metadata": {},
     "output_type": "execute_result"
    }
   ],
   "source": [
    "satfil"
   ]
  },
  {
   "cell_type": "code",
   "execution_count": 5,
   "metadata": {},
   "outputs": [],
   "source": [
    "def read_dlon_dlat(save_dir):\n",
    "    nc_files = glob.glob(save_dir+'*cell*.json')\n",
    "    #print(nc_files)\n",
    "    with open(nc_files[-1]) as f:\n",
    "        d =  json.load(f)\n",
    "        \n",
    "    d_phi      = d['dphi'] \n",
    "    d_theta    = d['dtheta'] \n",
    "    cell_areas = d['cell_area']\n",
    "    lat_array  = d['lat'] \n",
    "    lon_array  = d['lon']\n",
    "    return d_phi, d_theta, cell_areas, lat_array, lon_array"
   ]
  },
  {
   "cell_type": "code",
   "execution_count": 6,
   "metadata": {},
   "outputs": [],
   "source": [
    "d_phi, d_theta, cell_areas, lat_array, lon_array = read_dlon_dlat(save_dir)"
   ]
  },
  {
   "cell_type": "code",
   "execution_count": 7,
   "metadata": {},
   "outputs": [],
   "source": [
    "def clean_file(satfil):\n",
    "    if satfil.split('.')[-1] == 'grb':\n",
    "        print(\"detect grib file\")\n",
    "        cloudMask = xr.open_dataset(satfil, engine = 'cfgrib')\n",
    "        o = cloudMask['p260537'].values.reshape( (3712, 3712) )\n",
    "        o[o>=3.0]=np.nan\n",
    "        o[o==1.0]=0\n",
    "        o[o==2.0]=1.0\n",
    "    else:\n",
    "        print(\" Detect nc file - this is already rewritten to binary.\")\n",
    "        cloudMask = xr.open_dataset(satfil)\n",
    "        #print(cloudMask)\n",
    "        o = cloudMask['cloudMask'].values.reshape( (3712, 3712) )\n",
    "    \n",
    "    #import seaborn as sns\n",
    "    #sns.heatmap(o)\n",
    "    #plt.show()\n",
    "    \n",
    "    return o"
   ]
  },
  {
   "cell_type": "code",
   "execution_count": 8,
   "metadata": {},
   "outputs": [],
   "source": [
    "def area_grid_cell(c_lat, d_lat, d_lon):\n",
    "        R = 6371000  # in M\n",
    "        # area er egentlig R**2\n",
    "        area = R*(np.sin((c_lat + d_lat)*np.pi/180) - np.sin((c_lat - d_lat)*np.pi/180) )*(2*d_lon*np.pi/180) # R**2\n",
    "        return np.abs(area)"
   ]
  },
  {
   "cell_type": "code",
   "execution_count": 9,
   "metadata": {},
   "outputs": [],
   "source": [
    "def get_dict_with_all_keys():\n",
    "    ex_fil = glob.glob(save_dir + '*ERA5*grid*changes_to_indexes_from*.json')\n",
    "    merged_dict = {}\n",
    "    for fil in ex_fil:\n",
    "        with open(fil, 'r') as f:\n",
    "            data_grid = json.load(f)\n",
    "        merged_dict.update(data_grid)   \n",
    "    return merged_dict"
   ]
  },
  {
   "cell_type": "code",
   "execution_count": 10,
   "metadata": {},
   "outputs": [],
   "source": [
    "data_dict = get_dict_with_all_keys()"
   ]
  },
  {
   "cell_type": "code",
   "execution_count": 11,
   "metadata": {},
   "outputs": [
    {
     "data": {
      "text/plain": [
       "dict_keys(['50.25', '50.5', '50.75', '51.0', '51.25', '51.5', '51.75', '52.0', '52.25', '52.5', '52.75', '53.0', '53.25', '53.5', '53.75', '54.0', '54.25', '54.5', '54.75', '55.0', '35.25', '35.5', '35.75', '36.0', '36.25', '36.5', '36.75', '37.0', '37.25', '37.5', '37.75', '38.0', '38.25', '38.5', '38.75', '39.0', '39.25', '39.5', '39.75', '40.0', '40.25', '40.5', '40.75', '41.0', '41.25', '41.5', '41.75', '42.0', '42.25', '42.5', '42.75', '43.0', '43.25', '43.5', '43.75', '44.0', '44.25', '44.5', '44.75', '45.0', '30.0', '30.25', '30.5', '30.75', '31.0', '31.25', '31.5', '31.75', '32.0', '32.25', '32.5', '32.75', '33.0', '33.25', '33.5', '33.75', '34.0', '34.25', '34.5', '34.75', '35.0', '45.25', '45.5', '45.75', '46.0', '46.25', '46.5', '46.75', '47.0', '47.25', '47.5', '47.75', '48.0', '48.25', '48.5', '48.75', '49.0', '49.25', '49.5', '49.75', '50.0'])"
      ]
     },
     "execution_count": 11,
     "metadata": {},
     "output_type": "execute_result"
    }
   ],
   "source": [
    "data_dict.keys()"
   ]
  },
  {
   "cell_type": "code",
   "execution_count": 12,
   "metadata": {},
   "outputs": [
    {
     "data": {
      "text/plain": [
       "dict_keys(['-15.0', '-14.75', '-14.5', '-14.25', '-14.0', '-13.75', '-13.5', '-13.25', '-13.0', '-12.75', '-12.5', '-12.25', '-12.0', '-11.75', '-11.5', '-11.25', '-11.0', '-10.75', '-10.5', '-10.25', '-10.0', '-9.75', '-9.5', '-9.25', '-9.0', '-8.75', '-8.5', '-8.25', '-8.0', '-7.75', '-7.5', '-7.25', '-7.0', '-6.75', '-6.5', '-6.25', '-6.0', '-5.75', '-5.5', '-5.25', '-5.0', '-4.75', '-4.5', '-4.25', '-4.0', '-3.75', '-3.5', '-3.25', '-3.0', '-2.75', '-2.5', '-2.25', '-2.0', '-1.75', '-1.5', '-1.25', '-1.0', '-0.75', '-0.5', '-0.25', '0.0', '0.25', '0.5', '0.75', '1.0', '1.25', '1.5', '1.75', '2.0', '2.25', '2.5', '2.75', '3.0', '3.25', '3.5', '3.75', '4.0', '4.25', '4.5', '4.75', '5.0', '5.25', '5.5', '5.75', '6.0', '6.25', '6.5', '6.75', '7.0', '7.25', '7.5', '7.75', '8.0', '8.25', '8.5', '8.75', '9.0', '9.25', '9.5', '9.75', '10.0', '10.25', '10.5', '10.75', '11.0', '11.25', '11.5', '11.75', '12.0', '12.25', '12.5', '12.75', '13.0', '13.25', '13.5', '13.75', '14.0', '14.25', '14.5', '14.75', '15.0', '15.25', '15.5', '15.75', '16.0', '16.25', '16.5', '16.75', '17.0', '17.25', '17.5', '17.75', '18.0', '18.25', '18.5', '18.75', '19.0', '19.25', '19.5', '19.75', '20.0', '20.25', '20.5', '20.75', '21.0', '21.25', '21.5', '21.75', '22.0', '22.25', '22.5', '22.75', '23.0', '23.25', '23.5', '23.75', '24.0', '24.25', '24.5', '24.75', '25.0', '25.25', '25.5', '25.75', '26.0', '26.25', '26.5', '26.75', '27.0', '27.25', '27.5', '27.75', '28.0', '28.25', '28.5', '28.75', '29.0', '29.25', '29.5', '29.75'])"
      ]
     },
     "execution_count": 12,
     "metadata": {},
     "output_type": "execute_result"
    }
   ],
   "source": [
    "data_dict['50.25'].keys()"
   ]
  },
  {
   "cell_type": "code",
   "execution_count": 13,
   "metadata": {},
   "outputs": [],
   "source": [
    "def calc_fraction_one_cell(lat = '30.25', lon = '19.25', cmk = None, data = None):\n",
    "\n",
    "    if data:\n",
    "        ## Improvements : This should read the files. \n",
    "        ex = data[lat][lon]\n",
    "        fraction = 0\n",
    "\n",
    "        ERA_area = area_grid_cell(float(lat), 0.25/2, 0.25/2)\n",
    "        SAT_area = 0\n",
    "        #cmk = np.random.randint(low = 0, high=2, size = len(lat_array))\n",
    "\n",
    "        for key, item in ex.items():\n",
    "            index = item['index']\n",
    "            area  = item['area']\n",
    "\n",
    "            if len(index) == len(area):\n",
    "                # , \"len index, len are = {}, {}\".format(len(index), len(area))\n",
    "                SAT_area += np.nansum(area)\n",
    "                #print('nans area')\n",
    "                #print()\n",
    "                if np.isnan(np.array(area)).sum() > 0:\n",
    "                    print('Returns nan for lat {}, lon {}'.format(lat, lon))\n",
    "                fraction += np.nansum(np.array(area)*np.array(cmk[index]) )\n",
    "            else:\n",
    "                print('Returns nan for lat {}, lon {}'.format(lat, lon))\n",
    "                return np.nan, (lat, lon)\n",
    "            \n",
    "        return fraction/SAT_area*ERA_area, None\n",
    "    else:\n",
    "        print('Please send data as a attribute.')\n",
    "        return"
   ]
  },
  {
   "cell_type": "code",
   "execution_count": 14,
   "metadata": {},
   "outputs": [],
   "source": [
    "def compute(satfil):\n",
    "    o = clean_file(satfil)\n",
    "    d_phi, d_theta, cell_areas, lat_array, lon_array = read_dlon_dlat(save_dir)\n",
    "    ex_fil = glob.glob(save_dir + '*ERA5*grid*changes_to_indexes_from*.json')\n",
    "    #fig, ax = plt.subplots(nrows=1, ncols=1, figsize=(20, 10))\n",
    "\n",
    "    clouds = o.reshape(-1)\n",
    "\n",
    "    _all = {}\n",
    "    fractions = {}\n",
    "\n",
    "    #ex_fil = glob.glob(save_dir + '*indexes_test*.json')[0]\n",
    "    for fil in ex_fil:\n",
    "        with open(fil, 'r') as f:\n",
    "            data_grid = json.load(f)\n",
    "        _all.update(data_grid)\n",
    "\n",
    "    lons = np.arange(-15.0, 25.0, 0.25)\n",
    "    lats = np.arange(30.0, 50.0, 0.25)    \n",
    "        \n",
    "    for lat in lats:\n",
    "        fractions[str(lat)] = {}\n",
    "        for lon in lons:\n",
    "            a, tup = calc_fraction_one_cell(lat = str(lat), \n",
    "                                            lon = str(lon), \n",
    "                                            cmk = clouds, \n",
    "                                            data = _all)\n",
    "\n",
    "            fractions[str(lat)][str(lon)] = a\n",
    "\n",
    "    import pandas as pd\n",
    "    \n",
    "    return pd.DataFrame.from_dict(fractions)"
   ]
  },
  {
   "cell_type": "code",
   "execution_count": 15,
   "metadata": {},
   "outputs": [
    {
     "name": "stdout",
     "output_type": "stream",
     "text": [
      " Detect nc file - this is already rewritten to binary.\n"
     ]
    },
    {
     "data": {
      "text/plain": [
       "<matplotlib.axes._subplots.AxesSubplot at 0x7f19d89e67b8>"
      ]
     },
     "execution_count": 15,
     "metadata": {},
     "output_type": "execute_result"
    },
    {
     "data": {
      "image/png": "[encoded data removed]",
      "text/plain": [
       "<Figure size 432x288 with 2 Axes>"
      ]
     },
     "metadata": {
      "needs_background": "light"
     },
     "output_type": "display_data"
    }
   ],
   "source": [
    "import seaborn as sns\n",
    "o = clean_file(satfil)\n",
    "sns.heatmap(o)"
   ]
  },
  {
   "cell_type": "code",
   "execution_count": 16,
   "metadata": {},
   "outputs": [
    {
     "name": "stdout",
     "output_type": "stream",
     "text": [
      " Detect nc file - this is already rewritten to binary.\n"
     ]
    }
   ],
   "source": [
    "df = compute(satfil)"
   ]
  },
  {
   "cell_type": "code",
   "execution_count": 20,
   "metadata": {},
   "outputs": [],
   "source": [
    "sat_dir = '/home/hanna/lagrings/sat_images_2004_2011/'\n",
    "#data_grid = get_dict_with_all_keys()\n",
    "#lats = np.arange(-15.0, 25.0, 0.25)\n",
    "#lons = np.arange(30.0, 50.0, 0.25)\n",
    "sat_files = glob.glob(sat_dir + \"./**/*.grb\", recursive = True)"
   ]
  },
  {
   "cell_type": "code",
   "execution_count": 21,
   "metadata": {},
   "outputs": [
    {
     "data": {
      "text/plain": [
       "7851"
      ]
     },
     "execution_count": 21,
     "metadata": {},
     "output_type": "execute_result"
    }
   ],
   "source": [
    "len(sat_files)"
   ]
  },
  {
   "cell_type": "code",
   "execution_count": 38,
   "metadata": {},
   "outputs": [],
   "source": [
    "import glob\n",
    "import xarray as xr\n",
    "import numpy as np\n",
    "\n",
    "def timestamp(filename):\n",
    "    \"\"\"\n",
    "    Returns the numpy datetime 64 [ns] for the current date.\n",
    "    This is a bit hardcoded at the moment ....\n",
    "    \"\"\"\n",
    "    splits = filename.split('-')\n",
    "    ts = splits[5]\n",
    "    year = ts[:4]\n",
    "    month = ts[4:6]\n",
    "    day = ts[6:8]\n",
    "    hr = ts[8:10]\n",
    "    minuts = ts[10:12]\n",
    "    sek = ts[12:14]\n",
    "    # TODO make sure all filenames have seconds\n",
    "    return np.datetime64( year+\"-\"+month+\"-\"+day+\"T\"+hr+\":\"+minuts+\":\"+sek )\n",
    "\n",
    "def merge_ts_to_one_dataset(grb_files, lat = None, lon = None):\n",
    "    \"\"\"\n",
    "    grib_files : list of files\n",
    "        typically one year?\n",
    "    \"\"\"\n",
    "    data_grid = get_dict_with_all_keys()\n",
    "    \n",
    "    counter = 0\n",
    "    for filename in grb_files:# grb file of satellite image...\n",
    "        #print(filename)\n",
    "        if counter == 0:\n",
    "            #print(\"enters 0\")\n",
    "            #clou = calc_all(filename, nc_file = nc_files[0])\n",
    "            cloud_fraction = compute(filename).values.T\n",
    "            ds = xr.Dataset({'tcc': (['latitude', 'longitude'],  cloud_fraction),\n",
    "                             #'nr_nans':(['latitude', 'longitude'], cnt_nans),\n",
    "                            #'nr_cells':(['latitude', 'longitude'], cnt_cells)\n",
    "                                 },\n",
    "                             coords={'longitude': (['longitude'], lon),\n",
    "                                     'latitude': (['latitude'], lat),\n",
    "                                    })\n",
    "\n",
    "            ts = timestamp(filename)\n",
    "            ds['time'] = ts\n",
    "\n",
    "            # Add time as a coordinate and dimension.\n",
    "            ds = ds.assign_coords(time = ds.time)\n",
    "            ds = ds.expand_dims(dim = 'time')\n",
    "            print(ds)\n",
    "            counter += 1\n",
    "\n",
    "        else:\n",
    "            #clm, cnt_cells, cnt_nans = calc_all(filename, nc_file = nc_files[0])\n",
    "            cloud_fraction = compute(filename).values.T\n",
    "            new_ds = xr.Dataset({'tcc': (['latitude', 'longitude'],  cloud_fraction),\n",
    "                                 #'nr_nans':(['latitude', 'longitude'], cnt_nans),\n",
    "                                 #'nr_cells':(['latitude', 'longitude'], cnt_cells)\n",
    "                                },\n",
    "                                  coords={'longitude': (['longitude'], lon),\n",
    "                                          'latitude': (['latitude'], lat),\n",
    "                                           })\n",
    "\n",
    "            ts = timestamp(filename)\n",
    "            new_ds['time'] = ts\n",
    "\n",
    "            # Add time as a coordinate and dimension.\n",
    "            new_ds = new_ds.assign_coords(time = new_ds.time)\n",
    "            new_ds = new_ds.expand_dims(dim = 'time')\n",
    "            \n",
    "            print(new_ds)\n",
    "            \n",
    "            ds = ds.merge(new_ds)\n",
    "            counter += 1\n",
    "    return ds\n"
   ]
  },
  {
   "cell_type": "code",
   "execution_count": 39,
   "metadata": {},
   "outputs": [
    {
     "name": "stdout",
     "output_type": "stream",
     "text": [
      "detect grib file\n"
     ]
    },
    {
     "name": "stderr",
     "output_type": "stream",
     "text": [
      "ecCodes provides no latitudes/longitudes for gridType='space_view'\n",
      "Can't read index file '/home/hanna/lagrings/sat_images_2004_2011/archive.eumetsat.int/umarf/onlinedownload/hannasv/_1359298/MSG1-SEVI-MSGCLMK-0100-0100-20040723200000.000000000Z-20040723201255-1359298.grb.011ab.idx'\n",
      "Traceback (most recent call last):\n",
      "  File \"/home/hanna/anaconda3/envs/sciclouds/lib/python3.6/site-packages/cfgrib/messages.py\", line 318, in from_indexpath_or_filestream\n",
      "    self = cls.from_indexpath(indexpath)\n",
      "  File \"/home/hanna/anaconda3/envs/sciclouds/lib/python3.6/site-packages/cfgrib/messages.py\", line 290, in from_indexpath\n",
      "    return pickle.load(file)\n",
      "EOFError: Ran out of input\n"
     ]
    },
    {
     "name": "stdout",
     "output_type": "stream",
     "text": [
      "<xarray.Dataset>\n",
      "Dimensions:    (latitude: 80, longitude: 160, time: 1)\n",
      "Coordinates:\n",
      "  * longitude  (longitude) float64 -15.0 -14.75 -14.5 ... 24.25 24.5 24.75\n",
      "  * latitude   (latitude) float64 30.0 30.25 30.5 30.75 ... 49.25 49.5 49.75\n",
      "  * time       (time) datetime64[ns] 2004-07-23T19:00:00\n",
      "Data variables:\n",
      "    tcc        (time, latitude, longitude) float64 0.0 0.0 0.0 ... 0.3111 41.68\n",
      "detect grib file\n"
     ]
    },
    {
     "name": "stderr",
     "output_type": "stream",
     "text": [
      "ecCodes provides no latitudes/longitudes for gridType='space_view'\n"
     ]
    },
    {
     "name": "stdout",
     "output_type": "stream",
     "text": [
      "<xarray.Dataset>\n",
      "Dimensions:    (latitude: 80, longitude: 160, time: 1)\n",
      "Coordinates:\n",
      "  * longitude  (longitude) float64 -15.0 -14.75 -14.5 ... 24.25 24.5 24.75\n",
      "  * latitude   (latitude) float64 30.0 30.25 30.5 30.75 ... 49.25 49.5 49.75\n",
      "  * time       (time) datetime64[ns] 2004-07-23T20:00:00\n",
      "Data variables:\n",
      "    tcc        (time, latitude, longitude) float64 0.0 0.0 0.0 ... 0.0 0.0 42.72\n"
     ]
    }
   ],
   "source": [
    "ds = merge_ts_to_one_dataset(sat_files[:2], lat =  np.arange(30.0, 50.0, 0.25) , lon = np.arange(-15.0, 25.0, 0.25) )"
   ]
  },
  {
   "cell_type": "code",
   "execution_count": 40,
   "metadata": {},
   "outputs": [
    {
     "data": {
      "text/plain": [
       "<xarray.Dataset>\n",
       "Dimensions:    (latitude: 80, longitude: 160, time: 2)\n",
       "Coordinates:\n",
       "  * time       (time) datetime64[ns] 2004-07-23T19:00:00 2004-07-23T20:00:00\n",
       "  * longitude  (longitude) float64 -15.0 -14.75 -14.5 ... 24.25 24.5 24.75\n",
       "  * latitude   (latitude) float64 30.0 30.25 30.5 30.75 ... 49.25 49.5 49.75\n",
       "Data variables:\n",
       "    tcc        (time, latitude, longitude) float64 0.0 0.0 0.0 ... 0.0 0.0 42.72"
      ]
     },
     "execution_count": 40,
     "metadata": {},
     "output_type": "execute_result"
    }
   ],
   "source": [
    "ds"
   ]
  },
  {
   "cell_type": "code",
   "execution_count": null,
   "metadata": {},
   "outputs": [],
   "source": []
  },
  {
   "cell_type": "markdown",
   "metadata": {},
   "source": [
    "# Write file and generate filename."
   ]
  },
  {
   "cell_type": "code",
   "execution_count": null,
   "metadata": {},
   "outputs": [],
   "source": [
    "\n",
    "def output_filename(self, var, start, stop, add_text_begin = \"\"):\n",
    "    \"\"\"\n",
    "    Add test train or valid in front when this is appropriate.\n",
    "\n",
    "    OBS: Var should be in terms of variables in the era-interim datasets.\n",
    "    \"\"\"\n",
    "    return (save_dir + add_text_begin + var + \"_\" + start + \"_\" +\n",
    "                stop + \"_\" + self.season_str + \".nc\")\n"
   ]
  },
  {
   "cell_type": "code",
   "execution_count": null,
   "metadata": {},
   "outputs": [],
   "source": []
  },
  {
   "cell_type": "code",
   "execution_count": null,
   "metadata": {},
   "outputs": [],
   "source": []
  },
  {
   "cell_type": "code",
   "execution_count": null,
   "metadata": {},
   "outputs": [],
   "source": []
  }
 ],
 "metadata": {
  "kernelspec": {
   "display_name": "Python 3",
   "language": "python",
   "name": "python3"
  },
  "language_info": {
   "codemirror_mode": {
    "name": "ipython",
    "version": 3
   },
   "file_extension": ".py",
   "mimetype": "text/x-python",
   "name": "python",
   "nbconvert_exporter": "python",
   "pygments_lexer": "ipython3",
   "version": "3.6.2"
  }
 },
 "nbformat": 4,
 "nbformat_minor": 4
}
