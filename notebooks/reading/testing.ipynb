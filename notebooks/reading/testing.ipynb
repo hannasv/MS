{
 "cells": [
  {
   "cell_type": "code",
   "execution_count": 1,
   "metadata": {},
   "outputs": [],
   "source": [
    "import xarray as xr\n",
    "import numpy as np\n",
    "import glob\n",
    "import os"
   ]
  },
  {
   "cell_type": "code",
   "execution_count": 2,
   "metadata": {},
   "outputs": [],
   "source": [
    "#pip install eccodes-python"
   ]
  },
  {
   "cell_type": "code",
   "execution_count": 3,
   "metadata": {},
   "outputs": [],
   "source": [
    "#conda install -c anaconda xarray"
   ]
  },
  {
   "cell_type": "code",
   "execution_count": 4,
   "metadata": {},
   "outputs": [],
   "source": [
    "read_clouds = '/home/hannasv/Desktop/miphclac/'\n",
    "store_p = '/home/hannasv/Desktop/lagrings/from_simula/'\n",
    "read_era = '/home/hannasv/Desktop/lagrings/dataERA5_grib/'"
   ]
  },
  {
   "cell_type": "code",
   "execution_count": 5,
   "metadata": {},
   "outputs": [],
   "source": [
    "test = '2005-05'"
   ]
  },
  {
   "cell_type": "code",
   "execution_count": 6,
   "metadata": {},
   "outputs": [],
   "source": [
    "read_files = glob.glob(os.path.join(read_era, '*2m*.grib'))"
   ]
  },
  {
   "cell_type": "code",
   "execution_count": 7,
   "metadata": {},
   "outputs": [
    {
     "data": {
      "text/plain": [
       "['/home/hannasv/Desktop/lagrings/dataERA5_grib/2m_temperature2012_2018_surface_level.grib',\n",
       " '/home/hannasv/Desktop/lagrings/dataERA5_grib/2m_temperature2004_2011_surface_level.grib']"
      ]
     },
     "execution_count": 7,
     "metadata": {},
     "output_type": "execute_result"
    }
   ],
   "source": [
    "read_files"
   ]
  },
  {
   "cell_type": "code",
   "execution_count": 8,
   "metadata": {},
   "outputs": [],
   "source": [
    "#d = xr.open_dataset(read_files[0], engine = 'cfgrib') "
   ]
  },
  {
   "cell_type": "code",
   "execution_count": 9,
   "metadata": {},
   "outputs": [],
   "source": [
    "#print('done')"
   ]
  },
  {
   "cell_type": "code",
   "execution_count": 10,
   "metadata": {},
   "outputs": [],
   "source": [
    "#d2 = xr.open_dataset(read_files[1], engine = 'cfgrib') "
   ]
  },
  {
   "cell_type": "code",
   "execution_count": 11,
   "metadata": {},
   "outputs": [
    {
     "name": "stderr",
     "output_type": "stream",
     "text": [
      "Can't read index file '/home/hannasv/Desktop/lagrings/dataERA5_grib/2m_temperature2004_2011_surface_level.grib.4cc40.idx'\n",
      "Traceback (most recent call last):\n",
      "  File \"/home/hannasv/anaconda3/envs/sciclouds/lib/python3.6/site-packages/cfgrib/messages.py\", line 323, in from_indexpath_or_filestream\n",
      "    self = cls.from_indexpath(indexpath)\n",
      "  File \"/home/hannasv/anaconda3/envs/sciclouds/lib/python3.6/site-packages/cfgrib/messages.py\", line 295, in from_indexpath\n",
      "    return pickle.load(file)\n",
      "EOFError: Ran out of input\n"
     ]
    }
   ],
   "source": [
    "datas = [xr.open_dataset(f, engine = 'cfgrib') for f in read_files]"
   ]
  },
  {
   "cell_type": "code",
   "execution_count": 12,
   "metadata": {},
   "outputs": [
    {
     "data": {
      "text/plain": [
       "<xarray.Dataset>\n",
       "Dimensions:     (latitude: 103, longitude: 178, time: 61368)\n",
       "Coordinates:\n",
       "    number      int64 ...\n",
       "  * time        (time) datetime64[ns] 2012-01-01 ... 2018-12-31T23:00:00\n",
       "    step        timedelta64[ns] ...\n",
       "    surface     int64 ...\n",
       "  * latitude    (latitude) float64 55.5 55.25 55.0 54.75 ... 30.5 30.25 30.0\n",
       "  * longitude   (longitude) float64 -15.0 -14.75 -14.5 ... 28.75 29.0 29.25\n",
       "    valid_time  (time) datetime64[ns] ...\n",
       "Data variables:\n",
       "    t2m         (time, latitude, longitude) float32 ...\n",
       "Attributes:\n",
       "    GRIB_edition:            1\n",
       "    GRIB_centre:             ecmf\n",
       "    GRIB_centreDescription:  European Centre for Medium-Range Weather Forecasts\n",
       "    GRIB_subCentre:          0\n",
       "    Conventions:             CF-1.7\n",
       "    institution:             European Centre for Medium-Range Weather Forecasts\n",
       "    history:                 2020-02-11T13:57:14 GRIB to CDM+CF via cfgrib-0...."
      ]
     },
     "execution_count": 12,
     "metadata": {},
     "output_type": "execute_result"
    }
   ],
   "source": [
    "datas[0]"
   ]
  },
  {
   "cell_type": "code",
   "execution_count": null,
   "metadata": {},
   "outputs": [],
   "source": [
    "ds = xr.merge(datas, 'equals')"
   ]
  },
  {
   "cell_type": "code",
   "execution_count": 1,
   "metadata": {},
   "outputs": [
    {
     "name": "stdout",
     "output_type": "stream",
     "text": [
      "done\n"
     ]
    }
   ],
   "source": [
    "print('done')"
   ]
  },
  {
   "cell_type": "code",
   "execution_count": null,
   "metadata": {},
   "outputs": [],
   "source": [
    "dsM = ds.mean()\n",
    "dsM.to_netcdf(os.path.join(store_p, 'mean_t2m.nc'))"
   ]
  },
  {
   "cell_type": "markdown",
   "metadata": {},
   "source": [
    "# Data exploration we want to study :\n",
    "* Correlation pixelwise to pressure\n",
    "* Everything as a mean over time \n",
    "* Hvordan dele opp dataen slik at det kan leses inn best mulig. \n",
    "* Hugo minnet sette begrensninger for AR - models med invers matrise?\n",
    "* Hvor mye data har jeg egentlig?\n",
    "* "
   ]
  },
  {
   "cell_type": "code",
   "execution_count": null,
   "metadata": {},
   "outputs": [],
   "source": []
  }
 ],
 "metadata": {
  "kernelspec": {
   "display_name": "Python 3",
   "language": "python",
   "name": "python3"
  },
  "language_info": {
   "codemirror_mode": {
    "name": "ipython",
    "version": 3
   },
   "file_extension": ".py",
   "mimetype": "text/x-python",
   "name": "python",
   "nbconvert_exporter": "python",
   "pygments_lexer": "ipython3",
   "version": "3.6.2"
  }
 },
 "nbformat": 4,
 "nbformat_minor": 4
}
