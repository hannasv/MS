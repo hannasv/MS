{
 "cells": [
  {
   "cell_type": "code",
   "execution_count": 24,
   "metadata": {},
   "outputs": [],
   "source": [
    "import glob\n",
    "import json"
   ]
  },
  {
   "cell_type": "code",
   "execution_count": 25,
   "metadata": {},
   "outputs": [],
   "source": [
    "nc_path   = '//uio/lagringshotell/geofag/students/metos/hannasv/satelite_coordinates/msthesis/'\n",
    "#nc_path  = '//home/hanna/lagrings/satelite_coordinates/msthesis/'\n",
    "#save_dir = '/home/hanna/images_simple_statsmodels/'\n",
    "save_dir = '//uio/lagringshotell/geofag/students/metos/hannasv/satelite_coordinates/msthesis/'\n",
    "nc_files  = glob.glob(nc_path + '*.json')"
   ]
  },
  {
   "cell_type": "code",
   "execution_count": 26,
   "metadata": {},
   "outputs": [
    {
     "data": {
      "text/plain": [
       "['//uio/lagringshotell/geofag/students/metos/hannasv/satelite_coordinates/msthesis/changes_lat_lon_cell-area.json',\n",
       " '//uio/lagringshotell/geofag/students/metos/hannasv/satelite_coordinates/msthesis/ERA5_grid_resample_fractions_areas_res0.75.json',\n",
       " '//uio/lagringshotell/geofag/students/metos/hannasv/satelite_coordinates/msthesis/test_era_iterim5by5_respoint75.json']"
      ]
     },
     "execution_count": 26,
     "metadata": {},
     "output_type": "execute_result"
    }
   ],
   "source": [
    "nc_files"
   ]
  },
  {
   "cell_type": "code",
   "execution_count": null,
   "metadata": {},
   "outputs": [],
   "source": [
    "def save_dict_to_json(di, filename, save_dir = ''):\n",
    "    with open(save_dir + filename, 'w') as f:\n",
    "            json.dump(di, f)"
   ]
  },
  {
   "cell_type": "code",
   "execution_count": null,
   "metadata": {},
   "outputs": [],
   "source": [
    "def open_fil(filename, directory):\n",
    "    with open(nc_files[0]) as f:\n",
    "        data =  json.load(f)\n",
    "    return data"
   ]
  },
  {
   "cell_type": "code",
   "execution_count": 28,
   "metadata": {},
   "outputs": [],
   "source": [
    "with open(nc_files[0]) as f:\n",
    "    data =  json.load(f)"
   ]
  },
  {
   "cell_type": "code",
   "execution_count": 30,
   "metadata": {
    "scrolled": false
   },
   "outputs": [
    {
     "data": {
      "text/plain": [
       "[u'lat', u'dphi', u'lon', u'dtheta', u'cell_area']"
      ]
     },
     "execution_count": 30,
     "metadata": {},
     "output_type": "execute_result"
    }
   ],
   "source": [
    "data.keys()"
   ]
  },
  {
   "cell_type": "code",
   "execution_count": null,
   "metadata": {},
   "outputs": [],
   "source": []
  }
 ],
 "metadata": {
  "kernelspec": {
   "display_name": "Python 2",
   "language": "python",
   "name": "python2"
  },
  "language_info": {
   "codemirror_mode": {
    "name": "ipython",
    "version": 2
   },
   "file_extension": ".py",
   "mimetype": "text/x-python",
   "name": "python",
   "nbconvert_exporter": "python",
   "pygments_lexer": "ipython2",
   "version": "2.7.15"
  }
 },
 "nbformat": 4,
 "nbformat_minor": 2
}
