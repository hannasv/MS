{
 "cells": [
  {
   "cell_type": "code",
   "execution_count": 4,
   "metadata": {},
   "outputs": [],
   "source": [
    "import glob \n",
    "import xarray as xr \n",
    "import matplotlib.pyplot as plt"
   ]
  },
  {
   "cell_type": "code",
   "execution_count": 5,
   "metadata": {},
   "outputs": [],
   "source": [
    "path = \"/home/hanna/lagrings/satelite_data/\""
   ]
  },
  {
   "cell_type": "code",
   "execution_count": 8,
   "metadata": {},
   "outputs": [],
   "source": [
    "files= glob.glob(path+\"*news*.nc\")"
   ]
  },
  {
   "cell_type": "code",
   "execution_count": 10,
   "metadata": {},
   "outputs": [
    {
     "data": {
      "text/plain": [
       "631"
      ]
     },
     "execution_count": 10,
     "metadata": {},
     "output_type": "execute_result"
    }
   ],
   "source": [
    "len(files)"
   ]
  },
  {
   "cell_type": "code",
   "execution_count": 17,
   "metadata": {},
   "outputs": [
    {
     "name": "stdout",
     "output_type": "stream",
     "text": [
      "/home/hanna/lagrings/satelite_data/cloud_fractions_news96.nc\n",
      "/home/hanna/lagrings/satelite_data/cloud_fractions_news216.nc\n",
      "/home/hanna/lagrings/satelite_data/cloud_fractions_news128.nc\n",
      "/home/hanna/lagrings/satelite_data/cloud_fractions_news444.nc\n",
      "/home/hanna/lagrings/satelite_data/cloud_fractions_news612.nc\n",
      "/home/hanna/lagrings/satelite_data/cloud_fractions_news756.nc\n",
      "/home/hanna/lagrings/satelite_data/cloud_fractions_news609.nc\n",
      "/home/hanna/lagrings/satelite_data/cloud_fractions_news667.nc\n",
      "/home/hanna/lagrings/satelite_data/cloud_fractions_news870.nc\n",
      "/home/hanna/lagrings/satelite_data/cloud_fractions_news806.nc\n",
      "/home/hanna/lagrings/satelite_data/cloud_fractions_news682.nc\n",
      "/home/hanna/lagrings/satelite_data/cloud_fractions_news899.nc\n",
      "/home/hanna/lagrings/satelite_data/cloud_fractions_news589.nc\n",
      "/home/hanna/lagrings/satelite_data/cloud_fractions_news1536.nc\n",
      "/home/hanna/lagrings/satelite_data/cloud_fractions_news693.nc\n",
      "/home/hanna/lagrings/satelite_data/cloud_fractions_news759.nc\n",
      "/home/hanna/lagrings/satelite_data/cloud_fractions_news918.nc\n",
      "/home/hanna/lagrings/satelite_data/cloud_fractions_news850.nc\n",
      "/home/hanna/lagrings/satelite_data/cloud_fractions_news910.nc\n",
      "/home/hanna/lagrings/satelite_data/cloud_fractions_news665.nc\n",
      "/home/hanna/lagrings/satelite_data/cloud_fractions_news296.nc\n",
      "/home/hanna/lagrings/satelite_data/cloud_fractions_news222.nc\n"
     ]
    }
   ],
   "source": [
    "for i, fil in enumerate(files):\n",
    "    if i == 0:\n",
    "        ds = xr.open_dataset(fil)\n",
    "    else:\n",
    "        try:\n",
    "            ds = ds.merge( xr.open_dataset(fil) )\n",
    "        except xr.MergeError:\n",
    "            #ds = ds.merge( xr.open_dataset(fil))\n",
    "            print(fil)"
   ]
  },
  {
   "cell_type": "code",
   "execution_count": 18,
   "metadata": {},
   "outputs": [
    {
     "data": {
      "text/plain": [
       "<xarray.Dataset>\n",
       "Dimensions:    (latitude: 81, longitude: 161, time: 5182)\n",
       "Coordinates:\n",
       "  * time       (time) datetime64[ns] 2004-04-02T05:00:00 ... 2012-05-22T19:00:00\n",
       "  * latitude   (latitude) float64 30.0 30.25 30.5 30.75 ... 49.5 49.75 50.0\n",
       "  * longitude  (longitude) float64 -15.0 -14.75 -14.5 -14.25 ... 24.5 24.75 25.0\n",
       "Data variables:\n",
       "    tcc        (time, latitude, longitude) float64 0.0 0.0 0.0 ... 0.9978 0.8782\n",
       "    nr_nans    (time, latitude, longitude) float64 0.0 0.0 0.0 ... 0.0 0.0 0.0"
      ]
     },
     "execution_count": 18,
     "metadata": {},
     "output_type": "execute_result"
    }
   ],
   "source": [
    "ds"
   ]
  },
  {
   "cell_type": "code",
   "execution_count": null,
   "metadata": {},
   "outputs": [],
   "source": []
  },
  {
   "cell_type": "code",
   "execution_count": null,
   "metadata": {},
   "outputs": [],
   "source": []
  }
 ],
 "metadata": {
  "kernelspec": {
   "display_name": "Python 3",
   "language": "python",
   "name": "python3"
  },
  "language_info": {
   "codemirror_mode": {
    "name": "ipython",
    "version": 3
   },
   "file_extension": ".py",
   "mimetype": "text/x-python",
   "name": "python",
   "nbconvert_exporter": "python",
   "pygments_lexer": "ipython3",
   "version": "3.6.2"
  }
 },
 "nbformat": 4,
 "nbformat_minor": 4
}
