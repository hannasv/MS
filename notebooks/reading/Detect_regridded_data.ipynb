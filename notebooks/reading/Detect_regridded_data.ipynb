{
 "cells": [
  {
   "cell_type": "markdown",
   "metadata": {},
   "source": [
    "# Testing the Regridded nc files "
   ]
  },
  {
   "cell_type": "code",
   "execution_count": 5,
   "metadata": {},
   "outputs": [],
   "source": [
    "import os \n",
    "import glob\n",
    "\n",
    "import numpy as np\n",
    "import xarray as xr \n",
    "import matplotlib.pyplot as plt "
   ]
  },
  {
   "cell_type": "code",
   "execution_count": 6,
   "metadata": {},
   "outputs": [],
   "source": [
    "repo = '/home/hanna/miphclac/'\n",
    "all_paths = []"
   ]
  },
  {
   "cell_type": "code",
   "execution_count": 8,
   "metadata": {},
   "outputs": [
    {
     "name": "stdout",
     "output_type": "stream",
     "text": [
      "['/home/hanna/miphclac/2004_04/2004_04_tcc.nc']\n",
      "['/home/hanna/miphclac/2004_05/2004_05_tcc.nc']\n",
      "['/home/hanna/miphclac/2004_06/2004_06_tcc.nc']\n",
      "['/home/hanna/miphclac/2004_07/2004_07_tcc.nc']\n",
      "['/home/hanna/miphclac/2004_08/2004_08_tcc.nc']\n",
      "['/home/hanna/miphclac/2004_09/2004_09_tcc.nc']\n",
      "['/home/hanna/miphclac/2004_10/2004_10_tcc.nc']\n",
      "['/home/hanna/miphclac/2004_11/2004_11_tcc.nc']\n",
      "['/home/hanna/miphclac/2004_12/2004_12_tcc.nc']\n",
      "['/home/hanna/miphclac/2005_01/2005_01_tcc.nc']\n",
      "['/home/hanna/miphclac/2005_02/2005_02_tcc.nc']\n",
      "['/home/hanna/miphclac/2005_03/2005_03_tcc.nc']\n",
      "['/home/hanna/miphclac/2005_04/2005_04_tcc.nc']\n",
      "['/home/hanna/miphclac/2005_05/2005_05_tcc.nc']\n",
      "['/home/hanna/miphclac/2005_06/2005_06_tcc.nc']\n",
      "['/home/hanna/miphclac/2005_07/2005_07_tcc.nc']\n",
      "['/home/hanna/miphclac/2005_08/2005_08_tcc.nc']\n",
      "['/home/hanna/miphclac/2005_09/2005_09_tcc.nc']\n",
      "['/home/hanna/miphclac/2005_10/2005_10_tcc.nc']\n",
      "['/home/hanna/miphclac/2005_11/2005_11_tcc.nc']\n",
      "['/home/hanna/miphclac/2005_12/2005_12_tcc.nc']\n",
      "['/home/hanna/miphclac/2006_01/2006_01_tcc.nc']\n",
      "['/home/hanna/miphclac/2006_02/2006_02_tcc.nc']\n",
      "['/home/hanna/miphclac/2006_03/2006_03_tcc.nc']\n",
      "['/home/hanna/miphclac/2006_04/2006_04_tcc.nc']\n",
      "['/home/hanna/miphclac/2006_05/2006_05_tcc.nc']\n",
      "['/home/hanna/miphclac/2006_06/2006_06_tcc.nc']\n",
      "['/home/hanna/miphclac/2006_07/2006_07_tcc.nc']\n",
      "['/home/hanna/miphclac/2006_08/2006_08_tcc.nc']\n",
      "['/home/hanna/miphclac/2006_09/2006_09_tcc.nc']\n",
      "['/home/hanna/miphclac/2007_06/2007_06_tcc.nc']\n",
      "['/home/hanna/miphclac/2007_07/2007_07_tcc.nc']\n",
      "['/home/hanna/miphclac/2008_03/2008_03_tcc.nc']\n",
      "['/home/hanna/miphclac/2008_04/2008_04_tcc.nc']\n",
      "['/home/hanna/miphclac/2008_06/2008_06_tcc.nc']\n",
      "['/home/hanna/miphclac/2008_07/2008_07_tcc.nc']\n",
      "['/home/hanna/miphclac/2008_08/2008_08_tcc.nc']\n",
      "['/home/hanna/miphclac/2008_09/2008_09_tcc.nc']\n",
      "['/home/hanna/miphclac/2008_10/2008_10_tcc.nc']\n",
      "['/home/hanna/miphclac/2009_01/2009_01_tcc.nc']\n",
      "['/home/hanna/miphclac/2009_02/2009_02_tcc.nc']\n",
      "['/home/hanna/miphclac/2009_03/2009_03_tcc.nc']\n",
      "['/home/hanna/miphclac/2009_06/2009_06_tcc.nc']\n",
      "['/home/hanna/miphclac/2009_08/2009_08_tcc.nc']\n",
      "['/home/hanna/miphclac/2009_09/2009_09_tcc.nc']\n",
      "['/home/hanna/miphclac/2009_10/2009_10_tcc.nc']\n",
      "['/home/hanna/miphclac/2009_11/2009_11_tcc.nc']\n",
      "['/home/hanna/miphclac/2009_12/2009_12_tcc.nc']\n",
      "['/home/hanna/miphclac/2010_02/2010_02_tcc.nc']\n",
      "['/home/hanna/miphclac/2010_03/2010_03_tcc.nc']\n",
      "['/home/hanna/miphclac/2010_04/2010_04_tcc.nc']\n",
      "['/home/hanna/miphclac/2010_10/2010_10_tcc.nc']\n",
      "['/home/hanna/miphclac/2010_11/2010_11_tcc.nc']\n",
      "['/home/hanna/miphclac/2010_12/2010_12_tcc.nc']\n",
      "['/home/hanna/miphclac/2011_01/2011_01_tcc.nc']\n",
      "['/home/hanna/miphclac/2011_02/2011_02_tcc.nc']\n",
      "['/home/hanna/miphclac/2011_03/2011_03_tcc.nc']\n",
      "['/home/hanna/miphclac/2011_04/2011_04_tcc.nc']\n",
      "['/home/hanna/miphclac/2011_05/2011_05_tcc.nc']\n",
      "['/home/hanna/miphclac/2011_06/2011_06_tcc.nc']\n",
      "['/home/hanna/miphclac/2011_07/2011_07_tcc.nc']\n",
      "['/home/hanna/miphclac/2011_08/2011_08_tcc.nc']\n",
      "['/home/hanna/miphclac/2011_09/2011_09_tcc.nc']\n",
      "['/home/hanna/miphclac/2011_10/2011_10_tcc.nc']\n",
      "['/home/hanna/miphclac/2011_11/2011_11_tcc.nc']\n",
      "['/home/hanna/miphclac/2011_12/2011_12_tcc.nc']\n",
      "['/home/hanna/miphclac/2012_07/2012_07_tcc.nc']\n",
      "['/home/hanna/miphclac/2012_08/2012_08_tcc.nc']\n",
      "['/home/hanna/miphclac/2012_09/2012_09_tcc.nc']\n",
      "['/home/hanna/miphclac/2012_10/2012_10_tcc.nc']\n",
      "['/home/hanna/miphclac/2012_11/2012_11_tcc.nc']\n",
      "['/home/hanna/miphclac/2013_03/2013_03_tcc.nc']\n",
      "['/home/hanna/miphclac/2013_04/2013_04_tcc.nc']\n",
      "['/home/hanna/miphclac/2013_05/2013_05_tcc.nc']\n",
      "['/home/hanna/miphclac/2013_06/2013_06_tcc.nc']\n",
      "['/home/hanna/miphclac/2013_07/2013_07_tcc.nc']\n",
      "['/home/hanna/miphclac/2013_08/2013_08_tcc.nc']\n",
      "['/home/hanna/miphclac/2013_09/2013_09_tcc.nc']\n",
      "['/home/hanna/miphclac/2013_10/2013_10_tcc.nc']\n",
      "['/home/hanna/miphclac/2013_11/2013_11_tcc.nc']\n",
      "['/home/hanna/miphclac/2013_12/2013_12_tcc.nc']\n",
      "['/home/hanna/miphclac/2014_01/2014_01_tcc.nc']\n",
      "['/home/hanna/miphclac/2014_02/2014_02_tcc.nc']\n",
      "['/home/hanna/miphclac/2014_03/2014_03_tcc.nc']\n",
      "['/home/hanna/miphclac/2014_04/2014_04_tcc.nc']\n",
      "['/home/hanna/miphclac/2014_05/2014_05_tcc.nc']\n",
      "['/home/hanna/miphclac/2014_06/2014_06_tcc.nc']\n",
      "['/home/hanna/miphclac/2014_07/2014_07_tcc.nc']\n",
      "['/home/hanna/miphclac/2014_08/2014_08_tcc.nc']\n",
      "['/home/hanna/miphclac/2014_09/2014_09_tcc.nc']\n",
      "['/home/hanna/miphclac/2014_10/2014_10_tcc.nc']\n",
      "['/home/hanna/miphclac/2015_03/2015_03_tcc.nc']\n",
      "['/home/hanna/miphclac/2015_07/2015_07_tcc.nc']\n",
      "['/home/hanna/miphclac/2015_08/2015_08_tcc.nc']\n",
      "['/home/hanna/miphclac/2015_09/2015_09_tcc.nc']\n",
      "['/home/hanna/miphclac/2015_11/2015_11_tcc.nc']\n",
      "['/home/hanna/miphclac/2015_12/2015_12_tcc.nc']\n",
      "['/home/hanna/miphclac/2017_01/2017_01_tcc.nc']\n",
      "['/home/hanna/miphclac/2017_02/2017_02_tcc.nc']\n",
      "['/home/hanna/miphclac/2017_03/2017_03_tcc.nc']\n",
      "['/home/hanna/miphclac/2017_04/2017_04_tcc.nc']\n",
      "['/home/hanna/miphclac/2017_05/2017_05_tcc.nc']\n",
      "['/home/hanna/miphclac/2018_02/2018_02_tcc.nc']\n",
      "['/home/hanna/miphclac/2018_03/2018_03_tcc.nc']\n",
      "['/home/hanna/miphclac/2018_04/2018_04_tcc.nc']\n",
      "['/home/hanna/miphclac/2018_06/2018_06_tcc.nc']\n",
      "['/home/hanna/miphclac/2018_07/2018_07_tcc.nc']\n",
      "['/home/hanna/miphclac/2018_08/2018_08_tcc.nc']\n",
      "['/home/hanna/miphclac/2018_09/2018_09_tcc.nc']\n",
      "['/home/hanna/miphclac/2018_10/2018_10_tcc.nc']\n",
      "['/home/hanna/miphclac/2018_11/2018_11_tcc.nc']\n",
      "['/home/hanna/miphclac/2018_12/2018_12_tcc.nc']\n"
     ]
    }
   ],
   "source": [
    "for y in np.arange(2004, 2019):\n",
    "    for m in np.arange(1, 13):\n",
    "        files = glob.glob(os.path.join( repo,'{}_{:02d}/*tcc*.nc'.format(y, m)))\n",
    "        if len(files) > 0:\n",
    "            print(files)\n",
    "            all_paths.append(files[0])"
   ]
  },
  {
   "cell_type": "code",
   "execution_count": null,
   "metadata": {},
   "outputs": [],
   "source": []
  },
  {
   "cell_type": "code",
   "execution_count": null,
   "metadata": {},
   "outputs": [],
   "source": []
  },
  {
   "cell_type": "code",
   "execution_count": null,
   "metadata": {},
   "outputs": [],
   "source": []
  },
  {
   "cell_type": "code",
   "execution_count": null,
   "metadata": {},
   "outputs": [],
   "source": []
  },
  {
   "cell_type": "markdown",
   "metadata": {},
   "source": [
    "## Use this to make test example for nans and filtering statistics to only include data for the times where we have cloud data"
   ]
  },
  {
   "cell_type": "code",
   "execution_count": null,
   "metadata": {},
   "outputs": [],
   "source": []
  },
  {
   "cell_type": "code",
   "execution_count": null,
   "metadata": {},
   "outputs": [],
   "source": []
  },
  {
   "cell_type": "code",
   "execution_count": null,
   "metadata": {},
   "outputs": [],
   "source": []
  },
  {
   "cell_type": "code",
   "execution_count": null,
   "metadata": {},
   "outputs": [],
   "source": []
  },
  {
   "cell_type": "code",
   "execution_count": null,
   "metadata": {},
   "outputs": [],
   "source": []
  }
 ],
 "metadata": {
  "kernelspec": {
   "display_name": "Python 3",
   "language": "python",
   "name": "python3"
  },
  "language_info": {
   "codemirror_mode": {
    "name": "ipython",
    "version": 3
   },
   "file_extension": ".py",
   "mimetype": "text/x-python",
   "name": "python",
   "nbconvert_exporter": "python",
   "pygments_lexer": "ipython3",
   "version": "3.6.2"
  }
 },
 "nbformat": 4,
 "nbformat_minor": 4
}
