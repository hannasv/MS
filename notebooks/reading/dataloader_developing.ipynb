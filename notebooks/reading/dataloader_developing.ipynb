{
 "cells": [
  {
   "cell_type": "code",
   "execution_count": 1,
   "metadata": {},
   "outputs": [],
   "source": [
    "import os\n",
    "import glob\n",
    "\n",
    "import xarray as xr\n",
    "import numpy as np"
   ]
  },
  {
   "cell_type": "code",
   "execution_count": 2,
   "metadata": {},
   "outputs": [],
   "source": [
    "data_m = '/home/hannasv/Desktop/lagrings/ERA5_monthly/'"
   ]
  },
  {
   "cell_type": "code",
   "execution_count": 3,
   "metadata": {},
   "outputs": [],
   "source": [
    "test = '2005-05'"
   ]
  },
  {
   "cell_type": "markdown",
   "metadata": {},
   "source": [
    "# Data exploration we want to study :\n",
    "* Correlation pixelwise to pressure\n",
    "* Everything as a mean over time \n",
    "* Hvordan dele opp dataen slik at det kan leses inn best mulig. \n",
    "* Hugo minnet sette begrensninger for AR - models med invers matrise?\n",
    "* Hvor mye data har jeg egentlig?"
   ]
  },
  {
   "cell_type": "code",
   "execution_count": 4,
   "metadata": {},
   "outputs": [],
   "source": [
    "# Hyperparameters useful stuff - \n",
    "num_epochs = 4\n",
    "batch_size = 32\n",
    "#learning_rate = 0.001\n",
    "\n",
    "#DATA_PATH = '/uio/lagringshotell/geofag/students/metos/hannasv/era_interim_data/'\n",
    "#MODEL_STORE_PATH = '/uio/lagringshotell/geofag/students/metos/hannasv/era_interim_data/storedModel/'\n",
    "\n",
    "DATA_PATH = '/uio/lagringshotell/geofag/students/metos/hannasv/era_interim_data/'\n",
    "MODEL_STORE_PATH = '/uio/lagringshotell/geofag/students/metos/hannasv/era_interim_data/storedModel/'"
   ]
  },
  {
   "cell_type": "code",
   "execution_count": 5,
   "metadata": {},
   "outputs": [
    {
     "data": {
      "text/plain": [
       "'03'"
      ]
     },
     "execution_count": 5,
     "metadata": {},
     "output_type": "execute_result"
    }
   ],
   "source": [
    "\"%2.2d\" %3"
   ]
  },
  {
   "cell_type": "code",
   "execution_count": 6,
   "metadata": {},
   "outputs": [
    {
     "data": {
      "text/plain": [
       "False"
      ]
     },
     "execution_count": 6,
     "metadata": {},
     "output_type": "execute_result"
    }
   ],
   "source": [
    "'2012_02' < '2012_01'"
   ]
  },
  {
   "cell_type": "code",
   "execution_count": null,
   "metadata": {},
   "outputs": [],
   "source": [
    "def get_files_excluding_gap(start_gap, stop_gap):\n",
    "    pass"
   ]
  },
  {
   "cell_type": "code",
   "execution_count": 16,
   "metadata": {},
   "outputs": [],
   "source": [
    "def get_files(start, stop):\n",
    "    \"\"\" Get files in requested period.\n",
    "    Insert test on start > stop. \n",
    "    \n",
    "    Returns:\n",
    "        List of files to be read into \n",
    "    \n",
    "    \"\"\"\n",
    "    y, m = start.split('_')\n",
    "    start_y = int(y)\n",
    "    start_m = int(m)\n",
    "    \n",
    "    y, m = stop.split('_')\n",
    "    stop_y = int(y)\n",
    "    stop_m = int(m)\n",
    "\n",
    "    years = np.arange(start_y, stop_y+1)\n",
    "    months = np.arange(1, 13)  \n",
    "    search_str = [start, stop]\n",
    "    \n",
    "    for y in years:\n",
    "        for m in months:\n",
    "            m = \"%2.2d\" %m\n",
    "            tmp = '{}_{}'.format(y, m)\n",
    "            if tmp > start and tmp < stop:\n",
    "                search_str.append(tmp)   \n",
    "    \n",
    "    storage = '/home/hannasv/Desktop/lagrings/ERA5_monthly/'\n",
    "    \n",
    "    files = []\n",
    "    for ss in search_str:\n",
    "        tmp_files = glob.glob(os.path.join( storage, '*{}*.nc'.format(ss)  ))  \n",
    "        files += tmp_files\n",
    "    return files"
   ]
  },
  {
   "cell_type": "code",
   "execution_count": 17,
   "metadata": {},
   "outputs": [],
   "source": [
    "# get_files('2012_03', '2014_01')"
   ]
  },
  {
   "cell_type": "code",
   "execution_count": 50,
   "metadata": {},
   "outputs": [],
   "source": [
    "# Loader of AR \n",
    "def load_data_AR(start, stop, lat, lon, num_ts = 0, bias = True, validation_split = 0.0):\n",
    "    \"\"\" Prepares data for \n",
    "    \n",
    "    start, stop : str\n",
    "        year_month. Limited to montly values.\n",
    "        \n",
    "    lat, lon : float\n",
    "        coordinate information\n",
    "        \n",
    "    bias : bool \n",
    "        Default 1\n",
    "        \n",
    "    validation_split : float\n",
    "        Number between 0 and 1. \n",
    "        Intended to make it similar to keras input data. Will it make it easier to train networks though...?\n",
    "    \"\"\"\n",
    "    if validation_split > 0:\n",
    "        raise NotImplementedError('Comming soon ... Make sure that you actually need this?')\n",
    "        \n",
    "    # Search for list of files in the range start stop.\n",
    "    # Returns list of strings you can merge to a dataset \n",
    "    \n",
    "    files = get_files(start, stop)\n",
    "    datasets = [ xr.open_dataset(fil).sel(latitude = lat, longitude = lon) for fil in files]\n",
    "    data = xr.merge(datasets) \n",
    "    \n",
    "    n     = len(data.time.values)\n",
    "    #n_lat = len(data.latitude.values)\n",
    "    #n_lon = len(data.longitude.values)\n",
    "    \n",
    "    q   = data.q.values\n",
    "    t2m = data.t2m.values\n",
    "    r   = data.r.values\n",
    "    sp  = data.sp.values\n",
    "    \n",
    "    tcc = data.tcc.values\n",
    "    \n",
    "    if bias:\n",
    "        num_vars = 4+1+num_ts\n",
    "    else:\n",
    "        raise NotImplementedError('Coming soon')\n",
    "        num_vars = 4 + num_ts\n",
    "        \n",
    "    num_samples = n - num_ts\n",
    "    X = np.zeros((num_samples, num_vars))\n",
    "    \n",
    "    X[:, 0] = 1\n",
    "    X[:, 1] = t2m[:n-num_ts]\n",
    "    X[:, 2] = r[:n-num_ts]\n",
    "    X[:, 3] = sp[:n-num_ts]\n",
    "    X[:, 4] = q[:n-num_ts]\n",
    "    \n",
    "    y = tcc[:n-num_ts, np.newaxis]\n",
    "    \n",
    "    for i in range(1, num_ts+1):\n",
    "        if num_ts - i != 0:\n",
    "            X[:, 4+i] = tcc[i:num_ts-i]\n",
    "        else:\n",
    "            X[:, 4+i] = tcc[i:]\n",
    "    \n",
    "    # Now drop rows contaning nans.\n",
    "    no_nans =  X[~np.isnan(X.any(axis=1))]\n",
    "    return no_nans, y"
   ]
  },
  {
   "cell_type": "code",
   "execution_count": 46,
   "metadata": {},
   "outputs": [],
   "source": [
    "start='2012_02'\n",
    "stop='2012_04'\n",
    "\n",
    "lat=30\n",
    "lon = 15"
   ]
  },
  {
   "cell_type": "code",
   "execution_count": 51,
   "metadata": {},
   "outputs": [
    {
     "name": "stderr",
     "output_type": "stream",
     "text": [
      "/home/hannasv/anaconda3/envs/sciclouds/lib/python3.6/site-packages/xarray/coding/times.py:207: FutureWarning: the 'box' keyword is deprecated and will be removed in a future version. Please take steps to stop the use of 'box'\n",
      "  result = pd.to_timedelta(num_timedeltas, unit=units, box=False)\n",
      "/home/hannasv/anaconda3/envs/sciclouds/lib/python3.6/site-packages/xarray/coding/times.py:207: FutureWarning: the 'box' keyword is deprecated and will be removed in a future version. Please take steps to stop the use of 'box'\n",
      "  result = pd.to_timedelta(num_timedeltas, unit=units, box=False)\n",
      "/home/hannasv/anaconda3/envs/sciclouds/lib/python3.6/site-packages/xarray/coding/times.py:207: FutureWarning: the 'box' keyword is deprecated and will be removed in a future version. Please take steps to stop the use of 'box'\n",
      "  result = pd.to_timedelta(num_timedeltas, unit=units, box=False)\n",
      "/home/hannasv/anaconda3/envs/sciclouds/lib/python3.6/site-packages/xarray/coding/times.py:207: FutureWarning: the 'box' keyword is deprecated and will be removed in a future version. Please take steps to stop the use of 'box'\n",
      "  result = pd.to_timedelta(num_timedeltas, unit=units, box=False)\n",
      "/home/hannasv/anaconda3/envs/sciclouds/lib/python3.6/site-packages/xarray/coding/times.py:207: FutureWarning: the 'box' keyword is deprecated and will be removed in a future version. Please take steps to stop the use of 'box'\n",
      "  result = pd.to_timedelta(num_timedeltas, unit=units, box=False)\n",
      "/home/hannasv/anaconda3/envs/sciclouds/lib/python3.6/site-packages/xarray/coding/times.py:207: FutureWarning: the 'box' keyword is deprecated and will be removed in a future version. Please take steps to stop the use of 'box'\n",
      "  result = pd.to_timedelta(num_timedeltas, unit=units, box=False)\n",
      "/home/hannasv/anaconda3/envs/sciclouds/lib/python3.6/site-packages/xarray/coding/times.py:207: FutureWarning: the 'box' keyword is deprecated and will be removed in a future version. Please take steps to stop the use of 'box'\n",
      "  result = pd.to_timedelta(num_timedeltas, unit=units, box=False)\n",
      "/home/hannasv/anaconda3/envs/sciclouds/lib/python3.6/site-packages/xarray/coding/times.py:207: FutureWarning: the 'box' keyword is deprecated and will be removed in a future version. Please take steps to stop the use of 'box'\n",
      "  result = pd.to_timedelta(num_timedeltas, unit=units, box=False)\n",
      "/home/hannasv/anaconda3/envs/sciclouds/lib/python3.6/site-packages/xarray/coding/times.py:207: FutureWarning: the 'box' keyword is deprecated and will be removed in a future version. Please take steps to stop the use of 'box'\n",
      "  result = pd.to_timedelta(num_timedeltas, unit=units, box=False)\n",
      "/home/hannasv/anaconda3/envs/sciclouds/lib/python3.6/site-packages/xarray/coding/times.py:207: FutureWarning: the 'box' keyword is deprecated and will be removed in a future version. Please take steps to stop the use of 'box'\n",
      "  result = pd.to_timedelta(num_timedeltas, unit=units, box=False)\n",
      "/home/hannasv/anaconda3/envs/sciclouds/lib/python3.6/site-packages/xarray/coding/times.py:207: FutureWarning: the 'box' keyword is deprecated and will be removed in a future version. Please take steps to stop the use of 'box'\n",
      "  result = pd.to_timedelta(num_timedeltas, unit=units, box=False)\n"
     ]
    }
   ],
   "source": [
    "X, y = load_data_AR(start, stop, lat, lon, num_ts = 1, bias = True, validation_split = 0.0)"
   ]
  },
  {
   "cell_type": "code",
   "execution_count": 28,
   "metadata": {},
   "outputs": [
    {
     "data": {
      "text/plain": [
       "('2012_02', '2012_04', 30, 15)"
      ]
     },
     "execution_count": 28,
     "metadata": {},
     "output_type": "execute_result"
    }
   ],
   "source": [
    "start, stop, lat, lon, "
   ]
  },
  {
   "cell_type": "code",
   "execution_count": 13,
   "metadata": {},
   "outputs": [],
   "source": [
    "#MergeError: conflicting values for variable 'valid_time' on objects to be combined:"
   ]
  },
  {
   "cell_type": "code",
   "execution_count": 52,
   "metadata": {},
   "outputs": [
    {
     "data": {
      "text/plain": [
       "((2159, 6), (2159, 1))"
      ]
     },
     "execution_count": 52,
     "metadata": {},
     "output_type": "execute_result"
    }
   ],
   "source": [
    "X.shape, y.shape"
   ]
  },
  {
   "cell_type": "code",
   "execution_count": null,
   "metadata": {},
   "outputs": [],
   "source": []
  },
  {
   "cell_type": "code",
   "execution_count": null,
   "metadata": {},
   "outputs": [],
   "source": []
  },
  {
   "cell_type": "code",
   "execution_count": null,
   "metadata": {},
   "outputs": [],
   "source": []
  },
  {
   "cell_type": "code",
   "execution_count": null,
   "metadata": {},
   "outputs": [],
   "source": []
  },
  {
   "cell_type": "markdown",
   "metadata": {},
   "source": [
    "# Make a plot containing the sum of all nans over all gridded times¨"
   ]
  },
  {
   "cell_type": "code",
   "execution_count": null,
   "metadata": {},
   "outputs": [],
   "source": [
    "files = glob.glob(os.path.join( data_m, \"*2007_08*.nc\" ))"
   ]
  },
  {
   "cell_type": "code",
   "execution_count": null,
   "metadata": {},
   "outputs": [],
   "source": [
    "len(files)"
   ]
  },
  {
   "cell_type": "code",
   "execution_count": null,
   "metadata": {},
   "outputs": [],
   "source": [
    "test = xr.open_dataset(files[0])"
   ]
  },
  {
   "cell_type": "code",
   "execution_count": null,
   "metadata": {},
   "outputs": [],
   "source": [
    "test"
   ]
  },
  {
   "cell_type": "code",
   "execution_count": null,
   "metadata": {},
   "outputs": [],
   "source": []
  },
  {
   "cell_type": "code",
   "execution_count": null,
   "metadata": {},
   "outputs": [],
   "source": [
    "datasets = [ xr.open_dataset(fil) for fil in files  ]"
   ]
  },
  {
   "cell_type": "code",
   "execution_count": null,
   "metadata": {},
   "outputs": [],
   "source": [
    "for i in range(5):\n",
    "    print(datasets[i])"
   ]
  },
  {
   "cell_type": "code",
   "execution_count": null,
   "metadata": {},
   "outputs": [],
   "source": []
  },
  {
   "cell_type": "code",
   "execution_count": null,
   "metadata": {},
   "outputs": [],
   "source": [
    "data = xr.merge(datasets, 'no_conflicts', 'outer')"
   ]
  },
  {
   "cell_type": "code",
   "execution_count": null,
   "metadata": {},
   "outputs": [],
   "source": [
    "data"
   ]
  },
  {
   "cell_type": "code",
   "execution_count": null,
   "metadata": {},
   "outputs": [],
   "source": [
    "dropped = data.dropna(dim='time')"
   ]
  },
  {
   "cell_type": "code",
   "execution_count": null,
   "metadata": {},
   "outputs": [],
   "source": []
  },
  {
   "cell_type": "code",
   "execution_count": null,
   "metadata": {},
   "outputs": [],
   "source": []
  }
 ],
 "metadata": {
  "kernelspec": {
   "display_name": "Python 3",
   "language": "python",
   "name": "python3"
  },
  "language_info": {
   "codemirror_mode": {
    "name": "ipython",
    "version": 3
   },
   "file_extension": ".py",
   "mimetype": "text/x-python",
   "name": "python",
   "nbconvert_exporter": "python",
   "pygments_lexer": "ipython3",
   "version": "3.6.10"
  }
 },
 "nbformat": 4,
 "nbformat_minor": 4
}
