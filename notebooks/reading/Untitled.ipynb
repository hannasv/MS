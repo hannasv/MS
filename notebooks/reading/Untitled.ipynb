{
 "cells": [
  {
   "cell_type": "code",
   "execution_count": 2,
   "metadata": {},
   "outputs": [],
   "source": [
    "import numpy as np"
   ]
  },
  {
   "cell_type": "code",
   "execution_count": 71,
   "metadata": {},
   "outputs": [],
   "source": [
    "X = np.random.randint( low = 0, high = 2, size =100 )"
   ]
  },
  {
   "cell_type": "code",
   "execution_count": 46,
   "metadata": {},
   "outputs": [],
   "source": [
    "#result = np.where(X == 1)[0]"
   ]
  },
  {
   "cell_type": "code",
   "execution_count": null,
   "metadata": {},
   "outputs": [],
   "source": []
  },
  {
   "cell_type": "code",
   "execution_count": 84,
   "metadata": {},
   "outputs": [],
   "source": [
    "ikluder_alle = np.where(y == 1)\n",
    "velg_noen = np.where(y == 0)#[:len(ikluder_alle[0])]"
   ]
  },
  {
   "cell_type": "code",
   "execution_count": 85,
   "metadata": {
    "scrolled": true
   },
   "outputs": [
    {
     "data": {
      "text/plain": [
       "(array([ 0,  1,  2,  4,  5,  7,  8, 10, 11, 14, 15, 18, 21, 22, 23, 24, 26,\n",
       "        27, 28, 29, 30, 31, 34, 35, 37, 39, 40, 41, 45, 46, 48, 53, 55, 57,\n",
       "        58, 61, 62, 63, 66, 67, 68, 71, 73, 74, 76, 80, 81, 82, 83, 86, 87,\n",
       "        88, 89, 94, 96, 97, 98, 99]),)"
      ]
     },
     "execution_count": 85,
     "metadata": {},
     "output_type": "execute_result"
    }
   ],
   "source": [
    "ikluder_alle"
   ]
  },
  {
   "cell_type": "code",
   "execution_count": 87,
   "metadata": {
    "scrolled": true
   },
   "outputs": [
    {
     "data": {
      "text/plain": [
       "array([ 3,  6,  9, 12, 13, 16, 17, 19, 20, 25, 32, 33, 36, 38, 42, 43, 44,\n",
       "       47, 49, 50, 51, 52, 54, 56, 59, 60, 64, 65, 69, 70, 72, 75, 77, 78,\n",
       "       79, 84, 85, 90, 91, 92, 93, 95])"
      ]
     },
     "execution_count": 87,
     "metadata": {},
     "output_type": "execute_result"
    }
   ],
   "source": [
    "velg_noen[0][:len(ikluder_alle[0])]"
   ]
  },
  {
   "cell_type": "code",
   "execution_count": 93,
   "metadata": {},
   "outputs": [
    {
     "data": {
      "text/plain": [
       "array([ 0,  1,  2,  4,  5,  7,  8, 10, 11, 14, 15, 18, 21, 22, 23, 24, 26,\n",
       "       27, 28, 29, 30, 31, 34, 35, 37, 39, 40, 41, 45, 46, 48, 53, 55, 57,\n",
       "       58, 61, 62, 63, 66, 67, 68, 71, 73, 74, 76, 80, 81, 82, 83, 86, 87,\n",
       "       88, 89, 94, 96, 97, 98, 99,  3,  6,  9, 12, 13, 16, 17, 19, 20, 25,\n",
       "       32, 33, 36, 38, 42, 43, 44, 47, 49, 50, 51, 52, 54, 56, 59, 60, 64,\n",
       "       65, 69, 70, 72, 75, 77, 78, 79, 84, 85, 90, 91, 92, 93, 95])"
      ]
     },
     "execution_count": 93,
     "metadata": {},
     "output_type": "execute_result"
    }
   ],
   "source": [
    "X_sample_idx = np.concatenate( (ikluder_alle[0], velg_noen[0][:len(ikluder_alle[0])] ))"
   ]
  },
  {
   "cell_type": "code",
   "execution_count": 94,
   "metadata": {},
   "outputs": [
    {
     "ename": "NameError",
     "evalue": "name 'Xtrain' is not defined",
     "output_type": "error",
     "traceback": [
      "\u001b[0;31m---------------------------------------------------------------------------\u001b[0m",
      "\u001b[0;31mNameError\u001b[0m                                 Traceback (most recent call last)",
      "\u001b[0;32m<ipython-input-94-9cfed52b8e5b>\u001b[0m in \u001b[0;36m<module>\u001b[0;34m\u001b[0m\n\u001b[0;32m----> 1\u001b[0;31m \u001b[0mXtrain\u001b[0m \u001b[0;34m=\u001b[0m \u001b[0mXtrain\u001b[0m\u001b[0;34m[\u001b[0m\u001b[0mX_sample_idx\u001b[0m\u001b[0;34m]\u001b[0m\u001b[0;34m\u001b[0m\u001b[0m\n\u001b[0m",
      "\u001b[0;31mNameError\u001b[0m: name 'Xtrain' is not defined"
     ]
    }
   ],
   "source": [
    "Xtrain = Xtrain[samples_idx]\n",
    "ytrain = ytrain[samples_idx]"
   ]
  },
  {
   "cell_type": "code",
   "execution_count": 16,
   "metadata": {},
   "outputs": [],
   "source": [
    "n_samples, n_cols = X.shape"
   ]
  },
  {
   "cell_type": "code",
   "execution_count": 17,
   "metadata": {},
   "outputs": [],
   "source": [
    "idx = np.arange(n_samples)"
   ]
  },
  {
   "cell_type": "code",
   "execution_count": 19,
   "metadata": {},
   "outputs": [],
   "source": [
    "np.random.shuffle(idx)"
   ]
  },
  {
   "cell_type": "code",
   "execution_count": 21,
   "metadata": {},
   "outputs": [],
   "source": [
    "batch_size = 20"
   ]
  },
  {
   "cell_type": "code",
   "execution_count": 25,
   "metadata": {},
   "outputs": [],
   "source": [
    "splits = int(n_samples/batch_size)"
   ]
  },
  {
   "cell_type": "code",
   "execution_count": 26,
   "metadata": {},
   "outputs": [
    {
     "data": {
      "text/plain": [
       "[array([55, 83, 61, 33, 67, 63,  3, 69, 84,  0, 65, 94, 13, 82, 87, 78,  9,\n",
       "        89, 71, 64]),\n",
       " array([35, 20, 47,  5, 15, 25, 40, 28,  7, 42, 98, 32, 29, 97, 59, 95, 23,\n",
       "        22, 60, 54]),\n",
       " array([72, 27, 92, 75, 81, 26, 57, 24, 58, 53, 66, 85, 74, 50, 79, 19, 91,\n",
       "         4, 14, 76]),\n",
       " array([90, 93, 34, 62, 45,  6, 68, 21, 48, 37,  2,  8, 46, 41, 44, 99, 86,\n",
       "        11, 56, 70]),\n",
       " array([77, 36, 88, 10, 43, 16, 38, 80, 96, 51,  1, 12, 31, 30, 73, 39, 17,\n",
       "        18, 52, 49])]"
      ]
     },
     "execution_count": 26,
     "metadata": {},
     "output_type": "execute_result"
    }
   ],
   "source": [
    "np.array_split(idx, splits)"
   ]
  },
  {
   "cell_type": "code",
   "execution_count": 28,
   "metadata": {},
   "outputs": [
    {
     "name": "stdout",
     "output_type": "stream",
     "text": [
      "(20, 20)\n",
      "(20, 20)\n",
      "(20, 20)\n",
      "(20, 20)\n",
      "(20, 20)\n"
     ]
    }
   ],
   "source": [
    "for i  in range(epochs):\n",
    "    np.random.shuffle(X)\n",
    "    for b_idx in np.array_split(idx, splits):\n",
    "        print(X[b_idx].shape)"
   ]
  },
  {
   "cell_type": "code",
   "execution_count": null,
   "metadata": {},
   "outputs": [],
   "source": [
    "y[:, np.newaxis]"
   ]
  },
  {
   "cell_type": "code",
   "execution_count": 108,
   "metadata": {},
   "outputs": [],
   "source": [
    "a = np.random.rand(100,50)\n",
    "b = np.random.rand( 100, 1)"
   ]
  },
  {
   "cell_type": "code",
   "execution_count": 109,
   "metadata": {},
   "outputs": [
    {
     "data": {
      "text/plain": [
       "((100, 50), (100, 1))"
      ]
     },
     "execution_count": 109,
     "metadata": {},
     "output_type": "execute_result"
    }
   ],
   "source": [
    "a.shape, b.shape"
   ]
  },
  {
   "cell_type": "code",
   "execution_count": 110,
   "metadata": {},
   "outputs": [
    {
     "data": {
      "text/plain": [
       "array([[0.23323748, 0.44538605, 0.66647726, ..., 0.630648  , 0.56451252,\n",
       "        0.48303946],\n",
       "       [0.0690281 , 0.41039046, 0.09308514, ..., 0.32881093, 0.48927698,\n",
       "        0.53865895],\n",
       "       [0.19166383, 0.21622818, 0.20625896, ..., 0.06909733, 0.18876802,\n",
       "        0.06330485],\n",
       "       ...,\n",
       "       [0.5236544 , 0.59996971, 0.02558946, ..., 0.69740488, 0.38059969,\n",
       "        0.30574931],\n",
       "       [0.09863614, 0.10334819, 0.00577015, ..., 0.04006364, 0.01812493,\n",
       "        0.0799606 ],\n",
       "       [0.10711582, 0.01351512, 0.25895138, ..., 0.00790867, 0.04411055,\n",
       "        0.09249486]])"
      ]
     },
     "execution_count": 110,
     "metadata": {},
     "output_type": "execute_result"
    }
   ],
   "source": [
    "a*b"
   ]
  },
  {
   "cell_type": "code",
   "execution_count": 99,
   "metadata": {},
   "outputs": [
    {
     "data": {
      "text/plain": [
       "(100, 50)"
      ]
     },
     "execution_count": 99,
     "metadata": {},
     "output_type": "execute_result"
    }
   ],
   "source": [
    "(a+b).shape"
   ]
  },
  {
   "cell_type": "code",
   "execution_count": 101,
   "metadata": {},
   "outputs": [
    {
     "data": {
      "text/plain": [
       "array([[0., 0., 0., 0., 0., 0., 0., 0., 0., 0., 0., 0., 0., 0., 0., 0.,\n",
       "        0., 0., 0., 0., 0., 0., 0., 0., 0., 0., 0., 0., 0.]])"
      ]
     },
     "execution_count": 101,
     "metadata": {},
     "output_type": "execute_result"
    }
   ],
   "source": [
    "np.zeros((1,29))"
   ]
  },
  {
   "cell_type": "code",
   "execution_count": null,
   "metadata": {},
   "outputs": [],
   "source": []
  },
  {
   "cell_type": "code",
   "execution_count": null,
   "metadata": {},
   "outputs": [],
   "source": []
  },
  {
   "cell_type": "code",
   "execution_count": null,
   "metadata": {},
   "outputs": [],
   "source": []
  },
  {
   "cell_type": "code",
   "execution_count": null,
   "metadata": {},
   "outputs": [],
   "source": []
  }
 ],
 "metadata": {
  "kernelspec": {
   "display_name": "Python 3",
   "language": "python",
   "name": "python3"
  },
  "language_info": {
   "codemirror_mode": {
    "name": "ipython",
    "version": 3
   },
   "file_extension": ".py",
   "mimetype": "text/x-python",
   "name": "python",
   "nbconvert_exporter": "python",
   "pygments_lexer": "ipython3",
   "version": "3.6.2"
  }
 },
 "nbformat": 4,
 "nbformat_minor": 2
}
