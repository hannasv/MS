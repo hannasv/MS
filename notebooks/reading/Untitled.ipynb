{
 "cells": [
  {
   "cell_type": "code",
   "execution_count": 20,
   "metadata": {},
   "outputs": [],
   "source": [
    "import numpy as np"
   ]
  },
  {
   "cell_type": "code",
   "execution_count": null,
   "metadata": {},
   "outputs": [],
   "source": []
  },
  {
   "cell_type": "code",
   "execution_count": 36,
   "metadata": {},
   "outputs": [],
   "source": [
    "A = np.random.random(20)\n",
    "B = np.random.random(20)\n",
    "\n",
    "tcc = np.random.random(20)"
   ]
  },
  {
   "cell_type": "code",
   "execution_count": 45,
   "metadata": {},
   "outputs": [],
   "source": [
    "order = 1\n",
    "X = np.random.random((20-order, order))"
   ]
  },
  {
   "cell_type": "code",
   "execution_count": 46,
   "metadata": {},
   "outputs": [
    {
     "name": "stdout",
     "output_type": "stream",
     "text": [
      "[False, False, False, False, False, False, False, False, False, False, False, False, False, False, False, False, False, False, False]\n"
     ]
    }
   ],
   "source": [
    "for temp_order in range(1, order+1):   \n",
    "    \n",
    "    remove_from_end = len(tcc) - (order - temp_order)\n",
    "\n",
    "    a = A[:-order]\n",
    "    b = B[slice(temp_order, remove_from_end)]\n",
    "    \n",
    "    bo = [element.astype(int) == temp_order for element in (b-a).astype('timedelta64[h]') ]\n",
    "    print(bo)\n",
    "    ins = b.copy()\n",
    "    ins[np.array(bo)] = np.nan\n",
    "    X[:, temp_order - 1] = ins\n"
   ]
  },
  {
   "cell_type": "code",
   "execution_count": null,
   "metadata": {},
   "outputs": [],
   "source": [
    "\n",
    "\n",
    "def dataset_to_numpy_order_traditional_ar(dataset, order, bias = True):\n",
    "    \"\"\" Tranforms a dataset to matrices.\n",
    "\n",
    "    Parameters\n",
    "    ----------------------------\n",
    "    dataset : xr.Dataset\n",
    "        Contains the data you want to make a prediction based.\n",
    "    order : float\n",
    "        The number of previos timesteps included as predictors.\n",
    "    bias : bool\n",
    "        Determines weather to include a bias column or not (default True)\n",
    "    keep the order of xarray time, lat, lon\n",
    "\n",
    "    Returns\n",
    "    ---------------------\n",
    "    X : array-like\n",
    "        Matrix containing the explanatory variables.\n",
    "    y : array-like\n",
    "        Responce variable.\n",
    "\n",
    "    Notes\n",
    "    --------------------------\n",
    "    Index description:\n",
    "\n",
    "    5 (4) - tcc previos time step\n",
    "\n",
    "    \"\"\"\n",
    "\n",
    "    if bias:\n",
    "        var_index = 1\n",
    "    else:\n",
    "        var_index = 0\n",
    "\n",
    "    times = dataset.time.values\n",
    "    #print(\"Detected {} samples.\".format(len(times)))\n",
    "    X = np.zeros( (len(times)-order, order + var_index))\n",
    "    y = np.zeros( (len(times)-order ))\n",
    "\n",
    "    tcc = dataset.tcc.values\n",
    "    print('len tcc {}'.format(len(tcc)))\n",
    "\n",
    "    if bias:\n",
    "        X[:, 0] = 1 # bias\n",
    "\n",
    "    y = tcc[:len(times)-order, np.newaxis]\n",
    "    print('len y should be tcc - order {}'.format(len(y)))\n",
    "    # tcc1, tcc2, ..., tcc_n\n",
    "    for temp_order in range(1, order+1):\n",
    "        a = times[:len(times)-temp_order]\n",
    "        b = times[temp_order:]\n",
    "        bo = [element.astype(int) == temp_order for element in (b-a).astype('timedelta64[h]') ]\n",
    "        print('len bo {}'.format(len(bo)))\n",
    "        remove_from_end = order - temp_order\n",
    "        if remove_from_end != 0:\n",
    "            # remove_from_end = 1\n",
    "            # Which clouds to add at which column, remember that they shoudl start from t-1, t-2, t-3 ...\n",
    "            X[:, var_index] = tcc[temp_order:][bo][:-remove_from_end]\n",
    "        else:\n",
    "            X[:, var_index] = tcc[temp_order:][bo]\n",
    "        var_index+=1\n",
    "    #print(X.shape)\n",
    "    #print(y.shape)\n",
    "    return X, y"
   ]
  },
  {
   "cell_type": "code",
   "execution_count": 5,
   "metadata": {},
   "outputs": [],
   "source": [
    "A = np.random.random((744, 81, 161, 5))"
   ]
  },
  {
   "cell_type": "code",
   "execution_count": 6,
   "metadata": {},
   "outputs": [
    {
     "data": {
      "text/plain": [
       "4"
      ]
     },
     "execution_count": 6,
     "metadata": {},
     "output_type": "execute_result"
    }
   ],
   "source": [
    "len(A.shape)"
   ]
  },
  {
   "cell_type": "code",
   "execution_count": 8,
   "metadata": {},
   "outputs": [],
   "source": [
    "import xarray as xr"
   ]
  },
  {
   "cell_type": "code",
   "execution_count": 12,
   "metadata": {},
   "outputs": [],
   "source": [
    "dataset = xr.open_dataset('/home/hanna/lagrings/ERA5_monthly/2012_04_tcc.nc')"
   ]
  },
  {
   "cell_type": "code",
   "execution_count": 15,
   "metadata": {},
   "outputs": [],
   "source": [
    "tcc = dataset.tcc.values"
   ]
  },
  {
   "cell_type": "code",
   "execution_count": 22,
   "metadata": {},
   "outputs": [],
   "source": []
  },
  {
   "cell_type": "code",
   "execution_count": 28,
   "metadata": {},
   "outputs": [
    {
     "name": "stdout",
     "output_type": "stream",
     "text": [
      "len tcc 720\n",
      "len y should be tcc - order 719\n",
      "len bo 719\n"
     ]
    }
   ],
   "source": [
    "order = 1\n",
    "bias = False\n",
    "\n",
    "if bias:\n",
    "    var_index = 1\n",
    "else:\n",
    "    var_index = 0\n",
    "\n",
    "times = dataset.time.values\n",
    "#print(\"Detected {} samples.\".format(len(times)))\n",
    "X = np.zeros( (len(times)-order, order + var_index))\n",
    "y = np.zeros( (len(times)-order ))\n",
    "\n",
    "tcc = dataset.tcc.sel(latitude = 30, longitude = 0).values\n",
    "print('len tcc {}'.format(len(tcc)))\n",
    "\n",
    "if bias:\n",
    "    X[:, 0] = 1 # bias\n",
    "\n",
    "y = tcc[:len(times)-order, np.newaxis]\n",
    "print('len y should be tcc - order {}'.format(len(y)))\n",
    "# tcc1, tcc2, ..., tcc_n\n",
    "for temp_order in range(1, order+1):\n",
    "    a = times[:len(times)-temp_order]\n",
    "    b = times[temp_order:]\n",
    "    bo = [element.astype(int) == temp_order for element in (b-a).astype('timedelta64[h]') ]\n",
    "    print('len bo {}'.format(len(bo)))\n",
    "    remove_from_end = order - temp_order\n",
    "    \n",
    "    if remove_from_end != 0:\n",
    "        # remove_from_end = 1\n",
    "        # Which clouds to add at which column, remember that they shoudl start from t-1, t-2, t-3 ...\n",
    "        X[:, var_index] = tcc[temp_order:][bo][:-remove_from_end]\n",
    "    else:\n",
    "        X[:, var_index] = tcc[temp_order:][bo]\n",
    "    var_index+=1"
   ]
  },
  {
   "cell_type": "code",
   "execution_count": 44,
   "metadata": {},
   "outputs": [
    {
     "data": {
      "text/plain": [
       "(717, 7)"
      ]
     },
     "execution_count": 44,
     "metadata": {},
     "output_type": "execute_result"
    }
   ],
   "source": [
    "order = 3\n",
    "bias = False\n",
    "\n",
    "tcc = dataset.tcc.sel(latitude = 30, longitude = 0).values\n",
    "\n",
    "if bias:\n",
    "    var_index = 5\n",
    "else:\n",
    "    var_index = 4\n",
    "\n",
    "times = dataset.time.values\n",
    "#print(\"Detected {} samples.\".format(len(times)))\n",
    "X = np.zeros( (len(times)-order, order + var_index))\n",
    "y = np.zeros( (len(times)-order ))\n",
    "\n",
    "q   = dataset.tcc.sel(latitude = 30, longitude = 0).values#dataset.q.values\n",
    "t2m = dataset.tcc.sel(latitude = 30, longitude = 0).values#dataset.t2m.values\n",
    "r   = dataset.tcc.sel(latitude = 30, longitude = 0).values#dataset.r.values\n",
    "sp  = dataset.tcc.sel(latitude = 30, longitude = 0).values#dataset.sp.values\n",
    "tcc = dataset.tcc.sel(latitude = 30, longitude = 0).values#dataset.tcc.values\n",
    "\n",
    "X[:, 0] = q[:len(times)-order]\n",
    "X[:, 1] = t2m[:len(times)-order]\n",
    "X[:, 2] = r[:len(times)-order]\n",
    "X[:, 3] = sp[:len(times)-order]\n",
    "\n",
    "if bias:\n",
    "    X[:, 4] = 1 # bias\n",
    "\n",
    "y = tcc[:len(times)-order, np.newaxis]\n",
    "\n",
    "# tcc1, tcc2, ..., tcc_n\n",
    "for temp_order in range(1, order+1):\n",
    "    a = times[:len(times)-temp_order]\n",
    "    #print(len(a))\n",
    "    b = times[temp_order:]\n",
    "    #print(len(b))\n",
    "\n",
    "    remove_from_end = order - temp_order\n",
    "    if remove_from_end != 0:\n",
    "        a = times[:len(times)-temp_order]\n",
    "        #print(len(a))\n",
    "        b = times[temp_order:]\n",
    "        bo = [element.astype(int) == temp_order for element in (b-a).astype('timedelta64[h]')]\n",
    "        #print(len(bo[:-remove_from_end]))\n",
    "        # remove_from_end = 1\n",
    "        # Which clouds to add at which column, remember that they shoudl start from t-1, t-2, t-3 ...\n",
    "        X[:, var_index] = tcc[temp_order:][bo][:-remove_from_end]\n",
    "    else:\n",
    "        a = times[:len(times)-temp_order]\n",
    "        #print(len(a))\n",
    "        b = times[temp_order:]\n",
    "        bo = [element.astype(int) == temp_order for element in (b-a).astype('timedelta64[h]') ]\n",
    "        X[:, var_index] = tcc[temp_order:][bo]\n",
    "    var_index+=1\n",
    "X.shape"
   ]
  },
  {
   "cell_type": "code",
   "execution_count": null,
   "metadata": {},
   "outputs": [],
   "source": []
  }
 ],
 "metadata": {
  "kernelspec": {
   "display_name": "Python 3",
   "language": "python",
   "name": "python3"
  },
  "language_info": {
   "codemirror_mode": {
    "name": "ipython",
    "version": 3
   },
   "file_extension": ".py",
   "mimetype": "text/x-python",
   "name": "python",
   "nbconvert_exporter": "python",
   "pygments_lexer": "ipython3",
   "version": "3.7.6"
  }
 },
 "nbformat": 4,
 "nbformat_minor": 4
}
