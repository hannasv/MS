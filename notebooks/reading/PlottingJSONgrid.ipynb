{
 "cells": [
  {
   "cell_type": "code",
   "execution_count": 32,
   "metadata": {},
   "outputs": [],
   "source": [
    "import json\n",
    "import glob\n",
    "import matplotlib.pyplot as plt\n",
    "import numpy as np\n",
    "\n",
    "%matplotlib inline"
   ]
  },
  {
   "cell_type": "code",
   "execution_count": 33,
   "metadata": {},
   "outputs": [],
   "source": [
    "save_dir = '/home/hanna/MS-suppl/files/'\n",
    "files = glob.glob(save_dir + '*ERA5*.json')"
   ]
  },
  {
   "cell_type": "code",
   "execution_count": 34,
   "metadata": {},
   "outputs": [
    {
     "data": {
      "text/plain": [
       "['/home/hanna/MS-suppl/files/ERA5_grid_resample_includes_changes_to_indexes_from_50.0_55.0.json',\n",
       " '/home/hanna/MS-suppl/files/ERA5_grid_resample_includes_changes_to_indexes_from_35.0_40.0.json',\n",
       " '/home/hanna/MS-suppl/files/ERA5_grid_resample_includes_changes_to_indexes_from_40.0_45.0.json',\n",
       " '/home/hanna/MS-suppl/files/ERA5_grid_resample_includes_changes_to_indexes_from_30.0_35.0.json',\n",
       " '/home/hanna/MS-suppl/files/ERA5_grid_resample_includes_changes_to_indexes_from_45.0_50.0.json']"
      ]
     },
     "execution_count": 34,
     "metadata": {},
     "output_type": "execute_result"
    }
   ],
   "source": [
    "files"
   ]
  },
  {
   "cell_type": "code",
   "execution_count": 35,
   "metadata": {},
   "outputs": [],
   "source": [
    "def get_dict_with_all_keys():\n",
    "    ex_fil = glob.glob(save_dir + '*ERA5*.json')\n",
    "    #print(ex_fil)\n",
    "    merged_dict = {}\n",
    "    for fil in ex_fil:\n",
    "        with open(fil, 'r') as f:\n",
    "            data_grid = json.load(f)\n",
    "        merged_dict.update(data_grid)   \n",
    "    return merged_dict"
   ]
  },
  {
   "cell_type": "code",
   "execution_count": 36,
   "metadata": {},
   "outputs": [],
   "source": [
    "data_grid = get_dict_with_all_keys()"
   ]
  },
  {
   "cell_type": "code",
   "execution_count": 37,
   "metadata": {},
   "outputs": [],
   "source": [
    "def read_dlon_dlat():\n",
    "    nc_files = glob.glob('/home/hanna/MS-suppl/'+'*small*.json')\n",
    "    print(nc_files)\n",
    "    \n",
    "    with open(nc_files[-1]) as f:\n",
    "        d =  json.load(f)\n",
    "        \n",
    "    d_phi      = d['dphi'] \n",
    "    d_theta    = d['dtheta'] \n",
    "    cell_areas = d['cell_area']\n",
    "    lat_array  = d['lat'] \n",
    "    lon_array  = d['lon']\n",
    "\n",
    "    return d_phi, d_theta, cell_areas, lat_array, lon_array"
   ]
  },
  {
   "cell_type": "code",
   "execution_count": 40,
   "metadata": {},
   "outputs": [
    {
     "name": "stdout",
     "output_type": "stream",
     "text": [
      "['/home/hanna/MS-suppl/smaller_changes_lat_lon.json']\n"
     ]
    }
   ],
   "source": [
    "d_phi, d_theta, cell_areas, lat_array, lon_array = read_dlon_dlat()"
   ]
  },
  {
   "cell_type": "code",
   "execution_count": 50,
   "metadata": {},
   "outputs": [],
   "source": [
    "lat = '30.25'\n",
    "lon = '19.25'\n",
    "\n",
    "lat = '52.5'\n",
    "lon = '27.5'\n",
    "\n",
    "subset = data_grid[lat][lon]"
   ]
  },
  {
   "cell_type": "code",
   "execution_count": 51,
   "metadata": {},
   "outputs": [
    {
     "data": {
      "text/plain": [
       "{'centre': {'index': [12604649,\n",
       "   12604650,\n",
       "   12604651,\n",
       "   12608360,\n",
       "   12608361,\n",
       "   12608362,\n",
       "   12608363,\n",
       "   12612072,\n",
       "   12612073,\n",
       "   12612074,\n",
       "   12615783,\n",
       "   12615784,\n",
       "   12615785],\n",
       "  'area': [4.188149258453053,\n",
       "   4.193815026918698,\n",
       "   4.199217043244294,\n",
       "   4.196536272247417,\n",
       "   4.202271147366084,\n",
       "   4.207874328008221,\n",
       "   4.21341034037004,\n",
       "   4.21076716926,\n",
       "   4.216435184082651,\n",
       "   4.222108472073302,\n",
       "   4.219367232976641,\n",
       "   4.224972081200086,\n",
       "   4.230778341051892]},\n",
       " 'down': {'index': [12600938, 12600939, 12600940],\n",
       "  'area': [0.7629532365066963, 1.07453645580619, 1.3876369724046786]},\n",
       " 'up': {'index': [], 'area': []},\n",
       " 'right': {'index': [12604652, 12608364, 12612075],\n",
       "  'area': [3.8065038338790944, 0.5221556303025091, 1.4387007683424107]},\n",
       " 'left': {'index': [12604648, 12608359, 12612071, 12615782],\n",
       "  'area': [1.5082267203817468,\n",
       "   0.5676240854604291,\n",
       "   3.8359329170775758,\n",
       "   2.9115155070030343]},\n",
       " 'corner': {'index': [12600941, 12600937, 12615786],\n",
       "  'area': [1.1650089377177455, 0.26617004725968824, 2.2060012633788837]}}"
      ]
     },
     "execution_count": 51,
     "metadata": {},
     "output_type": "execute_result"
    }
   ],
   "source": [
    "subset"
   ]
  },
  {
   "cell_type": "code",
   "execution_count": 47,
   "metadata": {},
   "outputs": [
    {
     "data": {
      "text/plain": [
       "(645166, 645166)"
      ]
     },
     "execution_count": 47,
     "metadata": {},
     "output_type": "execute_result"
    }
   ],
   "source": [
    "len(lat_array), len(lon_array)"
   ]
  },
  {
   "cell_type": "code",
   "execution_count": 41,
   "metadata": {
    "scrolled": true
   },
   "outputs": [],
   "source": [
    "def plot(lat = '30.25', lon = '19.0'):\n",
    "    ex1 = data_grid[lat][lon]\n",
    "    c_lat = [lat_array[i] for i in ex1['corner']['index']]\n",
    "    c_lon = [lon_array[i] for i in ex1['corner']['index']]\n",
    "    counter = 0\n",
    "    for lat, lon in zip(c_lat, c_lon):\n",
    "        plt.scatter(lat, lon, label = str(counter))\n",
    "        counter += 1\n",
    "    plt.scatter(float(lat), float(lon))\n",
    "    plt.legend()\n",
    "    return plt.show()"
   ]
  },
  {
   "cell_type": "code",
   "execution_count": null,
   "metadata": {},
   "outputs": [],
   "source": [
    "\n",
    "import glob\n",
    "import numpy as np\n",
    "import matplotlib.pyplot as plt\n",
    "import xarray as xr\n",
    "import datetime\n",
    "from netCDF4 import Dataset # used for the netcdf files which contain lat, lon.\n",
    "import seaborn as sns\n",
    "import pandas as pd\n",
    "\n",
    "class Resample:\n",
    "\n",
    "    def __init__(self):\n",
    "\n",
    "        self.path_grb      = '//uio/lagringshotell/geofag/students/metos/hannasv/satelite_data_raw/'\n",
    "        self.path_era  = '//uio/lagringshotell/geofag/students/metos/hannasv/era_interim_data/'\n",
    "        self.nc_path   = '//uio/lagringshotell/geofag/students/metos/hannasv/satelite_coordinates/'\n",
    "        # Update\n",
    "        self.store_dir = '//uio/lagringshotell/geofag/students/metos/hannasv/satelite_coordinates/'\n",
    "\n",
    "        nc_files  = glob.glob(self.nc_path + '*.nc')\n",
    "        grb_files = glob.glob(self.path_grb + \"*.grb\")\n",
    "        grb_files = glob.glob(self.path_grb + \"*.grb\")\n",
    "        era       = glob.glob(self.path_era + \"*q.nc\")\n",
    "\n",
    "        self.grb_file = grb_files[0]\n",
    "        self.era_file = era[0]\n",
    "        self.nc_file = nc_files[0]\n",
    "\n",
    "        self.data = xr.open_dataset(self.grb_file, engine = \"pynio\")\n",
    "        self.era = xr.open_dataset(self.era_file)\n",
    "\n",
    "        return\n",
    "\n",
    "    def compute_dlat_dlon(self, save_file = False):\n",
    "        rootgrp = Dataset(self.nc_file, \"r\", format=\"NETCDF4\")\n",
    "        cloud_mask_array = rootgrp.variables[\"cloudMask\"][:].data\n",
    "        lat_array = rootgrp.variables[\"lat\"][:].data\n",
    "        lon_array = rootgrp.variables[\"lon\"][:].data\n",
    "        lat_array[lat_array < -99] = np.nan # updates of disk values to nan\n",
    "        lon_array[lon_array < -99] = np.nan # updates of disk values to nan\n",
    "        d_phi   = np.zeros(np.shape(lat_array))\n",
    "        d_theta = np.zeros(np.shape(lat_array))\n",
    "\n",
    "        for i in range(1, 3711):\n",
    "            for j in range(1, 3711):\n",
    "                d_phi[i][j] = ( np.abs(lon_array[i-1][j]) - np.abs(lon_array[i+1][j]) )/4\n",
    "                d_theta[i][j] = ( np.abs(lat_array[i][j-1]) - np.abs(lat_array[i][j+1]) )/4\n",
    "\n",
    "        dictionary = {'lon': lon_array.reshape(-1),\n",
    "                      'lat': lat_array.reshape(-1),\n",
    "                      'dlat':  d_theta.reshape(-1),\n",
    "                      'dlon': d_phi.reshape(-1)}\n",
    "\n",
    "        df = pd.DataFrame.from_dict(dictionary)\n",
    "        if save_file:\n",
    "            df.to_csv( '~/Desktop/lat_lon_dlat_dlon.csv' )\n",
    "\n",
    "        return\n",
    "\n",
    "    def area_grid_cell(self, c_lat, d_lat, d_lon):\n",
    "        \"\"\"\n",
    "        c_lat : float\n",
    "            Centre point longitude, latitude in degrees\n",
    "\n",
    "        d_lat, d_lon : float\n",
    "            delta lat lon in degrees\n",
    "\n",
    "        Returns : area in km^2\n",
    "\n",
    "        cdo : If the grid cell area have to be computed it is scaled with the earth radius to square meters.\n",
    "        \"\"\"\n",
    "        R = 6371000  # in M\n",
    "        # area er egentlig R**2\n",
    "        area = R*(-np.sin((c_lat - d_lat)*np.pi/180)+np.sin((c_lat + d_lat)*np.pi/180) )*(2*d_lon*np.pi/180) # R**2\n",
    "        return area\n",
    "\n",
    "\n",
    "    def compute_area_one_cell(self, lat = 30, lon = -15):\n",
    "        era_AREA = self.area_grid_cell(lat, 0.375, 0.375)\n",
    "        coord_info = pd.read_csv('~/Desktop/lat_lon_dlat_dlon.csv')\n",
    "\n",
    "        c_lat = coord_info.lat.values\n",
    "        c_lon = coord_info.lon.values\n",
    "        d_phi = coord_info.d_lon.values\n",
    "        d_theta = coord_info.dlat.values\n",
    "\n",
    "        # Make this a loop over lat_lons?\n",
    "        lat_bondaries = np.array([[lon],\n",
    "                                  [lat]])\n",
    "\n",
    "        BOUND =  np.array([[-0.75/2, 0.75/2],\n",
    "                           [-0.75/2, 0.75/2]])\n",
    "\n",
    "        ranges = lat_bondaries + BOUND\n",
    "\n",
    "        lon_range = ranges[0, :]\n",
    "        lat_range = ranges[1, :]\n",
    "        min_lon, max_lon = lon_range\n",
    "        min_lat, max_lat = lat_range\n",
    "\n",
    "        #d_phi   = d_phi.reshape(-1)\n",
    "        #d_theta = d_theta.reshape(-1)\n",
    "\n",
    "        era_up    = ranges[1, 1]\n",
    "        era_down  = ranges[1, 0]\n",
    "        era_left  = ranges[0, 0]\n",
    "        era_right = ranges[0, 1]\n",
    "\n",
    "        #c_lon = lon_array.reshape(-1) #+ d_phi\n",
    "        #c_lat = lat_array.reshape(-1) #+ d_theta\n",
    "\n",
    "        cmk_left  = c_lon - np.abs(d_phi)   #- era_right\n",
    "        cmk_right = c_lon + np.abs(d_phi)   #- era_left\n",
    "\n",
    "        # TODO : Sjekk d theta og lignende.\n",
    "        cmk_up    = c_lat + np.abs(d_theta) #- era_down\n",
    "        cmk_down  = c_lat - np.abs(d_theta) #- era_up\n",
    "\n",
    "        idx_left_boundary  = np.intersect1d(np.argwhere(cmk_right > era_left),  np.argwhere(cmk_left < era_left) )\n",
    "        idx_right_boundary = np.intersect1d(np.argwhere(cmk_right > era_right), np.argwhere(cmk_left < era_right) )\n",
    "        idx_up_boundary    = np.intersect1d(np.argwhere(cmk_up > era_up), np.argwhere(cmk_down < era_up) )\n",
    "        idx_down_boundary  = np.intersect1d(np.argwhere(cmk_up > era_down), np.argwhere(cmk_down < era_down) )\n",
    "\n",
    "        lower_right_corner = np.intersect1d(idx_down_boundary, idx_right_boundary)\n",
    "        lower_left_corner  = np.intersect1d(idx_down_boundary, idx_left_boundary)\n",
    "        upper_left_corner  = np.intersect1d(idx_up_boundary, idx_left_boundary)\n",
    "        upper_right_corner = np.intersect1d(idx_up_boundary, idx_right_boundary)\n",
    "\n",
    "        corner_idx         = np.concatenate([lower_right_corner, lower_left_corner,\n",
    "                                             upper_left_corner, upper_right_corner]) # corner idx\n",
    "\n",
    "        max_lon, min_lon = np.max(c_lon[corner_idx]), np.min(c_lon[corner_idx])\n",
    "        max_lat, min_lat = np.max(c_lat[corner_idx]), np.min(c_lat[corner_idx])\n",
    "\n",
    "        # removes corners\n",
    "        idx_down_boundary = idx_down_boundary[idx_down_boundary != lower_right_corner]\n",
    "        idx_down_boundary = idx_down_boundary[idx_down_boundary != lower_left_corner]\n",
    "\n",
    "        idx_up_boundary = idx_up_boundary[idx_up_boundary != upper_right_corner]\n",
    "        idx_up_boundary = idx_up_boundary[idx_up_boundary != upper_left_corner]\n",
    "\n",
    "        idx_left_boundary = idx_left_boundary[idx_left_boundary != upper_left_corner]\n",
    "        idx_left_boundary = idx_left_boundary[idx_left_boundary != lower_left_corner]\n",
    "\n",
    "        idx_right_boundary = idx_right_boundary[idx_right_boundary != upper_right_corner]\n",
    "        idx_right_boundary = idx_right_boundary[idx_right_boundary != lower_right_corner]\n",
    "\n",
    "        # subsection left boundary OLD\n",
    "        low_bound = np.argwhere( c_lat[idx_left_boundary] > min_lat  )\n",
    "        up_bound  = np.argwhere( c_lat[idx_left_boundary] < max_lat  )\n",
    "        sub_section_left = np.intersect1d(low_bound, up_bound)\n",
    "\n",
    "        # subsection right boundary\n",
    "        low_bound = np.argwhere( c_lat[idx_right_boundary] > min_lat )\n",
    "        up_bound  = np.argwhere( c_lat[idx_right_boundary] < max_lat)\n",
    "        sub_section_right = np.intersect1d(low_bound, up_bound)\n",
    "\n",
    "        # Subsection Down Boundary\n",
    "        one = np.argwhere( c_lon[idx_down_boundary] > min_lon )\n",
    "        two = np.argwhere( c_lon[idx_down_boundary] < max_lon)\n",
    "        sub_section_down = np.intersect1d(one, two)\n",
    "\n",
    "        # subsection up boundary\n",
    "        one = np.argwhere( c_lon[idx_up_boundary] > min_lon)\n",
    "        two = np.argwhere( c_lon[idx_up_boundary] < max_lon)\n",
    "        sub_section_up = np.intersect1d(one, two)\n",
    "\n",
    "        # test that these are empty\n",
    "        t1 = np.intersect1d(idx_down_boundary, idx_up_boundary)\n",
    "        t2 = np.intersect1d(idx_right_boundary, idx_left_boundary)\n",
    "        print( len(t1))\n",
    "        print(len(t2) )\n",
    "        #assert len(t1) == len(t2) == 0\n",
    "\n",
    "        # Calculate Boundaries\n",
    "\n",
    "        # AREA left boundary\n",
    "        dlon_lf = ( era_left - (c_lon[idx_left_boundary][sub_section_left] +\n",
    "                                 d_phi[idx_left_boundary][sub_section_left]))/2 # negative values\n",
    "\n",
    "        dlat_lf = d_theta[idx_left_boundary][sub_section_left]\n",
    "\n",
    "        lat_lf = c_lat[idx_left_boundary][sub_section_left]\n",
    "        lon_lf = c_lon[idx_left_boundary][sub_section_left]\n",
    "\n",
    "        a = np.sum(area_grid_cell(lat_lf, dlat_lf, np.abs(dlon_lf)))\n",
    "\n",
    "        fraction_left = (cloud_mask_array[idx_left_boundary][sub_section_left]*area_grid_cell(lat_lf,\n",
    "                                                                                              dlat_lf,\n",
    "                                                                                              dlon_lf)/largeAREA).sum()\n",
    "        # AREA right boundary\n",
    "        dlon_rb = (c_lon[idx_right_boundary][sub_section_right] - d_phi[idx_right_boundary][sub_section_right] -\n",
    "                   era_right)/2\n",
    "\n",
    "        dlat_rb = d_theta[idx_right_boundary][sub_section_right]\n",
    "\n",
    "        lat_rb = c_lat[idx_right_boundary][sub_section_right]\n",
    "        lon_rb = c_lon[idx_right_boundary][sub_section_right]\n",
    "\n",
    "        b = np.sum(area_grid_cell(lat_rb, dlat_rb, np.abs(dlon_rb)))\n",
    "\n",
    "        fraction_right = (cloud_mask_array[idx_right_boundary][sub_section_right]*area_grid_cell(lat_rb,\n",
    "                                                                                              dlat_rb,\n",
    "                                                                                              dlon_rb)/largeAREA).sum()\n",
    "\n",
    "        # AREA down boundary\n",
    "        dlat_down = (era_down - c_lat[idx_down_boundary][sub_section_down] +\n",
    "                      d_theta[idx_down_boundary][sub_section_down])/2\n",
    "\n",
    "        lat_down = era_down + dlat_down\n",
    "\n",
    "        dlon_down = d_phi[idx_down_boundary][sub_section_down]\n",
    "        lon_down =  c_lon[idx_down_boundary][sub_section_down]\n",
    "\n",
    "        c = np.sum(area_grid_cell(lat_down, dlat_down, dlon_down))\n",
    "\n",
    "        fraction_down = (cloud_mask_array[idx_down_boundary][sub_section_down]*area_grid_cell(lat_down,\n",
    "                                                                                              dlat_down,\n",
    "                                                                                              dlon_down)/largeAREA).sum()\n",
    "        # AREA up\n",
    "        # AREA up boundary\n",
    "        dlat_up = (era_up - (c_lat[idx_up_boundary][sub_section_up] -\n",
    "                             d_theta[idx_up_boundary][sub_section_up]) )/2\n",
    "\n",
    "        lat_up = era_up - dlat_up\n",
    "        lon_up = c_lon[idx_up_boundary][sub_section_up]\n",
    "        dlon_up = d_phi[idx_up_boundary][sub_section_up]\n",
    "\n",
    "        d = np.sum(area_grid_cell(lat_up, dlat_up, np.abs(dlon_up)))\n",
    "\n",
    "        fraction_up = (cloud_mask_array[idx_up_boundary][sub_section_up]*area_grid_cell(lat_up,\n",
    "                                                                     dlat_up,\n",
    "                                                                     dlon_up)/largeAREA).sum()\n",
    "\n",
    "\n",
    "        # Index centres.\n",
    "        idx_centre_one = np.intersect1d(np.argwhere(cmk_left  > era_left),\n",
    "                                        np.argwhere(cmk_right < era_right))\n",
    "\n",
    "\n",
    "        idx_centre_two = np.intersect1d(np.argwhere(cmk_up   < era_up),\n",
    "                                        np.argwhere(cmk_down >  era_down))\n",
    "\n",
    "        idx_centre_cells = np.intersect1d( idx_centre_one, idx_centre_two )\n",
    "\n",
    "        fraction_centre = (cloud_mask_array[idx_centre_cells]*area_grid_cell(lat_centre_cells,\n",
    "                                                                     dlat_centre,\n",
    "                                                                     dlon_centre)/largeAREA).sum()\n",
    "\n",
    "\n",
    "        Test_weight = (area_grid_cell(lat_up, dlat_up, dlon_up) +\n",
    "                      area_grid_cell(lat_centre_cells, dlat_centre, dlon_centre) +\n",
    "                      area_grid_cell(lat_down, dlat_down, dlon_down) +\n",
    "                      area_grid_cell(lat_rb, dlat_rb, dlon_rb) +\n",
    "                     area_grid_cell(lat_lf, dlat_lf, dlon_lf) ) /era_AREA\n",
    "        print(\"SUM weight {}\".format(Test_weight))\n",
    "        return\n",
    "\n",
    "\n",
    "\n",
    "if __name__ == \"__main__\":\n",
    "    #Resample().compute_dlat_dlon(save_file=True)\n",
    "    Resample().compute_area_one_cell()\n"
   ]
  },
  {
   "cell_type": "code",
   "execution_count": 44,
   "metadata": {},
   "outputs": [
    {
     "ename": "IndexError",
     "evalue": "list index out of range",
     "output_type": "error",
     "traceback": [
      "\u001b[0;31m---------------------------------------------------------------------------\u001b[0m",
      "\u001b[0;31mIndexError\u001b[0m                                Traceback (most recent call last)",
      "\u001b[0;32m<ipython-input-44-8f2baf6af209>\u001b[0m in \u001b[0;36m<module>\u001b[0;34m\u001b[0m\n\u001b[1;32m      6\u001b[0m \u001b[0;34m\u001b[0m\u001b[0m\n\u001b[1;32m      7\u001b[0m \u001b[0mex1\u001b[0m \u001b[0;34m=\u001b[0m \u001b[0mdata_grid\u001b[0m\u001b[0;34m[\u001b[0m\u001b[0mlat\u001b[0m\u001b[0;34m]\u001b[0m\u001b[0;34m[\u001b[0m\u001b[0mlon\u001b[0m\u001b[0;34m]\u001b[0m\u001b[0;34m\u001b[0m\u001b[0m\n\u001b[0;32m----> 8\u001b[0;31m \u001b[0mc_lat\u001b[0m \u001b[0;34m=\u001b[0m \u001b[0;34m[\u001b[0m\u001b[0mlat_array\u001b[0m\u001b[0;34m[\u001b[0m\u001b[0mi\u001b[0m\u001b[0;34m]\u001b[0m \u001b[0;32mfor\u001b[0m \u001b[0mi\u001b[0m \u001b[0;32min\u001b[0m \u001b[0mex1\u001b[0m\u001b[0;34m[\u001b[0m\u001b[0;34m'corner'\u001b[0m\u001b[0;34m]\u001b[0m\u001b[0;34m[\u001b[0m\u001b[0;34m'index'\u001b[0m\u001b[0;34m]\u001b[0m\u001b[0;34m]\u001b[0m\u001b[0;34m\u001b[0m\u001b[0m\n\u001b[0m\u001b[1;32m      9\u001b[0m \u001b[0mc_lon\u001b[0m \u001b[0;34m=\u001b[0m \u001b[0;34m[\u001b[0m\u001b[0mlon_array\u001b[0m\u001b[0;34m[\u001b[0m\u001b[0mi\u001b[0m\u001b[0;34m]\u001b[0m \u001b[0;32mfor\u001b[0m \u001b[0mi\u001b[0m \u001b[0;32min\u001b[0m \u001b[0mex1\u001b[0m\u001b[0;34m[\u001b[0m\u001b[0;34m'corner'\u001b[0m\u001b[0;34m]\u001b[0m\u001b[0;34m[\u001b[0m\u001b[0;34m'index'\u001b[0m\u001b[0;34m]\u001b[0m\u001b[0;34m]\u001b[0m\u001b[0;34m\u001b[0m\u001b[0m\n\u001b[1;32m     10\u001b[0m \u001b[0;34m\u001b[0m\u001b[0m\n",
      "\u001b[0;32m<ipython-input-44-8f2baf6af209>\u001b[0m in \u001b[0;36m<listcomp>\u001b[0;34m(.0)\u001b[0m\n\u001b[1;32m      6\u001b[0m \u001b[0;34m\u001b[0m\u001b[0m\n\u001b[1;32m      7\u001b[0m \u001b[0mex1\u001b[0m \u001b[0;34m=\u001b[0m \u001b[0mdata_grid\u001b[0m\u001b[0;34m[\u001b[0m\u001b[0mlat\u001b[0m\u001b[0;34m]\u001b[0m\u001b[0;34m[\u001b[0m\u001b[0mlon\u001b[0m\u001b[0;34m]\u001b[0m\u001b[0;34m\u001b[0m\u001b[0m\n\u001b[0;32m----> 8\u001b[0;31m \u001b[0mc_lat\u001b[0m \u001b[0;34m=\u001b[0m \u001b[0;34m[\u001b[0m\u001b[0mlat_array\u001b[0m\u001b[0;34m[\u001b[0m\u001b[0mi\u001b[0m\u001b[0;34m]\u001b[0m \u001b[0;32mfor\u001b[0m \u001b[0mi\u001b[0m \u001b[0;32min\u001b[0m \u001b[0mex1\u001b[0m\u001b[0;34m[\u001b[0m\u001b[0;34m'corner'\u001b[0m\u001b[0;34m]\u001b[0m\u001b[0;34m[\u001b[0m\u001b[0;34m'index'\u001b[0m\u001b[0;34m]\u001b[0m\u001b[0;34m]\u001b[0m\u001b[0;34m\u001b[0m\u001b[0m\n\u001b[0m\u001b[1;32m      9\u001b[0m \u001b[0mc_lon\u001b[0m \u001b[0;34m=\u001b[0m \u001b[0;34m[\u001b[0m\u001b[0mlon_array\u001b[0m\u001b[0;34m[\u001b[0m\u001b[0mi\u001b[0m\u001b[0;34m]\u001b[0m \u001b[0;32mfor\u001b[0m \u001b[0mi\u001b[0m \u001b[0;32min\u001b[0m \u001b[0mex1\u001b[0m\u001b[0;34m[\u001b[0m\u001b[0;34m'corner'\u001b[0m\u001b[0;34m]\u001b[0m\u001b[0;34m[\u001b[0m\u001b[0;34m'index'\u001b[0m\u001b[0;34m]\u001b[0m\u001b[0;34m]\u001b[0m\u001b[0;34m\u001b[0m\u001b[0m\n\u001b[1;32m     10\u001b[0m \u001b[0;34m\u001b[0m\u001b[0m\n",
      "\u001b[0;31mIndexError\u001b[0m: list index out of range"
     ]
    }
   ],
   "source": [
    "\n",
    "c_lat = [lat_array[i] for i in ex1['corner']['index']]\n",
    "c_lon = [lon_array[i] for i in ex1['corner']['index']]\n",
    "\n",
    "c_lat = ex1['corner']['area']\n",
    "c_lon = [lon_array[i] for i in ex1['corner']['index']]"
   ]
  },
  {
   "cell_type": "code",
   "execution_count": 42,
   "metadata": {},
   "outputs": [
    {
     "data": {
      "text/plain": [
       "76.17866827277305"
      ]
     },
     "execution_count": 42,
     "metadata": {},
     "output_type": "execute_result"
    }
   ],
   "source": [
    "p = 0 \n",
    "\n",
    "for key in ex1.keys():\n",
    "    #print(key)\n",
    "    p += np.sum(ex1[key]['area'])\n",
    "p"
   ]
  },
  {
   "cell_type": "code",
   "execution_count": 43,
   "metadata": {},
   "outputs": [],
   "source": [
    "#l = 0\n",
    "#for key in ex1.keys():\n",
    "    #l += np.sum(ex1[key]['area']) * A/p"
   ]
  },
  {
   "cell_type": "code",
   "execution_count": 44,
   "metadata": {},
   "outputs": [],
   "source": [
    "def area_grid_cell(c_lat, d_lat, d_lon):\n",
    "        \"\"\"\n",
    "        c_lat : float\n",
    "            Centre point longitude, latitude in degrees\n",
    "\n",
    "        d_lat, d_lon : float\n",
    "            delta lat lon in degrees\n",
    "\n",
    "        Returns : area in km^2\n",
    "\n",
    "        cdo : If the grid cell area have to be computed it is scaled with the earth radius to square meters.\n",
    "        \"\"\"\n",
    "        R = 6371000  # in M\n",
    "        # area er egentlig R**2\n",
    "        area = R*(np.sin((c_lat + d_lat)*np.pi/180) - np.sin((c_lat - d_lat)*np.pi/180) )*(2*d_lon*np.pi/180) # R**2\n",
    "        return np.abs(area)"
   ]
  },
  {
   "cell_type": "code",
   "execution_count": 45,
   "metadata": {},
   "outputs": [
    {
     "data": {
      "text/plain": [
       "([1.1650089377177455, 0.26617004725968824, 2.2060012633788837],\n",
       " [27.614166259765625, 27.38011360168457, 27.62175750732422])"
      ]
     },
     "execution_count": 45,
     "metadata": {},
     "output_type": "execute_result"
    }
   ],
   "source": [
    "c_lat, c_lon"
   ]
  },
  {
   "cell_type": "code",
   "execution_count": 46,
   "metadata": {},
   "outputs": [
    {
     "data": {
      "text/plain": [
       "[1.1650089377177455, 0.26617004725968824, 2.2060012633788837]"
      ]
     },
     "execution_count": 46,
     "metadata": {},
     "output_type": "execute_result"
    }
   ],
   "source": [
    "ex1['corner']['area']"
   ]
  },
  {
   "cell_type": "markdown",
   "metadata": {},
   "source": [
    "# Compute distances "
   ]
  },
  {
   "cell_type": "code",
   "execution_count": 47,
   "metadata": {},
   "outputs": [
    {
     "data": {
      "text/plain": [
       "dict_keys(['centre', 'down', 'up', 'right', 'left', 'corner'])"
      ]
     },
     "execution_count": 47,
     "metadata": {},
     "output_type": "execute_result"
    }
   ],
   "source": [
    "ex1.keys()"
   ]
  },
  {
   "cell_type": "code",
   "execution_count": 48,
   "metadata": {},
   "outputs": [],
   "source": [
    "def add_small_box(ax, lat, lon, d_lat, d_lon):\n",
    "    era5_lat = np.linspace(float(lat) - d_lat, float(lat) + d_lat, 100) \n",
    "    era5_lon = np.linspace(float(lon) - d_lon, float(lon) + d_lon, 100) \n",
    "\n",
    "    ax.plot( era5_lat, np.ones(100)*era5_lon[0])\n",
    "    ax.plot( era5_lat, np.ones(100)*era5_lon[-1])\n",
    "\n",
    "    ax.plot( np.ones(100)*era5_lat[0], era5_lon)\n",
    "    ax.plot(np.ones(100)*era5_lat[-1], era5_lon)\n",
    "    return ax"
   ]
  },
  {
   "cell_type": "code",
   "execution_count": 19,
   "metadata": {},
   "outputs": [],
   "source": [
    "#data_grid"
   ]
  },
  {
   "cell_type": "code",
   "execution_count": 61,
   "metadata": {},
   "outputs": [],
   "source": [
    "def plot_cell(data_grid, lat = '30.25', lon = '19.25'):\n",
    "    \"\"\"\n",
    "    data_grid : dict \n",
    "        read file from \n",
    "    \n",
    "    lat : \n",
    "    \n",
    "    lon :\n",
    "    \n",
    "    \"\"\"\n",
    "    fig, ax = plt.subplots(nrows=1, ncols=1, figsize=(20, 10))\n",
    "    ex1 = data_grid[lat][lon]\n",
    "\n",
    "    for key, item in ex1.items():\n",
    "        if key != 'centre' and key != 'corner':\n",
    "\n",
    "            index = item['index']\n",
    "\n",
    "            lats     = [lat_array[idx] for idx in index]\n",
    "            d_lats   = [d_theta[idx] for idx in index]\n",
    "            d_lons   = [d_phi[idx] for idx in index]\n",
    "            lons     = [lon_array[idx] for idx in index]\n",
    "            if key == 'right':\n",
    "                print(lats)\n",
    "                print(d_lats)\n",
    "            \n",
    "\n",
    "            for i in range(len(d_lats)):\n",
    "                ax = add_small_box(ax, lats[i], lons[i], d_lats[i], d_lons[i])\n",
    "\n",
    "            plt.scatter(lats, lons)\n",
    "\n",
    "        else:\n",
    "            index = item['index']\n",
    "            lats  = [lat_array[idx] for idx in index]\n",
    "            lons  = [lon_array[idx] for idx in index]\n",
    "\n",
    "            d_lats = [d_theta[idx] for idx in index]\n",
    "            d_lons = [d_phi[idx] for idx in index]\n",
    "\n",
    "            for i in range(len(d_lats)):\n",
    "                ax = add_small_box(ax, lats[i], lons[i], d_lats[i], d_lons[i])\n",
    "\n",
    "            plt.scatter(lats, lons, s=400, c='b', marker='o', alpha = 0.1)\n",
    "            plt.legend(item['area'])\n",
    "\n",
    "    era5_lat = np.linspace(float(lat)-0.25/2, float(lat)+0.25/2, 100) \n",
    "    era5_lon = np.linspace(float(lon)-0.25/2, float(lon)+0.25/2, 100) \n",
    "\n",
    "    plt.plot( era5_lat, np.ones(100)*era5_lon[0])\n",
    "    plt.plot( era5_lat, np.ones(100)*era5_lon[-1])\n",
    "\n",
    "    plt.plot( np.ones(100)*era5_lat[0], era5_lon)\n",
    "    plt.plot(np.ones(100)*era5_lat[-1], era5_lon)\n",
    "    plt.show()"
   ]
  },
  {
   "cell_type": "code",
   "execution_count": 62,
   "metadata": {},
   "outputs": [
    {
     "name": "stdout",
     "output_type": "stream",
     "text": [
      "[52.42524719238281, 52.48583221435547, 52.54201126098633]\n",
      "[0.030257225036621094, 0.030327796936035156, 0.030389785766601562]\n"
     ]
    },
    {
     "data": {
      "image/png": "[encoded data removed]",
      "text/plain": [
       "<Figure size 1440x720 with 1 Axes>"
      ]
     },
     "metadata": {
      "needs_background": "light"
     },
     "output_type": "display_data"
    }
   ],
   "source": [
    "plot_cell(data_grid, lat = '52.5', lon = '27.5')"
   ]
  },
  {
   "cell_type": "code",
   "execution_count": 22,
   "metadata": {},
   "outputs": [
    {
     "data": {
      "image/png": "[encoded data removed]",
      "text/plain": [
       "<Figure size 1440x720 with 1 Axes>"
      ]
     },
     "metadata": {
      "needs_background": "light"
     },
     "output_type": "display_data"
    }
   ],
   "source": [
    "plot_cell(data_grid, lat = '52.0', lon = '20.25')"
   ]
  },
  {
   "cell_type": "code",
   "execution_count": 23,
   "metadata": {},
   "outputs": [
    {
     "data": {
      "image/png": "[encoded data removed]",
      "text/plain": [
       "<Figure size 1440x720 with 1 Axes>"
      ]
     },
     "metadata": {
      "needs_background": "light"
     },
     "output_type": "display_data"
    }
   ],
   "source": [
    "plot_cell(data_grid, lat = '52.25', lon = '24.25')"
   ]
  },
  {
   "cell_type": "code",
   "execution_count": 24,
   "metadata": {},
   "outputs": [
    {
     "data": {
      "image/png": "[encoded data removed]",
      "text/plain": [
       "<Figure size 1440x720 with 1 Axes>"
      ]
     },
     "metadata": {
      "needs_background": "light"
     },
     "output_type": "display_data"
    }
   ],
   "source": [
    "plot_cell(data_grid, lat = '52.5', lon = '27.5')"
   ]
  },
  {
   "cell_type": "code",
   "execution_count": 25,
   "metadata": {
    "scrolled": true
   },
   "outputs": [
    {
     "data": {
      "text/plain": [
       "array([0.06331242, 0.01380244, 0.12086488, 0.21874474, 0.02064275])"
      ]
     },
     "execution_count": 25,
     "metadata": {},
     "output_type": "execute_result"
    }
   ],
   "source": [
    "ex1['corner']['area']/np.max(ex1['centre']['area'])"
   ]
  },
  {
   "cell_type": "code",
   "execution_count": 35,
   "metadata": {},
   "outputs": [
    {
     "data": {
      "text/plain": [
       "2.034644321165765"
      ]
     },
     "execution_count": 35,
     "metadata": {},
     "output_type": "execute_result"
    }
   ],
   "source": [
    "np.max(ex1['centre']['area'])"
   ]
  },
  {
   "cell_type": "code",
   "execution_count": 37,
   "metadata": {},
   "outputs": [
    {
     "data": {
      "text/plain": [
       "([0.7147221058417063,\n",
       "  1.1800600715423395,\n",
       "  1.6465586894180857,\n",
       "  0.08687993239935704,\n",
       "  0.5546515116454263,\n",
       "  1.0237110183169975],\n",
       " [0.029484220787746755,\n",
       "  1.587630948632793,\n",
       "  1.1166099074366587,\n",
       "  0.6443650389673439,\n",
       "  0.17088541007173266,\n",
       "  1.7300477404927852,\n",
       "  1.2553262616965815])"
      ]
     },
     "execution_count": 37,
     "metadata": {},
     "output_type": "execute_result"
    }
   ],
   "source": [
    "ex1['left']['area'], ex1['right']['area']"
   ]
  },
  {
   "cell_type": "markdown",
   "metadata": {},
   "source": [
    "# FIX:\n",
    "\n",
    "* Doesn't look like the corners get deleted from the subsets \n",
    "* Deletes wrong indecies .. Looks like the righmost centres could contain some more data.\n",
    "* Detect to corners and compute the difference \n",
    "    ** If you detect to corner. Does the calculated area overlap or or is it just the individual contributions.\n",
    "* file that readscloud maska and calculate fraciot\n",
    "\n",
    "fraction_down = (cloud_mask_array[idx_down_boundary][sub_section_down]*area_grid_cell(lat_down,\n",
    "                                                                                      dlat_down,\n",
    "                   \n",
    "                   dlon_down)).sum()*era_AREA/"
   ]
  },
  {
   "cell_type": "code",
   "execution_count": null,
   "metadata": {},
   "outputs": [],
   "source": [
    "era5_lat = np.linspace(float(lat)-0.25/2, float(lat)+0.25/2, 100) \n",
    "era5_lon = np.linspace(float(lon)-0.25/2, float(lon)+0.25/2, 100) \n",
    "\n",
    "plt.plot(np.ones(100)*era5_lon[0], era5_lat)\n",
    "plt.plot(np.ones(100)*era5_lon[-1], era5_lat)\n",
    "\n",
    "plt.plot(era5_lon, np.ones(100)*era5_lat[0])\n",
    "plt.plot(era5_lon, np.ones(100)*era5_lat[-1])\n",
    "#plt.plot(era5_lon)"
   ]
  },
  {
   "cell_type": "code",
   "execution_count": null,
   "metadata": {},
   "outputs": [],
   "source": []
  },
  {
   "cell_type": "code",
   "execution_count": null,
   "metadata": {},
   "outputs": [],
   "source": []
  },
  {
   "cell_type": "code",
   "execution_count": null,
   "metadata": {},
   "outputs": [],
   "source": []
  },
  {
   "cell_type": "code",
   "execution_count": null,
   "metadata": {},
   "outputs": [],
   "source": []
  },
  {
   "cell_type": "code",
   "execution_count": null,
   "metadata": {},
   "outputs": [],
   "source": []
  }
 ],
 "metadata": {
  "kernelspec": {
   "display_name": "Python 3",
   "language": "python",
   "name": "python3"
  },
  "language_info": {
   "codemirror_mode": {
    "name": "ipython",
    "version": 3
   },
   "file_extension": ".py",
   "mimetype": "text/x-python",
   "name": "python",
   "nbconvert_exporter": "python",
   "pygments_lexer": "ipython3",
   "version": "3.6.2"
  }
 },
 "nbformat": 4,
 "nbformat_minor": 4
}
