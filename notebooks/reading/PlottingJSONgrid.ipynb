{
 "cells": [
  {
   "cell_type": "code",
   "execution_count": 1,
   "metadata": {},
   "outputs": [],
   "source": [
    "import json\n",
    "import glob\n",
    "import matplotlib.pyplot as plt\n",
    "import numpy as np\n",
    "%matplotlib inline"
   ]
  },
  {
   "cell_type": "code",
   "execution_count": 2,
   "metadata": {},
   "outputs": [],
   "source": [
    "save_dir = '/home/hanna/images_simple_statsmodels/'"
   ]
  },
  {
   "cell_type": "code",
   "execution_count": 3,
   "metadata": {},
   "outputs": [],
   "source": [
    "files = glob.glob(save_dir + '*test*test*.json')"
   ]
  },
  {
   "cell_type": "code",
   "execution_count": 4,
   "metadata": {},
   "outputs": [
    {
     "data": {
      "text/plain": [
       "['/home/hanna/images_simple_statsmodels/ERA5_grid_resample_includes_new_test_test_test.json',\n",
       " '/home/hanna/images_simple_statsmodels/ERA5_grid_resample_includes_new_test_test.json']"
      ]
     },
     "execution_count": 4,
     "metadata": {},
     "output_type": "execute_result"
    }
   ],
   "source": [
    "files"
   ]
  },
  {
   "cell_type": "code",
   "execution_count": 5,
   "metadata": {},
   "outputs": [],
   "source": [
    "fil = files[0]"
   ]
  },
  {
   "cell_type": "code",
   "execution_count": 6,
   "metadata": {},
   "outputs": [],
   "source": [
    "ch_fil = glob.glob(save_dir + '*changes*.json')[0]"
   ]
  },
  {
   "cell_type": "code",
   "execution_count": 7,
   "metadata": {},
   "outputs": [],
   "source": [
    "with open(ch_fil, 'r') as f:\n",
    "    data_changes = json.load(f)"
   ]
  },
  {
   "cell_type": "code",
   "execution_count": 8,
   "metadata": {},
   "outputs": [
    {
     "data": {
      "text/plain": [
       "dict_keys(['30.25'])"
      ]
     },
     "execution_count": 8,
     "metadata": {},
     "output_type": "execute_result"
    }
   ],
   "source": [
    "data_changes.keys()"
   ]
  },
  {
   "cell_type": "code",
   "execution_count": 9,
   "metadata": {},
   "outputs": [],
   "source": []
  },
  {
   "cell_type": "code",
   "execution_count": 10,
   "metadata": {},
   "outputs": [],
   "source": [
    "ex_fil = glob.glob(save_dir + '*indexes_test*.json')[0]\n",
    "with open(ex_fil, 'r') as f:\n",
    "    data_grid = json.load(f)"
   ]
  },
  {
   "cell_type": "code",
   "execution_count": 11,
   "metadata": {},
   "outputs": [],
   "source": [
    "#data_grid.keys()"
   ]
  },
  {
   "cell_type": "code",
   "execution_count": 12,
   "metadata": {},
   "outputs": [],
   "source": [
    "#for key, item in data.items():\n",
    "    # print(key)\n",
    "    #for key, item2 in item.items():\n",
    "        # print(key)\n",
    "        #for key, item3 in item2.items():\n",
    "            # print(key)\n",
    "            # print(item3)"
   ]
  },
  {
   "cell_type": "code",
   "execution_count": 13,
   "metadata": {},
   "outputs": [],
   "source": [
    "def read_dlon_dlat(save_dir):\n",
    "    nc_files = glob.glob(save_dir+'*cell*.json')\n",
    "    print(nc_files)\n",
    "    \n",
    "    with open(nc_files[-1]) as f:\n",
    "        d =  json.load(f)\n",
    "        \n",
    "    d_phi      = d['dphi'] \n",
    "    d_theta    = d['dtheta'] \n",
    "    cell_areas = d['cell_area']\n",
    "    lat_array  = d['lat'] \n",
    "    lon_array  = d['lon']\n",
    "    #save_dict_to_json(d, \"changes_lat_lon_cell-area.json\", save_dir = save_dir)\n",
    "    return d_phi, d_theta, cell_areas, lat_array, lon_array"
   ]
  },
  {
   "cell_type": "code",
   "execution_count": 14,
   "metadata": {},
   "outputs": [
    {
     "name": "stdout",
     "output_type": "stream",
     "text": [
      "['/home/hanna/images_simple_statsmodels/changes_lat_lon_cell-area.json']\n"
     ]
    }
   ],
   "source": [
    "d_phi, d_theta, cell_areas, lat_array, lon_array = read_dlon_dlat(save_dir)"
   ]
  },
  {
   "cell_type": "code",
   "execution_count": 15,
   "metadata": {},
   "outputs": [
    {
     "name": "stdout",
     "output_type": "stream",
     "text": [
      "19.0\n",
      "19.25\n"
     ]
    }
   ],
   "source": [
    "for key, item in data_grid['30.25'].items():\n",
    "    if len(item['corner']['index']) > 4:\n",
    "        print(key)"
   ]
  },
  {
   "cell_type": "code",
   "execution_count": 16,
   "metadata": {},
   "outputs": [],
   "source": [
    "ex1 = data_grid['30.25']['19.0']\n",
    "ex2 = data_grid['30.25']['19.25']"
   ]
  },
  {
   "cell_type": "code",
   "execution_count": 17,
   "metadata": {},
   "outputs": [
    {
     "data": {
      "text/plain": [
       "dict_keys(['centre', 'down', 'up', 'right', 'left', 'corner'])"
      ]
     },
     "execution_count": 17,
     "metadata": {},
     "output_type": "execute_result"
    }
   ],
   "source": [
    "ex1.keys()"
   ]
  },
  {
   "cell_type": "code",
   "execution_count": 18,
   "metadata": {
    "scrolled": true
   },
   "outputs": [],
   "source": [
    "def plot(lat = '30.25', lon = '19.0'):\n",
    "    ex1 = data_grid[lat][lon]\n",
    "    c_lat = [lat_array[i] for i in ex1['corner']['index']]\n",
    "    c_lon = [lon_array[i] for i in ex1['corner']['index']]\n",
    "    counter = 0\n",
    "    for lat, lon in zip(c_lat, c_lon):\n",
    "        plt.scatter(lat, lon, label = str(counter))\n",
    "        counter += 1\n",
    "    plt.scatter(float(lat), float(lon))\n",
    "    plt.legend()\n",
    "    return plt.show()"
   ]
  },
  {
   "cell_type": "code",
   "execution_count": 19,
   "metadata": {},
   "outputs": [
    {
     "data": {
      "image/png": "[encoded data removed]",
      "text/plain": [
       "<Figure size 432x288 with 1 Axes>"
      ]
     },
     "metadata": {
      "needs_background": "light"
     },
     "output_type": "display_data"
    }
   ],
   "source": [
    "plot(lat = '30.25', lon = '19.0')"
   ]
  },
  {
   "cell_type": "code",
   "execution_count": 20,
   "metadata": {},
   "outputs": [
    {
     "data": {
      "image/png": "[encoded data removed]",
      "text/plain": [
       "<Figure size 432x288 with 1 Axes>"
      ]
     },
     "metadata": {
      "needs_background": "light"
     },
     "output_type": "display_data"
    }
   ],
   "source": [
    "plot(lat = '30.25', lon = '19.25')"
   ]
  },
  {
   "cell_type": "code",
   "execution_count": 21,
   "metadata": {},
   "outputs": [],
   "source": [
    "lat = '30.25'\n",
    "lon = '19.25'\n",
    "\n",
    "ex1 = data_grid[lat][lon]\n",
    "c_lat = [lat_array[i] for i in ex1['corner']['index']]\n",
    "c_lon = [lon_array[i] for i in ex1['corner']['index']]\n",
    "\n",
    "c_lat = ex1['corner']['area']\n",
    "c_lon = [lon_array[i] for i in ex1['corner']['index']]"
   ]
  },
  {
   "cell_type": "code",
   "execution_count": 22,
   "metadata": {},
   "outputs": [
    {
     "data": {
      "text/plain": [
       "105.70627260868017"
      ]
     },
     "execution_count": 22,
     "metadata": {},
     "output_type": "execute_result"
    }
   ],
   "source": [
    "p = 0 \n",
    "\n",
    "for key in ex1.keys():\n",
    "    #print(key)\n",
    "    p += np.sum(ex1[key]['area'])\n",
    "p"
   ]
  },
  {
   "cell_type": "code",
   "execution_count": 23,
   "metadata": {},
   "outputs": [],
   "source": [
    "#l = 0\n",
    "#for key in ex1.keys():\n",
    "    #l += np.sum(ex1[key]['area']) * A/p"
   ]
  },
  {
   "cell_type": "code",
   "execution_count": 24,
   "metadata": {},
   "outputs": [],
   "source": [
    "def area_grid_cell(c_lat, d_lat, d_lon):\n",
    "        \"\"\"\n",
    "        c_lat : float\n",
    "            Centre point longitude, latitude in degrees\n",
    "\n",
    "        d_lat, d_lon : float\n",
    "            delta lat lon in degrees\n",
    "\n",
    "        Returns : area in km^2\n",
    "\n",
    "        cdo : If the grid cell area have to be computed it is scaled with the earth radius to square meters.\n",
    "        \"\"\"\n",
    "        R = 6371000  # in M\n",
    "        # area er egentlig R**2\n",
    "        area = R*(np.sin((c_lat + d_lat)*np.pi/180) - np.sin((c_lat - d_lat)*np.pi/180) )*(2*d_lon*np.pi/180) # R**2\n",
    "        return np.abs(area)"
   ]
  },
  {
   "cell_type": "code",
   "execution_count": 25,
   "metadata": {},
   "outputs": [
    {
     "data": {
      "text/plain": [
       "([0.12881826047439884,\n",
       "  0.02808306606119272,\n",
       "  0.24591704591857189,\n",
       "  0.44506775149659017,\n",
       "  0.04200245856245397],\n",
       " [19.383895874023438,\n",
       "  19.13881492614746,\n",
       "  19.111848831176758,\n",
       "  19.13326644897461,\n",
       "  19.37912940979004])"
      ]
     },
     "execution_count": 25,
     "metadata": {},
     "output_type": "execute_result"
    }
   ],
   "source": [
    "c_lat, c_lon"
   ]
  },
  {
   "cell_type": "code",
   "execution_count": 26,
   "metadata": {},
   "outputs": [
    {
     "data": {
      "text/plain": [
       "[0.12881826047439884,\n",
       " 0.02808306606119272,\n",
       " 0.24591704591857189,\n",
       " 0.44506775149659017,\n",
       " 0.04200245856245397]"
      ]
     },
     "execution_count": 26,
     "metadata": {},
     "output_type": "execute_result"
    }
   ],
   "source": [
    "ex1['corner']['area']"
   ]
  },
  {
   "cell_type": "markdown",
   "metadata": {},
   "source": [
    "# Compute distances "
   ]
  },
  {
   "cell_type": "code",
   "execution_count": 27,
   "metadata": {},
   "outputs": [
    {
     "data": {
      "text/plain": [
       "dict_keys(['centre', 'down', 'up', 'right', 'left', 'corner'])"
      ]
     },
     "execution_count": 27,
     "metadata": {},
     "output_type": "execute_result"
    }
   ],
   "source": [
    "ex1.keys()"
   ]
  },
  {
   "cell_type": "code",
   "execution_count": 28,
   "metadata": {},
   "outputs": [],
   "source": [
    "def add_small_box(ax, lat, lon, d_lat, d_lon):\n",
    "    era5_lat = np.linspace(float(lat) - d_lat, float(lat) + d_lat, 100) \n",
    "    era5_lon = np.linspace(float(lon) - d_lon, float(lon) + d_lon, 100) \n",
    "\n",
    "    ax.plot( era5_lat, np.ones(100)*era5_lon[0])\n",
    "    ax.plot( era5_lat, np.ones(100)*era5_lon[-1])\n",
    "\n",
    "    ax.plot( np.ones(100)*era5_lat[0], era5_lon)\n",
    "    ax.plot(np.ones(100)*era5_lat[-1], era5_lon)\n",
    "    return ax"
   ]
  },
  {
   "cell_type": "code",
   "execution_count": 31,
   "metadata": {},
   "outputs": [
    {
     "name": "stdout",
     "output_type": "stream",
     "text": [
      "dict_keys(['index', 'area'])\n",
      "dict_keys(['index', 'area'])\n",
      "dict_keys(['index', 'area'])\n",
      "dict_keys(['index', 'area'])\n"
     ]
    },
    {
     "data": {
      "image/png": "[encoded data removed]",
      "text/plain": [
       "<Figure size 1440x720 with 1 Axes>"
      ]
     },
     "metadata": {
      "needs_background": "light"
     },
     "output_type": "display_data"
    }
   ],
   "source": [
    "def plot_cell(data_grid, lat = '30.25', lon = '19.25'):\n",
    "    \"\"\"\n",
    "    data_grid : dict \n",
    "        read file from \n",
    "    \n",
    "    lat : \n",
    "    \n",
    "    lon :\n",
    "    \n",
    "    \"\"\"\n",
    "    fig, ax = plt.subplots(nrows=1, ncols=1, figsize=(20, 10))\n",
    "    ex1 = data_grid[lat][lon]\n",
    "\n",
    "    for key, item in ex1.items():\n",
    "        if key != 'centre' and key != 'corner':\n",
    "            index = item['index']\n",
    "\n",
    "            lats     = [lat_array[idx] for idx in index]\n",
    "            #lats_sub = [lats[i] for i in index_sub]\n",
    "\n",
    "            d_lats    = [d_theta[idx] for idx in index]\n",
    "            #d_lat_sub = [d_lats[i] for i in index_sub]\n",
    "\n",
    "            d_lons     = [d_phi[idx] for idx in index]\n",
    "            #d_lons_sub = [d_lons[i] for i in index_sub]\n",
    "\n",
    "            lons     = [lon_array[idx] for idx in index]\n",
    "            #lons_sub = [lons[i] for i in index_sub]\n",
    "\n",
    "            for i in range(len(d_lats)):\n",
    "                ax = add_small_box(ax, lats[i], lons[i], d_lats[i], d_lons[i])\n",
    "\n",
    "            plt.scatter(lats, lons)\n",
    "\n",
    "        else:\n",
    "            index = item['index']\n",
    "            lats  = [lat_array[idx] for idx in index]\n",
    "            lons  = [lon_array[idx] for idx in index]\n",
    "\n",
    "            d_lats = [d_theta[idx] for idx in index]\n",
    "            d_lons = [d_phi[idx] for idx in index]\n",
    "\n",
    "            for i in range(len(d_lats)):\n",
    "                ax = add_small_box(ax, lats[i], lons[i], d_lats[i], d_lons[i])\n",
    "\n",
    "            plt.scatter(lats, lons, s=400, c='b', marker='o', alpha = 0.1)\n",
    "            plt.legend(item['area'])\n",
    "\n",
    "    era5_lat = np.linspace(float(lat)-0.25/2, float(lat)+0.25/2, 100) \n",
    "    era5_lon = np.linspace(float(lon)-0.25/2, float(lon)+0.25/2, 100) \n",
    "\n",
    "    plt.plot( era5_lat, np.ones(100)*era5_lon[0])\n",
    "    plt.plot( era5_lat, np.ones(100)*era5_lon[-1])\n",
    "\n",
    "    plt.plot( np.ones(100)*era5_lat[0], era5_lon)\n",
    "    plt.plot(np.ones(100)*era5_lat[-1], era5_lon)\n",
    "    plt.show()"
   ]
  },
  {
   "cell_type": "code",
   "execution_count": 41,
   "metadata": {
    "scrolled": true
   },
   "outputs": [
    {
     "data": {
      "text/plain": [
       "array([0.06331242, 0.01380244, 0.12086488, 0.21874474, 0.02064364])"
      ]
     },
     "execution_count": 41,
     "metadata": {},
     "output_type": "execute_result"
    }
   ],
   "source": [
    "ex1['corner']['area']/np.max(ex1['centre']['area'])"
   ]
  },
  {
   "cell_type": "code",
   "execution_count": 35,
   "metadata": {},
   "outputs": [
    {
     "data": {
      "text/plain": [
       "2.034644321165765"
      ]
     },
     "execution_count": 35,
     "metadata": {},
     "output_type": "execute_result"
    }
   ],
   "source": [
    "np.max(ex1['centre']['area'])"
   ]
  },
  {
   "cell_type": "code",
   "execution_count": 37,
   "metadata": {},
   "outputs": [
    {
     "data": {
      "text/plain": [
       "([0.7147221058417063,\n",
       "  1.1800600715423395,\n",
       "  1.6465586894180857,\n",
       "  0.08687993239935704,\n",
       "  0.5546515116454263,\n",
       "  1.0237110183169975],\n",
       " [0.029484220787746755,\n",
       "  1.587630948632793,\n",
       "  1.1166099074366587,\n",
       "  0.6443650389673439,\n",
       "  0.17088541007173266,\n",
       "  1.7300477404927852,\n",
       "  1.2553262616965815])"
      ]
     },
     "execution_count": 37,
     "metadata": {},
     "output_type": "execute_result"
    }
   ],
   "source": [
    "ex1['left']['area'], ex1['right']['area']"
   ]
  },
  {
   "cell_type": "markdown",
   "metadata": {},
   "source": [
    "# FIX:\n",
    "\n",
    "* Doesn't look like the corners get deleted from the subsets \n",
    "* Deletes wrong indecies .. Looks like the righmost centres could contain some more data.\n",
    "* Detect to corners and compute the difference \n",
    "    ** If you detect to corner. Does the calculated area overlap or or is it just the individual contributions.\n",
    "* file that readscloud maska and calculate fraciot\n",
    "\n",
    "fraction_down = (cloud_mask_array[idx_down_boundary][sub_section_down]*area_grid_cell(lat_down,\n",
    "                                                                                      dlat_down,\n",
    "                   \n",
    "                   dlon_down)).sum()*era_AREA/"
   ]
  },
  {
   "cell_type": "code",
   "execution_count": null,
   "metadata": {},
   "outputs": [],
   "source": [
    "era5_lat = np.linspace(float(lat)-0.25/2, float(lat)+0.25/2, 100) \n",
    "era5_lon = np.linspace(float(lon)-0.25/2, float(lon)+0.25/2, 100) \n",
    "\n",
    "plt.plot(np.ones(100)*era5_lon[0], era5_lat)\n",
    "plt.plot(np.ones(100)*era5_lon[-1], era5_lat)\n",
    "\n",
    "plt.plot(era5_lon, np.ones(100)*era5_lat[0])\n",
    "plt.plot(era5_lon, np.ones(100)*era5_lat[-1])\n",
    "#plt.plot(era5_lon)"
   ]
  },
  {
   "cell_type": "code",
   "execution_count": null,
   "metadata": {},
   "outputs": [],
   "source": []
  },
  {
   "cell_type": "code",
   "execution_count": null,
   "metadata": {},
   "outputs": [],
   "source": []
  },
  {
   "cell_type": "code",
   "execution_count": null,
   "metadata": {},
   "outputs": [],
   "source": []
  },
  {
   "cell_type": "code",
   "execution_count": null,
   "metadata": {},
   "outputs": [],
   "source": []
  },
  {
   "cell_type": "code",
   "execution_count": null,
   "metadata": {},
   "outputs": [],
   "source": []
  }
 ],
 "metadata": {
  "kernelspec": {
   "display_name": "Python 3",
   "language": "python",
   "name": "python3"
  },
  "language_info": {
   "codemirror_mode": {
    "name": "ipython",
    "version": 3
   },
   "file_extension": ".py",
   "mimetype": "text/x-python",
   "name": "python",
   "nbconvert_exporter": "python",
   "pygments_lexer": "ipython3",
   "version": "3.6.2"
  }
 },
 "nbformat": 4,
 "nbformat_minor": 2
}
