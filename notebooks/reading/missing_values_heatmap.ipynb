{
 "cells": [
  {
   "cell_type": "code",
   "execution_count": 130,
   "metadata": {},
   "outputs": [],
   "source": [
    "import glob \n",
    "import os\n",
    "import xarray as xr\n",
    "import matplotlib.pyplot as plt\n",
    "import numpy as np\n",
    "import seaborn as sns\n",
    "\n",
    "save_dir = \"/home/hanna/MS-figures/\""
   ]
  },
  {
   "cell_type": "code",
   "execution_count": 28,
   "metadata": {},
   "outputs": [],
   "source": [
    "def get_path(year, month, base = '/home/hanna/lagrings/ERA5_monthly/'):\n",
    "    month =\"%2.2d\" %month # includng leading zeros.\n",
    "    search_str = '{}*{}*tcc.nc'.format(year, month)\n",
    "    return glob.glob(os.path.join(base, search_str))\n",
    "    "
   ]
  },
  {
   "cell_type": "code",
   "execution_count": 47,
   "metadata": {},
   "outputs": [],
   "source": [
    "year = 2012\n",
    "month = 1\n"
   ]
  },
  {
   "cell_type": "code",
   "execution_count": 48,
   "metadata": {},
   "outputs": [
    {
     "data": {
      "text/plain": [
       "['/home/hanna/lagrings/ERA5_monthly/2012_01_tcc.nc']"
      ]
     },
     "execution_count": 48,
     "metadata": {},
     "output_type": "execute_result"
    }
   ],
   "source": [
    "test"
   ]
  },
  {
   "cell_type": "code",
   "execution_count": 126,
   "metadata": {},
   "outputs": [],
   "source": [
    "def get_missing_hours(year, month):\n",
    "    files = get_path(year, month)\n",
    "    \n",
    "    if len(files) == 0:\n",
    "        print(\"year: {}, month: {}\".format(year, month))\n",
    "        return np.nan\n",
    "    else:\n",
    "        fil = files[0]\n",
    "        if month < 10:\n",
    "            month1 = \"%2.2d\" %month\n",
    "            month2 = \"%2.2d\" %(month+1)\n",
    "            year2 = year\n",
    "\n",
    "        elif month == 12:\n",
    "            year2 = year+1\n",
    "            month1 = month \n",
    "            month2=\"01\"\n",
    "        else:\n",
    "            month1 = month\n",
    "            month2 = month + 1\n",
    "            year2  = year \n",
    "            \n",
    "        data = xr.open_dataset(fil)\n",
    "        #print(data)\n",
    "        start = '{}-{}-01'.format(year, month1)\n",
    "        stop = '{}-{}-01'.format(year2, month2)\n",
    "        \n",
    "        timearray = np.arange(start, stop, np.timedelta64(1,'h'), dtype='datetime64[ns]')\n",
    "        #print(len(timearray))\n",
    "        ll = data.time.values.astype(np.datetime64)\n",
    "        \n",
    "        counter = 0\n",
    "        for element in timearray:\n",
    "            if element not in ll:\n",
    "                counter += 1\n",
    "                \n",
    "        assert len(timearray) >= counter, \"how, start {}, stop {}, \"\\\n",
    "                    \"len timearray {}, counter {}\".format(start, stop, len(timearray), counter)\n",
    "        return counter "
   ]
  },
  {
   "cell_type": "code",
   "execution_count": 127,
   "metadata": {},
   "outputs": [
    {
     "name": "stdout",
     "output_type": "stream",
     "text": [
      "year: 2004, month: 1\n",
      "year: 2004, month: 2\n",
      "year: 2004, month: 3\n",
      "year: 2009, month: 5\n",
      "year: 2017, month: 11\n"
     ]
    }
   ],
   "source": [
    "years = np.arange(2004, 2019)\n",
    "months = np.arange(1, 13)\n",
    "storage = {}\n",
    "for y in years:\n",
    "    storage[str(y)] = {}\n",
    "    for m in months:      \n",
    "        storage[str(y)][str(m)] = get_missing_hours(y, m)\n",
    "\n"
   ]
  },
  {
   "cell_type": "code",
   "execution_count": 128,
   "metadata": {},
   "outputs": [],
   "source": [
    "import pandas as pd\n",
    "df = pd.DataFrame.from_dict(storage)"
   ]
  },
  {
   "cell_type": "code",
   "execution_count": 131,
   "metadata": {},
   "outputs": [
    {
     "data": {
      "image/png": "[encoded data removed]",
      "text/plain": [
       "<Figure size 432x288 with 2 Axes>"
      ]
     },
     "metadata": {
      "needs_background": "light"
     },
     "output_type": "display_data"
    }
   ],
   "source": [
    "sns.heatmap(df)\n",
    "plt.savefig(os.path.join(save_dir, \"heat_map_missing_values.png\"))"
   ]
  },
  {
   "cell_type": "code",
   "execution_count": null,
   "metadata": {},
   "outputs": [],
   "source": []
  },
  {
   "cell_type": "code",
   "execution_count": null,
   "metadata": {},
   "outputs": [],
   "source": []
  },
  {
   "cell_type": "code",
   "execution_count": null,
   "metadata": {},
   "outputs": [],
   "source": []
  },
  {
   "cell_type": "code",
   "execution_count": 83,
   "metadata": {},
   "outputs": [
    {
     "data": {
      "text/plain": [
       "{2012: {1: 0,\n",
       "  2: 696,\n",
       "  3: 744,\n",
       "  4: 720,\n",
       "  5: 744,\n",
       "  6: 720,\n",
       "  7: 744,\n",
       "  8: 744,\n",
       "  9: 720,\n",
       "  10: 9504,\n",
       "  11: 9480,\n",
       "  12: 744},\n",
       " 2013: {1: 744,\n",
       "  2: 672,\n",
       "  3: 744,\n",
       "  4: 720,\n",
       "  5: 744,\n",
       "  6: 720,\n",
       "  7: 744,\n",
       "  8: 744,\n",
       "  9: 720,\n",
       "  10: 9504,\n",
       "  11: 9480,\n",
       "  12: 744},\n",
       " 2014: {1: 744,\n",
       "  2: 672,\n",
       "  3: 744,\n",
       "  4: 720,\n",
       "  5: 744,\n",
       "  6: 720,\n",
       "  7: 744,\n",
       "  8: 744,\n",
       "  9: 720,\n",
       "  10: 9504,\n",
       "  11: 9480,\n",
       "  12: 744},\n",
       " 2015: {1: 744,\n",
       "  2: 672,\n",
       "  3: 744,\n",
       "  4: 720,\n",
       "  5: 744,\n",
       "  6: 720,\n",
       "  7: 744,\n",
       "  8: 744,\n",
       "  9: 720,\n",
       "  10: 9528,\n",
       "  11: 9504,\n",
       "  12: 744},\n",
       " 2016: {1: 744,\n",
       "  2: 696,\n",
       "  3: 744,\n",
       "  4: 720,\n",
       "  5: 744,\n",
       "  6: 720,\n",
       "  7: 744,\n",
       "  8: 744,\n",
       "  9: 720,\n",
       "  10: 9504,\n",
       "  11: 9480,\n",
       "  12: 744},\n",
       " 2017: {1: 744,\n",
       "  2: 672,\n",
       "  3: 744,\n",
       "  4: 720,\n",
       "  5: 744,\n",
       "  6: 720,\n",
       "  7: 744,\n",
       "  8: 744,\n",
       "  9: 720,\n",
       "  10: 9504,\n",
       "  11: nan,\n",
       "  12: 744},\n",
       " 2018: {1: 744,\n",
       "  2: 672,\n",
       "  3: 744,\n",
       "  4: 720,\n",
       "  5: 744,\n",
       "  6: 720,\n",
       "  7: 744,\n",
       "  8: 744,\n",
       "  9: 720,\n",
       "  10: 9504,\n",
       "  11: 9480,\n",
       "  12: 744}}"
      ]
     },
     "execution_count": 83,
     "metadata": {},
     "output_type": "execute_result"
    }
   ],
   "source": [
    "storage"
   ]
  },
  {
   "cell_type": "code",
   "execution_count": 64,
   "metadata": {},
   "outputs": [
    {
     "data": {
      "text/plain": [
       "744"
      ]
     },
     "execution_count": 64,
     "metadata": {},
     "output_type": "execute_result"
    }
   ],
   "source": [
    "len(timearray)"
   ]
  },
  {
   "cell_type": "code",
   "execution_count": 60,
   "metadata": {},
   "outputs": [],
   "source": [
    "ll = data.time.values.astype(np.datetime64)"
   ]
  },
  {
   "cell_type": "code",
   "execution_count": 63,
   "metadata": {},
   "outputs": [
    {
     "data": {
      "text/plain": [
       "744"
      ]
     },
     "execution_count": 63,
     "metadata": {},
     "output_type": "execute_result"
    }
   ],
   "source": [
    "len(ll)"
   ]
  },
  {
   "cell_type": "code",
   "execution_count": 61,
   "metadata": {},
   "outputs": [],
   "source": []
  },
  {
   "cell_type": "code",
   "execution_count": 62,
   "metadata": {},
   "outputs": [
    {
     "data": {
      "text/plain": [
       "0"
      ]
     },
     "execution_count": 62,
     "metadata": {},
     "output_type": "execute_result"
    }
   ],
   "source": [
    "counter"
   ]
  },
  {
   "cell_type": "code",
   "execution_count": null,
   "metadata": {},
   "outputs": [],
   "source": []
  },
  {
   "cell_type": "code",
   "execution_count": 53,
   "metadata": {},
   "outputs": [
    {
     "ename": "AttributeError",
     "evalue": "module 'numpy' has no attribute 'datetime'",
     "output_type": "error",
     "traceback": [
      "\u001b[0;31m---------------------------------------------------------------------------\u001b[0m",
      "\u001b[0;31mAttributeError\u001b[0m                            Traceback (most recent call last)",
      "\u001b[0;32m<ipython-input-53-7a31e2fd193b>\u001b[0m in \u001b[0;36m<module>\u001b[0;34m\u001b[0m\n\u001b[1;32m      4\u001b[0m \u001b[0mmonths\u001b[0m \u001b[0;34m=\u001b[0m \u001b[0mnp\u001b[0m\u001b[0;34m.\u001b[0m\u001b[0marange\u001b[0m\u001b[0;34m(\u001b[0m\u001b[0;36m1\u001b[0m\u001b[0;34m,\u001b[0m \u001b[0;36m13\u001b[0m\u001b[0;34m)\u001b[0m\u001b[0;34m\u001b[0m\u001b[0m\n\u001b[1;32m      5\u001b[0m \u001b[0;34m\u001b[0m\u001b[0m\n\u001b[0;32m----> 6\u001b[0;31m \u001b[0mnp\u001b[0m\u001b[0;34m.\u001b[0m\u001b[0marange\u001b[0m\u001b[0;34m(\u001b[0m  \u001b[0mnp\u001b[0m\u001b[0;34m.\u001b[0m\u001b[0mdatetime\u001b[0m\u001b[0;34m(\u001b[0m\u001b[0myear\u001b[0m\u001b[0;34m,\u001b[0m \u001b[0mmonth\u001b[0m\u001b[0;34m,\u001b[0m \u001b[0;36m1\u001b[0m\u001b[0;34m)\u001b[0m \u001b[0;34m,\u001b[0m \u001b[0mnp\u001b[0m\u001b[0;34m.\u001b[0m\u001b[0mdatetime\u001b[0m\u001b[0;34m(\u001b[0m\u001b[0myear\u001b[0m\u001b[0;34m,\u001b[0m \u001b[0mmonth\u001b[0m\u001b[0;34m+\u001b[0m\u001b[0;36m1\u001b[0m\u001b[0;34m,\u001b[0m \u001b[0;36m1\u001b[0m\u001b[0;34m)\u001b[0m  \u001b[0;34m)\u001b[0m\u001b[0;34m\u001b[0m\u001b[0m\n\u001b[0m",
      "\u001b[0;31mAttributeError\u001b[0m: module 'numpy' has no attribute 'datetime'"
     ]
    }
   ],
   "source": [
    "\n",
    "\n",
    "\n",
    "\n",
    "np.arange(  np.datetime(year, month, 1) , np.datetime(year, month+1, 1)  )\n"
   ]
  },
  {
   "cell_type": "code",
   "execution_count": null,
   "metadata": {},
   "outputs": [],
   "source": [
    "def get_missing_hours(year, month):\n",
    "    \n",
    "    \n",
    "    return "
   ]
  },
  {
   "cell_type": "code",
   "execution_count": null,
   "metadata": {},
   "outputs": [],
   "source": []
  },
  {
   "cell_type": "code",
   "execution_count": null,
   "metadata": {},
   "outputs": [],
   "source": []
  }
 ],
 "metadata": {
  "kernelspec": {
   "display_name": "Python 3",
   "language": "python",
   "name": "python3"
  },
  "language_info": {
   "codemirror_mode": {
    "name": "ipython",
    "version": 3
   },
   "file_extension": ".py",
   "mimetype": "text/x-python",
   "name": "python",
   "nbconvert_exporter": "python",
   "pygments_lexer": "ipython3",
   "version": "3.6.2"
  }
 },
 "nbformat": 4,
 "nbformat_minor": 4
}
