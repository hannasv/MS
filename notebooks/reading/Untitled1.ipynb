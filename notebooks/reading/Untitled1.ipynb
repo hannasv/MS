{
 "cells": [
  {
   "cell_type": "code",
   "execution_count": 19,
   "metadata": {},
   "outputs": [],
   "source": [
    "import glob \n",
    "import os\n",
    "import datetime\n",
    "import numpy as np\n",
    "import xarray as xr"
   ]
  },
  {
   "cell_type": "code",
   "execution_count": 13,
   "metadata": {},
   "outputs": [
    {
     "data": {
      "text/plain": [
       "'2012_01'"
      ]
     },
     "execution_count": 13,
     "metadata": {},
     "output_type": "execute_result"
    }
   ],
   "source": [
    "make_dir(2012,1)"
   ]
  },
  {
   "cell_type": "code",
   "execution_count": 92,
   "metadata": {},
   "outputs": [],
   "source": [
    "def make_file(y, m):\n",
    "    if m < 10:\n",
    "        m = '0{}'.format(m)\n",
    "    return '{}_{}.nc'.format(y, m)\n",
    "\n",
    "def get_start(y, m):\n",
    "    if m < 10:\n",
    "        m = '0{}'.format(m)\n",
    "    return '{}-{}'.format(y, m)\n",
    "\n",
    "def get_stop(y, m):\n",
    "    if m == 12:\n",
    "        M =  '0{}'.format(1)\n",
    "        Y = y+1\n",
    "    elif m < 9:\n",
    "        M = '0{}'.format(m+1)\n",
    "        Y = y\n",
    "    else:\n",
    "        M = '{}'.format(m+1)\n",
    "        Y = y\n",
    "    return '{}-{}'.format(Y, M)"
   ]
  },
  {
   "cell_type": "code",
   "execution_count": 93,
   "metadata": {},
   "outputs": [],
   "source": [
    "base = '/home/hanna/miphclac/fractions_repo/'"
   ]
  },
  {
   "cell_type": "code",
   "execution_count": 94,
   "metadata": {},
   "outputs": [],
   "source": [
    "years = np.arange(2004, 2020)\n",
    "months = np.arange(1, 13)\n",
    "missing = []\n",
    "missing_files = []"
   ]
  },
  {
   "cell_type": "code",
   "execution_count": 95,
   "metadata": {},
   "outputs": [
    {
     "data": {
      "text/plain": [
       "False"
      ]
     },
     "execution_count": 95,
     "metadata": {},
     "output_type": "execute_result"
    }
   ],
   "source": [
    "m = 2\n",
    "y = 2012\n",
    "not (y == 2012 and m in [1, 2, 3])"
   ]
  },
  {
   "cell_type": "code",
   "execution_count": 96,
   "metadata": {},
   "outputs": [],
   "source": [
    "data = xr.open_dataset(os.path.join( base, make_file(2012, 1) ))"
   ]
  },
  {
   "cell_type": "code",
   "execution_count": 97,
   "metadata": {},
   "outputs": [
    {
     "data": {
      "text/plain": [
       "<xarray.Dataset>\n",
       "Dimensions:    (latitude: 81, longitude: 161, time: 744)\n",
       "Coordinates:\n",
       "  * time       (time) datetime64[ns] 2012-01-01 ... 2012-01-31T23:00:00\n",
       "  * latitude   (latitude) float64 30.0 30.25 30.5 30.75 ... 49.5 49.75 50.0\n",
       "  * longitude  (longitude) float64 -15.0 -14.75 -14.5 -14.25 ... 24.5 24.75 25.0\n",
       "Data variables:\n",
       "    tcc        (time, latitude, longitude) float64 ...\n",
       "    nr_nans    (time, latitude, longitude) float64 ..."
      ]
     },
     "execution_count": 97,
     "metadata": {},
     "output_type": "execute_result"
    }
   ],
   "source": [
    "data"
   ]
  },
  {
   "cell_type": "code",
   "execution_count": 101,
   "metadata": {},
   "outputs": [],
   "source": [
    "for y in years:\n",
    "    for m in months:\n",
    "        try:\n",
    "            data = xr.open_dataset(os.path.join( base, make_file(y, m) ))\n",
    "            \n",
    "            computed = data.time.values.astype(dtype='datetime64[h]')\n",
    "            start = get_start(y, m)\n",
    "            stop = get_stop(y, m)\n",
    "            ALL = np.arange(start, stop, dtype='datetime64[h]')\n",
    "            if y > 2004 and m > 3:\n",
    "                for c in computed:\n",
    "                    if not c in ALL:\n",
    "                        missing.append(c)         \n",
    "        except FileNotFoundError:\n",
    "            missing_files.append(make_file(y, m) )"
   ]
  },
  {
   "cell_type": "code",
   "execution_count": 102,
   "metadata": {},
   "outputs": [
    {
     "data": {
      "text/plain": [
       "[]"
      ]
     },
     "execution_count": 102,
     "metadata": {},
     "output_type": "execute_result"
    }
   ],
   "source": [
    "missing"
   ]
  },
  {
   "cell_type": "code",
   "execution_count": 103,
   "metadata": {},
   "outputs": [
    {
     "data": {
      "text/plain": [
       "['2004_01.nc',\n",
       " '2004_02.nc',\n",
       " '2004_03.nc',\n",
       " '2009_05.nc',\n",
       " '2017_11.nc',\n",
       " '2019_01.nc',\n",
       " '2019_02.nc',\n",
       " '2019_03.nc',\n",
       " '2019_04.nc',\n",
       " '2019_05.nc',\n",
       " '2019_06.nc',\n",
       " '2019_07.nc',\n",
       " '2019_08.nc',\n",
       " '2019_09.nc',\n",
       " '2019_10.nc',\n",
       " '2019_11.nc',\n",
       " '2019_12.nc',\n",
       " '2004_01.nc',\n",
       " '2004_02.nc',\n",
       " '2004_03.nc',\n",
       " '2009_05.nc',\n",
       " '2017_11.nc',\n",
       " '2019_01.nc',\n",
       " '2019_02.nc',\n",
       " '2019_03.nc',\n",
       " '2019_04.nc',\n",
       " '2019_05.nc',\n",
       " '2019_06.nc',\n",
       " '2019_07.nc',\n",
       " '2019_08.nc',\n",
       " '2019_09.nc',\n",
       " '2019_10.nc',\n",
       " '2019_11.nc',\n",
       " '2019_12.nc']"
      ]
     },
     "execution_count": 103,
     "metadata": {},
     "output_type": "execute_result"
    }
   ],
   "source": [
    "missing_files"
   ]
  },
  {
   "cell_type": "code",
   "execution_count": null,
   "metadata": {},
   "outputs": [],
   "source": []
  },
  {
   "cell_type": "code",
   "execution_count": null,
   "metadata": {},
   "outputs": [],
   "source": []
  },
  {
   "cell_type": "code",
   "execution_count": null,
   "metadata": {},
   "outputs": [],
   "source": []
  },
  {
   "cell_type": "code",
   "execution_count": null,
   "metadata": {},
   "outputs": [],
   "source": [
    "y = 2012\n",
    "m = 1\n",
    "\n",
    "data = xr.open_dataset(os.path.join(base, make_file(y, m)))\n",
    "computed = data.time.values.astype(dtype='datetime64[h]')\n",
    "start = get_start(y, m)\n",
    "stop = get_stop(y, m)\n",
    "ALL = np.arange(start, stop, dtype='datetime64[h]')"
   ]
  },
  {
   "cell_type": "code",
   "execution_count": null,
   "metadata": {},
   "outputs": [],
   "source": [
    "len(ALL)"
   ]
  },
  {
   "cell_type": "code",
   "execution_count": null,
   "metadata": {},
   "outputs": [],
   "source": [
    "start"
   ]
  },
  {
   "cell_type": "code",
   "execution_count": null,
   "metadata": {},
   "outputs": [],
   "source": [
    "stop"
   ]
  },
  {
   "cell_type": "code",
   "execution_count": null,
   "metadata": {},
   "outputs": [],
   "source": []
  },
  {
   "cell_type": "code",
   "execution_count": null,
   "metadata": {},
   "outputs": [],
   "source": []
  }
 ],
 "metadata": {
  "kernelspec": {
   "display_name": "Python 3",
   "language": "python",
   "name": "python3"
  },
  "language_info": {
   "codemirror_mode": {
    "name": "ipython",
    "version": 3
   },
   "file_extension": ".py",
   "mimetype": "text/x-python",
   "name": "python",
   "nbconvert_exporter": "python",
   "pygments_lexer": "ipython3",
   "version": "3.6.2"
  }
 },
 "nbformat": 4,
 "nbformat_minor": 4
}
