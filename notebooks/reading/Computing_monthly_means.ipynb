{
 "cells": [
  {
   "cell_type": "markdown",
   "metadata": {},
   "source": [
    "# Compute monthly means and store to file\n",
    "## Force a 50\\% data basis to compute a mean value"
   ]
  },
  {
   "cell_type": "code",
   "execution_count": 1,
   "metadata": {},
   "outputs": [],
   "source": [
    "import os\n",
    "import glob \n",
    "\n",
    "import numpy as np\n",
    "import xarray as xr\n",
    "\n",
    "from sclouds.helpers   import path_input, VARIABLES\n",
    "from sclouds.io.filter import Filter\n",
    "\n",
    "%matplotlib inline"
   ]
  },
  {
   "cell_type": "code",
   "execution_count": 2,
   "metadata": {},
   "outputs": [],
   "source": [
    "def get_all_filesnames_from_one_variable(var):\n",
    "    \"\"\"Get all filenames from one variable.\"\"\"\n",
    "    return glob.glob(os.path.join(path_input, '*{}*.nc'.format(var)))"
   ]
  },
  {
   "cell_type": "code",
   "execution_count": 3,
   "metadata": {},
   "outputs": [],
   "source": [
    "t2m_files = get_all_filesnames_from_one_variable('t2m')"
   ]
  },
  {
   "cell_type": "code",
   "execution_count": 4,
   "metadata": {},
   "outputs": [
    {
     "data": {
      "text/plain": [
       "['/home/hanna/lagrings/ERA5_monthly/2012_01_t2m.nc',\n",
       " '/home/hanna/lagrings/ERA5_monthly/2013_01_t2m.nc']"
      ]
     },
     "execution_count": 4,
     "metadata": {},
     "output_type": "execute_result"
    }
   ],
   "source": [
    "t2m_files[:2]"
   ]
  },
  {
   "cell_type": "code",
   "execution_count": 5,
   "metadata": {},
   "outputs": [],
   "source": [
    "def get_date_and_mean_from_one_filename(absolute_path = '/home/hanna/lagrings/ERA5_monthly/2012_01_t2m.nc'):\n",
    "    \"\"\" Computes the mean over the entire domain, only land and only sea\n",
    "    \n",
    "    Parameteres\n",
    "    ----------------\n",
    "    absolute_path : str\n",
    "        The absolute path of the file.\n",
    "        \n",
    "    Returns \n",
    "    ----------------\n",
    "    date : np.datetime64\n",
    "        Date of this monthly average\n",
    "    mean_all : float\n",
    "        Mean over entire domain\n",
    "    mean_land : float\n",
    "        Mean over land\n",
    "    mean_sea : float\n",
    "        mean over sea\n",
    "    \"\"\"\n",
    "    basename = os.path.basename(absolute_path)\n",
    "    date     = np.datetime64('{}-{}'.format( basename[:4], basename[5:7]))\n",
    "    var      = basename[8:].split('.')[0]\n",
    "    # Generating all the data and filters. \n",
    "    try:\n",
    "        data     = xr.open_dataset(absolute_path) # read the data\n",
    "        f_land   = Filter('land').set_data(data = data, variable = var)\n",
    "        f_sea    = Filter('sea').set_data(data = data, variable = var)\n",
    "\n",
    "        mean_all  = data.mean()[var].values\n",
    "        mean_land = f_land.get_mean()\n",
    "        mean_sea  = f_sea.get_mean()\n",
    "        return date, mean_all, mean_land, mean_sea\n",
    "    except OSError:\n",
    "        print(\"Didn't find file ... {}\".format(absolute_path))\n",
    "        return date, np.nan, np.nan, np.nan"
   ]
  },
  {
   "cell_type": "code",
   "execution_count": 6,
   "metadata": {},
   "outputs": [],
   "source": [
    "a,b,c,d = get_date_and_mean_from_one_filename(absolute_path = '/home/hanna/lagrings/ERA5_monthly/2012_01_t2m.nc')"
   ]
  },
  {
   "cell_type": "code",
   "execution_count": 7,
   "metadata": {},
   "outputs": [
    {
     "data": {
      "text/plain": [
       "(numpy.datetime64('2012-01'),\n",
       " array(281.70844, dtype=float32),\n",
       " 278.0635536854276,\n",
       " 285.9598052625023)"
      ]
     },
     "execution_count": 7,
     "metadata": {},
     "output_type": "execute_result"
    }
   ],
   "source": [
    "a,b,c,d"
   ]
  },
  {
   "cell_type": "code",
   "execution_count": 11,
   "metadata": {},
   "outputs": [],
   "source": [
    "storage = {}"
   ]
  },
  {
   "cell_type": "code",
   "execution_count": 12,
   "metadata": {},
   "outputs": [
    {
     "data": {
      "text/plain": [
       "['t2m', 'sp', 'q', 'r', 'tcc']"
      ]
     },
     "execution_count": 12,
     "metadata": {},
     "output_type": "execute_result"
    }
   ],
   "source": [
    "VARIABLES"
   ]
  },
  {
   "cell_type": "code",
   "execution_count": 18,
   "metadata": {},
   "outputs": [
    {
     "name": "stdout",
     "output_type": "stream",
     "text": [
      "Number 0. Var t2m \n",
      "Number 10. Var t2m \n",
      "Number 20. Var t2m \n",
      "Number 30. Var t2m \n",
      "Number 40. Var t2m \n",
      "Number 50. Var t2m \n",
      "Number 60. Var t2m \n",
      "Number 70. Var t2m \n",
      "Number 80. Var t2m \n",
      "Number 90. Var t2m \n",
      "Number 100. Var t2m \n",
      "Number 110. Var t2m \n",
      "Number 120. Var t2m \n",
      "Number 130. Var t2m \n",
      "Number 140. Var t2m \n",
      "Number 150. Var t2m \n",
      "Number 160. Var t2m \n",
      "Number 170. Var t2m \n",
      "Number 0. Var sp \n",
      "Number 10. Var sp \n",
      "Number 20. Var sp \n",
      "Number 30. Var sp \n",
      "Number 40. Var sp \n",
      "Number 50. Var sp \n",
      "Number 60. Var sp \n",
      "Number 70. Var sp \n",
      "Number 80. Var sp \n",
      "Number 90. Var sp \n",
      "Number 100. Var sp \n",
      "Number 110. Var sp \n",
      "Number 120. Var sp \n",
      "Number 130. Var sp \n",
      "Number 140. Var sp \n",
      "Number 150. Var sp \n",
      "Number 160. Var sp \n",
      "Number 170. Var sp \n",
      "Number 0. Var q \n",
      "Number 10. Var q \n",
      "Number 20. Var q \n",
      "Number 30. Var q \n",
      "Number 40. Var q \n",
      "Number 50. Var q \n",
      "Number 60. Var q \n",
      "Number 70. Var q \n",
      "Number 80. Var q \n",
      "Number 90. Var q \n",
      "Number 100. Var q \n",
      "Number 110. Var q \n",
      "Number 120. Var q \n",
      "Number 130. Var q \n",
      "Number 140. Var q \n",
      "Number 150. Var q \n",
      "Number 160. Var q \n",
      "Number 170. Var q \n",
      "Number 0. Var r \n",
      "Number 10. Var r \n",
      "Number 20. Var r \n",
      "Number 30. Var r \n",
      "Number 40. Var r \n",
      "Number 50. Var r \n",
      "Number 60. Var r \n",
      "Number 70. Var r \n",
      "Number 80. Var r \n",
      "Number 90. Var r \n",
      "Number 100. Var r \n",
      "Number 110. Var r \n",
      "Number 120. Var r \n",
      "Number 130. Var r \n",
      "Number 140. Var r \n",
      "Number 150. Var r \n",
      "Number 160. Var r \n",
      "Number 170. Var r \n",
      "Number 0. Var tcc \n",
      "Number 10. Var tcc \n",
      "Number 20. Var tcc \n",
      "Number 30. Var tcc \n",
      "Number 40. Var tcc \n"
     ]
    },
    {
     "ename": "KeyError",
     "evalue": "'tcc_tcc'",
     "output_type": "error",
     "traceback": [
      "\u001b[0;31m---------------------------------------------------------------------------\u001b[0m",
      "\u001b[0;31mKeyError\u001b[0m                                  Traceback (most recent call last)",
      "\u001b[0;32m~/anaconda3/envs/tensoflow2/lib/python3.7/site-packages/xarray/core/dataset.py\u001b[0m in \u001b[0;36m_construct_dataarray\u001b[0;34m(self, name)\u001b[0m\n\u001b[1;32m   1150\u001b[0m         \u001b[0;32mtry\u001b[0m\u001b[0;34m:\u001b[0m\u001b[0;34m\u001b[0m\u001b[0;34m\u001b[0m\u001b[0m\n\u001b[0;32m-> 1151\u001b[0;31m             \u001b[0mvariable\u001b[0m \u001b[0;34m=\u001b[0m \u001b[0mself\u001b[0m\u001b[0;34m.\u001b[0m\u001b[0m_variables\u001b[0m\u001b[0;34m[\u001b[0m\u001b[0mname\u001b[0m\u001b[0;34m]\u001b[0m\u001b[0;34m\u001b[0m\u001b[0;34m\u001b[0m\u001b[0m\n\u001b[0m\u001b[1;32m   1152\u001b[0m         \u001b[0;32mexcept\u001b[0m \u001b[0mKeyError\u001b[0m\u001b[0;34m:\u001b[0m\u001b[0;34m\u001b[0m\u001b[0;34m\u001b[0m\u001b[0m\n",
      "\u001b[0;31mKeyError\u001b[0m: 'tcc_tcc'",
      "\nDuring handling of the above exception, another exception occurred:\n",
      "\u001b[0;31mKeyError\u001b[0m                                  Traceback (most recent call last)",
      "\u001b[0;32m<ipython-input-18-e883a73882e4>\u001b[0m in \u001b[0;36m<module>\u001b[0;34m\u001b[0m\n\u001b[1;32m      8\u001b[0m     \u001b[0mfiles\u001b[0m \u001b[0;34m=\u001b[0m \u001b[0mget_all_filesnames_from_one_variable\u001b[0m\u001b[0;34m(\u001b[0m\u001b[0mvar\u001b[0m\u001b[0;34m)\u001b[0m\u001b[0;34m\u001b[0m\u001b[0;34m\u001b[0m\u001b[0m\n\u001b[1;32m      9\u001b[0m     \u001b[0;32mfor\u001b[0m \u001b[0mi\u001b[0m\u001b[0;34m,\u001b[0m \u001b[0mfil\u001b[0m \u001b[0;32min\u001b[0m \u001b[0menumerate\u001b[0m\u001b[0;34m(\u001b[0m\u001b[0mnp\u001b[0m\u001b[0;34m.\u001b[0m\u001b[0msort\u001b[0m\u001b[0;34m(\u001b[0m\u001b[0mfiles\u001b[0m\u001b[0;34m)\u001b[0m\u001b[0;34m)\u001b[0m\u001b[0;34m:\u001b[0m\u001b[0;34m\u001b[0m\u001b[0;34m\u001b[0m\u001b[0m\n\u001b[0;32m---> 10\u001b[0;31m         \u001b[0md\u001b[0m\u001b[0;34m,\u001b[0m \u001b[0mregion\u001b[0m\u001b[0;34m,\u001b[0m \u001b[0mland\u001b[0m\u001b[0;34m,\u001b[0m \u001b[0msea\u001b[0m \u001b[0;34m=\u001b[0m \u001b[0mget_date_and_mean_from_one_filename\u001b[0m\u001b[0;34m(\u001b[0m\u001b[0mfil\u001b[0m\u001b[0;34m)\u001b[0m\u001b[0;34m\u001b[0m\u001b[0;34m\u001b[0m\u001b[0m\n\u001b[0m\u001b[1;32m     11\u001b[0m \u001b[0;34m\u001b[0m\u001b[0m\n\u001b[1;32m     12\u001b[0m         \u001b[0mdates\u001b[0m\u001b[0;34m.\u001b[0m\u001b[0mappend\u001b[0m\u001b[0;34m(\u001b[0m\u001b[0md\u001b[0m\u001b[0;34m)\u001b[0m\u001b[0;34m\u001b[0m\u001b[0;34m\u001b[0m\u001b[0m\n",
      "\u001b[0;32m<ipython-input-5-3f8c89b0228b>\u001b[0m in \u001b[0;36mget_date_and_mean_from_one_filename\u001b[0;34m(absolute_path)\u001b[0m\n\u001b[1;32m     23\u001b[0m     \u001b[0;31m# Generating all the data and filters.\u001b[0m\u001b[0;34m\u001b[0m\u001b[0;34m\u001b[0m\u001b[0;34m\u001b[0m\u001b[0m\n\u001b[1;32m     24\u001b[0m     \u001b[0mdata\u001b[0m     \u001b[0;34m=\u001b[0m \u001b[0mxr\u001b[0m\u001b[0;34m.\u001b[0m\u001b[0mopen_dataset\u001b[0m\u001b[0;34m(\u001b[0m\u001b[0mabsolute_path\u001b[0m\u001b[0;34m)\u001b[0m \u001b[0;31m# read the data\u001b[0m\u001b[0;34m\u001b[0m\u001b[0;34m\u001b[0m\u001b[0m\n\u001b[0;32m---> 25\u001b[0;31m     \u001b[0mf_land\u001b[0m   \u001b[0;34m=\u001b[0m \u001b[0mFilter\u001b[0m\u001b[0;34m(\u001b[0m\u001b[0;34m'land'\u001b[0m\u001b[0;34m)\u001b[0m\u001b[0;34m.\u001b[0m\u001b[0mset_data\u001b[0m\u001b[0;34m(\u001b[0m\u001b[0mdata\u001b[0m \u001b[0;34m=\u001b[0m \u001b[0mdata\u001b[0m\u001b[0;34m,\u001b[0m \u001b[0mvariable\u001b[0m \u001b[0;34m=\u001b[0m \u001b[0mvar\u001b[0m\u001b[0;34m)\u001b[0m\u001b[0;34m\u001b[0m\u001b[0;34m\u001b[0m\u001b[0m\n\u001b[0m\u001b[1;32m     26\u001b[0m     \u001b[0mf_sea\u001b[0m    \u001b[0;34m=\u001b[0m \u001b[0mFilter\u001b[0m\u001b[0;34m(\u001b[0m\u001b[0;34m'sea'\u001b[0m\u001b[0;34m)\u001b[0m\u001b[0;34m.\u001b[0m\u001b[0mset_data\u001b[0m\u001b[0;34m(\u001b[0m\u001b[0mdata\u001b[0m \u001b[0;34m=\u001b[0m \u001b[0mdata\u001b[0m\u001b[0;34m,\u001b[0m \u001b[0mvariable\u001b[0m \u001b[0;34m=\u001b[0m \u001b[0mvar\u001b[0m\u001b[0;34m)\u001b[0m\u001b[0;34m\u001b[0m\u001b[0;34m\u001b[0m\u001b[0m\n\u001b[1;32m     27\u001b[0m \u001b[0;34m\u001b[0m\u001b[0m\n",
      "\u001b[0;32m~/MS/sclouds/io/filter.py\u001b[0m in \u001b[0;36mset_data\u001b[0;34m(self, data, variable)\u001b[0m\n\u001b[1;32m     39\u001b[0m         self.data['filtered'] = (['time', 'latitude', 'longitude'],\n\u001b[1;32m     40\u001b[0m                                 \u001b[0mnp\u001b[0m\u001b[0;34m.\u001b[0m\u001b[0mflipud\u001b[0m\u001b[0;34m(\u001b[0m\u001b[0mself\u001b[0m\u001b[0;34m.\u001b[0m\u001b[0mfilter_ds\u001b[0m\u001b[0;34m[\u001b[0m\u001b[0;34m'land_mask'\u001b[0m\u001b[0;34m]\u001b[0m\u001b[0;34m.\u001b[0m\u001b[0mvalues\u001b[0m\u001b[0;34m)\u001b[0m\u001b[0;34m*\u001b[0m\u001b[0;34m\u001b[0m\u001b[0;34m\u001b[0m\u001b[0m\n\u001b[0;32m---> 41\u001b[0;31m                                         self.data[variable].values)\n\u001b[0m\u001b[1;32m     42\u001b[0m         \u001b[0;32mreturn\u001b[0m \u001b[0mself\u001b[0m\u001b[0;34m\u001b[0m\u001b[0;34m\u001b[0m\u001b[0m\n\u001b[1;32m     43\u001b[0m \u001b[0;34m\u001b[0m\u001b[0m\n",
      "\u001b[0;32m~/anaconda3/envs/tensoflow2/lib/python3.7/site-packages/xarray/core/dataset.py\u001b[0m in \u001b[0;36m__getitem__\u001b[0;34m(self, key)\u001b[0m\n\u001b[1;32m   1241\u001b[0m \u001b[0;34m\u001b[0m\u001b[0m\n\u001b[1;32m   1242\u001b[0m         \u001b[0;32mif\u001b[0m \u001b[0mhashable\u001b[0m\u001b[0;34m(\u001b[0m\u001b[0mkey\u001b[0m\u001b[0;34m)\u001b[0m\u001b[0;34m:\u001b[0m\u001b[0;34m\u001b[0m\u001b[0;34m\u001b[0m\u001b[0m\n\u001b[0;32m-> 1243\u001b[0;31m             \u001b[0;32mreturn\u001b[0m \u001b[0mself\u001b[0m\u001b[0;34m.\u001b[0m\u001b[0m_construct_dataarray\u001b[0m\u001b[0;34m(\u001b[0m\u001b[0mkey\u001b[0m\u001b[0;34m)\u001b[0m\u001b[0;34m\u001b[0m\u001b[0;34m\u001b[0m\u001b[0m\n\u001b[0m\u001b[1;32m   1244\u001b[0m         \u001b[0;32melse\u001b[0m\u001b[0;34m:\u001b[0m\u001b[0;34m\u001b[0m\u001b[0;34m\u001b[0m\u001b[0m\n\u001b[1;32m   1245\u001b[0m             \u001b[0;32mreturn\u001b[0m \u001b[0mself\u001b[0m\u001b[0;34m.\u001b[0m\u001b[0m_copy_listed\u001b[0m\u001b[0;34m(\u001b[0m\u001b[0mnp\u001b[0m\u001b[0;34m.\u001b[0m\u001b[0masarray\u001b[0m\u001b[0;34m(\u001b[0m\u001b[0mkey\u001b[0m\u001b[0;34m)\u001b[0m\u001b[0;34m)\u001b[0m\u001b[0;34m\u001b[0m\u001b[0;34m\u001b[0m\u001b[0m\n",
      "\u001b[0;32m~/anaconda3/envs/tensoflow2/lib/python3.7/site-packages/xarray/core/dataset.py\u001b[0m in \u001b[0;36m_construct_dataarray\u001b[0;34m(self, name)\u001b[0m\n\u001b[1;32m   1152\u001b[0m         \u001b[0;32mexcept\u001b[0m \u001b[0mKeyError\u001b[0m\u001b[0;34m:\u001b[0m\u001b[0;34m\u001b[0m\u001b[0;34m\u001b[0m\u001b[0m\n\u001b[1;32m   1153\u001b[0m             _, name, variable = _get_virtual_variable(\n\u001b[0;32m-> 1154\u001b[0;31m                 \u001b[0mself\u001b[0m\u001b[0;34m.\u001b[0m\u001b[0m_variables\u001b[0m\u001b[0;34m,\u001b[0m \u001b[0mname\u001b[0m\u001b[0;34m,\u001b[0m \u001b[0mself\u001b[0m\u001b[0;34m.\u001b[0m\u001b[0m_level_coords\u001b[0m\u001b[0;34m,\u001b[0m \u001b[0mself\u001b[0m\u001b[0;34m.\u001b[0m\u001b[0mdims\u001b[0m\u001b[0;34m\u001b[0m\u001b[0;34m\u001b[0m\u001b[0m\n\u001b[0m\u001b[1;32m   1155\u001b[0m             )\n\u001b[1;32m   1156\u001b[0m \u001b[0;34m\u001b[0m\u001b[0m\n",
      "\u001b[0;32m~/anaconda3/envs/tensoflow2/lib/python3.7/site-packages/xarray/core/dataset.py\u001b[0m in \u001b[0;36m_get_virtual_variable\u001b[0;34m(variables, key, level_vars, dim_sizes)\u001b[0m\n\u001b[1;32m    144\u001b[0m         \u001b[0mref_var\u001b[0m \u001b[0;34m=\u001b[0m \u001b[0mdim_var\u001b[0m\u001b[0;34m.\u001b[0m\u001b[0mto_index_variable\u001b[0m\u001b[0;34m(\u001b[0m\u001b[0;34m)\u001b[0m\u001b[0;34m.\u001b[0m\u001b[0mget_level_variable\u001b[0m\u001b[0;34m(\u001b[0m\u001b[0mref_name\u001b[0m\u001b[0;34m)\u001b[0m\u001b[0;34m\u001b[0m\u001b[0;34m\u001b[0m\u001b[0m\n\u001b[1;32m    145\u001b[0m     \u001b[0;32melse\u001b[0m\u001b[0;34m:\u001b[0m\u001b[0;34m\u001b[0m\u001b[0;34m\u001b[0m\u001b[0m\n\u001b[0;32m--> 146\u001b[0;31m         \u001b[0mref_var\u001b[0m \u001b[0;34m=\u001b[0m \u001b[0mvariables\u001b[0m\u001b[0;34m[\u001b[0m\u001b[0mref_name\u001b[0m\u001b[0;34m]\u001b[0m\u001b[0;34m\u001b[0m\u001b[0;34m\u001b[0m\u001b[0m\n\u001b[0m\u001b[1;32m    147\u001b[0m \u001b[0;34m\u001b[0m\u001b[0m\n\u001b[1;32m    148\u001b[0m     \u001b[0;32mif\u001b[0m \u001b[0mvar_name\u001b[0m \u001b[0;32mis\u001b[0m \u001b[0;32mNone\u001b[0m\u001b[0;34m:\u001b[0m\u001b[0;34m\u001b[0m\u001b[0;34m\u001b[0m\u001b[0m\n",
      "\u001b[0;31mKeyError\u001b[0m: 'tcc_tcc'"
     ]
    }
   ],
   "source": [
    "for var in VARIABLES: # VARIABLES[:-1]\n",
    "    \n",
    "    alls  = []\n",
    "    dates = []\n",
    "    lands = []\n",
    "    seas  = []\n",
    "    \n",
    "    files = get_all_filesnames_from_one_variable(var)\n",
    "    for i, fil in enumerate(np.sort(files)):\n",
    "        d, region, land, sea = get_date_and_mean_from_one_filename(fil)\n",
    "        \n",
    "        dates.append(d)\n",
    "        alls.append(region)\n",
    "        lands.append(land)\n",
    "        seas.append(sea)\n",
    "        \n",
    "        if i%10 == 0:\n",
    "            print('Number {}. Var {} '.format(i, var))\n",
    "    \n",
    "    storage[var] = alls\n",
    "    storage['land_{}'.format(var)] = lands\n",
    "    storage['sea_{}'.format(var)] = seas\n",
    "    storage['date_{}'.format(var)] = dates # just to check that they are equal\n"
   ]
  },
  {
   "cell_type": "code",
   "execution_count": 19,
   "metadata": {},
   "outputs": [],
   "source": [
    "data = xr.Dataset(storage)\n",
    "data.to_netcdf('/home/hanna/lagrings/results/stats/monthly_mean/monthly_means.nc')"
   ]
  },
  {
   "cell_type": "code",
   "execution_count": 20,
   "metadata": {},
   "outputs": [
    {
     "data": {
      "text/plain": [
       "<xarray.Dataset>\n",
       "Dimensions:   (date_q: 180, date_r: 180, date_sp: 180, date_t2m: 180, land_q: 180, land_r: 180, land_sp: 180, land_t2m: 180, q: 180, r: 180, sea_q: 180, sea_r: 180, sea_sp: 180, sea_t2m: 180, sp: 180, t2m: 180)\n",
       "Coordinates:\n",
       "  * t2m       (t2m) float32 281.83633 282.70535 284.13245 ... 286.3971 283.75046\n",
       "  * land_t2m  (land_t2m) float64 278.1 280.0 282.4 286.1 ... 288.8 283.5 280.1\n",
       "  * sea_t2m   (sea_t2m) float64 286.2 285.8 286.1 287.4 ... 292.5 289.7 288.0\n",
       "  * date_t2m  (date_t2m) datetime64[ns] 2004-01-01 2004-02-01 ... 2018-12-01\n",
       "  * sp        (sp) float32 98225.94 98634.56 98678.89 ... 98291.664 98897.7\n",
       "  * land_sp   (land_sp) float64 9.54e+04 9.581e+04 ... 9.566e+04 9.614e+04\n",
       "  * sea_sp    (sea_sp) float64 1.015e+05 1.019e+05 ... 1.014e+05 1.021e+05\n",
       "  * date_sp   (date_sp) datetime64[ns] 2004-01-01 2004-02-01 ... 2018-12-01\n",
       "  * q         (q) float32 0.0052385144 0.005055673 ... 0.0070216656 0.0058911303\n",
       "  * land_q    (land_q) float64 0.004256 0.004232 0.004638 ... 0.006077 0.004843\n",
       "  * sea_q     (sea_q) float64 0.006384 0.006016 0.006308 ... 0.008123 0.007113\n",
       "  * date_q    (date_q) datetime64[ns] 2004-01-01 2004-02-01 ... 2018-12-01\n",
       "  * r         (r) float32 73.3469 69.28387 68.77819 ... 73.89609 74.36421\n",
       "  * land_r    (land_r) float64 74.04 67.37 64.93 62.91 ... 65.92 74.57 74.31\n",
       "  * sea_r     (sea_r) float64 72.53 71.52 73.27 72.81 ... 74.59 73.11 74.43\n",
       "  * date_r    (date_r) datetime64[ns] 2004-01-01 2004-02-01 ... 2018-12-01\n",
       "Data variables:\n",
       "    *empty*"
      ]
     },
     "execution_count": 20,
     "metadata": {},
     "output_type": "execute_result"
    }
   ],
   "source": [
    "data "
   ]
  },
  {
   "cell_type": "code",
   "execution_count": null,
   "metadata": {},
   "outputs": [],
   "source": []
  },
  {
   "cell_type": "code",
   "execution_count": null,
   "metadata": {},
   "outputs": [],
   "source": []
  },
  {
   "cell_type": "code",
   "execution_count": null,
   "metadata": {},
   "outputs": [],
   "source": []
  },
  {
   "cell_type": "code",
   "execution_count": null,
   "metadata": {},
   "outputs": [],
   "source": []
  }
 ],
 "metadata": {
  "kernelspec": {
   "display_name": "Python 3",
   "language": "python",
   "name": "python3"
  },
  "language_info": {
   "codemirror_mode": {
    "name": "ipython",
    "version": 3
   },
   "file_extension": ".py",
   "mimetype": "text/x-python",
   "name": "python",
   "nbconvert_exporter": "python",
   "pygments_lexer": "ipython3",
   "version": "3.7.6"
  }
 },
 "nbformat": 4,
 "nbformat_minor": 4
}
