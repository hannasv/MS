{
 "cells": [
  {
   "cell_type": "code",
   "execution_count": 2,
   "metadata": {},
   "outputs": [],
   "source": [
    "import pandas as pd\n",
    "#import seaborn as sns\n",
    "import numpy as np\n",
    "#import matplotlib.pyplot as plt\n",
    "import glob\n",
    "from netCDF4 import Dataset\n",
    "import json\n",
    "import xarray as xr\n",
    "#%matplotlib inline"
   ]
  },
  {
   "cell_type": "code",
   "execution_count": 3,
   "metadata": {},
   "outputs": [],
   "source": [
    "save_dir = '/home/hanna/images_simple_statsmodels/'"
   ]
  },
  {
   "cell_type": "code",
   "execution_count": 4,
   "metadata": {},
   "outputs": [],
   "source": [
    "coord_dir = '/home/hanna/Desktop/examples_master_thesis/'"
   ]
  },
  {
   "cell_type": "code",
   "execution_count": 5,
   "metadata": {},
   "outputs": [],
   "source": [
    "coords_fil = glob.glob(coord_dir + '*.nc')[0]"
   ]
  },
  {
   "cell_type": "code",
   "execution_count": 6,
   "metadata": {},
   "outputs": [
    {
     "data": {
      "text/plain": [
       "'/home/hanna/Desktop/examples_master_thesis/W_XX-EUMETSAT-Darmstadt,SING+LEV+SAT,MSG4+CLM_C_EUMG_20190612113000.nc'"
      ]
     },
     "execution_count": 6,
     "metadata": {},
     "output_type": "execute_result"
    }
   ],
   "source": [
    "coords_fil"
   ]
  },
  {
   "cell_type": "code",
   "execution_count": 7,
   "metadata": {},
   "outputs": [],
   "source": [
    "lat_lon = Dataset(coords_fil)"
   ]
  },
  {
   "cell_type": "code",
   "execution_count": 8,
   "metadata": {},
   "outputs": [],
   "source": [
    "lat_array = lat_lon.variables['lat']\n",
    "lon_array = lat_lon.variables['lon']"
   ]
  },
  {
   "cell_type": "code",
   "execution_count": 9,
   "metadata": {},
   "outputs": [],
   "source": [
    "nc_files = glob.glob(save_dir+'*cell*.json')"
   ]
  },
  {
   "cell_type": "code",
   "execution_count": 10,
   "metadata": {},
   "outputs": [
    {
     "data": {
      "text/plain": [
       "['/home/hanna/images_simple_statsmodels/changes_lat_lon_cell-area.json']"
      ]
     },
     "execution_count": 10,
     "metadata": {},
     "output_type": "execute_result"
    }
   ],
   "source": [
    "nc_files"
   ]
  },
  {
   "cell_type": "code",
   "execution_count": 11,
   "metadata": {},
   "outputs": [],
   "source": [
    "def add(a, b):\n",
    "    return np.abs(a) + np.abs(b)\n",
    "\n",
    "def subtract(a, b):\n",
    "    return np.abs(a) - np.abs(b)"
   ]
  },
  {
   "cell_type": "code",
   "execution_count": 12,
   "metadata": {},
   "outputs": [],
   "source": [
    "def read_dlon_dlat(save_dir):\n",
    "    nc_files = glob.glob(save_dir+'*cell*.json')\n",
    "    print(nc_files)\n",
    "    \n",
    "    with open(nc_files[-1]) as f:\n",
    "        d =  json.load(f)\n",
    "        \n",
    "    d_phi      = d['dphi'] \n",
    "    d_theta    = d['dtheta'] \n",
    "    cell_areas = d['cell_area']\n",
    "    lat_array  = d['lat'] \n",
    "    lon_array  = d['lon']\n",
    "    #save_dict_to_json(d, \"changes_lat_lon_cell-area.json\", save_dir = save_dir)\n",
    "    return d_phi, d_theta, cell_areas, lat_array, lon_array"
   ]
  },
  {
   "cell_type": "code",
   "execution_count": 13,
   "metadata": {},
   "outputs": [
    {
     "name": "stdout",
     "output_type": "stream",
     "text": [
      "['/home/hanna/images_simple_statsmodels/changes_lat_lon_cell-area.json']\n"
     ]
    }
   ],
   "source": [
    "d_phi, d_theta, cell_areas, lat_array, lon_array = read_dlon_dlat(save_dir)"
   ]
  },
  {
   "cell_type": "code",
   "execution_count": 14,
   "metadata": {},
   "outputs": [],
   "source": [
    "def area_grid_cell(c_lat, d_lat, d_lon):\n",
    "        \"\"\"\n",
    "        c_lat : float\n",
    "            Centre point longitude, latitude in degrees\n",
    "\n",
    "        d_lat, d_lon : float\n",
    "            delta lat lon in degrees\n",
    "\n",
    "        Returns : area in km^2\n",
    "\n",
    "        cdo : If the grid cell area have to be computed it is scaled with the earth radius to square meters.\n",
    "        \"\"\"\n",
    "        R = 6371000  # in M\n",
    "        # area er egentlig R**2\n",
    "        area = R*(np.sin((c_lat + d_lat)*np.pi/180) - np.sin((c_lat - d_lat)*np.pi/180) )*(2*d_lon*np.pi/180) # R**2\n",
    "        return np.abs(area)\n"
   ]
  },
  {
   "cell_type": "code",
   "execution_count": 15,
   "metadata": {},
   "outputs": [
    {
     "name": "stdout",
     "output_type": "stream",
     "text": [
      "lat = 52.5, lon = 27.5\n"
     ]
    },
    {
     "name": "stderr",
     "output_type": "stream",
     "text": [
      "/home/hanna/anaconda3/envs/sciclouds/lib/python3.6/site-packages/ipykernel_launcher.py:44: RuntimeWarning: invalid value encountered in greater\n",
      "/home/hanna/anaconda3/envs/sciclouds/lib/python3.6/site-packages/ipykernel_launcher.py:44: RuntimeWarning: invalid value encountered in less\n",
      "/home/hanna/anaconda3/envs/sciclouds/lib/python3.6/site-packages/ipykernel_launcher.py:45: RuntimeWarning: invalid value encountered in greater\n",
      "/home/hanna/anaconda3/envs/sciclouds/lib/python3.6/site-packages/ipykernel_launcher.py:45: RuntimeWarning: invalid value encountered in less\n",
      "/home/hanna/anaconda3/envs/sciclouds/lib/python3.6/site-packages/ipykernel_launcher.py:46: RuntimeWarning: invalid value encountered in greater\n",
      "/home/hanna/anaconda3/envs/sciclouds/lib/python3.6/site-packages/ipykernel_launcher.py:46: RuntimeWarning: invalid value encountered in less\n",
      "/home/hanna/anaconda3/envs/sciclouds/lib/python3.6/site-packages/ipykernel_launcher.py:47: RuntimeWarning: invalid value encountered in greater\n",
      "/home/hanna/anaconda3/envs/sciclouds/lib/python3.6/site-packages/ipykernel_launcher.py:47: RuntimeWarning: invalid value encountered in less\n",
      "/home/hanna/anaconda3/envs/sciclouds/lib/python3.6/site-packages/ipykernel_launcher.py:94: RuntimeWarning: invalid value encountered in less\n",
      "/home/hanna/anaconda3/envs/sciclouds/lib/python3.6/site-packages/ipykernel_launcher.py:95: RuntimeWarning: invalid value encountered in greater\n",
      "/home/hanna/anaconda3/envs/sciclouds/lib/python3.6/site-packages/ipykernel_launcher.py:102: RuntimeWarning: invalid value encountered in less\n",
      "/home/hanna/anaconda3/envs/sciclouds/lib/python3.6/site-packages/ipykernel_launcher.py:103: RuntimeWarning: invalid value encountered in greater\n",
      "/home/hanna/anaconda3/envs/sciclouds/lib/python3.6/site-packages/ipykernel_launcher.py:172: RuntimeWarning: invalid value encountered in greater\n",
      "/home/hanna/anaconda3/envs/sciclouds/lib/python3.6/site-packages/ipykernel_launcher.py:173: RuntimeWarning: invalid value encountered in less\n",
      "/home/hanna/anaconda3/envs/sciclouds/lib/python3.6/site-packages/ipykernel_launcher.py:176: RuntimeWarning: invalid value encountered in less\n",
      "/home/hanna/anaconda3/envs/sciclouds/lib/python3.6/site-packages/ipykernel_launcher.py:177: RuntimeWarning: invalid value encountered in greater\n"
     ]
    }
   ],
   "source": [
    "lats = np.arange(30, 56, 0.25)  # numpy split these.\n",
    "lons = np.arange(-15, 30, 0.25) # numpy split these \n",
    "\n",
    "c_lat = np.array(lat_array)\n",
    "c_lon = np.array(lon_array) \n",
    "d_theta = np.array(d_theta) \n",
    "d_phi = np.array(d_phi)\n",
    "\n",
    "write_fil = True\n",
    "era_step = 0.25\n",
    "\n",
    "lats = [52.5]\n",
    "lons = [27.5]\n",
    "\n",
    "data = {}\n",
    "counter = 0\n",
    "for lat in lats:\n",
    "    data[str(lat)] = {}\n",
    "    counter+=1\n",
    "    for lon in lons:\n",
    "        data[str(lat)][str(lon)] = {}\n",
    "        era_AREA = area_grid_cell(lat, era_step/2, era_step/2)\n",
    "        print(\"lat = {}, lon = {}\".format(lat, lon))\n",
    "        era_up    = lat + era_step/2\n",
    "        era_down  = lat - era_step/2\n",
    "        era_left  = lon - era_step/2\n",
    "        era_right = lon + era_step/2\n",
    "\n",
    "        # to ensure correct sign\n",
    "        cmk_left  = c_lon - np.abs(d_phi)   #- era_right\n",
    "        cmk_right = c_lon + np.abs(d_phi)   #- era_left\n",
    "\n",
    "        # TODO : Sjekk d theta og lignende.\n",
    "        cmk_up    = c_lat + np.abs(d_theta) #- era_down\n",
    "        cmk_down  = c_lat - np.abs(d_theta) #- era_up\n",
    "\n",
    "        data[str(lat)][str(lon)]['centre'] = {}\n",
    "        data[str(lat)][str(lon)]['down'] = {}\n",
    "        data[str(lat)][str(lon)]['up'] = {}\n",
    "        data[str(lat)][str(lon)]['right'] = {}\n",
    "        data[str(lat)][str(lon)]['left'] = {}\n",
    "        data[str(lat)][str(lon)]['corner'] = {}\n",
    "\n",
    "        idx_left_boundary  = np.intersect1d(np.argwhere(cmk_right > era_left),  np.argwhere(cmk_left < era_left) )\n",
    "        idx_right_boundary = np.intersect1d(np.argwhere(cmk_right > era_right), np.argwhere(cmk_left < era_right) )\n",
    "        idx_up_boundary    = np.intersect1d(np.argwhere(cmk_up    > era_up),    np.argwhere(cmk_down < era_up) )\n",
    "        idx_down_boundary  = np.intersect1d(np.argwhere(cmk_up    > era_down),  np.argwhere(cmk_down < era_down) )\n",
    "\n",
    "        idx_lower_right_corner = np.intersect1d(idx_down_boundary, idx_right_boundary)\n",
    "        idx_lower_left_corner  = np.intersect1d(idx_down_boundary, idx_left_boundary)\n",
    "        idx_upper_left_corner  = np.intersect1d(idx_up_boundary,   idx_left_boundary)\n",
    "        idx_upper_right_corner = np.intersect1d(idx_up_boundary,   idx_right_boundary)\n",
    "\n",
    "        corner_idx = np.concatenate([idx_lower_right_corner, idx_lower_left_corner,\n",
    "                                     idx_upper_left_corner, idx_upper_right_corner]) \n",
    "        \n",
    "        data[str(lat)][str(lon)]['corner']['index'] = corner_idx.reshape(-1).tolist()\n",
    "\n",
    "        # TODO add new centre corners. And calculate  \n",
    "        llc_dlat = subtract(cmk_up[idx_lower_left_corner], era_down)/2\n",
    "        llc_dlon = subtract(era_left, cmk_right[idx_lower_left_corner])/2\n",
    "        llc_lat  = era_down + llc_dlat\n",
    "        llc_area = area_grid_cell(llc_lat, llc_dlat, llc_dlon)\n",
    "\n",
    "        lrc_dlat = subtract(cmk_up[idx_lower_right_corner], era_down)/2\n",
    "        lrc_dlon = subtract(cmk_left[idx_lower_right_corner], era_right)/2\n",
    "        lrc_lat  = era_down + lrc_dlat\n",
    "        lrc_area = area_grid_cell(lrc_lat, lrc_dlat, lrc_dlon)\n",
    "\n",
    "        ulc_dlat = subtract(era_up, cmk_down[idx_upper_left_corner])/2\n",
    "        ulc_dlon = subtract(era_left, cmk_right[idx_upper_left_corner])/2\n",
    "        ulc_lat  = era_up - ulc_dlat\n",
    "        \n",
    "        ulc_area = area_grid_cell(ulc_lat, ulc_dlat, ulc_dlon)\n",
    "\n",
    "        urc_dlat = subtract(era_up, cmk_down[idx_upper_right_corner])/2\n",
    "        urc_dlon = subtract(cmk_left[idx_upper_right_corner], era_right)/2\n",
    "        urc_lat  = era_up - urc_dlat\n",
    "        \n",
    "        urc_area = area_grid_cell(urc_lat, urc_dlat, urc_dlon)\n",
    "\n",
    "        corner_areas = np.array([lrc_area, llc_area, ulc_area, urc_area])\n",
    "        data[str(lat)][str(lon)]['corner']['area'] = np.concatenate(corner_areas).reshape(-1).tolist()\n",
    "\n",
    "        # Removes Corners\n",
    "        # TODO test if this removes indecies. \n",
    "        idx_down_boundary = np.array(idx_down_boundary)[np.isin(idx_down_boundary, corner_idx, invert = True)]\n",
    "        idx_up_boundary = np.array(idx_up_boundary)[np.isin(idx_up_boundary, corner_idx, invert = True)]\n",
    "        idx_left_boundary = np.array(idx_left_boundary)[np.isin(idx_left_boundary, corner_idx, invert = True)]\n",
    "        idx_right_boundary = np.array(idx_right_boundary)[np.isin(idx_right_boundary, corner_idx, invert = True)]    \n",
    "        #idx_down_boundary = np.array(idx_down_boundary)[np.isin(idx_down_boundary, corner_idx invert = True)]\n",
    "                       \n",
    "        # subsection left boundary OLD\n",
    "        low_bound = np.argwhere(cmk_down[idx_left_boundary] < era_up  )\n",
    "        up_bound  = np.argwhere(cmk_up[idx_left_boundary]   > era_down )\n",
    "        sub_section_left = np.intersect1d(low_bound, up_bound)\n",
    "        idx_l = np.array(idx_left_boundary)[np.array(sub_section_left)]\n",
    "        idx_left = idx_l[np.isin(idx_l, corner_idx, invert = True)].tolist()\n",
    "        data[str(lat)][str(lon)]['left']['index'] = idx_left\n",
    "\n",
    "        # subsection right boundary\n",
    "        low_bound = np.argwhere( cmk_down[idx_right_boundary] < era_up )\n",
    "        up_bound  = np.argwhere( cmk_up[idx_right_boundary] > era_down)\n",
    "        sub_section_right = np.intersect1d(low_bound, up_bound)\n",
    "\n",
    "        idx_r = np.array(idx_right_boundary)[np.array(sub_section_right)]\n",
    "        idx_right = idx_r[np.isin(idx_r, corner_idx, invert = True)].tolist()\n",
    "        data[str(lat)][str(lon)]['right']['index'] = idx_right\n",
    "\n",
    "        # Subsection Down Boundary\n",
    "        one = np.argwhere(cmk_left[idx_down_boundary]  > era_left)\n",
    "        two = np.argwhere(cmk_right[idx_down_boundary] < era_right)\n",
    "        sub_section_down = np.intersect1d(one, two)\n",
    "        idx_d = np.array(idx_down_boundary)[np.array(sub_section_down)]\n",
    "        idx_down = idx_d[np.isin(idx_d, corner_idx, invert = True)].tolist()\n",
    "        data[str(lat)][str(lon)]['down']['index'] =  idx_down\n",
    "        #sub_section_down.reshape(-1).tolist()\n",
    "\n",
    "        # subsection up boundary\n",
    "        one = np.argwhere( cmk_left[idx_up_boundary]  > era_left)\n",
    "        two = np.argwhere( cmk_right[idx_up_boundary] < era_right)\n",
    "        sub_section_up = np.intersect1d(one, two)\n",
    "        print(sub_section_up)\n",
    "        idx_u = np.array(idx_up_boundary)[np.array(sub_section_up)]\n",
    "        idx_up = idx_u[np.isin(idx_u, corner_idx, invert = True)].tolist()\n",
    "        data[str(lat)][str(lon)]['up']['index'] = idx_up\n",
    "\n",
    "        # test that these are empty\n",
    "        t1 = np.intersect1d(idx_d, idx_u)\n",
    "        t2 = np.intersect1d(idx_r, idx_l)\n",
    "        # assert len(t1) == len(t2) == 0, \"intercept up down  {}, intersect left right {}.\".format(t1, t2)\n",
    "\n",
    "        if len(t1) != 0:\n",
    "            print(\"\\n Problem up, down lat {} lon {}. \\n\".format(lat, lon))\n",
    "\n",
    "\n",
    "        if len(t2) != 0:\n",
    "            print(\"\\n Problem left, right lat {} lon {}. \\n\".format(lat, lon))\n",
    "        # Calculate Boundaries\n",
    "\n",
    "        # AREA left boundary\n",
    "        dlon_lf = subtract(cmk_right[idx_left], era_left)/2 \n",
    "        dlat_lf = d_theta[idx_left]\n",
    "        lat_lf  = c_lat[idx_left]\n",
    "        left_areas = area_grid_cell(lat_lf, dlat_lf, np.abs(dlon_lf))\n",
    "        data[str(lat)][str(lon)]['left']['area'] = left_areas.reshape(-1).tolist()\n",
    "\n",
    "        # AREA right boundary -- her er problemet !!!!!!!!\n",
    "        dlon_rb = subtract(era_right, cmk_left[idx_right])/2\n",
    "        dlat_rb = d_theta[idx_right]\n",
    "        lat_rb  = c_lat[idx_right]\n",
    "        right_area = area_grid_cell(lat_rb, dlat_rb, np.abs(dlon_rb)) \n",
    "        data[str(lat)][str(lon)]['right']['area'] = right_area.ravel().tolist()\n",
    "\n",
    "        # AREA down boundary\n",
    "        dlat_down = subtract(era_down, cmk_up[idx_down])/2\n",
    "        lat_down = era_down + dlat_down\n",
    "        dlon_down = d_phi[idx_down]\n",
    "        down_area = area_grid_cell(lat_down, dlat_down, dlon_down)\n",
    "        data[str(lat)][str(lon)]['down']['area'] = down_area.reshape(-1).tolist()\n",
    " \n",
    "        # AREA up\n",
    "        dlat_up = subtract(era_up, cmk_down[idx_up])/2\n",
    "        lat_up = era_up - dlat_up\n",
    "        #lon_up = c_lon[idx_up_boundary][sub_section_up]\n",
    "        dlon_up = d_phi[idx_up]\n",
    "        up_area = area_grid_cell(lat_up, dlat_up, np.abs(dlon_up))\n",
    "        data[str(lat)][str(lon)]['up']['area'] = up_area.reshape(-1).tolist()\n",
    "        # = np.sum(up_area)\n",
    "\n",
    "        # Index centres. Can safly assume centre cells are correct.\n",
    "        idx_centre_one = np.intersect1d(np.argwhere(cmk_left  > era_left),\n",
    "                                        np.argwhere(cmk_right < era_right))\n",
    "\n",
    "\n",
    "        idx_centre_two = np.intersect1d(np.argwhere(cmk_up   < era_up),\n",
    "                                        np.argwhere(cmk_down >  era_down))\n",
    "\n",
    "        idx_centre_cells = np.intersect1d( idx_centre_one, idx_centre_two )\n",
    "        data[str(lat)][str(lon)]['centre']['index'] = idx_centre_cells.ravel().tolist()\n",
    "\n",
    "        lat_centre_cells = c_lat[idx_centre_cells]\n",
    "        dlat_centre      = d_theta[idx_centre_cells]\n",
    "        dlon_centre      = d_phi[idx_centre_cells]\n",
    "        \n",
    "        centre_area      = area_grid_cell(lat_centre_cells, dlat_centre, dlon_centre)\n",
    "\n",
    "        data[str(lat)][str(lon)]['centre']['area'] = centre_area.reshape(-1).tolist()\n",
    "\n",
    "    #filnavn = 'ERA5_grid_resample_includes_changes_to_indexes_from_{}_{}.json'.format(float(lat)-5, lat)\n",
    "    #if lat%5==0 and lat > 30:\n",
    "    #    print(\"Saves file every lat {} lon {}.\".format(lat, lon))\n",
    "    filnavn = 'ERA5_grid_resample_test_right_boundary_{}_{}.json'.format(float(lat), lon)\n",
    "    with open(save_dir + filnavn, 'w') as f:\n",
    "        json.dump(data, f)\n",
    "    #data = {}\n",
    "\n",
    "#filnavn = 'ERA5_grid_resample_includes_lat{}_lon{}.json'.format(lat, lon)\n",
    "#with open(save_dir + filnavn, 'w') as f:\n",
    "#    json.dump(data[str(lat)][str(lon)], f)\n",
    "#data = {}        \n"
   ]
  },
  {
   "cell_type": "code",
   "execution_count": 16,
   "metadata": {},
   "outputs": [
    {
     "name": "stdout",
     "output_type": "stream",
     "text": [
      "{'52.5': {'27.5': {'centre': {'index': [12604649, 12604650, 12604651, 12608360, 12608361, 12608362, 12608363, 12612072, 12612073, 12612074, 12615783, 12615784, 12615785], 'area': [4.188149258453053, 4.193815026918698, 4.199217043244294, 4.196536272247417, 4.202271147366084, 4.207874328008221, 4.21341034037004, 4.21076716926, 4.216435184082651, 4.222108472073302, 4.219367232976641, 4.224972081200086, 4.230778341051892]}, 'down': {'index': [12600938, 12600939, 12600940], 'area': [0.7629532365066963, 1.07453645580619, 1.3876369724046786]}, 'up': {'index': [], 'area': []}, 'right': {'index': [12604652, 12608364, 12612075], 'area': [3.8065038338790944, 0.5221556303025091, 1.4387007683424107]}, 'left': {'index': [12604648, 12608359, 12612071, 12615782], 'area': [1.5082267203817468, 0.5676240854604291, 3.8359329170775758, 2.9115155070030343]}, 'corner': {'index': [12600941, 12600937, 12615786], 'area': [1.1650089377177455, 0.26617004725968824, 2.2060012633788837]}}}}\n"
     ]
    }
   ],
   "source": [
    "print(data)"
   ]
  },
  {
   "cell_type": "code",
   "execution_count": 17,
   "metadata": {},
   "outputs": [],
   "source": [
    "filnavn = 'ERA5_grid_resample_includes_lat{}_lon{}.json'.format(lat, lon)\n",
    "with open(save_dir + filnavn, 'w') as f:\n",
    "    json.dump(data, f)\n",
    "#data = {}"
   ]
  },
  {
   "cell_type": "code",
   "execution_count": null,
   "metadata": {},
   "outputs": [],
   "source": []
  },
  {
   "cell_type": "code",
   "execution_count": null,
   "metadata": {},
   "outputs": [],
   "source": []
  },
  {
   "cell_type": "code",
   "execution_count": 18,
   "metadata": {
    "scrolled": true
   },
   "outputs": [
    {
     "data": {
      "text/plain": [
       "{'52.5': {'27.5': {'centre': {'index': [12604649,\n",
       "     12604650,\n",
       "     12604651,\n",
       "     12608360,\n",
       "     12608361,\n",
       "     12608362,\n",
       "     12608363,\n",
       "     12612072,\n",
       "     12612073,\n",
       "     12612074,\n",
       "     12615783,\n",
       "     12615784,\n",
       "     12615785],\n",
       "    'area': [4.188149258453053,\n",
       "     4.193815026918698,\n",
       "     4.199217043244294,\n",
       "     4.196536272247417,\n",
       "     4.202271147366084,\n",
       "     4.207874328008221,\n",
       "     4.21341034037004,\n",
       "     4.21076716926,\n",
       "     4.216435184082651,\n",
       "     4.222108472073302,\n",
       "     4.219367232976641,\n",
       "     4.224972081200086,\n",
       "     4.230778341051892]},\n",
       "   'down': {'index': [12600938, 12600939, 12600940],\n",
       "    'area': [0.7629532365066963, 1.07453645580619, 1.3876369724046786]},\n",
       "   'up': {'index': [], 'area': []},\n",
       "   'right': {'index': [12604652, 12608364, 12612075],\n",
       "    'area': [3.8065038338790944, 0.5221556303025091, 1.4387007683424107]},\n",
       "   'left': {'index': [12604648, 12608359, 12612071, 12615782],\n",
       "    'area': [1.5082267203817468,\n",
       "     0.5676240854604291,\n",
       "     3.8359329170775758,\n",
       "     2.9115155070030343]},\n",
       "   'corner': {'index': [12600941, 12600937, 12615786],\n",
       "    'area': [1.1650089377177455, 0.26617004725968824, 2.2060012633788837]}}}}"
      ]
     },
     "execution_count": 18,
     "metadata": {},
     "output_type": "execute_result"
    }
   ],
   "source": [
    "data"
   ]
  },
  {
   "cell_type": "code",
   "execution_count": 19,
   "metadata": {
    "scrolled": true
   },
   "outputs": [
    {
     "data": {
      "text/plain": [
       "{'centre': {'index': [12604649,\n",
       "   12604650,\n",
       "   12604651,\n",
       "   12608360,\n",
       "   12608361,\n",
       "   12608362,\n",
       "   12608363,\n",
       "   12612072,\n",
       "   12612073,\n",
       "   12612074,\n",
       "   12615783,\n",
       "   12615784,\n",
       "   12615785],\n",
       "  'area': [4.188149258453053,\n",
       "   4.193815026918698,\n",
       "   4.199217043244294,\n",
       "   4.196536272247417,\n",
       "   4.202271147366084,\n",
       "   4.207874328008221,\n",
       "   4.21341034037004,\n",
       "   4.21076716926,\n",
       "   4.216435184082651,\n",
       "   4.222108472073302,\n",
       "   4.219367232976641,\n",
       "   4.224972081200086,\n",
       "   4.230778341051892]},\n",
       " 'down': {'index': [12600938, 12600939, 12600940],\n",
       "  'area': [0.7629532365066963, 1.07453645580619, 1.3876369724046786]},\n",
       " 'up': {'index': [], 'area': []},\n",
       " 'right': {'index': [12604652, 12608364, 12612075],\n",
       "  'area': [3.8065038338790944, 0.5221556303025091, 1.4387007683424107]},\n",
       " 'left': {'index': [12604648, 12608359, 12612071, 12615782],\n",
       "  'area': [1.5082267203817468,\n",
       "   0.5676240854604291,\n",
       "   3.8359329170775758,\n",
       "   2.9115155070030343]},\n",
       " 'corner': {'index': [12600941, 12600937, 12615786],\n",
       "  'area': [1.1650089377177455, 0.26617004725968824, 2.2060012633788837]}}"
      ]
     },
     "execution_count": 19,
     "metadata": {},
     "output_type": "execute_result"
    }
   ],
   "source": [
    "data[str(lat)][str(lon)]"
   ]
  },
  {
   "cell_type": "code",
   "execution_count": 21,
   "metadata": {},
   "outputs": [],
   "source": [
    "#import simplejson as json"
   ]
  },
  {
   "cell_type": "code",
   "execution_count": 22,
   "metadata": {},
   "outputs": [],
   "source": [
    "def save(data, filnavn):\n",
    "    #filnavn = 'ERA5_grid_resample_counter{}_lat{}_lon{}.json'.format(counter, lat, lon)\n",
    "    with open(save_dir + filnavn, 'w') as f:\n",
    "        json.dump(data, f)\n",
    "#data = {}"
   ]
  },
  {
   "cell_type": "code",
   "execution_count": 23,
   "metadata": {},
   "outputs": [
    {
     "name": "stdout",
     "output_type": "stream",
     "text": [
      "[12604649, 12604650, 12604651, 12608360, 12608361, 12608362, 12608363, 12612072, 12612073, 12612074, 12615783, 12615784, 12615785]\n",
      "[4.188149258453053, 4.193815026918698, 4.199217043244294, 4.196536272247417, 4.202271147366084, 4.207874328008221, 4.21341034037004, 4.21076716926, 4.216435184082651, 4.222108472073302, 4.219367232976641, 4.224972081200086, 4.230778341051892]\n",
      "[12600938, 12600939, 12600940]\n",
      "[0.7629532365066963, 1.07453645580619, 1.3876369724046786]\n",
      "[]\n",
      "[]\n",
      "[12604652, 12608364, 12612075]\n",
      "[3.8065038338790944, 0.5221556303025091, 1.4387007683424107]\n",
      "[12604648, 12608359, 12612071, 12615782]\n",
      "[1.5082267203817468, 0.5676240854604291, 3.8359329170775758, 2.9115155070030343]\n",
      "[12600941, 12600937, 12615786]\n",
      "[1.1650089377177455, 0.26617004725968824, 2.2060012633788837]\n"
     ]
    }
   ],
   "source": [
    "for key, item in data.items():\n",
    "    for key2, item2 in item.items():\n",
    "        #save(item2, \"a.json\")\n",
    "        for key3, item3 in item2.items():\n",
    "            #save(item3, \"b.json\")\n",
    "            for key4, item4 in item3.items():\n",
    "                #save(item4, \"c.json\")\n",
    "                print(item4)"
   ]
  },
  {
   "cell_type": "code",
   "execution_count": 24,
   "metadata": {},
   "outputs": [
    {
     "data": {
      "text/plain": [
       "dict"
      ]
     },
     "execution_count": 24,
     "metadata": {},
     "output_type": "execute_result"
    }
   ],
   "source": [
    "type(item)"
   ]
  },
  {
   "cell_type": "code",
   "execution_count": null,
   "metadata": {},
   "outputs": [],
   "source": [
    "import json"
   ]
  },
  {
   "cell_type": "code",
   "execution_count": null,
   "metadata": {},
   "outputs": [],
   "source": [
    "filnavn = 'ERA5_grid_resample_counter{}_lat{}_lon{}.json'.format(counter, lat, lon)\n",
    "with open(save_dir + filnavn, 'w') as f:\n",
    "    json.dump(item, f)"
   ]
  },
  {
   "cell_type": "code",
   "execution_count": null,
   "metadata": {},
   "outputs": [],
   "source": [
    "glob.glob(save_dir + '*json')"
   ]
  },
  {
   "cell_type": "code",
   "execution_count": null,
   "metadata": {},
   "outputs": [],
   "source": [
    "counter"
   ]
  },
  {
   "cell_type": "code",
   "execution_count": null,
   "metadata": {},
   "outputs": [],
   "source": []
  }
 ],
 "metadata": {
  "kernelspec": {
   "display_name": "Python 2",
   "language": "python",
   "name": "python2"
  },
  "language_info": {
   "codemirror_mode": {
    "name": "ipython",
    "version": 2
   },
   "file_extension": ".py",
   "mimetype": "text/x-python",
   "name": "python",
   "nbconvert_exporter": "python",
   "pygments_lexer": "ipython2",
   "version": "2.7.15"
  }
 },
 "nbformat": 4,
 "nbformat_minor": 4
}
