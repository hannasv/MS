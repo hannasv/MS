{
 "cells": [
  {
   "cell_type": "code",
   "execution_count": 1,
   "metadata": {},
   "outputs": [],
   "source": [
    "import os\n",
    "import glob\n",
    "\n",
    "import xarray as xr\n",
    "import numpy as np"
   ]
  },
  {
   "cell_type": "code",
   "execution_count": 13,
   "metadata": {},
   "outputs": [],
   "source": [
    "base = '/home/hanna/lagrings/results/stats/test/'"
   ]
  },
  {
   "cell_type": "code",
   "execution_count": 3,
   "metadata": {},
   "outputs": [
    {
     "data": {
      "text/plain": [
       "['/home/hanna/lagrings/results/stats/test/stats_pixel_q_all.nc',\n",
       " '/home/hanna/lagrings/results/stats/test/stats_pixel_r_all.nc',\n",
       " '/home/hanna/lagrings/results/stats/test/stats_pixel_sp_all.nc',\n",
       " '/home/hanna/lagrings/results/stats/test/stats_pixel_t2m_all.nc',\n",
       " '/home/hanna/lagrings/results/stats/test/stats_pixel_tcc_all.nc']"
      ]
     },
     "execution_count": 3,
     "metadata": {},
     "output_type": "execute_result"
    }
   ],
   "source": [
    "glob.glob(ll + '*pixel*all*.nc')"
   ]
  },
  {
   "cell_type": "code",
   "execution_count": 4,
   "metadata": {},
   "outputs": [],
   "source": [
    "def min_max_scaling():\n",
    "    \"\"\" Forces all values to be between 0 and 1. \n",
    "    \"\"\"\n",
    "    n_times, n_lat, n_lon, n_vars = dummy.shape\n",
    "    transformed = np.zeros(dummy.shape)\n",
    "    for j, var in enumerate(VARIABLES):\n",
    "\n",
    "        vmin = xr.open_dataset(base + 'stats_pixel_{}_all.nc'.format(var))['min'].values\n",
    "        vmax = xr.open_dataset(base + 'stats_pixel_{}_all.nc'.format(var))['max'].values\n",
    "        \n",
    "        if var == 'tcc':\n",
    "            # Something wierd with the rotation of cloud cover values\n",
    "            vmin = np.flipud(vmin)\n",
    "            vmax = np.flipud(vmax)\n",
    "\n",
    "        for i in range(n_times):\n",
    "            transformed[i, :, :, j] =  (dummy[i, :, :, j]  - vmin)/(vmax-vmin)\n",
    "    return transformed\n",
    "\n",
    "def normalization(dummy = np.random.random(( 744, 81, 161, 5))):\n",
    "    \"\"\" Normalizes the distribution. It is centered around the mean with std of 1.\n",
    "    \n",
    "    Subtract the mean divide by the standard deviation. \"\"\"\n",
    "    from sclouds.helpers import VARIABLES\n",
    "    n_times, n_lat, n_lon, n_vars = dummy.shape\n",
    "    transformed = np.zeros(dummy.shape)\n",
    "    for j, var in enumerate(VARIABLES):\n",
    "\n",
    "        m = xr.open_dataset(base + 'stats_pixel_{}_all.nc'.format(var))['mean'].values\n",
    "        s = xr.open_dataset(base + 'stats_pixel_{}_all.nc'.format(var))['std'].values\n",
    "\n",
    "        if var == 'tcc':\n",
    "            # Something wierd with the rotation of cloud cover values\n",
    "            m = np.flipud(m)\n",
    "            s = np.flipud(s)\n",
    "\n",
    "        for i in range(n_times):\n",
    "            transformed[i, :, :, j] =  (dummy[i, :, :, j]  - m)/s\n",
    "    return transformed"
   ]
  },
  {
   "cell_type": "markdown",
   "metadata": {},
   "source": [
    "## OBS OBS : the cloud cover might be upside down"
   ]
  },
  {
   "cell_type": "code",
   "execution_count": null,
   "metadata": {},
   "outputs": [],
   "source": [
    "def reverse_min_max_scaling():\n",
    "    \"\"\" Forces all values to be between 0 and 1. \n",
    "    \"\"\"\n",
    "    n_times, n_lat, n_lon, n_vars = dummy.shape\n",
    "    transformed = np.zeros(dummy.shape)\n",
    "    for j, var in enumerate(VARIABLES):\n",
    "\n",
    "        vmin = xr.open_dataset(base + 'stats_pixel_{}_all.nc'.format(var))['min'].values\n",
    "        vmax = xr.open_dataset(base + 'stats_pixel_{}_all.nc'.format(var))['max'].values\n",
    "        \n",
    "        if var == 'tcc':\n",
    "            # Something wierd with the rotation of cloud cover values\n",
    "            vmin = np.flipud(vmin)\n",
    "            vmax = np.flipud(vmax)\n",
    "\n",
    "        for i in range(n_times):\n",
    "            transformed[i, :, :, j] =  (dummy[i, :, :, j] + vmin)*(vmax-vmin)\n",
    "    return transformed\n",
    "\n",
    "def reverse_normalization(dummy = np.random.random(( 744, 81, 161, 5))):\n",
    "    \"\"\" Normalizes the distribution. It is centered around the mean with std of 1.\n",
    "    \n",
    "    Subtract the mean divide by the standard deviation. \"\"\"\n",
    "    from sclouds.helpers import VARIABLES\n",
    "    n_times, n_lat, n_lon, n_vars = dummy.shape\n",
    "    transformed = np.zeros(dummy.shape)\n",
    "    for j, var in enumerate(VARIABLES):\n",
    "\n",
    "        m = xr.open_dataset(base + 'stats_pixel_{}_all.nc'.format(var))['mean'].values\n",
    "        s = xr.open_dataset(base + 'stats_pixel_{}_all.nc'.format(var))['std'].values\n",
    "\n",
    "        if var == 'tcc':\n",
    "            # Something wierd with the rotation of cloud cover values\n",
    "            m = np.flipud(m)\n",
    "            s = np.flipud(s)\n",
    "\n",
    "        for i in range(n_times):\n",
    "            transformed[i, :, :, j] =  (dummy[i, :, :, j]  + m)*s\n",
    "    return transformed"
   ]
  },
  {
   "cell_type": "code",
   "execution_count": null,
   "metadata": {},
   "outputs": [],
   "source": []
  }
 ],
 "metadata": {
  "kernelspec": {
   "display_name": "Python 3",
   "language": "python",
   "name": "python3"
  },
  "language_info": {
   "codemirror_mode": {
    "name": "ipython",
    "version": 3
   },
   "file_extension": ".py",
   "mimetype": "text/x-python",
   "name": "python",
   "nbconvert_exporter": "python",
   "pygments_lexer": "ipython3",
   "version": "3.7.6"
  }
 },
 "nbformat": 4,
 "nbformat_minor": 4
}
