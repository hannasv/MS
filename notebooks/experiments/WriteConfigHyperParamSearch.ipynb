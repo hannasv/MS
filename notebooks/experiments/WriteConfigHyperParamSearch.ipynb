{
 "cells": [
  {
   "cell_type": "code",
   "execution_count": 1,
   "metadata": {},
   "outputs": [],
   "source": [
    "import json\n",
    "import torch\n",
    "import numpy as np"
   ]
  },
  {
   "cell_type": "markdown",
   "metadata": {},
   "source": [
    "## List of hyperparameters\n",
    "* Learning rate\n",
    "    * Momentum decay\n",
    "    * or step learningrate\n",
    "* Batch size - 32\n",
    "    * Explained: The batch size is a hyperparameter that defines the number of samples to work through before updating the internal model parameters.\n",
    "    \n",
    "* Number of Epochs (include early stopping) - 100 step learning rate on [30, 50]\n",
    "* Paths for:\n",
    "    * training data \n",
    "    * test data \n",
    "    * Storing and restoring models \n",
    "    \n",
    "* Optimizer\n",
    "    * Adam\n",
    "    * RMSprop\n",
    "    * AdaGrad\n",
    "    \n",
    "* Model:\n",
    "    * Config hidden layers \n",
    "        * hidden_channels = [256, 128, 64, 1]\n",
    "\n",
    "    * Padding : 'same'  \n",
    "\n",
    "    * kernal size \n",
    "        * constant or list[hiddenLayers]\n",
    "\n",
    "    * dilation rate \n",
    "        * layer dependant?\n",
    "\n",
    "    * initializa weights \n",
    "    * initialize bias"
   ]
  },
  {
   "cell_type": "code",
   "execution_count": 2,
   "metadata": {},
   "outputs": [],
   "source": [
    "# The impact of using return_sequences is that the model will classify each frame in one category.\n",
    "\n",
    "DATA_FORMAT        = 'channel_last'\n",
    "PADDING            = 'same'\n",
    "RETURN_SEQUENCE    = True\n",
    "NUM_INPUT_VARS     = 4\n",
    "OUTPUT_KERNEL_SIZE = 1\n",
    "OUTPUT_FILTER      = 1\n",
    "\n",
    "from sclouds.helpers import get_lon_array, get_lat_array\n",
    "\n",
    "n_lon = len(get_lon_array())\n",
    "n_lat = len(get_lat_array())\n",
    "\n",
    "# -- Preparatory code -- #############\n",
    "# Model configuration    #############\n",
    "batch_size = 100\n",
    "no_epochs = 30\n",
    "learning_rate = 0.001\n",
    "validation_split = 0.2\n",
    "verbosity = 1\n",
    "########################################\n",
    "\n",
    "\n",
    "def build_model(hp):\n",
    "    \"\"\"\" Building a ConvLSTM model for predicting cloud cover.\n",
    "    All filters are squared. Adding the architecture.\n",
    "\n",
    "    Parameteres\n",
    "    ------------------------\n",
    "    filters : array like\n",
    "        use length of this to infer the depth of the network.\n",
    "\n",
    "\n",
    "    Returns\n",
    "    ------------------------\n",
    "    model : tensorflow.keras.Sequential\n",
    "        Builded model\n",
    "    \"\"\"\n",
    "    # TODO : update with activations?\n",
    "    # recurrent_activation='hard_sigmoid'\n",
    "    #                   , activation='tanh'\n",
    "    filters, kernels, seq_length = 24\n",
    "    \n",
    "    model =  Sequential()\n",
    "    # Adding the first layer\n",
    "    seq.add(ConvLSTM3D(filters = filters[0],\n",
    "                       kernel_size = (kernels[0], kernels[0], NUM_INPUT_VARS),\n",
    "                       input_shape = (seq_length, n_lat, n_lon, NUM_INPUT_VARS),\n",
    "                       kernel_initializer='glorot_uniform',\n",
    "                       padding = PADDING,\n",
    "                       return_sequences=RETURN_SEQUENCE,\n",
    "                       data_format=DATA_FORMAT))\n",
    "\n",
    "    prev_filter = filters[0]\n",
    "    for i, filter, kernal in enumerate(zip(filters[1:], kernels[1:])):\n",
    "        # Begin with 3D convolutional LSTM layer\n",
    "        seq.add(keras.layers.ConvLSTM3D(filters=filter,\n",
    "                                        kernel_size=(kernal, kernel, prev_filter),\n",
    "                                        kernel_initializer='glorot_uniform',\n",
    "                                        padding = PADDING,\n",
    "                                        return_sequences=RETURN_SEQUENCE,\n",
    "                                        data_format=DATA_FORMAT))\n",
    "        prev_filter = filter\n",
    "    # Adding the last layer\n",
    "    seq.add(keras.layers.ConvLSTM3D(filters=OUTPUT_FILTER,\n",
    "                                    kernel_size=(1, 1, prev_filter),\n",
    "                                    kernel_initializer='glorot_uniform',\n",
    "                                    padding = PADDING,\n",
    "                                    return_sequences=RETURN_SEQUENCE,\n",
    "                                    data_format=DATA_FORMAT))\n",
    "\n",
    "    return model\n"
   ]
  },
  {
   "cell_type": "code",
   "execution_count": null,
   "metadata": {},
   "outputs": [],
   "source": [
    "filters=hp.Choice(\n",
    "    'num_filters',\n",
    "    values=[32, 64],\n",
    "    default=64,\n",
    "),"
   ]
  },
  {
   "cell_type": "code",
   "execution_count": 22,
   "metadata": {},
   "outputs": [],
   "source": [
    "path = '/uio/lagringshotell/geofag/students/metos/hannasv/era_interim_data/storedModel/'"
   ]
  },
  {
   "cell_type": "code",
   "execution_count": 23,
   "metadata": {},
   "outputs": [],
   "source": [
    "with open(path + 'config.json', 'w') as config_file:\n",
    "    json.dump(hp, config_file)"
   ]
  },
  {
   "cell_type": "code",
   "execution_count": null,
   "metadata": {},
   "outputs": [],
   "source": []
  },
  {
   "cell_type": "code",
   "execution_count": null,
   "metadata": {},
   "outputs": [],
   "source": [
    "tuner = RandomSearch(build_model,\n",
    "                     objective='mean_squared_error',\n",
    "                     max_trials=5,\n",
    "                     executions_per_trial=3,\n",
    "                     directory='my_dir',\n",
    "                     project_name='helloworld')"
   ]
  },
  {
   "cell_type": "code",
   "execution_count": null,
   "metadata": {},
   "outputs": [],
   "source": [
    "tuner.search(x, y,\n",
    "             epochs=5,\n",
    "             validation_data=(val_x, val_y))"
   ]
  },
  {
   "cell_type": "code",
   "execution_count": null,
   "metadata": {},
   "outputs": [],
   "source": [
    "tuner.search_space_summary() # printing search space summary "
   ]
  },
  {
   "cell_type": "code",
   "execution_count": null,
   "metadata": {},
   "outputs": [],
   "source": [
    "tuner.results_summary()      # printing result summary"
   ]
  },
  {
   "cell_type": "code",
   "execution_count": null,
   "metadata": {},
   "outputs": [],
   "source": [
    "models = tuner.get_best_models(num_models=2)"
   ]
  },
  {
   "cell_type": "code",
   "execution_count": null,
   "metadata": {},
   "outputs": [],
   "source": []
  },
  {
   "cell_type": "code",
   "execution_count": null,
   "metadata": {},
   "outputs": [],
   "source": [
    "def keras_custom_loss_function(y_actual, y_predict):\n",
    "    \"\"\"  \"\"\"\n",
    "    import numpy as np\n",
    "    return np.square(np.subtract(y_true, y_pred)).sum(axis = 0)"
   ]
  }
 ],
 "metadata": {
  "kernelspec": {
   "display_name": "Python 3",
   "language": "python",
   "name": "python3"
  },
  "language_info": {
   "codemirror_mode": {
    "name": "ipython",
    "version": 3
   },
   "file_extension": ".py",
   "mimetype": "text/x-python",
   "name": "python",
   "nbconvert_exporter": "python",
   "pygments_lexer": "ipython3",
   "version": "3.7.3"
  }
 },
 "nbformat": 4,
 "nbformat_minor": 4
}
