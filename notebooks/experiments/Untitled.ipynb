{
 "cells": [
  {
   "cell_type": "markdown",
   "metadata": {},
   "source": [
    "# Testing storage methods,"
   ]
  },
  {
   "cell_type": "code",
   "execution_count": 26,
   "metadata": {},
   "outputs": [],
   "source": [
    "import tensorflow as tf\n",
    "from tensorflow import keras\n",
    "from tensorflow.keras import layers"
   ]
  },
  {
   "cell_type": "code",
   "execution_count": 32,
   "metadata": {},
   "outputs": [],
   "source": [
    "my_callbacks = [\n",
    "    tf.keras.callbacks.EarlyStopping(patience=2),\n",
    "    tf.keras.callbacks.ModelCheckpoint(filepath='model.{epoch:02d}.h5'),\n",
    "    tf.keras.callbacks.TensorBoard(log_dir='./logs'),\n",
    "]"
   ]
  },
  {
   "cell_type": "code",
   "execution_count": 34,
   "metadata": {},
   "outputs": [
    {
     "name": "stdout",
     "output_type": "stream",
     "text": [
      "Train on 2 samples, validate on 1 samples\n",
      "Epoch 1/30\n",
      "2/2 [==============================] - 1s 341ms/sample - loss: 0.8988 - val_loss: 0.8883\n",
      "Epoch 2/30\n",
      "2/2 [==============================] - 0s 50ms/sample - loss: 0.8883 - val_loss: 0.8807\n",
      "Epoch 3/30\n",
      "2/2 [==============================] - 0s 17ms/sample - loss: 0.8807 - val_loss: 0.8744\n",
      "Epoch 4/30\n",
      "2/2 [==============================] - 0s 28ms/sample - loss: 0.8744 - val_loss: 0.8687\n",
      "Epoch 5/30\n",
      "2/2 [==============================] - 0s 19ms/sample - loss: 0.8687 - val_loss: 0.8636\n",
      "Epoch 6/30\n",
      "2/2 [==============================] - 0s 34ms/sample - loss: 0.8636 - val_loss: 0.8587\n",
      "Epoch 7/30\n",
      "2/2 [==============================] - 0s 71ms/sample - loss: 0.8587 - val_loss: 0.8542\n",
      "Epoch 8/30\n",
      "2/2 [==============================] - 0s 37ms/sample - loss: 0.8542 - val_loss: 0.8498\n",
      "Epoch 9/30\n",
      "2/2 [==============================] - 0s 42ms/sample - loss: 0.8498 - val_loss: 0.8456\n",
      "Epoch 10/30\n",
      "2/2 [==============================] - 0s 47ms/sample - loss: 0.8456 - val_loss: 0.8416\n",
      "Epoch 11/30\n",
      "2/2 [==============================] - 0s 24ms/sample - loss: 0.8416 - val_loss: 0.8376\n",
      "Epoch 12/30\n",
      "2/2 [==============================] - 0s 31ms/sample - loss: 0.8376 - val_loss: 0.8337\n",
      "Epoch 13/30\n",
      "2/2 [==============================] - 0s 34ms/sample - loss: 0.8337 - val_loss: 0.8299\n",
      "Epoch 14/30\n",
      "2/2 [==============================] - 0s 37ms/sample - loss: 0.8299 - val_loss: 0.8262\n",
      "Epoch 15/30\n",
      "2/2 [==============================] - 0s 43ms/sample - loss: 0.8262 - val_loss: 0.8226\n",
      "Epoch 16/30\n",
      "2/2 [==============================] - 0s 38ms/sample - loss: 0.8226 - val_loss: 0.8190\n",
      "Epoch 17/30\n",
      "2/2 [==============================] - 0s 29ms/sample - loss: 0.8190 - val_loss: 0.8154\n",
      "Epoch 18/30\n",
      "2/2 [==============================] - 0s 42ms/sample - loss: 0.8154 - val_loss: 0.8119\n",
      "Epoch 19/30\n",
      "2/2 [==============================] - 0s 46ms/sample - loss: 0.8119 - val_loss: 0.8084\n",
      "Epoch 20/30\n",
      "2/2 [==============================] - 0s 53ms/sample - loss: 0.8084 - val_loss: 0.8050\n",
      "Epoch 21/30\n",
      "2/2 [==============================] - 0s 54ms/sample - loss: 0.8050 - val_loss: 0.8015\n",
      "Epoch 22/30\n",
      "2/2 [==============================] - 0s 33ms/sample - loss: 0.8015 - val_loss: 0.7982\n",
      "Epoch 23/30\n",
      "2/2 [==============================] - 0s 40ms/sample - loss: 0.7982 - val_loss: 0.7948\n",
      "Epoch 24/30\n",
      "2/2 [==============================] - 0s 41ms/sample - loss: 0.7948 - val_loss: 0.7914\n",
      "Epoch 25/30\n",
      "2/2 [==============================] - 0s 49ms/sample - loss: 0.7914 - val_loss: 0.7881\n",
      "Epoch 26/30\n",
      "2/2 [==============================] - 0s 50ms/sample - loss: 0.7881 - val_loss: 0.7848\n",
      "Epoch 27/30\n",
      "2/2 [==============================] - 0s 52ms/sample - loss: 0.7848 - val_loss: 0.7815\n",
      "Epoch 28/30\n",
      "2/2 [==============================] - 0s 32ms/sample - loss: 0.7815 - val_loss: 0.7783\n",
      "Epoch 29/30\n",
      "2/2 [==============================] - 0s 49ms/sample - loss: 0.7783 - val_loss: 0.7750\n",
      "Epoch 30/30\n",
      "2/2 [==============================] - 0s 57ms/sample - loss: 0.7750 - val_loss: 0.7718\n"
     ]
    }
   ],
   "source": [
    "# Define Sequential model with 3 layers\n",
    "model = keras.Sequential(\n",
    "    [\n",
    "        layers.Dense(2, activation=\"relu\", name=\"layer1\"),\n",
    "        layers.Dense(3, activation=\"relu\", name=\"layer2\"),\n",
    "        layers.Dense(3, name=\"layer3\"),\n",
    "    ]\n",
    ")\n",
    "# Call model on a test input\n",
    "x = tf.ones((3, 3))\n",
    "model.compile(loss=['mean_squared_error'])\n",
    "history = model.fit(x, x, epochs = 30,callbacks=my_callbacks, validation_split=0.1)"
   ]
  },
  {
   "cell_type": "code",
   "execution_count": null,
   "metadata": {},
   "outputs": [],
   "source": [
    "history.history"
   ]
  },
  {
   "cell_type": "code",
   "execution_count": 25,
   "metadata": {},
   "outputs": [],
   "source": [
    "# convert the history.history dict to a pandas DataFrame:\n",
    "import pandas as pd\n",
    "hist_df = pd.DataFrame(history.history)\n",
    "\n",
    "# save to json:\n",
    "hist_json_file = 'history.json'\n",
    "with open(hist_json_file, mode='w') as f:\n",
    "    hist_df.to_json(f)\n",
    "\n",
    "# or save to csv:\n",
    "hist_csv_file = 'history.csv'\n",
    "with open(hist_csv_file, mode='w') as f:\n",
    "    hist_df.to_csv(f)"
   ]
  },
  {
   "cell_type": "code",
   "execution_count": null,
   "metadata": {},
   "outputs": [],
   "source": []
  },
  {
   "cell_type": "code",
   "execution_count": null,
   "metadata": {},
   "outputs": [],
   "source": []
  },
  {
   "cell_type": "code",
   "execution_count": null,
   "metadata": {},
   "outputs": [],
   "source": [
    "\n",
    "def store_history(self):\n",
    "    \"\"\" Fit builded model.\n",
    "    Parameters\n",
    "    -------------\n",
    "    model : tensorflow.keras.Sequential\n",
    "        Builded model\n",
    "    \"\"\"\n",
    "    import pandas as pd\n",
    "    history = self.history\n",
    "\n",
    "    # convert the history.history dict to a pandas DataFrame:\n",
    "    hist_df = pd.DataFrame(history.history)\n",
    "\n",
    "    # save to json:\n",
    "    hist_json_file = 'history.json'\n",
    "    with open(hist_json_file, mode='w') as f:\n",
    "        hist_df.to_json(f)\n",
    "\n",
    "    # or save to csv:\n",
    "    hist_csv_file = 'history.csv'\n",
    "    with open(hist_csv_file, mode='w') as f:\n",
    "        hist_df.to_csv(f)\n",
    "\n",
    "    return\n",
    "\n",
    "def store_summmary(self):\n",
    "    \"\"\" Store summary of tranings process.\n",
    "    \"\"\"\n",
    "    from contextlib import redirect_stdout\n",
    "\n",
    "    with open('modelsummary.txt', 'w') as f:\n",
    "        with redirect_stdout(f):\n",
    "            self.model.summary()\n",
    "\n",
    "    self.model.save('my_model.h5')  # creates a HDF5 file 'my_model.h5'\n",
    "    return sum"
   ]
  },
  {
   "cell_type": "code",
   "execution_count": null,
   "metadata": {},
   "outputs": [],
   "source": []
  },
  {
   "cell_type": "code",
   "execution_count": null,
   "metadata": {},
   "outputs": [],
   "source": []
  },
  {
   "cell_type": "code",
   "execution_count": null,
   "metadata": {},
   "outputs": [],
   "source": []
  }
 ],
 "metadata": {
  "kernelspec": {
   "display_name": "Python 3",
   "language": "python",
   "name": "python3"
  },
  "language_info": {
   "codemirror_mode": {
    "name": "ipython",
    "version": 3
   },
   "file_extension": ".py",
   "mimetype": "text/x-python",
   "name": "python",
   "nbconvert_exporter": "python",
   "pygments_lexer": "ipython3",
   "version": "3.7.6"
  }
 },
 "nbformat": 4,
 "nbformat_minor": 4
}
