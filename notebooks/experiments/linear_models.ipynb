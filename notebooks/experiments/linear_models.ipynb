{
 "cells": [
  {
   "cell_type": "code",
   "execution_count": 1,
   "metadata": {},
   "outputs": [],
   "source": [
    "from sclouds.ml.regression.AR_model import AR_model"
   ]
  },
  {
   "cell_type": "code",
   "execution_count": 2,
   "metadata": {},
   "outputs": [
    {
     "data": {
      "text/plain": [
       "\u001b[0;31mInit signature:\u001b[0m \u001b[0mAR_model\u001b[0m\u001b[0;34m(\u001b[0m\u001b[0;34m)\u001b[0m\u001b[0;34m\u001b[0m\u001b[0m\n",
       "\u001b[0;31mDocstring:\u001b[0m     \n",
       "Autoregressive models used in this thesis. Inspired by sklearn\n",
       "    \n",
       "\u001b[0;31mFile:\u001b[0m           ~/MS/sclouds/ml/regression/AR_model.py\n",
       "\u001b[0;31mType:\u001b[0m           type\n",
       "\u001b[0;31mSubclasses:\u001b[0m     \n"
      ]
     },
     "metadata": {},
     "output_type": "display_data"
    }
   ],
   "source": [
    "AR_model?"
   ]
  },
  {
   "cell_type": "code",
   "execution_count": 3,
   "metadata": {},
   "outputs": [
    {
     "name": "stdout",
     "output_type": "stream",
     "text": [
      "Help on class AR_model in module sclouds.ml.regression.AR_model:\n",
      "\n",
      "class AR_model(builtins.object)\n",
      " |  Autoregressive models used in this thesis. Inspired by sklearn\n",
      " |  \n",
      " |  Methods defined here:\n",
      " |  \n",
      " |  __init__(self)\n",
      " |      Initialize self.  See help(type(self)) for accurate signature.\n",
      " |  \n",
      " |  evaluate(self, y_true, y_pred)\n",
      " |  \n",
      " |  fit(self)\n",
      " |      Fits the data retrieved in the constructor, entire grid.\n",
      " |  \n",
      " |  get_test_files(self)\n",
      " |  \n",
      " |  predict(self, X)\n",
      " |      Make prediction for the entire grid/ Domain.\n",
      " |  \n",
      " |  save_model(self)\n",
      " |      Save model to repo : /home/hanna/lagrings/results/ar/\n",
      " |  \n",
      " |  set_weights_from_loaded_model(self, W)\n",
      " |  \n",
      " |  store_performance(self, y_true, y_pred)\n",
      " |      Evaluate the performace in each grid\n",
      " |      To make the code work simply use the same training and test data.\n",
      " |  \n",
      " |  ----------------------------------------------------------------------\n",
      " |  Data descriptors defined here:\n",
      " |  \n",
      " |  __dict__\n",
      " |      dictionary for instance variables (if defined)\n",
      " |  \n",
      " |  __weakref__\n",
      " |      list of weak references to the object (if defined)\n",
      "\n"
     ]
    }
   ],
   "source": [
    "help(AR_model)"
   ]
  },
  {
   "cell_type": "code",
   "execution_count": null,
   "metadata": {},
   "outputs": [],
   "source": []
  }
 ],
 "metadata": {
  "kernelspec": {
   "display_name": "Python 3",
   "language": "python",
   "name": "python3"
  },
  "language_info": {
   "codemirror_mode": {
    "name": "ipython",
    "version": 3
   },
   "file_extension": ".py",
   "mimetype": "text/x-python",
   "name": "python",
   "nbconvert_exporter": "python",
   "pygments_lexer": "ipython3",
   "version": "3.7.3"
  }
 },
 "nbformat": 4,
 "nbformat_minor": 4
}
