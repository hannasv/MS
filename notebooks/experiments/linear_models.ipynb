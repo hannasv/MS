{
 "cells": [
  {
   "cell_type": "code",
   "execution_count": 1,
   "metadata": {},
   "outputs": [],
   "source": [
    "from sclouds.ml.regression.AR_model import AR_model"
   ]
  },
  {
   "cell_type": "code",
   "execution_count": 2,
   "metadata": {},
   "outputs": [],
   "source": [
    "m = AR_model(order = 0, transformer = True, sigmoid = False)"
   ]
  },
  {
   "cell_type": "code",
   "execution_count": 3,
   "metadata": {},
   "outputs": [
    {
     "data": {
      "text/plain": [
       "array([[[-4.27854310e-01,  1.34715890e-01,  3.55138948e-01,\n",
       "          8.67843049e-02],\n",
       "        [-5.65423765e-01,  1.77167221e-01,  5.10617384e-01,\n",
       "          8.82387187e-02],\n",
       "        [-6.74114392e-01,  2.06696227e-01,  6.39100343e-01,\n",
       "          1.02929580e-01],\n",
       "        ...,\n",
       "        [ 4.88121637e-02, -2.61872796e-02, -9.64976823e-02,\n",
       "          1.88953232e-02],\n",
       "        [ 3.38613470e-02, -8.23564501e-03, -8.02298202e-02,\n",
       "          2.90509281e-03],\n",
       "        [ 7.70025014e-03,  5.40236057e-03, -4.42529538e-02,\n",
       "          1.47297052e-03]],\n",
       "\n",
       "       [[-4.64849701e-01,  1.43550012e-01,  3.94955610e-01,\n",
       "          7.30477824e-02],\n",
       "        [-5.03350891e-01,  1.62045363e-01,  4.43651133e-01,\n",
       "          8.01267552e-02],\n",
       "        [-6.13888375e-01,  1.80993831e-01,  5.58575648e-01,\n",
       "          1.12806033e-01],\n",
       "        ...,\n",
       "        [ 4.71394882e-02, -2.27186557e-02, -1.18054535e-01,\n",
       "          2.01089142e-02],\n",
       "        [-1.38911603e-03,  1.08740641e-02, -5.97995453e-02,\n",
       "         -3.13953029e-03],\n",
       "        [ 3.53788826e-02, -2.36340961e-02, -8.11755259e-02,\n",
       "         -9.22673972e-03]],\n",
       "\n",
       "       [[-2.92922871e-01,  7.27484894e-02,  2.33373262e-01,\n",
       "          1.02323294e-01],\n",
       "        [-3.42407700e-01,  1.00326922e-01,  2.75197851e-01,\n",
       "          1.04759292e-01],\n",
       "        [-4.54499387e-01,  1.31446544e-01,  3.94611810e-01,\n",
       "          1.24824663e-01],\n",
       "        ...,\n",
       "        [ 8.54246662e-02, -3.96831170e-02, -1.53309221e-01,\n",
       "          3.55686202e-02],\n",
       "        [ 4.65813207e-02, -1.23226172e-02, -1.09824106e-01,\n",
       "         -1.60156912e-03],\n",
       "        [ 2.81766978e-02, -9.32755160e-03, -8.71314426e-02,\n",
       "         -8.78897363e-03]],\n",
       "\n",
       "       ...,\n",
       "\n",
       "       [[-7.82382131e-02,  5.38065516e-02,  8.68566477e-02,\n",
       "         -2.98183524e-02],\n",
       "        [-7.41066295e-02,  5.65966103e-02,  9.43324368e-02,\n",
       "         -4.35191891e-02],\n",
       "        [-1.86738797e-01,  1.01300812e-01,  2.04611813e-01,\n",
       "         -7.91423244e-02],\n",
       "        ...,\n",
       "        [-4.49340526e-02,  5.51089974e-02,  9.57945078e-03,\n",
       "         -7.52302975e-03],\n",
       "        [-3.09610321e-02,  2.98690274e-02,  6.50141103e-03,\n",
       "         -1.32555452e-02],\n",
       "        [-1.02720781e-02,  6.19430364e-03,  7.21910771e-03,\n",
       "         -2.38151215e-02]],\n",
       "\n",
       "       [[-2.18888030e-02,  4.48496203e-02,  9.21625350e-02,\n",
       "         -1.78095018e-02],\n",
       "        [-6.73835629e-02,  5.25689228e-02,  9.92569149e-02,\n",
       "         -3.02339590e-02],\n",
       "        [-1.11096275e-01,  7.76837439e-02,  1.52723949e-01,\n",
       "         -5.36932695e-02],\n",
       "        ...,\n",
       "        [-4.95342735e-03,  1.05171779e-02, -9.69980529e-04,\n",
       "         -8.50165436e-03],\n",
       "        [-1.22424345e-02,  1.21010978e-02,  9.65971560e-04,\n",
       "         -1.02515336e-02],\n",
       "        [ 5.20835742e-04, -8.96091535e-03,  9.82149418e-04,\n",
       "         -1.86394132e-02]],\n",
       "\n",
       "       [[ 6.07127056e-02,  1.56210356e-02,  5.62236581e-02,\n",
       "          2.42745293e-03],\n",
       "        [ 6.50502039e-02,  1.88338865e-02,  4.03957734e-02,\n",
       "         -3.46006319e-03],\n",
       "        [-5.17633345e-02,  6.60301981e-02,  1.15041116e-01,\n",
       "         -3.99922416e-02],\n",
       "        ...,\n",
       "        [ 3.87660897e-03,  5.55784866e-04, -2.65510695e-03,\n",
       "         -5.36710475e-03],\n",
       "        [ 6.44245214e-04, -6.06859113e-03, -6.45120250e-04,\n",
       "         -8.76113486e-03],\n",
       "        [ 8.21090612e-03, -1.62614110e-02, -2.18162328e-03,\n",
       "         -1.29776779e-02]]])"
      ]
     },
     "execution_count": 3,
     "metadata": {},
     "output_type": "execute_result"
    }
   ],
   "source": [
    "m.fit()"
   ]
  },
  {
   "cell_type": "code",
   "execution_count": 5,
   "metadata": {},
   "outputs": [],
   "source": [
    "m.save_transform()"
   ]
  },
  {
   "cell_type": "code",
   "execution_count": 4,
   "metadata": {},
   "outputs": [],
   "source": [
    "m.save_model()"
   ]
  },
  {
   "cell_type": "code",
   "execution_count": null,
   "metadata": {},
   "outputs": [],
   "source": []
  },
  {
   "cell_type": "code",
   "execution_count": null,
   "metadata": {},
   "outputs": [],
   "source": []
  },
  {
   "cell_type": "code",
   "execution_count": null,
   "metadata": {},
   "outputs": [],
   "source": []
  },
  {
   "cell_type": "code",
   "execution_count": 1,
   "metadata": {},
   "outputs": [],
   "source": [
    "from sclouds.io.utils import get_xarray_dataset_for_period, dataset_to_numpy_grid, dataset_to_numpy"
   ]
  },
  {
   "cell_type": "code",
   "execution_count": 2,
   "metadata": {},
   "outputs": [],
   "source": [
    "from sclouds.io.utils import dataset_to_numpy_grid_order, dataset_to_numpy_order"
   ]
  },
  {
   "cell_type": "code",
   "execution_count": 3,
   "metadata": {},
   "outputs": [
    {
     "name": "stdout",
     "output_type": "stream",
     "text": [
      "Num files 5\n"
     ]
    }
   ],
   "source": [
    "data = get_xarray_dataset_for_period(start = '2012-01-01', stop = '2012-01-31')"
   ]
  },
  {
   "cell_type": "code",
   "execution_count": 4,
   "metadata": {},
   "outputs": [
    {
     "name": "stdout",
     "output_type": "stream",
     "text": [
      "Adding order \n"
     ]
    }
   ],
   "source": [
    "X, y = dataset_to_numpy_grid_order(data, order = 1, bias = False)"
   ]
  },
  {
   "cell_type": "code",
   "execution_count": 5,
   "metadata": {},
   "outputs": [
    {
     "data": {
      "text/plain": [
       "(743, 81, 161, 5)"
      ]
     },
     "execution_count": 5,
     "metadata": {},
     "output_type": "execute_result"
    }
   ],
   "source": [
    "X.shape"
   ]
  },
  {
   "cell_type": "code",
   "execution_count": 6,
   "metadata": {},
   "outputs": [
    {
     "name": "stdout",
     "output_type": "stream",
     "text": [
      "Adding order \n",
      "Adding order \n"
     ]
    },
    {
     "data": {
      "text/plain": [
       "(742, 81, 161, 7)"
      ]
     },
     "execution_count": 6,
     "metadata": {},
     "output_type": "execute_result"
    }
   ],
   "source": [
    "X, y = dataset_to_numpy_grid_order(data, order = 2, bias = True)\n",
    "X.shape"
   ]
  },
  {
   "cell_type": "code",
   "execution_count": null,
   "metadata": {},
   "outputs": [],
   "source": []
  }
 ],
 "metadata": {
  "kernelspec": {
   "display_name": "Python 3",
   "language": "python",
   "name": "python3"
  },
  "language_info": {
   "codemirror_mode": {
    "name": "ipython",
    "version": 3
   },
   "file_extension": ".py",
   "mimetype": "text/x-python",
   "name": "python",
   "nbconvert_exporter": "python",
   "pygments_lexer": "ipython3",
   "version": "3.7.3"
  }
 },
 "nbformat": 4,
 "nbformat_minor": 4
}
