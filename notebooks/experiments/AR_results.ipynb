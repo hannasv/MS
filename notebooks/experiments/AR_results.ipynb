{
 "cells": [
  {
   "cell_type": "code",
   "execution_count": 14,
   "metadata": {},
   "outputs": [],
   "source": [
    "import os\n",
    "import glob\n",
    "import numpy as np\n",
    "import xarray as xr\n",
    "from sclouds.helpers import path_ar_results\n",
    "from sclouds.ml.regression.AR_model_loader import AR_model_loader"
   ]
  },
  {
   "cell_type": "code",
   "execution_count": 15,
   "metadata": {},
   "outputs": [
    {
     "data": {
      "text/plain": [
       "['/home/hanna/lagrings/results/ar/AR_2020-04-05T07:39:06.nc',\n",
       " '/home/hanna/lagrings/results/ar/AR_2020-04-05T07:22:51.nc',\n",
       " '/home/hanna/lagrings/results/ar/AR_2020-04-04T08:22:54.nc',\n",
       " '/home/hanna/lagrings/results/ar/AR_2020-04-04T13:21:55.nc',\n",
       " '/home/hanna/lagrings/results/ar/AR_2020-04-04T15:37:03.nc',\n",
       " '/home/hanna/lagrings/results/ar/AR_2020-04-04T16:45:11.nc']"
      ]
     },
     "execution_count": 15,
     "metadata": {},
     "output_type": "execute_result"
    }
   ],
   "source": [
    "glob.glob(os.path.join(path_ar_results, '*.nc'))"
   ]
  },
  {
   "cell_type": "code",
   "execution_count": 16,
   "metadata": {},
   "outputs": [],
   "source": [
    "loader = AR_model_loader()"
   ]
  },
  {
   "cell_type": "code",
   "execution_count": 17,
   "metadata": {},
   "outputs": [
    {
     "data": {
      "text/plain": [
       "'/home/hanna/lagrings/results/ar/AR_2020-04-05T07:39:06.nc'"
      ]
     },
     "execution_count": 17,
     "metadata": {},
     "output_type": "execute_result"
    }
   ],
   "source": [
    "loader.get_best_models(num = 1, metric = 'mse')"
   ]
  },
  {
   "cell_type": "code",
   "execution_count": 18,
   "metadata": {},
   "outputs": [],
   "source": [
    "name_best_model = loader.get_best_models(num = 1, metric = 'r2')"
   ]
  },
  {
   "cell_type": "code",
   "execution_count": 19,
   "metadata": {},
   "outputs": [
    {
     "data": {
      "text/plain": [
       "['/home/hanna/lagrings/results/ar/AR_2020-04-05T07:39:06.nc',\n",
       " '/home/hanna/lagrings/results/ar/AR_2020-04-05T07:22:51.nc',\n",
       " '/home/hanna/lagrings/results/ar/AR_2020-04-04T08:22:54.nc',\n",
       " '/home/hanna/lagrings/results/ar/AR_2020-04-04T13:21:55.nc',\n",
       " '/home/hanna/lagrings/results/ar/AR_2020-04-04T15:37:03.nc',\n",
       " '/home/hanna/lagrings/results/ar/AR_2020-04-04T16:45:11.nc']"
      ]
     },
     "execution_count": 19,
     "metadata": {},
     "output_type": "execute_result"
    }
   ],
   "source": [
    "loader.get_model_based_on_hyperparameters(start='2012-01-01', transform = True)"
   ]
  },
  {
   "cell_type": "code",
   "execution_count": 20,
   "metadata": {},
   "outputs": [
    {
     "name": "stdout",
     "output_type": "stream",
     "text": [
      "Num files 5\n"
     ]
    }
   ],
   "source": [
    "model = loader.load_model_from_file(file = '/home/hanna/lagrings/results/ar/AR_2020-04-05T07:39:06.nc')"
   ]
  },
  {
   "cell_type": "code",
   "execution_count": 13,
   "metadata": {},
   "outputs": [
    {
     "data": {
      "text/plain": [
       "True"
      ]
     },
     "execution_count": 13,
     "metadata": {},
     "output_type": "execute_result"
    }
   ],
   "source": []
  },
  {
   "cell_type": "markdown",
   "metadata": {},
   "source": [
    "# Agenda \n",
    "1. Load trained model and transformation into a AR_model\n",
    "    * should return a AR_model. You shouldn't have to set the weights in this manner.\n",
    "2. Fix so that you can get as many models you want \n",
    "    * make array [name, metric] sort based on metric take the first (mse) or last (r2) num models and return the name and or metric"
   ]
  },
  {
   "cell_type": "code",
   "execution_count": 37,
   "metadata": {},
   "outputs": [],
   "source": [
    "def get_weights():\n",
    "    pass\n",
    "\n",
    "def get_transform():\n",
    "    pass"
   ]
  },
  {
   "cell_type": "code",
   "execution_count": 10,
   "metadata": {},
   "outputs": [],
   "source": [
    "data = xr.open_dataset('/home/hanna/lagrings/results/ar/AR_2020-04-04T16:45:11.nc')"
   ]
  },
  {
   "cell_type": "code",
   "execution_count": 11,
   "metadata": {},
   "outputs": [
    {
     "data": {
      "text/plain": [
       "<xarray.Dataset>\n",
       "Dimensions:     (latitude: 81, longitude: 161)\n",
       "Coordinates:\n",
       "  * longitude   (longitude) float64 -15.0 -14.75 -14.5 ... 24.5 24.75 25.0\n",
       "  * latitude    (latitude) float64 30.0 30.25 30.5 30.75 ... 49.5 49.75 50.0\n",
       "Data variables:\n",
       "    transform   bool ...\n",
       "    sigmoid     bool ...\n",
       "    order       int64 ...\n",
       "    start       object ...\n",
       "    stop        float64 ...\n",
       "    Wt2m        (latitude, longitude) float64 ...\n",
       "    Wr          (latitude, longitude) float64 ...\n",
       "    Wq          (latitude, longitude) float64 ...\n",
       "    Wsp         (latitude, longitude) float64 ...\n",
       "    mean_t2m    (latitude, longitude) float64 ...\n",
       "    std_t2m     (latitude, longitude) float64 ...\n",
       "    mean_r      (latitude, longitude) float64 ...\n",
       "    std_r       (latitude, longitude) float64 ...\n",
       "    mean_q      (latitude, longitude) float64 ...\n",
       "    std_q       (latitude, longitude) float64 ...\n",
       "    mean_sp     (latitude, longitude) float64 ...\n",
       "    std_sp      (latitude, longitude) float64 ...\n",
       "    mse         (latitude, longitude) float64 ...\n",
       "    r2          (latitude, longitude) float64 ...\n",
       "    ase         (latitude, longitude) float64 ...\n",
       "    global_mse  float64 ...\n",
       "    global_r2   float64 ...\n",
       "    global_ase  float64 ..."
      ]
     },
     "execution_count": 11,
     "metadata": {},
     "output_type": "execute_result"
    }
   ],
   "source": [
    "data"
   ]
  },
  {
   "cell_type": "code",
   "execution_count": null,
   "metadata": {},
   "outputs": [],
   "source": []
  }
 ],
 "metadata": {
  "kernelspec": {
   "display_name": "Python 3",
   "language": "python",
   "name": "python3"
  },
  "language_info": {
   "codemirror_mode": {
    "name": "ipython",
    "version": 3
   },
   "file_extension": ".py",
   "mimetype": "text/x-python",
   "name": "python",
   "nbconvert_exporter": "python",
   "pygments_lexer": "ipython3",
   "version": "3.7.6"
  }
 },
 "nbformat": 4,
 "nbformat_minor": 4
}
