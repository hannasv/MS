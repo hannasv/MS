{
 "cells": [
  {
   "cell_type": "code",
   "execution_count": 20,
   "metadata": {},
   "outputs": [],
   "source": [
    "import os\n",
    "import glob\n",
    "import json\n",
    "\n",
    "import matplotlib.pyplot as plt \n",
    "import xarray as xr \n",
    "import numpy as np"
   ]
  },
  {
   "cell_type": "markdown",
   "metadata": {},
   "source": [
    "# Convolutional LSTM \n",
    "\n",
    "sshfs -C -o ssh_command='ssh -p 60441' hannasv@dnat.simula.no:results RESULTS (notes to self)"
   ]
  },
  {
   "cell_type": "code",
   "execution_count": 5,
   "metadata": {},
   "outputs": [],
   "source": [
    "# Mounted from ex3 \n",
    "path = '/home/hanna/RESULTS/'"
   ]
  },
  {
   "cell_type": "markdown",
   "metadata": {},
   "source": [
    "# Empty folder is models not compiled. \n",
    "* Try to quantify the number of parameteres - that compile."
   ]
  },
  {
   "cell_type": "code",
   "execution_count": 7,
   "metadata": {},
   "outputs": [],
   "source": [
    "folders = glob.glob(path+'*')"
   ]
  },
  {
   "cell_type": "code",
   "execution_count": 10,
   "metadata": {},
   "outputs": [
    {
     "name": "stdout",
     "output_type": "stream",
     "text": [
      "/home/hanna/RESULTS/convlstm\n",
      "/home/hanna/RESULTS/ar\n",
      "/home/hanna/RESULTS/ConvLSTM-256-256-3-3\n",
      "/home/hanna/RESULTS/ConvLSTM-64-64-3-3\n",
      "/home/hanna/RESULTS/ConvLSTM-32-32-32-3-3-3\n",
      "/home/hanna/RESULTS/ConvLSTM-64-32-5-5\n"
     ]
    }
   ],
   "source": [
    "converged_models = []\n",
    "for folder in folders:\n",
    "    if len(glob.glob(folder+'/*')) == 0:\n",
    "        print(folder)\n",
    "    else:\n",
    "        converged_models.append(folder)"
   ]
  },
  {
   "cell_type": "markdown",
   "metadata": {},
   "source": [
    "### NOT CONVERING ARCHITECTURES \n",
    "* ConvLSTM-256-256-3-3\n",
    "* ConvLSTM-64-64-3-3\n",
    "* ConvLSTM-32-32-32-3-3-3\n",
    "* ConvLSTM-64-32-5-5"
   ]
  },
  {
   "cell_type": "markdown",
   "metadata": {},
   "source": [
    "# Name of succesfully trained models"
   ]
  },
  {
   "cell_type": "code",
   "execution_count": 11,
   "metadata": {},
   "outputs": [
    {
     "data": {
      "text/plain": [
       "['/home/hanna/RESULTS/stats',\n",
       " '/home/hanna/RESULTS/test_model',\n",
       " '/home/hanna/RESULTS/Model1',\n",
       " '/home/hanna/RESULTS/Model2',\n",
       " '/home/hanna/RESULTS/ConvLSTM-128-3',\n",
       " '/home/hanna/RESULTS/ConvLSTM-128-32-3-3',\n",
       " '/home/hanna/RESULTS/ConvLSTM-16-16-3-3',\n",
       " '/home/hanna/RESULTS/ConvLSTM-8-8-8-3-3-3']"
      ]
     },
     "execution_count": 11,
     "metadata": {},
     "output_type": "execute_result"
    }
   ],
   "source": [
    "converged_models"
   ]
  },
  {
   "cell_type": "code",
   "execution_count": 13,
   "metadata": {},
   "outputs": [
    {
     "data": {
      "text/plain": [
       "['/home/hanna/RESULTS/ConvLSTM-128-3',\n",
       " '/home/hanna/RESULTS/ConvLSTM-128-32-3-3',\n",
       " '/home/hanna/RESULTS/ConvLSTM-16-16-3-3',\n",
       " '/home/hanna/RESULTS/ConvLSTM-8-8-8-3-3-3']"
      ]
     },
     "execution_count": 13,
     "metadata": {},
     "output_type": "execute_result"
    }
   ],
   "source": [
    "study = converged_models[4:]\n",
    "study"
   ]
  },
  {
   "cell_type": "code",
   "execution_count": 14,
   "metadata": {},
   "outputs": [
    {
     "data": {
      "text/plain": [
       "['/home/hanna/RESULTS/ConvLSTM-128-3/history.json',\n",
       " '/home/hanna/RESULTS/ConvLSTM-128-3/history.csv',\n",
       " '/home/hanna/RESULTS/ConvLSTM-128-3/summary_ConvLSTM-128-3.txt',\n",
       " '/home/hanna/RESULTS/ConvLSTM-128-3/ConvLSTM-128-3_config.h5']"
      ]
     },
     "execution_count": 14,
     "metadata": {},
     "output_type": "execute_result"
    }
   ],
   "source": [
    "glob.glob('/home/hanna/RESULTS/ConvLSTM-128-3'+'/*')"
   ]
  },
  {
   "cell_type": "markdown",
   "metadata": {},
   "source": [
    "# Summary -- ConvLSTM-128-3"
   ]
  },
  {
   "cell_type": "code",
   "execution_count": 18,
   "metadata": {},
   "outputs": [
    {
     "data": {
      "text/plain": [
       "['Model: \"sequential\"\\n',\n",
       " '_________________________________________________________________\\n',\n",
       " 'Layer (type)                 Output Shape              Param #   \\n',\n",
       " '=================================================================\\n',\n",
       " 'batch_normalization (BatchNo multiple                  16        \\n',\n",
       " '_________________________________________________________________\\n',\n",
       " 'conv_lst_m2d (ConvLSTM2D)    multiple                  608768    \\n',\n",
       " '_________________________________________________________________\\n',\n",
       " 'batch_normalization_1 (Batch multiple                  512       \\n',\n",
       " '_________________________________________________________________\\n',\n",
       " 'conv_lst_m2d_1 (ConvLSTM2D)  multiple                  520       \\n',\n",
       " '=================================================================\\n',\n",
       " 'Total params: 609,816\\n',\n",
       " 'Trainable params: 609,552\\n',\n",
       " 'Non-trainable params: 264\\n',\n",
       " '_________________________________________________________________\\n']"
      ]
     },
     "execution_count": 18,
     "metadata": {},
     "output_type": "execute_result"
    }
   ],
   "source": [
    "with open('/home/hanna/RESULTS/ConvLSTM-128-3/summary_ConvLSTM-128-3.txt') as summary_file:\n",
    "    content = summary_file.readlines()\n",
    "\n",
    "content"
   ]
  },
  {
   "cell_type": "markdown",
   "metadata": {},
   "source": [
    "# Plotting loss"
   ]
  },
  {
   "cell_type": "code",
   "execution_count": 21,
   "metadata": {},
   "outputs": [],
   "source": [
    "with open('/home/hanna/RESULTS/ConvLSTM-128-3/history.json') as json_file:\n",
    "    data = json.load(json_file)"
   ]
  },
  {
   "cell_type": "code",
   "execution_count": 22,
   "metadata": {},
   "outputs": [],
   "source": [
    "def get_array(data, key = 'loss'):\n",
    "    return [data[key][k] for k in data[key].keys()]"
   ]
  },
  {
   "cell_type": "code",
   "execution_count": 23,
   "metadata": {},
   "outputs": [
    {
     "data": {
      "image/png": "[encoded data removed]",
      "text/plain": [
       "<Figure size 432x288 with 1 Axes>"
      ]
     },
     "metadata": {
      "needs_background": "light"
     },
     "output_type": "display_data"
    }
   ],
   "source": [
    "with open('/home/hanna/RESULTS/ConvLSTM-128-3/history.json') as json_file:\n",
    "    data = json.load(json_file)\n",
    "    \n",
    "# summarize history for accuracy\n",
    "plt.plot(get_array(data, key = 'loss'))\n",
    "plt.plot(get_array(data, key = 'val_loss'))\n",
    "plt.title('model loss')\n",
    "plt.ylabel('loss')\n",
    "plt.xlabel('epoch')\n",
    "plt.legend(['train', 'test'], loc='upper left')\n",
    "plt.show()"
   ]
  },
  {
   "cell_type": "markdown",
   "metadata": {},
   "source": [
    "# ConvLSTM-128-32-3-3"
   ]
  },
  {
   "cell_type": "code",
   "execution_count": 24,
   "metadata": {},
   "outputs": [
    {
     "data": {
      "text/plain": [
       "['Model: \"sequential\"\\n',\n",
       " '_________________________________________________________________\\n',\n",
       " 'Layer (type)                 Output Shape              Param #   \\n',\n",
       " '=================================================================\\n',\n",
       " 'batch_normalization (BatchNo multiple                  16        \\n',\n",
       " '_________________________________________________________________\\n',\n",
       " 'conv_lst_m2d (ConvLSTM2D)    multiple                  608768    \\n',\n",
       " '_________________________________________________________________\\n',\n",
       " 'batch_normalization_1 (Batch multiple                  512       \\n',\n",
       " '_________________________________________________________________\\n',\n",
       " 'conv_lst_m2d_1 (ConvLSTM2D)  multiple                  184448    \\n',\n",
       " '_________________________________________________________________\\n',\n",
       " 'batch_normalization_2 (Batch multiple                  128       \\n',\n",
       " '_________________________________________________________________\\n',\n",
       " 'conv_lst_m2d_2 (ConvLSTM2D)  multiple                  136       \\n',\n",
       " '=================================================================\\n',\n",
       " 'Total params: 794,008\\n',\n",
       " 'Trainable params: 793,680\\n',\n",
       " 'Non-trainable params: 328\\n',\n",
       " '_________________________________________________________________\\n']"
      ]
     },
     "execution_count": 24,
     "metadata": {},
     "output_type": "execute_result"
    }
   ],
   "source": [
    "with open('/home/hanna/RESULTS/ConvLSTM-128-32-3-3/summary_ConvLSTM-128-32-3-3.txt') as summary_file:\n",
    "    content = summary_file.readlines()\n",
    "\n",
    "content"
   ]
  },
  {
   "cell_type": "code",
   "execution_count": 25,
   "metadata": {},
   "outputs": [
    {
     "data": {
      "image/png": "[encoded data removed]",
      "text/plain": [
       "<Figure size 432x288 with 1 Axes>"
      ]
     },
     "metadata": {
      "needs_background": "light"
     },
     "output_type": "display_data"
    }
   ],
   "source": [
    "with open('/home/hanna/RESULTS/ConvLSTM-128-32-3-3/history.json') as json_file:\n",
    "    data = json.load(json_file)\n",
    "    \n",
    "# summarize history for accuracy\n",
    "plt.plot(get_array(data, key = 'loss'))\n",
    "plt.plot(get_array(data, key = 'val_loss'))\n",
    "plt.title('model loss')\n",
    "plt.ylabel('loss')\n",
    "plt.xlabel('epoch')\n",
    "plt.legend(['train', 'test'], loc='upper left')\n",
    "plt.show()"
   ]
  },
  {
   "cell_type": "markdown",
   "metadata": {},
   "source": [
    "# ConvLSTM-16-16-3-3"
   ]
  },
  {
   "cell_type": "code",
   "execution_count": 28,
   "metadata": {},
   "outputs": [
    {
     "data": {
      "text/plain": [
       "['Model: \"sequential\"\\n',\n",
       " '_________________________________________________________________\\n',\n",
       " 'Layer (type)                 Output Shape              Param #   \\n',\n",
       " '=================================================================\\n',\n",
       " 'batch_normalization (BatchNo multiple                  16        \\n',\n",
       " '_________________________________________________________________\\n',\n",
       " 'conv_lst_m2d (ConvLSTM2D)    multiple                  11584     \\n',\n",
       " '_________________________________________________________________\\n',\n",
       " 'batch_normalization_1 (Batch multiple                  64        \\n',\n",
       " '_________________________________________________________________\\n',\n",
       " 'conv_lst_m2d_1 (ConvLSTM2D)  multiple                  18496     \\n',\n",
       " '_________________________________________________________________\\n',\n",
       " 'batch_normalization_2 (Batch multiple                  64        \\n',\n",
       " '_________________________________________________________________\\n',\n",
       " 'conv_lst_m2d_2 (ConvLSTM2D)  multiple                  72        \\n',\n",
       " '=================================================================\\n',\n",
       " 'Total params: 30,296\\n',\n",
       " 'Trainable params: 30,224\\n',\n",
       " 'Non-trainable params: 72\\n',\n",
       " '_________________________________________________________________\\n']"
      ]
     },
     "execution_count": 28,
     "metadata": {},
     "output_type": "execute_result"
    }
   ],
   "source": [
    "with open('/home/hanna/RESULTS/ConvLSTM-16-16-3-3/summary_ConvLSTM-16-16-3-3.txt') as summary_file:\n",
    "    content = summary_file.readlines()\n",
    "\n",
    "content"
   ]
  },
  {
   "cell_type": "code",
   "execution_count": 26,
   "metadata": {},
   "outputs": [
    {
     "data": {
      "image/png": "[encoded data removed]",
      "text/plain": [
       "<Figure size 432x288 with 1 Axes>"
      ]
     },
     "metadata": {
      "needs_background": "light"
     },
     "output_type": "display_data"
    }
   ],
   "source": [
    "with open('/home/hanna/RESULTS/ConvLSTM-16-16-3-3/history.json') as json_file:\n",
    "    data = json.load(json_file)\n",
    "    \n",
    "# summarize history for accuracy\n",
    "plt.plot(get_array(data, key = 'loss'))\n",
    "plt.plot(get_array(data, key = 'val_loss'))\n",
    "plt.title('model loss')\n",
    "plt.ylabel('loss')\n",
    "plt.xlabel('epoch')\n",
    "plt.legend(['train', 'test'], loc='upper left')\n",
    "plt.show()"
   ]
  },
  {
   "cell_type": "markdown",
   "metadata": {},
   "source": [
    "# ConvLSTM-8-8-8-3-3-3"
   ]
  },
  {
   "cell_type": "code",
   "execution_count": 29,
   "metadata": {},
   "outputs": [
    {
     "data": {
      "text/plain": [
       "['Model: \"sequential\"\\n',\n",
       " '_________________________________________________________________\\n',\n",
       " 'Layer (type)                 Output Shape              Param #   \\n',\n",
       " '=================================================================\\n',\n",
       " 'batch_normalization (BatchNo multiple                  16        \\n',\n",
       " '_________________________________________________________________\\n',\n",
       " 'conv_lst_m2d (ConvLSTM2D)    multiple                  3488      \\n',\n",
       " '_________________________________________________________________\\n',\n",
       " 'batch_normalization_1 (Batch multiple                  32        \\n',\n",
       " '_________________________________________________________________\\n',\n",
       " 'conv_lst_m2d_1 (ConvLSTM2D)  multiple                  4640      \\n',\n",
       " '_________________________________________________________________\\n',\n",
       " 'batch_normalization_2 (Batch multiple                  32        \\n',\n",
       " '_________________________________________________________________\\n',\n",
       " 'conv_lst_m2d_2 (ConvLSTM2D)  multiple                  4640      \\n',\n",
       " '_________________________________________________________________\\n',\n",
       " 'batch_normalization_3 (Batch multiple                  32        \\n',\n",
       " '_________________________________________________________________\\n',\n",
       " 'conv_lst_m2d_3 (ConvLSTM2D)  multiple                  40        \\n',\n",
       " '=================================================================\\n',\n",
       " 'Total params: 12,920\\n',\n",
       " 'Trainable params: 12,864\\n',\n",
       " 'Non-trainable params: 56\\n',\n",
       " '_________________________________________________________________\\n']"
      ]
     },
     "execution_count": 29,
     "metadata": {},
     "output_type": "execute_result"
    }
   ],
   "source": [
    "with open('/home/hanna/RESULTS/ConvLSTM-8-8-8-3-3-3/summary_ConvLSTM-8-8-8-3-3-3.txt') as summary_file:\n",
    "    content = summary_file.readlines()\n",
    "\n",
    "content"
   ]
  },
  {
   "cell_type": "code",
   "execution_count": 27,
   "metadata": {},
   "outputs": [
    {
     "data": {
      "image/png": "[encoded data removed]",
      "text/plain": [
       "<Figure size 432x288 with 1 Axes>"
      ]
     },
     "metadata": {
      "needs_background": "light"
     },
     "output_type": "display_data"
    }
   ],
   "source": [
    "with open('/home/hanna/RESULTS/ConvLSTM-8-8-8-3-3-3/history.json') as json_file:\n",
    "    data = json.load(json_file)\n",
    "    \n",
    "# summarize history for accuracy\n",
    "plt.plot(get_array(data, key = 'loss'))\n",
    "plt.plot(get_array(data, key = 'val_loss'))\n",
    "plt.title('model loss')\n",
    "plt.ylabel('loss')\n",
    "plt.xlabel('epoch')\n",
    "plt.legend(['train', 'test'], loc='upper left')\n",
    "plt.show()"
   ]
  },
  {
   "cell_type": "markdown",
   "metadata": {},
   "source": [
    "# Notater \n",
    "1. Test score lavere pga det er ferre tall?\n",
    "2. Legger seg på samme nivå som ConvLSTM"
   ]
  },
  {
   "cell_type": "code",
   "execution_count": null,
   "metadata": {},
   "outputs": [],
   "source": []
  },
  {
   "cell_type": "markdown",
   "metadata": {},
   "source": []
  }
 ],
 "metadata": {
  "kernelspec": {
   "display_name": "Python 3",
   "language": "python",
   "name": "python3"
  },
  "language_info": {
   "codemirror_mode": {
    "name": "ipython",
    "version": 3
   },
   "file_extension": ".py",
   "mimetype": "text/x-python",
   "name": "python",
   "nbconvert_exporter": "python",
   "pygments_lexer": "ipython3",
   "version": "3.7.6"
  }
 },
 "nbformat": 4,
 "nbformat_minor": 4
}
