{
 "cells": [
  {
   "cell_type": "code",
   "execution_count": 1,
   "metadata": {},
   "outputs": [],
   "source": [
    "import os \n",
    "import glob\n",
    "\n",
    "import numpy as np\n",
    "\n",
    "\n"
   ]
  },
  {
   "cell_type": "code",
   "execution_count": 2,
   "metadata": {},
   "outputs": [],
   "source": [
    "lat = np.arange(81)\n",
    "lon = np.arange(161)"
   ]
  },
  {
   "cell_type": "code",
   "execution_count": null,
   "metadata": {},
   "outputs": [],
   "source": [
    "if self.test_start is not None and self.test_stop is not None:\n",
    "            # Based on start and stop descide which files it gets.\n",
    "            files = get_list_of_files(start = self.test_start, stop = self.test_stop,\n",
    "                            include_start = True, include_stop = True)\n",
    "            dataset = merge(files)\n",
    "\n",
    "            if self.order > 0:\n",
    "                X, y_true = dataset_to_numpy_order_traditional_ar(dataset, self.order, bias = self.bias)\n",
    "            else:\n",
    "                X, y_true = dataset_to_numpy_grid(dataset, bias = self.bias)\n",
    "            y_pred = self.predict(X)\n",
    "        else:\n",
    "            #raise NotImplementedError('Coming soon ... get_evaluation()')\n",
    "            print(\"X shape {}, y shape {}\".format(self.X_train.shape, self.y_train.shape))\n",
    "            y_pred = self.predict(self.X_train)\n",
    "            y_true = self.y_train\n",
    "        # Move most of content in store performance to evaluate\n",
    "        mse  = mean_squared_error(y_true, y_pred)\n",
    "        ase  = accumulated_squared_error(y_true, y_pred)\n",
    "        r2   = r2_score(y_true, y_pred)\n",
    "\n",
    "        vars_dict = {'mse': (['latitude', 'longitude'], mse[:, :, 0]),\n",
    "                     'r2':  (['latitude', 'longitude'], r2[:, :, 0]),\n",
    "                     'ase': (['latitude', 'longitude'], ase[:, :, 0]),\n",
    "                     'global_mse': np.mean(mse),\n",
    "                     'global_r2':  np.mean(r2),\n",
    "                     'global_ase': np.mean(ase)\n",
    "                      }"
   ]
  }
 ],
 "metadata": {
  "kernelspec": {
   "display_name": "Python 3",
   "language": "python",
   "name": "python3"
  },
  "language_info": {
   "codemirror_mode": {
    "name": "ipython",
    "version": 3
   },
   "file_extension": ".py",
   "mimetype": "text/x-python",
   "name": "python",
   "nbconvert_exporter": "python",
   "pygments_lexer": "ipython3",
   "version": "3.7.6"
  }
 },
 "nbformat": 4,
 "nbformat_minor": 4
}
