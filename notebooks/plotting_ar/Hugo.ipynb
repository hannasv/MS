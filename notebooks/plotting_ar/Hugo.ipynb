{
 "cells": [
  {
   "cell_type": "code",
   "execution_count": 18,
   "metadata": {},
   "outputs": [],
   "source": [
    "import glob\n",
    "import os\n",
    "\n",
    "import matplotlib.pyplot as plt \n",
    "import xarray as xr \n",
    "import numpy as np\n",
    "import seaborn as sns"
   ]
  },
  {
   "cell_type": "markdown",
   "metadata": {},
   "source": [
    "# Generated files ? of 13041 .."
   ]
  },
  {
   "cell_type": "code",
   "execution_count": 22,
   "metadata": {},
   "outputs": [
    {
     "data": {
      "text/plain": [
       "611"
      ]
     },
     "execution_count": 22,
     "metadata": {},
     "output_type": "execute_result"
    }
   ],
   "source": [
    "len(glob.glob('/home/hanna/lagrings/ar_data/*'))"
   ]
  },
  {
   "cell_type": "markdown",
   "metadata": {},
   "source": [
    "# Preliminary results AR-models"
   ]
  },
  {
   "cell_type": "markdown",
   "metadata": {},
   "source": [
    "## Combinations:\n",
    "1. Bias, B\n",
    "2. Scaling predictors, T\n",
    "3. Sigmoid transforming target, S\n",
    "4. The lag, L previosly reffered to  order of the AR model. This will be updated in overleaf soon. \n",
    "\n",
    "Other abbreviations AR - autoregressive model includes enviornmental variables as predictors. TR for traditional model does not.\n",
    "Models are given names based on the following convention.\n",
    "\n",
    "$AR_{STB_L}$ or $TR_{STB_L}$, since bias, tranform, sigmoid are bools the letters are included if they are true, and excluded if false. The full STB implies that they are all true and applied in the preprosessing. \n"
   ]
  },
  {
   "cell_type": "markdown",
   "metadata": {},
   "source": [
    "# Attempted runs\n",
    "** Files containing weights and performace is stored in seperated files."
   ]
  },
  {
   "cell_type": "code",
   "execution_count": 2,
   "metadata": {},
   "outputs": [],
   "source": [
    "path = '/home/hanna/lagrings/results/ar/'\n",
    "example = glob.glob(path+'/performance*-5-*')"
   ]
  },
  {
   "cell_type": "code",
   "execution_count": 7,
   "metadata": {},
   "outputs": [
    {
     "data": {
      "text/plain": [
       "12155"
      ]
     },
     "execution_count": 7,
     "metadata": {},
     "output_type": "execute_result"
    }
   ],
   "source": [
    "len(example) # num models -- one for each coordinate pair of (lat, lon)."
   ]
  },
  {
   "cell_type": "code",
   "execution_count": 8,
   "metadata": {},
   "outputs": [
    {
     "data": {
      "text/plain": [
       "array(['AR-5-o0', 'AR-5-o1', 'AR-5-o2', 'AR-5-o3', 'AR-5-o4', 'AR-5-o5',\n",
       "       'AR-S-5-o0', 'AR-S-5-o1', 'AR-S-5-o2', 'AR-S-5-o3', 'AR-S-5-o4',\n",
       "       'AR-S-5-o5', 'AR-T-5-o0', 'AR-T-5-o1', 'AR-T-5-o2', 'AR-T-5-o3',\n",
       "       'AR-T-5-o4', 'AR-T-5-o5', 'TR-5-o1', 'TR-5-o2', 'TR-5-o3',\n",
       "       'TR-5-o4', 'TR-5-o5', 'TR-S-5-o1', 'TR-S-5-o2', 'TR-S-5-o3',\n",
       "       'TR-S-5-o4', 'TR-S-5-o5', 'TR-T-5-o1', 'TR-T-5-o2', 'TR-T-5-o3',\n",
       "       'TR-T-5-o4', 'TR-T-5-o5'], dtype='<U9')"
      ]
     },
     "execution_count": 8,
     "metadata": {},
     "output_type": "execute_result"
    }
   ],
   "source": [
    "unique_models = np.unique([f.split('_')[1] for f in example]) # unique combinations\n",
    "unique_models"
   ]
  },
  {
   "cell_type": "markdown",
   "metadata": {},
   "source": [
    "# Performance of unique models.\n",
    "## BUG in MAE stores MSE ..."
   ]
  },
  {
   "cell_type": "markdown",
   "metadata": {},
   "source": [
    "# Mean of train and test score to get a overview"
   ]
  },
  {
   "cell_type": "code",
   "execution_count": 10,
   "metadata": {},
   "outputs": [],
   "source": [
    "test_scores  = []\n",
    "model_names  = []\n",
    "train_scores = []"
   ]
  },
  {
   "cell_type": "code",
   "execution_count": 11,
   "metadata": {},
   "outputs": [
    {
     "name": "stdout",
     "output_type": "stream",
     "text": [
      "Model: AR-5-o0, train score: 0.1384 and test score 0.1380. \n",
      "Model: AR-5-o1, train score: 0.0453 and test score 0.0441. \n",
      "Model: AR-5-o2, train score: 0.0447 and test score 0.0437. \n",
      "Model: AR-5-o3, train score: 0.0445 and test score 0.0434. \n",
      "Model: AR-5-o4, train score: 0.0444 and test score 0.0433. \n",
      "Model: AR-5-o5, train score: 0.0443 and test score 0.0433. \n",
      "Model: AR-S-5-o0, train score: 0.1141 and test score 0.1139. \n",
      "Model: AR-S-5-o1, train score: 0.0372 and test score 0.0363. \n",
      "Model: AR-S-5-o2, train score: 0.0368 and test score 0.0359. \n",
      "Model: AR-S-5-o3, train score: 0.0366 and test score 0.0357. \n",
      "Model: AR-S-5-o4, train score: 0.0365 and test score 0.0356. \n",
      "Model: AR-S-5-o5, train score: 0.0364 and test score 0.0356. \n",
      "Model: AR-T-5-o0, train score: 0.2126 and test score 0.2209. \n",
      "Model: AR-T-5-o1, train score: 0.2075 and test score 0.2144. \n",
      "Model: AR-T-5-o2, train score: 0.2043 and test score 0.2112. \n",
      "Model: AR-T-5-o3, train score: 0.2015 and test score 0.2082. \n",
      "Model: AR-T-5-o4, train score: 0.1988 and test score 0.2056. \n",
      "Model: AR-T-5-o5, train score: 0.1963 and test score 0.2030. \n",
      "Model: TR-5-o1, train score: 0.0470 and test score 0.0457. \n",
      "Model: TR-5-o2, train score: 0.0460 and test score 0.0449. \n",
      "Model: TR-5-o3, train score: 0.0456 and test score 0.0445. \n",
      "Model: TR-5-o4, train score: 0.0453 and test score 0.0443. \n",
      "Model: TR-5-o5, train score: 0.0452 and test score 0.0441. \n",
      "Model: TR-S-5-o1, train score: 0.0386 and test score 0.0376. \n",
      "Model: TR-S-5-o2, train score: 0.0378 and test score 0.0369. \n",
      "Model: TR-S-5-o3, train score: 0.0375 and test score 0.0366. \n",
      "Model: TR-S-5-o4, train score: 0.0373 and test score 0.0364. \n",
      "Model: TR-S-5-o5, train score: 0.0372 and test score 0.0363. \n",
      "Model: TR-T-5-o1, train score: 0.2122 and test score 0.2155. \n",
      "Model: TR-T-5-o2, train score: 0.2092 and test score 0.2126. \n",
      "Model: TR-T-5-o3, train score: 0.2065 and test score 0.2098. \n",
      "Model: TR-T-5-o4, train score: 0.2040 and test score 0.2073. \n",
      "Model: TR-T-5-o5, train score: 0.2016 and test score 0.2049. \n"
     ]
    }
   ],
   "source": [
    "for model in unique_models:\n",
    "    relevant_files = glob.glob(path+f'/performance*{model}*')\n",
    "    data = xr.open_mfdataset(relevant_files, combine = 'by_coords') \n",
    "    test  = data['mse_test'].mean().values\n",
    "    train = data['mse_train'].mean().values\n",
    "    \n",
    "    test_scores.append(test)\n",
    "    train_scores.append(train)\n",
    "    model_names.append(model)\n",
    "    \n",
    "    print(f'Model: {model}, train score: {train:.4f} and test score {test:.4f}. ')"
   ]
  },
  {
   "cell_type": "code",
   "execution_count": 63,
   "metadata": {},
   "outputs": [],
   "source": [
    "NAMES = np.array(model_names[:3*6]).reshape(int(len(model_names[:3*6])/6), 6)\n",
    "ar_names = [ l.split('-5-')[0] for l in NAMES[:, 0] ]\n",
    "\n",
    "NAMES = np.array(model_names[3*6:]).reshape(int(len(model_names[3*6:])/5), 5)\n",
    "tr_names = [ l.split('-5-')[0] for l in NAMES[:, 0] ]"
   ]
  },
  {
   "cell_type": "code",
   "execution_count": 64,
   "metadata": {},
   "outputs": [
    {
     "data": {
      "text/plain": [
       "['AR', 'AR-S', 'AR-T', 'TR', 'TR-S', 'TR-T']"
      ]
     },
     "execution_count": 64,
     "metadata": {},
     "output_type": "execute_result"
    }
   ],
   "source": [
    "ar_names+tr_names"
   ]
  },
  {
   "cell_type": "code",
   "execution_count": 59,
   "metadata": {},
   "outputs": [],
   "source": [
    "ar_data      = np.array(test_scores[:3*6]).reshape(int(len(test_scores[:3*6])/6), 6)\n",
    "temp_tr_data = np.array(test_scores[3*6:]).reshape(int(len(test_scores[3*6:])/5), 5)\n",
    "tr_data = np.concatenate([np.nan*np.ones((data.shape[0], 1)), data], axis = 1)"
   ]
  },
  {
   "cell_type": "code",
   "execution_count": 61,
   "metadata": {},
   "outputs": [],
   "source": [
    "merged = np.concatenate([ar_data, tr_data], axis = 0)"
   ]
  },
  {
   "cell_type": "code",
   "execution_count": 67,
   "metadata": {},
   "outputs": [
    {
     "data": {
      "text/plain": [
       "Text(0.5, 1.0, 'MSE --  means are based on a subset of coordinates to get an overview')"
      ]
     },
     "execution_count": 67,
     "metadata": {},
     "output_type": "execute_result"
    },
    {
     "data": {
      "image/png": "[encoded data removed]",
      "text/plain": [
       "<Figure size 1080x504 with 2 Axes>"
      ]
     },
     "metadata": {
      "needs_background": "light"
     },
     "output_type": "display_data"
    }
   ],
   "source": [
    "fig, ax = plt.subplots(1, 1, figsize = (15, 7))\n",
    "ax = sns.heatmap(merged, \n",
    "                 annot = True, # xticklabels='auto', \n",
    "                 yticklabels=ar_names+tr_names, ax = ax)\n",
    "ax.set_xlabel('Lagg')\n",
    "ax.set_title('MSE --  means are based on a subset of coordinates to get an overview')"
   ]
  },
  {
   "cell_type": "markdown",
   "metadata": {},
   "source": [
    "# Comments TODOs\n",
    "1. Look more into weights - which predictors are important. \n",
    "2. Looks like adding more than one lag does add any significat information. \n",
    "3. In isolation sigmoid transformation perform best, followed by none and last is scaling the data. \n",
    "4. There is a small difference between ar and tr models, where ar does it best. \n",
    "\n",
    "\n",
    "Tenker og kjøre følgende andre kombinasjoner \n",
    "* B in isolation \n",
    "* BS, BT\n",
    "* BST"
   ]
  },
  {
   "cell_type": "markdown",
   "metadata": {},
   "source": [
    "# Gridded data -- Didn't to to much work on this is difficult to acess performance on a gridded level. For further I find it best to focus on a calibrated level. "
   ]
  },
  {
   "cell_type": "code",
   "execution_count": 33,
   "metadata": {},
   "outputs": [
    {
     "data": {
      "image/png": "[encoded data removed]",
      "text/plain": [
       "<Figure size 1080x504 with 4 Axes>"
      ]
     },
     "metadata": {
      "needs_background": "light"
     },
     "output_type": "display_data"
    }
   ],
   "source": [
    "key = 'AR-3-o0'\n",
    "relevant_files = glob.glob(path+f'/performance*{key}*')\n",
    "data = xr.open_mfdataset(relevant_files, combine = 'by_coords') \n",
    "\n",
    "fig, axes = plt.subplots(nrows=1, ncols=2, figsize = (15, 7))\n",
    "data['mse_test'].plot(ax = axes[0])\n",
    "data['mse_train'].plot(ax = axes[1])\n",
    "fig.suptitle(key, fontsize = 20);"
   ]
  },
  {
   "cell_type": "code",
   "execution_count": 48,
   "metadata": {},
   "outputs": [],
   "source": [
    "def plot_mse(key = 'AR-3-o0'):\n",
    "    \"\"\" Quick plot function .. \"\"\"\n",
    "    relevant_files = glob.glob(path+f'/performance*{key}*')\n",
    "    data = xr.open_mfdataset(relevant_files, combine = 'by_coords') \n",
    "    fig, axes = plt.subplots(nrows=1, ncols=2, figsize = (15, 7))\n",
    "    data['mse_test'].plot(ax = axes[0])\n",
    "    data['mse_train'].plot(ax = axes[1])\n",
    "    fig.suptitle(key, fontsize = 20);\n",
    "    plt.show()\n",
    "    return "
   ]
  },
  {
   "cell_type": "code",
   "execution_count": null,
   "metadata": {},
   "outputs": [],
   "source": [
    "for model in unique_models:\n",
    "    plot_mse(key = model)"
   ]
  },
  {
   "cell_type": "code",
   "execution_count": null,
   "metadata": {},
   "outputs": [],
   "source": []
  }
 ],
 "metadata": {
  "kernelspec": {
   "display_name": "Python 3",
   "language": "python",
   "name": "python3"
  },
  "language_info": {
   "codemirror_mode": {
    "name": "ipython",
    "version": 3
   },
   "file_extension": ".py",
   "mimetype": "text/x-python",
   "name": "python",
   "nbconvert_exporter": "python",
   "pygments_lexer": "ipython3",
   "version": "3.7.6"
  }
 },
 "nbformat": 4,
 "nbformat_minor": 4
}
