{
 "cells": [
  {
   "cell_type": "code",
   "execution_count": 2,
   "metadata": {},
   "outputs": [],
   "source": [
    "import glob\n",
    "import os\n",
    "\n",
    "import matplotlib.pyplot as plt \n",
    "import xarray as xr \n",
    "import numpy as np\n",
    "import seaborn as sns"
   ]
  },
  {
   "cell_type": "markdown",
   "metadata": {},
   "source": [
    "# Generated files ? of 13041 .."
   ]
  },
  {
   "cell_type": "code",
   "execution_count": 16,
   "metadata": {},
   "outputs": [
    {
     "data": {
      "text/plain": [
       "['/home/hanna/EX3_Results_AR/AR-5',\n",
       " '/home/hanna/EX3_Results_AR/AR-B-5',\n",
       " '/home/hanna/EX3_Results_AR/AR-0',\n",
       " '/home/hanna/EX3_Results_AR/AR-T-5',\n",
       " '/home/hanna/EX3_Results_AR/AR-S-5',\n",
       " '/home/hanna/EX3_Results_AR/AR-B-S-5',\n",
       " '/home/hanna/EX3_Results_AR/AR-T-S-5']"
      ]
     },
     "execution_count": 16,
     "metadata": {},
     "output_type": "execute_result"
    }
   ],
   "source": [
    "glob.glob('/home/hanna/EX3_Results_AR/*')"
   ]
  },
  {
   "cell_type": "code",
   "execution_count": 18,
   "metadata": {},
   "outputs": [],
   "source": [
    "configs = [ fil.split('/')[-1] for fil in glob.glob('/home/hanna/EX3_Results_AR/*')]"
   ]
  },
  {
   "cell_type": "code",
   "execution_count": 19,
   "metadata": {},
   "outputs": [
    {
     "data": {
      "text/plain": [
       "['AR-5', 'AR-B-5', 'AR-T-5', 'AR-S-5', 'AR-B-S-5', 'AR-T-S-5']"
      ]
     },
     "execution_count": 19,
     "metadata": {},
     "output_type": "execute_result"
    }
   ],
   "source": [
    "configs"
   ]
  },
  {
   "cell_type": "code",
   "execution_count": 22,
   "metadata": {},
   "outputs": [
    {
     "name": "stdout",
     "output_type": "stream",
     "text": [
      "585\n",
      "585\n",
      "585\n",
      "585\n",
      "585\n",
      "585\n"
     ]
    }
   ],
   "source": [
    "for conf in configs:\n",
    "    print(len(glob.glob('/home/hanna/EX3_Results_AR/{}/*performance*'.format(conf))))"
   ]
  },
  {
   "cell_type": "code",
   "execution_count": 23,
   "metadata": {},
   "outputs": [
    {
     "data": {
      "text/plain": [
       "65.0"
      ]
     },
     "execution_count": 23,
     "metadata": {},
     "output_type": "execute_result"
    }
   ],
   "source": [
    "585/9"
   ]
  },
  {
   "cell_type": "markdown",
   "metadata": {},
   "source": [
    "# Why does AR models crash??"
   ]
  },
  {
   "cell_type": "code",
   "execution_count": null,
   "metadata": {},
   "outputs": [],
   "source": []
  },
  {
   "cell_type": "code",
   "execution_count": null,
   "metadata": {},
   "outputs": [],
   "source": []
  },
  {
   "cell_type": "code",
   "execution_count": 13,
   "metadata": {},
   "outputs": [],
   "source": [
    "uniQ = [fil.split('performance') for fil in files]"
   ]
  },
  {
   "cell_type": "code",
   "execution_count": 14,
   "metadata": {},
   "outputs": [
    {
     "data": {
      "text/plain": [
       "[['/home/hanna/EX3_Results_AR/AR-5', '_AR-5-o0_-15.0_35.0.nc'],\n",
       " ['/home/hanna/EX3_Results_AR/AR-5', '_AR-5-o0_-14.75_35.0.nc'],\n",
       " ['/home/hanna/EX3_Results_AR/AR-5', '_AR-5-o0_-14.5_35.0.nc'],\n",
       " ['/home/hanna/EX3_Results_AR/AR-5', '_AR-5-o0_-14.25_35.0.nc'],\n",
       " ['/home/hanna/EX3_Results_AR/AR-5', '_AR-5-o0_-14.0_35.0.nc'],\n",
       " ['/home/hanna/EX3_Results_AR/AR-5', '_AR-5-o0_-13.75_35.0.nc'],\n",
       " ['/home/hanna/EX3_Results_AR/AR-5', '_AR-5-o0_-13.5_35.0.nc'],\n",
       " ['/home/hanna/EX3_Results_AR/AR-5', '_AR-5-o0_-13.25_35.0.nc'],\n",
       " ['/home/hanna/EX3_Results_AR/AR-5', '_AR-5-o0_-13.0_35.0.nc'],\n",
       " ['/home/hanna/EX3_Results_AR/AR-5', '_AR-5-o0_-12.75_35.0.nc'],\n",
       " ['/home/hanna/EX3_Results_AR/AR-5', '_AR-5-o0_-12.5_35.0.nc'],\n",
       " ['/home/hanna/EX3_Results_AR/AR-5', '_AR-5-o0_-12.25_35.0.nc'],\n",
       " ['/home/hanna/EX3_Results_AR/AR-5', '_AR-5-o0_-12.0_35.0.nc'],\n",
       " ['/home/hanna/EX3_Results_AR/AR-5', '_AR-5-o0_-11.75_35.0.nc'],\n",
       " ['/home/hanna/EX3_Results_AR/AR-5', '_AR-5-o0_-11.5_35.0.nc'],\n",
       " ['/home/hanna/EX3_Results_AR/AR-5', '_AR-5-o0_-11.25_35.0.nc'],\n",
       " ['/home/hanna/EX3_Results_AR/AR-5', '_AR-5-o0_-11.0_35.0.nc'],\n",
       " ['/home/hanna/EX3_Results_AR/AR-5', '_AR-5-o0_-10.75_35.0.nc'],\n",
       " ['/home/hanna/EX3_Results_AR/AR-5', '_AR-5-o0_-10.5_35.0.nc'],\n",
       " ['/home/hanna/EX3_Results_AR/AR-5', '_AR-5-o0_-10.25_35.0.nc'],\n",
       " ['/home/hanna/EX3_Results_AR/AR-5', '_AR-5-o0_-10.0_35.0.nc'],\n",
       " ['/home/hanna/EX3_Results_AR/AR-5', '_AR-5-o0_-9.75_35.0.nc'],\n",
       " ['/home/hanna/EX3_Results_AR/AR-5', '_AR-5-o0_-9.5_35.0.nc'],\n",
       " ['/home/hanna/EX3_Results_AR/AR-5', '_AR-5-o0_-9.25_35.0.nc'],\n",
       " ['/home/hanna/EX3_Results_AR/AR-5', '_AR-5-o0_-9.0_35.0.nc'],\n",
       " ['/home/hanna/EX3_Results_AR/AR-5', '_AR-5-o0_-8.75_35.0.nc'],\n",
       " ['/home/hanna/EX3_Results_AR/AR-5', '_AR-5-o0_-8.5_35.0.nc'],\n",
       " ['/home/hanna/EX3_Results_AR/AR-5', '_AR-5-o0_-8.25_35.0.nc'],\n",
       " ['/home/hanna/EX3_Results_AR/AR-5', '_AR-5-o0_-8.0_35.0.nc'],\n",
       " ['/home/hanna/EX3_Results_AR/AR-5', '_AR-5-o0_-7.75_35.0.nc'],\n",
       " ['/home/hanna/EX3_Results_AR/AR-5', '_AR-5-o0_-7.5_35.0.nc'],\n",
       " ['/home/hanna/EX3_Results_AR/AR-5', '_AR-5-o0_-7.25_35.0.nc'],\n",
       " ['/home/hanna/EX3_Results_AR/AR-5', '_AR-5-o0_-7.0_35.0.nc'],\n",
       " ['/home/hanna/EX3_Results_AR/AR-5', '_AR-5-o0_-6.75_35.0.nc'],\n",
       " ['/home/hanna/EX3_Results_AR/AR-5', '_AR-5-o0_-6.5_35.0.nc'],\n",
       " ['/home/hanna/EX3_Results_AR/AR-5', '_AR-5-o0_-6.25_35.0.nc'],\n",
       " ['/home/hanna/EX3_Results_AR/AR-5', '_AR-5-o0_-6.0_35.0.nc'],\n",
       " ['/home/hanna/EX3_Results_AR/AR-5', '_AR-5-o0_-5.75_35.0.nc'],\n",
       " ['/home/hanna/EX3_Results_AR/AR-5', '_AR-5-o0_-5.5_35.0.nc'],\n",
       " ['/home/hanna/EX3_Results_AR/AR-5', '_AR-5-o0_-5.25_35.0.nc'],\n",
       " ['/home/hanna/EX3_Results_AR/AR-5', '_AR-5-o0_-5.0_35.0.nc'],\n",
       " ['/home/hanna/EX3_Results_AR/AR-5', '_AR-5-o0_-4.75_35.0.nc'],\n",
       " ['/home/hanna/EX3_Results_AR/AR-5', '_AR-5-o0_-4.5_35.0.nc'],\n",
       " ['/home/hanna/EX3_Results_AR/AR-5', '_AR-5-o0_-4.25_35.0.nc'],\n",
       " ['/home/hanna/EX3_Results_AR/AR-5', '_AR-5-o0_-4.0_35.0.nc'],\n",
       " ['/home/hanna/EX3_Results_AR/AR-5', '_AR-5-o0_-3.75_35.0.nc'],\n",
       " ['/home/hanna/EX3_Results_AR/AR-5', '_AR-5-o0_-3.5_35.0.nc'],\n",
       " ['/home/hanna/EX3_Results_AR/AR-5', '_AR-5-o0_-3.25_35.0.nc'],\n",
       " ['/home/hanna/EX3_Results_AR/AR-5', '_AR-5-o0_-3.0_35.0.nc'],\n",
       " ['/home/hanna/EX3_Results_AR/AR-5', '_AR-5-o0_-2.75_35.0.nc'],\n",
       " ['/home/hanna/EX3_Results_AR/AR-5', '_AR-5-o0_-2.5_35.0.nc'],\n",
       " ['/home/hanna/EX3_Results_AR/AR-5', '_AR-5-o0_-2.25_35.0.nc'],\n",
       " ['/home/hanna/EX3_Results_AR/AR-5', '_AR-5-o0_-2.0_35.0.nc'],\n",
       " ['/home/hanna/EX3_Results_AR/AR-5', '_AR-5-o0_-1.75_35.0.nc'],\n",
       " ['/home/hanna/EX3_Results_AR/AR-5', '_AR-5-o0_-1.5_35.0.nc'],\n",
       " ['/home/hanna/EX3_Results_AR/AR-5', '_AR-5-o0_-1.25_35.0.nc'],\n",
       " ['/home/hanna/EX3_Results_AR/AR-5', '_AR-5-o0_-1.0_35.0.nc'],\n",
       " ['/home/hanna/EX3_Results_AR/AR-5', '_AR-5-o0_-0.75_35.0.nc'],\n",
       " ['/home/hanna/EX3_Results_AR/AR-5', '_AR-5-o0_-0.5_35.0.nc'],\n",
       " ['/home/hanna/EX3_Results_AR/AR-5', '_AR-5-o0_-0.25_35.0.nc'],\n",
       " ['/home/hanna/EX3_Results_AR/AR-5', '_AR-5-o0_0.0_35.0.nc'],\n",
       " ['/home/hanna/EX3_Results_AR/AR-5', '_AR-5-o0_0.25_35.0.nc'],\n",
       " ['/home/hanna/EX3_Results_AR/AR-5', '_AR-5-o0_0.5_35.0.nc'],\n",
       " ['/home/hanna/EX3_Results_AR/AR-5', '_AR-5-o0_0.75_35.0.nc'],\n",
       " ['/home/hanna/EX3_Results_AR/AR-5', '_AR-5-o0_1.0_35.0.nc'],\n",
       " ['/home/hanna/EX3_Results_AR/AR-5', '_AR-5-o0_1.25_35.0.nc'],\n",
       " ['/home/hanna/EX3_Results_AR/AR-5', '_AR-5-o0_1.5_35.0.nc'],\n",
       " ['/home/hanna/EX3_Results_AR/AR-5', '_AR-5-o0_1.75_35.0.nc'],\n",
       " ['/home/hanna/EX3_Results_AR/AR-5', '_AR-5-o0_2.0_35.0.nc'],\n",
       " ['/home/hanna/EX3_Results_AR/AR-5', '_AR-5-o0_2.25_35.0.nc'],\n",
       " ['/home/hanna/EX3_Results_AR/AR-5', '_AR-5-o0_2.5_35.0.nc'],\n",
       " ['/home/hanna/EX3_Results_AR/AR-5', '_AR-5-o0_2.75_35.0.nc'],\n",
       " ['/home/hanna/EX3_Results_AR/AR-5', '_AR-5-o0_3.0_35.0.nc'],\n",
       " ['/home/hanna/EX3_Results_AR/AR-5', '_AR-5-o0_3.25_35.0.nc'],\n",
       " ['/home/hanna/EX3_Results_AR/AR-5', '_AR-5-o0_3.5_35.0.nc'],\n",
       " ['/home/hanna/EX3_Results_AR/AR-5', '_AR-5-o0_3.75_35.0.nc'],\n",
       " ['/home/hanna/EX3_Results_AR/AR-5', '_AR-5-o0_4.0_35.0.nc'],\n",
       " ['/home/hanna/EX3_Results_AR/AR-5', '_AR-5-o0_4.25_35.0.nc'],\n",
       " ['/home/hanna/EX3_Results_AR/AR-5', '_AR-5-o0_4.5_35.0.nc'],\n",
       " ['/home/hanna/EX3_Results_AR/AR-5', '_AR-5-o0_4.75_35.0.nc'],\n",
       " ['/home/hanna/EX3_Results_AR/AR-5', '_AR-5-o0_5.0_35.0.nc'],\n",
       " ['/home/hanna/EX3_Results_AR/AR-5', '_AR-5-o0_5.25_35.0.nc'],\n",
       " ['/home/hanna/EX3_Results_AR/AR-5', '_AR-5-o0_5.5_35.0.nc'],\n",
       " ['/home/hanna/EX3_Results_AR/AR-5', '_AR-5-o0_5.75_35.0.nc'],\n",
       " ['/home/hanna/EX3_Results_AR/AR-5', '_AR-5-o0_6.0_35.0.nc'],\n",
       " ['/home/hanna/EX3_Results_AR/AR-5', '_AR-5-o0_6.25_35.0.nc'],\n",
       " ['/home/hanna/EX3_Results_AR/AR-5', '_AR-5-o0_6.5_35.0.nc'],\n",
       " ['/home/hanna/EX3_Results_AR/AR-5', '_AR-5-o0_6.75_35.0.nc'],\n",
       " ['/home/hanna/EX3_Results_AR/AR-5', '_AR-5-o0_7.0_35.0.nc'],\n",
       " ['/home/hanna/EX3_Results_AR/AR-5', '_AR-5-o0_7.25_35.0.nc'],\n",
       " ['/home/hanna/EX3_Results_AR/AR-5', '_AR-5-o0_7.5_35.0.nc'],\n",
       " ['/home/hanna/EX3_Results_AR/AR-5', '_AR-5-o0_7.75_35.0.nc'],\n",
       " ['/home/hanna/EX3_Results_AR/AR-5', '_AR-5-o0_8.0_35.0.nc'],\n",
       " ['/home/hanna/EX3_Results_AR/AR-5', '_AR-5-o0_8.25_35.0.nc'],\n",
       " ['/home/hanna/EX3_Results_AR/AR-5', '_AR-5-o0_8.5_35.0.nc'],\n",
       " ['/home/hanna/EX3_Results_AR/AR-5', '_AR-5-o0_8.75_35.0.nc'],\n",
       " ['/home/hanna/EX3_Results_AR/AR-5', '_AR-5-o0_9.0_35.0.nc'],\n",
       " ['/home/hanna/EX3_Results_AR/AR-5', '_AR-5-o0_9.25_35.0.nc'],\n",
       " ['/home/hanna/EX3_Results_AR/AR-5', '_AR-5-o0_9.5_35.0.nc'],\n",
       " ['/home/hanna/EX3_Results_AR/AR-5', '_AR-5-o0_9.75_35.0.nc'],\n",
       " ['/home/hanna/EX3_Results_AR/AR-5', '_AR-5-o0_10.0_35.0.nc'],\n",
       " ['/home/hanna/EX3_Results_AR/AR-5', '_AR-5-o0_10.25_35.0.nc'],\n",
       " ['/home/hanna/EX3_Results_AR/AR-5', '_AR-5-o0_10.5_35.0.nc'],\n",
       " ['/home/hanna/EX3_Results_AR/AR-5', '_AR-5-o0_10.75_35.0.nc'],\n",
       " ['/home/hanna/EX3_Results_AR/AR-5', '_AR-5-o0_11.0_35.0.nc'],\n",
       " ['/home/hanna/EX3_Results_AR/AR-5', '_AR-5-o0_11.25_35.0.nc'],\n",
       " ['/home/hanna/EX3_Results_AR/AR-5', '_AR-5-o0_11.5_35.0.nc'],\n",
       " ['/home/hanna/EX3_Results_AR/AR-5', '_AR-5-o0_11.75_35.0.nc'],\n",
       " ['/home/hanna/EX3_Results_AR/AR-5', '_AR-5-o0_12.0_35.0.nc'],\n",
       " ['/home/hanna/EX3_Results_AR/AR-5', '_AR-5-o0_12.25_35.0.nc'],\n",
       " ['/home/hanna/EX3_Results_AR/AR-5', '_AR-5-o0_12.5_35.0.nc'],\n",
       " ['/home/hanna/EX3_Results_AR/AR-5', '_AR-5-o0_12.75_35.0.nc'],\n",
       " ['/home/hanna/EX3_Results_AR/AR-5', '_AR-5-o0_13.0_35.0.nc'],\n",
       " ['/home/hanna/EX3_Results_AR/AR-5', '_AR-5-o0_13.25_35.0.nc'],\n",
       " ['/home/hanna/EX3_Results_AR/AR-5', '_AR-5-o0_13.5_35.0.nc'],\n",
       " ['/home/hanna/EX3_Results_AR/AR-5', '_AR-5-o0_13.75_35.0.nc'],\n",
       " ['/home/hanna/EX3_Results_AR/AR-5', '_AR-5-o0_14.0_35.0.nc']]"
      ]
     },
     "execution_count": 14,
     "metadata": {},
     "output_type": "execute_result"
    }
   ],
   "source": [
    "uniQ"
   ]
  },
  {
   "cell_type": "code",
   "execution_count": 8,
   "metadata": {},
   "outputs": [],
   "source": [
    "data = xr.open_mfdataset(files, combine = 'by_coords') "
   ]
  },
  {
   "cell_type": "code",
   "execution_count": 10,
   "metadata": {},
   "outputs": [
    {
     "data": {
      "text/html": [
       "<div><svg style=\"position: absolute; width: 0; height: 0; overflow: hidden\">\n",
       "<defs>\n",
       "<symbol id=\"icon-database\" viewBox=\"0 0 32 32\">\n",
       "<title>Show/Hide data repr</title>\n",
       "<path d=\"M16 0c-8.837 0-16 2.239-16 5v4c0 2.761 7.163 5 16 5s16-2.239 16-5v-4c0-2.761-7.163-5-16-5z\"></path>\n",
       "<path d=\"M16 17c-8.837 0-16-2.239-16-5v6c0 2.761 7.163 5 16 5s16-2.239 16-5v-6c0 2.761-7.163 5-16 5z\"></path>\n",
       "<path d=\"M16 26c-8.837 0-16-2.239-16-5v6c0 2.761 7.163 5 16 5s16-2.239 16-5v-6c0 2.761-7.163 5-16 5z\"></path>\n",
       "</symbol>\n",
       "<symbol id=\"icon-file-text2\" viewBox=\"0 0 32 32\">\n",
       "<title>Show/Hide attributes</title>\n",
       "<path d=\"M28.681 7.159c-0.694-0.947-1.662-2.053-2.724-3.116s-2.169-2.030-3.116-2.724c-1.612-1.182-2.393-1.319-2.841-1.319h-15.5c-1.378 0-2.5 1.121-2.5 2.5v27c0 1.378 1.122 2.5 2.5 2.5h23c1.378 0 2.5-1.122 2.5-2.5v-19.5c0-0.448-0.137-1.23-1.319-2.841zM24.543 5.457c0.959 0.959 1.712 1.825 2.268 2.543h-4.811v-4.811c0.718 0.556 1.584 1.309 2.543 2.268zM28 29.5c0 0.271-0.229 0.5-0.5 0.5h-23c-0.271 0-0.5-0.229-0.5-0.5v-27c0-0.271 0.229-0.5 0.5-0.5 0 0 15.499-0 15.5 0v7c0 0.552 0.448 1 1 1h7v19.5z\"></path>\n",
       "<path d=\"M23 26h-14c-0.552 0-1-0.448-1-1s0.448-1 1-1h14c0.552 0 1 0.448 1 1s-0.448 1-1 1z\"></path>\n",
       "<path d=\"M23 22h-14c-0.552 0-1-0.448-1-1s0.448-1 1-1h14c0.552 0 1 0.448 1 1s-0.448 1-1 1z\"></path>\n",
       "<path d=\"M23 18h-14c-0.552 0-1-0.448-1-1s0.448-1 1-1h14c0.552 0 1 0.448 1 1s-0.448 1-1 1z\"></path>\n",
       "</symbol>\n",
       "</defs>\n",
       "</svg>\n",
       "<style>/* CSS stylesheet for displaying xarray objects in jupyterlab.\n",
       " *\n",
       " */\n",
       "\n",
       ":root {\n",
       "  --xr-font-color0: var(--jp-content-font-color0, rgba(0, 0, 0, 1));\n",
       "  --xr-font-color2: var(--jp-content-font-color2, rgba(0, 0, 0, 0.54));\n",
       "  --xr-font-color3: var(--jp-content-font-color3, rgba(0, 0, 0, 0.38));\n",
       "  --xr-border-color: var(--jp-border-color2, #e0e0e0);\n",
       "  --xr-disabled-color: var(--jp-layout-color3, #bdbdbd);\n",
       "  --xr-background-color: var(--jp-layout-color0, white);\n",
       "  --xr-background-color-row-even: var(--jp-layout-color1, white);\n",
       "  --xr-background-color-row-odd: var(--jp-layout-color2, #eeeeee);\n",
       "}\n",
       "\n",
       ".xr-wrap {\n",
       "  min-width: 300px;\n",
       "  max-width: 700px;\n",
       "}\n",
       "\n",
       ".xr-header {\n",
       "  padding-top: 6px;\n",
       "  padding-bottom: 6px;\n",
       "  margin-bottom: 4px;\n",
       "  border-bottom: solid 1px var(--xr-border-color);\n",
       "}\n",
       "\n",
       ".xr-header > div,\n",
       ".xr-header > ul {\n",
       "  display: inline;\n",
       "  margin-top: 0;\n",
       "  margin-bottom: 0;\n",
       "}\n",
       "\n",
       ".xr-obj-type,\n",
       ".xr-array-name {\n",
       "  margin-left: 2px;\n",
       "  margin-right: 10px;\n",
       "}\n",
       "\n",
       ".xr-obj-type {\n",
       "  color: var(--xr-font-color2);\n",
       "}\n",
       "\n",
       ".xr-sections {\n",
       "  padding-left: 0 !important;\n",
       "  display: grid;\n",
       "  grid-template-columns: 150px auto auto 1fr 20px 20px;\n",
       "}\n",
       "\n",
       ".xr-section-item {\n",
       "  display: contents;\n",
       "}\n",
       "\n",
       ".xr-section-item input {\n",
       "  display: none;\n",
       "}\n",
       "\n",
       ".xr-section-item input + label {\n",
       "  color: var(--xr-disabled-color);\n",
       "}\n",
       "\n",
       ".xr-section-item input:enabled + label {\n",
       "  cursor: pointer;\n",
       "  color: var(--xr-font-color2);\n",
       "}\n",
       "\n",
       ".xr-section-item input:enabled + label:hover {\n",
       "  color: var(--xr-font-color0);\n",
       "}\n",
       "\n",
       ".xr-section-summary {\n",
       "  grid-column: 1;\n",
       "  color: var(--xr-font-color2);\n",
       "  font-weight: 500;\n",
       "}\n",
       "\n",
       ".xr-section-summary > span {\n",
       "  display: inline-block;\n",
       "  padding-left: 0.5em;\n",
       "}\n",
       "\n",
       ".xr-section-summary-in:disabled + label {\n",
       "  color: var(--xr-font-color2);\n",
       "}\n",
       "\n",
       ".xr-section-summary-in + label:before {\n",
       "  display: inline-block;\n",
       "  content: '►';\n",
       "  font-size: 11px;\n",
       "  width: 15px;\n",
       "  text-align: center;\n",
       "}\n",
       "\n",
       ".xr-section-summary-in:disabled + label:before {\n",
       "  color: var(--xr-disabled-color);\n",
       "}\n",
       "\n",
       ".xr-section-summary-in:checked + label:before {\n",
       "  content: '▼';\n",
       "}\n",
       "\n",
       ".xr-section-summary-in:checked + label > span {\n",
       "  display: none;\n",
       "}\n",
       "\n",
       ".xr-section-summary,\n",
       ".xr-section-inline-details {\n",
       "  padding-top: 4px;\n",
       "  padding-bottom: 4px;\n",
       "}\n",
       "\n",
       ".xr-section-inline-details {\n",
       "  grid-column: 2 / -1;\n",
       "}\n",
       "\n",
       ".xr-section-details {\n",
       "  display: none;\n",
       "  grid-column: 1 / -1;\n",
       "  margin-bottom: 5px;\n",
       "}\n",
       "\n",
       ".xr-section-summary-in:checked ~ .xr-section-details {\n",
       "  display: contents;\n",
       "}\n",
       "\n",
       ".xr-array-wrap {\n",
       "  grid-column: 1 / -1;\n",
       "  display: grid;\n",
       "  grid-template-columns: 20px auto;\n",
       "}\n",
       "\n",
       ".xr-array-wrap > label {\n",
       "  grid-column: 1;\n",
       "  vertical-align: top;\n",
       "}\n",
       "\n",
       ".xr-preview {\n",
       "  color: var(--xr-font-color3);\n",
       "}\n",
       "\n",
       ".xr-array-preview,\n",
       ".xr-array-data {\n",
       "  padding: 0 5px !important;\n",
       "  grid-column: 2;\n",
       "}\n",
       "\n",
       ".xr-array-data,\n",
       ".xr-array-in:checked ~ .xr-array-preview {\n",
       "  display: none;\n",
       "}\n",
       "\n",
       ".xr-array-in:checked ~ .xr-array-data,\n",
       ".xr-array-preview {\n",
       "  display: inline-block;\n",
       "}\n",
       "\n",
       ".xr-dim-list {\n",
       "  display: inline-block !important;\n",
       "  list-style: none;\n",
       "  padding: 0 !important;\n",
       "  margin: 0;\n",
       "}\n",
       "\n",
       ".xr-dim-list li {\n",
       "  display: inline-block;\n",
       "  padding: 0;\n",
       "  margin: 0;\n",
       "}\n",
       "\n",
       ".xr-dim-list:before {\n",
       "  content: '(';\n",
       "}\n",
       "\n",
       ".xr-dim-list:after {\n",
       "  content: ')';\n",
       "}\n",
       "\n",
       ".xr-dim-list li:not(:last-child):after {\n",
       "  content: ',';\n",
       "  padding-right: 5px;\n",
       "}\n",
       "\n",
       ".xr-has-index {\n",
       "  font-weight: bold;\n",
       "}\n",
       "\n",
       ".xr-var-list,\n",
       ".xr-var-item {\n",
       "  display: contents;\n",
       "}\n",
       "\n",
       ".xr-var-item > div,\n",
       ".xr-var-item label,\n",
       ".xr-var-item > .xr-var-name span {\n",
       "  background-color: var(--xr-background-color-row-even);\n",
       "  margin-bottom: 0;\n",
       "}\n",
       "\n",
       ".xr-var-item > .xr-var-name:hover span {\n",
       "  padding-right: 5px;\n",
       "}\n",
       "\n",
       ".xr-var-list > li:nth-child(odd) > div,\n",
       ".xr-var-list > li:nth-child(odd) > label,\n",
       ".xr-var-list > li:nth-child(odd) > .xr-var-name span {\n",
       "  background-color: var(--xr-background-color-row-odd);\n",
       "}\n",
       "\n",
       ".xr-var-name {\n",
       "  grid-column: 1;\n",
       "}\n",
       "\n",
       ".xr-var-dims {\n",
       "  grid-column: 2;\n",
       "}\n",
       "\n",
       ".xr-var-dtype {\n",
       "  grid-column: 3;\n",
       "  text-align: right;\n",
       "  color: var(--xr-font-color2);\n",
       "}\n",
       "\n",
       ".xr-var-preview {\n",
       "  grid-column: 4;\n",
       "}\n",
       "\n",
       ".xr-var-name,\n",
       ".xr-var-dims,\n",
       ".xr-var-dtype,\n",
       ".xr-preview,\n",
       ".xr-attrs dt {\n",
       "  white-space: nowrap;\n",
       "  overflow: hidden;\n",
       "  text-overflow: ellipsis;\n",
       "  padding-right: 10px;\n",
       "}\n",
       "\n",
       ".xr-var-name:hover,\n",
       ".xr-var-dims:hover,\n",
       ".xr-var-dtype:hover,\n",
       ".xr-attrs dt:hover {\n",
       "  overflow: visible;\n",
       "  width: auto;\n",
       "  z-index: 1;\n",
       "}\n",
       "\n",
       ".xr-var-attrs,\n",
       ".xr-var-data {\n",
       "  display: none;\n",
       "  background-color: var(--xr-background-color) !important;\n",
       "  padding-bottom: 5px !important;\n",
       "}\n",
       "\n",
       ".xr-var-attrs-in:checked ~ .xr-var-attrs,\n",
       ".xr-var-data-in:checked ~ .xr-var-data {\n",
       "  display: block;\n",
       "}\n",
       "\n",
       ".xr-var-data > table {\n",
       "  float: right;\n",
       "}\n",
       "\n",
       ".xr-var-name span,\n",
       ".xr-var-data,\n",
       ".xr-attrs {\n",
       "  padding-left: 25px !important;\n",
       "}\n",
       "\n",
       ".xr-attrs,\n",
       ".xr-var-attrs,\n",
       ".xr-var-data {\n",
       "  grid-column: 1 / -1;\n",
       "}\n",
       "\n",
       "dl.xr-attrs {\n",
       "  padding: 0;\n",
       "  margin: 0;\n",
       "  display: grid;\n",
       "  grid-template-columns: 125px auto;\n",
       "}\n",
       "\n",
       ".xr-attrs dt, dd {\n",
       "  padding: 0;\n",
       "  margin: 0;\n",
       "  float: left;\n",
       "  padding-right: 10px;\n",
       "  width: auto;\n",
       "}\n",
       "\n",
       ".xr-attrs dt {\n",
       "  font-weight: normal;\n",
       "  grid-column: 1;\n",
       "}\n",
       "\n",
       ".xr-attrs dt:hover span {\n",
       "  display: inline-block;\n",
       "  background: var(--xr-background-color);\n",
       "  padding-right: 10px;\n",
       "}\n",
       "\n",
       ".xr-attrs dd {\n",
       "  grid-column: 2;\n",
       "  white-space: pre-wrap;\n",
       "  word-break: break-all;\n",
       "}\n",
       "\n",
       ".xr-icon-database,\n",
       ".xr-icon-file-text2 {\n",
       "  display: inline-block;\n",
       "  vertical-align: middle;\n",
       "  width: 1em;\n",
       "  height: 1.5em !important;\n",
       "  stroke-width: 0;\n",
       "  stroke: currentColor;\n",
       "  fill: currentColor;\n",
       "}\n",
       "</style><div class='xr-wrap'><div class='xr-header'><div class='xr-obj-type'>xarray.Dataset</div></div><ul class='xr-sections'><li class='xr-section-item'><input id='section-8e8c9636-df17-4ac0-83d6-909438a221b1' class='xr-section-summary-in' type='checkbox' disabled ><label for='section-8e8c9636-df17-4ac0-83d6-909438a221b1' class='xr-section-summary'  title='Expand/collapse section'>Dimensions:</label><div class='xr-section-inline-details'><ul class='xr-dim-list'><li><span class='xr-has-index'>latitude</span>: 1</li><li><span class='xr-has-index'>longitude</span>: 117</li></ul></div><div class='xr-section-details'></div></li><li class='xr-section-item'><input id='section-946238f3-71c7-4373-8ba5-58fe62d2f625' class='xr-section-summary-in' type='checkbox'  checked><label for='section-946238f3-71c7-4373-8ba5-58fe62d2f625' class='xr-section-summary' >Coordinates: <span>(2)</span></label><div class='xr-section-inline-details'></div><div class='xr-section-details'><ul class='xr-var-list'><li class='xr-var-item'><div class='xr-var-name'><span class='xr-has-index'>latitude</span></div><div class='xr-var-dims'>(latitude)</div><div class='xr-var-dtype'>object</div><div class='xr-var-preview xr-preview'>&#x27;35.0&#x27;</div><input id='attrs-932fa371-baf1-4dfc-b9ab-171b34ea845c' class='xr-var-attrs-in' type='checkbox' disabled><label for='attrs-932fa371-baf1-4dfc-b9ab-171b34ea845c' title='Show/Hide attributes'><svg class='icon xr-icon-file-text2'><use xlink:href='#icon-file-text2'></use></svg></label><input id='data-e682936b-7609-4cd2-8f29-43ea0c712f2d' class='xr-var-data-in' type='checkbox'><label for='data-e682936b-7609-4cd2-8f29-43ea0c712f2d' title='Show/Hide data repr'><svg class='icon xr-icon-database'><use xlink:href='#icon-database'></use></svg></label><div class='xr-var-attrs'><dl class='xr-attrs'></dl></div><pre class='xr-var-data'>array([&#x27;35.0&#x27;], dtype=object)</pre></li><li class='xr-var-item'><div class='xr-var-name'><span class='xr-has-index'>longitude</span></div><div class='xr-var-dims'>(longitude)</div><div class='xr-var-dtype'>object</div><div class='xr-var-preview xr-preview'>&#x27;-0.25&#x27; &#x27;-0.5&#x27; ... &#x27;9.5&#x27; &#x27;9.75&#x27;</div><input id='attrs-5e45e676-1421-40f4-9892-e0ed0a422d71' class='xr-var-attrs-in' type='checkbox' disabled><label for='attrs-5e45e676-1421-40f4-9892-e0ed0a422d71' title='Show/Hide attributes'><svg class='icon xr-icon-file-text2'><use xlink:href='#icon-file-text2'></use></svg></label><input id='data-4c48ca49-e1cd-4ab8-95f4-b83cae3a0316' class='xr-var-data-in' type='checkbox'><label for='data-4c48ca49-e1cd-4ab8-95f4-b83cae3a0316' title='Show/Hide data repr'><svg class='icon xr-icon-database'><use xlink:href='#icon-database'></use></svg></label><div class='xr-var-attrs'><dl class='xr-attrs'></dl></div><pre class='xr-var-data'>array([&#x27;-0.25&#x27;, &#x27;-0.5&#x27;, &#x27;-0.75&#x27;, &#x27;-1.0&#x27;, &#x27;-1.25&#x27;, &#x27;-1.5&#x27;, &#x27;-1.75&#x27;, &#x27;-10.0&#x27;,\n",
       "       &#x27;-10.25&#x27;, &#x27;-10.5&#x27;, &#x27;-10.75&#x27;, &#x27;-11.0&#x27;, &#x27;-11.25&#x27;, &#x27;-11.5&#x27;, &#x27;-11.75&#x27;,\n",
       "       &#x27;-12.0&#x27;, &#x27;-12.25&#x27;, &#x27;-12.5&#x27;, &#x27;-12.75&#x27;, &#x27;-13.0&#x27;, &#x27;-13.25&#x27;, &#x27;-13.5&#x27;,\n",
       "       &#x27;-13.75&#x27;, &#x27;-14.0&#x27;, &#x27;-14.25&#x27;, &#x27;-14.5&#x27;, &#x27;-14.75&#x27;, &#x27;-15.0&#x27;, &#x27;-2.0&#x27;,\n",
       "       &#x27;-2.25&#x27;, &#x27;-2.5&#x27;, &#x27;-2.75&#x27;, &#x27;-3.0&#x27;, &#x27;-3.25&#x27;, &#x27;-3.5&#x27;, &#x27;-3.75&#x27;, &#x27;-4.0&#x27;,\n",
       "       &#x27;-4.25&#x27;, &#x27;-4.5&#x27;, &#x27;-4.75&#x27;, &#x27;-5.0&#x27;, &#x27;-5.25&#x27;, &#x27;-5.5&#x27;, &#x27;-5.75&#x27;, &#x27;-6.0&#x27;,\n",
       "       &#x27;-6.25&#x27;, &#x27;-6.5&#x27;, &#x27;-6.75&#x27;, &#x27;-7.0&#x27;, &#x27;-7.25&#x27;, &#x27;-7.5&#x27;, &#x27;-7.75&#x27;, &#x27;-8.0&#x27;,\n",
       "       &#x27;-8.25&#x27;, &#x27;-8.5&#x27;, &#x27;-8.75&#x27;, &#x27;-9.0&#x27;, &#x27;-9.25&#x27;, &#x27;-9.5&#x27;, &#x27;-9.75&#x27;, &#x27;0.0&#x27;,\n",
       "       &#x27;0.25&#x27;, &#x27;0.5&#x27;, &#x27;0.75&#x27;, &#x27;1.0&#x27;, &#x27;1.25&#x27;, &#x27;1.5&#x27;, &#x27;1.75&#x27;, &#x27;10.0&#x27;, &#x27;10.25&#x27;,\n",
       "       &#x27;10.5&#x27;, &#x27;10.75&#x27;, &#x27;11.0&#x27;, &#x27;11.25&#x27;, &#x27;11.5&#x27;, &#x27;11.75&#x27;, &#x27;12.0&#x27;, &#x27;12.25&#x27;,\n",
       "       &#x27;12.5&#x27;, &#x27;12.75&#x27;, &#x27;13.0&#x27;, &#x27;13.25&#x27;, &#x27;13.5&#x27;, &#x27;13.75&#x27;, &#x27;14.0&#x27;, &#x27;2.0&#x27;,\n",
       "       &#x27;2.25&#x27;, &#x27;2.5&#x27;, &#x27;2.75&#x27;, &#x27;3.0&#x27;, &#x27;3.25&#x27;, &#x27;3.5&#x27;, &#x27;3.75&#x27;, &#x27;4.0&#x27;, &#x27;4.25&#x27;,\n",
       "       &#x27;4.5&#x27;, &#x27;4.75&#x27;, &#x27;5.0&#x27;, &#x27;5.25&#x27;, &#x27;5.5&#x27;, &#x27;5.75&#x27;, &#x27;6.0&#x27;, &#x27;6.25&#x27;, &#x27;6.5&#x27;,\n",
       "       &#x27;6.75&#x27;, &#x27;7.0&#x27;, &#x27;7.25&#x27;, &#x27;7.5&#x27;, &#x27;7.75&#x27;, &#x27;8.0&#x27;, &#x27;8.25&#x27;, &#x27;8.5&#x27;, &#x27;8.75&#x27;,\n",
       "       &#x27;9.0&#x27;, &#x27;9.25&#x27;, &#x27;9.5&#x27;, &#x27;9.75&#x27;], dtype=object)</pre></li></ul></div></li><li class='xr-section-item'><input id='section-2542ae88-f8c6-49d4-9884-58ba5e67cbc6' class='xr-section-summary-in' type='checkbox'  ><label for='section-2542ae88-f8c6-49d4-9884-58ba5e67cbc6' class='xr-section-summary' >Data variables: <span>(16)</span></label><div class='xr-section-inline-details'></div><div class='xr-section-details'><ul class='xr-var-list'><li class='xr-var-item'><div class='xr-var-name'><span>mse_test</span></div><div class='xr-var-dims'>(longitude)</div><div class='xr-var-dtype'>float64</div><div class='xr-var-preview xr-preview'>0.1742 0.1754 ... 0.1653 0.1658</div><input id='attrs-14b35023-dd4a-4c50-8781-2f842ef634f9' class='xr-var-attrs-in' type='checkbox' disabled><label for='attrs-14b35023-dd4a-4c50-8781-2f842ef634f9' title='Show/Hide attributes'><svg class='icon xr-icon-file-text2'><use xlink:href='#icon-file-text2'></use></svg></label><input id='data-dc190e9a-0064-4001-b510-619a65bea2c8' class='xr-var-data-in' type='checkbox'><label for='data-dc190e9a-0064-4001-b510-619a65bea2c8' title='Show/Hide data repr'><svg class='icon xr-icon-database'><use xlink:href='#icon-database'></use></svg></label><div class='xr-var-attrs'><dl class='xr-attrs'></dl></div><pre class='xr-var-data'>array([0.17422843, 0.17542924, 0.17493156, 0.17233815, 0.16829131,\n",
       "       0.16547787, 0.16215223, 0.16374497, 0.16255944, 0.16029319,\n",
       "       0.15921772, 0.15694416, 0.15423053, 0.15242636, 0.14955763,\n",
       "       0.14723578, 0.1447293 , 0.14306045, 0.1411968 , 0.13941867,\n",
       "       0.13808424, 0.13714774, 0.13629594, 0.13420951, 0.13308439,\n",
       "       0.13202823, 0.13138614, 0.13090928, 0.15833083, 0.15849264,\n",
       "       0.15805745, 0.16049276, 0.1673245 , 0.16150901, 0.15510257,\n",
       "       0.15210131, 0.1479582 , 0.14692617, 0.14336385, 0.14675206,\n",
       "       0.15063002, 0.15665959, 0.16332548, 0.15745282, 0.15626448,\n",
       "       0.14259962, 0.175988  , 0.17706024, 0.17667944, 0.17725462,\n",
       "       0.17587952, 0.17581111, 0.1748425 , 0.17354665, 0.17316758,\n",
       "       0.17203747, 0.17099079, 0.16894015, 0.16711064, 0.16548744,\n",
       "       0.17341315, 0.1734023 , 0.16869817, 0.1695614 , 0.17358413,\n",
       "       0.17792238, 0.17477199, 0.17254258, 0.16592179, 0.16666898,\n",
       "       0.16407989, 0.16107731, 0.1478963 , 0.17299311, 0.17406268,\n",
       "       0.17573602, 0.1745595 , 0.17361721, 0.17278205, 0.1711969 ,\n",
       "       0.17110546, 0.16961384, 0.16871285, 0.1677065 , 0.16695577,\n",
       "       0.16882933, 0.17032172, 0.17415097, 0.17228813, 0.1747683 ,\n",
       "       0.17041917, 0.17325698, 0.17185865, 0.16932488, 0.16641579,\n",
       "       0.16562667, 0.16911296, 0.16989917, 0.16402585, 0.16214412,\n",
       "       0.15546254, 0.14649466, 0.14628145, 0.15319009, 0.15261499,\n",
       "       0.15816757, 0.15769349, 0.15908354, 0.16116843, 0.16024191,\n",
       "       0.16088215, 0.1625629 , 0.16460286, 0.16444645, 0.16394919,\n",
       "       0.16527544, 0.16577697])</pre></li><li class='xr-var-item'><div class='xr-var-name'><span>mse_train</span></div><div class='xr-var-dims'>(longitude)</div><div class='xr-var-dtype'>float64</div><div class='xr-var-preview xr-preview'>0.1725 0.173 ... 0.1618 0.1608</div><input id='attrs-8678d8d3-03aa-4c50-81bf-0af53471f5da' class='xr-var-attrs-in' type='checkbox' disabled><label for='attrs-8678d8d3-03aa-4c50-81bf-0af53471f5da' title='Show/Hide attributes'><svg class='icon xr-icon-file-text2'><use xlink:href='#icon-file-text2'></use></svg></label><input id='data-d8bc9d82-7e8d-4561-9cb2-c908a1c6c65a' class='xr-var-data-in' type='checkbox'><label for='data-d8bc9d82-7e8d-4561-9cb2-c908a1c6c65a' title='Show/Hide data repr'><svg class='icon xr-icon-database'><use xlink:href='#icon-database'></use></svg></label><div class='xr-var-attrs'><dl class='xr-attrs'></dl></div><pre class='xr-var-data'>array([0.17254532, 0.17301998, 0.17366892, 0.17058194, 0.16820573,\n",
       "       0.16519073, 0.16155587, 0.16853464, 0.1675117 , 0.16542239,\n",
       "       0.16370708, 0.16168654, 0.16000357, 0.15883634, 0.15760881,\n",
       "       0.15598137, 0.15485857, 0.15304877, 0.15250992, 0.15128146,\n",
       "       0.14985774, 0.14803834, 0.14652041, 0.14543998, 0.14525102,\n",
       "       0.14517067, 0.14386909, 0.14228237, 0.15748428, 0.15796896,\n",
       "       0.15803977, 0.15937525, 0.16466159, 0.16153318, 0.15623902,\n",
       "       0.15369953, 0.15193683, 0.14921653, 0.1439683 , 0.14724984,\n",
       "       0.14977294, 0.15360293, 0.15988285, 0.15227489, 0.15169561,\n",
       "       0.14159271, 0.17773357, 0.17822461, 0.1776077 , 0.17815875,\n",
       "       0.17641026, 0.17759129, 0.17788874, 0.17688155, 0.17642296,\n",
       "       0.17512014, 0.17413683, 0.17329036, 0.17150145, 0.17007508,\n",
       "       0.17293722, 0.1728996 , 0.16764111, 0.16930572, 0.17198829,\n",
       "       0.1753114 , 0.17389703, 0.17273723, 0.16189578, 0.15995556,\n",
       "       0.16341539, 0.15903764, 0.14909307, 0.17451853, 0.17287752,\n",
       "       0.17482855, 0.17291252, 0.17100696, 0.16947975, 0.16803032,\n",
       "       0.16674197, 0.1654302 , 0.1646006 , 0.16276468, 0.16053754,\n",
       "       0.17410832, 0.17738381, 0.17869879, 0.17423324, 0.17388431,\n",
       "       0.16906924, 0.16970098, 0.1706239 , 0.16949811, 0.16701853,\n",
       "       0.16708237, 0.16821091, 0.16812754, 0.16329142, 0.16279761,\n",
       "       0.15678017, 0.14781653, 0.148033  , 0.15607789, 0.15608267,\n",
       "       0.16237284, 0.16147398, 0.16291477, 0.16644913, 0.16251055,\n",
       "       0.16233526, 0.16225158, 0.1633202 , 0.16127226, 0.16140184,\n",
       "       0.1618426 , 0.16084984])</pre></li><li class='xr-var-item'><div class='xr-var-name'><span>mae_test</span></div><div class='xr-var-dims'>(longitude)</div><div class='xr-var-dtype'>float64</div><div class='xr-var-preview xr-preview'>0.1742 0.1754 ... 0.1653 0.1658</div><input id='attrs-12d0e952-d4c2-4288-870c-3ea19fe5009e' class='xr-var-attrs-in' type='checkbox' disabled><label for='attrs-12d0e952-d4c2-4288-870c-3ea19fe5009e' title='Show/Hide attributes'><svg class='icon xr-icon-file-text2'><use xlink:href='#icon-file-text2'></use></svg></label><input id='data-812bfe7c-0599-45a2-af89-9c5414d932a7' class='xr-var-data-in' type='checkbox'><label for='data-812bfe7c-0599-45a2-af89-9c5414d932a7' title='Show/Hide data repr'><svg class='icon xr-icon-database'><use xlink:href='#icon-database'></use></svg></label><div class='xr-var-attrs'><dl class='xr-attrs'></dl></div><pre class='xr-var-data'>array([0.17422843, 0.17542924, 0.17493156, 0.17233815, 0.16829131,\n",
       "       0.16547787, 0.16215223, 0.16374497, 0.16255944, 0.16029319,\n",
       "       0.15921772, 0.15694416, 0.15423053, 0.15242636, 0.14955763,\n",
       "       0.14723578, 0.1447293 , 0.14306045, 0.1411968 , 0.13941867,\n",
       "       0.13808424, 0.13714774, 0.13629594, 0.13420951, 0.13308439,\n",
       "       0.13202823, 0.13138614, 0.13090928, 0.15833083, 0.15849264,\n",
       "       0.15805745, 0.16049276, 0.1673245 , 0.16150901, 0.15510257,\n",
       "       0.15210131, 0.1479582 , 0.14692617, 0.14336385, 0.14675206,\n",
       "       0.15063002, 0.15665959, 0.16332548, 0.15745282, 0.15626448,\n",
       "       0.14259962, 0.175988  , 0.17706024, 0.17667944, 0.17725462,\n",
       "       0.17587952, 0.17581111, 0.1748425 , 0.17354665, 0.17316758,\n",
       "       0.17203747, 0.17099079, 0.16894015, 0.16711064, 0.16548744,\n",
       "       0.17341315, 0.1734023 , 0.16869817, 0.1695614 , 0.17358413,\n",
       "       0.17792238, 0.17477199, 0.17254258, 0.16592179, 0.16666898,\n",
       "       0.16407989, 0.16107731, 0.1478963 , 0.17299311, 0.17406268,\n",
       "       0.17573602, 0.1745595 , 0.17361721, 0.17278205, 0.1711969 ,\n",
       "       0.17110546, 0.16961384, 0.16871285, 0.1677065 , 0.16695577,\n",
       "       0.16882933, 0.17032172, 0.17415097, 0.17228813, 0.1747683 ,\n",
       "       0.17041917, 0.17325698, 0.17185865, 0.16932488, 0.16641579,\n",
       "       0.16562667, 0.16911296, 0.16989917, 0.16402585, 0.16214412,\n",
       "       0.15546254, 0.14649466, 0.14628145, 0.15319009, 0.15261499,\n",
       "       0.15816757, 0.15769349, 0.15908354, 0.16116843, 0.16024191,\n",
       "       0.16088215, 0.1625629 , 0.16460286, 0.16444645, 0.16394919,\n",
       "       0.16527544, 0.16577697])</pre></li><li class='xr-var-item'><div class='xr-var-name'><span>mae_train</span></div><div class='xr-var-dims'>(longitude)</div><div class='xr-var-dtype'>float64</div><div class='xr-var-preview xr-preview'>0.1725 0.173 ... 0.1618 0.1608</div><input id='attrs-ced454d4-e0a9-4a57-989a-a70f81740e3f' class='xr-var-attrs-in' type='checkbox' disabled><label for='attrs-ced454d4-e0a9-4a57-989a-a70f81740e3f' title='Show/Hide attributes'><svg class='icon xr-icon-file-text2'><use xlink:href='#icon-file-text2'></use></svg></label><input id='data-51a4ffe8-7063-4066-8106-456902db66f0' class='xr-var-data-in' type='checkbox'><label for='data-51a4ffe8-7063-4066-8106-456902db66f0' title='Show/Hide data repr'><svg class='icon xr-icon-database'><use xlink:href='#icon-database'></use></svg></label><div class='xr-var-attrs'><dl class='xr-attrs'></dl></div><pre class='xr-var-data'>array([0.17254532, 0.17301998, 0.17366892, 0.17058194, 0.16820573,\n",
       "       0.16519073, 0.16155587, 0.16853464, 0.1675117 , 0.16542239,\n",
       "       0.16370708, 0.16168654, 0.16000357, 0.15883634, 0.15760881,\n",
       "       0.15598137, 0.15485857, 0.15304877, 0.15250992, 0.15128146,\n",
       "       0.14985774, 0.14803834, 0.14652041, 0.14543998, 0.14525102,\n",
       "       0.14517067, 0.14386909, 0.14228237, 0.15748428, 0.15796896,\n",
       "       0.15803977, 0.15937525, 0.16466159, 0.16153318, 0.15623902,\n",
       "       0.15369953, 0.15193683, 0.14921653, 0.1439683 , 0.14724984,\n",
       "       0.14977294, 0.15360293, 0.15988285, 0.15227489, 0.15169561,\n",
       "       0.14159271, 0.17773357, 0.17822461, 0.1776077 , 0.17815875,\n",
       "       0.17641026, 0.17759129, 0.17788874, 0.17688155, 0.17642296,\n",
       "       0.17512014, 0.17413683, 0.17329036, 0.17150145, 0.17007508,\n",
       "       0.17293722, 0.1728996 , 0.16764111, 0.16930572, 0.17198829,\n",
       "       0.1753114 , 0.17389703, 0.17273723, 0.16189578, 0.15995556,\n",
       "       0.16341539, 0.15903764, 0.14909307, 0.17451853, 0.17287752,\n",
       "       0.17482855, 0.17291252, 0.17100696, 0.16947975, 0.16803032,\n",
       "       0.16674197, 0.1654302 , 0.1646006 , 0.16276468, 0.16053754,\n",
       "       0.17410832, 0.17738381, 0.17869879, 0.17423324, 0.17388431,\n",
       "       0.16906924, 0.16970098, 0.1706239 , 0.16949811, 0.16701853,\n",
       "       0.16708237, 0.16821091, 0.16812754, 0.16329142, 0.16279761,\n",
       "       0.15678017, 0.14781653, 0.148033  , 0.15607789, 0.15608267,\n",
       "       0.16237284, 0.16147398, 0.16291477, 0.16644913, 0.16251055,\n",
       "       0.16233526, 0.16225158, 0.1633202 , 0.16127226, 0.16140184,\n",
       "       0.1618426 , 0.16084984])</pre></li><li class='xr-var-item'><div class='xr-var-name'><span>num_test_samples</span></div><div class='xr-var-dims'>(longitude)</div><div class='xr-var-dtype'>int64</div><div class='xr-var-preview xr-preview'>43734 43734 43734 ... 43734 43734</div><input id='attrs-9595bd45-fec0-48c4-b85e-3518120a82ab' class='xr-var-attrs-in' type='checkbox' disabled><label for='attrs-9595bd45-fec0-48c4-b85e-3518120a82ab' title='Show/Hide attributes'><svg class='icon xr-icon-file-text2'><use xlink:href='#icon-file-text2'></use></svg></label><input id='data-8a2dd394-8b79-4fe9-89e6-07ada5b7ce59' class='xr-var-data-in' type='checkbox'><label for='data-8a2dd394-8b79-4fe9-89e6-07ada5b7ce59' title='Show/Hide data repr'><svg class='icon xr-icon-database'><use xlink:href='#icon-database'></use></svg></label><div class='xr-var-attrs'><dl class='xr-attrs'></dl></div><pre class='xr-var-data'>array([43734, 43734, 43734, 43734, 43734, 43734, 43734, 43734, 43734,\n",
       "       43734, 43734, 43734, 43734, 43734, 43734, 43734, 43734, 43734,\n",
       "       43734, 43734, 43734, 43734, 43734, 43734, 43734, 43734, 43734,\n",
       "       43734, 43734, 43734, 43734, 43734, 43734, 43734, 43734, 43734,\n",
       "       43734, 43734, 43734, 43734, 43734, 43734, 43734, 43734, 43734,\n",
       "       43734, 43734, 43734, 43734, 43734, 43734, 43734, 43734, 43734,\n",
       "       43734, 43734, 43734, 43734, 43734, 43734, 43734, 43734, 43734,\n",
       "       43734, 43734, 43734, 43734, 43734, 43734, 43734, 43734, 43734,\n",
       "       43734, 43734, 43734, 43734, 43734, 43734, 43734, 43734, 43734,\n",
       "       43734, 43734, 43734, 43734, 43734, 43734, 43734, 43734, 43734,\n",
       "       43734, 43734, 43734, 43734, 43734, 43734, 43734, 43734, 43734,\n",
       "       43734, 43734, 43734, 43734, 43734, 43734, 43734, 43734, 43734,\n",
       "       43734, 43734, 43734, 43734, 43734, 43734, 43734, 43734, 43734])</pre></li><li class='xr-var-item'><div class='xr-var-name'><span>num_train_samples</span></div><div class='xr-var-dims'>(longitude)</div><div class='xr-var-dtype'>int64</div><div class='xr-var-preview xr-preview'>84280 84280 84280 ... 84280 84280</div><input id='attrs-c7061f17-b935-4039-9351-1362096c185a' class='xr-var-attrs-in' type='checkbox' disabled><label for='attrs-c7061f17-b935-4039-9351-1362096c185a' title='Show/Hide attributes'><svg class='icon xr-icon-file-text2'><use xlink:href='#icon-file-text2'></use></svg></label><input id='data-76372bc8-37a4-442e-9bc4-4b0c95460a2c' class='xr-var-data-in' type='checkbox'><label for='data-76372bc8-37a4-442e-9bc4-4b0c95460a2c' title='Show/Hide data repr'><svg class='icon xr-icon-database'><use xlink:href='#icon-database'></use></svg></label><div class='xr-var-attrs'><dl class='xr-attrs'></dl></div><pre class='xr-var-data'>array([84280, 84280, 84280, 84280, 84280, 84280, 84280, 84280, 84280,\n",
       "       84280, 84280, 84280, 84280, 84280, 84280, 84280, 84280, 84280,\n",
       "       84280, 84280, 84280, 84280, 84280, 84280, 84280, 84280, 84280,\n",
       "       84280, 84280, 84280, 84280, 84280, 84280, 84280, 84280, 84280,\n",
       "       84280, 84280, 84280, 84280, 84280, 84280, 84280, 84280, 84280,\n",
       "       84280, 84280, 84280, 84280, 84280, 84280, 84280, 84280, 84280,\n",
       "       84280, 84280, 84280, 84280, 84280, 84280, 84280, 84280, 84280,\n",
       "       84280, 84280, 84280, 84280, 84280, 84280, 84280, 84280, 84280,\n",
       "       84280, 84280, 84280, 84280, 84280, 84280, 84280, 84280, 84280,\n",
       "       84280, 84280, 84280, 84280, 84280, 84280, 84280, 84280, 84280,\n",
       "       84280, 84280, 84280, 84280, 84280, 84280, 84280, 84280, 84280,\n",
       "       84280, 84280, 84280, 84280, 84280, 84280, 84280, 84280, 84280,\n",
       "       84280, 84280, 84280, 84280, 84280, 84280, 84280, 84280, 84280])</pre></li><li class='xr-var-item'><div class='xr-var-name'><span>transform</span></div><div class='xr-var-dims'>(longitude)</div><div class='xr-var-dtype'>bool</div><div class='xr-var-preview xr-preview'>False False False ... False False</div><input id='attrs-6324bf51-60ec-497e-8844-486f755cb0e9' class='xr-var-attrs-in' type='checkbox' disabled><label for='attrs-6324bf51-60ec-497e-8844-486f755cb0e9' title='Show/Hide attributes'><svg class='icon xr-icon-file-text2'><use xlink:href='#icon-file-text2'></use></svg></label><input id='data-d7bac6c0-4dfc-4023-be24-8a799f2b2024' class='xr-var-data-in' type='checkbox'><label for='data-d7bac6c0-4dfc-4023-be24-8a799f2b2024' title='Show/Hide data repr'><svg class='icon xr-icon-database'><use xlink:href='#icon-database'></use></svg></label><div class='xr-var-attrs'><dl class='xr-attrs'></dl></div><pre class='xr-var-data'>array([False, False, False, False, False, False, False, False, False,\n",
       "       False, False, False, False, False, False, False, False, False,\n",
       "       False, False, False, False, False, False, False, False, False,\n",
       "       False, False, False, False, False, False, False, False, False,\n",
       "       False, False, False, False, False, False, False, False, False,\n",
       "       False, False, False, False, False, False, False, False, False,\n",
       "       False, False, False, False, False, False, False, False, False,\n",
       "       False, False, False, False, False, False, False, False, False,\n",
       "       False, False, False, False, False, False, False, False, False,\n",
       "       False, False, False, False, False, False, False, False, False,\n",
       "       False, False, False, False, False, False, False, False, False,\n",
       "       False, False, False, False, False, False, False, False, False,\n",
       "       False, False, False, False, False, False, False, False, False])</pre></li><li class='xr-var-item'><div class='xr-var-name'><span>sigmoid</span></div><div class='xr-var-dims'>(longitude)</div><div class='xr-var-dtype'>bool</div><div class='xr-var-preview xr-preview'>False False False ... False False</div><input id='attrs-4ce3f07c-c190-4afa-aceb-502df2169207' class='xr-var-attrs-in' type='checkbox' disabled><label for='attrs-4ce3f07c-c190-4afa-aceb-502df2169207' title='Show/Hide attributes'><svg class='icon xr-icon-file-text2'><use xlink:href='#icon-file-text2'></use></svg></label><input id='data-b3a57274-8bbd-4cb1-b921-32729fc7660d' class='xr-var-data-in' type='checkbox'><label for='data-b3a57274-8bbd-4cb1-b921-32729fc7660d' title='Show/Hide data repr'><svg class='icon xr-icon-database'><use xlink:href='#icon-database'></use></svg></label><div class='xr-var-attrs'><dl class='xr-attrs'></dl></div><pre class='xr-var-data'>array([False, False, False, False, False, False, False, False, False,\n",
       "       False, False, False, False, False, False, False, False, False,\n",
       "       False, False, False, False, False, False, False, False, False,\n",
       "       False, False, False, False, False, False, False, False, False,\n",
       "       False, False, False, False, False, False, False, False, False,\n",
       "       False, False, False, False, False, False, False, False, False,\n",
       "       False, False, False, False, False, False, False, False, False,\n",
       "       False, False, False, False, False, False, False, False, False,\n",
       "       False, False, False, False, False, False, False, False, False,\n",
       "       False, False, False, False, False, False, False, False, False,\n",
       "       False, False, False, False, False, False, False, False, False,\n",
       "       False, False, False, False, False, False, False, False, False,\n",
       "       False, False, False, False, False, False, False, False, False])</pre></li><li class='xr-var-item'><div class='xr-var-name'><span>order</span></div><div class='xr-var-dims'>(longitude)</div><div class='xr-var-dtype'>int64</div><div class='xr-var-preview xr-preview'>5 5 5 5 5 5 5 5 ... 5 5 5 5 5 5 5 5</div><input id='attrs-67879a28-8957-4771-9c3b-5e1ab6b8c5b6' class='xr-var-attrs-in' type='checkbox' disabled><label for='attrs-67879a28-8957-4771-9c3b-5e1ab6b8c5b6' title='Show/Hide attributes'><svg class='icon xr-icon-file-text2'><use xlink:href='#icon-file-text2'></use></svg></label><input id='data-b89b6689-afdf-4ec4-90cc-f714cffd1207' class='xr-var-data-in' type='checkbox'><label for='data-b89b6689-afdf-4ec4-90cc-f714cffd1207' title='Show/Hide data repr'><svg class='icon xr-icon-database'><use xlink:href='#icon-database'></use></svg></label><div class='xr-var-attrs'><dl class='xr-attrs'></dl></div><pre class='xr-var-data'>array([5, 5, 5, 5, 5, 5, 5, 5, 5, 5, 5, 5, 5, 5, 5, 5, 5, 5, 5, 5, 5, 5,\n",
       "       5, 5, 5, 5, 5, 5, 5, 5, 5, 5, 5, 5, 5, 5, 5, 5, 5, 5, 5, 5, 5, 5,\n",
       "       5, 5, 5, 5, 5, 5, 5, 5, 5, 5, 5, 5, 5, 5, 5, 5, 5, 5, 5, 5, 5, 5,\n",
       "       5, 5, 5, 5, 5, 5, 5, 5, 5, 5, 5, 5, 5, 5, 5, 5, 5, 5, 5, 5, 5, 5,\n",
       "       5, 5, 5, 5, 5, 5, 5, 5, 5, 5, 5, 5, 5, 5, 5, 5, 5, 5, 5, 5, 5, 5,\n",
       "       5, 5, 5, 5, 5, 5, 5])</pre></li><li class='xr-var-item'><div class='xr-var-name'><span>start</span></div><div class='xr-var-dims'>(longitude)</div><div class='xr-var-dtype'>&lt;U4</div><div class='xr-var-preview xr-preview'>&#x27;2004&#x27; &#x27;2004&#x27; ... &#x27;2004&#x27; &#x27;2004&#x27;</div><input id='attrs-118a4621-29b1-4b4e-b862-e68ac9bd17c2' class='xr-var-attrs-in' type='checkbox' disabled><label for='attrs-118a4621-29b1-4b4e-b862-e68ac9bd17c2' title='Show/Hide attributes'><svg class='icon xr-icon-file-text2'><use xlink:href='#icon-file-text2'></use></svg></label><input id='data-7351f7e7-5c9e-4723-918f-553fd33deadb' class='xr-var-data-in' type='checkbox'><label for='data-7351f7e7-5c9e-4723-918f-553fd33deadb' title='Show/Hide data repr'><svg class='icon xr-icon-database'><use xlink:href='#icon-database'></use></svg></label><div class='xr-var-attrs'><dl class='xr-attrs'></dl></div><pre class='xr-var-data'>array([&#x27;2004&#x27;, &#x27;2004&#x27;, &#x27;2004&#x27;, &#x27;2004&#x27;, &#x27;2004&#x27;, &#x27;2004&#x27;, &#x27;2004&#x27;, &#x27;2004&#x27;,\n",
       "       &#x27;2004&#x27;, &#x27;2004&#x27;, &#x27;2004&#x27;, &#x27;2004&#x27;, &#x27;2004&#x27;, &#x27;2004&#x27;, &#x27;2004&#x27;, &#x27;2004&#x27;,\n",
       "       &#x27;2004&#x27;, &#x27;2004&#x27;, &#x27;2004&#x27;, &#x27;2004&#x27;, &#x27;2004&#x27;, &#x27;2004&#x27;, &#x27;2004&#x27;, &#x27;2004&#x27;,\n",
       "       &#x27;2004&#x27;, &#x27;2004&#x27;, &#x27;2004&#x27;, &#x27;2004&#x27;, &#x27;2004&#x27;, &#x27;2004&#x27;, &#x27;2004&#x27;, &#x27;2004&#x27;,\n",
       "       &#x27;2004&#x27;, &#x27;2004&#x27;, &#x27;2004&#x27;, &#x27;2004&#x27;, &#x27;2004&#x27;, &#x27;2004&#x27;, &#x27;2004&#x27;, &#x27;2004&#x27;,\n",
       "       &#x27;2004&#x27;, &#x27;2004&#x27;, &#x27;2004&#x27;, &#x27;2004&#x27;, &#x27;2004&#x27;, &#x27;2004&#x27;, &#x27;2004&#x27;, &#x27;2004&#x27;,\n",
       "       &#x27;2004&#x27;, &#x27;2004&#x27;, &#x27;2004&#x27;, &#x27;2004&#x27;, &#x27;2004&#x27;, &#x27;2004&#x27;, &#x27;2004&#x27;, &#x27;2004&#x27;,\n",
       "       &#x27;2004&#x27;, &#x27;2004&#x27;, &#x27;2004&#x27;, &#x27;2004&#x27;, &#x27;2004&#x27;, &#x27;2004&#x27;, &#x27;2004&#x27;, &#x27;2004&#x27;,\n",
       "       &#x27;2004&#x27;, &#x27;2004&#x27;, &#x27;2004&#x27;, &#x27;2004&#x27;, &#x27;2004&#x27;, &#x27;2004&#x27;, &#x27;2004&#x27;, &#x27;2004&#x27;,\n",
       "       &#x27;2004&#x27;, &#x27;2004&#x27;, &#x27;2004&#x27;, &#x27;2004&#x27;, &#x27;2004&#x27;, &#x27;2004&#x27;, &#x27;2004&#x27;, &#x27;2004&#x27;,\n",
       "       &#x27;2004&#x27;, &#x27;2004&#x27;, &#x27;2004&#x27;, &#x27;2004&#x27;, &#x27;2004&#x27;, &#x27;2004&#x27;, &#x27;2004&#x27;, &#x27;2004&#x27;,\n",
       "       &#x27;2004&#x27;, &#x27;2004&#x27;, &#x27;2004&#x27;, &#x27;2004&#x27;, &#x27;2004&#x27;, &#x27;2004&#x27;, &#x27;2004&#x27;, &#x27;2004&#x27;,\n",
       "       &#x27;2004&#x27;, &#x27;2004&#x27;, &#x27;2004&#x27;, &#x27;2004&#x27;, &#x27;2004&#x27;, &#x27;2004&#x27;, &#x27;2004&#x27;, &#x27;2004&#x27;,\n",
       "       &#x27;2004&#x27;, &#x27;2004&#x27;, &#x27;2004&#x27;, &#x27;2004&#x27;, &#x27;2004&#x27;, &#x27;2004&#x27;, &#x27;2004&#x27;, &#x27;2004&#x27;,\n",
       "       &#x27;2004&#x27;, &#x27;2004&#x27;, &#x27;2004&#x27;, &#x27;2004&#x27;, &#x27;2004&#x27;], dtype=&#x27;&lt;U4&#x27;)</pre></li><li class='xr-var-item'><div class='xr-var-name'><span>stop</span></div><div class='xr-var-dims'>(longitude)</div><div class='xr-var-dtype'>&lt;U4</div><div class='xr-var-preview xr-preview'>&#x27;2013&#x27; &#x27;2013&#x27; ... &#x27;2013&#x27; &#x27;2013&#x27;</div><input id='attrs-861dd8d9-5912-4278-aa5a-2a1f05aacdeb' class='xr-var-attrs-in' type='checkbox' disabled><label for='attrs-861dd8d9-5912-4278-aa5a-2a1f05aacdeb' title='Show/Hide attributes'><svg class='icon xr-icon-file-text2'><use xlink:href='#icon-file-text2'></use></svg></label><input id='data-db0b1b3a-8905-4eb0-8ace-672a1782f885' class='xr-var-data-in' type='checkbox'><label for='data-db0b1b3a-8905-4eb0-8ace-672a1782f885' title='Show/Hide data repr'><svg class='icon xr-icon-database'><use xlink:href='#icon-database'></use></svg></label><div class='xr-var-attrs'><dl class='xr-attrs'></dl></div><pre class='xr-var-data'>array([&#x27;2013&#x27;, &#x27;2013&#x27;, &#x27;2013&#x27;, &#x27;2013&#x27;, &#x27;2013&#x27;, &#x27;2013&#x27;, &#x27;2013&#x27;, &#x27;2013&#x27;,\n",
       "       &#x27;2013&#x27;, &#x27;2013&#x27;, &#x27;2013&#x27;, &#x27;2013&#x27;, &#x27;2013&#x27;, &#x27;2013&#x27;, &#x27;2013&#x27;, &#x27;2013&#x27;,\n",
       "       &#x27;2013&#x27;, &#x27;2013&#x27;, &#x27;2013&#x27;, &#x27;2013&#x27;, &#x27;2013&#x27;, &#x27;2013&#x27;, &#x27;2013&#x27;, &#x27;2013&#x27;,\n",
       "       &#x27;2013&#x27;, &#x27;2013&#x27;, &#x27;2013&#x27;, &#x27;2013&#x27;, &#x27;2013&#x27;, &#x27;2013&#x27;, &#x27;2013&#x27;, &#x27;2013&#x27;,\n",
       "       &#x27;2013&#x27;, &#x27;2013&#x27;, &#x27;2013&#x27;, &#x27;2013&#x27;, &#x27;2013&#x27;, &#x27;2013&#x27;, &#x27;2013&#x27;, &#x27;2013&#x27;,\n",
       "       &#x27;2013&#x27;, &#x27;2013&#x27;, &#x27;2013&#x27;, &#x27;2013&#x27;, &#x27;2013&#x27;, &#x27;2013&#x27;, &#x27;2013&#x27;, &#x27;2013&#x27;,\n",
       "       &#x27;2013&#x27;, &#x27;2013&#x27;, &#x27;2013&#x27;, &#x27;2013&#x27;, &#x27;2013&#x27;, &#x27;2013&#x27;, &#x27;2013&#x27;, &#x27;2013&#x27;,\n",
       "       &#x27;2013&#x27;, &#x27;2013&#x27;, &#x27;2013&#x27;, &#x27;2013&#x27;, &#x27;2013&#x27;, &#x27;2013&#x27;, &#x27;2013&#x27;, &#x27;2013&#x27;,\n",
       "       &#x27;2013&#x27;, &#x27;2013&#x27;, &#x27;2013&#x27;, &#x27;2013&#x27;, &#x27;2013&#x27;, &#x27;2013&#x27;, &#x27;2013&#x27;, &#x27;2013&#x27;,\n",
       "       &#x27;2013&#x27;, &#x27;2013&#x27;, &#x27;2013&#x27;, &#x27;2013&#x27;, &#x27;2013&#x27;, &#x27;2013&#x27;, &#x27;2013&#x27;, &#x27;2013&#x27;,\n",
       "       &#x27;2013&#x27;, &#x27;2013&#x27;, &#x27;2013&#x27;, &#x27;2013&#x27;, &#x27;2013&#x27;, &#x27;2013&#x27;, &#x27;2013&#x27;, &#x27;2013&#x27;,\n",
       "       &#x27;2013&#x27;, &#x27;2013&#x27;, &#x27;2013&#x27;, &#x27;2013&#x27;, &#x27;2013&#x27;, &#x27;2013&#x27;, &#x27;2013&#x27;, &#x27;2013&#x27;,\n",
       "       &#x27;2013&#x27;, &#x27;2013&#x27;, &#x27;2013&#x27;, &#x27;2013&#x27;, &#x27;2013&#x27;, &#x27;2013&#x27;, &#x27;2013&#x27;, &#x27;2013&#x27;,\n",
       "       &#x27;2013&#x27;, &#x27;2013&#x27;, &#x27;2013&#x27;, &#x27;2013&#x27;, &#x27;2013&#x27;, &#x27;2013&#x27;, &#x27;2013&#x27;, &#x27;2013&#x27;,\n",
       "       &#x27;2013&#x27;, &#x27;2013&#x27;, &#x27;2013&#x27;, &#x27;2013&#x27;, &#x27;2013&#x27;], dtype=&#x27;&lt;U4&#x27;)</pre></li><li class='xr-var-item'><div class='xr-var-name'><span>test_start</span></div><div class='xr-var-dims'>(longitude)</div><div class='xr-var-dtype'>&lt;U4</div><div class='xr-var-preview xr-preview'>&#x27;2014&#x27; &#x27;2014&#x27; ... &#x27;2014&#x27; &#x27;2014&#x27;</div><input id='attrs-a8ec2f4d-f286-4424-8294-4b02140b50d3' class='xr-var-attrs-in' type='checkbox' disabled><label for='attrs-a8ec2f4d-f286-4424-8294-4b02140b50d3' title='Show/Hide attributes'><svg class='icon xr-icon-file-text2'><use xlink:href='#icon-file-text2'></use></svg></label><input id='data-a16c1836-af40-47c4-b6c0-684a48f37369' class='xr-var-data-in' type='checkbox'><label for='data-a16c1836-af40-47c4-b6c0-684a48f37369' title='Show/Hide data repr'><svg class='icon xr-icon-database'><use xlink:href='#icon-database'></use></svg></label><div class='xr-var-attrs'><dl class='xr-attrs'></dl></div><pre class='xr-var-data'>array([&#x27;2014&#x27;, &#x27;2014&#x27;, &#x27;2014&#x27;, &#x27;2014&#x27;, &#x27;2014&#x27;, &#x27;2014&#x27;, &#x27;2014&#x27;, &#x27;2014&#x27;,\n",
       "       &#x27;2014&#x27;, &#x27;2014&#x27;, &#x27;2014&#x27;, &#x27;2014&#x27;, &#x27;2014&#x27;, &#x27;2014&#x27;, &#x27;2014&#x27;, &#x27;2014&#x27;,\n",
       "       &#x27;2014&#x27;, &#x27;2014&#x27;, &#x27;2014&#x27;, &#x27;2014&#x27;, &#x27;2014&#x27;, &#x27;2014&#x27;, &#x27;2014&#x27;, &#x27;2014&#x27;,\n",
       "       &#x27;2014&#x27;, &#x27;2014&#x27;, &#x27;2014&#x27;, &#x27;2014&#x27;, &#x27;2014&#x27;, &#x27;2014&#x27;, &#x27;2014&#x27;, &#x27;2014&#x27;,\n",
       "       &#x27;2014&#x27;, &#x27;2014&#x27;, &#x27;2014&#x27;, &#x27;2014&#x27;, &#x27;2014&#x27;, &#x27;2014&#x27;, &#x27;2014&#x27;, &#x27;2014&#x27;,\n",
       "       &#x27;2014&#x27;, &#x27;2014&#x27;, &#x27;2014&#x27;, &#x27;2014&#x27;, &#x27;2014&#x27;, &#x27;2014&#x27;, &#x27;2014&#x27;, &#x27;2014&#x27;,\n",
       "       &#x27;2014&#x27;, &#x27;2014&#x27;, &#x27;2014&#x27;, &#x27;2014&#x27;, &#x27;2014&#x27;, &#x27;2014&#x27;, &#x27;2014&#x27;, &#x27;2014&#x27;,\n",
       "       &#x27;2014&#x27;, &#x27;2014&#x27;, &#x27;2014&#x27;, &#x27;2014&#x27;, &#x27;2014&#x27;, &#x27;2014&#x27;, &#x27;2014&#x27;, &#x27;2014&#x27;,\n",
       "       &#x27;2014&#x27;, &#x27;2014&#x27;, &#x27;2014&#x27;, &#x27;2014&#x27;, &#x27;2014&#x27;, &#x27;2014&#x27;, &#x27;2014&#x27;, &#x27;2014&#x27;,\n",
       "       &#x27;2014&#x27;, &#x27;2014&#x27;, &#x27;2014&#x27;, &#x27;2014&#x27;, &#x27;2014&#x27;, &#x27;2014&#x27;, &#x27;2014&#x27;, &#x27;2014&#x27;,\n",
       "       &#x27;2014&#x27;, &#x27;2014&#x27;, &#x27;2014&#x27;, &#x27;2014&#x27;, &#x27;2014&#x27;, &#x27;2014&#x27;, &#x27;2014&#x27;, &#x27;2014&#x27;,\n",
       "       &#x27;2014&#x27;, &#x27;2014&#x27;, &#x27;2014&#x27;, &#x27;2014&#x27;, &#x27;2014&#x27;, &#x27;2014&#x27;, &#x27;2014&#x27;, &#x27;2014&#x27;,\n",
       "       &#x27;2014&#x27;, &#x27;2014&#x27;, &#x27;2014&#x27;, &#x27;2014&#x27;, &#x27;2014&#x27;, &#x27;2014&#x27;, &#x27;2014&#x27;, &#x27;2014&#x27;,\n",
       "       &#x27;2014&#x27;, &#x27;2014&#x27;, &#x27;2014&#x27;, &#x27;2014&#x27;, &#x27;2014&#x27;, &#x27;2014&#x27;, &#x27;2014&#x27;, &#x27;2014&#x27;,\n",
       "       &#x27;2014&#x27;, &#x27;2014&#x27;, &#x27;2014&#x27;, &#x27;2014&#x27;, &#x27;2014&#x27;], dtype=&#x27;&lt;U4&#x27;)</pre></li><li class='xr-var-item'><div class='xr-var-name'><span>test_stop</span></div><div class='xr-var-dims'>(longitude)</div><div class='xr-var-dtype'>&lt;U4</div><div class='xr-var-preview xr-preview'>&#x27;2018&#x27; &#x27;2018&#x27; ... &#x27;2018&#x27; &#x27;2018&#x27;</div><input id='attrs-2ba63383-bec1-4099-a123-8db183d6e17e' class='xr-var-attrs-in' type='checkbox' disabled><label for='attrs-2ba63383-bec1-4099-a123-8db183d6e17e' title='Show/Hide attributes'><svg class='icon xr-icon-file-text2'><use xlink:href='#icon-file-text2'></use></svg></label><input id='data-6971dbdb-8caf-491d-be9f-f09cadd3ed4a' class='xr-var-data-in' type='checkbox'><label for='data-6971dbdb-8caf-491d-be9f-f09cadd3ed4a' title='Show/Hide data repr'><svg class='icon xr-icon-database'><use xlink:href='#icon-database'></use></svg></label><div class='xr-var-attrs'><dl class='xr-attrs'></dl></div><pre class='xr-var-data'>array([&#x27;2018&#x27;, &#x27;2018&#x27;, &#x27;2018&#x27;, &#x27;2018&#x27;, &#x27;2018&#x27;, &#x27;2018&#x27;, &#x27;2018&#x27;, &#x27;2018&#x27;,\n",
       "       &#x27;2018&#x27;, &#x27;2018&#x27;, &#x27;2018&#x27;, &#x27;2018&#x27;, &#x27;2018&#x27;, &#x27;2018&#x27;, &#x27;2018&#x27;, &#x27;2018&#x27;,\n",
       "       &#x27;2018&#x27;, &#x27;2018&#x27;, &#x27;2018&#x27;, &#x27;2018&#x27;, &#x27;2018&#x27;, &#x27;2018&#x27;, &#x27;2018&#x27;, &#x27;2018&#x27;,\n",
       "       &#x27;2018&#x27;, &#x27;2018&#x27;, &#x27;2018&#x27;, &#x27;2018&#x27;, &#x27;2018&#x27;, &#x27;2018&#x27;, &#x27;2018&#x27;, &#x27;2018&#x27;,\n",
       "       &#x27;2018&#x27;, &#x27;2018&#x27;, &#x27;2018&#x27;, &#x27;2018&#x27;, &#x27;2018&#x27;, &#x27;2018&#x27;, &#x27;2018&#x27;, &#x27;2018&#x27;,\n",
       "       &#x27;2018&#x27;, &#x27;2018&#x27;, &#x27;2018&#x27;, &#x27;2018&#x27;, &#x27;2018&#x27;, &#x27;2018&#x27;, &#x27;2018&#x27;, &#x27;2018&#x27;,\n",
       "       &#x27;2018&#x27;, &#x27;2018&#x27;, &#x27;2018&#x27;, &#x27;2018&#x27;, &#x27;2018&#x27;, &#x27;2018&#x27;, &#x27;2018&#x27;, &#x27;2018&#x27;,\n",
       "       &#x27;2018&#x27;, &#x27;2018&#x27;, &#x27;2018&#x27;, &#x27;2018&#x27;, &#x27;2018&#x27;, &#x27;2018&#x27;, &#x27;2018&#x27;, &#x27;2018&#x27;,\n",
       "       &#x27;2018&#x27;, &#x27;2018&#x27;, &#x27;2018&#x27;, &#x27;2018&#x27;, &#x27;2018&#x27;, &#x27;2018&#x27;, &#x27;2018&#x27;, &#x27;2018&#x27;,\n",
       "       &#x27;2018&#x27;, &#x27;2018&#x27;, &#x27;2018&#x27;, &#x27;2018&#x27;, &#x27;2018&#x27;, &#x27;2018&#x27;, &#x27;2018&#x27;, &#x27;2018&#x27;,\n",
       "       &#x27;2018&#x27;, &#x27;2018&#x27;, &#x27;2018&#x27;, &#x27;2018&#x27;, &#x27;2018&#x27;, &#x27;2018&#x27;, &#x27;2018&#x27;, &#x27;2018&#x27;,\n",
       "       &#x27;2018&#x27;, &#x27;2018&#x27;, &#x27;2018&#x27;, &#x27;2018&#x27;, &#x27;2018&#x27;, &#x27;2018&#x27;, &#x27;2018&#x27;, &#x27;2018&#x27;,\n",
       "       &#x27;2018&#x27;, &#x27;2018&#x27;, &#x27;2018&#x27;, &#x27;2018&#x27;, &#x27;2018&#x27;, &#x27;2018&#x27;, &#x27;2018&#x27;, &#x27;2018&#x27;,\n",
       "       &#x27;2018&#x27;, &#x27;2018&#x27;, &#x27;2018&#x27;, &#x27;2018&#x27;, &#x27;2018&#x27;, &#x27;2018&#x27;, &#x27;2018&#x27;, &#x27;2018&#x27;,\n",
       "       &#x27;2018&#x27;, &#x27;2018&#x27;, &#x27;2018&#x27;, &#x27;2018&#x27;, &#x27;2018&#x27;], dtype=&#x27;&lt;U4&#x27;)</pre></li><li class='xr-var-item'><div class='xr-var-name'><span>bias</span></div><div class='xr-var-dims'>(longitude)</div><div class='xr-var-dtype'>bool</div><div class='xr-var-preview xr-preview'>False False False ... False False</div><input id='attrs-d64cfa1d-ca28-4842-bd89-e83affd9ebd9' class='xr-var-attrs-in' type='checkbox' disabled><label for='attrs-d64cfa1d-ca28-4842-bd89-e83affd9ebd9' title='Show/Hide attributes'><svg class='icon xr-icon-file-text2'><use xlink:href='#icon-file-text2'></use></svg></label><input id='data-08414ec3-1e3c-45b3-8ba6-2ead71ff96d8' class='xr-var-data-in' type='checkbox'><label for='data-08414ec3-1e3c-45b3-8ba6-2ead71ff96d8' title='Show/Hide data repr'><svg class='icon xr-icon-database'><use xlink:href='#icon-database'></use></svg></label><div class='xr-var-attrs'><dl class='xr-attrs'></dl></div><pre class='xr-var-data'>array([False, False, False, False, False, False, False, False, False,\n",
       "       False, False, False, False, False, False, False, False, False,\n",
       "       False, False, False, False, False, False, False, False, False,\n",
       "       False, False, False, False, False, False, False, False, False,\n",
       "       False, False, False, False, False, False, False, False, False,\n",
       "       False, False, False, False, False, False, False, False, False,\n",
       "       False, False, False, False, False, False, False, False, False,\n",
       "       False, False, False, False, False, False, False, False, False,\n",
       "       False, False, False, False, False, False, False, False, False,\n",
       "       False, False, False, False, False, False, False, False, False,\n",
       "       False, False, False, False, False, False, False, False, False,\n",
       "       False, False, False, False, False, False, False, False, False,\n",
       "       False, False, False, False, False, False, False, False, False])</pre></li><li class='xr-var-item'><div class='xr-var-name'><span>type</span></div><div class='xr-var-dims'>(longitude)</div><div class='xr-var-dtype'>&lt;U2</div><div class='xr-var-preview xr-preview'>&#x27;AR&#x27; &#x27;AR&#x27; &#x27;AR&#x27; ... &#x27;AR&#x27; &#x27;AR&#x27; &#x27;AR&#x27;</div><input id='attrs-12662655-0bc1-4832-8118-157131a80768' class='xr-var-attrs-in' type='checkbox' disabled><label for='attrs-12662655-0bc1-4832-8118-157131a80768' title='Show/Hide attributes'><svg class='icon xr-icon-file-text2'><use xlink:href='#icon-file-text2'></use></svg></label><input id='data-db85f2d5-5b94-4cec-930f-eff2561915ba' class='xr-var-data-in' type='checkbox'><label for='data-db85f2d5-5b94-4cec-930f-eff2561915ba' title='Show/Hide data repr'><svg class='icon xr-icon-database'><use xlink:href='#icon-database'></use></svg></label><div class='xr-var-attrs'><dl class='xr-attrs'></dl></div><pre class='xr-var-data'>array([&#x27;AR&#x27;, &#x27;AR&#x27;, &#x27;AR&#x27;, &#x27;AR&#x27;, &#x27;AR&#x27;, &#x27;AR&#x27;, &#x27;AR&#x27;, &#x27;AR&#x27;, &#x27;AR&#x27;, &#x27;AR&#x27;, &#x27;AR&#x27;,\n",
       "       &#x27;AR&#x27;, &#x27;AR&#x27;, &#x27;AR&#x27;, &#x27;AR&#x27;, &#x27;AR&#x27;, &#x27;AR&#x27;, &#x27;AR&#x27;, &#x27;AR&#x27;, &#x27;AR&#x27;, &#x27;AR&#x27;, &#x27;AR&#x27;,\n",
       "       &#x27;AR&#x27;, &#x27;AR&#x27;, &#x27;AR&#x27;, &#x27;AR&#x27;, &#x27;AR&#x27;, &#x27;AR&#x27;, &#x27;AR&#x27;, &#x27;AR&#x27;, &#x27;AR&#x27;, &#x27;AR&#x27;, &#x27;AR&#x27;,\n",
       "       &#x27;AR&#x27;, &#x27;AR&#x27;, &#x27;AR&#x27;, &#x27;AR&#x27;, &#x27;AR&#x27;, &#x27;AR&#x27;, &#x27;AR&#x27;, &#x27;AR&#x27;, &#x27;AR&#x27;, &#x27;AR&#x27;, &#x27;AR&#x27;,\n",
       "       &#x27;AR&#x27;, &#x27;AR&#x27;, &#x27;AR&#x27;, &#x27;AR&#x27;, &#x27;AR&#x27;, &#x27;AR&#x27;, &#x27;AR&#x27;, &#x27;AR&#x27;, &#x27;AR&#x27;, &#x27;AR&#x27;, &#x27;AR&#x27;,\n",
       "       &#x27;AR&#x27;, &#x27;AR&#x27;, &#x27;AR&#x27;, &#x27;AR&#x27;, &#x27;AR&#x27;, &#x27;AR&#x27;, &#x27;AR&#x27;, &#x27;AR&#x27;, &#x27;AR&#x27;, &#x27;AR&#x27;, &#x27;AR&#x27;,\n",
       "       &#x27;AR&#x27;, &#x27;AR&#x27;, &#x27;AR&#x27;, &#x27;AR&#x27;, &#x27;AR&#x27;, &#x27;AR&#x27;, &#x27;AR&#x27;, &#x27;AR&#x27;, &#x27;AR&#x27;, &#x27;AR&#x27;, &#x27;AR&#x27;,\n",
       "       &#x27;AR&#x27;, &#x27;AR&#x27;, &#x27;AR&#x27;, &#x27;AR&#x27;, &#x27;AR&#x27;, &#x27;AR&#x27;, &#x27;AR&#x27;, &#x27;AR&#x27;, &#x27;AR&#x27;, &#x27;AR&#x27;, &#x27;AR&#x27;,\n",
       "       &#x27;AR&#x27;, &#x27;AR&#x27;, &#x27;AR&#x27;, &#x27;AR&#x27;, &#x27;AR&#x27;, &#x27;AR&#x27;, &#x27;AR&#x27;, &#x27;AR&#x27;, &#x27;AR&#x27;, &#x27;AR&#x27;, &#x27;AR&#x27;,\n",
       "       &#x27;AR&#x27;, &#x27;AR&#x27;, &#x27;AR&#x27;, &#x27;AR&#x27;, &#x27;AR&#x27;, &#x27;AR&#x27;, &#x27;AR&#x27;, &#x27;AR&#x27;, &#x27;AR&#x27;, &#x27;AR&#x27;, &#x27;AR&#x27;,\n",
       "       &#x27;AR&#x27;, &#x27;AR&#x27;, &#x27;AR&#x27;, &#x27;AR&#x27;, &#x27;AR&#x27;, &#x27;AR&#x27;, &#x27;AR&#x27;], dtype=&#x27;&lt;U2&#x27;)</pre></li><li class='xr-var-item'><div class='xr-var-name'><span>time_elapsed_seconds</span></div><div class='xr-var-dims'>(longitude)</div><div class='xr-var-dtype'>float64</div><div class='xr-var-preview xr-preview'>0.00619 0.007296 ... 0.006202</div><input id='attrs-08dfca18-9a4a-447a-919f-733050be5e9c' class='xr-var-attrs-in' type='checkbox' disabled><label for='attrs-08dfca18-9a4a-447a-919f-733050be5e9c' title='Show/Hide attributes'><svg class='icon xr-icon-file-text2'><use xlink:href='#icon-file-text2'></use></svg></label><input id='data-7a865807-92db-4994-b7b3-0bf501dda5b9' class='xr-var-data-in' type='checkbox'><label for='data-7a865807-92db-4994-b7b3-0bf501dda5b9' title='Show/Hide data repr'><svg class='icon xr-icon-database'><use xlink:href='#icon-database'></use></svg></label><div class='xr-var-attrs'><dl class='xr-attrs'></dl></div><pre class='xr-var-data'>array([ 6.19013608e-03,  7.29610003e-03,  4.38766298e-03,  4.61468310e-03,\n",
       "        6.12568692e-03,  2.01299171e-02,  4.42296313e-03,  2.84239610e-02,\n",
       "        2.92801929e-02,  6.01714791e-03,  4.41377296e-03,  4.46779293e-03,\n",
       "        2.12112289e-02,  4.77020951e-02,  1.34984280e-02,  6.30341379e-02,\n",
       "       -1.55400485e-05,  6.11886592e-03,  6.23557798e-03, -7.36571033e-04,\n",
       "        6.22308801e-03,  5.64016600e-03,  3.99117998e-03,  4.43814311e-03,\n",
       "        1.64059470e-02,  1.64332570e-02,  1.60283460e-02,  7.13799382e-05,\n",
       "        6.05242595e-03,  1.58384750e-02,  6.99162949e-04, -6.42562809e-03,\n",
       "        1.47410901e-04,  2.24913041e-02,  4.46611294e-03,  1.63662850e-02,\n",
       "        8.60835402e-03,  6.18017605e-03,  5.98225696e-03, -9.19153099e-04,\n",
       "        4.45262296e-03,  6.02496695e-03,  1.63812869e-02,  4.42286301e-03,\n",
       "        4.42329305e-03,  4.33509130e-02,  4.41475096e-03,  2.90098833e-05,\n",
       "        2.11107889e-02,  6.14831701e-03,  1.73198790e-02,  4.33688203e-03,\n",
       "        3.02610340e-02,  4.47911303e-03,  1.45343809e-02,  4.48566370e-02,\n",
       "        4.53047291e-03,  1.36866680e-02,  6.22648792e-03,  4.37671202e-03,\n",
       "        4.40995197e-03,  4.23049298e-02,  6.09515596e-03,  6.04548701e-03,\n",
       "        6.15992688e-03,  4.50682980e-02,  8.54431407e-03,  6.07834710e-03,\n",
       "        5.95268898e-03,  1.51669956e-04,  6.20277901e-03,  6.13839796e-03,\n",
       "        5.65039704e-03,  6.15965994e-03,  6.03307900e-03,  6.17635006e-03,\n",
       "        6.15509995e-03,  4.49399231e-05,  4.19400167e-05, -8.24081944e-04,\n",
       "        6.24619902e-03,  9.50144022e-04,  6.13976794e-03, -7.35896174e-06,\n",
       "        7.73599604e-05,  5.94777695e-03,  5.81252598e-03, -2.84499256e-05,\n",
       "        7.85989687e-06,  6.34408789e-05, -1.65499514e-05, -1.37484400e-03,\n",
       "       -3.09009338e-05,  6.13708980e-05, -2.25324591e-03, -3.70799098e-05,\n",
       "        2.37140595e-03,  6.00265898e-03,  5.97804901e-03,  4.24506306e-03,\n",
       "       -3.29900067e-05,  7.94895459e-06, -1.22579979e-04, -4.39500436e-05,\n",
       "        6.16543007e-03,  6.08146808e-03,  6.31100265e-05, -1.69611303e-05,\n",
       "        6.10276894e-03, -5.19708695e-03,  6.27766899e-03,  4.14800597e-05,\n",
       "        6.21512008e-03, -2.76742794e-03, -3.13509954e-05,  6.20346004e-03,\n",
       "        6.20159996e-03])</pre></li></ul></div></li><li class='xr-section-item'><input id='section-62b5e4da-4516-4e57-b0d6-f6786b73b5bc' class='xr-section-summary-in' type='checkbox' disabled ><label for='section-62b5e4da-4516-4e57-b0d6-f6786b73b5bc' class='xr-section-summary'  title='Expand/collapse section'>Attributes: <span>(0)</span></label><div class='xr-section-inline-details'></div><div class='xr-section-details'><dl class='xr-attrs'></dl></div></li></ul></div></div>"
      ],
      "text/plain": [
       "<xarray.Dataset>\n",
       "Dimensions:               (latitude: 1, longitude: 117)\n",
       "Coordinates:\n",
       "  * latitude              (latitude) object '35.0'\n",
       "  * longitude             (longitude) object '-0.25' '-0.5' ... '9.5' '9.75'\n",
       "Data variables:\n",
       "    mse_test              (longitude) float64 0.1742 0.1754 ... 0.1653 0.1658\n",
       "    mse_train             (longitude) float64 0.1725 0.173 ... 0.1618 0.1608\n",
       "    mae_test              (longitude) float64 0.1742 0.1754 ... 0.1653 0.1658\n",
       "    mae_train             (longitude) float64 0.1725 0.173 ... 0.1618 0.1608\n",
       "    num_test_samples      (longitude) int64 43734 43734 43734 ... 43734 43734\n",
       "    num_train_samples     (longitude) int64 84280 84280 84280 ... 84280 84280\n",
       "    transform             (longitude) bool False False False ... False False\n",
       "    sigmoid               (longitude) bool False False False ... False False\n",
       "    order                 (longitude) int64 5 5 5 5 5 5 5 5 ... 5 5 5 5 5 5 5 5\n",
       "    start                 (longitude) <U4 '2004' '2004' '2004' ... '2004' '2004'\n",
       "    stop                  (longitude) <U4 '2013' '2013' '2013' ... '2013' '2013'\n",
       "    test_start            (longitude) <U4 '2014' '2014' '2014' ... '2014' '2014'\n",
       "    test_stop             (longitude) <U4 '2018' '2018' '2018' ... '2018' '2018'\n",
       "    bias                  (longitude) bool False False False ... False False\n",
       "    type                  (longitude) <U2 'AR' 'AR' 'AR' 'AR' ... 'AR' 'AR' 'AR'\n",
       "    time_elapsed_seconds  (longitude) float64 0.00619 0.007296 ... 0.006202"
      ]
     },
     "execution_count": 10,
     "metadata": {},
     "output_type": "execute_result"
    }
   ],
   "source": [
    "data"
   ]
  },
  {
   "cell_type": "code",
   "execution_count": null,
   "metadata": {},
   "outputs": [],
   "source": [
    "test  = data['mse_test'].mean().values\n",
    "train = data['mse_train'].mean().values"
   ]
  },
  {
   "cell_type": "code",
   "execution_count": null,
   "metadata": {},
   "outputs": [],
   "source": []
  },
  {
   "cell_type": "code",
   "execution_count": null,
   "metadata": {},
   "outputs": [],
   "source": []
  },
  {
   "cell_type": "markdown",
   "metadata": {},
   "source": [
    "# Preliminary results AR-models"
   ]
  },
  {
   "cell_type": "markdown",
   "metadata": {},
   "source": [
    "## Combinations:\n",
    "1. Bias, B\n",
    "2. Scaling predictors, T\n",
    "3. Sigmoid transforming target, S\n",
    "4. The lag, L previosly reffered to  order of the AR model. This will be updated in overleaf soon. \n",
    "\n",
    "Other abbreviations AR - autoregressive model includes enviornmental variables as predictors. TR for traditional model does not.\n",
    "Models are given names based on the following convention.\n",
    "\n",
    "$AR_{STB_L}$ or $TR_{STB_L}$, since bias, tranform, sigmoid are bools the letters are included if they are true, and excluded if false. The full STB implies that they are all true and applied in the preprosessing. \n"
   ]
  },
  {
   "cell_type": "markdown",
   "metadata": {},
   "source": [
    "# Attempted runs\n",
    "** Files containing weights and performace is stored in seperated files."
   ]
  },
  {
   "cell_type": "code",
   "execution_count": 3,
   "metadata": {},
   "outputs": [],
   "source": [
    "path = '/home/hanna/lagrings/results/ar/'\n",
    "example = glob.glob(path+'/performance*-5-*')"
   ]
  },
  {
   "cell_type": "code",
   "execution_count": 4,
   "metadata": {},
   "outputs": [
    {
     "data": {
      "text/plain": [
       "36026"
      ]
     },
     "execution_count": 4,
     "metadata": {},
     "output_type": "execute_result"
    }
   ],
   "source": [
    "len(example) # num models -- one for each coordinate pair of (lat, lon)."
   ]
  },
  {
   "cell_type": "code",
   "execution_count": 5,
   "metadata": {},
   "outputs": [
    {
     "data": {
      "text/plain": [
       "array(['AR-5-o0', 'AR-5-o1', 'AR-5-o2', 'AR-5-o3', 'AR-5-o4', 'AR-5-o5',\n",
       "       'AR-B-5-o0', 'AR-B-5-o1', 'AR-B-5-o2', 'AR-B-5-o3', 'AR-B-5-o4',\n",
       "       'AR-B-5-o5', 'AR-B-S-5-o0', 'AR-B-S-5-o1', 'AR-B-S-5-o2',\n",
       "       'AR-B-S-5-o3', 'AR-B-S-5-o4', 'AR-B-S-5-o5', 'AR-S-5-o0',\n",
       "       'AR-S-5-o1', 'AR-S-5-o2', 'AR-S-5-o3', 'AR-S-5-o4', 'AR-S-5-o5',\n",
       "       'AR-T-5-o0', 'AR-T-5-o1', 'AR-T-5-o2', 'AR-T-5-o3', 'AR-T-5-o4',\n",
       "       'AR-T-5-o5', 'AR-T-S-5-o0', 'TR-5-o1', 'TR-5-o2', 'TR-5-o3',\n",
       "       'TR-5-o4', 'TR-5-o5', 'TR-B-5-o1', 'TR-B-5-o2', 'TR-B-5-o3',\n",
       "       'TR-B-5-o4', 'TR-B-5-o5', 'TR-B-S-5-o1', 'TR-B-S-5-o2',\n",
       "       'TR-B-S-5-o3', 'TR-B-S-5-o4', 'TR-B-S-5-o5', 'TR-S-5-o1',\n",
       "       'TR-S-5-o2', 'TR-S-5-o3', 'TR-S-5-o4', 'TR-S-5-o5', 'TR-T-5-o1',\n",
       "       'TR-T-5-o2', 'TR-T-5-o3', 'TR-T-5-o4', 'TR-T-5-o5'], dtype='<U11')"
      ]
     },
     "execution_count": 5,
     "metadata": {},
     "output_type": "execute_result"
    }
   ],
   "source": [
    "unique_models = np.unique([f.split('_')[1] for f in example]) # unique combinations\n",
    "unique_models"
   ]
  },
  {
   "cell_type": "code",
   "execution_count": 6,
   "metadata": {},
   "outputs": [],
   "source": [
    "names = [ '-'.join(l.split('-5-')) for l in unique_models ]\n",
    "# names    = [ l.split('-5-') for l in unique_models ]"
   ]
  },
  {
   "cell_type": "code",
   "execution_count": 7,
   "metadata": {},
   "outputs": [],
   "source": [
    "# names"
   ]
  },
  {
   "cell_type": "markdown",
   "metadata": {},
   "source": [
    "# Performance of unique models.\n",
    "## BUG in MAE stores MSE ..."
   ]
  },
  {
   "cell_type": "markdown",
   "metadata": {},
   "source": [
    "# Mean of train and test score to get a overview"
   ]
  },
  {
   "cell_type": "code",
   "execution_count": 8,
   "metadata": {},
   "outputs": [],
   "source": [
    "test_scores  = []\n",
    "model_names  = []\n",
    "train_scores = []"
   ]
  },
  {
   "cell_type": "code",
   "execution_count": 9,
   "metadata": {},
   "outputs": [
    {
     "name": "stdout",
     "output_type": "stream",
     "text": [
      "760\n",
      "Model: AR-5-o0, train score: 0.1389 and test score 0.1382. \n",
      "760\n",
      "Model: AR-5-o1, train score: 0.0455 and test score 0.0444. \n",
      "760\n",
      "Model: AR-5-o2, train score: 0.0450 and test score 0.0439. \n",
      "760\n",
      "Model: AR-5-o3, train score: 0.0448 and test score 0.0437. \n",
      "760\n",
      "Model: AR-5-o4, train score: 0.0446 and test score 0.0436. \n",
      "760\n",
      "Model: AR-5-o5, train score: 0.0446 and test score 0.0435. \n",
      "941\n",
      "Model: AR-B-5-o0, train score: 0.1369 and test score 0.1367. \n",
      "941\n",
      "Model: AR-B-5-o1, train score: 0.0457 and test score 0.0446. \n",
      "941\n",
      "Model: AR-B-5-o2, train score: 0.0451 and test score 0.0441. \n",
      "941\n",
      "Model: AR-B-5-o3, train score: 0.0449 and test score 0.0439. \n",
      "941\n",
      "Model: AR-B-5-o4, train score: 0.0448 and test score 0.0438. \n",
      "941\n",
      "Model: AR-B-5-o5, train score: 0.0448 and test score 0.0437. \n",
      "941\n",
      "Model: AR-B-S-5-o0, train score: 0.1132 and test score 0.1130. \n",
      "941\n",
      "Model: AR-B-S-5-o1, train score: 0.0378 and test score 0.0368. \n",
      "941\n",
      "Model: AR-B-S-5-o2, train score: 0.0373 and test score 0.0364. \n",
      "941\n",
      "Model: AR-B-S-5-o3, train score: 0.0371 and test score 0.0363. \n",
      "941\n",
      "Model: AR-B-S-5-o4, train score: 0.0370 and test score 0.0362. \n",
      "941\n",
      "Model: AR-B-S-5-o5, train score: 0.0370 and test score 0.0361. \n",
      "317\n",
      "Model: AR-S-5-o0, train score: 0.1141 and test score 0.1139. \n",
      "317\n",
      "Model: AR-S-5-o1, train score: 0.0372 and test score 0.0363. \n",
      "317\n",
      "Model: AR-S-5-o2, train score: 0.0368 and test score 0.0359. \n",
      "317\n",
      "Model: AR-S-5-o3, train score: 0.0366 and test score 0.0357. \n",
      "317\n",
      "Model: AR-S-5-o4, train score: 0.0365 and test score 0.0356. \n",
      "317\n",
      "Model: AR-S-5-o5, train score: 0.0364 and test score 0.0356. \n",
      "316\n",
      "Model: AR-T-5-o0, train score: 0.2126 and test score 0.2209. \n",
      "316\n",
      "Model: AR-T-5-o1, train score: 0.2075 and test score 0.2144. \n",
      "316\n",
      "Model: AR-T-5-o2, train score: 0.2043 and test score 0.2112. \n",
      "316\n",
      "Model: AR-T-5-o3, train score: 0.2015 and test score 0.2082. \n",
      "316\n",
      "Model: AR-T-5-o4, train score: 0.1988 and test score 0.2056. \n",
      "316\n",
      "Model: AR-T-5-o5, train score: 0.1963 and test score 0.2030. \n",
      "1\n",
      "Model: AR-T-S-5-o0, train score: 0.4138 and test score 0.4467. \n",
      "760\n",
      "Model: TR-5-o1, train score: 0.0473 and test score 0.0460. \n",
      "760\n",
      "Model: TR-5-o2, train score: 0.0463 and test score 0.0452. \n",
      "760\n",
      "Model: TR-5-o3, train score: 0.0459 and test score 0.0448. \n",
      "760\n",
      "Model: TR-5-o4, train score: 0.0456 and test score 0.0445. \n",
      "760\n",
      "Model: TR-5-o5, train score: 0.0455 and test score 0.0444. \n",
      "941\n",
      "Model: TR-B-5-o1, train score: 0.0460 and test score 0.0448. \n",
      "941\n",
      "Model: TR-B-5-o2, train score: 0.0454 and test score 0.0443. \n",
      "941\n",
      "Model: TR-B-5-o3, train score: 0.0451 and test score 0.0441. \n",
      "941\n",
      "Model: TR-B-5-o4, train score: 0.0450 and test score 0.0440. \n",
      "941\n",
      "Model: TR-B-5-o5, train score: 0.0450 and test score 0.0439. \n",
      "941\n",
      "Model: TR-B-S-5-o1, train score: 0.0380 and test score 0.0370. \n",
      "941\n",
      "Model: TR-B-S-5-o2, train score: 0.0375 and test score 0.0366. \n",
      "941\n",
      "Model: TR-B-S-5-o3, train score: 0.0373 and test score 0.0364. \n",
      "941\n",
      "Model: TR-B-S-5-o4, train score: 0.0372 and test score 0.0363. \n",
      "941\n",
      "Model: TR-B-S-5-o5, train score: 0.0372 and test score 0.0363. \n",
      "317\n",
      "Model: TR-S-5-o1, train score: 0.0386 and test score 0.0376. \n",
      "317\n",
      "Model: TR-S-5-o2, train score: 0.0378 and test score 0.0369. \n",
      "317\n",
      "Model: TR-S-5-o3, train score: 0.0375 and test score 0.0366. \n",
      "317\n",
      "Model: TR-S-5-o4, train score: 0.0373 and test score 0.0364. \n",
      "317\n",
      "Model: TR-S-5-o5, train score: 0.0372 and test score 0.0363. \n",
      "316\n",
      "Model: TR-T-5-o1, train score: 0.2122 and test score 0.2155. \n",
      "316\n",
      "Model: TR-T-5-o2, train score: 0.2092 and test score 0.2126. \n",
      "316\n",
      "Model: TR-T-5-o3, train score: 0.2065 and test score 0.2098. \n",
      "316\n",
      "Model: TR-T-5-o4, train score: 0.2040 and test score 0.2073. \n",
      "316\n",
      "Model: TR-T-5-o5, train score: 0.2016 and test score 0.2049. \n"
     ]
    }
   ],
   "source": [
    "for model in unique_models:\n",
    "    relevant_files = glob.glob(path+f'/performance*{model}*')\n",
    "    print(len(relevant_files))\n",
    "    try:\n",
    "        data = xr.open_mfdataset(relevant_files, combine = 'by_coords') \n",
    "        test  = data['mse_test'].mean().values\n",
    "        train = data['mse_train'].mean().values\n",
    "\n",
    "        test_scores.append(float(test))\n",
    "        train_scores.append(float(train))\n",
    "        model_names.append(float(model))\n",
    "\n",
    "        print(f'Model: {model}, train score: {train:.4f} and test score {test:.4f}. ')\n",
    "    except OSError:\n",
    "        print('no files for model {}'.format(model))\n",
    "    "
   ]
  },
  {
   "cell_type": "code",
   "execution_count": 13,
   "metadata": {},
   "outputs": [
    {
     "ename": "TypeError",
     "evalue": "iteration over a 0-d array",
     "output_type": "error",
     "traceback": [
      "\u001b[0;31m---------------------------------------------------------------------------\u001b[0m",
      "\u001b[0;31mTypeError\u001b[0m                                 Traceback (most recent call last)",
      "\u001b[0;32m<ipython-input-13-5d9edf27a69e>\u001b[0m in \u001b[0;36m<module>\u001b[0;34m\u001b[0m\n\u001b[0;32m----> 1\u001b[0;31m \u001b[0mlist\u001b[0m\u001b[0;34m(\u001b[0m\u001b[0mtest_scores\u001b[0m\u001b[0;34m[\u001b[0m\u001b[0;36m0\u001b[0m\u001b[0;34m]\u001b[0m\u001b[0;34m.\u001b[0m\u001b[0mastype\u001b[0m\u001b[0;34m(\u001b[0m\u001b[0mfloat\u001b[0m\u001b[0;34m)\u001b[0m\u001b[0;34m)\u001b[0m\u001b[0;34m,\u001b[0m\u001b[0;31m# model_names,  train_scores\u001b[0m\u001b[0;34m\u001b[0m\u001b[0;34m\u001b[0m\u001b[0m\n\u001b[0m",
      "\u001b[0;31mTypeError\u001b[0m: iteration over a 0-d array"
     ]
    }
   ],
   "source": [
    "list(test_scores[0].astype(float)),# model_names,  train_scores "
   ]
  },
  {
   "cell_type": "code",
   "execution_count": 15,
   "metadata": {},
   "outputs": [],
   "source": [
    "json_dict = {}\n",
    "key_train = 'mse_test'\n",
    "key_test = 'mse_train'"
   ]
  },
  {
   "cell_type": "code",
   "execution_count": 26,
   "metadata": {},
   "outputs": [],
   "source": [
    "for i, name in enumerate(model_names):\n",
    "    json_dict[name] = {}\n",
    "    json_dict[name][key_train] = float(train_scores[i])\n",
    "    json_dict[name][key_test] = float(test_scores[i])"
   ]
  },
  {
   "cell_type": "code",
   "execution_count": 27,
   "metadata": {},
   "outputs": [
    {
     "data": {
      "text/plain": [
       "{'AR-5-o0': {'mse_test': 0.13885020321222621, 'mse_train': 0.1381965772061736},\n",
       " 'AR-5-o1': {'mse_test': 0.04553682029741279,\n",
       "  'mse_train': 0.044351094938700965},\n",
       " 'AR-5-o2': {'mse_test': 0.044987956949796064,\n",
       "  'mse_train': 0.04387440676366982},\n",
       " 'AR-5-o3': {'mse_test': 0.044751000410865174,\n",
       "  'mse_train': 0.043666765709773764},\n",
       " 'AR-5-o4': {'mse_test': 0.04464309806245409,\n",
       "  'mse_train': 0.04355705365099342},\n",
       " 'AR-5-o5': {'mse_test': 0.044591660308601073,\n",
       "  'mse_train': 0.043506313752356904},\n",
       " 'AR-B-5-o0': {'mse_test': 0.13693442010843154,\n",
       "  'mse_train': 0.1366723804198303},\n",
       " 'AR-B-5-o1': {'mse_test': 0.04568551328652352,\n",
       "  'mse_train': 0.04455714899858993},\n",
       " 'AR-B-5-o2': {'mse_test': 0.045146647337652265,\n",
       "  'mse_train': 0.04408726526824272},\n",
       " 'AR-B-5-o3': {'mse_test': 0.044915550059225956,\n",
       "  'mse_train': 0.043878809576526664},\n",
       " 'AR-B-5-o4': {'mse_test': 0.04480936814771626,\n",
       "  'mse_train': 0.04377008767736915},\n",
       " 'AR-B-5-o5': {'mse_test': 0.04475955507459145,\n",
       "  'mse_train': 0.04372025809621718},\n",
       " 'AR-B-S-5-o0': {'mse_test': 0.11316894223837318,\n",
       "  'mse_train': 0.11295238051223928},\n",
       " 'AR-B-S-5-o1': {'mse_test': 0.037756622550845886,\n",
       "  'mse_train': 0.03682409008148211},\n",
       " 'AR-B-S-5-o2': {'mse_test': 0.037311278791448146,\n",
       "  'mse_train': 0.03643575642003719},\n",
       " 'AR-B-S-5-o3': {'mse_test': 0.03712028930514542,\n",
       "  'mse_train': 0.03626347898886725},\n",
       " 'AR-B-S-5-o4': {'mse_test': 0.03703253565926964,\n",
       "  'mse_train': 0.036173626179651676},\n",
       " 'AR-B-S-5-o5': {'mse_test': 0.036991367830240866,\n",
       "  'mse_train': 0.036132444707617985},\n",
       " 'AR-S-5-o0': {'mse_test': 0.11405847222031577,\n",
       "  'mse_train': 0.11386825076164221},\n",
       " 'AR-S-5-o1': {'mse_test': 0.03723188197553258,\n",
       "  'mse_train': 0.03626500369413603},\n",
       " 'AR-S-5-o2': {'mse_test': 0.03677678347332318,\n",
       "  'mse_train': 0.035873741997592225},\n",
       " 'AR-S-5-o3': {'mse_test': 0.036577329304006645,\n",
       "  'mse_train': 0.035700173378600854},\n",
       " 'AR-S-5-o4': {'mse_test': 0.036485582893174766,\n",
       "  'mse_train': 0.03560925073815563},\n",
       " 'AR-S-5-o5': {'mse_test': 0.036443659812352716,\n",
       "  'mse_train': 0.035566161830615506},\n",
       " 'AR-T-5-o0': {'mse_test': 0.21259133363084165,\n",
       "  'mse_train': 0.2208565764190009},\n",
       " 'AR-T-5-o1': {'mse_test': 0.20745463926295166,\n",
       "  'mse_train': 0.21438765182578237},\n",
       " 'AR-T-5-o2': {'mse_test': 0.2042983163424709,\n",
       "  'mse_train': 0.21117027081116488},\n",
       " 'AR-T-5-o3': {'mse_test': 0.20146646201933988,\n",
       "  'mse_train': 0.20823023282089204},\n",
       " 'AR-T-5-o4': {'mse_test': 0.1988243539288922,\n",
       "  'mse_train': 0.2055536482896374},\n",
       " 'AR-T-5-o5': {'mse_test': 0.196293668143699,\n",
       "  'mse_train': 0.20295301944193483},\n",
       " 'AR-T-S-5-o0': {'mse_test': 0.413790694853271,\n",
       "  'mse_train': 0.44666706886228763},\n",
       " 'TR-5-o1': {'mse_test': 0.047278216123421965,\n",
       "  'mse_train': 0.046003132484614406},\n",
       " 'TR-5-o2': {'mse_test': 0.046331222306660994,\n",
       "  'mse_train': 0.04517094545896698},\n",
       " 'TR-5-o3': {'mse_test': 0.04587281210767046,\n",
       "  'mse_train': 0.044759972099232534},\n",
       " 'TR-5-o4': {'mse_test': 0.045633043739651914,\n",
       "  'mse_train': 0.044521148044982806},\n",
       " 'TR-5-o5': {'mse_test': 0.04549516213135726,\n",
       "  'mse_train': 0.04438854991155906},\n",
       " 'TR-B-5-o1': {'mse_test': 0.04597439456589884,\n",
       "  'mse_train': 0.04479187408510662},\n",
       " 'TR-B-5-o2': {'mse_test': 0.04539447544371508,\n",
       "  'mse_train': 0.044296867141782104},\n",
       " 'TR-B-5-o3': {'mse_test': 0.0451434440775569,\n",
       "  'mse_train': 0.04407664432322555},\n",
       " 'TR-B-5-o4': {'mse_test': 0.04502612188243986,\n",
       "  'mse_train': 0.043961725665918536},\n",
       " 'TR-B-5-o5': {'mse_test': 0.044969717725672924,\n",
       "  'mse_train': 0.043908782189654286},\n",
       " 'TR-B-S-5-o1': {'mse_test': 0.03799536740983376,\n",
       "  'mse_train': 0.037018077756286454},\n",
       " 'TR-B-S-5-o2': {'mse_test': 0.03751609540802899,\n",
       "  'mse_train': 0.036608981108910824},\n",
       " 'TR-B-S-5-o3': {'mse_test': 0.03730863146905529,\n",
       "  'mse_train': 0.036426978779525235},\n",
       " 'TR-B-S-5-o4': {'mse_test': 0.03721167097722302,\n",
       "  'mse_train': 0.036332004682577294},\n",
       " 'TR-B-S-5-o5': {'mse_test': 0.03716505597163051,\n",
       "  'mse_train': 0.036288249743515945},\n",
       " 'TR-S-5-o1': {'mse_test': 0.03861841079071629,\n",
       "  'mse_train': 0.03758021568701545},\n",
       " 'TR-S-5-o2': {'mse_test': 0.037847288869933014,\n",
       "  'mse_train': 0.03690744880806153},\n",
       " 'TR-S-5-o3': {'mse_test': 0.03746984960777701,\n",
       "  'mse_train': 0.036571384578813516},\n",
       " 'TR-S-5-o4': {'mse_test': 0.037271723075167074,\n",
       "  'mse_train': 0.03637711025217349},\n",
       " 'TR-S-5-o5': {'mse_test': 0.03716154616793309,\n",
       "  'mse_train': 0.036268067675087716},\n",
       " 'TR-T-5-o1': {'mse_test': 0.2121861337926728,\n",
       "  'mse_train': 0.21554291375914433},\n",
       " 'TR-T-5-o2': {'mse_test': 0.20923576229562083,\n",
       "  'mse_train': 0.212558759797705},\n",
       " 'TR-T-5-o3': {'mse_test': 0.20654961051480628,\n",
       "  'mse_train': 0.2098224051564424},\n",
       " 'TR-T-5-o4': {'mse_test': 0.20402427398706802,\n",
       "  'mse_train': 0.2073269115112871},\n",
       " 'TR-T-5-o5': {'mse_test': 0.20159276469581827,\n",
       "  'mse_train': 0.20488873015165918}}"
      ]
     },
     "execution_count": 27,
     "metadata": {},
     "output_type": "execute_result"
    }
   ],
   "source": [
    "json_dict"
   ]
  },
  {
   "cell_type": "code",
   "execution_count": 28,
   "metadata": {},
   "outputs": [],
   "source": [
    "import json\n",
    "with open('/home/hanna/MS-thesis/python_figs/test/test.json', 'w') as json_file:\n",
    "    json.dump(json_dict, json_file)"
   ]
  },
  {
   "cell_type": "code",
   "execution_count": 14,
   "metadata": {},
   "outputs": [
    {
     "data": {
      "text/plain": [
       "0.1381965772061736"
      ]
     },
     "execution_count": 14,
     "metadata": {},
     "output_type": "execute_result"
    }
   ],
   "source": [
    "float(test_scores[0])"
   ]
  },
  {
   "cell_type": "markdown",
   "metadata": {},
   "source": [
    "# Define number of training models"
   ]
  },
  {
   "cell_type": "code",
   "execution_count": 63,
   "metadata": {},
   "outputs": [],
   "source": [
    "NAMES = np.array(model_names[:3*6]).reshape(int(len(model_names[:3*6])/6), 6)\n",
    "ar_names = [ l.split('-5-')[0] for l in NAMES[:, 0] ]\n",
    "\n",
    "NAMES = np.array(model_names[3*6:]).reshape(int(len(model_names[3*6:])/5), 5)\n",
    "tr_names = [ l.split('-5-')[0] for l in NAMES[:, 0] ]"
   ]
  },
  {
   "cell_type": "code",
   "execution_count": 64,
   "metadata": {},
   "outputs": [
    {
     "data": {
      "text/plain": [
       "['AR', 'AR-S', 'AR-T', 'TR', 'TR-S', 'TR-T']"
      ]
     },
     "execution_count": 64,
     "metadata": {},
     "output_type": "execute_result"
    }
   ],
   "source": [
    "ar_names+tr_names"
   ]
  },
  {
   "cell_type": "code",
   "execution_count": 59,
   "metadata": {},
   "outputs": [],
   "source": [
    "ar_data      = np.array(test_scores[:3*6]).reshape(int(len(test_scores[:3*6])/6), 6)\n",
    "temp_tr_data = np.array(test_scores[3*6:]).reshape(int(len(test_scores[3*6:])/5), 5)\n",
    "tr_data = np.concatenate([np.nan*np.ones((data.shape[0], 1)), data], axis = 1)"
   ]
  },
  {
   "cell_type": "code",
   "execution_count": 61,
   "metadata": {},
   "outputs": [],
   "source": [
    "merged = np.concatenate([ar_data, tr_data], axis = 0)"
   ]
  },
  {
   "cell_type": "code",
   "execution_count": 67,
   "metadata": {},
   "outputs": [
    {
     "data": {
      "text/plain": [
       "Text(0.5, 1.0, 'MSE --  means are based on a subset of coordinates to get an overview')"
      ]
     },
     "execution_count": 67,
     "metadata": {},
     "output_type": "execute_result"
    },
    {
     "data": {
      "image/png": "[encoded data removed]",
      "text/plain": [
       "<Figure size 1080x504 with 2 Axes>"
      ]
     },
     "metadata": {
      "needs_background": "light"
     },
     "output_type": "display_data"
    }
   ],
   "source": [
    "fig, ax = plt.subplots(1, 1, figsize = (15, 7))\n",
    "ax = sns.heatmap(merged, \n",
    "                 annot = True, # xticklabels='auto', \n",
    "                 yticklabels=ar_names+tr_names, ax = ax)\n",
    "ax.set_xlabel('Lagg')\n",
    "ax.set_title('MSE --  means are based on a subset of coordinates to get an overview')"
   ]
  },
  {
   "cell_type": "markdown",
   "metadata": {},
   "source": [
    "# Comments TODOs\n",
    "1. Look more into weights - which predictors are important. \n",
    "2. Looks like adding more than one lag does add any significat information. \n",
    "3. In isolation sigmoid transformation perform best, followed by none and last is scaling the data. \n",
    "4. There is a small difference between ar and tr models, where ar does it best. \n",
    "\n",
    "\n",
    "Tenker og kjøre følgende andre kombinasjoner \n",
    "* B in isolation \n",
    "* BS, BT\n",
    "* BST"
   ]
  },
  {
   "cell_type": "markdown",
   "metadata": {},
   "source": [
    "# Gridded data -- Didn't to to much work on this is difficult to acess performance on a gridded level. For further I find it best to focus on a calibrated level. "
   ]
  },
  {
   "cell_type": "code",
   "execution_count": 33,
   "metadata": {},
   "outputs": [
    {
     "data": {
      "image/png": "[encoded data removed]",
      "text/plain": [
       "<Figure size 1080x504 with 4 Axes>"
      ]
     },
     "metadata": {
      "needs_background": "light"
     },
     "output_type": "display_data"
    }
   ],
   "source": [
    "key = 'AR-3-o0'\n",
    "relevant_files = glob.glob(path+f'/performance*{key}*')\n",
    "data = xr.open_mfdataset(relevant_files, combine = 'by_coords') \n",
    "\n",
    "fig, axes = plt.subplots(nrows=1, ncols=2, figsize = (15, 7))\n",
    "data['mse_test'].plot(ax = axes[0])\n",
    "data['mse_train'].plot(ax = axes[1])\n",
    "fig.suptitle(key, fontsize = 20);"
   ]
  },
  {
   "cell_type": "code",
   "execution_count": 48,
   "metadata": {},
   "outputs": [],
   "source": [
    "def plot_mse(key = 'AR-3-o0'):\n",
    "    \"\"\" Quick plot function .. \"\"\"\n",
    "    relevant_files = glob.glob(path+f'/performance*{key}*')\n",
    "    data = xr.open_mfdataset(relevant_files, combine = 'by_coords') \n",
    "    fig, axes = plt.subplots(nrows=1, ncols=2, figsize = (15, 7))\n",
    "    data['mse_test'].plot(ax = axes[0])\n",
    "    data['mse_train'].plot(ax = axes[1])\n",
    "    fig.suptitle(key, fontsize = 20);\n",
    "    plt.show()\n",
    "    return "
   ]
  },
  {
   "cell_type": "code",
   "execution_count": null,
   "metadata": {},
   "outputs": [],
   "source": [
    "for model in unique_models:\n",
    "    plot_mse(key = model)"
   ]
  },
  {
   "cell_type": "markdown",
   "metadata": {},
   "source": [
    "# Performance"
   ]
  },
  {
   "cell_type": "code",
   "execution_count": 10,
   "metadata": {},
   "outputs": [],
   "source": [
    "path = '/home/hanna/lagrings/results/ar/'\n",
    "example = glob.glob(path+'/wei*-5-o2*')"
   ]
  },
  {
   "cell_type": "code",
   "execution_count": 11,
   "metadata": {},
   "outputs": [
    {
     "data": {
      "text/plain": [
       "['/home/hanna/lagrings/results/ar/weights_AR-5-o2_-12.75_30.0.nc',\n",
       " '/home/hanna/lagrings/results/ar/weights_AR-5-o2_-14.75_30.0.nc']"
      ]
     },
     "execution_count": 11,
     "metadata": {},
     "output_type": "execute_result"
    }
   ],
   "source": [
    "subset = example[0:2]\n",
    "subset"
   ]
  },
  {
   "cell_type": "code",
   "execution_count": 6,
   "metadata": {},
   "outputs": [],
   "source": [
    "weights = xr.open_dataset('/home/hanna/lagrings/results/ar/weights_AR-5-o2_-12.75_30.0.nc') "
   ]
  },
  {
   "cell_type": "code",
   "execution_count": 13,
   "metadata": {},
   "outputs": [],
   "source": [
    "weights = xr.open_mfdataset(subset, combine = 'by_coords') "
   ]
  },
  {
   "cell_type": "code",
   "execution_count": 19,
   "metadata": {},
   "outputs": [
    {
     "data": {
      "text/plain": [
       "array(['q', 't2m', 'r', 'sp', 'O1', 'O2'], dtype=object)"
      ]
     },
     "execution_count": 19,
     "metadata": {},
     "output_type": "execute_result"
    }
   ],
   "source": []
  },
  {
   "cell_type": "code",
   "execution_count": 24,
   "metadata": {},
   "outputs": [
    {
     "data": {
      "text/plain": [
       "<matplotlib.axes._subplots.AxesSubplot at 0x7f2575fed5d0>"
      ]
     },
     "execution_count": 24,
     "metadata": {},
     "output_type": "execute_result"
    },
    {
     "data": {
      "image/png": "[encoded data removed]",
      "text/plain": [
       "<Figure size 432x288 with 2 Axes>"
      ]
     },
     "metadata": {
      "needs_background": "light"
     },
     "output_type": "display_data"
    }
   ],
   "source": [
    "sns.heatmap(weights.coeffs.values, annot = True, xticklabels = weights.weights.values)"
   ]
  },
  {
   "cell_type": "markdown",
   "metadata": {},
   "source": [
    "# Sjekk om vektene alltid har samme fortegn..? Det vil våære ufysisk eller bare lokale forskjeller\n",
    "## Har de samme tegn for ulike tranformasjoener av target og predictors. "
   ]
  },
  {
   "cell_type": "code",
   "execution_count": null,
   "metadata": {},
   "outputs": [],
   "source": []
  },
  {
   "cell_type": "code",
   "execution_count": null,
   "metadata": {},
   "outputs": [],
   "source": []
  }
 ],
 "metadata": {
  "kernelspec": {
   "display_name": "Python 3",
   "language": "python",
   "name": "python3"
  },
  "language_info": {
   "codemirror_mode": {
    "name": "ipython",
    "version": 3
   },
   "file_extension": ".py",
   "mimetype": "text/x-python",
   "name": "python",
   "nbconvert_exporter": "python",
   "pygments_lexer": "ipython3",
   "version": "3.7.6"
  }
 },
 "nbformat": 4,
 "nbformat_minor": 4
}
