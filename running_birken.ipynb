{
 "cells": [
  {
   "cell_type": "code",
   "execution_count": null,
   "metadata": {},
   "outputs": [],
   "source": []
  },
  {
   "cell_type": "code",
   "execution_count": 4,
   "metadata": {},
   "outputs": [],
   "source": [
    "end_distance = 21000  # m \n",
    "start_distance = 1500 # m "
   ]
  },
  {
   "cell_type": "code",
   "execution_count": 14,
   "metadata": {},
   "outputs": [],
   "source": [
    "days = int(123/3)"
   ]
  },
  {
   "cell_type": "code",
   "execution_count": 15,
   "metadata": {},
   "outputs": [
    {
     "data": {
      "text/plain": [
       "41"
      ]
     },
     "execution_count": 15,
     "metadata": {},
     "output_type": "execute_result"
    }
   ],
   "source": [
    "days "
   ]
  },
  {
   "cell_type": "markdown",
   "metadata": {},
   "source": [
    "# Persentage increase to go from 1500m to 21000 with 61 trips "
   ]
  },
  {
   "cell_type": "code",
   "execution_count": 19,
   "metadata": {},
   "outputs": [
    {
     "data": {
      "text/plain": [
       "0.1875"
      ]
     },
     "execution_count": 19,
     "metadata": {},
     "output_type": "execute_result"
    }
   ],
   "source": [
    "1.5/8"
   ]
  },
  {
   "cell_type": "code",
   "execution_count": 20,
   "metadata": {},
   "outputs": [
    {
     "data": {
      "text/plain": [
       "11.25"
      ]
     },
     "execution_count": 20,
     "metadata": {},
     "output_type": "execute_result"
    }
   ],
   "source": [
    "0.1875*60"
   ]
  },
  {
   "cell_type": "code",
   "execution_count": 16,
   "metadata": {},
   "outputs": [],
   "source": [
    "a = (end_distance/start_distance)**(1/40)"
   ]
  },
  {
   "cell_type": "code",
   "execution_count": 17,
   "metadata": {},
   "outputs": [
    {
     "data": {
      "text/plain": [
       "1.0682015428203717"
      ]
     },
     "execution_count": 17,
     "metadata": {},
     "output_type": "execute_result"
    }
   ],
   "source": [
    "a"
   ]
  },
  {
   "cell_type": "code",
   "execution_count": 23,
   "metadata": {},
   "outputs": [
    {
     "name": "stdout",
     "output_type": "stream",
     "text": [
      "1602.0\n",
      "1710.9360000000001\n",
      "1827.2796480000002\n",
      "1951.5346640640003\n",
      "2084.2390212203522\n",
      "2225.9672746633364\n",
      "2377.3330493404433\n",
      "2538.9916966955934\n",
      "2711.643132070894\n",
      "2896.034865051715\n",
      "3092.9652358752314\n",
      "3303.2868719147473\n",
      "3527.9103792049505\n",
      "3767.8082849908874\n",
      "4024.019248370268\n",
      "4297.652557259446\n",
      "4589.892931153089\n",
      "4902.005650471499\n",
      "5235.342034703562\n",
      "5591.345293063404\n",
      "5971.556772991716\n",
      "6377.622633555153\n",
      "6811.300972636904\n",
      "7274.469438776214\n",
      "7769.1333606129965\n",
      "8297.43442913468\n",
      "8861.659970315839\n",
      "9464.252848297316\n",
      "10107.822041981533\n",
      "10795.153940836279\n",
      "11529.224408813147\n",
      "12313.211668612441\n",
      "13150.510062078087\n",
      "14044.744746299397\n",
      "14999.787389047757\n",
      "16019.772931503005\n",
      "17109.11749084521\n",
      "18272.537480222683\n",
      "19515.070028877828\n",
      "20842.094790841522\n"
     ]
    }
   ],
   "source": [
    "start = 1500\n",
    "for i in range(40):\n",
    "    start = start*1.068\n",
    "    print(start)"
   ]
  },
  {
   "cell_type": "code",
   "execution_count": null,
   "metadata": {},
   "outputs": [],
   "source": []
  },
  {
   "cell_type": "code",
   "execution_count": null,
   "metadata": {},
   "outputs": [],
   "source": []
  }
 ],
 "metadata": {
  "kernelspec": {
   "display_name": "Python 3",
   "language": "python",
   "name": "python3"
  },
  "language_info": {
   "codemirror_mode": {
    "name": "ipython",
    "version": 3
   },
   "file_extension": ".py",
   "mimetype": "text/x-python",
   "name": "python",
   "nbconvert_exporter": "python",
   "pygments_lexer": "ipython3",
   "version": "3.6.2"
  }
 },
 "nbformat": 4,
 "nbformat_minor": 4
}
